{
 "cells": [
  {
   "cell_type": "code",
   "execution_count": 1,
   "metadata": {
    "ExecuteTime": {
     "end_time": "2020-05-15T16:41:12.678634Z",
     "start_time": "2020-05-15T16:41:12.124446Z"
    }
   },
   "outputs": [],
   "source": [
    "from sklearn.model_selection import train_test_split\n",
    "import pandas as pd"
   ]
  },
  {
   "cell_type": "code",
   "execution_count": 2,
   "metadata": {
    "ExecuteTime": {
     "end_time": "2020-05-15T16:41:18.831940Z",
     "start_time": "2020-05-15T16:41:13.195065Z"
    }
   },
   "outputs": [],
   "source": [
    "import pyspark as ps    # for the pyspark suite\n",
    "spark = (ps.sql.SparkSession\n",
    "         .builder\n",
    "         .master('local[4]')\n",
    "         .appName('lecture')\n",
    "         .getOrCreate()\n",
    "        )\n",
    "sc = spark.sparkContext"
   ]
  },
  {
   "cell_type": "markdown",
   "metadata": {},
   "source": [
    "# Data preprocessing"
   ]
  },
  {
   "cell_type": "markdown",
   "metadata": {},
   "source": [
    "## EDA"
   ]
  },
  {
   "cell_type": "code",
   "execution_count": 126,
   "metadata": {
    "ExecuteTime": {
     "end_time": "2020-05-15T05:00:06.576149Z",
     "start_time": "2020-05-15T05:00:06.191964Z"
    }
   },
   "outputs": [
    {
     "data": {
      "text/html": [
       "<div>\n",
       "<style scoped>\n",
       "    .dataframe tbody tr th:only-of-type {\n",
       "        vertical-align: middle;\n",
       "    }\n",
       "\n",
       "    .dataframe tbody tr th {\n",
       "        vertical-align: top;\n",
       "    }\n",
       "\n",
       "    .dataframe thead th {\n",
       "        text-align: right;\n",
       "    }\n",
       "</style>\n",
       "<table border=\"1\" class=\"dataframe\">\n",
       "  <thead>\n",
       "    <tr style=\"text-align: right;\">\n",
       "      <th></th>\n",
       "      <th>InvoiceNo</th>\n",
       "      <th>StockCode</th>\n",
       "      <th>Description</th>\n",
       "      <th>Quantity</th>\n",
       "      <th>InvoiceDate</th>\n",
       "      <th>UnitPrice</th>\n",
       "      <th>CustomerID</th>\n",
       "      <th>Country</th>\n",
       "    </tr>\n",
       "  </thead>\n",
       "  <tbody>\n",
       "    <tr>\n",
       "      <th>0</th>\n",
       "      <td>536365</td>\n",
       "      <td>85123A</td>\n",
       "      <td>WHITE HANGING HEART T-LIGHT HOLDER</td>\n",
       "      <td>6</td>\n",
       "      <td>12/1/2010 8:26</td>\n",
       "      <td>2.55</td>\n",
       "      <td>17850.0</td>\n",
       "      <td>United Kingdom</td>\n",
       "    </tr>\n",
       "    <tr>\n",
       "      <th>1</th>\n",
       "      <td>536365</td>\n",
       "      <td>71053</td>\n",
       "      <td>WHITE METAL LANTERN</td>\n",
       "      <td>6</td>\n",
       "      <td>12/1/2010 8:26</td>\n",
       "      <td>3.39</td>\n",
       "      <td>17850.0</td>\n",
       "      <td>United Kingdom</td>\n",
       "    </tr>\n",
       "    <tr>\n",
       "      <th>2</th>\n",
       "      <td>536365</td>\n",
       "      <td>84406B</td>\n",
       "      <td>CREAM CUPID HEARTS COAT HANGER</td>\n",
       "      <td>8</td>\n",
       "      <td>12/1/2010 8:26</td>\n",
       "      <td>2.75</td>\n",
       "      <td>17850.0</td>\n",
       "      <td>United Kingdom</td>\n",
       "    </tr>\n",
       "    <tr>\n",
       "      <th>3</th>\n",
       "      <td>536365</td>\n",
       "      <td>84029G</td>\n",
       "      <td>KNITTED UNION FLAG HOT WATER BOTTLE</td>\n",
       "      <td>6</td>\n",
       "      <td>12/1/2010 8:26</td>\n",
       "      <td>3.39</td>\n",
       "      <td>17850.0</td>\n",
       "      <td>United Kingdom</td>\n",
       "    </tr>\n",
       "    <tr>\n",
       "      <th>4</th>\n",
       "      <td>536365</td>\n",
       "      <td>84029E</td>\n",
       "      <td>RED WOOLLY HOTTIE WHITE HEART.</td>\n",
       "      <td>6</td>\n",
       "      <td>12/1/2010 8:26</td>\n",
       "      <td>3.39</td>\n",
       "      <td>17850.0</td>\n",
       "      <td>United Kingdom</td>\n",
       "    </tr>\n",
       "  </tbody>\n",
       "</table>\n",
       "</div>"
      ],
      "text/plain": [
       "  InvoiceNo StockCode                          Description  Quantity  \\\n",
       "0    536365    85123A   WHITE HANGING HEART T-LIGHT HOLDER         6   \n",
       "1    536365     71053                  WHITE METAL LANTERN         6   \n",
       "2    536365    84406B       CREAM CUPID HEARTS COAT HANGER         8   \n",
       "3    536365    84029G  KNITTED UNION FLAG HOT WATER BOTTLE         6   \n",
       "4    536365    84029E       RED WOOLLY HOTTIE WHITE HEART.         6   \n",
       "\n",
       "      InvoiceDate  UnitPrice  CustomerID         Country  \n",
       "0  12/1/2010 8:26       2.55     17850.0  United Kingdom  \n",
       "1  12/1/2010 8:26       3.39     17850.0  United Kingdom  \n",
       "2  12/1/2010 8:26       2.75     17850.0  United Kingdom  \n",
       "3  12/1/2010 8:26       3.39     17850.0  United Kingdom  \n",
       "4  12/1/2010 8:26       3.39     17850.0  United Kingdom  "
      ]
     },
     "execution_count": 126,
     "metadata": {},
     "output_type": "execute_result"
    }
   ],
   "source": [
    "df1 = pd.read_csv(\"data.csv\", encoding = \"ISO-8859-1\");df1.head()"
   ]
  },
  {
   "cell_type": "code",
   "execution_count": 127,
   "metadata": {
    "ExecuteTime": {
     "end_time": "2020-05-15T05:00:07.202658Z",
     "start_time": "2020-05-15T05:00:07.122119Z"
    }
   },
   "outputs": [
    {
     "name": "stdout",
     "output_type": "stream",
     "text": [
      "<class 'pandas.core.frame.DataFrame'>\n",
      "RangeIndex: 541909 entries, 0 to 541908\n",
      "Data columns (total 8 columns):\n",
      " #   Column       Non-Null Count   Dtype  \n",
      "---  ------       --------------   -----  \n",
      " 0   InvoiceNo    541909 non-null  object \n",
      " 1   StockCode    541909 non-null  object \n",
      " 2   Description  540455 non-null  object \n",
      " 3   Quantity     541909 non-null  int64  \n",
      " 4   InvoiceDate  541909 non-null  object \n",
      " 5   UnitPrice    541909 non-null  float64\n",
      " 6   CustomerID   406829 non-null  float64\n",
      " 7   Country      541909 non-null  object \n",
      "dtypes: float64(2), int64(1), object(5)\n",
      "memory usage: 33.1+ MB\n"
     ]
    }
   ],
   "source": [
    "df1.info()"
   ]
  },
  {
   "cell_type": "code",
   "execution_count": null,
   "metadata": {
    "ExecuteTime": {
     "start_time": "2020-05-15T05:00:07.722Z"
    }
   },
   "outputs": [],
   "source": [
    "df1[\"InvoiceDate\"] = df1[\"InvoiceDate\"].apply(lambda x: pd.to_datetime(x.split(\" \")[0]))"
   ]
  },
  {
   "cell_type": "code",
   "execution_count": null,
   "metadata": {
    "ExecuteTime": {
     "start_time": "2020-05-15T05:00:11.832Z"
    }
   },
   "outputs": [],
   "source": [
    "df1[\"InvoiceDate\"].describe()"
   ]
  },
  {
   "cell_type": "code",
   "execution_count": 147,
   "metadata": {
    "ExecuteTime": {
     "end_time": "2020-05-14T00:05:58.618585Z",
     "start_time": "2020-05-14T00:05:58.615099Z"
    }
   },
   "outputs": [],
   "source": [
    "g = df1.groupby(\"InvoiceDate\")"
   ]
  },
  {
   "cell_type": "code",
   "execution_count": 10,
   "metadata": {
    "ExecuteTime": {
     "end_time": "2020-05-15T05:13:54.269687Z",
     "start_time": "2020-05-15T05:13:54.134553Z"
    }
   },
   "outputs": [
    {
     "data": {
      "text/plain": [
       "<matplotlib.axes._subplots.AxesSubplot at 0x7f925de972e8>"
      ]
     },
     "execution_count": 10,
     "metadata": {},
     "output_type": "execute_result"
    },
    {
     "data": {
      "image/png": "[encoded data removed]",
      "text/plain": [
       "<Figure size 1008x288 with 1 Axes>"
      ]
     },
     "metadata": {
      "needs_background": "light"
     },
     "output_type": "display_data"
    }
   ],
   "source": [
    "g.InvoiceNo.count().plot(figsize=(14,4))"
   ]
  },
  {
   "cell_type": "code",
   "execution_count": 149,
   "metadata": {
    "ExecuteTime": {
     "end_time": "2020-05-14T00:06:03.466330Z",
     "start_time": "2020-05-14T00:06:03.373609Z"
    }
   },
   "outputs": [],
   "source": [
    "df1.dropna(inplace = True)"
   ]
  },
  {
   "cell_type": "code",
   "execution_count": 150,
   "metadata": {
    "ExecuteTime": {
     "end_time": "2020-05-14T00:06:09.714098Z",
     "start_time": "2020-05-14T00:06:06.526069Z"
    }
   },
   "outputs": [],
   "source": [
    "df1.to_csv(\"data2.csv\")"
   ]
  },
  {
   "cell_type": "code",
   "execution_count": 2,
   "metadata": {
    "ExecuteTime": {
     "end_time": "2020-05-15T05:03:40.339102Z",
     "start_time": "2020-05-15T05:03:40.055479Z"
    }
   },
   "outputs": [],
   "source": [
    "df = pd.read_csv(\"data2.csv\")"
   ]
  },
  {
   "cell_type": "code",
   "execution_count": 9,
   "metadata": {
    "ExecuteTime": {
     "end_time": "2020-05-15T05:12:35.213924Z",
     "start_time": "2020-05-15T05:12:35.151694Z"
    }
   },
   "outputs": [
    {
     "name": "stdout",
     "output_type": "stream",
     "text": [
      "<class 'pandas.core.frame.DataFrame'>\n",
      "RangeIndex: 406829 entries, 0 to 406828\n",
      "Data columns (total 10 columns):\n",
      " #   Column       Non-Null Count   Dtype  \n",
      "---  ------       --------------   -----  \n",
      " 0   Unnamed: 0   406829 non-null  int64  \n",
      " 1   InvoiceNo    406829 non-null  object \n",
      " 2   StockCode    406829 non-null  object \n",
      " 3   Description  406829 non-null  object \n",
      " 4   Quantity     406829 non-null  int64  \n",
      " 5   InvoiceDate  406829 non-null  object \n",
      " 6   UnitPrice    406829 non-null  float64\n",
      " 7   CustomerID   406829 non-null  float64\n",
      " 8   Country      406829 non-null  object \n",
      " 9   sales        406829 non-null  float64\n",
      "dtypes: float64(3), int64(2), object(5)\n",
      "memory usage: 31.0+ MB\n"
     ]
    }
   ],
   "source": [
    "df.info()"
   ]
  },
  {
   "cell_type": "code",
   "execution_count": 8,
   "metadata": {
    "ExecuteTime": {
     "end_time": "2020-05-15T05:12:17.824605Z",
     "start_time": "2020-05-15T05:12:17.738779Z"
    }
   },
   "outputs": [
    {
     "data": {
      "text/html": [
       "<div>\n",
       "<style scoped>\n",
       "    .dataframe tbody tr th:only-of-type {\n",
       "        vertical-align: middle;\n",
       "    }\n",
       "\n",
       "    .dataframe tbody tr th {\n",
       "        vertical-align: top;\n",
       "    }\n",
       "\n",
       "    .dataframe thead th {\n",
       "        text-align: right;\n",
       "    }\n",
       "</style>\n",
       "<table border=\"1\" class=\"dataframe\">\n",
       "  <thead>\n",
       "    <tr style=\"text-align: right;\">\n",
       "      <th></th>\n",
       "      <th>Unnamed: 0</th>\n",
       "      <th>Quantity</th>\n",
       "      <th>UnitPrice</th>\n",
       "      <th>CustomerID</th>\n",
       "      <th>sales</th>\n",
       "    </tr>\n",
       "  </thead>\n",
       "  <tbody>\n",
       "    <tr>\n",
       "      <th>count</th>\n",
       "      <td>406829.000000</td>\n",
       "      <td>406829.000000</td>\n",
       "      <td>406829.000000</td>\n",
       "      <td>406829.000000</td>\n",
       "      <td>406829.000000</td>\n",
       "    </tr>\n",
       "    <tr>\n",
       "      <th>mean</th>\n",
       "      <td>278048.159318</td>\n",
       "      <td>12.061303</td>\n",
       "      <td>3.460471</td>\n",
       "      <td>15287.690570</td>\n",
       "      <td>20.401854</td>\n",
       "    </tr>\n",
       "    <tr>\n",
       "      <th>std</th>\n",
       "      <td>152744.019884</td>\n",
       "      <td>248.693370</td>\n",
       "      <td>69.315162</td>\n",
       "      <td>1713.600303</td>\n",
       "      <td>427.591718</td>\n",
       "    </tr>\n",
       "    <tr>\n",
       "      <th>min</th>\n",
       "      <td>0.000000</td>\n",
       "      <td>-80995.000000</td>\n",
       "      <td>0.000000</td>\n",
       "      <td>12346.000000</td>\n",
       "      <td>-168469.600000</td>\n",
       "    </tr>\n",
       "    <tr>\n",
       "      <th>25%</th>\n",
       "      <td>147749.000000</td>\n",
       "      <td>2.000000</td>\n",
       "      <td>1.250000</td>\n",
       "      <td>13953.000000</td>\n",
       "      <td>4.200000</td>\n",
       "    </tr>\n",
       "    <tr>\n",
       "      <th>50%</th>\n",
       "      <td>284435.000000</td>\n",
       "      <td>5.000000</td>\n",
       "      <td>1.950000</td>\n",
       "      <td>15152.000000</td>\n",
       "      <td>11.100000</td>\n",
       "    </tr>\n",
       "    <tr>\n",
       "      <th>75%</th>\n",
       "      <td>409528.000000</td>\n",
       "      <td>12.000000</td>\n",
       "      <td>3.750000</td>\n",
       "      <td>16791.000000</td>\n",
       "      <td>19.500000</td>\n",
       "    </tr>\n",
       "    <tr>\n",
       "      <th>max</th>\n",
       "      <td>541908.000000</td>\n",
       "      <td>80995.000000</td>\n",
       "      <td>38970.000000</td>\n",
       "      <td>18287.000000</td>\n",
       "      <td>168469.600000</td>\n",
       "    </tr>\n",
       "  </tbody>\n",
       "</table>\n",
       "</div>"
      ],
      "text/plain": [
       "          Unnamed: 0       Quantity      UnitPrice     CustomerID  \\\n",
       "count  406829.000000  406829.000000  406829.000000  406829.000000   \n",
       "mean   278048.159318      12.061303       3.460471   15287.690570   \n",
       "std    152744.019884     248.693370      69.315162    1713.600303   \n",
       "min         0.000000  -80995.000000       0.000000   12346.000000   \n",
       "25%    147749.000000       2.000000       1.250000   13953.000000   \n",
       "50%    284435.000000       5.000000       1.950000   15152.000000   \n",
       "75%    409528.000000      12.000000       3.750000   16791.000000   \n",
       "max    541908.000000   80995.000000   38970.000000   18287.000000   \n",
       "\n",
       "               sales  \n",
       "count  406829.000000  \n",
       "mean       20.401854  \n",
       "std       427.591718  \n",
       "min   -168469.600000  \n",
       "25%         4.200000  \n",
       "50%        11.100000  \n",
       "75%        19.500000  \n",
       "max    168469.600000  "
      ]
     },
     "execution_count": 8,
     "metadata": {},
     "output_type": "execute_result"
    }
   ],
   "source": [
    "df.describe()"
   ]
  },
  {
   "cell_type": "code",
   "execution_count": 4,
   "metadata": {
    "ExecuteTime": {
     "end_time": "2020-05-15T05:04:54.034561Z",
     "start_time": "2020-05-15T05:04:54.025277Z"
    }
   },
   "outputs": [],
   "source": [
    "df[\"sales\"] = df[\"Quantity\"] * df[\"UnitPrice\"]"
   ]
  },
  {
   "cell_type": "code",
   "execution_count": 5,
   "metadata": {
    "ExecuteTime": {
     "end_time": "2020-05-15T05:05:09.981825Z",
     "start_time": "2020-05-15T05:05:09.970522Z"
    }
   },
   "outputs": [],
   "source": [
    "g = df.groupby(\"InvoiceDate\")"
   ]
  },
  {
   "cell_type": "code",
   "execution_count": 7,
   "metadata": {
    "ExecuteTime": {
     "end_time": "2020-05-15T05:06:13.895278Z",
     "start_time": "2020-05-15T05:06:13.756489Z"
    }
   },
   "outputs": [
    {
     "data": {
      "text/plain": [
       "<matplotlib.axes._subplots.AxesSubplot at 0x7f925d463400>"
      ]
     },
     "execution_count": 7,
     "metadata": {},
     "output_type": "execute_result"
    },
    {
     "data": {
      "image/png": "[encoded data removed]",
      "text/plain": [
       "<Figure size 1008x288 with 1 Axes>"
      ]
     },
     "metadata": {
      "needs_background": "light"
     },
     "output_type": "display_data"
    }
   ],
   "source": [
    "g.sales.sum().plot(figsize=(14,4))"
   ]
  },
  {
   "cell_type": "markdown",
   "metadata": {},
   "source": [
    "-----"
   ]
  },
  {
   "cell_type": "markdown",
   "metadata": {},
   "source": [
    "# Data pineline"
   ]
  },
  {
   "cell_type": "code",
   "execution_count": 7,
   "metadata": {
    "ExecuteTime": {
     "end_time": "2020-05-15T17:29:36.666324Z",
     "start_time": "2020-05-15T17:29:34.701644Z"
    }
   },
   "outputs": [],
   "source": [
    "df = spark.read.csv('data2.csv',\n",
    "                    header=True,       # use headers or not\n",
    "                    quote='\"',         # char for quotes\n",
    "                    sep=\",\",           # char for separation\n",
    "                    inferSchema=True)  # do we infer schema or not ?"
   ]
  },
  {
   "cell_type": "code",
   "execution_count": 8,
   "metadata": {
    "ExecuteTime": {
     "end_time": "2020-05-15T17:29:37.195968Z",
     "start_time": "2020-05-15T17:29:37.192528Z"
    }
   },
   "outputs": [
    {
     "name": "stdout",
     "output_type": "stream",
     "text": [
      "root\n",
      " |-- _c0: integer (nullable = true)\n",
      " |-- InvoiceNo: string (nullable = true)\n",
      " |-- StockCode: string (nullable = true)\n",
      " |-- Description: string (nullable = true)\n",
      " |-- Quantity: integer (nullable = true)\n",
      " |-- InvoiceDate: timestamp (nullable = true)\n",
      " |-- UnitPrice: double (nullable = true)\n",
      " |-- CustomerID: double (nullable = true)\n",
      " |-- Country: string (nullable = true)\n",
      "\n"
     ]
    }
   ],
   "source": [
    "df.printSchema()"
   ]
  },
  {
   "cell_type": "code",
   "execution_count": 9,
   "metadata": {
    "ExecuteTime": {
     "end_time": "2020-05-15T17:29:37.932689Z",
     "start_time": "2020-05-15T17:29:37.919350Z"
    }
   },
   "outputs": [],
   "source": [
    "df.createOrReplaceTempView('trans')"
   ]
  },
  {
   "cell_type": "code",
   "execution_count": 104,
   "metadata": {
    "ExecuteTime": {
     "end_time": "2020-05-14T21:13:35.083355Z",
     "start_time": "2020-05-14T21:13:33.300370Z"
    }
   },
   "outputs": [
    {
     "name": "stdout",
     "output_type": "stream",
     "text": [
      "+----------+-------------------+-------------------+---------------+---------------------+-------------------+\n",
      "|CustomerID|first_purchase_date| last_purchase_date|total_purchases|total_purchase_amount|last_2_months_spend|\n",
      "+----------+-------------------+-------------------+---------------+---------------------+-------------------+\n",
      "|   13094.0|2010-12-06 00:00:00|2011-09-20 00:00:00|             14|   1556.2200000000003|  457.9200000000001|\n",
      "|   14024.0|2011-08-07 00:00:00|2011-08-10 00:00:00|              2|                327.7|              327.7|\n",
      "|   16596.0|2010-12-08 00:00:00|2010-12-08 00:00:00|              1|               120.65|                0.0|\n",
      "|   13533.0|2011-03-17 00:00:00|2011-06-10 00:00:00|              2|               270.79|                0.0|\n",
      "|   17633.0|2010-12-15 00:00:00|2011-09-29 00:00:00|              4|                937.0|             1004.5|\n",
      "|   17884.0|2010-12-03 00:00:00|2011-02-01 00:00:00|              3|               602.84|                0.0|\n",
      "|   16629.0|2011-09-04 00:00:00|2011-09-27 00:00:00|              2|    417.7299999999999|  417.7299999999999|\n",
      "|   13956.0|2011-03-13 00:00:00|2011-07-24 00:00:00|              3|               680.27|                0.0|\n",
      "|   12493.0|2011-05-26 00:00:00|2011-06-27 00:00:00|              3|               416.79|                0.0|\n",
      "|   14768.0|2011-08-04 00:00:00|2011-09-22 00:00:00|              2|    80.10000000000002|  80.10000000000002|\n",
      "|   14452.0|2011-09-07 00:00:00|2011-09-07 00:00:00|              1|               127.37|             127.37|\n",
      "|   16916.0|2010-12-02 00:00:00|2010-12-02 00:00:00|              1|   198.07999999999996|                0.0|\n",
      "|   13973.0|2011-02-25 00:00:00|2011-02-25 00:00:00|              1|                264.7|                0.0|\n",
      "|   14473.0|2011-03-02 00:00:00|2011-09-26 00:00:00|              2|   234.34000000000003| 149.34000000000003|\n",
      "|   14285.0|2011-06-16 00:00:00|2011-09-25 00:00:00|              2|   1253.4300000000003| 1247.5300000000002|\n",
      "|   17267.0|2011-08-04 00:00:00|2011-08-04 00:00:00|              1|   317.61999999999995| 317.61999999999995|\n",
      "|   13918.0|2011-03-31 00:00:00|2011-03-31 00:00:00|              1|   198.20000000000002|                0.0|\n",
      "|   15776.0|2011-07-29 00:00:00|2011-07-29 00:00:00|              1|   241.62000000000003|                0.0|\n",
      "|   18114.0|2011-02-22 00:00:00|2011-02-22 00:00:00|              1|                220.1|                0.0|\n",
      "|   16656.0|2010-12-10 00:00:00|2011-09-21 00:00:00|             17|    7416.449999999999|            2204.68|\n",
      "+----------+-------------------+-------------------+---------------+---------------------+-------------------+\n",
      "only showing top 20 rows\n",
      "\n"
     ]
    }
   ],
   "source": [
    "query = \"\"\"SELECT distinct CustomerID, \n",
    "                min(InvoiceDate) as first_purchase_date,\n",
    "                max(InvoiceDate) as last_purchase_date,\n",
    "                count(distinct InvoiceDate) as total_purchases,\n",
    "                sum(Quantity * UnitPrice) as total_purchase_amount,\n",
    "                SUM(CASE WHEN InvoiceDate > '2011-07-31' THEN Quantity * UnitPrice ELSE 0 END) AS last_2_months_spend\n",
    "                FROM trans\n",
    "                WHERE InvoiceDate between '2010-11-30' and '2011-10-01'\n",
    "                GROUP BY CustomerID\n",
    "             \"\"\"\n",
    "sdf = spark.sql(query)\n",
    "sdf.show()"
   ]
  },
  {
   "cell_type": "code",
   "execution_count": 105,
   "metadata": {
    "ExecuteTime": {
     "end_time": "2020-05-14T21:13:38.742897Z",
     "start_time": "2020-05-14T21:13:35.824892Z"
    }
   },
   "outputs": [],
   "source": [
    "rdf = sdf.toPandas()"
   ]
  },
  {
   "cell_type": "code",
   "execution_count": null,
   "metadata": {
    "ExecuteTime": {
     "end_time": "2020-05-14T21:13:38.768920Z",
     "start_time": "2020-05-14T21:13:36.175Z"
    }
   },
   "outputs": [],
   "source": [
    "pd.to_datetime(rdf.last_purchase_date).max()"
   ]
  },
  {
   "cell_type": "code",
   "execution_count": null,
   "metadata": {
    "ExecuteTime": {
     "end_time": "2020-05-14T21:13:38.770376Z",
     "start_time": "2020-05-14T21:13:36.559Z"
    }
   },
   "outputs": [],
   "source": [
    "pd.to_datetime(rdf.first_purchase_date).min()"
   ]
  },
  {
   "cell_type": "code",
   "execution_count": 106,
   "metadata": {
    "ExecuteTime": {
     "end_time": "2020-05-14T21:13:39.845588Z",
     "start_time": "2020-05-14T21:13:39.831494Z"
    }
   },
   "outputs": [
    {
     "data": {
      "text/html": [
       "<div>\n",
       "<style scoped>\n",
       "    .dataframe tbody tr th:only-of-type {\n",
       "        vertical-align: middle;\n",
       "    }\n",
       "\n",
       "    .dataframe tbody tr th {\n",
       "        vertical-align: top;\n",
       "    }\n",
       "\n",
       "    .dataframe thead th {\n",
       "        text-align: right;\n",
       "    }\n",
       "</style>\n",
       "<table border=\"1\" class=\"dataframe\">\n",
       "  <thead>\n",
       "    <tr style=\"text-align: right;\">\n",
       "      <th></th>\n",
       "      <th>CustomerID</th>\n",
       "      <th>first_purchase_date</th>\n",
       "      <th>last_purchase_date</th>\n",
       "      <th>total_purchases</th>\n",
       "      <th>total_purchase_amount</th>\n",
       "      <th>last_2_months_spend</th>\n",
       "    </tr>\n",
       "  </thead>\n",
       "  <tbody>\n",
       "    <tr>\n",
       "      <th>0</th>\n",
       "      <td>13094.0</td>\n",
       "      <td>2010-12-06</td>\n",
       "      <td>2011-09-20</td>\n",
       "      <td>14</td>\n",
       "      <td>1556.22</td>\n",
       "      <td>457.92</td>\n",
       "    </tr>\n",
       "    <tr>\n",
       "      <th>1</th>\n",
       "      <td>14024.0</td>\n",
       "      <td>2011-08-07</td>\n",
       "      <td>2011-08-10</td>\n",
       "      <td>2</td>\n",
       "      <td>327.70</td>\n",
       "      <td>327.70</td>\n",
       "    </tr>\n",
       "    <tr>\n",
       "      <th>2</th>\n",
       "      <td>16596.0</td>\n",
       "      <td>2010-12-08</td>\n",
       "      <td>2010-12-08</td>\n",
       "      <td>1</td>\n",
       "      <td>120.65</td>\n",
       "      <td>0.00</td>\n",
       "    </tr>\n",
       "    <tr>\n",
       "      <th>3</th>\n",
       "      <td>13533.0</td>\n",
       "      <td>2011-03-17</td>\n",
       "      <td>2011-06-10</td>\n",
       "      <td>2</td>\n",
       "      <td>270.79</td>\n",
       "      <td>0.00</td>\n",
       "    </tr>\n",
       "    <tr>\n",
       "      <th>4</th>\n",
       "      <td>17633.0</td>\n",
       "      <td>2010-12-15</td>\n",
       "      <td>2011-09-29</td>\n",
       "      <td>4</td>\n",
       "      <td>937.00</td>\n",
       "      <td>1004.50</td>\n",
       "    </tr>\n",
       "    <tr>\n",
       "      <th>...</th>\n",
       "      <td>...</td>\n",
       "      <td>...</td>\n",
       "      <td>...</td>\n",
       "      <td>...</td>\n",
       "      <td>...</td>\n",
       "      <td>...</td>\n",
       "    </tr>\n",
       "    <tr>\n",
       "      <th>3653</th>\n",
       "      <td>15510.0</td>\n",
       "      <td>2011-01-13</td>\n",
       "      <td>2011-01-13</td>\n",
       "      <td>1</td>\n",
       "      <td>250.00</td>\n",
       "      <td>0.00</td>\n",
       "    </tr>\n",
       "    <tr>\n",
       "      <th>3654</th>\n",
       "      <td>17551.0</td>\n",
       "      <td>2010-12-15</td>\n",
       "      <td>2010-12-15</td>\n",
       "      <td>1</td>\n",
       "      <td>306.84</td>\n",
       "      <td>0.00</td>\n",
       "    </tr>\n",
       "    <tr>\n",
       "      <th>3655</th>\n",
       "      <td>16162.0</td>\n",
       "      <td>2011-04-01</td>\n",
       "      <td>2011-04-01</td>\n",
       "      <td>1</td>\n",
       "      <td>37.40</td>\n",
       "      <td>0.00</td>\n",
       "    </tr>\n",
       "    <tr>\n",
       "      <th>3656</th>\n",
       "      <td>14155.0</td>\n",
       "      <td>2011-03-18</td>\n",
       "      <td>2011-03-18</td>\n",
       "      <td>1</td>\n",
       "      <td>118.75</td>\n",
       "      <td>0.00</td>\n",
       "    </tr>\n",
       "    <tr>\n",
       "      <th>3657</th>\n",
       "      <td>17984.0</td>\n",
       "      <td>2011-07-17</td>\n",
       "      <td>2011-07-17</td>\n",
       "      <td>1</td>\n",
       "      <td>152.68</td>\n",
       "      <td>0.00</td>\n",
       "    </tr>\n",
       "  </tbody>\n",
       "</table>\n",
       "<p>3658 rows × 6 columns</p>\n",
       "</div>"
      ],
      "text/plain": [
       "      CustomerID first_purchase_date last_purchase_date  total_purchases  \\\n",
       "0        13094.0          2010-12-06         2011-09-20               14   \n",
       "1        14024.0          2011-08-07         2011-08-10                2   \n",
       "2        16596.0          2010-12-08         2010-12-08                1   \n",
       "3        13533.0          2011-03-17         2011-06-10                2   \n",
       "4        17633.0          2010-12-15         2011-09-29                4   \n",
       "...          ...                 ...                ...              ...   \n",
       "3653     15510.0          2011-01-13         2011-01-13                1   \n",
       "3654     17551.0          2010-12-15         2010-12-15                1   \n",
       "3655     16162.0          2011-04-01         2011-04-01                1   \n",
       "3656     14155.0          2011-03-18         2011-03-18                1   \n",
       "3657     17984.0          2011-07-17         2011-07-17                1   \n",
       "\n",
       "      total_purchase_amount  last_2_months_spend  \n",
       "0                   1556.22               457.92  \n",
       "1                    327.70               327.70  \n",
       "2                    120.65                 0.00  \n",
       "3                    270.79                 0.00  \n",
       "4                    937.00              1004.50  \n",
       "...                     ...                  ...  \n",
       "3653                 250.00                 0.00  \n",
       "3654                 306.84                 0.00  \n",
       "3655                  37.40                 0.00  \n",
       "3656                 118.75                 0.00  \n",
       "3657                 152.68                 0.00  \n",
       "\n",
       "[3658 rows x 6 columns]"
      ]
     },
     "execution_count": 106,
     "metadata": {},
     "output_type": "execute_result"
    }
   ],
   "source": [
    "rdf"
   ]
  },
  {
   "cell_type": "code",
   "execution_count": 107,
   "metadata": {
    "ExecuteTime": {
     "end_time": "2020-05-14T21:13:41.138433Z",
     "start_time": "2020-05-14T21:13:40.131535Z"
    }
   },
   "outputs": [],
   "source": [
    "rdf = sdf.toPandas()\n",
    "rdf.to_csv(\"predictor.csv\")"
   ]
  },
  {
   "cell_type": "code",
   "execution_count": 108,
   "metadata": {
    "ExecuteTime": {
     "end_time": "2020-05-14T21:13:43.444753Z",
     "start_time": "2020-05-14T21:13:41.948238Z"
    }
   },
   "outputs": [
    {
     "name": "stdout",
     "output_type": "stream",
     "text": [
      "+----------+-------------------+-------------------+---------------+---------------------+\n",
      "|CustomerID|first_purchase_date| last_purchase_date|total_purchases|total_purchase_amount|\n",
      "+----------+-------------------+-------------------+---------------+---------------------+\n",
      "|   16561.0|2011-10-11 00:00:00|2011-10-11 00:00:00|              1|   264.96000000000004|\n",
      "|   16596.0|2011-11-24 00:00:00|2011-11-24 00:00:00|              1|                129.5|\n",
      "|   17633.0|2011-10-06 00:00:00|2011-11-08 00:00:00|              2|   305.34000000000003|\n",
      "|   16916.0|2011-11-16 00:00:00|2011-11-16 00:00:00|              1|   378.17999999999995|\n",
      "|   13956.0|2011-10-16 00:00:00|2011-10-16 00:00:00|              1|   189.64999999999998|\n",
      "|   14768.0|2011-11-22 00:00:00|2011-11-22 00:00:00|              1|   59.400000000000006|\n",
      "|   13918.0|2011-10-21 00:00:00|2011-10-21 00:00:00|              1|   1014.6399999999999|\n",
      "|   14452.0|2011-11-29 00:00:00|2011-11-29 00:00:00|              1|   137.07000000000002|\n",
      "|   14285.0|2011-11-02 00:00:00|2011-11-18 00:00:00|              2|               656.58|\n",
      "|   13094.0|2011-11-18 00:00:00|2011-11-18 00:00:00|              1|   152.64000000000001|\n",
      "|   13607.0|2011-10-30 00:00:00|2011-10-30 00:00:00|              1|    678.0099999999996|\n",
      "|   13142.0|2011-11-20 00:00:00|2011-11-20 00:00:00|              1|    307.0899999999999|\n",
      "|   16212.0|2011-11-20 00:00:00|2011-11-20 00:00:00|              1|               192.19|\n",
      "|   16656.0|2011-10-28 00:00:00|2011-11-17 00:00:00|              4|              1151.79|\n",
      "|   13160.0|2011-11-17 00:00:00|2011-11-17 00:00:00|              1|                 91.8|\n",
      "|   13930.0|2011-10-13 00:00:00|2011-10-13 00:00:00|              1|               127.34|\n",
      "|   15145.0|2011-10-27 00:00:00|2011-10-27 00:00:00|              1|               312.34|\n",
      "|   18277.0|2011-10-12 00:00:00|2011-10-12 00:00:00|              1|               110.38|\n",
      "|   15311.0|2011-10-03 00:00:00|2011-11-29 00:00:00|             18|   11010.260000000002|\n",
      "|   16353.0|2011-10-02 00:00:00|2011-11-22 00:00:00|              4|               2376.3|\n",
      "+----------+-------------------+-------------------+---------------+---------------------+\n",
      "only showing top 20 rows\n",
      "\n"
     ]
    }
   ],
   "source": [
    "query = \"\"\"SELECT distinct CustomerID, \n",
    "                min(InvoiceDate) as first_purchase_date,\n",
    "                max(InvoiceDate) as last_purchase_date,\n",
    "                count(distinct InvoiceDate) as total_purchases,\n",
    "                sum(Quantity * UnitPrice) as total_purchase_amount\n",
    "                FROM trans\n",
    "                WHERE InvoiceDate between '2011-09-30' and '2011-12-01'\n",
    "                GROUP BY CustomerID\n",
    "             \"\"\"\n",
    "sdf = spark.sql(query)\n",
    "sdf.show()"
   ]
  },
  {
   "cell_type": "code",
   "execution_count": 109,
   "metadata": {
    "ExecuteTime": {
     "end_time": "2020-05-14T21:13:46.356090Z",
     "start_time": "2020-05-14T21:13:44.173921Z"
    }
   },
   "outputs": [],
   "source": [
    "pdf = sdf.toPandas()\n",
    "pdf.to_csv(\"target.csv\")"
   ]
  },
  {
   "cell_type": "markdown",
   "metadata": {},
   "source": [
    "## Churn Model"
   ]
  },
  {
   "cell_type": "code",
   "execution_count": 74,
   "metadata": {
    "ExecuteTime": {
     "end_time": "2020-05-14T21:04:49.686756Z",
     "start_time": "2020-05-14T21:04:49.616907Z"
    }
   },
   "outputs": [],
   "source": [
    "# Datebase for Churn prediction\n",
    "fdf = pd.merge(rdf, pdf[[\"CustomerID\",\"total_purchase_amount\"]], how=\"left\", left_on=\"CustomerID\", right_on=\"CustomerID\")\n",
    "fdf.rename({\"total_purchase_amount_y\":\"next_2_months_spend\"}, axis=1, inplace=True)\n",
    "fdf[\"churn\"] = fdf[\"next_2_months_spend\"].apply(lambda x:0 if x>0 else 1)\n",
    "\n",
    "df_train, df_test= train_test_split(fdf, shuffle=True, test_size=0.2, random_state=42)\n",
    "df_train.to_csv(\"fdb_churn_train.csv\")\n",
    "df_test.to_csv(\"fdb_churn_test.csv\")"
   ]
  },
  {
   "cell_type": "markdown",
   "metadata": {},
   "source": [
    "## RFM Model\n"
   ]
  },
  {
   "cell_type": "code",
   "execution_count": null,
   "metadata": {},
   "outputs": [],
   "source": []
  },
  {
   "cell_type": "code",
   "execution_count": 110,
   "metadata": {
    "ExecuteTime": {
     "end_time": "2020-05-14T21:13:49.164323Z",
     "start_time": "2020-05-14T21:13:49.147080Z"
    }
   },
   "outputs": [],
   "source": [
    "rdf = pd.read_csv(\"predictor.csv\",index_col=0)\n",
    "pdf = pd.read_csv(\"target.csv\", index_col=0)"
   ]
  },
  {
   "cell_type": "code",
   "execution_count": 111,
   "metadata": {
    "ExecuteTime": {
     "end_time": "2020-05-14T21:13:49.487360Z",
     "start_time": "2020-05-14T21:13:49.477221Z"
    }
   },
   "outputs": [
    {
     "name": "stdout",
     "output_type": "stream",
     "text": [
      "<class 'pandas.core.frame.DataFrame'>\n",
      "Int64Index: 3658 entries, 0 to 3657\n",
      "Data columns (total 6 columns):\n",
      " #   Column                 Non-Null Count  Dtype  \n",
      "---  ------                 --------------  -----  \n",
      " 0   CustomerID             3658 non-null   float64\n",
      " 1   first_purchase_date    3658 non-null   object \n",
      " 2   last_purchase_date     3658 non-null   object \n",
      " 3   total_purchases        3658 non-null   int64  \n",
      " 4   total_purchase_amount  3658 non-null   float64\n",
      " 5   last_2_months_spend    3658 non-null   float64\n",
      "dtypes: float64(3), int64(1), object(2)\n",
      "memory usage: 200.0+ KB\n"
     ]
    }
   ],
   "source": [
    "rdf.info()"
   ]
  },
  {
   "cell_type": "code",
   "execution_count": 112,
   "metadata": {
    "ExecuteTime": {
     "end_time": "2020-05-14T21:13:49.903319Z",
     "start_time": "2020-05-14T21:13:49.872601Z"
    }
   },
   "outputs": [],
   "source": [
    "# Datebase for RFM prediction\n",
    "# pdf[\"recency\"] = pd.to_datetime(\"2013-03-02\") - pd.to_datetime(pdf[\"last_purchase_date\"]) \n",
    "pdf[\"recency\"] = pd.to_datetime('2011-12-01') - pd.to_datetime(pdf[\"last_purchase_date\"])\n",
    "pdf[\"recency\"] = pdf[\"recency\"].apply(lambda x:x.days)\n",
    "pdf[\"monetery\"] = pdf[\"total_purchase_amount\"]/pdf[\"total_purchases\"]\n",
    "pdf.rename({\"total_purchases\" : \"frequency\"},\n",
    "           axis = 1,\n",
    "          inplace = True)"
   ]
  },
  {
   "cell_type": "code",
   "execution_count": 113,
   "metadata": {
    "ExecuteTime": {
     "end_time": "2020-05-14T21:13:50.239629Z",
     "start_time": "2020-05-14T21:13:50.219505Z"
    }
   },
   "outputs": [
    {
     "data": {
      "text/html": [
       "<div>\n",
       "<style scoped>\n",
       "    .dataframe tbody tr th:only-of-type {\n",
       "        vertical-align: middle;\n",
       "    }\n",
       "\n",
       "    .dataframe tbody tr th {\n",
       "        vertical-align: top;\n",
       "    }\n",
       "\n",
       "    .dataframe thead th {\n",
       "        text-align: right;\n",
       "    }\n",
       "</style>\n",
       "<table border=\"1\" class=\"dataframe\">\n",
       "  <thead>\n",
       "    <tr style=\"text-align: right;\">\n",
       "      <th></th>\n",
       "      <th>recency</th>\n",
       "      <th>frequency</th>\n",
       "      <th>monetery</th>\n",
       "    </tr>\n",
       "  </thead>\n",
       "  <tbody>\n",
       "    <tr>\n",
       "      <th>count</th>\n",
       "      <td>2466.000000</td>\n",
       "      <td>2466.000000</td>\n",
       "      <td>2466.000000</td>\n",
       "    </tr>\n",
       "    <tr>\n",
       "      <th>mean</th>\n",
       "      <td>22.894566</td>\n",
       "      <td>1.896999</td>\n",
       "      <td>403.215823</td>\n",
       "    </tr>\n",
       "    <tr>\n",
       "      <th>std</th>\n",
       "      <td>17.140969</td>\n",
       "      <td>1.808234</td>\n",
       "      <td>562.731309</td>\n",
       "    </tr>\n",
       "    <tr>\n",
       "      <th>min</th>\n",
       "      <td>1.000000</td>\n",
       "      <td>1.000000</td>\n",
       "      <td>-788.380000</td>\n",
       "    </tr>\n",
       "    <tr>\n",
       "      <th>25%</th>\n",
       "      <td>9.000000</td>\n",
       "      <td>1.000000</td>\n",
       "      <td>170.891667</td>\n",
       "    </tr>\n",
       "    <tr>\n",
       "      <th>50%</th>\n",
       "      <td>18.000000</td>\n",
       "      <td>1.000000</td>\n",
       "      <td>292.270000</td>\n",
       "    </tr>\n",
       "    <tr>\n",
       "      <th>75%</th>\n",
       "      <td>36.000000</td>\n",
       "      <td>2.000000</td>\n",
       "      <td>449.678750</td>\n",
       "    </tr>\n",
       "    <tr>\n",
       "      <th>max</th>\n",
       "      <td>62.000000</td>\n",
       "      <td>37.000000</td>\n",
       "      <td>13602.470000</td>\n",
       "    </tr>\n",
       "  </tbody>\n",
       "</table>\n",
       "</div>"
      ],
      "text/plain": [
       "           recency    frequency      monetery\n",
       "count  2466.000000  2466.000000   2466.000000\n",
       "mean     22.894566     1.896999    403.215823\n",
       "std      17.140969     1.808234    562.731309\n",
       "min       1.000000     1.000000   -788.380000\n",
       "25%       9.000000     1.000000    170.891667\n",
       "50%      18.000000     1.000000    292.270000\n",
       "75%      36.000000     2.000000    449.678750\n",
       "max      62.000000    37.000000  13602.470000"
      ]
     },
     "execution_count": 113,
     "metadata": {},
     "output_type": "execute_result"
    }
   ],
   "source": [
    "pdf[[\"recency\",'frequency','monetery']].describe()"
   ]
  },
  {
   "cell_type": "code",
   "execution_count": 114,
   "metadata": {
    "ExecuteTime": {
     "end_time": "2020-05-14T21:13:50.589353Z",
     "start_time": "2020-05-14T21:13:50.570329Z"
    }
   },
   "outputs": [],
   "source": [
    "# --Calculate R and F groups--\n",
    "# Create labels for Recency and Frequency\n",
    "r_labels = range(2, 0, -1); f_labels = range(1, 3)\n",
    "# Assign these labels to 4 equal percentile groups \n",
    "r_groups = pd.qcut(pdf['recency'], [0,0.25,1], labels=r_labels, duplicates='drop')\n",
    "# Assign these labels to 4 equal percentile groups y_test2\n",
    "f_groups = pd.qcut(pdf['frequency'], [0,0.75,1], labels=f_labels, duplicates='drop')\n",
    "# Create new columns R and F \n",
    "pdf = pdf.assign(R = r_groups.values, F = f_groups.values)\n",
    "\n",
    "# Create labels for MonetaryValue\n",
    "m_labels = range(1, 3)\n",
    "# Assign these labels to three equal percentile groups \n",
    "m_groups = pd.qcut(pdf['monetery'], [0,0.25,1], labels=m_labels, duplicates='drop')\n",
    "# Create new column M\n",
    "pdf = pdf.assign(M = m_groups.values)"
   ]
  },
  {
   "cell_type": "code",
   "execution_count": 115,
   "metadata": {
    "ExecuteTime": {
     "end_time": "2020-05-14T21:13:50.945196Z",
     "start_time": "2020-05-14T21:13:50.936256Z"
    }
   },
   "outputs": [
    {
     "name": "stdout",
     "output_type": "stream",
     "text": [
      "<class 'pandas.core.frame.DataFrame'>\n",
      "Int64Index: 2466 entries, 0 to 2465\n",
      "Data columns (total 10 columns):\n",
      " #   Column                 Non-Null Count  Dtype   \n",
      "---  ------                 --------------  -----   \n",
      " 0   CustomerID             2466 non-null   float64 \n",
      " 1   first_purchase_date    2466 non-null   object  \n",
      " 2   last_purchase_date     2466 non-null   object  \n",
      " 3   frequency              2466 non-null   int64   \n",
      " 4   total_purchase_amount  2466 non-null   float64 \n",
      " 5   recency                2466 non-null   int64   \n",
      " 6   monetery               2466 non-null   float64 \n",
      " 7   R                      2466 non-null   category\n",
      " 8   F                      2466 non-null   category\n",
      " 9   M                      2466 non-null   category\n",
      "dtypes: category(3), float64(3), int64(2), object(2)\n",
      "memory usage: 161.7+ KB\n"
     ]
    }
   ],
   "source": [
    "pdf.info()"
   ]
  },
  {
   "cell_type": "code",
   "execution_count": 116,
   "metadata": {
    "ExecuteTime": {
     "end_time": "2020-05-14T21:13:51.351531Z",
     "start_time": "2020-05-14T21:13:51.303819Z"
    }
   },
   "outputs": [],
   "source": [
    "pdf[\"RFM\"] = pdf[\"R\"].astype(str) + \"-\"  + pdf[\"F\"].astype(str) + \"-\" + pdf[\"M\"].astype(str)\n",
    "\n",
    "# Datebase for RFM prediction\n",
    "# fdf = pd.merge(rdf, pdf[[\"id\",\"RFM\", \"monetery\"]], how=\"left\", left_on=\"id\", right_on=\"id\")\n",
    "fdf = pd.merge(rdf, pdf[[\"CustomerID\",\"RFM\",\"total_purchase_amount\"]], how=\"left\", left_on=\"CustomerID\", right_on=\"CustomerID\")\n",
    "\n",
    "fdf.rename({\"total_purchase_amount_y\":\"next_2_months_spend\"}, axis=1, inplace=True)\n",
    "fdf[\"RFM\"] = fdf[\"RFM\"].fillna(\"1-1-1\")\n",
    "fdf[\"next_2_months_spend\"] = fdf[\"next_2_months_spend\"].fillna(0)\n",
    "\n",
    "df_train, df_test= train_test_split(fdf, shuffle=True, test_size=0.2, random_state=42)\n",
    "df_train.to_csv(\"fdb_RFM3_train.csv\")\n",
    "df_test.to_csv(\"fdb_RFM3_test.csv\")"
   ]
  },
  {
   "cell_type": "code",
   "execution_count": 117,
   "metadata": {
    "ExecuteTime": {
     "end_time": "2020-05-14T21:13:51.760530Z",
     "start_time": "2020-05-14T21:13:51.753927Z"
    }
   },
   "outputs": [
    {
     "data": {
      "text/plain": [
       "1-1-1    2139\n",
       "1-1-2     785\n",
       "2-2-2     230\n",
       "2-1-2     210\n",
       "1-2-2     141\n",
       "2-1-1      68\n",
       "2-2-1      45\n",
       "1-2-1      40\n",
       "Name: RFM, dtype: int64"
      ]
     },
     "execution_count": 117,
     "metadata": {},
     "output_type": "execute_result"
    }
   ],
   "source": [
    "fdf[\"RFM\"].value_counts()"
   ]
  },
  {
   "cell_type": "code",
   "execution_count": 118,
   "metadata": {
    "ExecuteTime": {
     "end_time": "2020-05-14T21:13:52.308646Z",
     "start_time": "2020-05-14T21:13:52.300102Z"
    }
   },
   "outputs": [
    {
     "name": "stdout",
     "output_type": "stream",
     "text": [
      "<class 'pandas.core.frame.DataFrame'>\n",
      "Int64Index: 3658 entries, 0 to 3657\n",
      "Data columns (total 8 columns):\n",
      " #   Column                   Non-Null Count  Dtype  \n",
      "---  ------                   --------------  -----  \n",
      " 0   CustomerID               3658 non-null   float64\n",
      " 1   first_purchase_date      3658 non-null   object \n",
      " 2   last_purchase_date       3658 non-null   object \n",
      " 3   total_purchases          3658 non-null   int64  \n",
      " 4   total_purchase_amount_x  3658 non-null   float64\n",
      " 5   last_2_months_spend      3658 non-null   float64\n",
      " 6   RFM                      3658 non-null   object \n",
      " 7   next_2_months_spend      3658 non-null   float64\n",
      "dtypes: float64(4), int64(1), object(3)\n",
      "memory usage: 257.2+ KB\n"
     ]
    }
   ],
   "source": [
    "fdf.info()"
   ]
  },
  {
   "cell_type": "code",
   "execution_count": 119,
   "metadata": {
    "ExecuteTime": {
     "end_time": "2020-05-14T21:13:54.697811Z",
     "start_time": "2020-05-14T21:13:54.671809Z"
    }
   },
   "outputs": [],
   "source": [
    "df_train, df_test= train_test_split(fdf, shuffle=True, test_size=0.2, random_state=42)\n",
    "df_train.to_csv(\"fdb_RFM3_train.csv\")\n",
    "df_test.to_csv(\"fdb_RFM3_test.csv\")"
   ]
  },
  {
   "cell_type": "markdown",
   "metadata": {},
   "source": [
    "## Data for supervised learning"
   ]
  },
  {
   "cell_type": "code",
   "execution_count": 12,
   "metadata": {
    "ExecuteTime": {
     "end_time": "2020-05-15T17:33:01.790907Z",
     "start_time": "2020-05-15T17:32:49.738460Z"
    }
   },
   "outputs": [
    {
     "name": "stdout",
     "output_type": "stream",
     "text": [
      "+----------+-------------------+-------------------+---------------+---------------------+\n",
      "|CustomerID|first_purchase_date| last_purchase_date|total_purchases|total_purchase_amount|\n",
      "+----------+-------------------+-------------------+---------------+---------------------+\n",
      "|   13094.0|2010-12-06 00:00:00|2011-07-06 00:00:00|             12|   1098.3000000000002|\n",
      "|   16596.0|2010-12-08 00:00:00|2010-12-08 00:00:00|              1|               120.65|\n",
      "|   13533.0|2011-03-17 00:00:00|2011-06-10 00:00:00|              2|               270.79|\n",
      "|   17884.0|2010-12-03 00:00:00|2011-02-01 00:00:00|              3|               602.84|\n",
      "|   13956.0|2011-03-13 00:00:00|2011-07-24 00:00:00|              3|               680.27|\n",
      "|   12493.0|2011-05-26 00:00:00|2011-06-27 00:00:00|              3|               416.79|\n",
      "|   17633.0|2010-12-15 00:00:00|2010-12-15 00:00:00|              1|                -67.5|\n",
      "|   16916.0|2010-12-02 00:00:00|2010-12-02 00:00:00|              1|   198.07999999999996|\n",
      "|   13973.0|2011-02-25 00:00:00|2011-02-25 00:00:00|              1|                264.7|\n",
      "|   14473.0|2011-03-02 00:00:00|2011-03-02 00:00:00|              1|                 85.0|\n",
      "|   14285.0|2011-06-16 00:00:00|2011-06-16 00:00:00|              1|                  5.9|\n",
      "|   13918.0|2011-03-31 00:00:00|2011-03-31 00:00:00|              1|   198.20000000000002|\n",
      "|   15776.0|2011-07-29 00:00:00|2011-07-29 00:00:00|              1|   241.62000000000003|\n",
      "|   18114.0|2011-02-22 00:00:00|2011-02-22 00:00:00|              1|                220.1|\n",
      "|   16656.0|2010-12-10 00:00:00|2011-07-19 00:00:00|             11|              5211.77|\n",
      "|   16858.0|2010-12-06 00:00:00|2010-12-08 00:00:00|              2|   345.89000000000004|\n",
      "|   14760.0|2011-02-15 00:00:00|2011-02-18 00:00:00|              2|                 53.8|\n",
      "|   15145.0|2011-04-05 00:00:00|2011-04-26 00:00:00|              2|               724.03|\n",
      "|   13937.0|2011-06-23 00:00:00|2011-06-23 00:00:00|              1|               158.85|\n",
      "|   16957.0|2011-03-03 00:00:00|2011-04-14 00:00:00|              2|               416.64|\n",
      "+----------+-------------------+-------------------+---------------+---------------------+\n",
      "only showing top 20 rows\n",
      "\n"
     ]
    }
   ],
   "source": [
    "query = \"\"\"SELECT distinct CustomerID, \n",
    "                min(InvoiceDate) as first_purchase_date,\n",
    "                max(InvoiceDate) as last_purchase_date,\n",
    "                count(distinct InvoiceDate) as total_purchases,\n",
    "                sum(Quantity * UnitPrice) as total_purchase_amount\n",
    "                FROM trans\n",
    "                WHERE InvoiceDate between '2010-11-30' and '2011-08-01'\n",
    "                GROUP BY CustomerID\n",
    "             \"\"\"\n",
    "sdf = spark.sql(query)\n",
    "sdf.show()\n",
    "rdf = sdf.toPandas()"
   ]
  },
  {
   "cell_type": "code",
   "execution_count": 13,
   "metadata": {
    "ExecuteTime": {
     "end_time": "2020-05-15T17:33:35.494805Z",
     "start_time": "2020-05-15T17:33:28.715553Z"
    }
   },
   "outputs": [
    {
     "name": "stdout",
     "output_type": "stream",
     "text": [
      "+----------+-------------------+-------------------+---------------+---------------------+\n",
      "|CustomerID|first_purchase_date| last_purchase_date|total_purchases|total_purchase_amount|\n",
      "+----------+-------------------+-------------------+---------------+---------------------+\n",
      "|   14024.0|2011-08-07 00:00:00|2011-08-10 00:00:00|              2|                327.7|\n",
      "|   17633.0|2011-08-11 00:00:00|2011-09-29 00:00:00|              3|               1004.5|\n",
      "|   16629.0|2011-09-04 00:00:00|2011-09-27 00:00:00|              2|    417.7299999999999|\n",
      "|   14768.0|2011-08-04 00:00:00|2011-09-22 00:00:00|              2|    80.10000000000002|\n",
      "|   14452.0|2011-09-07 00:00:00|2011-09-07 00:00:00|              1|               127.37|\n",
      "|   17267.0|2011-08-04 00:00:00|2011-08-04 00:00:00|              1|   317.61999999999995|\n",
      "|   13094.0|2011-08-02 00:00:00|2011-09-20 00:00:00|              2|    457.9200000000001|\n",
      "|   14285.0|2011-09-25 00:00:00|2011-09-25 00:00:00|              1|   1247.5300000000002|\n",
      "|   14473.0|2011-09-26 00:00:00|2011-09-26 00:00:00|              1|   149.34000000000003|\n",
      "|   16656.0|2011-08-09 00:00:00|2011-09-21 00:00:00|              6|              2204.68|\n",
      "|   12550.0|2011-09-21 00:00:00|2011-09-21 00:00:00|              1|    964.8299999999994|\n",
      "|   15067.0|2011-09-22 00:00:00|2011-09-22 00:00:00|              1|    896.7099999999999|\n",
      "|   15311.0|2011-08-02 00:00:00|2011-09-27 00:00:00|             13|    6200.800000000001|\n",
      "|   14211.0|2011-09-04 00:00:00|2011-09-20 00:00:00|              2|   429.20000000000005|\n",
      "|   13430.0|2011-09-14 00:00:00|2011-09-28 00:00:00|              3|   305.55000000000007|\n",
      "|   12609.0|2011-09-22 00:00:00|2011-09-22 00:00:00|              1|               326.12|\n",
      "|   17659.0|2011-08-03 00:00:00|2011-08-31 00:00:00|              3|               510.16|\n",
      "|   16353.0|2011-08-28 00:00:00|2011-09-13 00:00:00|              3|    885.3000000000001|\n",
      "|   15750.0|2011-09-28 00:00:00|2011-09-28 00:00:00|              1|               508.07|\n",
      "|   14064.0|2011-08-18 00:00:00|2011-08-18 00:00:00|              1|               255.52|\n",
      "+----------+-------------------+-------------------+---------------+---------------------+\n",
      "only showing top 20 rows\n",
      "\n"
     ]
    }
   ],
   "source": [
    "query = \"\"\"SELECT distinct CustomerID, \n",
    "                min(InvoiceDate) as first_purchase_date,\n",
    "                max(InvoiceDate) as last_purchase_date,\n",
    "                count(distinct InvoiceDate) as total_purchases,\n",
    "                sum(Quantity * UnitPrice) as total_purchase_amount\n",
    "                FROM trans\n",
    "                WHERE InvoiceDate between '2011-07-31' and '2011-10-01'\n",
    "                GROUP BY CustomerID\n",
    "             \"\"\"\n",
    "sdf = spark.sql(query)\n",
    "sdf.show()\n",
    "pdf = sdf.toPandas()"
   ]
  },
  {
   "cell_type": "code",
   "execution_count": 18,
   "metadata": {
    "ExecuteTime": {
     "end_time": "2020-05-15T18:28:10.096996Z",
     "start_time": "2020-05-15T18:28:09.982422Z"
    }
   },
   "outputs": [],
   "source": [
    "fdf = pd.merge(rdf, pdf[[\"CustomerID\",\"total_purchase_amount\"]], how=\"left\", left_on=\"CustomerID\", right_on=\"CustomerID\")\n",
    "\n",
    "fdf.rename({\"total_purchase_amount_y\":\"next_2_months_spend\"}, axis=1, inplace=True)\n",
    "fdf[\"next_2_months_spend\"] = fdf[\"next_2_months_spend\"].fillna(0)\n",
    "\n",
    "fdf.to_csv(\"supervised_all.csv\")\n",
    "\n",
    "df_train, df_test= train_test_split(fdf, shuffle=True, test_size=0.2, random_state=42)\n",
    "df_train.to_csv(\"supervised_train.csv\")\n",
    "df_test.to_csv(\"supervised_test.csv\")"
   ]
  },
  {
   "cell_type": "code",
   "execution_count": null,
   "metadata": {},
   "outputs": [],
   "source": []
  }
 ],
 "metadata": {
  "kernelspec": {
   "display_name": "Python 3",
   "language": "python",
   "name": "python3"
  },
  "language_info": {
   "codemirror_mode": {
    "name": "ipython",
    "version": 3
   },
   "file_extension": ".py",
   "mimetype": "text/x-python",
   "name": "python",
   "nbconvert_exporter": "python",
   "pygments_lexer": "ipython3",
   "version": "3.6.5"
  },
  "toc": {
   "base_numbering": 1,
   "nav_menu": {},
   "number_sections": true,
   "sideBar": true,
   "skip_h1_title": false,
   "title_cell": "Table of Contents",
   "title_sidebar": "Contents",
   "toc_cell": false,
   "toc_position": {
    "height": "calc(100% - 180px)",
    "left": "10px",
    "top": "150px",
    "width": "411.771px"
   },
   "toc_section_display": true,
   "toc_window_display": true
  },
  "varInspector": {
   "cols": {
    "lenName": 16,
    "lenType": 16,
    "lenVar": 40
   },
   "kernels_config": {
    "python": {
     "delete_cmd_postfix": "",
     "delete_cmd_prefix": "del ",
     "library": "var_list.py",
     "varRefreshCmd": "print(var_dic_list())"
    },
    "r": {
     "delete_cmd_postfix": ") ",
     "delete_cmd_prefix": "rm(",
     "library": "var_list.r",
     "varRefreshCmd": "cat(var_dic_list()) "
    }
   },
   "types_to_exclude": [
    "module",
    "function",
    "builtin_function_or_method",
    "instance",
    "_Feature"
   ],
   "window_display": false
  }
 },
 "nbformat": 4,
 "nbformat_minor": 4
}
