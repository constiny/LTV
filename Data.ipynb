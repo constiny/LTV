{
 "cells": [
  {
   "cell_type": "code",
   "execution_count": 114,
   "metadata": {
    "ExecuteTime": {
     "end_time": "2020-05-13T17:21:21.505922Z",
     "start_time": "2020-05-13T17:21:21.503401Z"
    }
   },
   "outputs": [],
   "source": [
    "from sklearn.model_selection import train_test_split"
   ]
  },
  {
   "cell_type": "code",
   "execution_count": 25,
   "metadata": {
    "ExecuteTime": {
     "end_time": "2020-05-12T20:31:03.737327Z",
     "start_time": "2020-05-12T20:31:03.731080Z"
    }
   },
   "outputs": [],
   "source": [
    "import pyspark as ps    # for the pyspark suite\n",
    "spark = (ps.sql.SparkSession\n",
    "         .builder\n",
    "         .master('local[4]')\n",
    "         .appName('lecture')\n",
    "         .getOrCreate()\n",
    "        )\n",
    "sc = spark.sparkContext"
   ]
  },
  {
   "cell_type": "code",
   "execution_count": 26,
   "metadata": {
    "ExecuteTime": {
     "end_time": "2020-05-12T20:46:43.515880Z",
     "start_time": "2020-05-12T20:31:04.086410Z"
    }
   },
   "outputs": [],
   "source": [
    "df = spark.read.csv('transactions.csv',\n",
    "                    header=True,       # use headers or not\n",
    "                    quote='\"',         # char for quotes\n",
    "                    sep=\",\",           # char for separation\n",
    "                    inferSchema=True)  # do we infer schema or not ?"
   ]
  },
  {
   "cell_type": "code",
   "execution_count": 3,
   "metadata": {
    "ExecuteTime": {
     "end_time": "2020-05-12T16:39:56.615759Z",
     "start_time": "2020-05-12T16:39:56.610037Z"
    }
   },
   "outputs": [
    {
     "name": "stdout",
     "output_type": "stream",
     "text": [
      "root\n",
      " |-- id: long (nullable = true)\n",
      " |-- chain: integer (nullable = true)\n",
      " |-- dept: integer (nullable = true)\n",
      " |-- category: integer (nullable = true)\n",
      " |-- company: long (nullable = true)\n",
      " |-- brand: integer (nullable = true)\n",
      " |-- date: timestamp (nullable = true)\n",
      " |-- productsize: double (nullable = true)\n",
      " |-- productmeasure: string (nullable = true)\n",
      " |-- purchasequantity: integer (nullable = true)\n",
      " |-- purchaseamount: double (nullable = true)\n",
      "\n"
     ]
    }
   ],
   "source": [
    "df.printSchema()"
   ]
  },
  {
   "cell_type": "code",
   "execution_count": 4,
   "metadata": {
    "ExecuteTime": {
     "end_time": "2020-05-12T16:39:59.060418Z",
     "start_time": "2020-05-12T16:39:58.773933Z"
    }
   },
   "outputs": [
    {
     "name": "stdout",
     "output_type": "stream",
     "text": [
      "+-----+-----+----+--------+----------+-----+-------------------+-----------+--------------+----------------+--------------+\n",
      "|   id|chain|dept|category|   company|brand|               date|productsize|productmeasure|purchasequantity|purchaseamount|\n",
      "+-----+-----+----+--------+----------+-----+-------------------+-----------+--------------+----------------+--------------+\n",
      "|86246|  205|   7|     707|1078778070|12564|2012-03-02 00:00:00|       12.0|            OZ|               1|          7.59|\n",
      "|86246|  205|  63|    6319| 107654575|17876|2012-03-02 00:00:00|       64.0|            OZ|               1|          1.59|\n",
      "|86246|  205|  97|    9753|1022027929|    0|2012-03-02 00:00:00|        1.0|            CT|               1|          5.99|\n",
      "|86246|  205|  25|    2509| 107996777|31373|2012-03-02 00:00:00|       16.0|            OZ|               1|          1.99|\n",
      "|86246|  205|  55|    5555| 107684070|32094|2012-03-02 00:00:00|       16.0|            OZ|               2|         10.38|\n",
      "|86246|  205|  97|    9753|1021015020|    0|2012-03-02 00:00:00|        1.0|            CT|               1|           7.8|\n",
      "|86246|  205|  99|    9909| 104538848|15343|2012-03-02 00:00:00|       16.0|            OZ|               1|          2.49|\n",
      "|86246|  205|  59|    5907| 102900020| 2012|2012-03-02 00:00:00|       16.0|            OZ|               1|          1.39|\n",
      "|86246|  205|   9|     921| 101128414| 9209|2012-03-02 00:00:00|        4.0|            OZ|               2|           1.5|\n",
      "|86246|  205|  73|    7344|1068142161|20285|2012-03-02 00:00:00|        8.0|            CT|               1|          5.79|\n",
      "|86246|  205|  41|    4107| 104113040|28204|2012-03-02 00:00:00|       14.5|            OZ|               1|          0.59|\n",
      "|86246|  205|  21|    2106| 105100050|27873|2012-03-02 00:00:00|       64.0|            OZ|               1|          3.29|\n",
      "|86246|  205|   8|     814| 102840020|18584|2012-03-02 00:00:00|       15.5|            OZ|               1|          3.29|\n",
      "|86246|  205|  91|    9122| 108200080| 2911|2012-03-02 00:00:00|       10.0|            OZ|               1|          1.99|\n",
      "|86246|  205|  41|    4120| 101116616|15266|2012-03-02 00:00:00|        6.0|            OZ|               1|          0.89|\n",
      "|86246|  205|  63|    6315| 107996777|31373|2012-03-02 00:00:00|       64.0|            OZ|               1|          3.59|\n",
      "|86246|  205|   9|     907| 101410010|13791|2012-03-02 00:00:00|       24.0|            OZ|               1|          3.99|\n",
      "|86246|  205|  97|    9753|1021013323|    0|2012-03-02 00:00:00|        1.0|            CT|               1|          8.87|\n",
      "|86246|  205|  45|    4509|1082650484|59628|2012-03-02 00:00:00|       16.0|            OZ|               1|          4.99|\n",
      "|86246|  205|  26|    2630| 103700030|14647|2012-03-02 00:00:00|       56.0|            CT|               1|           1.0|\n",
      "+-----+-----+----+--------+----------+-----+-------------------+-----------+--------------+----------------+--------------+\n",
      "only showing top 20 rows\n",
      "\n"
     ]
    }
   ],
   "source": [
    "df.show()"
   ]
  },
  {
   "cell_type": "code",
   "execution_count": 5,
   "metadata": {
    "ExecuteTime": {
     "end_time": "2020-05-12T16:40:04.816384Z",
     "start_time": "2020-05-12T16:40:04.656293Z"
    }
   },
   "outputs": [],
   "source": [
    "df.createOrReplaceTempView('trans')"
   ]
  },
  {
   "cell_type": "code",
   "execution_count": 6,
   "metadata": {
    "ExecuteTime": {
     "end_time": "2020-05-12T16:40:06.135377Z",
     "start_time": "2020-05-12T16:40:05.824234Z"
    }
   },
   "outputs": [],
   "source": [
    "query = \"\"\"SELECT distinct id, \n",
    "                min(date) as first_purchase_date,\n",
    "                max(date) as last_purchase_date,\n",
    "                count(distinct date) as total_purchases,\n",
    "                sum(purchasequantity) as total_purchase_quantity,\n",
    "                sum(purchaseamount) as total_purchase_amount,\n",
    "                SUM(CASE WHEN date >= '2012-09-02' THEN purchaseamount ELSE 0 END) AS last_3_months_spend\n",
    "                FROM trans\n",
    "                WHERE date <= '2012-12-01'\n",
    "                GROUP BY id\n",
    "             \"\"\"\n",
    "sdf = spark.sql(query)\n",
    "# sdf.show()"
   ]
  },
  {
   "cell_type": "code",
   "execution_count": 7,
   "metadata": {
    "ExecuteTime": {
     "end_time": "2020-05-12T17:00:11.620277Z",
     "start_time": "2020-05-12T16:40:59.755860Z"
    }
   },
   "outputs": [],
   "source": [
    "rdf = sdf.toPandas()\n",
    "rdf.to_csv(\"ndb1.csv\")"
   ]
  },
  {
   "cell_type": "code",
   "execution_count": 8,
   "metadata": {
    "ExecuteTime": {
     "end_time": "2020-05-12T17:00:32.501240Z",
     "start_time": "2020-05-12T17:00:32.446882Z"
    }
   },
   "outputs": [],
   "source": [
    "query = \"\"\"SELECT distinct id, \n",
    "                min(date) as first_purchase_date,\n",
    "                max(date) as last_purchase_date,\n",
    "                count(distinct date) as total_purchases,\n",
    "                sum(purchasequantity) as total_purchase_quantity,\n",
    "                sum(purchaseamount) as total_purchase_amount\n",
    "                FROM trans\n",
    "                WHERE date between '2012-12-02' and '2013-03-01'\n",
    "                GROUP BY id\n",
    "             \"\"\"\n",
    "sdf = spark.sql(query)\n",
    "# sdf.show()"
   ]
  },
  {
   "cell_type": "code",
   "execution_count": 9,
   "metadata": {
    "ExecuteTime": {
     "end_time": "2020-05-12T17:21:14.796209Z",
     "start_time": "2020-05-12T17:00:36.287624Z"
    }
   },
   "outputs": [],
   "source": [
    "pdf = sdf.toPandas()\n",
    "pdf.to_csv(\"ndb2_target.csv\")"
   ]
  },
  {
   "cell_type": "code",
   "execution_count": 44,
   "metadata": {
    "ExecuteTime": {
     "end_time": "2020-05-13T04:14:02.578741Z",
     "start_time": "2020-05-13T04:14:02.414384Z"
    }
   },
   "outputs": [],
   "source": [
    "pdf = pd.read_csv(\"ndb2_target.csv\", index_col=0)"
   ]
  },
  {
   "cell_type": "code",
   "execution_count": 30,
   "metadata": {
    "ExecuteTime": {
     "end_time": "2020-05-12T20:50:43.255547Z",
     "start_time": "2020-05-12T20:50:43.224869Z"
    }
   },
   "outputs": [
    {
     "name": "stdout",
     "output_type": "stream",
     "text": [
      "<class 'pandas.core.frame.DataFrame'>\n",
      "Int64Index: 307323 entries, 0 to 307322\n",
      "Data columns (total 6 columns):\n",
      " #   Column                   Non-Null Count   Dtype  \n",
      "---  ------                   --------------   -----  \n",
      " 0   id                       307323 non-null  int64  \n",
      " 1   first_purchase_date      307323 non-null  object \n",
      " 2   last_purchase_date       307323 non-null  object \n",
      " 3   total_purchases          307323 non-null  int64  \n",
      " 4   total_purchase_quantity  307323 non-null  int64  \n",
      " 5   total_purchase_amount    307323 non-null  float64\n",
      "dtypes: float64(1), int64(3), object(2)\n",
      "memory usage: 16.4+ MB\n"
     ]
    }
   ],
   "source": [
    "pdf.info()"
   ]
  },
  {
   "cell_type": "code",
   "execution_count": 45,
   "metadata": {
    "ExecuteTime": {
     "end_time": "2020-05-13T04:14:21.436660Z",
     "start_time": "2020-05-13T04:14:21.235569Z"
    }
   },
   "outputs": [],
   "source": [
    "import pandas as pd\n",
    "rdf = pd.read_csv(\"ndb1.csv\",index_col=0)"
   ]
  },
  {
   "cell_type": "code",
   "execution_count": 234,
   "metadata": {
    "ExecuteTime": {
     "end_time": "2020-05-14T01:37:58.236854Z",
     "start_time": "2020-05-14T01:37:58.227644Z"
    }
   },
   "outputs": [
    {
     "data": {
      "text/html": [
       "<div>\n",
       "<style scoped>\n",
       "    .dataframe tbody tr th:only-of-type {\n",
       "        vertical-align: middle;\n",
       "    }\n",
       "\n",
       "    .dataframe tbody tr th {\n",
       "        vertical-align: top;\n",
       "    }\n",
       "\n",
       "    .dataframe thead th {\n",
       "        text-align: right;\n",
       "    }\n",
       "</style>\n",
       "<table border=\"1\" class=\"dataframe\">\n",
       "  <thead>\n",
       "    <tr style=\"text-align: right;\">\n",
       "      <th></th>\n",
       "      <th>id</th>\n",
       "      <th>first_purchase_date</th>\n",
       "      <th>last_purchase_date</th>\n",
       "      <th>total_purchases</th>\n",
       "      <th>total_purchase_quantity</th>\n",
       "      <th>total_purchase_amount</th>\n",
       "    </tr>\n",
       "  </thead>\n",
       "  <tbody>\n",
       "    <tr>\n",
       "      <th>0</th>\n",
       "      <td>101266464</td>\n",
       "      <td>2012-12-15</td>\n",
       "      <td>2013-02-25</td>\n",
       "      <td>18</td>\n",
       "      <td>162</td>\n",
       "      <td>485.78</td>\n",
       "    </tr>\n",
       "    <tr>\n",
       "      <th>1</th>\n",
       "      <td>105318972</td>\n",
       "      <td>2012-12-02</td>\n",
       "      <td>2013-02-28</td>\n",
       "      <td>19</td>\n",
       "      <td>204</td>\n",
       "      <td>737.80</td>\n",
       "    </tr>\n",
       "    <tr>\n",
       "      <th>2</th>\n",
       "      <td>112987393</td>\n",
       "      <td>2013-01-04</td>\n",
       "      <td>2013-02-11</td>\n",
       "      <td>4</td>\n",
       "      <td>19</td>\n",
       "      <td>63.84</td>\n",
       "    </tr>\n",
       "    <tr>\n",
       "      <th>3</th>\n",
       "      <td>121094467</td>\n",
       "      <td>2012-12-06</td>\n",
       "      <td>2013-02-27</td>\n",
       "      <td>49</td>\n",
       "      <td>813</td>\n",
       "      <td>1688.14</td>\n",
       "    </tr>\n",
       "    <tr>\n",
       "      <th>4</th>\n",
       "      <td>124565931</td>\n",
       "      <td>2012-12-03</td>\n",
       "      <td>2013-02-28</td>\n",
       "      <td>52</td>\n",
       "      <td>399</td>\n",
       "      <td>1159.34</td>\n",
       "    </tr>\n",
       "  </tbody>\n",
       "</table>\n",
       "</div>"
      ],
      "text/plain": [
       "          id first_purchase_date last_purchase_date  total_purchases  \\\n",
       "0  101266464          2012-12-15         2013-02-25               18   \n",
       "1  105318972          2012-12-02         2013-02-28               19   \n",
       "2  112987393          2013-01-04         2013-02-11                4   \n",
       "3  121094467          2012-12-06         2013-02-27               49   \n",
       "4  124565931          2012-12-03         2013-02-28               52   \n",
       "\n",
       "   total_purchase_quantity  total_purchase_amount  \n",
       "0                      162                 485.78  \n",
       "1                      204                 737.80  \n",
       "2                       19                  63.84  \n",
       "3                      813                1688.14  \n",
       "4                      399                1159.34  "
      ]
     },
     "execution_count": 234,
     "metadata": {},
     "output_type": "execute_result"
    }
   ],
   "source": [
    "pdf.head()"
   ]
  },
  {
   "cell_type": "markdown",
   "metadata": {},
   "source": [
    "## Churn Prediction data"
   ]
  },
  {
   "cell_type": "code",
   "execution_count": 235,
   "metadata": {
    "ExecuteTime": {
     "end_time": "2020-05-14T01:38:08.435380Z",
     "start_time": "2020-05-14T01:38:08.263779Z"
    }
   },
   "outputs": [],
   "source": [
    "# Datebase for Churn prediction\n",
    "fdf = pd.merge(rdf, pdf[[\"id\",\"total_purchase_amount\"]], how=\"left\", left_on=\"id\", right_on=\"id\")\n",
    "fdf.rename({\"total_purchase_amount_y\":\"next_3_months_spend\"}, axis=1, inplace=True)\n",
    "fdf[\"churn\"] = fdf[\"next_3_months_spend\"].apply(lambda x:0 if x>0 else 1)\n"
   ]
  },
  {
   "cell_type": "code",
   "execution_count": 236,
   "metadata": {
    "ExecuteTime": {
     "end_time": "2020-05-14T01:38:14.183349Z",
     "start_time": "2020-05-14T01:38:12.599575Z"
    }
   },
   "outputs": [],
   "source": [
    "df_train, df_test= train_test_split(fdf, shuffle=True, test_size=0.2, random_state=42)\n",
    "df_train.to_csv(\"fdb_churn_train.csv\")\n",
    "df_test.to_csv(\"fdb_churn_test.csv\")"
   ]
  },
  {
   "cell_type": "code",
   "execution_count": 237,
   "metadata": {
    "ExecuteTime": {
     "end_time": "2020-05-14T01:38:16.681198Z",
     "start_time": "2020-05-14T01:38:16.674129Z"
    }
   },
   "outputs": [
    {
     "data": {
      "text/plain": [
       "0    60271\n",
       "1      182\n",
       "Name: churn, dtype: int64"
      ]
     },
     "execution_count": 237,
     "metadata": {},
     "output_type": "execute_result"
    }
   ],
   "source": [
    "df_test[\"churn\"].value_counts()"
   ]
  },
  {
   "cell_type": "code",
   "execution_count": null,
   "metadata": {},
   "outputs": [],
   "source": []
  },
  {
   "cell_type": "markdown",
   "metadata": {},
   "source": [
    "# RFM"
   ]
  },
  {
   "cell_type": "code",
   "execution_count": 19,
   "metadata": {
    "ExecuteTime": {
     "end_time": "2020-05-12T17:27:55.693441Z",
     "start_time": "2020-05-12T17:27:55.681864Z"
    }
   },
   "outputs": [
    {
     "data": {
      "text/html": [
       "<div>\n",
       "<style scoped>\n",
       "    .dataframe tbody tr th:only-of-type {\n",
       "        vertical-align: middle;\n",
       "    }\n",
       "\n",
       "    .dataframe tbody tr th {\n",
       "        vertical-align: top;\n",
       "    }\n",
       "\n",
       "    .dataframe thead th {\n",
       "        text-align: right;\n",
       "    }\n",
       "</style>\n",
       "<table border=\"1\" class=\"dataframe\">\n",
       "  <thead>\n",
       "    <tr style=\"text-align: right;\">\n",
       "      <th></th>\n",
       "      <th>id</th>\n",
       "      <th>first_purchase_date</th>\n",
       "      <th>last_purchase_date</th>\n",
       "      <th>total_purchases</th>\n",
       "      <th>total_purchase_quantity</th>\n",
       "      <th>total_purchase_amount</th>\n",
       "    </tr>\n",
       "  </thead>\n",
       "  <tbody>\n",
       "    <tr>\n",
       "      <th>0</th>\n",
       "      <td>101266464</td>\n",
       "      <td>2012-12-15</td>\n",
       "      <td>2013-02-25</td>\n",
       "      <td>18</td>\n",
       "      <td>162</td>\n",
       "      <td>485.78</td>\n",
       "    </tr>\n",
       "    <tr>\n",
       "      <th>1</th>\n",
       "      <td>105318972</td>\n",
       "      <td>2012-12-02</td>\n",
       "      <td>2013-02-28</td>\n",
       "      <td>19</td>\n",
       "      <td>204</td>\n",
       "      <td>737.80</td>\n",
       "    </tr>\n",
       "    <tr>\n",
       "      <th>2</th>\n",
       "      <td>112987393</td>\n",
       "      <td>2013-01-04</td>\n",
       "      <td>2013-02-11</td>\n",
       "      <td>4</td>\n",
       "      <td>19</td>\n",
       "      <td>63.84</td>\n",
       "    </tr>\n",
       "    <tr>\n",
       "      <th>3</th>\n",
       "      <td>121094467</td>\n",
       "      <td>2012-12-06</td>\n",
       "      <td>2013-02-27</td>\n",
       "      <td>49</td>\n",
       "      <td>813</td>\n",
       "      <td>1688.14</td>\n",
       "    </tr>\n",
       "    <tr>\n",
       "      <th>4</th>\n",
       "      <td>124565931</td>\n",
       "      <td>2012-12-03</td>\n",
       "      <td>2013-02-28</td>\n",
       "      <td>52</td>\n",
       "      <td>399</td>\n",
       "      <td>1159.34</td>\n",
       "    </tr>\n",
       "  </tbody>\n",
       "</table>\n",
       "</div>"
      ],
      "text/plain": [
       "          id first_purchase_date last_purchase_date  total_purchases  \\\n",
       "0  101266464          2012-12-15         2013-02-25               18   \n",
       "1  105318972          2012-12-02         2013-02-28               19   \n",
       "2  112987393          2013-01-04         2013-02-11                4   \n",
       "3  121094467          2012-12-06         2013-02-27               49   \n",
       "4  124565931          2012-12-03         2013-02-28               52   \n",
       "\n",
       "   total_purchase_quantity  total_purchase_amount  \n",
       "0                      162                 485.78  \n",
       "1                      204                 737.80  \n",
       "2                       19                  63.84  \n",
       "3                      813                1688.14  \n",
       "4                      399                1159.34  "
      ]
     },
     "execution_count": 19,
     "metadata": {},
     "output_type": "execute_result"
    }
   ],
   "source": [
    "pdf.head()"
   ]
  },
  {
   "cell_type": "code",
   "execution_count": 255,
   "metadata": {
    "ExecuteTime": {
     "end_time": "2020-05-14T03:48:11.163005Z",
     "start_time": "2020-05-14T03:48:11.129596Z"
    }
   },
   "outputs": [],
   "source": [
    "# Datebase for RFM prediction\n",
    "# pdf[\"recency\"] = pd.to_datetime(\"2013-03-02\") - pd.to_datetime(pdf[\"last_purchase_date\"]) \n",
    "pdf[\"recency\"] = pd.to_datetime('2012-01-01') - pd.to_datetime(pdf[\"last_purchase_date\"])\n",
    "pdf[\"recency\"] = pdf[\"recency\"].apply(lambda x:x.days)\n",
    "pdf.rename({\"total_purchases\" : \"frequency\", \"total_purchase_amount\" : \"monetery\"},\n",
    "           axis = 1,\n",
    "          inplace = True)"
   ]
  },
  {
   "cell_type": "code",
   "execution_count": 256,
   "metadata": {
    "ExecuteTime": {
     "end_time": "2020-05-14T03:48:11.707672Z",
     "start_time": "2020-05-14T03:48:11.685738Z"
    }
   },
   "outputs": [
    {
     "ename": "ValueError",
     "evalue": "Bin edges must be unique: array([ 1.,  1.,  1.,  2., 42.]).\nYou can drop duplicate edges by setting the 'duplicates' kwarg",
     "output_type": "error",
     "traceback": [
      "\u001b[0;31m---------------------------------------------------------------------------\u001b[0m",
      "\u001b[0;31mValueError\u001b[0m                                Traceback (most recent call last)",
      "\u001b[0;32m<ipython-input-256-84ddd172f2fb>\u001b[0m in \u001b[0;36m<module>\u001b[0;34m\u001b[0m\n\u001b[1;32m      5\u001b[0m \u001b[0mr_groups\u001b[0m \u001b[0;34m=\u001b[0m \u001b[0mpd\u001b[0m\u001b[0;34m.\u001b[0m\u001b[0mqcut\u001b[0m\u001b[0;34m(\u001b[0m\u001b[0mpdf\u001b[0m\u001b[0;34m[\u001b[0m\u001b[0;34m'recency'\u001b[0m\u001b[0;34m]\u001b[0m\u001b[0;34m,\u001b[0m \u001b[0mq\u001b[0m\u001b[0;34m=\u001b[0m\u001b[0;36m4\u001b[0m\u001b[0;34m,\u001b[0m \u001b[0mlabels\u001b[0m\u001b[0;34m=\u001b[0m\u001b[0mr_labels\u001b[0m\u001b[0;34m)\u001b[0m\u001b[0;34m\u001b[0m\u001b[0m\n\u001b[1;32m      6\u001b[0m \u001b[0;31m# Assign these labels to 4 equal percentile groups\u001b[0m\u001b[0;34m\u001b[0m\u001b[0;34m\u001b[0m\u001b[0m\n\u001b[0;32m----> 7\u001b[0;31m \u001b[0mf_groups\u001b[0m \u001b[0;34m=\u001b[0m \u001b[0mpd\u001b[0m\u001b[0;34m.\u001b[0m\u001b[0mqcut\u001b[0m\u001b[0;34m(\u001b[0m\u001b[0mpdf\u001b[0m\u001b[0;34m[\u001b[0m\u001b[0;34m'frequency'\u001b[0m\u001b[0;34m]\u001b[0m\u001b[0;34m,\u001b[0m \u001b[0mq\u001b[0m\u001b[0;34m=\u001b[0m\u001b[0;36m4\u001b[0m\u001b[0;34m,\u001b[0m \u001b[0mlabels\u001b[0m\u001b[0;34m=\u001b[0m\u001b[0mf_labels\u001b[0m\u001b[0;34m)\u001b[0m\u001b[0;34m\u001b[0m\u001b[0m\n\u001b[0m\u001b[1;32m      8\u001b[0m \u001b[0;31m# Create new columns R and F\u001b[0m\u001b[0;34m\u001b[0m\u001b[0;34m\u001b[0m\u001b[0m\n\u001b[1;32m      9\u001b[0m \u001b[0mpdf\u001b[0m \u001b[0;34m=\u001b[0m \u001b[0mpdf\u001b[0m\u001b[0;34m.\u001b[0m\u001b[0massign\u001b[0m\u001b[0;34m(\u001b[0m\u001b[0mR\u001b[0m \u001b[0;34m=\u001b[0m \u001b[0mr_groups\u001b[0m\u001b[0;34m.\u001b[0m\u001b[0mvalues\u001b[0m\u001b[0;34m,\u001b[0m \u001b[0mF\u001b[0m \u001b[0;34m=\u001b[0m \u001b[0mf_groups\u001b[0m\u001b[0;34m.\u001b[0m\u001b[0mvalues\u001b[0m\u001b[0;34m)\u001b[0m\u001b[0;34m\u001b[0m\u001b[0m\n",
      "\u001b[0;32m~/anaconda3/lib/python3.6/site-packages/pandas/core/reshape/tile.py\u001b[0m in \u001b[0;36mqcut\u001b[0;34m(x, q, labels, retbins, precision, duplicates)\u001b[0m\n\u001b[1;32m    346\u001b[0m         \u001b[0minclude_lowest\u001b[0m\u001b[0;34m=\u001b[0m\u001b[0;32mTrue\u001b[0m\u001b[0;34m,\u001b[0m\u001b[0;34m\u001b[0m\u001b[0m\n\u001b[1;32m    347\u001b[0m         \u001b[0mdtype\u001b[0m\u001b[0;34m=\u001b[0m\u001b[0mdtype\u001b[0m\u001b[0;34m,\u001b[0m\u001b[0;34m\u001b[0m\u001b[0m\n\u001b[0;32m--> 348\u001b[0;31m         \u001b[0mduplicates\u001b[0m\u001b[0;34m=\u001b[0m\u001b[0mduplicates\u001b[0m\u001b[0;34m,\u001b[0m\u001b[0;34m\u001b[0m\u001b[0m\n\u001b[0m\u001b[1;32m    349\u001b[0m     )\n\u001b[1;32m    350\u001b[0m \u001b[0;34m\u001b[0m\u001b[0m\n",
      "\u001b[0;32m~/anaconda3/lib/python3.6/site-packages/pandas/core/reshape/tile.py\u001b[0m in \u001b[0;36m_bins_to_cuts\u001b[0;34m(x, bins, right, labels, precision, include_lowest, dtype, duplicates)\u001b[0m\n\u001b[1;32m    379\u001b[0m         \u001b[0;32mif\u001b[0m \u001b[0mduplicates\u001b[0m \u001b[0;34m==\u001b[0m \u001b[0;34m\"raise\"\u001b[0m\u001b[0;34m:\u001b[0m\u001b[0;34m\u001b[0m\u001b[0m\n\u001b[1;32m    380\u001b[0m             raise ValueError(\n\u001b[0;32m--> 381\u001b[0;31m                 \u001b[0;34mf\"Bin edges must be unique: {repr(bins)}.\\n\"\u001b[0m\u001b[0;34m\u001b[0m\u001b[0m\n\u001b[0m\u001b[1;32m    382\u001b[0m                 \u001b[0;34mf\"You can drop duplicate edges by setting the 'duplicates' kwarg\"\u001b[0m\u001b[0;34m\u001b[0m\u001b[0m\n\u001b[1;32m    383\u001b[0m             )\n",
      "\u001b[0;31mValueError\u001b[0m: Bin edges must be unique: array([ 1.,  1.,  1.,  2., 42.]).\nYou can drop duplicate edges by setting the 'duplicates' kwarg"
     ]
    }
   ],
   "source": [
    "# --Calculate R and F groups--\n",
    "# Create labels for Recency and Frequency\n",
    "r_labels = range(4, 0, -1); f_labels = range(1, 5)\n",
    "# Assign these labels to 4 equal percentile groups \n",
    "r_groups = pd.qcut(pdf['recency'], q=4, labels=r_labels)\n",
    "# Assign these labels to 4 equal percentile groups \n",
    "f_groups = pd.qcut(pdf['frequency'], q=4, labels=f_labels)\n",
    "# Create new columns R and F \n",
    "pdf = pdf.assign(R = r_groups.values, F = f_groups.values)\n",
    "pdf.head()"
   ]
  },
  {
   "cell_type": "code",
   "execution_count": 35,
   "metadata": {
    "ExecuteTime": {
     "end_time": "2020-05-12T20:52:34.118987Z",
     "start_time": "2020-05-12T20:52:34.071014Z"
    }
   },
   "outputs": [],
   "source": [
    "# Create labels for MonetaryValue\n",
    "m_labels = range(1, 5)\n",
    "# Assign these labels to three equal percentile groups \n",
    "m_groups = pd.qcut(pdf['monetery'], q=4, labels=m_labels)\n",
    "# Create new column M\n",
    "pdf = pdf.assign(M = m_groups.values)"
   ]
  },
  {
   "cell_type": "code",
   "execution_count": 38,
   "metadata": {
    "ExecuteTime": {
     "end_time": "2020-05-12T20:53:02.990457Z",
     "start_time": "2020-05-12T20:53:02.974024Z"
    }
   },
   "outputs": [
    {
     "data": {
      "text/html": [
       "<div>\n",
       "<style scoped>\n",
       "    .dataframe tbody tr th:only-of-type {\n",
       "        vertical-align: middle;\n",
       "    }\n",
       "\n",
       "    .dataframe tbody tr th {\n",
       "        vertical-align: top;\n",
       "    }\n",
       "\n",
       "    .dataframe thead th {\n",
       "        text-align: right;\n",
       "    }\n",
       "</style>\n",
       "<table border=\"1\" class=\"dataframe\">\n",
       "  <thead>\n",
       "    <tr style=\"text-align: right;\">\n",
       "      <th></th>\n",
       "      <th>id</th>\n",
       "      <th>first_purchase_date</th>\n",
       "      <th>last_purchase_date</th>\n",
       "      <th>frequency</th>\n",
       "      <th>total_purchase_quantity</th>\n",
       "      <th>monetery</th>\n",
       "      <th>recency</th>\n",
       "      <th>R</th>\n",
       "      <th>F</th>\n",
       "      <th>M</th>\n",
       "      <th>RFM</th>\n",
       "    </tr>\n",
       "  </thead>\n",
       "  <tbody>\n",
       "    <tr>\n",
       "      <th>0</th>\n",
       "      <td>101266464</td>\n",
       "      <td>2012-12-15</td>\n",
       "      <td>2013-02-25</td>\n",
       "      <td>18</td>\n",
       "      <td>162</td>\n",
       "      <td>485.78</td>\n",
       "      <td>5</td>\n",
       "      <td>3</td>\n",
       "      <td>3</td>\n",
       "      <td>2</td>\n",
       "      <td>3-3-2</td>\n",
       "    </tr>\n",
       "    <tr>\n",
       "      <th>1</th>\n",
       "      <td>105318972</td>\n",
       "      <td>2012-12-02</td>\n",
       "      <td>2013-02-28</td>\n",
       "      <td>19</td>\n",
       "      <td>204</td>\n",
       "      <td>737.80</td>\n",
       "      <td>2</td>\n",
       "      <td>4</td>\n",
       "      <td>3</td>\n",
       "      <td>2</td>\n",
       "      <td>4-3-2</td>\n",
       "    </tr>\n",
       "    <tr>\n",
       "      <th>2</th>\n",
       "      <td>112987393</td>\n",
       "      <td>2013-01-04</td>\n",
       "      <td>2013-02-11</td>\n",
       "      <td>4</td>\n",
       "      <td>19</td>\n",
       "      <td>63.84</td>\n",
       "      <td>19</td>\n",
       "      <td>1</td>\n",
       "      <td>1</td>\n",
       "      <td>1</td>\n",
       "      <td>1-1-1</td>\n",
       "    </tr>\n",
       "    <tr>\n",
       "      <th>3</th>\n",
       "      <td>121094467</td>\n",
       "      <td>2012-12-06</td>\n",
       "      <td>2013-02-27</td>\n",
       "      <td>49</td>\n",
       "      <td>813</td>\n",
       "      <td>1688.14</td>\n",
       "      <td>3</td>\n",
       "      <td>4</td>\n",
       "      <td>4</td>\n",
       "      <td>4</td>\n",
       "      <td>4-4-4</td>\n",
       "    </tr>\n",
       "    <tr>\n",
       "      <th>4</th>\n",
       "      <td>124565931</td>\n",
       "      <td>2012-12-03</td>\n",
       "      <td>2013-02-28</td>\n",
       "      <td>52</td>\n",
       "      <td>399</td>\n",
       "      <td>1159.34</td>\n",
       "      <td>2</td>\n",
       "      <td>4</td>\n",
       "      <td>4</td>\n",
       "      <td>3</td>\n",
       "      <td>4-4-3</td>\n",
       "    </tr>\n",
       "  </tbody>\n",
       "</table>\n",
       "</div>"
      ],
      "text/plain": [
       "          id first_purchase_date last_purchase_date  frequency  \\\n",
       "0  101266464          2012-12-15         2013-02-25         18   \n",
       "1  105318972          2012-12-02         2013-02-28         19   \n",
       "2  112987393          2013-01-04         2013-02-11          4   \n",
       "3  121094467          2012-12-06         2013-02-27         49   \n",
       "4  124565931          2012-12-03         2013-02-28         52   \n",
       "\n",
       "   total_purchase_quantity  monetery  recency  R  F  M    RFM  \n",
       "0                      162    485.78        5  3  3  2  3-3-2  \n",
       "1                      204    737.80        2  4  3  2  4-3-2  \n",
       "2                       19     63.84       19  1  1  1  1-1-1  \n",
       "3                      813   1688.14        3  4  4  4  4-4-4  \n",
       "4                      399   1159.34        2  4  4  3  4-4-3  "
      ]
     },
     "execution_count": 38,
     "metadata": {},
     "output_type": "execute_result"
    }
   ],
   "source": [
    "pdf.head()"
   ]
  },
  {
   "cell_type": "code",
   "execution_count": 37,
   "metadata": {
    "ExecuteTime": {
     "end_time": "2020-05-12T20:52:59.106432Z",
     "start_time": "2020-05-12T20:52:58.516589Z"
    }
   },
   "outputs": [],
   "source": [
    "pdf[\"RFM\"] = pdf[\"R\"].astype(str) + \"-\"  + pdf[\"F\"].astype(str) + \"-\" + pdf[\"M\"].astype(str)"
   ]
  },
  {
   "cell_type": "code",
   "execution_count": 39,
   "metadata": {
    "ExecuteTime": {
     "end_time": "2020-05-12T20:53:22.998340Z",
     "start_time": "2020-05-12T20:53:22.982304Z"
    }
   },
   "outputs": [
    {
     "data": {
      "text/html": [
       "<div>\n",
       "<style scoped>\n",
       "    .dataframe tbody tr th:only-of-type {\n",
       "        vertical-align: middle;\n",
       "    }\n",
       "\n",
       "    .dataframe tbody tr th {\n",
       "        vertical-align: top;\n",
       "    }\n",
       "\n",
       "    .dataframe thead th {\n",
       "        text-align: right;\n",
       "    }\n",
       "</style>\n",
       "<table border=\"1\" class=\"dataframe\">\n",
       "  <thead>\n",
       "    <tr style=\"text-align: right;\">\n",
       "      <th></th>\n",
       "      <th>id</th>\n",
       "      <th>first_purchase_date</th>\n",
       "      <th>last_purchase_date</th>\n",
       "      <th>total_purchases</th>\n",
       "      <th>total_purchase_quantity</th>\n",
       "      <th>total_purchase_amount</th>\n",
       "      <th>last_3_months_spend</th>\n",
       "    </tr>\n",
       "  </thead>\n",
       "  <tbody>\n",
       "    <tr>\n",
       "      <th>0</th>\n",
       "      <td>100787762</td>\n",
       "      <td>2012-03-08</td>\n",
       "      <td>2012-11-30</td>\n",
       "      <td>52</td>\n",
       "      <td>284</td>\n",
       "      <td>976.58</td>\n",
       "      <td>320.08</td>\n",
       "    </tr>\n",
       "    <tr>\n",
       "      <th>1</th>\n",
       "      <td>112364053</td>\n",
       "      <td>2012-03-09</td>\n",
       "      <td>2012-11-26</td>\n",
       "      <td>49</td>\n",
       "      <td>837</td>\n",
       "      <td>2462.90</td>\n",
       "      <td>401.42</td>\n",
       "    </tr>\n",
       "    <tr>\n",
       "      <th>2</th>\n",
       "      <td>112987393</td>\n",
       "      <td>2012-03-03</td>\n",
       "      <td>2012-10-05</td>\n",
       "      <td>27</td>\n",
       "      <td>252</td>\n",
       "      <td>594.15</td>\n",
       "      <td>32.08</td>\n",
       "    </tr>\n",
       "    <tr>\n",
       "      <th>3</th>\n",
       "      <td>121094467</td>\n",
       "      <td>2012-03-02</td>\n",
       "      <td>2012-11-29</td>\n",
       "      <td>163</td>\n",
       "      <td>2036</td>\n",
       "      <td>4997.94</td>\n",
       "      <td>1691.48</td>\n",
       "    </tr>\n",
       "    <tr>\n",
       "      <th>4</th>\n",
       "      <td>121473052</td>\n",
       "      <td>2012-03-07</td>\n",
       "      <td>2012-11-28</td>\n",
       "      <td>46</td>\n",
       "      <td>375</td>\n",
       "      <td>1510.74</td>\n",
       "      <td>568.64</td>\n",
       "    </tr>\n",
       "    <tr>\n",
       "      <th>...</th>\n",
       "      <td>...</td>\n",
       "      <td>...</td>\n",
       "      <td>...</td>\n",
       "      <td>...</td>\n",
       "      <td>...</td>\n",
       "      <td>...</td>\n",
       "      <td>...</td>\n",
       "    </tr>\n",
       "    <tr>\n",
       "      <th>302256</th>\n",
       "      <td>4395739747</td>\n",
       "      <td>2012-11-23</td>\n",
       "      <td>2012-11-23</td>\n",
       "      <td>1</td>\n",
       "      <td>4</td>\n",
       "      <td>39.96</td>\n",
       "      <td>39.96</td>\n",
       "    </tr>\n",
       "    <tr>\n",
       "      <th>302257</th>\n",
       "      <td>3831636404</td>\n",
       "      <td>2012-11-29</td>\n",
       "      <td>2012-11-29</td>\n",
       "      <td>1</td>\n",
       "      <td>9</td>\n",
       "      <td>27.09</td>\n",
       "      <td>27.09</td>\n",
       "    </tr>\n",
       "    <tr>\n",
       "      <th>302258</th>\n",
       "      <td>4381356327</td>\n",
       "      <td>2012-11-18</td>\n",
       "      <td>2012-11-25</td>\n",
       "      <td>3</td>\n",
       "      <td>93</td>\n",
       "      <td>377.07</td>\n",
       "      <td>377.07</td>\n",
       "    </tr>\n",
       "    <tr>\n",
       "      <th>302259</th>\n",
       "      <td>4358612016</td>\n",
       "      <td>2012-11-09</td>\n",
       "      <td>2012-11-09</td>\n",
       "      <td>1</td>\n",
       "      <td>20</td>\n",
       "      <td>114.30</td>\n",
       "      <td>114.30</td>\n",
       "    </tr>\n",
       "    <tr>\n",
       "      <th>302260</th>\n",
       "      <td>4384509045</td>\n",
       "      <td>2012-11-19</td>\n",
       "      <td>2012-11-19</td>\n",
       "      <td>1</td>\n",
       "      <td>7</td>\n",
       "      <td>19.21</td>\n",
       "      <td>19.21</td>\n",
       "    </tr>\n",
       "  </tbody>\n",
       "</table>\n",
       "<p>302261 rows × 7 columns</p>\n",
       "</div>"
      ],
      "text/plain": [
       "                id first_purchase_date last_purchase_date  total_purchases  \\\n",
       "0        100787762          2012-03-08         2012-11-30               52   \n",
       "1        112364053          2012-03-09         2012-11-26               49   \n",
       "2        112987393          2012-03-03         2012-10-05               27   \n",
       "3        121094467          2012-03-02         2012-11-29              163   \n",
       "4        121473052          2012-03-07         2012-11-28               46   \n",
       "...            ...                 ...                ...              ...   \n",
       "302256  4395739747          2012-11-23         2012-11-23                1   \n",
       "302257  3831636404          2012-11-29         2012-11-29                1   \n",
       "302258  4381356327          2012-11-18         2012-11-25                3   \n",
       "302259  4358612016          2012-11-09         2012-11-09                1   \n",
       "302260  4384509045          2012-11-19         2012-11-19                1   \n",
       "\n",
       "        total_purchase_quantity  total_purchase_amount  last_3_months_spend  \n",
       "0                           284                 976.58               320.08  \n",
       "1                           837                2462.90               401.42  \n",
       "2                           252                 594.15                32.08  \n",
       "3                          2036                4997.94              1691.48  \n",
       "4                           375                1510.74               568.64  \n",
       "...                         ...                    ...                  ...  \n",
       "302256                        4                  39.96                39.96  \n",
       "302257                        9                  27.09                27.09  \n",
       "302258                       93                 377.07               377.07  \n",
       "302259                       20                 114.30               114.30  \n",
       "302260                        7                  19.21                19.21  \n",
       "\n",
       "[302261 rows x 7 columns]"
      ]
     },
     "execution_count": 39,
     "metadata": {},
     "output_type": "execute_result"
    }
   ],
   "source": [
    "rdf"
   ]
  },
  {
   "cell_type": "code",
   "execution_count": 40,
   "metadata": {
    "ExecuteTime": {
     "end_time": "2020-05-12T20:53:44.205065Z",
     "start_time": "2020-05-12T20:53:42.180863Z"
    }
   },
   "outputs": [],
   "source": [
    "# Datebase for RFM prediction\n",
    "fdf = pd.merge(rdf, pdf[[\"id\",\"RFM\", \"monetery\"]], how=\"left\", left_on=\"id\", right_on=\"id\")\n",
    "fdf.rename({\"monetery\":\"next_3_months_spend\"}, axis=1, inplace=True)\n",
    "\n",
    "fdf.to_csv(\"fdb_RFM.csv\")"
   ]
  },
  {
   "cell_type": "code",
   "execution_count": 41,
   "metadata": {
    "ExecuteTime": {
     "end_time": "2020-05-12T20:53:45.704108Z",
     "start_time": "2020-05-12T20:53:45.683989Z"
    }
   },
   "outputs": [
    {
     "data": {
      "text/html": [
       "<div>\n",
       "<style scoped>\n",
       "    .dataframe tbody tr th:only-of-type {\n",
       "        vertical-align: middle;\n",
       "    }\n",
       "\n",
       "    .dataframe tbody tr th {\n",
       "        vertical-align: top;\n",
       "    }\n",
       "\n",
       "    .dataframe thead th {\n",
       "        text-align: right;\n",
       "    }\n",
       "</style>\n",
       "<table border=\"1\" class=\"dataframe\">\n",
       "  <thead>\n",
       "    <tr style=\"text-align: right;\">\n",
       "      <th></th>\n",
       "      <th>id</th>\n",
       "      <th>first_purchase_date</th>\n",
       "      <th>last_purchase_date</th>\n",
       "      <th>total_purchases</th>\n",
       "      <th>total_purchase_quantity</th>\n",
       "      <th>total_purchase_amount</th>\n",
       "      <th>last_3_months_spend</th>\n",
       "      <th>RFM</th>\n",
       "      <th>next_3_months_spend</th>\n",
       "    </tr>\n",
       "  </thead>\n",
       "  <tbody>\n",
       "    <tr>\n",
       "      <th>0</th>\n",
       "      <td>100787762</td>\n",
       "      <td>2012-03-08</td>\n",
       "      <td>2012-11-30</td>\n",
       "      <td>52</td>\n",
       "      <td>284</td>\n",
       "      <td>976.58</td>\n",
       "      <td>320.08</td>\n",
       "      <td>3-3-1</td>\n",
       "      <td>286.78</td>\n",
       "    </tr>\n",
       "    <tr>\n",
       "      <th>1</th>\n",
       "      <td>112364053</td>\n",
       "      <td>2012-03-09</td>\n",
       "      <td>2012-11-26</td>\n",
       "      <td>49</td>\n",
       "      <td>837</td>\n",
       "      <td>2462.90</td>\n",
       "      <td>401.42</td>\n",
       "      <td>1-3-3</td>\n",
       "      <td>910.43</td>\n",
       "    </tr>\n",
       "    <tr>\n",
       "      <th>2</th>\n",
       "      <td>112987393</td>\n",
       "      <td>2012-03-03</td>\n",
       "      <td>2012-10-05</td>\n",
       "      <td>27</td>\n",
       "      <td>252</td>\n",
       "      <td>594.15</td>\n",
       "      <td>32.08</td>\n",
       "      <td>1-1-1</td>\n",
       "      <td>63.84</td>\n",
       "    </tr>\n",
       "    <tr>\n",
       "      <th>3</th>\n",
       "      <td>121094467</td>\n",
       "      <td>2012-03-02</td>\n",
       "      <td>2012-11-29</td>\n",
       "      <td>163</td>\n",
       "      <td>2036</td>\n",
       "      <td>4997.94</td>\n",
       "      <td>1691.48</td>\n",
       "      <td>4-4-4</td>\n",
       "      <td>1688.14</td>\n",
       "    </tr>\n",
       "    <tr>\n",
       "      <th>4</th>\n",
       "      <td>121473052</td>\n",
       "      <td>2012-03-07</td>\n",
       "      <td>2012-11-28</td>\n",
       "      <td>46</td>\n",
       "      <td>375</td>\n",
       "      <td>1510.74</td>\n",
       "      <td>568.64</td>\n",
       "      <td>1-3-2</td>\n",
       "      <td>784.67</td>\n",
       "    </tr>\n",
       "    <tr>\n",
       "      <th>...</th>\n",
       "      <td>...</td>\n",
       "      <td>...</td>\n",
       "      <td>...</td>\n",
       "      <td>...</td>\n",
       "      <td>...</td>\n",
       "      <td>...</td>\n",
       "      <td>...</td>\n",
       "      <td>...</td>\n",
       "      <td>...</td>\n",
       "    </tr>\n",
       "    <tr>\n",
       "      <th>302256</th>\n",
       "      <td>4395739747</td>\n",
       "      <td>2012-11-23</td>\n",
       "      <td>2012-11-23</td>\n",
       "      <td>1</td>\n",
       "      <td>4</td>\n",
       "      <td>39.96</td>\n",
       "      <td>39.96</td>\n",
       "      <td>2-1-1</td>\n",
       "      <td>361.88</td>\n",
       "    </tr>\n",
       "    <tr>\n",
       "      <th>302257</th>\n",
       "      <td>3831636404</td>\n",
       "      <td>2012-11-29</td>\n",
       "      <td>2012-11-29</td>\n",
       "      <td>1</td>\n",
       "      <td>9</td>\n",
       "      <td>27.09</td>\n",
       "      <td>27.09</td>\n",
       "      <td>4-2-1</td>\n",
       "      <td>65.61</td>\n",
       "    </tr>\n",
       "    <tr>\n",
       "      <th>302258</th>\n",
       "      <td>4381356327</td>\n",
       "      <td>2012-11-18</td>\n",
       "      <td>2012-11-25</td>\n",
       "      <td>3</td>\n",
       "      <td>93</td>\n",
       "      <td>377.07</td>\n",
       "      <td>377.07</td>\n",
       "      <td>2-2-3</td>\n",
       "      <td>831.15</td>\n",
       "    </tr>\n",
       "    <tr>\n",
       "      <th>302259</th>\n",
       "      <td>4358612016</td>\n",
       "      <td>2012-11-09</td>\n",
       "      <td>2012-11-09</td>\n",
       "      <td>1</td>\n",
       "      <td>20</td>\n",
       "      <td>114.30</td>\n",
       "      <td>114.30</td>\n",
       "      <td>4-1-1</td>\n",
       "      <td>347.41</td>\n",
       "    </tr>\n",
       "    <tr>\n",
       "      <th>302260</th>\n",
       "      <td>4384509045</td>\n",
       "      <td>2012-11-19</td>\n",
       "      <td>2012-11-19</td>\n",
       "      <td>1</td>\n",
       "      <td>7</td>\n",
       "      <td>19.21</td>\n",
       "      <td>19.21</td>\n",
       "      <td>2-2-1</td>\n",
       "      <td>278.50</td>\n",
       "    </tr>\n",
       "  </tbody>\n",
       "</table>\n",
       "<p>302261 rows × 9 columns</p>\n",
       "</div>"
      ],
      "text/plain": [
       "                id first_purchase_date last_purchase_date  total_purchases  \\\n",
       "0        100787762          2012-03-08         2012-11-30               52   \n",
       "1        112364053          2012-03-09         2012-11-26               49   \n",
       "2        112987393          2012-03-03         2012-10-05               27   \n",
       "3        121094467          2012-03-02         2012-11-29              163   \n",
       "4        121473052          2012-03-07         2012-11-28               46   \n",
       "...            ...                 ...                ...              ...   \n",
       "302256  4395739747          2012-11-23         2012-11-23                1   \n",
       "302257  3831636404          2012-11-29         2012-11-29                1   \n",
       "302258  4381356327          2012-11-18         2012-11-25                3   \n",
       "302259  4358612016          2012-11-09         2012-11-09                1   \n",
       "302260  4384509045          2012-11-19         2012-11-19                1   \n",
       "\n",
       "        total_purchase_quantity  total_purchase_amount  last_3_months_spend  \\\n",
       "0                           284                 976.58               320.08   \n",
       "1                           837                2462.90               401.42   \n",
       "2                           252                 594.15                32.08   \n",
       "3                          2036                4997.94              1691.48   \n",
       "4                           375                1510.74               568.64   \n",
       "...                         ...                    ...                  ...   \n",
       "302256                        4                  39.96                39.96   \n",
       "302257                        9                  27.09                27.09   \n",
       "302258                       93                 377.07               377.07   \n",
       "302259                       20                 114.30               114.30   \n",
       "302260                        7                  19.21                19.21   \n",
       "\n",
       "          RFM  next_3_months_spend  \n",
       "0       3-3-1               286.78  \n",
       "1       1-3-3               910.43  \n",
       "2       1-1-1                63.84  \n",
       "3       4-4-4              1688.14  \n",
       "4       1-3-2               784.67  \n",
       "...       ...                  ...  \n",
       "302256  2-1-1               361.88  \n",
       "302257  4-2-1                65.61  \n",
       "302258  2-2-3               831.15  \n",
       "302259  4-1-1               347.41  \n",
       "302260  2-2-1               278.50  \n",
       "\n",
       "[302261 rows x 9 columns]"
      ]
     },
     "execution_count": 41,
     "metadata": {},
     "output_type": "execute_result"
    }
   ],
   "source": [
    "fdf"
   ]
  },
  {
   "cell_type": "code",
   "execution_count": 29,
   "metadata": {
    "ExecuteTime": {
     "end_time": "2020-05-11T03:48:18.372335Z",
     "start_time": "2020-05-11T03:41:50.554906Z"
    }
   },
   "outputs": [
    {
     "name": "stdout",
     "output_type": "stream",
     "text": [
      "+-----+--------------+--------------------+\n",
      "|chain|total_customer|         total_sales|\n",
      "+-----+--------------+--------------------+\n",
      "|  392|           842|   662047.2899999995|\n",
      "|   31|          3844| 4.148265802000082E7|\n",
      "|   85|          3270| 1.322710844999991E7|\n",
      "|   65|          2863|1.0672075089999927E7|\n",
      "|  133|          1404|   6856905.029999938|\n",
      "|  362|             6|   23723.09999999982|\n",
      "|  108|           734|1.5753599110004539E7|\n",
      "|  211|          2824|1.5119610379999874E7|\n",
      "|  368|           248|  197487.05000000002|\n",
      "|  101|         10177|  4.67795736399996E7|\n",
      "|  126|          3579| 1.765192515999984E7|\n",
      "|  115|            26|   92757.69999999921|\n",
      "|   81|             4|   8793.690000000031|\n",
      "|   26|          3647| 2.152529559999984E7|\n",
      "|  384|           149|   639627.2499999984|\n",
      "|  192|           195|   718639.1599999949|\n",
      "|   12|          3218| 1.716450838999985E7|\n",
      "|  388|            69|  62710.489999999976|\n",
      "|  285|          3848|1.5786674109999878E7|\n",
      "|  122|           124|   886830.7399999918|\n",
      "+-----+--------------+--------------------+\n",
      "only showing top 20 rows\n",
      "\n"
     ]
    }
   ],
   "source": [
    "query = \"\"\"SELECT distinct chain, \n",
    "                count(distinct id) as total_customer,\n",
    "                sum(purchaseamount) as total_sales\n",
    "                FROM trans\n",
    "                GROUP BY chainrdf\n",
    "             \"\"\"\n",
    "sdf = spark.sql(query)\n",
    "sdf.show()\n",
    "pdf = sdf.toPandas()\n",
    "pdf.to_csv(\"chain_sales.csv\")"
   ]
  },
  {
   "cell_type": "code",
   "execution_count": 30,
   "metadata": {
    "ExecuteTime": {
     "end_time": "2020-05-11T04:04:50.494521Z",
     "start_time": "2020-05-11T03:58:18.628222Z"
    }
   },
   "outputs": [
    {
     "name": "stdout",
     "output_type": "stream",
     "text": [
      "+----+--------------+--------------------+\n",
      "|dept|total_customer|         total_sales|\n",
      "+----+--------------+--------------------+\n",
      "|  31|        259740|   8521662.690000013|\n",
      "|  65|        117070|  1270338.8099999975|\n",
      "|  53|        247967|       1.143394943E7|\n",
      "|  78|         67971|  1007019.0699999981|\n",
      "|  34|        254015|          9217318.09|\n",
      "|  81|         87925|1.1167119810000002E7|\n",
      "|  28|        240964|   7101620.030000004|\n",
      "|  26|        305319| 7.453308867999949E7|\n",
      "|  27|        199297|3.8713963619999975E7|\n",
      "|  44|        198028|   6104942.410000011|\n",
      "|  12|        205906|   6610733.090000004|\n",
      "|  91|         57678|1.7518924749998093E7|\n",
      "|  22|        235959|   8001726.500000006|\n",
      "|  47|         66956|          1287244.36|\n",
      "|   1|         57283|   9144412.490000008|\n",
      "|  13|        179172|  2292008.3299999987|\n",
      "|  16|        191503|  3214866.0200000047|\n",
      "|   6|        184568|   9322618.460000005|\n",
      "|   3|        247412|   9225715.230000013|\n",
      "|  40|        183592|   4256262.110000006|\n",
      "+----+--------------+--------------------+\n",
      "only showing top 20 rows\n",
      "\n"
     ]
    }
   ],
   "source": [
    "query = \"\"\"SELECT distinct dept, \n",
    "                count(distinct id) as total_customer,\n",
    "                sum(purchaseamount) as total_sales\n",
    "                FROM trans\n",
    "                GROUP BY dept\n",
    "             \"\"\"\n",
    "sdf = spark.sql(query)\n",
    "sdf.show()\n",
    "pdf = sdf.toPandas()\n",
    "pdf.to_csv(\"dept_sales.csv\")"
   ]
  },
  {
   "cell_type": "code",
   "execution_count": 31,
   "metadata": {
    "ExecuteTime": {
     "end_time": "2020-05-11T04:35:04.149157Z",
     "start_time": "2020-05-11T04:27:18.233763Z"
    }
   },
   "outputs": [
    {
     "name": "stdout",
     "output_type": "stream",
     "text": [
      "+--------+--------------+------------------+\n",
      "|category|total_customer|       total_sales|\n",
      "+--------+--------------+------------------+\n",
      "|    1829|         61921|1159417.3799999983|\n",
      "|    7340|         19439| 247942.6999999998|\n",
      "|    2122|          7171|108950.10999999994|\n",
      "|    1721|         58878|476803.52000000025|\n",
      "|    5614|        137060|3896432.4799999977|\n",
      "|    8105|          2435|192728.59999999995|\n",
      "|    1896|           925| 143061.2300000001|\n",
      "|    2999|           179| 965.0000000000007|\n",
      "|     516|        196992| 7322959.750000007|\n",
      "|    5117|         90462| 2298661.120000002|\n",
      "|    2711|          7018|138188.99999999997|\n",
      "|    3704|         68551| 531449.9500000001|\n",
      "|    9517|         99946| 954377.9599999978|\n",
      "|     808|         42456|213318.20999999996|\n",
      "|    2923|         82837|         864449.46|\n",
      "|    2622|        226308| 4488733.760000003|\n",
      "|    7324|         12459|104687.00000000007|\n",
      "|    5907|        111753|1670618.8399999994|\n",
      "|    2924|         71314| 703047.2599999998|\n",
      "|    9206|         11844|185413.25999999995|\n",
      "+--------+--------------+------------------+\n",
      "only showing top 20 rows\n",
      "\n"
     ]
    }
   ],
   "source": [
    "query = \"\"\"SELECT distinct category, \n",
    "                count(distinct id) as total_customer,\n",
    "                sum(purchaseamount) as total_sales\n",
    "                FROM trans\n",
    "                GROUP BY category\n",
    "             \"\"\"\n",
    "sdf = spark.sql(query)\n",
    "sdf.show()\n",
    "pdf = sdf.toPandas()\n",
    "pdf.to_csv(\"category_sales.csv\")"
   ]
  },
  {
   "cell_type": "code",
   "execution_count": 32,
   "metadata": {
    "ExecuteTime": {
     "end_time": "2020-05-11T04:43:06.820085Z",
     "start_time": "2020-05-11T04:35:08.394686Z"
    }
   },
   "outputs": [
    {
     "name": "stdout",
     "output_type": "stream",
     "text": [
      "+-----+--------------+------------------+\n",
      "|brand|total_customer|       total_sales|\n",
      "+-----+--------------+------------------+\n",
      "| 5518|         14374|210057.25999999983|\n",
      "| 2142|         56876| 1140324.759999997|\n",
      "|11748|         53968| 532573.8499999997|\n",
      "| 5803|          4591| 79764.30999999998|\n",
      "|18051|         45959|1130600.7999999975|\n",
      "| 4935|          8761| 66596.52000000002|\n",
      "|44358|         20725|          78172.27|\n",
      "|11317|           810|          17156.46|\n",
      "| 1959|          4437|159152.75000000003|\n",
      "|31528|           160| 2284.499999999999|\n",
      "|34759|          5071|109670.94000000002|\n",
      "|68135|         15583|431460.47000000003|\n",
      "|31367|          2091|14608.430000000006|\n",
      "|27484|         14041|          62972.77|\n",
      "|40653|           106| 6588.389999999994|\n",
      "| 7833|          3827| 21375.76000000002|\n",
      "| 1342|         12573|120289.16000000003|\n",
      "|19530|         14052|136012.51999999996|\n",
      "| 3997|           793| 4520.599999999998|\n",
      "| 1580|          2481| 7419.509999999998|\n",
      "+-----+--------------+------------------+\n",
      "only showing top 20 rows\n",
      "\n"
     ]
    }
   ],
   "source": [
    "query = \"\"\"SELECT distinct brand, \n",
    "                count(distinct id) as total_customer,\n",
    "                sum(purchaseamount) as total_sales\n",
    "                FROM trans\n",
    "                GROUP BY brand\n",
    "             \"\"\"\n",
    "sdf = spark.sql(query)\n",
    "sdf.show()\n",
    "pdf = sdf.toPandas()\n",
    "pdf.to_csv(\"brand_sales.csv\")"
   ]
  },
  {
   "cell_type": "code",
   "execution_count": 89,
   "metadata": {
    "ExecuteTime": {
     "end_time": "2020-05-12T06:32:51.956858Z",
     "start_time": "2020-05-12T06:20:23.258103Z"
    }
   },
   "outputs": [],
   "source": [
    "query = \"\"\"SELECT distinct YEAR(date) as year,\n",
    "                MONTH(date) as month, \n",
    "                count(distinct id) as total_customer,\n",
    "                sum(purchaseamount) as total_sales\n",
    "                FROM trans\n",
    "                GROUP BY year,month\n",
    "             \"\"\"\n",
    "sdf = spark.sql(query)\n",
    "# sdf.show()\n",
    "pdf = sdf.toPandas()\n",
    "pdf.to_csv(\"month_sales.csv\")"
   ]
  },
  {
   "cell_type": "markdown",
   "metadata": {},
   "source": [
    "## RFM2\n"
   ]
  },
  {
   "cell_type": "code",
   "execution_count": 232,
   "metadata": {
    "ExecuteTime": {
     "end_time": "2020-05-14T01:36:50.394113Z",
     "start_time": "2020-05-14T01:36:50.023719Z"
    }
   },
   "outputs": [],
   "source": [
    "import pandas as pd\n",
    "rdf = pd.read_csv(\"ndb1.csv\",index_col=0)\n",
    "pdf = pd.read_csv(\"ndb2_target.csv\", index_col=0)"
   ]
  },
  {
   "cell_type": "code",
   "execution_count": 362,
   "metadata": {
    "ExecuteTime": {
     "end_time": "2020-05-14T04:43:21.656632Z",
     "start_time": "2020-05-14T04:43:21.643067Z"
    }
   },
   "outputs": [],
   "source": [
    "rdf = pd.read_csv(\"predictor.csv\",index_col=0)\n",
    "pdf = pd.read_csv(\"target.csv\", index_col=0)"
   ]
  },
  {
   "cell_type": "code",
   "execution_count": 363,
   "metadata": {
    "ExecuteTime": {
     "end_time": "2020-05-14T04:43:22.214248Z",
     "start_time": "2020-05-14T04:43:22.203236Z"
    }
   },
   "outputs": [
    {
     "name": "stdout",
     "output_type": "stream",
     "text": [
      "<class 'pandas.core.frame.DataFrame'>\n",
      "Int64Index: 3467 entries, 0 to 3466\n",
      "Data columns (total 6 columns):\n",
      " #   Column                 Non-Null Count  Dtype  \n",
      "---  ------                 --------------  -----  \n",
      " 0   CustomerID             3467 non-null   float64\n",
      " 1   first_purchase_date    3467 non-null   object \n",
      " 2   last_purchase_date     3467 non-null   object \n",
      " 3   total_purchases        3467 non-null   int64  \n",
      " 4   total_purchase_amount  3467 non-null   float64\n",
      " 5   last_3_months_spend    3467 non-null   float64\n",
      "dtypes: float64(3), int64(1), object(2)\n",
      "memory usage: 189.6+ KB\n"
     ]
    }
   ],
   "source": [
    "rdf.info()"
   ]
  },
  {
   "cell_type": "code",
   "execution_count": 364,
   "metadata": {
    "ExecuteTime": {
     "end_time": "2020-05-14T04:43:23.443438Z",
     "start_time": "2020-05-14T04:43:23.414949Z"
    }
   },
   "outputs": [],
   "source": [
    "# Datebase for RFM prediction\n",
    "# pdf[\"recency\"] = pd.to_datetime(\"2013-03-02\") - pd.to_datetime(pdf[\"last_purchase_date\"]) \n",
    "pdf[\"recency\"] = pd.to_datetime('2012-01-01') - pd.to_datetime(pdf[\"last_purchase_date\"])\n",
    "pdf[\"recency\"] = pdf[\"recency\"].apply(lambda x:x.days)\n",
    "pdf[\"monetery\"] = pdf[\"total_purchase_amount\"]/pdf[\"total_purchases\"]\n",
    "pdf.rename({\"total_purchases\" : \"frequency\"},\n",
    "           axis = 1,\n",
    "          inplace = True)"
   ]
  },
  {
   "cell_type": "code",
   "execution_count": 365,
   "metadata": {
    "ExecuteTime": {
     "end_time": "2020-05-14T04:43:24.069926Z",
     "start_time": "2020-05-14T04:43:24.050565Z"
    }
   },
   "outputs": [
    {
     "data": {
      "text/html": [
       "<div>\n",
       "<style scoped>\n",
       "    .dataframe tbody tr th:only-of-type {\n",
       "        vertical-align: middle;\n",
       "    }\n",
       "\n",
       "    .dataframe tbody tr th {\n",
       "        vertical-align: top;\n",
       "    }\n",
       "\n",
       "    .dataframe thead th {\n",
       "        text-align: right;\n",
       "    }\n",
       "</style>\n",
       "<table border=\"1\" class=\"dataframe\">\n",
       "  <thead>\n",
       "    <tr style=\"text-align: right;\">\n",
       "      <th></th>\n",
       "      <th>recency</th>\n",
       "      <th>frequency</th>\n",
       "      <th>monetery</th>\n",
       "    </tr>\n",
       "  </thead>\n",
       "  <tbody>\n",
       "    <tr>\n",
       "      <th>count</th>\n",
       "      <td>2620.000000</td>\n",
       "      <td>2620.000000</td>\n",
       "      <td>2620.000000</td>\n",
       "    </tr>\n",
       "    <tr>\n",
       "      <th>mean</th>\n",
       "      <td>48.021374</td>\n",
       "      <td>2.093893</td>\n",
       "      <td>391.189374</td>\n",
       "    </tr>\n",
       "    <tr>\n",
       "      <th>std</th>\n",
       "      <td>19.638065</td>\n",
       "      <td>2.107180</td>\n",
       "      <td>568.216199</td>\n",
       "    </tr>\n",
       "    <tr>\n",
       "      <th>min</th>\n",
       "      <td>23.000000</td>\n",
       "      <td>1.000000</td>\n",
       "      <td>-788.380000</td>\n",
       "    </tr>\n",
       "    <tr>\n",
       "      <th>25%</th>\n",
       "      <td>31.000000</td>\n",
       "      <td>1.000000</td>\n",
       "      <td>167.535000</td>\n",
       "    </tr>\n",
       "    <tr>\n",
       "      <th>50%</th>\n",
       "      <td>44.000000</td>\n",
       "      <td>1.000000</td>\n",
       "      <td>281.821250</td>\n",
       "    </tr>\n",
       "    <tr>\n",
       "      <th>75%</th>\n",
       "      <td>62.000000</td>\n",
       "      <td>2.000000</td>\n",
       "      <td>437.907500</td>\n",
       "    </tr>\n",
       "    <tr>\n",
       "      <th>max</th>\n",
       "      <td>93.000000</td>\n",
       "      <td>42.000000</td>\n",
       "      <td>12393.700000</td>\n",
       "    </tr>\n",
       "  </tbody>\n",
       "</table>\n",
       "</div>"
      ],
      "text/plain": [
       "           recency    frequency      monetery\n",
       "count  2620.000000  2620.000000   2620.000000\n",
       "mean     48.021374     2.093893    391.189374\n",
       "std      19.638065     2.107180    568.216199\n",
       "min      23.000000     1.000000   -788.380000\n",
       "25%      31.000000     1.000000    167.535000\n",
       "50%      44.000000     1.000000    281.821250\n",
       "75%      62.000000     2.000000    437.907500\n",
       "max      93.000000    42.000000  12393.700000"
      ]
     },
     "execution_count": 365,
     "metadata": {},
     "output_type": "execute_result"
    }
   ],
   "source": [
    "pdf[[\"recency\",'frequency','monetery']].describe()"
   ]
  },
  {
   "cell_type": "code",
   "execution_count": 366,
   "metadata": {
    "ExecuteTime": {
     "end_time": "2020-05-14T04:43:42.051263Z",
     "start_time": "2020-05-14T04:43:42.036666Z"
    }
   },
   "outputs": [],
   "source": [
    "# --Calculate R and F groups--\n",
    "# Create labels for Recency and Frequency\n",
    "r_labels = range(2, 0, -1); f_labels = range(1, 3)\n",
    "# Assign these labels to 4 equal percentile groups \n",
    "r_groups = pd.qcut(pdf['recency'], [0,0.25,1], labels=r_labels, duplicates='drop')\n",
    "# Assign these labels to 4 equal percentile groups y_test2\n",
    "f_groups = pd.qcut(pdf['frequency'], [0,0.75,1], labels=f_labels, duplicates='drop')\n",
    "# Create new columns R and F \n",
    "pdf = pdf.assign(R = r_groups.values, F = f_groups.values)\n",
    "\n",
    "# Create labels for MonetaryValue\n",
    "m_labels = range(1, 3)\n",
    "# Assign these labels to three equal percentile groups \n",
    "m_groups = pd.qcut(pdf['monetery'], [0,0.25,1], labels=m_labels, duplicates='drop')\n",
    "# Create new column M\n",
    "pdf = pdf.assign(M = m_groups.values)"
   ]
  },
  {
   "cell_type": "code",
   "execution_count": 367,
   "metadata": {
    "ExecuteTime": {
     "end_time": "2020-05-14T04:43:42.410223Z",
     "start_time": "2020-05-14T04:43:42.400873Z"
    }
   },
   "outputs": [
    {
     "name": "stdout",
     "output_type": "stream",
     "text": [
      "<class 'pandas.core.frame.DataFrame'>\n",
      "Int64Index: 2620 entries, 0 to 2619\n",
      "Data columns (total 10 columns):\n",
      " #   Column                 Non-Null Count  Dtype   \n",
      "---  ------                 --------------  -----   \n",
      " 0   CustomerID             2620 non-null   float64 \n",
      " 1   first_purchase_date    2620 non-null   object  \n",
      " 2   last_purchase_date     2620 non-null   object  \n",
      " 3   frequency              2620 non-null   int64   \n",
      " 4   total_purchase_amount  2620 non-null   float64 \n",
      " 5   recency                2620 non-null   int64   \n",
      " 6   monetery               2620 non-null   float64 \n",
      " 7   R                      2620 non-null   category\n",
      " 8   F                      2620 non-null   category\n",
      " 9   M                      2620 non-null   category\n",
      "dtypes: category(3), float64(3), int64(2), object(2)\n",
      "memory usage: 171.8+ KB\n"
     ]
    }
   ],
   "source": [
    "pdf.info()"
   ]
  },
  {
   "cell_type": "code",
   "execution_count": 368,
   "metadata": {
    "ExecuteTime": {
     "end_time": "2020-05-14T04:43:42.881539Z",
     "start_time": "2020-05-14T04:43:42.836662Z"
    }
   },
   "outputs": [],
   "source": [
    "pdf[\"RFM\"] = pdf[\"R\"].astype(str) + \"-\"  + pdf[\"F\"].astype(str) + \"-\" + pdf[\"M\"].astype(str)\n",
    "\n",
    "# Datebase for RFM prediction\n",
    "# fdf = pd.merge(rdf, pdf[[\"id\",\"RFM\", \"monetery\"]], how=\"left\", left_on=\"id\", right_on=\"id\")\n",
    "fdf = pd.merge(rdf, pdf[[\"CustomerID\",\"RFM\",\"total_purchase_amount\"]], how=\"left\", left_on=\"CustomerID\", right_on=\"CustomerID\")\n",
    "\n",
    "fdf.rename({\"total_purchase_amount_y\":\"next_3_months_spend\"}, axis=1, inplace=True)\n",
    "fdf[\"RFM\"] = fdf[\"RFM\"].fillna(\"1-1-1\")\n",
    "fdf[\"next_3_months_spend\"] = fdf[\"next_3_months_spend\"].fillna(0)\n",
    "\n",
    "df_train, df_test= train_test_split(fdf, shuffle=True, test_size=0.2, random_state=42)\n",
    "df_train.to_csv(\"fdb_RFM3_train.csv\")\n",
    "df_test.to_csv(\"fdb_RFM3_test.csv\")"
   ]
  },
  {
   "cell_type": "code",
   "execution_count": 369,
   "metadata": {
    "ExecuteTime": {
     "end_time": "2020-05-14T04:43:43.325806Z",
     "start_time": "2020-05-14T04:43:43.318630Z"
    }
   },
   "outputs": [
    {
     "data": {
      "text/plain": [
       "1-1-1    1910\n",
       "1-1-2     774\n",
       "2-2-2     277\n",
       "1-2-2     188\n",
       "2-1-2     165\n",
       "2-1-1      56\n",
       "1-2-1      50\n",
       "2-2-1      47\n",
       "Name: RFM, dtype: int64"
      ]
     },
     "execution_count": 369,
     "metadata": {},
     "output_type": "execute_result"
    }
   ],
   "source": [
    "fdf[\"RFM\"].value_counts()"
   ]
  },
  {
   "cell_type": "code",
   "execution_count": 370,
   "metadata": {
    "ExecuteTime": {
     "end_time": "2020-05-14T04:43:44.516638Z",
     "start_time": "2020-05-14T04:43:44.505311Z"
    }
   },
   "outputs": [
    {
     "name": "stdout",
     "output_type": "stream",
     "text": [
      "<class 'pandas.core.frame.DataFrame'>\n",
      "Int64Index: 3467 entries, 0 to 3466\n",
      "Data columns (total 8 columns):\n",
      " #   Column                   Non-Null Count  Dtype  \n",
      "---  ------                   --------------  -----  \n",
      " 0   CustomerID               3467 non-null   float64\n",
      " 1   first_purchase_date      3467 non-null   object \n",
      " 2   last_purchase_date       3467 non-null   object \n",
      " 3   total_purchases          3467 non-null   int64  \n",
      " 4   total_purchase_amount_x  3467 non-null   float64\n",
      " 5   last_3_months_spend      3467 non-null   float64\n",
      " 6   RFM                      3467 non-null   object \n",
      " 7   next_3_months_spend      3467 non-null   float64\n",
      "dtypes: float64(4), int64(1), object(3)\n",
      "memory usage: 243.8+ KB\n"
     ]
    }
   ],
   "source": [
    "fdf.info()"
   ]
  },
  {
   "cell_type": "code",
   "execution_count": 371,
   "metadata": {
    "ExecuteTime": {
     "end_time": "2020-05-14T04:43:48.149622Z",
     "start_time": "2020-05-14T04:43:48.108651Z"
    }
   },
   "outputs": [],
   "source": [
    "df_train, df_test= train_test_split(fdf, shuffle=True, test_size=0.2, random_state=42)\n",
    "df_train.to_csv(\"fdb_RFM3_train.csv\")\n",
    "df_test.to_csv(\"fdb_RFM3_test.csv\")"
   ]
  },
  {
   "cell_type": "markdown",
   "metadata": {},
   "source": [
    "-----"
   ]
  },
  {
   "cell_type": "code",
   "execution_count": 144,
   "metadata": {
    "ExecuteTime": {
     "end_time": "2020-05-14T00:04:01.123166Z",
     "start_time": "2020-05-14T00:04:00.637083Z"
    }
   },
   "outputs": [
    {
     "data": {
      "text/html": [
       "<div>\n",
       "<style scoped>\n",
       "    .dataframe tbody tr th:only-of-type {\n",
       "        vertical-align: middle;\n",
       "    }\n",
       "\n",
       "    .dataframe tbody tr th {\n",
       "        vertical-align: top;\n",
       "    }\n",
       "\n",
       "    .dataframe thead th {\n",
       "        text-align: right;\n",
       "    }\n",
       "</style>\n",
       "<table border=\"1\" class=\"dataframe\">\n",
       "  <thead>\n",
       "    <tr style=\"text-align: right;\">\n",
       "      <th></th>\n",
       "      <th>InvoiceNo</th>\n",
       "      <th>StockCode</th>\n",
       "      <th>Description</th>\n",
       "      <th>Quantity</th>\n",
       "      <th>InvoiceDate</th>\n",
       "      <th>UnitPrice</th>\n",
       "      <th>CustomerID</th>\n",
       "      <th>Country</th>\n",
       "    </tr>\n",
       "  </thead>\n",
       "  <tbody>\n",
       "    <tr>\n",
       "      <th>0</th>\n",
       "      <td>536365</td>\n",
       "      <td>85123A</td>\n",
       "      <td>WHITE HANGING HEART T-LIGHT HOLDER</td>\n",
       "      <td>6</td>\n",
       "      <td>12/1/2010 8:26</td>\n",
       "      <td>2.55</td>\n",
       "      <td>17850.0</td>\n",
       "      <td>United Kingdom</td>\n",
       "    </tr>\n",
       "    <tr>\n",
       "      <th>1</th>\n",
       "      <td>536365</td>\n",
       "      <td>71053</td>\n",
       "      <td>WHITE METAL LANTERN</td>\n",
       "      <td>6</td>\n",
       "      <td>12/1/2010 8:26</td>\n",
       "      <td>3.39</td>\n",
       "      <td>17850.0</td>\n",
       "      <td>United Kingdom</td>\n",
       "    </tr>\n",
       "    <tr>\n",
       "      <th>2</th>\n",
       "      <td>536365</td>\n",
       "      <td>84406B</td>\n",
       "      <td>CREAM CUPID HEARTS COAT HANGER</td>\n",
       "      <td>8</td>\n",
       "      <td>12/1/2010 8:26</td>\n",
       "      <td>2.75</td>\n",
       "      <td>17850.0</td>\n",
       "      <td>United Kingdom</td>\n",
       "    </tr>\n",
       "    <tr>\n",
       "      <th>3</th>\n",
       "      <td>536365</td>\n",
       "      <td>84029G</td>\n",
       "      <td>KNITTED UNION FLAG HOT WATER BOTTLE</td>\n",
       "      <td>6</td>\n",
       "      <td>12/1/2010 8:26</td>\n",
       "      <td>3.39</td>\n",
       "      <td>17850.0</td>\n",
       "      <td>United Kingdom</td>\n",
       "    </tr>\n",
       "    <tr>\n",
       "      <th>4</th>\n",
       "      <td>536365</td>\n",
       "      <td>84029E</td>\n",
       "      <td>RED WOOLLY HOTTIE WHITE HEART.</td>\n",
       "      <td>6</td>\n",
       "      <td>12/1/2010 8:26</td>\n",
       "      <td>3.39</td>\n",
       "      <td>17850.0</td>\n",
       "      <td>United Kingdom</td>\n",
       "    </tr>\n",
       "  </tbody>\n",
       "</table>\n",
       "</div>"
      ],
      "text/plain": [
       "  InvoiceNo StockCode                          Description  Quantity  \\\n",
       "0    536365    85123A   WHITE HANGING HEART T-LIGHT HOLDER         6   \n",
       "1    536365     71053                  WHITE METAL LANTERN         6   \n",
       "2    536365    84406B       CREAM CUPID HEARTS COAT HANGER         8   \n",
       "3    536365    84029G  KNITTED UNION FLAG HOT WATER BOTTLE         6   \n",
       "4    536365    84029E       RED WOOLLY HOTTIE WHITE HEART.         6   \n",
       "\n",
       "      InvoiceDate  UnitPrice  CustomerID         Country  \n",
       "0  12/1/2010 8:26       2.55     17850.0  United Kingdom  \n",
       "1  12/1/2010 8:26       3.39     17850.0  United Kingdom  \n",
       "2  12/1/2010 8:26       2.75     17850.0  United Kingdom  \n",
       "3  12/1/2010 8:26       3.39     17850.0  United Kingdom  \n",
       "4  12/1/2010 8:26       3.39     17850.0  United Kingdom  "
      ]
     },
     "execution_count": 144,
     "metadata": {},
     "output_type": "execute_result"
    }
   ],
   "source": [
    "df1 = pd.read_csv(\"data.csv\", encoding = \"ISO-8859-1\");df1.head()"
   ]
  },
  {
   "cell_type": "code",
   "execution_count": 145,
   "metadata": {
    "ExecuteTime": {
     "end_time": "2020-05-14T00:04:01.863398Z",
     "start_time": "2020-05-14T00:04:01.772680Z"
    }
   },
   "outputs": [
    {
     "name": "stdout",
     "output_type": "stream",
     "text": [
      "<class 'pandas.core.frame.DataFrame'>\n",
      "RangeIndex: 541909 entries, 0 to 541908\n",
      "Data columns (total 8 columns):\n",
      " #   Column       Non-Null Count   Dtype  \n",
      "---  ------       --------------   -----  \n",
      " 0   InvoiceNo    541909 non-null  object \n",
      " 1   StockCode    541909 non-null  object \n",
      " 2   Description  540455 non-null  object \n",
      " 3   Quantity     541909 non-null  int64  \n",
      " 4   InvoiceDate  541909 non-null  object \n",
      " 5   UnitPrice    541909 non-null  float64\n",
      " 6   CustomerID   406829 non-null  float64\n",
      " 7   Country      541909 non-null  object \n",
      "dtypes: float64(2), int64(1), object(5)\n",
      "memory usage: 33.1+ MB\n"
     ]
    }
   ],
   "source": [
    "df1.info()"
   ]
  },
  {
   "cell_type": "code",
   "execution_count": 146,
   "metadata": {
    "ExecuteTime": {
     "end_time": "2020-05-14T00:05:37.663939Z",
     "start_time": "2020-05-14T00:04:02.516497Z"
    }
   },
   "outputs": [],
   "source": [
    "df1[\"InvoiceDate\"] = df1[\"InvoiceDate\"].apply(lambda x: pd.to_datetime(x.split(\" \")[0]))"
   ]
  },
  {
   "cell_type": "code",
   "execution_count": 147,
   "metadata": {
    "ExecuteTime": {
     "end_time": "2020-05-14T00:05:58.618585Z",
     "start_time": "2020-05-14T00:05:58.615099Z"
    }
   },
   "outputs": [],
   "source": [
    "g = df1.groupby(\"InvoiceDate\")"
   ]
  },
  {
   "cell_type": "code",
   "execution_count": 148,
   "metadata": {
    "ExecuteTime": {
     "end_time": "2020-05-14T00:06:00.991598Z",
     "start_time": "2020-05-14T00:06:00.801550Z"
    }
   },
   "outputs": [
    {
     "data": {
      "text/plain": [
       "<matplotlib.axes._subplots.AxesSubplot at 0x7f4a35178470>"
      ]
     },
     "execution_count": 148,
     "metadata": {},
     "output_type": "execute_result"
    },
    {
     "data": {
      "image/png": "[encoded data removed]",
      "text/plain": [
       "<Figure size 432x288 with 1 Axes>"
      ]
     },
     "metadata": {
      "needs_background": "light"
     },
     "output_type": "display_data"
    }
   ],
   "source": [
    "g.InvoiceNo.count().plot()"
   ]
  },
  {
   "cell_type": "code",
   "execution_count": 149,
   "metadata": {
    "ExecuteTime": {
     "end_time": "2020-05-14T00:06:03.466330Z",
     "start_time": "2020-05-14T00:06:03.373609Z"
    }
   },
   "outputs": [],
   "source": [
    "df1.dropna(inplace = True)"
   ]
  },
  {
   "cell_type": "code",
   "execution_count": 150,
   "metadata": {
    "ExecuteTime": {
     "end_time": "2020-05-14T00:06:09.714098Z",
     "start_time": "2020-05-14T00:06:06.526069Z"
    }
   },
   "outputs": [],
   "source": [
    "df1.to_csv(\"data2.csv\")"
   ]
  },
  {
   "cell_type": "code",
   "execution_count": null,
   "metadata": {},
   "outputs": [],
   "source": []
  },
  {
   "cell_type": "code",
   "execution_count": 329,
   "metadata": {
    "ExecuteTime": {
     "end_time": "2020-05-14T04:34:25.596157Z",
     "start_time": "2020-05-14T04:34:24.878524Z"
    }
   },
   "outputs": [],
   "source": [
    "df = spark.read.csv('data2.csv',\n",
    "                    header=True,       # use headers or not\n",
    "                    quote='\"',         # char for quotes\n",
    "                    sep=\",\",           # char for separation\n",
    "                    inferSchema=True)  # do we infer schema or not ?"
   ]
  },
  {
   "cell_type": "code",
   "execution_count": 330,
   "metadata": {
    "ExecuteTime": {
     "end_time": "2020-05-14T04:34:26.296473Z",
     "start_time": "2020-05-14T04:34:26.291814Z"
    }
   },
   "outputs": [
    {
     "name": "stdout",
     "output_type": "stream",
     "text": [
      "root\n",
      " |-- _c0: integer (nullable = true)\n",
      " |-- InvoiceNo: string (nullable = true)\n",
      " |-- StockCode: string (nullable = true)\n",
      " |-- Description: string (nullable = true)\n",
      " |-- Quantity: integer (nullable = true)\n",
      " |-- InvoiceDate: timestamp (nullable = true)\n",
      " |-- UnitPrice: double (nullable = true)\n",
      " |-- CustomerID: double (nullable = true)\n",
      " |-- Country: string (nullable = true)\n",
      "\n"
     ]
    }
   ],
   "source": [
    "df.printSchema()"
   ]
  },
  {
   "cell_type": "code",
   "execution_count": 331,
   "metadata": {
    "ExecuteTime": {
     "end_time": "2020-05-14T04:34:27.040742Z",
     "start_time": "2020-05-14T04:34:27.030325Z"
    }
   },
   "outputs": [],
   "source": [
    "df.createOrReplaceTempView('trans')"
   ]
  },
  {
   "cell_type": "code",
   "execution_count": 354,
   "metadata": {
    "ExecuteTime": {
     "end_time": "2020-05-14T04:39:14.894132Z",
     "start_time": "2020-05-14T04:39:13.350066Z"
    }
   },
   "outputs": [
    {
     "name": "stdout",
     "output_type": "stream",
     "text": [
      "+----------+-------------------+-------------------+---------------+---------------------+-------------------+\n",
      "|CustomerID|first_purchase_date| last_purchase_date|total_purchases|total_purchase_amount|last_3_months_spend|\n",
      "+----------+-------------------+-------------------+---------------+---------------------+-------------------+\n",
      "|   14024.0|2011-08-07 00:00:00|2011-08-10 00:00:00|              2|                327.7|              327.7|\n",
      "|   13533.0|2011-03-17 00:00:00|2011-06-10 00:00:00|              2|               270.79|                0.0|\n",
      "|   17633.0|2011-08-11 00:00:00|2011-09-29 00:00:00|              3|               1004.5|             1004.5|\n",
      "|   17884.0|2011-02-01 00:00:00|2011-02-01 00:00:00|              1|   278.21999999999997|                0.0|\n",
      "|   13094.0|2011-01-04 00:00:00|2011-09-20 00:00:00|             13|   1332.5400000000002|  681.6000000000001|\n",
      "|   16629.0|2011-09-04 00:00:00|2011-09-27 00:00:00|              2|    417.7299999999999|  417.7299999999999|\n",
      "|   13956.0|2011-03-13 00:00:00|2011-07-24 00:00:00|              3|               680.27|  386.5999999999999|\n",
      "|   12493.0|2011-05-26 00:00:00|2011-06-27 00:00:00|              3|               416.79|                0.0|\n",
      "|   14768.0|2011-08-04 00:00:00|2011-09-22 00:00:00|              2|    80.10000000000002|  80.10000000000002|\n",
      "|   14452.0|2011-09-07 00:00:00|2011-09-07 00:00:00|              1|               127.37|             127.37|\n",
      "|   13973.0|2011-02-25 00:00:00|2011-02-25 00:00:00|              1|                264.7|                0.0|\n",
      "|   14473.0|2011-03-02 00:00:00|2011-09-26 00:00:00|              2|   234.34000000000003| 149.34000000000003|\n",
      "|   14285.0|2011-06-16 00:00:00|2011-09-25 00:00:00|              2|   1253.4300000000003| 1247.5300000000002|\n",
      "|   17267.0|2011-08-04 00:00:00|2011-08-04 00:00:00|              1|   317.61999999999995| 317.61999999999995|\n",
      "|   13918.0|2011-03-31 00:00:00|2011-03-31 00:00:00|              1|   198.20000000000002|                0.0|\n",
      "|   15776.0|2011-07-29 00:00:00|2011-07-29 00:00:00|              1|   241.62000000000003| 241.62000000000003|\n",
      "|   18114.0|2011-02-22 00:00:00|2011-02-22 00:00:00|              1|                220.1|                0.0|\n",
      "|   16656.0|2011-01-04 00:00:00|2011-09-21 00:00:00|             16|    6987.689999999999|            3902.12|\n",
      "|   14760.0|2011-02-15 00:00:00|2011-02-18 00:00:00|              2|                 53.8|                0.0|\n",
      "|   15145.0|2011-04-05 00:00:00|2011-04-26 00:00:00|              2|               724.03|                0.0|\n",
      "+----------+-------------------+-------------------+---------------+---------------------+-------------------+\n",
      "only showing top 20 rows\n",
      "\n"
     ]
    }
   ],
   "source": [
    "query = \"\"\"SELECT distinct CustomerID, \n",
    "                min(InvoiceDate) as first_purchase_date,\n",
    "                max(InvoiceDate) as last_purchase_date,\n",
    "                count(distinct InvoiceDate) as total_purchases,\n",
    "                sum(Quantity * UnitPrice) as total_purchase_amount,\n",
    "                SUM(CASE WHEN InvoiceDate > '2011-06-30' THEN Quantity * UnitPrice ELSE 0 END) AS last_3_months_spend\n",
    "                FROM trans\n",
    "                WHERE InvoiceDate between '2010-12-31' and '2011-10-01'\n",
    "                GROUP BY CustomerID\n",
    "             \"\"\"\n",
    "sdf = spark.sql(query)\n",
    "sdf.show()"
   ]
  },
  {
   "cell_type": "code",
   "execution_count": 355,
   "metadata": {
    "ExecuteTime": {
     "end_time": "2020-05-14T04:39:18.215393Z",
     "start_time": "2020-05-14T04:39:15.957590Z"
    }
   },
   "outputs": [],
   "source": [
    "rdf = sdf.toPandas()"
   ]
  },
  {
   "cell_type": "code",
   "execution_count": 356,
   "metadata": {
    "ExecuteTime": {
     "end_time": "2020-05-14T04:39:18.961886Z",
     "start_time": "2020-05-14T04:39:18.949571Z"
    }
   },
   "outputs": [
    {
     "data": {
      "text/plain": [
       "Timestamp('2011-09-30 00:00:00')"
      ]
     },
     "execution_count": 356,
     "metadata": {},
     "output_type": "execute_result"
    }
   ],
   "source": [
    "pd.to_datetime(rdf.last_purchase_date).max()"
   ]
  },
  {
   "cell_type": "code",
   "execution_count": 357,
   "metadata": {
    "ExecuteTime": {
     "end_time": "2020-05-14T04:39:19.432821Z",
     "start_time": "2020-05-14T04:39:19.427259Z"
    }
   },
   "outputs": [
    {
     "data": {
      "text/plain": [
       "Timestamp('2011-01-04 00:00:00')"
      ]
     },
     "execution_count": 357,
     "metadata": {},
     "output_type": "execute_result"
    }
   ],
   "source": [
    "pd.to_datetime(rdf.first_purchase_date).min()"
   ]
  },
  {
   "cell_type": "code",
   "execution_count": 358,
   "metadata": {
    "ExecuteTime": {
     "end_time": "2020-05-14T04:39:20.822074Z",
     "start_time": "2020-05-14T04:39:20.805407Z"
    }
   },
   "outputs": [
    {
     "data": {
      "text/html": [
       "<div>\n",
       "<style scoped>\n",
       "    .dataframe tbody tr th:only-of-type {\n",
       "        vertical-align: middle;\n",
       "    }\n",
       "\n",
       "    .dataframe tbody tr th {\n",
       "        vertical-align: top;\n",
       "    }\n",
       "\n",
       "    .dataframe thead th {\n",
       "        text-align: right;\n",
       "    }\n",
       "</style>\n",
       "<table border=\"1\" class=\"dataframe\">\n",
       "  <thead>\n",
       "    <tr style=\"text-align: right;\">\n",
       "      <th></th>\n",
       "      <th>CustomerID</th>\n",
       "      <th>first_purchase_date</th>\n",
       "      <th>last_purchase_date</th>\n",
       "      <th>total_purchases</th>\n",
       "      <th>total_purchase_amount</th>\n",
       "      <th>last_3_months_spend</th>\n",
       "    </tr>\n",
       "  </thead>\n",
       "  <tbody>\n",
       "    <tr>\n",
       "      <th>0</th>\n",
       "      <td>14024.0</td>\n",
       "      <td>2011-08-07</td>\n",
       "      <td>2011-08-10</td>\n",
       "      <td>2</td>\n",
       "      <td>327.70</td>\n",
       "      <td>327.70</td>\n",
       "    </tr>\n",
       "    <tr>\n",
       "      <th>1</th>\n",
       "      <td>13533.0</td>\n",
       "      <td>2011-03-17</td>\n",
       "      <td>2011-06-10</td>\n",
       "      <td>2</td>\n",
       "      <td>270.79</td>\n",
       "      <td>0.00</td>\n",
       "    </tr>\n",
       "    <tr>\n",
       "      <th>2</th>\n",
       "      <td>17633.0</td>\n",
       "      <td>2011-08-11</td>\n",
       "      <td>2011-09-29</td>\n",
       "      <td>3</td>\n",
       "      <td>1004.50</td>\n",
       "      <td>1004.50</td>\n",
       "    </tr>\n",
       "    <tr>\n",
       "      <th>3</th>\n",
       "      <td>17884.0</td>\n",
       "      <td>2011-02-01</td>\n",
       "      <td>2011-02-01</td>\n",
       "      <td>1</td>\n",
       "      <td>278.22</td>\n",
       "      <td>0.00</td>\n",
       "    </tr>\n",
       "    <tr>\n",
       "      <th>4</th>\n",
       "      <td>13094.0</td>\n",
       "      <td>2011-01-04</td>\n",
       "      <td>2011-09-20</td>\n",
       "      <td>13</td>\n",
       "      <td>1332.54</td>\n",
       "      <td>681.60</td>\n",
       "    </tr>\n",
       "    <tr>\n",
       "      <th>...</th>\n",
       "      <td>...</td>\n",
       "      <td>...</td>\n",
       "      <td>...</td>\n",
       "      <td>...</td>\n",
       "      <td>...</td>\n",
       "      <td>...</td>\n",
       "    </tr>\n",
       "    <tr>\n",
       "      <th>3462</th>\n",
       "      <td>13544.0</td>\n",
       "      <td>2011-04-13</td>\n",
       "      <td>2011-04-13</td>\n",
       "      <td>1</td>\n",
       "      <td>122.91</td>\n",
       "      <td>0.00</td>\n",
       "    </tr>\n",
       "    <tr>\n",
       "      <th>3463</th>\n",
       "      <td>15510.0</td>\n",
       "      <td>2011-01-13</td>\n",
       "      <td>2011-01-13</td>\n",
       "      <td>1</td>\n",
       "      <td>250.00</td>\n",
       "      <td>0.00</td>\n",
       "    </tr>\n",
       "    <tr>\n",
       "      <th>3464</th>\n",
       "      <td>16162.0</td>\n",
       "      <td>2011-04-01</td>\n",
       "      <td>2011-04-01</td>\n",
       "      <td>1</td>\n",
       "      <td>37.40</td>\n",
       "      <td>0.00</td>\n",
       "    </tr>\n",
       "    <tr>\n",
       "      <th>3465</th>\n",
       "      <td>14155.0</td>\n",
       "      <td>2011-03-18</td>\n",
       "      <td>2011-03-18</td>\n",
       "      <td>1</td>\n",
       "      <td>118.75</td>\n",
       "      <td>0.00</td>\n",
       "    </tr>\n",
       "    <tr>\n",
       "      <th>3466</th>\n",
       "      <td>17984.0</td>\n",
       "      <td>2011-07-17</td>\n",
       "      <td>2011-07-17</td>\n",
       "      <td>1</td>\n",
       "      <td>152.68</td>\n",
       "      <td>152.68</td>\n",
       "    </tr>\n",
       "  </tbody>\n",
       "</table>\n",
       "<p>3467 rows × 6 columns</p>\n",
       "</div>"
      ],
      "text/plain": [
       "      CustomerID first_purchase_date last_purchase_date  total_purchases  \\\n",
       "0        14024.0          2011-08-07         2011-08-10                2   \n",
       "1        13533.0          2011-03-17         2011-06-10                2   \n",
       "2        17633.0          2011-08-11         2011-09-29                3   \n",
       "3        17884.0          2011-02-01         2011-02-01                1   \n",
       "4        13094.0          2011-01-04         2011-09-20               13   \n",
       "...          ...                 ...                ...              ...   \n",
       "3462     13544.0          2011-04-13         2011-04-13                1   \n",
       "3463     15510.0          2011-01-13         2011-01-13                1   \n",
       "3464     16162.0          2011-04-01         2011-04-01                1   \n",
       "3465     14155.0          2011-03-18         2011-03-18                1   \n",
       "3466     17984.0          2011-07-17         2011-07-17                1   \n",
       "\n",
       "      total_purchase_amount  last_3_months_spend  \n",
       "0                    327.70               327.70  \n",
       "1                    270.79                 0.00  \n",
       "2                   1004.50              1004.50  \n",
       "3                    278.22                 0.00  \n",
       "4                   1332.54               681.60  \n",
       "...                     ...                  ...  \n",
       "3462                 122.91                 0.00  \n",
       "3463                 250.00                 0.00  \n",
       "3464                  37.40                 0.00  \n",
       "3465                 118.75                 0.00  \n",
       "3466                 152.68               152.68  \n",
       "\n",
       "[3467 rows x 6 columns]"
      ]
     },
     "execution_count": 358,
     "metadata": {},
     "output_type": "execute_result"
    }
   ],
   "source": [
    "rdf"
   ]
  },
  {
   "cell_type": "code",
   "execution_count": 359,
   "metadata": {
    "ExecuteTime": {
     "end_time": "2020-05-14T04:39:24.751069Z",
     "start_time": "2020-05-14T04:39:23.880081Z"
    }
   },
   "outputs": [],
   "source": [
    "rdf = sdf.toPandas()\n",
    "rdf.to_csv(\"predictor.csv\")"
   ]
  },
  {
   "cell_type": "code",
   "execution_count": 340,
   "metadata": {
    "ExecuteTime": {
     "end_time": "2020-05-14T04:36:02.346406Z",
     "start_time": "2020-05-14T04:36:01.082339Z"
    }
   },
   "outputs": [
    {
     "name": "stdout",
     "output_type": "stream",
     "text": [
      "+----------+-------------------+-------------------+---------------+---------------------+\n",
      "|CustomerID|first_purchase_date| last_purchase_date|total_purchases|total_purchase_amount|\n",
      "+----------+-------------------+-------------------+---------------+---------------------+\n",
      "|   16561.0|2011-10-11 00:00:00|2011-12-04 00:00:00|              2|               511.12|\n",
      "|   13956.0|2011-10-16 00:00:00|2011-12-04 00:00:00|              2|               346.15|\n",
      "|   16596.0|2011-11-24 00:00:00|2011-11-24 00:00:00|              1|                129.5|\n",
      "|   17633.0|2011-10-06 00:00:00|2011-11-08 00:00:00|              2|   305.34000000000003|\n",
      "|   16916.0|2011-11-16 00:00:00|2011-11-16 00:00:00|              1|   378.17999999999995|\n",
      "|   17884.0|2011-12-06 00:00:00|2011-12-06 00:00:00|              1|   114.61000000000001|\n",
      "|   14768.0|2011-11-22 00:00:00|2011-11-22 00:00:00|              1|   59.400000000000006|\n",
      "|   13918.0|2011-10-21 00:00:00|2011-10-21 00:00:00|              1|   1014.6399999999999|\n",
      "|   14452.0|2011-11-29 00:00:00|2011-11-29 00:00:00|              1|   137.07000000000002|\n",
      "|   14285.0|2011-11-02 00:00:00|2011-11-18 00:00:00|              2|               656.58|\n",
      "|   13094.0|2011-11-18 00:00:00|2011-11-18 00:00:00|              1|   152.64000000000001|\n",
      "|   13607.0|2011-10-30 00:00:00|2011-10-30 00:00:00|              1|    678.0099999999996|\n",
      "|   13142.0|2011-11-20 00:00:00|2011-11-20 00:00:00|              1|    307.0899999999999|\n",
      "|   16212.0|2011-11-20 00:00:00|2011-11-20 00:00:00|              1|               192.19|\n",
      "|   16656.0|2011-10-28 00:00:00|2011-11-17 00:00:00|              4|              1151.79|\n",
      "|   13160.0|2011-11-17 00:00:00|2011-11-17 00:00:00|              1|                 91.8|\n",
      "|   13930.0|2011-10-13 00:00:00|2011-10-13 00:00:00|              1|               127.34|\n",
      "|   15145.0|2011-10-27 00:00:00|2011-12-05 00:00:00|              2|   470.69999999999993|\n",
      "|   18277.0|2011-10-12 00:00:00|2011-10-12 00:00:00|              1|               110.38|\n",
      "|   15311.0|2011-10-03 00:00:00|2011-12-09 00:00:00|             21|   12076.830000000002|\n",
      "+----------+-------------------+-------------------+---------------+---------------------+\n",
      "only showing top 20 rows\n",
      "\n"
     ]
    }
   ],
   "source": [
    "query = \"\"\"SELECT distinct CustomerID, \n",
    "                min(InvoiceDate) as first_purchase_date,\n",
    "                max(InvoiceDate) as last_purchase_date,\n",
    "                count(distinct InvoiceDate) as total_purchases,\n",
    "                sum(Quantity * UnitPrice) as total_purchase_amount\n",
    "                FROM trans\n",
    "                WHERE InvoiceDate between '2011-09-30' and '2012-01-01'\n",
    "                GROUP BY CustomerID\n",
    "             \"\"\"\n",
    "sdf = spark.sql(query)\n",
    "sdf.show()"
   ]
  },
  {
   "cell_type": "code",
   "execution_count": 341,
   "metadata": {
    "ExecuteTime": {
     "end_time": "2020-05-14T04:36:05.074345Z",
     "start_time": "2020-05-14T04:36:03.250949Z"
    }
   },
   "outputs": [],
   "source": [
    "pdf = sdf.toPandas()\n",
    "pdf.to_csv(\"target.csv\")"
   ]
  },
  {
   "cell_type": "code",
   "execution_count": 360,
   "metadata": {
    "ExecuteTime": {
     "end_time": "2020-05-14T04:39:32.134934Z",
     "start_time": "2020-05-14T04:39:32.062920Z"
    }
   },
   "outputs": [],
   "source": [
    "# Datebase for Churn prediction\n",
    "fdf = pd.merge(rdf, pdf[[\"CustomerID\",\"total_purchase_amount\"]], how=\"left\", left_on=\"CustomerID\", right_on=\"CustomerID\")\n",
    "fdf.rename({\"total_purchase_amount_y\":\"next_3_months_spend\"}, axis=1, inplace=True)\n",
    "fdf[\"churn\"] = fdf[\"next_3_months_spend\"].apply(lambda x:0 if x>0 else 1)\n",
    "\n",
    "df_train, df_test= train_test_split(fdf, shuffle=True, test_size=0.2, random_state=42)\n",
    "df_train.to_csv(\"fdb_churn_train.csv\")\n",
    "df_test.to_csv(\"fdb_churn_test.csv\")"
   ]
  },
  {
   "cell_type": "code",
   "execution_count": 361,
   "metadata": {
    "ExecuteTime": {
     "end_time": "2020-05-14T04:39:32.770641Z",
     "start_time": "2020-05-14T04:39:32.738920Z"
    }
   },
   "outputs": [
    {
     "data": {
      "text/plain": [
       "CustomerID                 4.230786e+07\n",
       "total_purchases            1.001000e+04\n",
       "total_purchase_amount_x    4.380732e+06\n",
       "last_3_months_spend        1.775238e+06\n",
       "next_3_months_spend        1.724410e+06\n",
       "churn                      1.324000e+03\n",
       "dtype: float64"
      ]
     },
     "execution_count": 361,
     "metadata": {},
     "output_type": "execute_result"
    }
   ],
   "source": [
    "df_train.sum()"
   ]
  },
  {
   "cell_type": "code",
   "execution_count": null,
   "metadata": {},
   "outputs": [],
   "source": []
  }
 ],
 "metadata": {
  "kernelspec": {
   "display_name": "Python 3",
   "language": "python",
   "name": "python3"
  },
  "language_info": {
   "codemirror_mode": {
    "name": "ipython",
    "version": 3
   },
   "file_extension": ".py",
   "mimetype": "text/x-python",
   "name": "python",
   "nbconvert_exporter": "python",
   "pygments_lexer": "ipython3",
   "version": "3.6.5"
  },
  "toc": {
   "base_numbering": 1,
   "nav_menu": {},
   "number_sections": true,
   "sideBar": true,
   "skip_h1_title": false,
   "title_cell": "Table of Contents",
   "title_sidebar": "Contents",
   "toc_cell": false,
   "toc_position": {},
   "toc_section_display": true,
   "toc_window_display": true
  },
  "varInspector": {
   "cols": {
    "lenName": 16,
    "lenType": 16,
    "lenVar": 40
   },
   "kernels_config": {
    "python": {
     "delete_cmd_postfix": "",
     "delete_cmd_prefix": "del ",
     "library": "var_list.py",
     "varRefreshCmd": "print(var_dic_list())"
    },
    "r": {
     "delete_cmd_postfix": ") ",
     "delete_cmd_prefix": "rm(",
     "library": "var_list.r",
     "varRefreshCmd": "cat(var_dic_list()) "
    }
   },
   "types_to_exclude": [
    "module",
    "function",
    "builtin_function_or_method",
    "instance",
    "_Feature"
   ],
   "window_display": false
  }
 },
 "nbformat": 4,
 "nbformat_minor": 4
}
