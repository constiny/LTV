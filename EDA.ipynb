{
 "cells": [
  {
   "cell_type": "code",
   "execution_count": 24,
   "metadata": {
    "ExecuteTime": {
     "end_time": "2020-05-12T17:03:39.571458Z",
     "start_time": "2020-05-12T17:03:39.562923Z"
    }
   },
   "outputs": [],
   "source": [
    "\n",
    "######## Library loading ##########\n",
    "import numpy as np\n",
    "import pandas as pd \n",
    "import matplotlib.pyplot as plt\n",
    "import datetime"
   ]
  },
  {
   "cell_type": "markdown",
   "metadata": {},
   "source": [
    "# EDA"
   ]
  },
  {
   "cell_type": "markdown",
   "metadata": {},
   "source": [
    "* Sales Trend"
   ]
  },
  {
   "cell_type": "code",
   "execution_count": 20,
   "metadata": {
    "ExecuteTime": {
     "end_time": "2020-05-12T16:44:39.744319Z",
     "start_time": "2020-05-12T16:44:39.724033Z"
    }
   },
   "outputs": [],
   "source": [
    "df_month = pd.read_csv(\"month_sales.csv\", index_col=0)"
   ]
  },
  {
   "cell_type": "code",
   "execution_count": 21,
   "metadata": {
    "ExecuteTime": {
     "end_time": "2020-05-12T16:44:40.050062Z",
     "start_time": "2020-05-12T16:44:40.028608Z"
    }
   },
   "outputs": [
    {
     "data": {
      "text/html": [
       "<div>\n",
       "<style scoped>\n",
       "    .dataframe tbody tr th:only-of-type {\n",
       "        vertical-align: middle;\n",
       "    }\n",
       "\n",
       "    .dataframe tbody tr th {\n",
       "        vertical-align: top;\n",
       "    }\n",
       "\n",
       "    .dataframe thead th {\n",
       "        text-align: right;\n",
       "    }\n",
       "</style>\n",
       "<table border=\"1\" class=\"dataframe\">\n",
       "  <thead>\n",
       "    <tr style=\"text-align: right;\">\n",
       "      <th></th>\n",
       "      <th>year</th>\n",
       "      <th>month</th>\n",
       "      <th>total_customer</th>\n",
       "      <th>total_sales</th>\n",
       "    </tr>\n",
       "  </thead>\n",
       "  <tbody>\n",
       "    <tr>\n",
       "      <th>0</th>\n",
       "      <td>2013</td>\n",
       "      <td>7</td>\n",
       "      <td>26105</td>\n",
       "      <td>8.581949e+06</td>\n",
       "    </tr>\n",
       "    <tr>\n",
       "      <th>1</th>\n",
       "      <td>2012</td>\n",
       "      <td>4</td>\n",
       "      <td>259632</td>\n",
       "      <td>1.035124e+08</td>\n",
       "    </tr>\n",
       "    <tr>\n",
       "      <th>2</th>\n",
       "      <td>2012</td>\n",
       "      <td>7</td>\n",
       "      <td>271484</td>\n",
       "      <td>1.083508e+08</td>\n",
       "    </tr>\n",
       "    <tr>\n",
       "      <th>3</th>\n",
       "      <td>2012</td>\n",
       "      <td>3</td>\n",
       "      <td>255178</td>\n",
       "      <td>1.008984e+08</td>\n",
       "    </tr>\n",
       "    <tr>\n",
       "      <th>4</th>\n",
       "      <td>2012</td>\n",
       "      <td>12</td>\n",
       "      <td>297856</td>\n",
       "      <td>1.085580e+08</td>\n",
       "    </tr>\n",
       "  </tbody>\n",
       "</table>\n",
       "</div>"
      ],
      "text/plain": [
       "   year  month  total_customer   total_sales\n",
       "0  2013      7           26105  8.581949e+06\n",
       "1  2012      4          259632  1.035124e+08\n",
       "2  2012      7          271484  1.083508e+08\n",
       "3  2012      3          255178  1.008984e+08\n",
       "4  2012     12          297856  1.085580e+08"
      ]
     },
     "execution_count": 21,
     "metadata": {},
     "output_type": "execute_result"
    }
   ],
   "source": [
    "df_month.head()"
   ]
  },
  {
   "cell_type": "code",
   "execution_count": 38,
   "metadata": {
    "ExecuteTime": {
     "end_time": "2020-05-12T17:15:00.766376Z",
     "start_time": "2020-05-12T17:15:00.744270Z"
    }
   },
   "outputs": [],
   "source": [
    "df_month[\"month2\"] = pd.to_datetime(df_month[\"year\"].astype(str) + \"-\" + df_month[\"month\"].astype(str) + \"-01\")"
   ]
  },
  {
   "cell_type": "code",
   "execution_count": 39,
   "metadata": {
    "ExecuteTime": {
     "end_time": "2020-05-12T17:15:05.854554Z",
     "start_time": "2020-05-12T17:15:05.839830Z"
    }
   },
   "outputs": [],
   "source": [
    "plot_df = df_month.iloc[:,2:].groupby(\"month2\").sum(); "
   ]
  },
  {
   "cell_type": "code",
   "execution_count": 40,
   "metadata": {
    "ExecuteTime": {
     "end_time": "2020-05-12T17:15:06.464505Z",
     "start_time": "2020-05-12T17:15:06.442293Z"
    }
   },
   "outputs": [
    {
     "data": {
      "text/html": [
       "<div>\n",
       "<style scoped>\n",
       "    .dataframe tbody tr th:only-of-type {\n",
       "        vertical-align: middle;\n",
       "    }\n",
       "\n",
       "    .dataframe tbody tr th {\n",
       "        vertical-align: top;\n",
       "    }\n",
       "\n",
       "    .dataframe thead th {\n",
       "        text-align: right;\n",
       "    }\n",
       "</style>\n",
       "<table border=\"1\" class=\"dataframe\">\n",
       "  <thead>\n",
       "    <tr style=\"text-align: right;\">\n",
       "      <th></th>\n",
       "      <th>total_customer</th>\n",
       "      <th>total_sales</th>\n",
       "    </tr>\n",
       "    <tr>\n",
       "      <th>month2</th>\n",
       "      <th></th>\n",
       "      <th></th>\n",
       "    </tr>\n",
       "  </thead>\n",
       "  <tbody>\n",
       "    <tr>\n",
       "      <th>2012-03-01</th>\n",
       "      <td>255178</td>\n",
       "      <td>1.008984e+08</td>\n",
       "    </tr>\n",
       "    <tr>\n",
       "      <th>2012-04-01</th>\n",
       "      <td>259632</td>\n",
       "      <td>1.035124e+08</td>\n",
       "    </tr>\n",
       "    <tr>\n",
       "      <th>2012-05-01</th>\n",
       "      <td>264064</td>\n",
       "      <td>1.062353e+08</td>\n",
       "    </tr>\n",
       "    <tr>\n",
       "      <th>2012-06-01</th>\n",
       "      <td>267819</td>\n",
       "      <td>1.049743e+08</td>\n",
       "    </tr>\n",
       "    <tr>\n",
       "      <th>2012-07-01</th>\n",
       "      <td>271484</td>\n",
       "      <td>1.083508e+08</td>\n",
       "    </tr>\n",
       "    <tr>\n",
       "      <th>2012-08-01</th>\n",
       "      <td>275436</td>\n",
       "      <td>1.094382e+08</td>\n",
       "    </tr>\n",
       "    <tr>\n",
       "      <th>2012-09-01</th>\n",
       "      <td>278965</td>\n",
       "      <td>1.089372e+08</td>\n",
       "    </tr>\n",
       "    <tr>\n",
       "      <th>2012-10-01</th>\n",
       "      <td>283033</td>\n",
       "      <td>1.108728e+08</td>\n",
       "    </tr>\n",
       "    <tr>\n",
       "      <th>2012-11-01</th>\n",
       "      <td>293654</td>\n",
       "      <td>1.108472e+08</td>\n",
       "    </tr>\n",
       "    <tr>\n",
       "      <th>2012-12-01</th>\n",
       "      <td>297856</td>\n",
       "      <td>1.085580e+08</td>\n",
       "    </tr>\n",
       "    <tr>\n",
       "      <th>2013-01-01</th>\n",
       "      <td>298948</td>\n",
       "      <td>1.175776e+08</td>\n",
       "    </tr>\n",
       "    <tr>\n",
       "      <th>2013-02-01</th>\n",
       "      <td>299360</td>\n",
       "      <td>1.110996e+08</td>\n",
       "    </tr>\n",
       "    <tr>\n",
       "      <th>2013-03-01</th>\n",
       "      <td>295202</td>\n",
       "      <td>1.136060e+08</td>\n",
       "    </tr>\n",
       "    <tr>\n",
       "      <th>2013-04-01</th>\n",
       "      <td>200766</td>\n",
       "      <td>6.439696e+07</td>\n",
       "    </tr>\n",
       "    <tr>\n",
       "      <th>2013-05-01</th>\n",
       "      <td>142868</td>\n",
       "      <td>4.494174e+07</td>\n",
       "    </tr>\n",
       "    <tr>\n",
       "      <th>2013-06-01</th>\n",
       "      <td>122200</td>\n",
       "      <td>3.684782e+07</td>\n",
       "    </tr>\n",
       "    <tr>\n",
       "      <th>2013-07-01</th>\n",
       "      <td>26105</td>\n",
       "      <td>8.581949e+06</td>\n",
       "    </tr>\n",
       "  </tbody>\n",
       "</table>\n",
       "</div>"
      ],
      "text/plain": [
       "            total_customer   total_sales\n",
       "month2                                  \n",
       "2012-03-01          255178  1.008984e+08\n",
       "2012-04-01          259632  1.035124e+08\n",
       "2012-05-01          264064  1.062353e+08\n",
       "2012-06-01          267819  1.049743e+08\n",
       "2012-07-01          271484  1.083508e+08\n",
       "2012-08-01          275436  1.094382e+08\n",
       "2012-09-01          278965  1.089372e+08\n",
       "2012-10-01          283033  1.108728e+08\n",
       "2012-11-01          293654  1.108472e+08\n",
       "2012-12-01          297856  1.085580e+08\n",
       "2013-01-01          298948  1.175776e+08\n",
       "2013-02-01          299360  1.110996e+08\n",
       "2013-03-01          295202  1.136060e+08\n",
       "2013-04-01          200766  6.439696e+07\n",
       "2013-05-01          142868  4.494174e+07\n",
       "2013-06-01          122200  3.684782e+07\n",
       "2013-07-01           26105  8.581949e+06"
      ]
     },
     "execution_count": 40,
     "metadata": {},
     "output_type": "execute_result"
    }
   ],
   "source": [
    "plot_df"
   ]
  },
  {
   "cell_type": "code",
   "execution_count": 45,
   "metadata": {
    "ExecuteTime": {
     "end_time": "2020-05-12T17:18:57.660730Z",
     "start_time": "2020-05-12T17:18:56.923920Z"
    }
   },
   "outputs": [
    {
     "data": {
      "image/png": "[encoded data removed]",
      "text/plain": [
       "<Figure size 1296x432 with 2 Axes>"
      ]
     },
     "metadata": {
      "needs_background": "light"
     },
     "output_type": "display_data"
    }
   ],
   "source": [
    "### Trend plot\n",
    "\n",
    "fig, ax1 = plt.subplots(figsize = (18,6))\n",
    "\n",
    "ax1.plot(plot_df[\"total_customer\"],c=\"b\", linewidth=3, label='# of customers')\n",
    "\n",
    "ax1.set_xlabel('month2')\n",
    "ax1.set_ylabel('total customer')\n",
    "ax1.tick_params(axis='y')\n",
    "ax1.set_title(\"Sales and customer trend\")\n",
    "ax1.legend()\n",
    "\n",
    "\n",
    "ax2 = ax1.twinx()\n",
    "ax2.plot(plot_df[\"total_sales\"],c=\"r\", linewidth=3, label='$ of sales')\n",
    "ax2.set_ylabel('total sales')\n",
    "ax2.tick_params(axis='y')\n",
    "\n",
    "ax2.legend()\n",
    "\n",
    "fig.tight_layout() "
   ]
  },
  {
   "cell_type": "code",
   "execution_count": null,
   "metadata": {},
   "outputs": [],
   "source": []
  },
  {
   "cell_type": "code",
   "execution_count": 3,
   "metadata": {
    "ExecuteTime": {
     "end_time": "2020-05-12T15:34:42.005988Z",
     "start_time": "2020-05-12T15:34:41.972513Z"
    }
   },
   "outputs": [],
   "source": [
    "df_brand = pd.read_csv(\"brand_sales.csv\", index_col=0)"
   ]
  },
  {
   "cell_type": "code",
   "execution_count": 4,
   "metadata": {
    "ExecuteTime": {
     "end_time": "2020-05-12T15:34:42.959808Z",
     "start_time": "2020-05-12T15:34:42.950115Z"
    }
   },
   "outputs": [],
   "source": [
    "ts = df_brand.iloc[:,2:].sum()\n",
    "total = np.array([311541, ts])"
   ]
  },
  {
   "cell_type": "code",
   "execution_count": 5,
   "metadata": {
    "ExecuteTime": {
     "end_time": "2020-05-12T15:34:45.342749Z",
     "start_time": "2020-05-12T15:34:45.329689Z"
    }
   },
   "outputs": [
    {
     "name": "stdout",
     "output_type": "stream",
     "text": [
      "<class 'pandas.core.frame.DataFrame'>\n",
      "Int64Index: 35689 entries, 0 to 35688\n",
      "Data columns (total 3 columns):\n",
      " #   Column          Non-Null Count  Dtype  \n",
      "---  ------          --------------  -----  \n",
      " 0   brand           35689 non-null  int64  \n",
      " 1   total_customer  35689 non-null  int64  \n",
      " 2   total_sales     35689 non-null  float64\n",
      "dtypes: float64(1), int64(2)\n",
      "memory usage: 1.1 MB\n"
     ]
    }
   ],
   "source": [
    "df_brand.info()"
   ]
  },
  {
   "cell_type": "code",
   "execution_count": 6,
   "metadata": {
    "ExecuteTime": {
     "end_time": "2020-05-12T15:34:46.089126Z",
     "start_time": "2020-05-12T15:34:46.061313Z"
    }
   },
   "outputs": [
    {
     "name": "stdout",
     "output_type": "stream",
     "text": [
      "<class 'pandas.core.frame.DataFrame'>\n",
      "Int64Index: 35689 entries, 0 to 108689\n",
      "Data columns (total 2 columns):\n",
      " #   Column          Non-Null Count  Dtype  \n",
      "---  ------          --------------  -----  \n",
      " 0   total_customer  35689 non-null  int64  \n",
      " 1   total_sales     35689 non-null  float64\n",
      "dtypes: float64(1), int64(1)\n",
      "memory usage: 836.5 KB\n"
     ]
    }
   ],
   "source": [
    "g = df_brand.groupby(\"brand\")\n",
    "df2 = g.sum();df2.info()"
   ]
  },
  {
   "cell_type": "code",
   "execution_count": 12,
   "metadata": {
    "ExecuteTime": {
     "end_time": "2020-05-11T22:01:39.853178Z",
     "start_time": "2020-05-11T22:01:39.846792Z"
    }
   },
   "outputs": [],
   "source": [
    "df2 = df2.sort_values(\"total_customer\").tail(20)"
   ]
  },
  {
   "cell_type": "code",
   "execution_count": 13,
   "metadata": {
    "ExecuteTime": {
     "end_time": "2020-05-11T22:01:44.148555Z",
     "start_time": "2020-05-11T22:01:44.140412Z"
    }
   },
   "outputs": [
    {
     "data": {
      "text/html": [
       "<div>\n",
       "<style scoped>\n",
       "    .dataframe tbody tr th:only-of-type {\n",
       "        vertical-align: middle;\n",
       "    }\n",
       "\n",
       "    .dataframe tbody tr th {\n",
       "        vertical-align: top;\n",
       "    }\n",
       "\n",
       "    .dataframe thead th {\n",
       "        text-align: right;\n",
       "    }\n",
       "</style>\n",
       "<table border=\"1\" class=\"dataframe\">\n",
       "  <thead>\n",
       "    <tr style=\"text-align: right;\">\n",
       "      <th></th>\n",
       "      <th>total_customer</th>\n",
       "      <th>total_sales</th>\n",
       "    </tr>\n",
       "    <tr>\n",
       "      <th>brand</th>\n",
       "      <th></th>\n",
       "      <th></th>\n",
       "    </tr>\n",
       "  </thead>\n",
       "  <tbody>\n",
       "    <tr>\n",
       "      <th>20230</th>\n",
       "      <td>181798</td>\n",
       "      <td>6.272315e+06</td>\n",
       "    </tr>\n",
       "    <tr>\n",
       "      <th>18584</th>\n",
       "      <td>181868</td>\n",
       "      <td>5.102097e+06</td>\n",
       "    </tr>\n",
       "    <tr>\n",
       "      <th>1393</th>\n",
       "      <td>184675</td>\n",
       "      <td>2.798895e+06</td>\n",
       "    </tr>\n",
       "    <tr>\n",
       "      <th>13967</th>\n",
       "      <td>189522</td>\n",
       "      <td>3.285463e+06</td>\n",
       "    </tr>\n",
       "    <tr>\n",
       "      <th>8164</th>\n",
       "      <td>193229</td>\n",
       "      <td>2.508712e+06</td>\n",
       "    </tr>\n",
       "    <tr>\n",
       "      <th>4704</th>\n",
       "      <td>195011</td>\n",
       "      <td>3.986463e+06</td>\n",
       "    </tr>\n",
       "    <tr>\n",
       "      <th>8247</th>\n",
       "      <td>199329</td>\n",
       "      <td>3.636390e+06</td>\n",
       "    </tr>\n",
       "    <tr>\n",
       "      <th>1756</th>\n",
       "      <td>201684</td>\n",
       "      <td>3.868342e+06</td>\n",
       "    </tr>\n",
       "    <tr>\n",
       "      <th>10241</th>\n",
       "      <td>205704</td>\n",
       "      <td>6.891436e+06</td>\n",
       "    </tr>\n",
       "    <tr>\n",
       "      <th>13791</th>\n",
       "      <td>206122</td>\n",
       "      <td>6.206769e+06</td>\n",
       "    </tr>\n",
       "    <tr>\n",
       "      <th>14760</th>\n",
       "      <td>206415</td>\n",
       "      <td>5.033101e+06</td>\n",
       "    </tr>\n",
       "    <tr>\n",
       "      <th>13310</th>\n",
       "      <td>215233</td>\n",
       "      <td>1.002982e+07</td>\n",
       "    </tr>\n",
       "    <tr>\n",
       "      <th>11382</th>\n",
       "      <td>217966</td>\n",
       "      <td>4.914341e+06</td>\n",
       "    </tr>\n",
       "    <tr>\n",
       "      <th>14029</th>\n",
       "      <td>224237</td>\n",
       "      <td>6.990127e+06</td>\n",
       "    </tr>\n",
       "    <tr>\n",
       "      <th>5072</th>\n",
       "      <td>225093</td>\n",
       "      <td>8.463489e+06</td>\n",
       "    </tr>\n",
       "    <tr>\n",
       "      <th>88199</th>\n",
       "      <td>226050</td>\n",
       "      <td>-4.596075e+06</td>\n",
       "    </tr>\n",
       "    <tr>\n",
       "      <th>2820</th>\n",
       "      <td>230911</td>\n",
       "      <td>7.466939e+06</td>\n",
       "    </tr>\n",
       "    <tr>\n",
       "      <th>9886</th>\n",
       "      <td>255273</td>\n",
       "      <td>1.159855e+07</td>\n",
       "    </tr>\n",
       "    <tr>\n",
       "      <th>33170</th>\n",
       "      <td>290869</td>\n",
       "      <td>2.331692e+07</td>\n",
       "    </tr>\n",
       "    <tr>\n",
       "      <th>0</th>\n",
       "      <td>302643</td>\n",
       "      <td>3.102784e+07</td>\n",
       "    </tr>\n",
       "  </tbody>\n",
       "</table>\n",
       "</div>"
      ],
      "text/plain": [
       "       total_customer   total_sales\n",
       "brand                              \n",
       "20230          181798  6.272315e+06\n",
       "18584          181868  5.102097e+06\n",
       "1393           184675  2.798895e+06\n",
       "13967          189522  3.285463e+06\n",
       "8164           193229  2.508712e+06\n",
       "4704           195011  3.986463e+06\n",
       "8247           199329  3.636390e+06\n",
       "1756           201684  3.868342e+06\n",
       "10241          205704  6.891436e+06\n",
       "13791          206122  6.206769e+06\n",
       "14760          206415  5.033101e+06\n",
       "13310          215233  1.002982e+07\n",
       "11382          217966  4.914341e+06\n",
       "14029          224237  6.990127e+06\n",
       "5072           225093  8.463489e+06\n",
       "88199          226050 -4.596075e+06\n",
       "2820           230911  7.466939e+06\n",
       "9886           255273  1.159855e+07\n",
       "33170          290869  2.331692e+07\n",
       "0              302643  3.102784e+07"
      ]
     },
     "execution_count": 13,
     "metadata": {},
     "output_type": "execute_result"
    }
   ],
   "source": [
    "df2"
   ]
  },
  {
   "cell_type": "code",
   "execution_count": 23,
   "metadata": {
    "ExecuteTime": {
     "end_time": "2020-05-11T22:06:23.745787Z",
     "start_time": "2020-05-11T22:06:23.736948Z"
    }
   },
   "outputs": [],
   "source": [
    "df3 = df2 / total"
   ]
  },
  {
   "cell_type": "code",
   "execution_count": 27,
   "metadata": {
    "ExecuteTime": {
     "end_time": "2020-05-11T22:07:04.590131Z",
     "start_time": "2020-05-11T22:07:04.585775Z"
    }
   },
   "outputs": [
    {
     "data": {
      "text/plain": [
       "[20230,\n",
       " 18584,\n",
       " 1393,\n",
       " 13967,\n",
       " 8164,\n",
       " 4704,\n",
       " 8247,\n",
       " 1756,\n",
       " 10241,\n",
       " 13791,\n",
       " 14760,\n",
       " 13310,\n",
       " 11382,\n",
       " 14029,\n",
       " 5072,\n",
       " 88199,\n",
       " 2820,\n",
       " 9886,\n",
       " 33170,\n",
       " 0]"
      ]
     },
     "execution_count": 27,
     "metadata": {},
     "output_type": "execute_result"
    }
   ],
   "source": [
    "# top 20 brand\n",
    "list(df3.index)"
   ]
  },
  {
   "cell_type": "code",
   "execution_count": 29,
   "metadata": {
    "ExecuteTime": {
     "end_time": "2020-05-11T22:52:37.700320Z",
     "start_time": "2020-05-11T22:52:37.518452Z"
    }
   },
   "outputs": [],
   "source": [
    "df_cust = pd.read_csv(\"ndb.csv\", index_col=0)"
   ]
  },
  {
   "cell_type": "code",
   "execution_count": 30,
   "metadata": {
    "ExecuteTime": {
     "end_time": "2020-05-11T22:52:55.856491Z",
     "start_time": "2020-05-11T22:52:55.822037Z"
    }
   },
   "outputs": [
    {
     "name": "stdout",
     "output_type": "stream",
     "text": [
      "<class 'pandas.core.frame.DataFrame'>\n",
      "Int64Index: 311541 entries, 0 to 311540\n",
      "Data columns (total 6 columns):\n",
      " #   Column                   Non-Null Count   Dtype  \n",
      "---  ------                   --------------   -----  \n",
      " 0   id                       311541 non-null  int64  \n",
      " 1   first_purchase_date      311541 non-null  object \n",
      " 2   last_purchase_date       311541 non-null  object \n",
      " 3   total_purchases          311541 non-null  int64  \n",
      " 4   total_purchase_quantity  311541 non-null  int64  \n",
      " 5   total_purchase_amount    311541 non-null  float64\n",
      "dtypes: float64(1), int64(3), object(2)\n",
      "memory usage: 26.6+ MB\n"
     ]
    }
   ],
   "source": [
    "df_cust.info()"
   ]
  },
  {
   "cell_type": "code",
   "execution_count": null,
   "metadata": {},
   "outputs": [],
   "source": [
    "df_cust[\"id_g\"] = "
   ]
  }
 ],
 "metadata": {
  "kernelspec": {
   "display_name": "Python 3",
   "language": "python",
   "name": "python3"
  },
  "language_info": {
   "codemirror_mode": {
    "name": "ipython",
    "version": 3
   },
   "file_extension": ".py",
   "mimetype": "text/x-python",
   "name": "python",
   "nbconvert_exporter": "python",
   "pygments_lexer": "ipython3",
   "version": "3.6.5"
  },
  "toc": {
   "base_numbering": 1,
   "nav_menu": {},
   "number_sections": true,
   "sideBar": true,
   "skip_h1_title": false,
   "title_cell": "Table of Contents",
   "title_sidebar": "Contents",
   "toc_cell": false,
   "toc_position": {},
   "toc_section_display": true,
   "toc_window_display": false
  },
  "varInspector": {
   "cols": {
    "lenName": 16,
    "lenType": 16,
    "lenVar": 40
   },
   "kernels_config": {
    "python": {
     "delete_cmd_postfix": "",
     "delete_cmd_prefix": "del ",
     "library": "var_list.py",
     "varRefreshCmd": "print(var_dic_list())"
    },
    "r": {
     "delete_cmd_postfix": ") ",
     "delete_cmd_prefix": "rm(",
     "library": "var_list.r",
     "varRefreshCmd": "cat(var_dic_list()) "
    }
   },
   "types_to_exclude": [
    "module",
    "function",
    "builtin_function_or_method",
    "instance",
    "_Feature"
   ],
   "window_display": false
  }
 },
 "nbformat": 4,
 "nbformat_minor": 4
}
