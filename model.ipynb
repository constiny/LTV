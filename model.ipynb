{
 "cells": [
  {
   "cell_type": "code",
   "execution_count": 1,
   "metadata": {
    "ExecuteTime": {
     "end_time": "2020-05-14T05:24:19.971255Z",
     "start_time": "2020-05-14T05:24:19.448121Z"
    }
   },
   "outputs": [],
   "source": [
    "import numpy as np\n",
    "import pandas as pd\n",
    "import matplotlib.pyplot as plt\n",
    "import seaborn as sns\n",
    "\n",
    "plt.style.use('ggplot')\n",
    "\n",
    "\n",
    "from sklearn.ensemble import RandomForestClassifier\n",
    "from sklearn.linear_model import LogisticRegression\n",
    "from sklearn.neighbors import KNeighborsClassifier\n",
    "from sklearn.ensemble import GradientBoostingClassifier\n",
    "from sklearn.svm import SVC\n",
    "\n",
    "from sklearn.model_selection import train_test_split, GridSearchCV\n",
    "from sklearn.metrics import accuracy_score, recall_score, precision_score, f1_score, roc_auc_score, confusion_matrix, make_scorer, roc_curve\n",
    "\n",
    "%matplotlib inline"
   ]
  },
  {
   "cell_type": "markdown",
   "metadata": {},
   "source": [
    "# Churn"
   ]
  },
  {
   "cell_type": "code",
   "execution_count": 2,
   "metadata": {
    "ExecuteTime": {
     "end_time": "2020-05-14T05:24:21.401938Z",
     "start_time": "2020-05-14T05:24:21.391040Z"
    }
   },
   "outputs": [],
   "source": [
    "df_churn = pd.read_csv(\"fdb_churn_train.csv\", index_col=0)\n",
    "df_churn[\"next_3_months_spend\"] = df_churn[\"next_3_months_spend\"].fillna(0)"
   ]
  },
  {
   "cell_type": "code",
   "execution_count": 3,
   "metadata": {
    "ExecuteTime": {
     "end_time": "2020-05-14T05:24:22.040936Z",
     "start_time": "2020-05-14T05:24:22.036686Z"
    },
    "hide_input": false
   },
   "outputs": [],
   "source": [
    "y1 = df_churn.churn\n",
    "y2 = df_churn.next_3_months_spend\n",
    "X = df_churn.iloc[:,:-2]"
   ]
  },
  {
   "cell_type": "code",
   "execution_count": 4,
   "metadata": {
    "ExecuteTime": {
     "end_time": "2020-05-14T05:24:22.496486Z",
     "start_time": "2020-05-14T05:24:22.489153Z"
    }
   },
   "outputs": [
    {
     "name": "stdout",
     "output_type": "stream",
     "text": [
      "<class 'pandas.core.frame.DataFrame'>\n",
      "Int64Index: 2773 entries, 1517 to 3174\n",
      "Data columns (total 6 columns):\n",
      " #   Column                   Non-Null Count  Dtype  \n",
      "---  ------                   --------------  -----  \n",
      " 0   CustomerID               2773 non-null   float64\n",
      " 1   first_purchase_date      2773 non-null   object \n",
      " 2   last_purchase_date       2773 non-null   object \n",
      " 3   total_purchases          2773 non-null   int64  \n",
      " 4   total_purchase_amount_x  2773 non-null   float64\n",
      " 5   last_3_months_spend      2773 non-null   float64\n",
      "dtypes: float64(3), int64(1), object(2)\n",
      "memory usage: 151.6+ KB\n"
     ]
    }
   ],
   "source": [
    "X.info()"
   ]
  },
  {
   "cell_type": "code",
   "execution_count": 5,
   "metadata": {
    "ExecuteTime": {
     "end_time": "2020-05-14T05:24:23.056664Z",
     "start_time": "2020-05-14T05:24:23.046231Z"
    }
   },
   "outputs": [
    {
     "data": {
      "text/plain": [
       "CustomerID                                                       4.23079e+07\n",
       "first_purchase_date        2011-04-052011-03-312011-02-132011-08-192011-0...\n",
       "last_purchase_date         2011-07-272011-09-232011-09-042011-08-192011-0...\n",
       "total_purchases                                                        10010\n",
       "total_purchase_amount_x                                          4.38073e+06\n",
       "last_3_months_spend                                              1.77524e+06\n",
       "next_3_months_spend                                              1.72441e+06\n",
       "churn                                                                   1324\n",
       "dtype: object"
      ]
     },
     "execution_count": 5,
     "metadata": {},
     "output_type": "execute_result"
    }
   ],
   "source": [
    "df_churn.sum()"
   ]
  },
  {
   "cell_type": "code",
   "execution_count": 6,
   "metadata": {
    "ExecuteTime": {
     "end_time": "2020-05-14T05:24:23.737560Z",
     "start_time": "2020-05-14T05:24:23.732987Z"
    }
   },
   "outputs": [
    {
     "data": {
      "text/plain": [
       "'2011-09-30'"
      ]
     },
     "execution_count": 6,
     "metadata": {},
     "output_type": "execute_result"
    }
   ],
   "source": [
    "df_churn[\"last_purchase_date\"].max()"
   ]
  },
  {
   "cell_type": "code",
   "execution_count": 7,
   "metadata": {
    "ExecuteTime": {
     "end_time": "2020-05-14T05:24:24.697975Z",
     "start_time": "2020-05-14T05:24:24.650636Z"
    }
   },
   "outputs": [],
   "source": [
    "X[\"length\"] = (pd.to_datetime(df_churn.last_purchase_date) - \n",
    "                     pd.to_datetime(df_churn.first_purchase_date)).apply(lambda x:x.days)\n",
    "X[\"recency\"] = (pd.to_datetime(\"2011-10-01\") - \n",
    "                     pd.to_datetime(df_churn.last_purchase_date)).apply(lambda x:x.days)"
   ]
  },
  {
   "cell_type": "code",
   "execution_count": 8,
   "metadata": {
    "ExecuteTime": {
     "end_time": "2020-05-14T05:24:25.016868Z",
     "start_time": "2020-05-14T05:24:25.012222Z"
    }
   },
   "outputs": [],
   "source": [
    "X = X.iloc[:,3:]"
   ]
  },
  {
   "cell_type": "code",
   "execution_count": 9,
   "metadata": {
    "ExecuteTime": {
     "end_time": "2020-05-14T05:24:25.411768Z",
     "start_time": "2020-05-14T05:24:25.402207Z"
    }
   },
   "outputs": [],
   "source": [
    "# Split train and validation\n",
    "X_train, X_test, y_train, y_test = train_test_split(X, y1, shuffle=True, test_size=0.2, random_state=42, stratify=y1)\n",
    "X_train, X_test, y_train2, y_test2 = train_test_split(X, y2, shuffle=True, test_size=0.2, random_state=42, stratify=y1)\n"
   ]
  },
  {
   "cell_type": "code",
   "execution_count": 10,
   "metadata": {
    "ExecuteTime": {
     "end_time": "2020-05-14T05:24:25.873862Z",
     "start_time": "2020-05-14T05:24:25.870346Z"
    },
    "code_folding": [
     0
    ]
   },
   "outputs": [],
   "source": [
    "def model_scores(model, X, y):\n",
    "    y_hat = model.predict(X)\n",
    "    print(f\"Accuracy: {accuracy_score(y, y_hat).round(3)} \\t Recall: {recall_score(y, y_hat).round(3)} \\t Precision: {precision_score(y, y_hat).round(3)} \\t F1: {f1_score(y, y_hat).round(3)}\")\n",
    "    return accuracy_score(y, y_hat), recall_score(y, y_hat), precision_score(y, y_hat), f1_score(y, y_hat)"
   ]
  },
  {
   "cell_type": "code",
   "execution_count": 11,
   "metadata": {
    "ExecuteTime": {
     "end_time": "2020-05-14T05:24:26.727287Z",
     "start_time": "2020-05-14T05:24:26.722985Z"
    }
   },
   "outputs": [
    {
     "data": {
      "text/plain": [
       "0.47745716862037874"
      ]
     },
     "execution_count": 11,
     "metadata": {},
     "output_type": "execute_result"
    }
   ],
   "source": [
    "y_train.mean()"
   ]
  },
  {
   "cell_type": "markdown",
   "metadata": {
    "ExecuteTime": {
     "end_time": "2020-05-13T18:06:01.258173Z",
     "start_time": "2020-05-13T18:06:01.255720Z"
    }
   },
   "source": [
    "## Logistic Regression"
   ]
  },
  {
   "cell_type": "code",
   "execution_count": 15,
   "metadata": {
    "ExecuteTime": {
     "end_time": "2020-05-14T05:24:55.171019Z",
     "start_time": "2020-05-14T05:24:55.095431Z"
    }
   },
   "outputs": [
    {
     "name": "stdout",
     "output_type": "stream",
     "text": [
      "Accuracy: 0.697 \t Recall: 0.731 \t Precision: 0.667 \t F1: 0.697\n"
     ]
    },
    {
     "data": {
      "text/plain": [
       "(0.69702434625789, 0.7308781869688386, 0.6666666666666666, 0.6972972972972973)"
      ]
     },
     "execution_count": 15,
     "metadata": {},
     "output_type": "execute_result"
    }
   ],
   "source": [
    "# logister \n",
    "# class_weight\n",
    "weights = {0:0.1, 1:1.0}\n",
    "# lr = LogisticRegression(class_weight=weights)\n",
    "lr = LogisticRegression()\n",
    "lr.fit(X_train, y_train)\n",
    "\n",
    "model_scores(lr, X_train, y_train)"
   ]
  },
  {
   "cell_type": "code",
   "execution_count": 1260,
   "metadata": {
    "ExecuteTime": {
     "end_time": "2020-05-14T04:40:48.376874Z",
     "start_time": "2020-05-14T04:40:48.363974Z"
    }
   },
   "outputs": [
    {
     "name": "stdout",
     "output_type": "stream",
     "text": [
      "Accuracy: 0.64 \t Recall: 0.675 \t Precision: 0.611 \t F1: 0.642\n"
     ]
    },
    {
     "data": {
      "text/plain": [
       "(0.6396396396396397,\n",
       " 0.6754716981132075,\n",
       " 0.6109215017064846,\n",
       " 0.6415770609318996)"
      ]
     },
     "execution_count": 1260,
     "metadata": {},
     "output_type": "execute_result"
    }
   ],
   "source": [
    "model_scores(lr, X_test, y_test)"
   ]
  },
  {
   "cell_type": "code",
   "execution_count": 1182,
   "metadata": {
    "ExecuteTime": {
     "end_time": "2020-05-14T04:25:05.947691Z",
     "start_time": "2020-05-14T04:25:05.944053Z"
    }
   },
   "outputs": [],
   "source": [
    "weights_list = [{0:0.01, 1:1.0}, {0:0.003, 1:1.0}, {0:0.05, 1:1.0}, {0:0.1, 1:1.0}, {0:0.15, 1:1.0}, {0:0.2, 1:1.0}]\n",
    "parameters = {'class_weight': weights_list}"
   ]
  },
  {
   "cell_type": "code",
   "execution_count": 1183,
   "metadata": {
    "ExecuteTime": {
     "end_time": "2020-05-14T04:25:07.372190Z",
     "start_time": "2020-05-14T04:25:06.837520Z"
    }
   },
   "outputs": [
    {
     "data": {
      "text/plain": [
       "GridSearchCV(cv=None, error_score=nan,\n",
       "             estimator=LogisticRegression(C=1.0, class_weight=None, dual=False,\n",
       "                                          fit_intercept=True,\n",
       "                                          intercept_scaling=1, l1_ratio=None,\n",
       "                                          max_iter=100, multi_class='auto',\n",
       "                                          n_jobs=None, penalty='l2',\n",
       "                                          random_state=None, solver='lbfgs',\n",
       "                                          tol=0.0001, verbose=0,\n",
       "                                          warm_start=False),\n",
       "             iid='deprecated', n_jobs=None,\n",
       "             param_grid={'class_weight': [{0: 0.01, 1: 1.0}, {0: 0.003, 1: 1.0},\n",
       "                                          {0: 0.05, 1: 1.0}, {0: 0.1, 1: 1.0},\n",
       "                                          {0: 0.15, 1: 1.0},\n",
       "                                          {0: 0.2, 1: 1.0}]},\n",
       "             pre_dispatch='2*n_jobs', refit=True, return_train_score=False,\n",
       "             scoring=None, verbose=0)"
      ]
     },
     "execution_count": 1183,
     "metadata": {},
     "output_type": "execute_result"
    }
   ],
   "source": [
    "f1_scorer = make_scorer(f1_score)\n",
    "gslr = GridSearchCV(lr, \n",
    "                    parameters#,                   scoring=f1_scorer\n",
    "                   )\n",
    "gslr.fit(X_train, y_train)"
   ]
  },
  {
   "cell_type": "code",
   "execution_count": 1184,
   "metadata": {
    "ExecuteTime": {
     "end_time": "2020-05-14T04:25:08.250488Z",
     "start_time": "2020-05-14T04:25:08.233498Z"
    }
   },
   "outputs": [
    {
     "data": {
      "text/html": [
       "<div>\n",
       "<style scoped>\n",
       "    .dataframe tbody tr th:only-of-type {\n",
       "        vertical-align: middle;\n",
       "    }\n",
       "\n",
       "    .dataframe tbody tr th {\n",
       "        vertical-align: top;\n",
       "    }\n",
       "\n",
       "    .dataframe thead th {\n",
       "        text-align: right;\n",
       "    }\n",
       "</style>\n",
       "<table border=\"1\" class=\"dataframe\">\n",
       "  <thead>\n",
       "    <tr style=\"text-align: right;\">\n",
       "      <th></th>\n",
       "      <th>0</th>\n",
       "      <th>1</th>\n",
       "      <th>2</th>\n",
       "      <th>3</th>\n",
       "      <th>4</th>\n",
       "      <th>5</th>\n",
       "    </tr>\n",
       "  </thead>\n",
       "  <tbody>\n",
       "    <tr>\n",
       "      <th>mean_fit_time</th>\n",
       "      <td>0.0213432</td>\n",
       "      <td>0.0188436</td>\n",
       "      <td>0.0149413</td>\n",
       "      <td>0.0137173</td>\n",
       "      <td>0.0117781</td>\n",
       "      <td>0.0134012</td>\n",
       "    </tr>\n",
       "    <tr>\n",
       "      <th>std_fit_time</th>\n",
       "      <td>0.00155735</td>\n",
       "      <td>0.00180905</td>\n",
       "      <td>0.000502015</td>\n",
       "      <td>0.00067846</td>\n",
       "      <td>0.000495462</td>\n",
       "      <td>0.000769515</td>\n",
       "    </tr>\n",
       "    <tr>\n",
       "      <th>mean_score_time</th>\n",
       "      <td>0.00131593</td>\n",
       "      <td>0.000940943</td>\n",
       "      <td>0.000897408</td>\n",
       "      <td>0.00089674</td>\n",
       "      <td>0.000926447</td>\n",
       "      <td>0.000924826</td>\n",
       "    </tr>\n",
       "    <tr>\n",
       "      <th>std_score_time</th>\n",
       "      <td>0.000161867</td>\n",
       "      <td>3.90205e-05</td>\n",
       "      <td>3.89331e-05</td>\n",
       "      <td>4.08005e-05</td>\n",
       "      <td>6.4775e-05</td>\n",
       "      <td>5.76664e-05</td>\n",
       "    </tr>\n",
       "    <tr>\n",
       "      <th>param_class_weight</th>\n",
       "      <td>{0: 0.01, 1: 1.0}</td>\n",
       "      <td>{0: 0.003, 1: 1.0}</td>\n",
       "      <td>{0: 0.05, 1: 1.0}</td>\n",
       "      <td>{0: 0.1, 1: 1.0}</td>\n",
       "      <td>{0: 0.15, 1: 1.0}</td>\n",
       "      <td>{0: 0.2, 1: 1.0}</td>\n",
       "    </tr>\n",
       "    <tr>\n",
       "      <th>params</th>\n",
       "      <td>{'class_weight': {0: 0.01, 1: 1.0}}</td>\n",
       "      <td>{'class_weight': {0: 0.003, 1: 1.0}}</td>\n",
       "      <td>{'class_weight': {0: 0.05, 1: 1.0}}</td>\n",
       "      <td>{'class_weight': {0: 0.1, 1: 1.0}}</td>\n",
       "      <td>{'class_weight': {0: 0.15, 1: 1.0}}</td>\n",
       "      <td>{'class_weight': {0: 0.2, 1: 1.0}}</td>\n",
       "    </tr>\n",
       "    <tr>\n",
       "      <th>split0_test_score</th>\n",
       "      <td>0.47973</td>\n",
       "      <td>0.47973</td>\n",
       "      <td>0.509009</td>\n",
       "      <td>0.531532</td>\n",
       "      <td>0.54955</td>\n",
       "      <td>0.567568</td>\n",
       "    </tr>\n",
       "    <tr>\n",
       "      <th>split1_test_score</th>\n",
       "      <td>0.502252</td>\n",
       "      <td>0.490991</td>\n",
       "      <td>0.52027</td>\n",
       "      <td>0.540541</td>\n",
       "      <td>0.558559</td>\n",
       "      <td>0.56982</td>\n",
       "    </tr>\n",
       "    <tr>\n",
       "      <th>split2_test_score</th>\n",
       "      <td>0.493243</td>\n",
       "      <td>0.488739</td>\n",
       "      <td>0.509009</td>\n",
       "      <td>0.540541</td>\n",
       "      <td>0.563063</td>\n",
       "      <td>0.572072</td>\n",
       "    </tr>\n",
       "    <tr>\n",
       "      <th>split3_test_score</th>\n",
       "      <td>0.496614</td>\n",
       "      <td>0.492099</td>\n",
       "      <td>0.51693</td>\n",
       "      <td>0.548533</td>\n",
       "      <td>0.58465</td>\n",
       "      <td>0.602709</td>\n",
       "    </tr>\n",
       "    <tr>\n",
       "      <th>split4_test_score</th>\n",
       "      <td>0.489842</td>\n",
       "      <td>0.487585</td>\n",
       "      <td>0.521445</td>\n",
       "      <td>0.537246</td>\n",
       "      <td>0.575621</td>\n",
       "      <td>0.595937</td>\n",
       "    </tr>\n",
       "    <tr>\n",
       "      <th>mean_test_score</th>\n",
       "      <td>0.492336</td>\n",
       "      <td>0.487829</td>\n",
       "      <td>0.515333</td>\n",
       "      <td>0.539678</td>\n",
       "      <td>0.566288</td>\n",
       "      <td>0.581621</td>\n",
       "    </tr>\n",
       "    <tr>\n",
       "      <th>std_test_score</th>\n",
       "      <td>0.00751791</td>\n",
       "      <td>0.00435246</td>\n",
       "      <td>0.00537151</td>\n",
       "      <td>0.00551677</td>\n",
       "      <td>0.0124466</td>\n",
       "      <td>0.0146805</td>\n",
       "    </tr>\n",
       "    <tr>\n",
       "      <th>rank_test_score</th>\n",
       "      <td>5</td>\n",
       "      <td>6</td>\n",
       "      <td>4</td>\n",
       "      <td>3</td>\n",
       "      <td>2</td>\n",
       "      <td>1</td>\n",
       "    </tr>\n",
       "  </tbody>\n",
       "</table>\n",
       "</div>"
      ],
      "text/plain": [
       "                                                      0  \\\n",
       "mean_fit_time                                 0.0213432   \n",
       "std_fit_time                                 0.00155735   \n",
       "mean_score_time                              0.00131593   \n",
       "std_score_time                              0.000161867   \n",
       "param_class_weight                    {0: 0.01, 1: 1.0}   \n",
       "params              {'class_weight': {0: 0.01, 1: 1.0}}   \n",
       "split0_test_score                               0.47973   \n",
       "split1_test_score                              0.502252   \n",
       "split2_test_score                              0.493243   \n",
       "split3_test_score                              0.496614   \n",
       "split4_test_score                              0.489842   \n",
       "mean_test_score                                0.492336   \n",
       "std_test_score                               0.00751791   \n",
       "rank_test_score                                       5   \n",
       "\n",
       "                                                       1  \\\n",
       "mean_fit_time                                  0.0188436   \n",
       "std_fit_time                                  0.00180905   \n",
       "mean_score_time                              0.000940943   \n",
       "std_score_time                               3.90205e-05   \n",
       "param_class_weight                    {0: 0.003, 1: 1.0}   \n",
       "params              {'class_weight': {0: 0.003, 1: 1.0}}   \n",
       "split0_test_score                                0.47973   \n",
       "split1_test_score                               0.490991   \n",
       "split2_test_score                               0.488739   \n",
       "split3_test_score                               0.492099   \n",
       "split4_test_score                               0.487585   \n",
       "mean_test_score                                 0.487829   \n",
       "std_test_score                                0.00435246   \n",
       "rank_test_score                                        6   \n",
       "\n",
       "                                                      2  \\\n",
       "mean_fit_time                                 0.0149413   \n",
       "std_fit_time                                0.000502015   \n",
       "mean_score_time                             0.000897408   \n",
       "std_score_time                              3.89331e-05   \n",
       "param_class_weight                    {0: 0.05, 1: 1.0}   \n",
       "params              {'class_weight': {0: 0.05, 1: 1.0}}   \n",
       "split0_test_score                              0.509009   \n",
       "split1_test_score                               0.52027   \n",
       "split2_test_score                              0.509009   \n",
       "split3_test_score                               0.51693   \n",
       "split4_test_score                              0.521445   \n",
       "mean_test_score                                0.515333   \n",
       "std_test_score                               0.00537151   \n",
       "rank_test_score                                       4   \n",
       "\n",
       "                                                     3  \\\n",
       "mean_fit_time                                0.0137173   \n",
       "std_fit_time                                0.00067846   \n",
       "mean_score_time                             0.00089674   \n",
       "std_score_time                             4.08005e-05   \n",
       "param_class_weight                    {0: 0.1, 1: 1.0}   \n",
       "params              {'class_weight': {0: 0.1, 1: 1.0}}   \n",
       "split0_test_score                             0.531532   \n",
       "split1_test_score                             0.540541   \n",
       "split2_test_score                             0.540541   \n",
       "split3_test_score                             0.548533   \n",
       "split4_test_score                             0.537246   \n",
       "mean_test_score                               0.539678   \n",
       "std_test_score                              0.00551677   \n",
       "rank_test_score                                      3   \n",
       "\n",
       "                                                      4  \\\n",
       "mean_fit_time                                 0.0117781   \n",
       "std_fit_time                                0.000495462   \n",
       "mean_score_time                             0.000926447   \n",
       "std_score_time                               6.4775e-05   \n",
       "param_class_weight                    {0: 0.15, 1: 1.0}   \n",
       "params              {'class_weight': {0: 0.15, 1: 1.0}}   \n",
       "split0_test_score                               0.54955   \n",
       "split1_test_score                              0.558559   \n",
       "split2_test_score                              0.563063   \n",
       "split3_test_score                               0.58465   \n",
       "split4_test_score                              0.575621   \n",
       "mean_test_score                                0.566288   \n",
       "std_test_score                                0.0124466   \n",
       "rank_test_score                                       2   \n",
       "\n",
       "                                                     5  \n",
       "mean_fit_time                                0.0134012  \n",
       "std_fit_time                               0.000769515  \n",
       "mean_score_time                            0.000924826  \n",
       "std_score_time                             5.76664e-05  \n",
       "param_class_weight                    {0: 0.2, 1: 1.0}  \n",
       "params              {'class_weight': {0: 0.2, 1: 1.0}}  \n",
       "split0_test_score                             0.567568  \n",
       "split1_test_score                              0.56982  \n",
       "split2_test_score                             0.572072  \n",
       "split3_test_score                             0.602709  \n",
       "split4_test_score                             0.595937  \n",
       "mean_test_score                               0.581621  \n",
       "std_test_score                               0.0146805  \n",
       "rank_test_score                                      1  "
      ]
     },
     "execution_count": 1184,
     "metadata": {},
     "output_type": "execute_result"
    }
   ],
   "source": [
    "pd.DataFrame(gslr.cv_results_).T"
   ]
  },
  {
   "cell_type": "markdown",
   "metadata": {},
   "source": [
    "## random forest"
   ]
  },
  {
   "cell_type": "code",
   "execution_count": 37,
   "metadata": {
    "ExecuteTime": {
     "end_time": "2020-05-14T05:27:47.799274Z",
     "start_time": "2020-05-14T05:27:47.604302Z"
    }
   },
   "outputs": [
    {
     "name": "stdout",
     "output_type": "stream",
     "text": [
      "Accuracy: 0.719 \t Recall: 0.747 \t Precision: 0.69 \t F1: 0.717\n"
     ]
    },
    {
     "data": {
      "text/plain": [
       "(0.7186654643823264,\n",
       " 0.7469310670443815,\n",
       " 0.6896251089799477,\n",
       " 0.7171350861287397)"
      ]
     },
     "execution_count": 37,
     "metadata": {},
     "output_type": "execute_result"
    }
   ],
   "source": [
    "## random forest\n",
    "\n",
    "rf = RandomForestClassifier(criterion= 'gini', max_depth = 4, max_features = 'sqrt')\n",
    "\n",
    "rf.fit(X_train, y_train)\n",
    "\n",
    "model_scores(rf, X_train, y_train)"
   ]
  },
  {
   "cell_type": "code",
   "execution_count": 38,
   "metadata": {
    "ExecuteTime": {
     "end_time": "2020-05-14T05:27:48.795444Z",
     "start_time": "2020-05-14T05:27:48.773160Z"
    }
   },
   "outputs": [
    {
     "name": "stdout",
     "output_type": "stream",
     "text": [
      "Accuracy: 0.652 \t Recall: 0.679 \t Precision: 0.625 \t F1: 0.651\n"
     ]
    },
    {
     "data": {
      "text/plain": [
       "(0.6522522522522523, 0.6792452830188679, 0.625, 0.650994575045208)"
      ]
     },
     "execution_count": 38,
     "metadata": {},
     "output_type": "execute_result"
    }
   ],
   "source": [
    "model_scores(rf, X_test, y_test)"
   ]
  },
  {
   "cell_type": "code",
   "execution_count": 33,
   "metadata": {
    "ExecuteTime": {
     "end_time": "2020-05-14T05:27:09.013876Z",
     "start_time": "2020-05-14T05:27:09.010918Z"
    }
   },
   "outputs": [],
   "source": [
    "rf_params = {'criterion': ('gini', 'entropy'), 'max_depth': [2, 3, 4],\n",
    "              'max_features': [1, 'sqrt', 'log2', None]}"
   ]
  },
  {
   "cell_type": "code",
   "execution_count": 34,
   "metadata": {
    "ExecuteTime": {
     "end_time": "2020-05-14T05:27:27.368852Z",
     "start_time": "2020-05-14T05:27:09.471291Z"
    }
   },
   "outputs": [
    {
     "data": {
      "text/plain": [
       "GridSearchCV(cv=None, error_score=nan,\n",
       "             estimator=RandomForestClassifier(bootstrap=True, ccp_alpha=0.0,\n",
       "                                              class_weight=None,\n",
       "                                              criterion='entropy', max_depth=3,\n",
       "                                              max_features=1,\n",
       "                                              max_leaf_nodes=None,\n",
       "                                              max_samples=None,\n",
       "                                              min_impurity_decrease=0.0,\n",
       "                                              min_impurity_split=None,\n",
       "                                              min_samples_leaf=1,\n",
       "                                              min_samples_split=2,\n",
       "                                              min_weight_fraction_leaf=0.0,\n",
       "                                              n_estimators=100, n_jobs=None,\n",
       "                                              oob_score=False,\n",
       "                                              random_state=None, verbose=0,\n",
       "                                              warm_start=False),\n",
       "             iid='deprecated', n_jobs=None,\n",
       "             param_grid={'criterion': ('gini', 'entropy'),\n",
       "                         'max_depth': [2, 3, 4],\n",
       "                         'max_features': [1, 'sqrt', 'log2', None]},\n",
       "             pre_dispatch='2*n_jobs', refit=True, return_train_score=False,\n",
       "             scoring=None, verbose=0)"
      ]
     },
     "execution_count": 34,
     "metadata": {},
     "output_type": "execute_result"
    }
   ],
   "source": [
    "gsrf = GridSearchCV(rf, \n",
    "                    rf_params#,scoring=f1_scorer\n",
    "                   )\n",
    "gsrf.fit(X_train, y_train)"
   ]
  },
  {
   "cell_type": "code",
   "execution_count": 35,
   "metadata": {
    "ExecuteTime": {
     "end_time": "2020-05-14T05:27:27.800028Z",
     "start_time": "2020-05-14T05:27:27.763618Z"
    }
   },
   "outputs": [
    {
     "data": {
      "text/html": [
       "<div>\n",
       "<style scoped>\n",
       "    .dataframe tbody tr th:only-of-type {\n",
       "        vertical-align: middle;\n",
       "    }\n",
       "\n",
       "    .dataframe tbody tr th {\n",
       "        vertical-align: top;\n",
       "    }\n",
       "\n",
       "    .dataframe thead th {\n",
       "        text-align: right;\n",
       "    }\n",
       "</style>\n",
       "<table border=\"1\" class=\"dataframe\">\n",
       "  <thead>\n",
       "    <tr style=\"text-align: right;\">\n",
       "      <th></th>\n",
       "      <th>0</th>\n",
       "      <th>1</th>\n",
       "      <th>2</th>\n",
       "      <th>3</th>\n",
       "      <th>4</th>\n",
       "      <th>5</th>\n",
       "      <th>6</th>\n",
       "      <th>7</th>\n",
       "      <th>8</th>\n",
       "      <th>9</th>\n",
       "      <th>...</th>\n",
       "      <th>14</th>\n",
       "      <th>15</th>\n",
       "      <th>16</th>\n",
       "      <th>17</th>\n",
       "      <th>18</th>\n",
       "      <th>19</th>\n",
       "      <th>20</th>\n",
       "      <th>21</th>\n",
       "      <th>22</th>\n",
       "      <th>23</th>\n",
       "    </tr>\n",
       "  </thead>\n",
       "  <tbody>\n",
       "    <tr>\n",
       "      <th>mean_fit_time</th>\n",
       "      <td>0.100279</td>\n",
       "      <td>0.107545</td>\n",
       "      <td>0.112162</td>\n",
       "      <td>0.146185</td>\n",
       "      <td>0.129206</td>\n",
       "      <td>0.122467</td>\n",
       "      <td>0.136948</td>\n",
       "      <td>0.161951</td>\n",
       "      <td>0.109373</td>\n",
       "      <td>0.125505</td>\n",
       "      <td>...</td>\n",
       "      <td>0.119061</td>\n",
       "      <td>0.167453</td>\n",
       "      <td>0.112322</td>\n",
       "      <td>0.141561</td>\n",
       "      <td>0.136062</td>\n",
       "      <td>0.208767</td>\n",
       "      <td>0.121159</td>\n",
       "      <td>0.154605</td>\n",
       "      <td>0.154926</td>\n",
       "      <td>0.250788</td>\n",
       "    </tr>\n",
       "    <tr>\n",
       "      <th>std_fit_time</th>\n",
       "      <td>0.00870281</td>\n",
       "      <td>0.00161408</td>\n",
       "      <td>0.00560645</td>\n",
       "      <td>0.0150514</td>\n",
       "      <td>0.0182725</td>\n",
       "      <td>0.00296646</td>\n",
       "      <td>0.0220137</td>\n",
       "      <td>0.00281025</td>\n",
       "      <td>0.00297489</td>\n",
       "      <td>0.00122519</td>\n",
       "      <td>...</td>\n",
       "      <td>0.000939665</td>\n",
       "      <td>0.00224417</td>\n",
       "      <td>0.00132507</td>\n",
       "      <td>0.00356349</td>\n",
       "      <td>0.00133199</td>\n",
       "      <td>0.00131018</td>\n",
       "      <td>0.000884347</td>\n",
       "      <td>0.00166127</td>\n",
       "      <td>0.00121183</td>\n",
       "      <td>0.00126263</td>\n",
       "    </tr>\n",
       "    <tr>\n",
       "      <th>mean_score_time</th>\n",
       "      <td>0.00762649</td>\n",
       "      <td>0.00768642</td>\n",
       "      <td>0.0078176</td>\n",
       "      <td>0.00857091</td>\n",
       "      <td>0.00909877</td>\n",
       "      <td>0.00830774</td>\n",
       "      <td>0.00868945</td>\n",
       "      <td>0.00832725</td>\n",
       "      <td>0.00805397</td>\n",
       "      <td>0.00797596</td>\n",
       "      <td>...</td>\n",
       "      <td>0.00752525</td>\n",
       "      <td>0.00758834</td>\n",
       "      <td>0.00784297</td>\n",
       "      <td>0.00793567</td>\n",
       "      <td>0.00782409</td>\n",
       "      <td>0.00773635</td>\n",
       "      <td>0.0079103</td>\n",
       "      <td>0.00798092</td>\n",
       "      <td>0.00818114</td>\n",
       "      <td>0.00798259</td>\n",
       "    </tr>\n",
       "    <tr>\n",
       "      <th>std_score_time</th>\n",
       "      <td>0.000195175</td>\n",
       "      <td>0.000257806</td>\n",
       "      <td>0.000440164</td>\n",
       "      <td>0.0015206</td>\n",
       "      <td>0.00138402</td>\n",
       "      <td>0.000206613</td>\n",
       "      <td>0.00140508</td>\n",
       "      <td>0.00098667</td>\n",
       "      <td>6.39528e-05</td>\n",
       "      <td>5.61421e-05</td>\n",
       "      <td>...</td>\n",
       "      <td>0.000228169</td>\n",
       "      <td>0.000140714</td>\n",
       "      <td>0.000147738</td>\n",
       "      <td>8.85532e-05</td>\n",
       "      <td>0.000172108</td>\n",
       "      <td>0.000172212</td>\n",
       "      <td>0.000137515</td>\n",
       "      <td>0.000160817</td>\n",
       "      <td>0.000211105</td>\n",
       "      <td>0.000118969</td>\n",
       "    </tr>\n",
       "    <tr>\n",
       "      <th>param_criterion</th>\n",
       "      <td>gini</td>\n",
       "      <td>gini</td>\n",
       "      <td>gini</td>\n",
       "      <td>gini</td>\n",
       "      <td>gini</td>\n",
       "      <td>gini</td>\n",
       "      <td>gini</td>\n",
       "      <td>gini</td>\n",
       "      <td>gini</td>\n",
       "      <td>gini</td>\n",
       "      <td>...</td>\n",
       "      <td>entropy</td>\n",
       "      <td>entropy</td>\n",
       "      <td>entropy</td>\n",
       "      <td>entropy</td>\n",
       "      <td>entropy</td>\n",
       "      <td>entropy</td>\n",
       "      <td>entropy</td>\n",
       "      <td>entropy</td>\n",
       "      <td>entropy</td>\n",
       "      <td>entropy</td>\n",
       "    </tr>\n",
       "    <tr>\n",
       "      <th>param_max_depth</th>\n",
       "      <td>2</td>\n",
       "      <td>2</td>\n",
       "      <td>2</td>\n",
       "      <td>2</td>\n",
       "      <td>3</td>\n",
       "      <td>3</td>\n",
       "      <td>3</td>\n",
       "      <td>3</td>\n",
       "      <td>4</td>\n",
       "      <td>4</td>\n",
       "      <td>...</td>\n",
       "      <td>2</td>\n",
       "      <td>2</td>\n",
       "      <td>3</td>\n",
       "      <td>3</td>\n",
       "      <td>3</td>\n",
       "      <td>3</td>\n",
       "      <td>4</td>\n",
       "      <td>4</td>\n",
       "      <td>4</td>\n",
       "      <td>4</td>\n",
       "    </tr>\n",
       "    <tr>\n",
       "      <th>param_max_features</th>\n",
       "      <td>1</td>\n",
       "      <td>sqrt</td>\n",
       "      <td>log2</td>\n",
       "      <td>None</td>\n",
       "      <td>1</td>\n",
       "      <td>sqrt</td>\n",
       "      <td>log2</td>\n",
       "      <td>None</td>\n",
       "      <td>1</td>\n",
       "      <td>sqrt</td>\n",
       "      <td>...</td>\n",
       "      <td>log2</td>\n",
       "      <td>None</td>\n",
       "      <td>1</td>\n",
       "      <td>sqrt</td>\n",
       "      <td>log2</td>\n",
       "      <td>None</td>\n",
       "      <td>1</td>\n",
       "      <td>sqrt</td>\n",
       "      <td>log2</td>\n",
       "      <td>None</td>\n",
       "    </tr>\n",
       "    <tr>\n",
       "      <th>params</th>\n",
       "      <td>{'criterion': 'gini', 'max_depth': 2, 'max_fea...</td>\n",
       "      <td>{'criterion': 'gini', 'max_depth': 2, 'max_fea...</td>\n",
       "      <td>{'criterion': 'gini', 'max_depth': 2, 'max_fea...</td>\n",
       "      <td>{'criterion': 'gini', 'max_depth': 2, 'max_fea...</td>\n",
       "      <td>{'criterion': 'gini', 'max_depth': 3, 'max_fea...</td>\n",
       "      <td>{'criterion': 'gini', 'max_depth': 3, 'max_fea...</td>\n",
       "      <td>{'criterion': 'gini', 'max_depth': 3, 'max_fea...</td>\n",
       "      <td>{'criterion': 'gini', 'max_depth': 3, 'max_fea...</td>\n",
       "      <td>{'criterion': 'gini', 'max_depth': 4, 'max_fea...</td>\n",
       "      <td>{'criterion': 'gini', 'max_depth': 4, 'max_fea...</td>\n",
       "      <td>...</td>\n",
       "      <td>{'criterion': 'entropy', 'max_depth': 2, 'max_...</td>\n",
       "      <td>{'criterion': 'entropy', 'max_depth': 2, 'max_...</td>\n",
       "      <td>{'criterion': 'entropy', 'max_depth': 3, 'max_...</td>\n",
       "      <td>{'criterion': 'entropy', 'max_depth': 3, 'max_...</td>\n",
       "      <td>{'criterion': 'entropy', 'max_depth': 3, 'max_...</td>\n",
       "      <td>{'criterion': 'entropy', 'max_depth': 3, 'max_...</td>\n",
       "      <td>{'criterion': 'entropy', 'max_depth': 4, 'max_...</td>\n",
       "      <td>{'criterion': 'entropy', 'max_depth': 4, 'max_...</td>\n",
       "      <td>{'criterion': 'entropy', 'max_depth': 4, 'max_...</td>\n",
       "      <td>{'criterion': 'entropy', 'max_depth': 4, 'max_...</td>\n",
       "    </tr>\n",
       "    <tr>\n",
       "      <th>split0_test_score</th>\n",
       "      <td>0.677928</td>\n",
       "      <td>0.65991</td>\n",
       "      <td>0.675676</td>\n",
       "      <td>0.677928</td>\n",
       "      <td>0.682432</td>\n",
       "      <td>0.68018</td>\n",
       "      <td>0.684685</td>\n",
       "      <td>0.695946</td>\n",
       "      <td>0.68018</td>\n",
       "      <td>0.689189</td>\n",
       "      <td>...</td>\n",
       "      <td>0.68018</td>\n",
       "      <td>0.689189</td>\n",
       "      <td>0.691441</td>\n",
       "      <td>0.684685</td>\n",
       "      <td>0.693694</td>\n",
       "      <td>0.689189</td>\n",
       "      <td>0.677928</td>\n",
       "      <td>0.68018</td>\n",
       "      <td>0.684685</td>\n",
       "      <td>0.691441</td>\n",
       "    </tr>\n",
       "    <tr>\n",
       "      <th>split1_test_score</th>\n",
       "      <td>0.677928</td>\n",
       "      <td>0.677928</td>\n",
       "      <td>0.682432</td>\n",
       "      <td>0.655405</td>\n",
       "      <td>0.686937</td>\n",
       "      <td>0.693694</td>\n",
       "      <td>0.693694</td>\n",
       "      <td>0.689189</td>\n",
       "      <td>0.686937</td>\n",
       "      <td>0.691441</td>\n",
       "      <td>...</td>\n",
       "      <td>0.655405</td>\n",
       "      <td>0.650901</td>\n",
       "      <td>0.682432</td>\n",
       "      <td>0.691441</td>\n",
       "      <td>0.686937</td>\n",
       "      <td>0.686937</td>\n",
       "      <td>0.693694</td>\n",
       "      <td>0.695946</td>\n",
       "      <td>0.695946</td>\n",
       "      <td>0.70045</td>\n",
       "    </tr>\n",
       "    <tr>\n",
       "      <th>split2_test_score</th>\n",
       "      <td>0.684685</td>\n",
       "      <td>0.682432</td>\n",
       "      <td>0.686937</td>\n",
       "      <td>0.65991</td>\n",
       "      <td>0.695946</td>\n",
       "      <td>0.671171</td>\n",
       "      <td>0.68018</td>\n",
       "      <td>0.671171</td>\n",
       "      <td>0.68018</td>\n",
       "      <td>0.684685</td>\n",
       "      <td>...</td>\n",
       "      <td>0.675676</td>\n",
       "      <td>0.662162</td>\n",
       "      <td>0.695946</td>\n",
       "      <td>0.673423</td>\n",
       "      <td>0.689189</td>\n",
       "      <td>0.682432</td>\n",
       "      <td>0.689189</td>\n",
       "      <td>0.689189</td>\n",
       "      <td>0.689189</td>\n",
       "      <td>0.671171</td>\n",
       "    </tr>\n",
       "    <tr>\n",
       "      <th>split3_test_score</th>\n",
       "      <td>0.731377</td>\n",
       "      <td>0.735892</td>\n",
       "      <td>0.735892</td>\n",
       "      <td>0.738149</td>\n",
       "      <td>0.742664</td>\n",
       "      <td>0.742664</td>\n",
       "      <td>0.738149</td>\n",
       "      <td>0.744921</td>\n",
       "      <td>0.744921</td>\n",
       "      <td>0.749436</td>\n",
       "      <td>...</td>\n",
       "      <td>0.733634</td>\n",
       "      <td>0.738149</td>\n",
       "      <td>0.731377</td>\n",
       "      <td>0.735892</td>\n",
       "      <td>0.731377</td>\n",
       "      <td>0.744921</td>\n",
       "      <td>0.72912</td>\n",
       "      <td>0.738149</td>\n",
       "      <td>0.733634</td>\n",
       "      <td>0.744921</td>\n",
       "    </tr>\n",
       "    <tr>\n",
       "      <th>split4_test_score</th>\n",
       "      <td>0.668172</td>\n",
       "      <td>0.681716</td>\n",
       "      <td>0.663657</td>\n",
       "      <td>0.663657</td>\n",
       "      <td>0.672686</td>\n",
       "      <td>0.670429</td>\n",
       "      <td>0.674944</td>\n",
       "      <td>0.668172</td>\n",
       "      <td>0.670429</td>\n",
       "      <td>0.679458</td>\n",
       "      <td>...</td>\n",
       "      <td>0.677201</td>\n",
       "      <td>0.656885</td>\n",
       "      <td>0.665914</td>\n",
       "      <td>0.668172</td>\n",
       "      <td>0.659142</td>\n",
       "      <td>0.674944</td>\n",
       "      <td>0.672686</td>\n",
       "      <td>0.670429</td>\n",
       "      <td>0.672686</td>\n",
       "      <td>0.674944</td>\n",
       "    </tr>\n",
       "    <tr>\n",
       "      <th>mean_test_score</th>\n",
       "      <td>0.688018</td>\n",
       "      <td>0.687575</td>\n",
       "      <td>0.688919</td>\n",
       "      <td>0.67901</td>\n",
       "      <td>0.696133</td>\n",
       "      <td>0.691628</td>\n",
       "      <td>0.69433</td>\n",
       "      <td>0.69388</td>\n",
       "      <td>0.692529</td>\n",
       "      <td>0.698842</td>\n",
       "      <td>...</td>\n",
       "      <td>0.684419</td>\n",
       "      <td>0.679457</td>\n",
       "      <td>0.693422</td>\n",
       "      <td>0.690723</td>\n",
       "      <td>0.692068</td>\n",
       "      <td>0.695685</td>\n",
       "      <td>0.692523</td>\n",
       "      <td>0.694779</td>\n",
       "      <td>0.695228</td>\n",
       "      <td>0.696586</td>\n",
       "    </tr>\n",
       "    <tr>\n",
       "      <th>std_test_score</th>\n",
       "      <td>0.0223097</td>\n",
       "      <td>0.0255096</td>\n",
       "      <td>0.0247629</td>\n",
       "      <td>0.0305165</td>\n",
       "      <td>0.0244424</td>\n",
       "      <td>0.026862</td>\n",
       "      <td>0.0227578</td>\n",
       "      <td>0.0275974</td>\n",
       "      <td>0.0267193</td>\n",
       "      <td>0.0256274</td>\n",
       "      <td>...</td>\n",
       "      <td>0.0261169</td>\n",
       "      <td>0.0321357</td>\n",
       "      <td>0.0215793</td>\n",
       "      <td>0.0240209</td>\n",
       "      <td>0.0230936</td>\n",
       "      <td>0.0250948</td>\n",
       "      <td>0.0197905</td>\n",
       "      <td>0.0233222</td>\n",
       "      <td>0.0206462</td>\n",
       "      <td>0.0264272</td>\n",
       "    </tr>\n",
       "    <tr>\n",
       "      <th>rank_test_score</th>\n",
       "      <td>20</td>\n",
       "      <td>21</td>\n",
       "      <td>19</td>\n",
       "      <td>24</td>\n",
       "      <td>3</td>\n",
       "      <td>14</td>\n",
       "      <td>7</td>\n",
       "      <td>8</td>\n",
       "      <td>10</td>\n",
       "      <td>1</td>\n",
       "      <td>...</td>\n",
       "      <td>22</td>\n",
       "      <td>23</td>\n",
       "      <td>9</td>\n",
       "      <td>17</td>\n",
       "      <td>13</td>\n",
       "      <td>4</td>\n",
       "      <td>12</td>\n",
       "      <td>6</td>\n",
       "      <td>5</td>\n",
       "      <td>2</td>\n",
       "    </tr>\n",
       "  </tbody>\n",
       "</table>\n",
       "<p>16 rows × 24 columns</p>\n",
       "</div>"
      ],
      "text/plain": [
       "                                                                   0   \\\n",
       "mean_fit_time                                                0.100279   \n",
       "std_fit_time                                               0.00870281   \n",
       "mean_score_time                                            0.00762649   \n",
       "std_score_time                                            0.000195175   \n",
       "param_criterion                                                  gini   \n",
       "param_max_depth                                                     2   \n",
       "param_max_features                                                  1   \n",
       "params              {'criterion': 'gini', 'max_depth': 2, 'max_fea...   \n",
       "split0_test_score                                            0.677928   \n",
       "split1_test_score                                            0.677928   \n",
       "split2_test_score                                            0.684685   \n",
       "split3_test_score                                            0.731377   \n",
       "split4_test_score                                            0.668172   \n",
       "mean_test_score                                              0.688018   \n",
       "std_test_score                                              0.0223097   \n",
       "rank_test_score                                                    20   \n",
       "\n",
       "                                                                   1   \\\n",
       "mean_fit_time                                                0.107545   \n",
       "std_fit_time                                               0.00161408   \n",
       "mean_score_time                                            0.00768642   \n",
       "std_score_time                                            0.000257806   \n",
       "param_criterion                                                  gini   \n",
       "param_max_depth                                                     2   \n",
       "param_max_features                                               sqrt   \n",
       "params              {'criterion': 'gini', 'max_depth': 2, 'max_fea...   \n",
       "split0_test_score                                             0.65991   \n",
       "split1_test_score                                            0.677928   \n",
       "split2_test_score                                            0.682432   \n",
       "split3_test_score                                            0.735892   \n",
       "split4_test_score                                            0.681716   \n",
       "mean_test_score                                              0.687575   \n",
       "std_test_score                                              0.0255096   \n",
       "rank_test_score                                                    21   \n",
       "\n",
       "                                                                   2   \\\n",
       "mean_fit_time                                                0.112162   \n",
       "std_fit_time                                               0.00560645   \n",
       "mean_score_time                                             0.0078176   \n",
       "std_score_time                                            0.000440164   \n",
       "param_criterion                                                  gini   \n",
       "param_max_depth                                                     2   \n",
       "param_max_features                                               log2   \n",
       "params              {'criterion': 'gini', 'max_depth': 2, 'max_fea...   \n",
       "split0_test_score                                            0.675676   \n",
       "split1_test_score                                            0.682432   \n",
       "split2_test_score                                            0.686937   \n",
       "split3_test_score                                            0.735892   \n",
       "split4_test_score                                            0.663657   \n",
       "mean_test_score                                              0.688919   \n",
       "std_test_score                                              0.0247629   \n",
       "rank_test_score                                                    19   \n",
       "\n",
       "                                                                   3   \\\n",
       "mean_fit_time                                                0.146185   \n",
       "std_fit_time                                                0.0150514   \n",
       "mean_score_time                                            0.00857091   \n",
       "std_score_time                                              0.0015206   \n",
       "param_criterion                                                  gini   \n",
       "param_max_depth                                                     2   \n",
       "param_max_features                                               None   \n",
       "params              {'criterion': 'gini', 'max_depth': 2, 'max_fea...   \n",
       "split0_test_score                                            0.677928   \n",
       "split1_test_score                                            0.655405   \n",
       "split2_test_score                                             0.65991   \n",
       "split3_test_score                                            0.738149   \n",
       "split4_test_score                                            0.663657   \n",
       "mean_test_score                                               0.67901   \n",
       "std_test_score                                              0.0305165   \n",
       "rank_test_score                                                    24   \n",
       "\n",
       "                                                                   4   \\\n",
       "mean_fit_time                                                0.129206   \n",
       "std_fit_time                                                0.0182725   \n",
       "mean_score_time                                            0.00909877   \n",
       "std_score_time                                             0.00138402   \n",
       "param_criterion                                                  gini   \n",
       "param_max_depth                                                     3   \n",
       "param_max_features                                                  1   \n",
       "params              {'criterion': 'gini', 'max_depth': 3, 'max_fea...   \n",
       "split0_test_score                                            0.682432   \n",
       "split1_test_score                                            0.686937   \n",
       "split2_test_score                                            0.695946   \n",
       "split3_test_score                                            0.742664   \n",
       "split4_test_score                                            0.672686   \n",
       "mean_test_score                                              0.696133   \n",
       "std_test_score                                              0.0244424   \n",
       "rank_test_score                                                     3   \n",
       "\n",
       "                                                                   5   \\\n",
       "mean_fit_time                                                0.122467   \n",
       "std_fit_time                                               0.00296646   \n",
       "mean_score_time                                            0.00830774   \n",
       "std_score_time                                            0.000206613   \n",
       "param_criterion                                                  gini   \n",
       "param_max_depth                                                     3   \n",
       "param_max_features                                               sqrt   \n",
       "params              {'criterion': 'gini', 'max_depth': 3, 'max_fea...   \n",
       "split0_test_score                                             0.68018   \n",
       "split1_test_score                                            0.693694   \n",
       "split2_test_score                                            0.671171   \n",
       "split3_test_score                                            0.742664   \n",
       "split4_test_score                                            0.670429   \n",
       "mean_test_score                                              0.691628   \n",
       "std_test_score                                               0.026862   \n",
       "rank_test_score                                                    14   \n",
       "\n",
       "                                                                   6   \\\n",
       "mean_fit_time                                                0.136948   \n",
       "std_fit_time                                                0.0220137   \n",
       "mean_score_time                                            0.00868945   \n",
       "std_score_time                                             0.00140508   \n",
       "param_criterion                                                  gini   \n",
       "param_max_depth                                                     3   \n",
       "param_max_features                                               log2   \n",
       "params              {'criterion': 'gini', 'max_depth': 3, 'max_fea...   \n",
       "split0_test_score                                            0.684685   \n",
       "split1_test_score                                            0.693694   \n",
       "split2_test_score                                             0.68018   \n",
       "split3_test_score                                            0.738149   \n",
       "split4_test_score                                            0.674944   \n",
       "mean_test_score                                               0.69433   \n",
       "std_test_score                                              0.0227578   \n",
       "rank_test_score                                                     7   \n",
       "\n",
       "                                                                   7   \\\n",
       "mean_fit_time                                                0.161951   \n",
       "std_fit_time                                               0.00281025   \n",
       "mean_score_time                                            0.00832725   \n",
       "std_score_time                                             0.00098667   \n",
       "param_criterion                                                  gini   \n",
       "param_max_depth                                                     3   \n",
       "param_max_features                                               None   \n",
       "params              {'criterion': 'gini', 'max_depth': 3, 'max_fea...   \n",
       "split0_test_score                                            0.695946   \n",
       "split1_test_score                                            0.689189   \n",
       "split2_test_score                                            0.671171   \n",
       "split3_test_score                                            0.744921   \n",
       "split4_test_score                                            0.668172   \n",
       "mean_test_score                                               0.69388   \n",
       "std_test_score                                              0.0275974   \n",
       "rank_test_score                                                     8   \n",
       "\n",
       "                                                                   8   \\\n",
       "mean_fit_time                                                0.109373   \n",
       "std_fit_time                                               0.00297489   \n",
       "mean_score_time                                            0.00805397   \n",
       "std_score_time                                            6.39528e-05   \n",
       "param_criterion                                                  gini   \n",
       "param_max_depth                                                     4   \n",
       "param_max_features                                                  1   \n",
       "params              {'criterion': 'gini', 'max_depth': 4, 'max_fea...   \n",
       "split0_test_score                                             0.68018   \n",
       "split1_test_score                                            0.686937   \n",
       "split2_test_score                                             0.68018   \n",
       "split3_test_score                                            0.744921   \n",
       "split4_test_score                                            0.670429   \n",
       "mean_test_score                                              0.692529   \n",
       "std_test_score                                              0.0267193   \n",
       "rank_test_score                                                    10   \n",
       "\n",
       "                                                                   9   ...  \\\n",
       "mean_fit_time                                                0.125505  ...   \n",
       "std_fit_time                                               0.00122519  ...   \n",
       "mean_score_time                                            0.00797596  ...   \n",
       "std_score_time                                            5.61421e-05  ...   \n",
       "param_criterion                                                  gini  ...   \n",
       "param_max_depth                                                     4  ...   \n",
       "param_max_features                                               sqrt  ...   \n",
       "params              {'criterion': 'gini', 'max_depth': 4, 'max_fea...  ...   \n",
       "split0_test_score                                            0.689189  ...   \n",
       "split1_test_score                                            0.691441  ...   \n",
       "split2_test_score                                            0.684685  ...   \n",
       "split3_test_score                                            0.749436  ...   \n",
       "split4_test_score                                            0.679458  ...   \n",
       "mean_test_score                                              0.698842  ...   \n",
       "std_test_score                                              0.0256274  ...   \n",
       "rank_test_score                                                     1  ...   \n",
       "\n",
       "                                                                   14  \\\n",
       "mean_fit_time                                                0.119061   \n",
       "std_fit_time                                              0.000939665   \n",
       "mean_score_time                                            0.00752525   \n",
       "std_score_time                                            0.000228169   \n",
       "param_criterion                                               entropy   \n",
       "param_max_depth                                                     2   \n",
       "param_max_features                                               log2   \n",
       "params              {'criterion': 'entropy', 'max_depth': 2, 'max_...   \n",
       "split0_test_score                                             0.68018   \n",
       "split1_test_score                                            0.655405   \n",
       "split2_test_score                                            0.675676   \n",
       "split3_test_score                                            0.733634   \n",
       "split4_test_score                                            0.677201   \n",
       "mean_test_score                                              0.684419   \n",
       "std_test_score                                              0.0261169   \n",
       "rank_test_score                                                    22   \n",
       "\n",
       "                                                                   15  \\\n",
       "mean_fit_time                                                0.167453   \n",
       "std_fit_time                                               0.00224417   \n",
       "mean_score_time                                            0.00758834   \n",
       "std_score_time                                            0.000140714   \n",
       "param_criterion                                               entropy   \n",
       "param_max_depth                                                     2   \n",
       "param_max_features                                               None   \n",
       "params              {'criterion': 'entropy', 'max_depth': 2, 'max_...   \n",
       "split0_test_score                                            0.689189   \n",
       "split1_test_score                                            0.650901   \n",
       "split2_test_score                                            0.662162   \n",
       "split3_test_score                                            0.738149   \n",
       "split4_test_score                                            0.656885   \n",
       "mean_test_score                                              0.679457   \n",
       "std_test_score                                              0.0321357   \n",
       "rank_test_score                                                    23   \n",
       "\n",
       "                                                                   16  \\\n",
       "mean_fit_time                                                0.112322   \n",
       "std_fit_time                                               0.00132507   \n",
       "mean_score_time                                            0.00784297   \n",
       "std_score_time                                            0.000147738   \n",
       "param_criterion                                               entropy   \n",
       "param_max_depth                                                     3   \n",
       "param_max_features                                                  1   \n",
       "params              {'criterion': 'entropy', 'max_depth': 3, 'max_...   \n",
       "split0_test_score                                            0.691441   \n",
       "split1_test_score                                            0.682432   \n",
       "split2_test_score                                            0.695946   \n",
       "split3_test_score                                            0.731377   \n",
       "split4_test_score                                            0.665914   \n",
       "mean_test_score                                              0.693422   \n",
       "std_test_score                                              0.0215793   \n",
       "rank_test_score                                                     9   \n",
       "\n",
       "                                                                   17  \\\n",
       "mean_fit_time                                                0.141561   \n",
       "std_fit_time                                               0.00356349   \n",
       "mean_score_time                                            0.00793567   \n",
       "std_score_time                                            8.85532e-05   \n",
       "param_criterion                                               entropy   \n",
       "param_max_depth                                                     3   \n",
       "param_max_features                                               sqrt   \n",
       "params              {'criterion': 'entropy', 'max_depth': 3, 'max_...   \n",
       "split0_test_score                                            0.684685   \n",
       "split1_test_score                                            0.691441   \n",
       "split2_test_score                                            0.673423   \n",
       "split3_test_score                                            0.735892   \n",
       "split4_test_score                                            0.668172   \n",
       "mean_test_score                                              0.690723   \n",
       "std_test_score                                              0.0240209   \n",
       "rank_test_score                                                    17   \n",
       "\n",
       "                                                                   18  \\\n",
       "mean_fit_time                                                0.136062   \n",
       "std_fit_time                                               0.00133199   \n",
       "mean_score_time                                            0.00782409   \n",
       "std_score_time                                            0.000172108   \n",
       "param_criterion                                               entropy   \n",
       "param_max_depth                                                     3   \n",
       "param_max_features                                               log2   \n",
       "params              {'criterion': 'entropy', 'max_depth': 3, 'max_...   \n",
       "split0_test_score                                            0.693694   \n",
       "split1_test_score                                            0.686937   \n",
       "split2_test_score                                            0.689189   \n",
       "split3_test_score                                            0.731377   \n",
       "split4_test_score                                            0.659142   \n",
       "mean_test_score                                              0.692068   \n",
       "std_test_score                                              0.0230936   \n",
       "rank_test_score                                                    13   \n",
       "\n",
       "                                                                   19  \\\n",
       "mean_fit_time                                                0.208767   \n",
       "std_fit_time                                               0.00131018   \n",
       "mean_score_time                                            0.00773635   \n",
       "std_score_time                                            0.000172212   \n",
       "param_criterion                                               entropy   \n",
       "param_max_depth                                                     3   \n",
       "param_max_features                                               None   \n",
       "params              {'criterion': 'entropy', 'max_depth': 3, 'max_...   \n",
       "split0_test_score                                            0.689189   \n",
       "split1_test_score                                            0.686937   \n",
       "split2_test_score                                            0.682432   \n",
       "split3_test_score                                            0.744921   \n",
       "split4_test_score                                            0.674944   \n",
       "mean_test_score                                              0.695685   \n",
       "std_test_score                                              0.0250948   \n",
       "rank_test_score                                                     4   \n",
       "\n",
       "                                                                   20  \\\n",
       "mean_fit_time                                                0.121159   \n",
       "std_fit_time                                              0.000884347   \n",
       "mean_score_time                                             0.0079103   \n",
       "std_score_time                                            0.000137515   \n",
       "param_criterion                                               entropy   \n",
       "param_max_depth                                                     4   \n",
       "param_max_features                                                  1   \n",
       "params              {'criterion': 'entropy', 'max_depth': 4, 'max_...   \n",
       "split0_test_score                                            0.677928   \n",
       "split1_test_score                                            0.693694   \n",
       "split2_test_score                                            0.689189   \n",
       "split3_test_score                                             0.72912   \n",
       "split4_test_score                                            0.672686   \n",
       "mean_test_score                                              0.692523   \n",
       "std_test_score                                              0.0197905   \n",
       "rank_test_score                                                    12   \n",
       "\n",
       "                                                                   21  \\\n",
       "mean_fit_time                                                0.154605   \n",
       "std_fit_time                                               0.00166127   \n",
       "mean_score_time                                            0.00798092   \n",
       "std_score_time                                            0.000160817   \n",
       "param_criterion                                               entropy   \n",
       "param_max_depth                                                     4   \n",
       "param_max_features                                               sqrt   \n",
       "params              {'criterion': 'entropy', 'max_depth': 4, 'max_...   \n",
       "split0_test_score                                             0.68018   \n",
       "split1_test_score                                            0.695946   \n",
       "split2_test_score                                            0.689189   \n",
       "split3_test_score                                            0.738149   \n",
       "split4_test_score                                            0.670429   \n",
       "mean_test_score                                              0.694779   \n",
       "std_test_score                                              0.0233222   \n",
       "rank_test_score                                                     6   \n",
       "\n",
       "                                                                   22  \\\n",
       "mean_fit_time                                                0.154926   \n",
       "std_fit_time                                               0.00121183   \n",
       "mean_score_time                                            0.00818114   \n",
       "std_score_time                                            0.000211105   \n",
       "param_criterion                                               entropy   \n",
       "param_max_depth                                                     4   \n",
       "param_max_features                                               log2   \n",
       "params              {'criterion': 'entropy', 'max_depth': 4, 'max_...   \n",
       "split0_test_score                                            0.684685   \n",
       "split1_test_score                                            0.695946   \n",
       "split2_test_score                                            0.689189   \n",
       "split3_test_score                                            0.733634   \n",
       "split4_test_score                                            0.672686   \n",
       "mean_test_score                                              0.695228   \n",
       "std_test_score                                              0.0206462   \n",
       "rank_test_score                                                     5   \n",
       "\n",
       "                                                                   23  \n",
       "mean_fit_time                                                0.250788  \n",
       "std_fit_time                                               0.00126263  \n",
       "mean_score_time                                            0.00798259  \n",
       "std_score_time                                            0.000118969  \n",
       "param_criterion                                               entropy  \n",
       "param_max_depth                                                     4  \n",
       "param_max_features                                               None  \n",
       "params              {'criterion': 'entropy', 'max_depth': 4, 'max_...  \n",
       "split0_test_score                                            0.691441  \n",
       "split1_test_score                                             0.70045  \n",
       "split2_test_score                                            0.671171  \n",
       "split3_test_score                                            0.744921  \n",
       "split4_test_score                                            0.674944  \n",
       "mean_test_score                                              0.696586  \n",
       "std_test_score                                              0.0264272  \n",
       "rank_test_score                                                     2  \n",
       "\n",
       "[16 rows x 24 columns]"
      ]
     },
     "execution_count": 35,
     "metadata": {},
     "output_type": "execute_result"
    }
   ],
   "source": [
    "pd.DataFrame(gsrf.cv_results_).T"
   ]
  },
  {
   "cell_type": "code",
   "execution_count": 36,
   "metadata": {
    "ExecuteTime": {
     "end_time": "2020-05-14T05:27:28.180016Z",
     "start_time": "2020-05-14T05:27:28.177036Z"
    }
   },
   "outputs": [
    {
     "data": {
      "text/plain": [
       "{'criterion': 'gini', 'max_depth': 4, 'max_features': 'sqrt'}"
      ]
     },
     "execution_count": 36,
     "metadata": {},
     "output_type": "execute_result"
    }
   ],
   "source": [
    "gsrf.best_params_"
   ]
  },
  {
   "cell_type": "markdown",
   "metadata": {},
   "source": [
    "------\n",
    "## GradientBoostingClassifier"
   ]
  },
  {
   "cell_type": "code",
   "execution_count": 18,
   "metadata": {
    "ExecuteTime": {
     "end_time": "2020-05-14T05:25:20.460771Z",
     "start_time": "2020-05-14T05:25:20.224230Z"
    }
   },
   "outputs": [
    {
     "name": "stdout",
     "output_type": "stream",
     "text": [
      "Accuracy: 0.643 \t Recall: 0.998 \t Precision: 0.573 \t F1: 0.728\n"
     ]
    },
    {
     "data": {
      "text/plain": [
       "(0.6433724075743913,\n",
       " 0.9981114258734656,\n",
       " 0.5725893824485374,\n",
       " 0.7277108433734939)"
      ]
     },
     "execution_count": 18,
     "metadata": {},
     "output_type": "execute_result"
    }
   ],
   "source": [
    "# GradientBoostingClassifier\n",
    "gbc = GradientBoostingClassifier()\n",
    "\n",
    "def sw(weight_a, weight_b):\n",
    "    sample_weights = np.zeros(len(y_train))\n",
    "    sample_weights[y_train == 0] = weight_a\n",
    "    sample_weights[y_train == 1] = weight_b\n",
    "    return sample_weights\n",
    "\n",
    "sample_weights = sw(0.5, 3)\n",
    "\n",
    "gbc.fit(X_train, y_train, sample_weight = sample_weights\n",
    "       )\n",
    "\n",
    "model_scores(gbc, X_train, y_train)\n"
   ]
  },
  {
   "cell_type": "code",
   "execution_count": 19,
   "metadata": {
    "ExecuteTime": {
     "end_time": "2020-05-14T05:25:20.991224Z",
     "start_time": "2020-05-14T05:25:20.979310Z"
    }
   },
   "outputs": [
    {
     "name": "stdout",
     "output_type": "stream",
     "text": [
      "Accuracy: 0.589 \t Recall: 0.966 \t Precision: 0.539 \t F1: 0.692\n"
     ]
    },
    {
     "data": {
      "text/plain": [
       "(0.5891891891891892,\n",
       " 0.9660377358490566,\n",
       " 0.5389473684210526,\n",
       " 0.6918918918918918)"
      ]
     },
     "execution_count": 19,
     "metadata": {},
     "output_type": "execute_result"
    }
   ],
   "source": [
    "model_scores(gbc, X_test, y_test)"
   ]
  },
  {
   "cell_type": "code",
   "execution_count": 127,
   "metadata": {
    "ExecuteTime": {
     "end_time": "2020-05-13T02:21:14.990471Z",
     "start_time": "2020-05-13T02:21:14.984683Z"
    }
   },
   "outputs": [],
   "source": [
    "sample_weights_list = [sw(0.5, 9.1), sw(0.5, 5), sw(1, 5), sw(0.2, 10)]\n",
    "# gbc_params = {'sample_weight': sample_weights_list}"
   ]
  },
  {
   "cell_type": "code",
   "execution_count": 128,
   "metadata": {
    "ExecuteTime": {
     "end_time": "2020-05-13T02:21:15.312805Z",
     "start_time": "2020-05-13T02:21:15.272214Z"
    },
    "collapsed": true
   },
   "outputs": [
    {
     "ename": "ValueError",
     "evalue": "Invalid parameter sample_weight for estimator GradientBoostingClassifier(ccp_alpha=0.0, criterion='friedman_mse', init=None,\n                           learning_rate=0.1, loss='deviance', max_depth=3,\n                           max_features=None, max_leaf_nodes=None,\n                           min_impurity_decrease=0.0, min_impurity_split=None,\n                           min_samples_leaf=1, min_samples_split=2,\n                           min_weight_fraction_leaf=0.0, n_estimators=100,\n                           n_iter_no_change=None, presort='deprecated',\n                           random_state=None, subsample=1.0, tol=0.0001,\n                           validation_fraction=0.1, verbose=0,\n                           warm_start=False). Check the list of available parameters with `estimator.get_params().keys()`.",
     "output_type": "error",
     "traceback": [
      "\u001b[0;31m---------------------------------------------------------------------------\u001b[0m",
      "\u001b[0;31mValueError\u001b[0m                                Traceback (most recent call last)",
      "\u001b[0;32m<ipython-input-128-30237605d6c5>\u001b[0m in \u001b[0;36m<module>\u001b[0;34m\u001b[0m\n\u001b[1;32m      2\u001b[0m                     \u001b[0mgbc_params\u001b[0m\u001b[0;34m,\u001b[0m\u001b[0;34m\u001b[0m\u001b[0m\n\u001b[1;32m      3\u001b[0m                    scoring=f1_scorer)\n\u001b[0;32m----> 4\u001b[0;31m \u001b[0mgsgbc\u001b[0m\u001b[0;34m.\u001b[0m\u001b[0mfit\u001b[0m\u001b[0;34m(\u001b[0m\u001b[0mX_train\u001b[0m\u001b[0;34m,\u001b[0m \u001b[0my_train\u001b[0m\u001b[0;34m)\u001b[0m\u001b[0;34m\u001b[0m\u001b[0m\n\u001b[0m",
      "\u001b[0;32m~/anaconda3/lib/python3.6/site-packages/sklearn/model_selection/_search.py\u001b[0m in \u001b[0;36mfit\u001b[0;34m(self, X, y, groups, **fit_params)\u001b[0m\n\u001b[1;32m    708\u001b[0m                 \u001b[0;32mreturn\u001b[0m \u001b[0mresults\u001b[0m\u001b[0;34m\u001b[0m\u001b[0m\n\u001b[1;32m    709\u001b[0m \u001b[0;34m\u001b[0m\u001b[0m\n\u001b[0;32m--> 710\u001b[0;31m             \u001b[0mself\u001b[0m\u001b[0;34m.\u001b[0m\u001b[0m_run_search\u001b[0m\u001b[0;34m(\u001b[0m\u001b[0mevaluate_candidates\u001b[0m\u001b[0;34m)\u001b[0m\u001b[0;34m\u001b[0m\u001b[0m\n\u001b[0m\u001b[1;32m    711\u001b[0m \u001b[0;34m\u001b[0m\u001b[0m\n\u001b[1;32m    712\u001b[0m         \u001b[0;31m# For multi-metric evaluation, store the best_index_, best_params_ and\u001b[0m\u001b[0;34m\u001b[0m\u001b[0;34m\u001b[0m\u001b[0m\n",
      "\u001b[0;32m~/anaconda3/lib/python3.6/site-packages/sklearn/model_selection/_search.py\u001b[0m in \u001b[0;36m_run_search\u001b[0;34m(self, evaluate_candidates)\u001b[0m\n\u001b[1;32m   1149\u001b[0m     \u001b[0;32mdef\u001b[0m \u001b[0m_run_search\u001b[0m\u001b[0;34m(\u001b[0m\u001b[0mself\u001b[0m\u001b[0;34m,\u001b[0m \u001b[0mevaluate_candidates\u001b[0m\u001b[0;34m)\u001b[0m\u001b[0;34m:\u001b[0m\u001b[0;34m\u001b[0m\u001b[0m\n\u001b[1;32m   1150\u001b[0m         \u001b[0;34m\"\"\"Search all candidates in param_grid\"\"\"\u001b[0m\u001b[0;34m\u001b[0m\u001b[0m\n\u001b[0;32m-> 1151\u001b[0;31m         \u001b[0mevaluate_candidates\u001b[0m\u001b[0;34m(\u001b[0m\u001b[0mParameterGrid\u001b[0m\u001b[0;34m(\u001b[0m\u001b[0mself\u001b[0m\u001b[0;34m.\u001b[0m\u001b[0mparam_grid\u001b[0m\u001b[0;34m)\u001b[0m\u001b[0;34m)\u001b[0m\u001b[0;34m\u001b[0m\u001b[0m\n\u001b[0m\u001b[1;32m   1152\u001b[0m \u001b[0;34m\u001b[0m\u001b[0m\n\u001b[1;32m   1153\u001b[0m \u001b[0;34m\u001b[0m\u001b[0m\n",
      "\u001b[0;32m~/anaconda3/lib/python3.6/site-packages/sklearn/model_selection/_search.py\u001b[0m in \u001b[0;36mevaluate_candidates\u001b[0;34m(candidate_params)\u001b[0m\n\u001b[1;32m    687\u001b[0m                                \u001b[0;32mfor\u001b[0m \u001b[0mparameters\u001b[0m\u001b[0;34m,\u001b[0m \u001b[0;34m(\u001b[0m\u001b[0mtrain\u001b[0m\u001b[0;34m,\u001b[0m \u001b[0mtest\u001b[0m\u001b[0;34m)\u001b[0m\u001b[0;34m\u001b[0m\u001b[0m\n\u001b[1;32m    688\u001b[0m                                in product(candidate_params,\n\u001b[0;32m--> 689\u001b[0;31m                                           cv.split(X, y, groups)))\n\u001b[0m\u001b[1;32m    690\u001b[0m \u001b[0;34m\u001b[0m\u001b[0m\n\u001b[1;32m    691\u001b[0m                 \u001b[0;32mif\u001b[0m \u001b[0mlen\u001b[0m\u001b[0;34m(\u001b[0m\u001b[0mout\u001b[0m\u001b[0;34m)\u001b[0m \u001b[0;34m<\u001b[0m \u001b[0;36m1\u001b[0m\u001b[0;34m:\u001b[0m\u001b[0;34m\u001b[0m\u001b[0m\n",
      "\u001b[0;32m~/anaconda3/lib/python3.6/site-packages/joblib/parallel.py\u001b[0m in \u001b[0;36m__call__\u001b[0;34m(self, iterable)\u001b[0m\n\u001b[1;32m   1002\u001b[0m             \u001b[0;31m# remaining jobs.\u001b[0m\u001b[0;34m\u001b[0m\u001b[0;34m\u001b[0m\u001b[0m\n\u001b[1;32m   1003\u001b[0m             \u001b[0mself\u001b[0m\u001b[0;34m.\u001b[0m\u001b[0m_iterating\u001b[0m \u001b[0;34m=\u001b[0m \u001b[0;32mFalse\u001b[0m\u001b[0;34m\u001b[0m\u001b[0m\n\u001b[0;32m-> 1004\u001b[0;31m             \u001b[0;32mif\u001b[0m \u001b[0mself\u001b[0m\u001b[0;34m.\u001b[0m\u001b[0mdispatch_one_batch\u001b[0m\u001b[0;34m(\u001b[0m\u001b[0miterator\u001b[0m\u001b[0;34m)\u001b[0m\u001b[0;34m:\u001b[0m\u001b[0;34m\u001b[0m\u001b[0m\n\u001b[0m\u001b[1;32m   1005\u001b[0m                 \u001b[0mself\u001b[0m\u001b[0;34m.\u001b[0m\u001b[0m_iterating\u001b[0m \u001b[0;34m=\u001b[0m \u001b[0mself\u001b[0m\u001b[0;34m.\u001b[0m\u001b[0m_original_iterator\u001b[0m \u001b[0;32mis\u001b[0m \u001b[0;32mnot\u001b[0m \u001b[0;32mNone\u001b[0m\u001b[0;34m\u001b[0m\u001b[0m\n\u001b[1;32m   1006\u001b[0m \u001b[0;34m\u001b[0m\u001b[0m\n",
      "\u001b[0;32m~/anaconda3/lib/python3.6/site-packages/joblib/parallel.py\u001b[0m in \u001b[0;36mdispatch_one_batch\u001b[0;34m(self, iterator)\u001b[0m\n\u001b[1;32m    833\u001b[0m                 \u001b[0;32mreturn\u001b[0m \u001b[0;32mFalse\u001b[0m\u001b[0;34m\u001b[0m\u001b[0m\n\u001b[1;32m    834\u001b[0m             \u001b[0;32melse\u001b[0m\u001b[0;34m:\u001b[0m\u001b[0;34m\u001b[0m\u001b[0m\n\u001b[0;32m--> 835\u001b[0;31m                 \u001b[0mself\u001b[0m\u001b[0;34m.\u001b[0m\u001b[0m_dispatch\u001b[0m\u001b[0;34m(\u001b[0m\u001b[0mtasks\u001b[0m\u001b[0;34m)\u001b[0m\u001b[0;34m\u001b[0m\u001b[0m\n\u001b[0m\u001b[1;32m    836\u001b[0m                 \u001b[0;32mreturn\u001b[0m \u001b[0;32mTrue\u001b[0m\u001b[0;34m\u001b[0m\u001b[0m\n\u001b[1;32m    837\u001b[0m \u001b[0;34m\u001b[0m\u001b[0m\n",
      "\u001b[0;32m~/anaconda3/lib/python3.6/site-packages/joblib/parallel.py\u001b[0m in \u001b[0;36m_dispatch\u001b[0;34m(self, batch)\u001b[0m\n\u001b[1;32m    752\u001b[0m         \u001b[0;32mwith\u001b[0m \u001b[0mself\u001b[0m\u001b[0;34m.\u001b[0m\u001b[0m_lock\u001b[0m\u001b[0;34m:\u001b[0m\u001b[0;34m\u001b[0m\u001b[0m\n\u001b[1;32m    753\u001b[0m             \u001b[0mjob_idx\u001b[0m \u001b[0;34m=\u001b[0m \u001b[0mlen\u001b[0m\u001b[0;34m(\u001b[0m\u001b[0mself\u001b[0m\u001b[0;34m.\u001b[0m\u001b[0m_jobs\u001b[0m\u001b[0;34m)\u001b[0m\u001b[0;34m\u001b[0m\u001b[0m\n\u001b[0;32m--> 754\u001b[0;31m             \u001b[0mjob\u001b[0m \u001b[0;34m=\u001b[0m \u001b[0mself\u001b[0m\u001b[0;34m.\u001b[0m\u001b[0m_backend\u001b[0m\u001b[0;34m.\u001b[0m\u001b[0mapply_async\u001b[0m\u001b[0;34m(\u001b[0m\u001b[0mbatch\u001b[0m\u001b[0;34m,\u001b[0m \u001b[0mcallback\u001b[0m\u001b[0;34m=\u001b[0m\u001b[0mcb\u001b[0m\u001b[0;34m)\u001b[0m\u001b[0;34m\u001b[0m\u001b[0m\n\u001b[0m\u001b[1;32m    755\u001b[0m             \u001b[0;31m# A job can complete so quickly than its callback is\u001b[0m\u001b[0;34m\u001b[0m\u001b[0;34m\u001b[0m\u001b[0m\n\u001b[1;32m    756\u001b[0m             \u001b[0;31m# called before we get here, causing self._jobs to\u001b[0m\u001b[0;34m\u001b[0m\u001b[0;34m\u001b[0m\u001b[0m\n",
      "\u001b[0;32m~/anaconda3/lib/python3.6/site-packages/joblib/_parallel_backends.py\u001b[0m in \u001b[0;36mapply_async\u001b[0;34m(self, func, callback)\u001b[0m\n\u001b[1;32m    207\u001b[0m     \u001b[0;32mdef\u001b[0m \u001b[0mapply_async\u001b[0m\u001b[0;34m(\u001b[0m\u001b[0mself\u001b[0m\u001b[0;34m,\u001b[0m \u001b[0mfunc\u001b[0m\u001b[0;34m,\u001b[0m \u001b[0mcallback\u001b[0m\u001b[0;34m=\u001b[0m\u001b[0;32mNone\u001b[0m\u001b[0;34m)\u001b[0m\u001b[0;34m:\u001b[0m\u001b[0;34m\u001b[0m\u001b[0m\n\u001b[1;32m    208\u001b[0m         \u001b[0;34m\"\"\"Schedule a func to be run\"\"\"\u001b[0m\u001b[0;34m\u001b[0m\u001b[0m\n\u001b[0;32m--> 209\u001b[0;31m         \u001b[0mresult\u001b[0m \u001b[0;34m=\u001b[0m \u001b[0mImmediateResult\u001b[0m\u001b[0;34m(\u001b[0m\u001b[0mfunc\u001b[0m\u001b[0;34m)\u001b[0m\u001b[0;34m\u001b[0m\u001b[0m\n\u001b[0m\u001b[1;32m    210\u001b[0m         \u001b[0;32mif\u001b[0m \u001b[0mcallback\u001b[0m\u001b[0;34m:\u001b[0m\u001b[0;34m\u001b[0m\u001b[0m\n\u001b[1;32m    211\u001b[0m             \u001b[0mcallback\u001b[0m\u001b[0;34m(\u001b[0m\u001b[0mresult\u001b[0m\u001b[0;34m)\u001b[0m\u001b[0;34m\u001b[0m\u001b[0m\n",
      "\u001b[0;32m~/anaconda3/lib/python3.6/site-packages/joblib/_parallel_backends.py\u001b[0m in \u001b[0;36m__init__\u001b[0;34m(self, batch)\u001b[0m\n\u001b[1;32m    588\u001b[0m         \u001b[0;31m# Don't delay the application, to avoid keeping the input\u001b[0m\u001b[0;34m\u001b[0m\u001b[0;34m\u001b[0m\u001b[0m\n\u001b[1;32m    589\u001b[0m         \u001b[0;31m# arguments in memory\u001b[0m\u001b[0;34m\u001b[0m\u001b[0;34m\u001b[0m\u001b[0m\n\u001b[0;32m--> 590\u001b[0;31m         \u001b[0mself\u001b[0m\u001b[0;34m.\u001b[0m\u001b[0mresults\u001b[0m \u001b[0;34m=\u001b[0m \u001b[0mbatch\u001b[0m\u001b[0;34m(\u001b[0m\u001b[0;34m)\u001b[0m\u001b[0;34m\u001b[0m\u001b[0m\n\u001b[0m\u001b[1;32m    591\u001b[0m \u001b[0;34m\u001b[0m\u001b[0m\n\u001b[1;32m    592\u001b[0m     \u001b[0;32mdef\u001b[0m \u001b[0mget\u001b[0m\u001b[0;34m(\u001b[0m\u001b[0mself\u001b[0m\u001b[0;34m)\u001b[0m\u001b[0;34m:\u001b[0m\u001b[0;34m\u001b[0m\u001b[0m\n",
      "\u001b[0;32m~/anaconda3/lib/python3.6/site-packages/joblib/parallel.py\u001b[0m in \u001b[0;36m__call__\u001b[0;34m(self)\u001b[0m\n\u001b[1;32m    254\u001b[0m         \u001b[0;32mwith\u001b[0m \u001b[0mparallel_backend\u001b[0m\u001b[0;34m(\u001b[0m\u001b[0mself\u001b[0m\u001b[0;34m.\u001b[0m\u001b[0m_backend\u001b[0m\u001b[0;34m,\u001b[0m \u001b[0mn_jobs\u001b[0m\u001b[0;34m=\u001b[0m\u001b[0mself\u001b[0m\u001b[0;34m.\u001b[0m\u001b[0m_n_jobs\u001b[0m\u001b[0;34m)\u001b[0m\u001b[0;34m:\u001b[0m\u001b[0;34m\u001b[0m\u001b[0m\n\u001b[1;32m    255\u001b[0m             return [func(*args, **kwargs)\n\u001b[0;32m--> 256\u001b[0;31m                     for func, args, kwargs in self.items]\n\u001b[0m\u001b[1;32m    257\u001b[0m \u001b[0;34m\u001b[0m\u001b[0m\n\u001b[1;32m    258\u001b[0m     \u001b[0;32mdef\u001b[0m \u001b[0m__len__\u001b[0m\u001b[0;34m(\u001b[0m\u001b[0mself\u001b[0m\u001b[0;34m)\u001b[0m\u001b[0;34m:\u001b[0m\u001b[0;34m\u001b[0m\u001b[0m\n",
      "\u001b[0;32m~/anaconda3/lib/python3.6/site-packages/joblib/parallel.py\u001b[0m in \u001b[0;36m<listcomp>\u001b[0;34m(.0)\u001b[0m\n\u001b[1;32m    254\u001b[0m         \u001b[0;32mwith\u001b[0m \u001b[0mparallel_backend\u001b[0m\u001b[0;34m(\u001b[0m\u001b[0mself\u001b[0m\u001b[0;34m.\u001b[0m\u001b[0m_backend\u001b[0m\u001b[0;34m,\u001b[0m \u001b[0mn_jobs\u001b[0m\u001b[0;34m=\u001b[0m\u001b[0mself\u001b[0m\u001b[0;34m.\u001b[0m\u001b[0m_n_jobs\u001b[0m\u001b[0;34m)\u001b[0m\u001b[0;34m:\u001b[0m\u001b[0;34m\u001b[0m\u001b[0m\n\u001b[1;32m    255\u001b[0m             return [func(*args, **kwargs)\n\u001b[0;32m--> 256\u001b[0;31m                     for func, args, kwargs in self.items]\n\u001b[0m\u001b[1;32m    257\u001b[0m \u001b[0;34m\u001b[0m\u001b[0m\n\u001b[1;32m    258\u001b[0m     \u001b[0;32mdef\u001b[0m \u001b[0m__len__\u001b[0m\u001b[0;34m(\u001b[0m\u001b[0mself\u001b[0m\u001b[0;34m)\u001b[0m\u001b[0;34m:\u001b[0m\u001b[0;34m\u001b[0m\u001b[0m\n",
      "\u001b[0;32m~/anaconda3/lib/python3.6/site-packages/sklearn/model_selection/_validation.py\u001b[0m in \u001b[0;36m_fit_and_score\u001b[0;34m(estimator, X, y, scorer, train, test, verbose, parameters, fit_params, return_train_score, return_parameters, return_n_test_samples, return_times, return_estimator, error_score)\u001b[0m\n\u001b[1;32m    502\u001b[0m             \u001b[0mcloned_parameters\u001b[0m\u001b[0;34m[\u001b[0m\u001b[0mk\u001b[0m\u001b[0;34m]\u001b[0m \u001b[0;34m=\u001b[0m \u001b[0mclone\u001b[0m\u001b[0;34m(\u001b[0m\u001b[0mv\u001b[0m\u001b[0;34m,\u001b[0m \u001b[0msafe\u001b[0m\u001b[0;34m=\u001b[0m\u001b[0;32mFalse\u001b[0m\u001b[0;34m)\u001b[0m\u001b[0;34m\u001b[0m\u001b[0m\n\u001b[1;32m    503\u001b[0m \u001b[0;34m\u001b[0m\u001b[0m\n\u001b[0;32m--> 504\u001b[0;31m         \u001b[0mestimator\u001b[0m \u001b[0;34m=\u001b[0m \u001b[0mestimator\u001b[0m\u001b[0;34m.\u001b[0m\u001b[0mset_params\u001b[0m\u001b[0;34m(\u001b[0m\u001b[0;34m**\u001b[0m\u001b[0mcloned_parameters\u001b[0m\u001b[0;34m)\u001b[0m\u001b[0;34m\u001b[0m\u001b[0m\n\u001b[0m\u001b[1;32m    505\u001b[0m \u001b[0;34m\u001b[0m\u001b[0m\n\u001b[1;32m    506\u001b[0m     \u001b[0mstart_time\u001b[0m \u001b[0;34m=\u001b[0m \u001b[0mtime\u001b[0m\u001b[0;34m.\u001b[0m\u001b[0mtime\u001b[0m\u001b[0;34m(\u001b[0m\u001b[0;34m)\u001b[0m\u001b[0;34m\u001b[0m\u001b[0m\n",
      "\u001b[0;32m~/anaconda3/lib/python3.6/site-packages/sklearn/base.py\u001b[0m in \u001b[0;36mset_params\u001b[0;34m(self, **params)\u001b[0m\n\u001b[1;32m    234\u001b[0m                                  \u001b[0;34m'Check the list of available parameters '\u001b[0m\u001b[0;34m\u001b[0m\u001b[0m\n\u001b[1;32m    235\u001b[0m                                  \u001b[0;34m'with `estimator.get_params().keys()`.'\u001b[0m \u001b[0;34m%\u001b[0m\u001b[0;34m\u001b[0m\u001b[0m\n\u001b[0;32m--> 236\u001b[0;31m                                  (key, self))\n\u001b[0m\u001b[1;32m    237\u001b[0m \u001b[0;34m\u001b[0m\u001b[0m\n\u001b[1;32m    238\u001b[0m             \u001b[0;32mif\u001b[0m \u001b[0mdelim\u001b[0m\u001b[0;34m:\u001b[0m\u001b[0;34m\u001b[0m\u001b[0m\n",
      "\u001b[0;31mValueError\u001b[0m: Invalid parameter sample_weight for estimator GradientBoostingClassifier(ccp_alpha=0.0, criterion='friedman_mse', init=None,\n                           learning_rate=0.1, loss='deviance', max_depth=3,\n                           max_features=None, max_leaf_nodes=None,\n                           min_impurity_decrease=0.0, min_impurity_split=None,\n                           min_samples_leaf=1, min_samples_split=2,\n                           min_weight_fraction_leaf=0.0, n_estimators=100,\n                           n_iter_no_change=None, presort='deprecated',\n                           random_state=None, subsample=1.0, tol=0.0001,\n                           validation_fraction=0.1, verbose=0,\n                           warm_start=False). Check the list of available parameters with `estimator.get_params().keys()`."
     ]
    }
   ],
   "source": [
    "# gsgbc = GridSearchCV(gbc, \n",
    "#                     gbc_params,\n",
    "#                    scoring=f1_scorer)\n",
    "# gsgbc.fit(X_train, y_train)"
   ]
  },
  {
   "cell_type": "code",
   "execution_count": null,
   "metadata": {},
   "outputs": [],
   "source": [
    "# pd.DataFrame(gsgbc.cv_results_).T"
   ]
  },
  {
   "cell_type": "markdown",
   "metadata": {},
   "source": [
    "## KNN"
   ]
  },
  {
   "cell_type": "code",
   "execution_count": 20,
   "metadata": {
    "ExecuteTime": {
     "end_time": "2020-05-14T05:25:25.422172Z",
     "start_time": "2020-05-14T05:25:25.340810Z"
    }
   },
   "outputs": [
    {
     "name": "stdout",
     "output_type": "stream",
     "text": [
      "Accuracy: 0.698 \t Recall: 0.693 \t Precision: 0.681 \t F1: 0.687\n"
     ]
    },
    {
     "data": {
      "text/plain": [
       "(0.6983769161406672,\n",
       " 0.6931067044381491,\n",
       " 0.6808905380333952,\n",
       " 0.6869443144595226)"
      ]
     },
     "execution_count": 20,
     "metadata": {},
     "output_type": "execute_result"
    }
   ],
   "source": [
    "# KNeighborsClassifier\n",
    "\n",
    "knn = KNeighborsClassifier(n_neighbors=45)\n",
    "\n",
    "knn.fit(X_train, y_train)\n",
    "\n",
    "model_scores(knn, X_train, y_train)\n"
   ]
  },
  {
   "cell_type": "code",
   "execution_count": 21,
   "metadata": {
    "ExecuteTime": {
     "end_time": "2020-05-14T05:25:25.944754Z",
     "start_time": "2020-05-14T05:25:25.916604Z"
    }
   },
   "outputs": [
    {
     "name": "stdout",
     "output_type": "stream",
     "text": [
      "Accuracy: 0.64 \t Recall: 0.626 \t Precision: 0.622 \t F1: 0.624\n"
     ]
    },
    {
     "data": {
      "text/plain": [
       "(0.6396396396396397,\n",
       " 0.6264150943396226,\n",
       " 0.6217228464419475,\n",
       " 0.6240601503759398)"
      ]
     },
     "execution_count": 21,
     "metadata": {},
     "output_type": "execute_result"
    }
   ],
   "source": [
    "model_scores(knn, X_test, y_test)"
   ]
  },
  {
   "cell_type": "code",
   "execution_count": 1267,
   "metadata": {
    "ExecuteTime": {
     "end_time": "2020-05-14T04:41:18.216329Z",
     "start_time": "2020-05-14T04:41:18.213243Z"
    },
    "code_folding": [
     0
    ]
   },
   "outputs": [],
   "source": [
    "knn_params = {'n_neighbors': list(range(3,50,2))}"
   ]
  },
  {
   "cell_type": "code",
   "execution_count": 1268,
   "metadata": {
    "ExecuteTime": {
     "end_time": "2020-05-14T04:41:20.483762Z",
     "start_time": "2020-05-14T04:41:18.682232Z"
    }
   },
   "outputs": [
    {
     "data": {
      "text/plain": [
       "GridSearchCV(cv=None, error_score=nan,\n",
       "             estimator=KNeighborsClassifier(algorithm='auto', leaf_size=30,\n",
       "                                            metric='minkowski',\n",
       "                                            metric_params=None, n_jobs=None,\n",
       "                                            n_neighbors=41, p=2,\n",
       "                                            weights='uniform'),\n",
       "             iid='deprecated', n_jobs=None,\n",
       "             param_grid={'n_neighbors': [3, 5, 7, 9, 11, 13, 15, 17, 19, 21, 23,\n",
       "                                         25, 27, 29, 31, 33, 35, 37, 39, 41, 43,\n",
       "                                         45, 47, 49]},\n",
       "             pre_dispatch='2*n_jobs', refit=True, return_train_score=False,\n",
       "             scoring=None, verbose=0)"
      ]
     },
     "execution_count": 1268,
     "metadata": {},
     "output_type": "execute_result"
    }
   ],
   "source": [
    "gsknn = GridSearchCV(knn, \n",
    "                    knn_params#,scoring=f1_scorer\n",
    "                    )\n",
    "gsknn.fit(X_train, y_train)"
   ]
  },
  {
   "cell_type": "code",
   "execution_count": 1269,
   "metadata": {
    "ExecuteTime": {
     "end_time": "2020-05-14T04:41:21.429642Z",
     "start_time": "2020-05-14T04:41:21.391502Z"
    }
   },
   "outputs": [
    {
     "data": {
      "text/html": [
       "<div>\n",
       "<style scoped>\n",
       "    .dataframe tbody tr th:only-of-type {\n",
       "        vertical-align: middle;\n",
       "    }\n",
       "\n",
       "    .dataframe tbody tr th {\n",
       "        vertical-align: top;\n",
       "    }\n",
       "\n",
       "    .dataframe thead th {\n",
       "        text-align: right;\n",
       "    }\n",
       "</style>\n",
       "<table border=\"1\" class=\"dataframe\">\n",
       "  <thead>\n",
       "    <tr style=\"text-align: right;\">\n",
       "      <th></th>\n",
       "      <th>0</th>\n",
       "      <th>1</th>\n",
       "      <th>2</th>\n",
       "      <th>3</th>\n",
       "      <th>4</th>\n",
       "      <th>5</th>\n",
       "      <th>6</th>\n",
       "      <th>7</th>\n",
       "      <th>8</th>\n",
       "      <th>9</th>\n",
       "      <th>...</th>\n",
       "      <th>14</th>\n",
       "      <th>15</th>\n",
       "      <th>16</th>\n",
       "      <th>17</th>\n",
       "      <th>18</th>\n",
       "      <th>19</th>\n",
       "      <th>20</th>\n",
       "      <th>21</th>\n",
       "      <th>22</th>\n",
       "      <th>23</th>\n",
       "    </tr>\n",
       "  </thead>\n",
       "  <tbody>\n",
       "    <tr>\n",
       "      <th>mean_fit_time</th>\n",
       "      <td>0.00295391</td>\n",
       "      <td>0.00223923</td>\n",
       "      <td>0.00219564</td>\n",
       "      <td>0.00238314</td>\n",
       "      <td>0.00227828</td>\n",
       "      <td>0.00244646</td>\n",
       "      <td>0.00226021</td>\n",
       "      <td>0.00219221</td>\n",
       "      <td>0.00226245</td>\n",
       "      <td>0.0022553</td>\n",
       "      <td>...</td>\n",
       "      <td>0.00252252</td>\n",
       "      <td>0.00222368</td>\n",
       "      <td>0.0022305</td>\n",
       "      <td>0.00231695</td>\n",
       "      <td>0.00226717</td>\n",
       "      <td>0.00221033</td>\n",
       "      <td>0.00230284</td>\n",
       "      <td>0.00240064</td>\n",
       "      <td>0.00227852</td>\n",
       "      <td>0.00230374</td>\n",
       "    </tr>\n",
       "    <tr>\n",
       "      <th>std_fit_time</th>\n",
       "      <td>0.000496496</td>\n",
       "      <td>0.000130042</td>\n",
       "      <td>0.000138023</td>\n",
       "      <td>0.00026815</td>\n",
       "      <td>0.000127409</td>\n",
       "      <td>0.000389736</td>\n",
       "      <td>6.31018e-05</td>\n",
       "      <td>5.01837e-05</td>\n",
       "      <td>0.00011642</td>\n",
       "      <td>9.44675e-05</td>\n",
       "      <td>...</td>\n",
       "      <td>0.0004225</td>\n",
       "      <td>7.07909e-05</td>\n",
       "      <td>0.000201012</td>\n",
       "      <td>0.000103285</td>\n",
       "      <td>8.88888e-05</td>\n",
       "      <td>6.7445e-05</td>\n",
       "      <td>7.25052e-05</td>\n",
       "      <td>0.000274056</td>\n",
       "      <td>0.000106967</td>\n",
       "      <td>9.65188e-05</td>\n",
       "    </tr>\n",
       "    <tr>\n",
       "      <th>mean_score_time</th>\n",
       "      <td>0.0134285</td>\n",
       "      <td>0.0105559</td>\n",
       "      <td>0.011052</td>\n",
       "      <td>0.0113822</td>\n",
       "      <td>0.0112647</td>\n",
       "      <td>0.0109583</td>\n",
       "      <td>0.0115996</td>\n",
       "      <td>0.0114863</td>\n",
       "      <td>0.0115425</td>\n",
       "      <td>0.0120564</td>\n",
       "      <td>...</td>\n",
       "      <td>0.0126883</td>\n",
       "      <td>0.0125957</td>\n",
       "      <td>0.0124089</td>\n",
       "      <td>0.0135271</td>\n",
       "      <td>0.0129546</td>\n",
       "      <td>0.013153</td>\n",
       "      <td>0.012858</td>\n",
       "      <td>0.0129954</td>\n",
       "      <td>0.0134392</td>\n",
       "      <td>0.0135188</td>\n",
       "    </tr>\n",
       "    <tr>\n",
       "      <th>std_score_time</th>\n",
       "      <td>0.00174374</td>\n",
       "      <td>0.000295578</td>\n",
       "      <td>0.00033026</td>\n",
       "      <td>0.000289573</td>\n",
       "      <td>0.0004478</td>\n",
       "      <td>0.000189205</td>\n",
       "      <td>0.000349627</td>\n",
       "      <td>0.00028609</td>\n",
       "      <td>0.00043039</td>\n",
       "      <td>0.000318682</td>\n",
       "      <td>...</td>\n",
       "      <td>0.000645898</td>\n",
       "      <td>0.000331556</td>\n",
       "      <td>0.000380456</td>\n",
       "      <td>0.00166361</td>\n",
       "      <td>0.000252009</td>\n",
       "      <td>0.000279148</td>\n",
       "      <td>0.000172258</td>\n",
       "      <td>0.000338036</td>\n",
       "      <td>0.000362834</td>\n",
       "      <td>0.000536593</td>\n",
       "    </tr>\n",
       "    <tr>\n",
       "      <th>param_n_neighbors</th>\n",
       "      <td>3</td>\n",
       "      <td>5</td>\n",
       "      <td>7</td>\n",
       "      <td>9</td>\n",
       "      <td>11</td>\n",
       "      <td>13</td>\n",
       "      <td>15</td>\n",
       "      <td>17</td>\n",
       "      <td>19</td>\n",
       "      <td>21</td>\n",
       "      <td>...</td>\n",
       "      <td>31</td>\n",
       "      <td>33</td>\n",
       "      <td>35</td>\n",
       "      <td>37</td>\n",
       "      <td>39</td>\n",
       "      <td>41</td>\n",
       "      <td>43</td>\n",
       "      <td>45</td>\n",
       "      <td>47</td>\n",
       "      <td>49</td>\n",
       "    </tr>\n",
       "    <tr>\n",
       "      <th>params</th>\n",
       "      <td>{'n_neighbors': 3}</td>\n",
       "      <td>{'n_neighbors': 5}</td>\n",
       "      <td>{'n_neighbors': 7}</td>\n",
       "      <td>{'n_neighbors': 9}</td>\n",
       "      <td>{'n_neighbors': 11}</td>\n",
       "      <td>{'n_neighbors': 13}</td>\n",
       "      <td>{'n_neighbors': 15}</td>\n",
       "      <td>{'n_neighbors': 17}</td>\n",
       "      <td>{'n_neighbors': 19}</td>\n",
       "      <td>{'n_neighbors': 21}</td>\n",
       "      <td>...</td>\n",
       "      <td>{'n_neighbors': 31}</td>\n",
       "      <td>{'n_neighbors': 33}</td>\n",
       "      <td>{'n_neighbors': 35}</td>\n",
       "      <td>{'n_neighbors': 37}</td>\n",
       "      <td>{'n_neighbors': 39}</td>\n",
       "      <td>{'n_neighbors': 41}</td>\n",
       "      <td>{'n_neighbors': 43}</td>\n",
       "      <td>{'n_neighbors': 45}</td>\n",
       "      <td>{'n_neighbors': 47}</td>\n",
       "      <td>{'n_neighbors': 49}</td>\n",
       "    </tr>\n",
       "    <tr>\n",
       "      <th>split0_test_score</th>\n",
       "      <td>0.635135</td>\n",
       "      <td>0.644144</td>\n",
       "      <td>0.662162</td>\n",
       "      <td>0.655405</td>\n",
       "      <td>0.65991</td>\n",
       "      <td>0.644144</td>\n",
       "      <td>0.668919</td>\n",
       "      <td>0.65991</td>\n",
       "      <td>0.655405</td>\n",
       "      <td>0.650901</td>\n",
       "      <td>...</td>\n",
       "      <td>0.646396</td>\n",
       "      <td>0.650901</td>\n",
       "      <td>0.655405</td>\n",
       "      <td>0.657658</td>\n",
       "      <td>0.657658</td>\n",
       "      <td>0.650901</td>\n",
       "      <td>0.648649</td>\n",
       "      <td>0.650901</td>\n",
       "      <td>0.653153</td>\n",
       "      <td>0.653153</td>\n",
       "    </tr>\n",
       "    <tr>\n",
       "      <th>split1_test_score</th>\n",
       "      <td>0.628378</td>\n",
       "      <td>0.617117</td>\n",
       "      <td>0.635135</td>\n",
       "      <td>0.646396</td>\n",
       "      <td>0.65991</td>\n",
       "      <td>0.644144</td>\n",
       "      <td>0.653153</td>\n",
       "      <td>0.671171</td>\n",
       "      <td>0.668919</td>\n",
       "      <td>0.668919</td>\n",
       "      <td>...</td>\n",
       "      <td>0.65991</td>\n",
       "      <td>0.65991</td>\n",
       "      <td>0.668919</td>\n",
       "      <td>0.671171</td>\n",
       "      <td>0.668919</td>\n",
       "      <td>0.668919</td>\n",
       "      <td>0.664414</td>\n",
       "      <td>0.682432</td>\n",
       "      <td>0.675676</td>\n",
       "      <td>0.673423</td>\n",
       "    </tr>\n",
       "    <tr>\n",
       "      <th>split2_test_score</th>\n",
       "      <td>0.619369</td>\n",
       "      <td>0.63964</td>\n",
       "      <td>0.626126</td>\n",
       "      <td>0.666667</td>\n",
       "      <td>0.662162</td>\n",
       "      <td>0.664414</td>\n",
       "      <td>0.666667</td>\n",
       "      <td>0.655405</td>\n",
       "      <td>0.666667</td>\n",
       "      <td>0.671171</td>\n",
       "      <td>...</td>\n",
       "      <td>0.675676</td>\n",
       "      <td>0.668919</td>\n",
       "      <td>0.671171</td>\n",
       "      <td>0.668919</td>\n",
       "      <td>0.668919</td>\n",
       "      <td>0.673423</td>\n",
       "      <td>0.677928</td>\n",
       "      <td>0.677928</td>\n",
       "      <td>0.671171</td>\n",
       "      <td>0.68018</td>\n",
       "    </tr>\n",
       "    <tr>\n",
       "      <th>split3_test_score</th>\n",
       "      <td>0.647856</td>\n",
       "      <td>0.659142</td>\n",
       "      <td>0.672686</td>\n",
       "      <td>0.668172</td>\n",
       "      <td>0.688488</td>\n",
       "      <td>0.693002</td>\n",
       "      <td>0.702032</td>\n",
       "      <td>0.702032</td>\n",
       "      <td>0.699774</td>\n",
       "      <td>0.706546</td>\n",
       "      <td>...</td>\n",
       "      <td>0.711061</td>\n",
       "      <td>0.715576</td>\n",
       "      <td>0.711061</td>\n",
       "      <td>0.711061</td>\n",
       "      <td>0.711061</td>\n",
       "      <td>0.706546</td>\n",
       "      <td>0.713318</td>\n",
       "      <td>0.702032</td>\n",
       "      <td>0.704289</td>\n",
       "      <td>0.704289</td>\n",
       "    </tr>\n",
       "    <tr>\n",
       "      <th>split4_test_score</th>\n",
       "      <td>0.62754</td>\n",
       "      <td>0.623025</td>\n",
       "      <td>0.625282</td>\n",
       "      <td>0.604966</td>\n",
       "      <td>0.611738</td>\n",
       "      <td>0.623025</td>\n",
       "      <td>0.636569</td>\n",
       "      <td>0.656885</td>\n",
       "      <td>0.654628</td>\n",
       "      <td>0.65237</td>\n",
       "      <td>...</td>\n",
       "      <td>0.674944</td>\n",
       "      <td>0.674944</td>\n",
       "      <td>0.663657</td>\n",
       "      <td>0.665914</td>\n",
       "      <td>0.670429</td>\n",
       "      <td>0.668172</td>\n",
       "      <td>0.663657</td>\n",
       "      <td>0.679458</td>\n",
       "      <td>0.674944</td>\n",
       "      <td>0.672686</td>\n",
       "    </tr>\n",
       "    <tr>\n",
       "      <th>mean_test_score</th>\n",
       "      <td>0.631656</td>\n",
       "      <td>0.636614</td>\n",
       "      <td>0.644278</td>\n",
       "      <td>0.648321</td>\n",
       "      <td>0.656442</td>\n",
       "      <td>0.653746</td>\n",
       "      <td>0.665468</td>\n",
       "      <td>0.669081</td>\n",
       "      <td>0.669079</td>\n",
       "      <td>0.669981</td>\n",
       "      <td>...</td>\n",
       "      <td>0.673597</td>\n",
       "      <td>0.67405</td>\n",
       "      <td>0.674043</td>\n",
       "      <td>0.674945</td>\n",
       "      <td>0.675397</td>\n",
       "      <td>0.673592</td>\n",
       "      <td>0.673593</td>\n",
       "      <td>0.67855</td>\n",
       "      <td>0.675847</td>\n",
       "      <td>0.676746</td>\n",
       "    </tr>\n",
       "    <tr>\n",
       "      <th>std_test_score</th>\n",
       "      <td>0.00952028</td>\n",
       "      <td>0.0150876</td>\n",
       "      <td>0.0194977</td>\n",
       "      <td>0.0230831</td>\n",
       "      <td>0.0248279</td>\n",
       "      <td>0.0235926</td>\n",
       "      <td>0.0216197</td>\n",
       "      <td>0.0173781</td>\n",
       "      <td>0.0163942</td>\n",
       "      <td>0.0200687</td>\n",
       "      <td>...</td>\n",
       "      <td>0.0216189</td>\n",
       "      <td>0.0223039</td>\n",
       "      <td>0.0192876</td>\n",
       "      <td>0.0186297</td>\n",
       "      <td>0.0184131</td>\n",
       "      <td>0.0181776</td>\n",
       "      <td>0.0219184</td>\n",
       "      <td>0.0163226</td>\n",
       "      <td>0.0164114</td>\n",
       "      <td>0.0164593</td>\n",
       "    </tr>\n",
       "    <tr>\n",
       "      <th>rank_test_score</th>\n",
       "      <td>24</td>\n",
       "      <td>23</td>\n",
       "      <td>22</td>\n",
       "      <td>21</td>\n",
       "      <td>19</td>\n",
       "      <td>20</td>\n",
       "      <td>18</td>\n",
       "      <td>14</td>\n",
       "      <td>15</td>\n",
       "      <td>11</td>\n",
       "      <td>...</td>\n",
       "      <td>8</td>\n",
       "      <td>6</td>\n",
       "      <td>7</td>\n",
       "      <td>5</td>\n",
       "      <td>4</td>\n",
       "      <td>10</td>\n",
       "      <td>9</td>\n",
       "      <td>1</td>\n",
       "      <td>3</td>\n",
       "      <td>2</td>\n",
       "    </tr>\n",
       "  </tbody>\n",
       "</table>\n",
       "<p>14 rows × 24 columns</p>\n",
       "</div>"
      ],
      "text/plain": [
       "                                   0                   1                   2   \\\n",
       "mean_fit_time              0.00295391          0.00223923          0.00219564   \n",
       "std_fit_time              0.000496496         0.000130042         0.000138023   \n",
       "mean_score_time             0.0134285           0.0105559            0.011052   \n",
       "std_score_time             0.00174374         0.000295578          0.00033026   \n",
       "param_n_neighbors                   3                   5                   7   \n",
       "params             {'n_neighbors': 3}  {'n_neighbors': 5}  {'n_neighbors': 7}   \n",
       "split0_test_score            0.635135            0.644144            0.662162   \n",
       "split1_test_score            0.628378            0.617117            0.635135   \n",
       "split2_test_score            0.619369             0.63964            0.626126   \n",
       "split3_test_score            0.647856            0.659142            0.672686   \n",
       "split4_test_score             0.62754            0.623025            0.625282   \n",
       "mean_test_score              0.631656            0.636614            0.644278   \n",
       "std_test_score             0.00952028           0.0150876           0.0194977   \n",
       "rank_test_score                    24                  23                  22   \n",
       "\n",
       "                                   3                    4   \\\n",
       "mean_fit_time              0.00238314           0.00227828   \n",
       "std_fit_time               0.00026815          0.000127409   \n",
       "mean_score_time             0.0113822            0.0112647   \n",
       "std_score_time            0.000289573            0.0004478   \n",
       "param_n_neighbors                   9                   11   \n",
       "params             {'n_neighbors': 9}  {'n_neighbors': 11}   \n",
       "split0_test_score            0.655405              0.65991   \n",
       "split1_test_score            0.646396              0.65991   \n",
       "split2_test_score            0.666667             0.662162   \n",
       "split3_test_score            0.668172             0.688488   \n",
       "split4_test_score            0.604966             0.611738   \n",
       "mean_test_score              0.648321             0.656442   \n",
       "std_test_score              0.0230831            0.0248279   \n",
       "rank_test_score                    21                   19   \n",
       "\n",
       "                                    5                    6   \\\n",
       "mean_fit_time               0.00244646           0.00226021   \n",
       "std_fit_time               0.000389736          6.31018e-05   \n",
       "mean_score_time              0.0109583            0.0115996   \n",
       "std_score_time             0.000189205          0.000349627   \n",
       "param_n_neighbors                   13                   15   \n",
       "params             {'n_neighbors': 13}  {'n_neighbors': 15}   \n",
       "split0_test_score             0.644144             0.668919   \n",
       "split1_test_score             0.644144             0.653153   \n",
       "split2_test_score             0.664414             0.666667   \n",
       "split3_test_score             0.693002             0.702032   \n",
       "split4_test_score             0.623025             0.636569   \n",
       "mean_test_score               0.653746             0.665468   \n",
       "std_test_score               0.0235926            0.0216197   \n",
       "rank_test_score                     20                   18   \n",
       "\n",
       "                                    7                    8   \\\n",
       "mean_fit_time               0.00219221           0.00226245   \n",
       "std_fit_time               5.01837e-05           0.00011642   \n",
       "mean_score_time              0.0114863            0.0115425   \n",
       "std_score_time              0.00028609           0.00043039   \n",
       "param_n_neighbors                   17                   19   \n",
       "params             {'n_neighbors': 17}  {'n_neighbors': 19}   \n",
       "split0_test_score              0.65991             0.655405   \n",
       "split1_test_score             0.671171             0.668919   \n",
       "split2_test_score             0.655405             0.666667   \n",
       "split3_test_score             0.702032             0.699774   \n",
       "split4_test_score             0.656885             0.654628   \n",
       "mean_test_score               0.669081             0.669079   \n",
       "std_test_score               0.0173781            0.0163942   \n",
       "rank_test_score                     14                   15   \n",
       "\n",
       "                                    9   ...                   14  \\\n",
       "mean_fit_time                0.0022553  ...           0.00252252   \n",
       "std_fit_time               9.44675e-05  ...            0.0004225   \n",
       "mean_score_time              0.0120564  ...            0.0126883   \n",
       "std_score_time             0.000318682  ...          0.000645898   \n",
       "param_n_neighbors                   21  ...                   31   \n",
       "params             {'n_neighbors': 21}  ...  {'n_neighbors': 31}   \n",
       "split0_test_score             0.650901  ...             0.646396   \n",
       "split1_test_score             0.668919  ...              0.65991   \n",
       "split2_test_score             0.671171  ...             0.675676   \n",
       "split3_test_score             0.706546  ...             0.711061   \n",
       "split4_test_score              0.65237  ...             0.674944   \n",
       "mean_test_score               0.669981  ...             0.673597   \n",
       "std_test_score               0.0200687  ...            0.0216189   \n",
       "rank_test_score                     11  ...                    8   \n",
       "\n",
       "                                    15                   16  \\\n",
       "mean_fit_time               0.00222368            0.0022305   \n",
       "std_fit_time               7.07909e-05          0.000201012   \n",
       "mean_score_time              0.0125957            0.0124089   \n",
       "std_score_time             0.000331556          0.000380456   \n",
       "param_n_neighbors                   33                   35   \n",
       "params             {'n_neighbors': 33}  {'n_neighbors': 35}   \n",
       "split0_test_score             0.650901             0.655405   \n",
       "split1_test_score              0.65991             0.668919   \n",
       "split2_test_score             0.668919             0.671171   \n",
       "split3_test_score             0.715576             0.711061   \n",
       "split4_test_score             0.674944             0.663657   \n",
       "mean_test_score                0.67405             0.674043   \n",
       "std_test_score               0.0223039            0.0192876   \n",
       "rank_test_score                      6                    7   \n",
       "\n",
       "                                    17                   18  \\\n",
       "mean_fit_time               0.00231695           0.00226717   \n",
       "std_fit_time               0.000103285          8.88888e-05   \n",
       "mean_score_time              0.0135271            0.0129546   \n",
       "std_score_time              0.00166361          0.000252009   \n",
       "param_n_neighbors                   37                   39   \n",
       "params             {'n_neighbors': 37}  {'n_neighbors': 39}   \n",
       "split0_test_score             0.657658             0.657658   \n",
       "split1_test_score             0.671171             0.668919   \n",
       "split2_test_score             0.668919             0.668919   \n",
       "split3_test_score             0.711061             0.711061   \n",
       "split4_test_score             0.665914             0.670429   \n",
       "mean_test_score               0.674945             0.675397   \n",
       "std_test_score               0.0186297            0.0184131   \n",
       "rank_test_score                      5                    4   \n",
       "\n",
       "                                    19                   20  \\\n",
       "mean_fit_time               0.00221033           0.00230284   \n",
       "std_fit_time                6.7445e-05          7.25052e-05   \n",
       "mean_score_time               0.013153             0.012858   \n",
       "std_score_time             0.000279148          0.000172258   \n",
       "param_n_neighbors                   41                   43   \n",
       "params             {'n_neighbors': 41}  {'n_neighbors': 43}   \n",
       "split0_test_score             0.650901             0.648649   \n",
       "split1_test_score             0.668919             0.664414   \n",
       "split2_test_score             0.673423             0.677928   \n",
       "split3_test_score             0.706546             0.713318   \n",
       "split4_test_score             0.668172             0.663657   \n",
       "mean_test_score               0.673592             0.673593   \n",
       "std_test_score               0.0181776            0.0219184   \n",
       "rank_test_score                     10                    9   \n",
       "\n",
       "                                    21                   22  \\\n",
       "mean_fit_time               0.00240064           0.00227852   \n",
       "std_fit_time               0.000274056          0.000106967   \n",
       "mean_score_time              0.0129954            0.0134392   \n",
       "std_score_time             0.000338036          0.000362834   \n",
       "param_n_neighbors                   45                   47   \n",
       "params             {'n_neighbors': 45}  {'n_neighbors': 47}   \n",
       "split0_test_score             0.650901             0.653153   \n",
       "split1_test_score             0.682432             0.675676   \n",
       "split2_test_score             0.677928             0.671171   \n",
       "split3_test_score             0.702032             0.704289   \n",
       "split4_test_score             0.679458             0.674944   \n",
       "mean_test_score                0.67855             0.675847   \n",
       "std_test_score               0.0163226            0.0164114   \n",
       "rank_test_score                      1                    3   \n",
       "\n",
       "                                    23  \n",
       "mean_fit_time               0.00230374  \n",
       "std_fit_time               9.65188e-05  \n",
       "mean_score_time              0.0135188  \n",
       "std_score_time             0.000536593  \n",
       "param_n_neighbors                   49  \n",
       "params             {'n_neighbors': 49}  \n",
       "split0_test_score             0.653153  \n",
       "split1_test_score             0.673423  \n",
       "split2_test_score              0.68018  \n",
       "split3_test_score             0.704289  \n",
       "split4_test_score             0.672686  \n",
       "mean_test_score               0.676746  \n",
       "std_test_score               0.0164593  \n",
       "rank_test_score                      2  \n",
       "\n",
       "[14 rows x 24 columns]"
      ]
     },
     "execution_count": 1269,
     "metadata": {},
     "output_type": "execute_result"
    }
   ],
   "source": [
    "pd.DataFrame(gsknn.cv_results_).T"
   ]
  },
  {
   "cell_type": "code",
   "execution_count": null,
   "metadata": {},
   "outputs": [],
   "source": []
  },
  {
   "cell_type": "markdown",
   "metadata": {},
   "source": [
    "## Support Vector Machine"
   ]
  },
  {
   "cell_type": "code",
   "execution_count": 12,
   "metadata": {
    "ExecuteTime": {
     "end_time": "2020-05-14T05:24:38.541073Z",
     "start_time": "2020-05-14T05:24:37.984165Z"
    }
   },
   "outputs": [
    {
     "name": "stdout",
     "output_type": "stream",
     "text": [
      "Accuracy: 0.662 \t Recall: 0.81 \t Precision: 0.61 \t F1: 0.696\n"
     ]
    },
    {
     "data": {
      "text/plain": [
       "(0.6618575293056808,\n",
       " 0.8101983002832861,\n",
       " 0.6098081023454158,\n",
       " 0.6958637469586375)"
      ]
     },
     "execution_count": 12,
     "metadata": {},
     "output_type": "execute_result"
    }
   ],
   "source": [
    "# SVM\n",
    "\n",
    "svm = SVC(kernel='rbf'\n",
    "    ,probability=True)\n",
    "\n",
    "svm.fit(X_train, y_train)\n",
    "\n",
    "model_scores(svm, X_train, y_train)"
   ]
  },
  {
   "cell_type": "code",
   "execution_count": 13,
   "metadata": {
    "ExecuteTime": {
     "end_time": "2020-05-14T05:24:40.091141Z",
     "start_time": "2020-05-14T05:24:40.062987Z"
    }
   },
   "outputs": [
    {
     "name": "stdout",
     "output_type": "stream",
     "text": [
      "Accuracy: 0.627 \t Recall: 0.755 \t Precision: 0.585 \t F1: 0.659\n"
     ]
    },
    {
     "data": {
      "text/plain": [
       "(0.6270270270270271,\n",
       " 0.7547169811320755,\n",
       " 0.5847953216374269,\n",
       " 0.6589785831960461)"
      ]
     },
     "execution_count": 13,
     "metadata": {},
     "output_type": "execute_result"
    }
   ],
   "source": [
    "model_scores(svm, X_test, y_test)"
   ]
  },
  {
   "cell_type": "code",
   "execution_count": 1472,
   "metadata": {
    "ExecuteTime": {
     "end_time": "2020-05-14T05:14:17.208257Z",
     "start_time": "2020-05-14T05:14:17.204860Z"
    }
   },
   "outputs": [],
   "source": [
    "weights_list = [\"balanced\", {0:0.01, 1:1.0}, {0:0.003, 1:1.0}, {0:0.05, 1:1.0}, {0:0.1, 1:1.0}, {0:0.15, 1:1.0}, {0:0.2, 1:1.0}]\n",
    "\n",
    "svm_params = {\"kernel\": ('linear', 'poly', 'rbf', 'sigmoid', 'precomputed')}"
   ]
  },
  {
   "cell_type": "code",
   "execution_count": null,
   "metadata": {
    "ExecuteTime": {
     "start_time": "2020-05-14T05:14:17.840Z"
    }
   },
   "outputs": [],
   "source": [
    "gssvm = GridSearchCV(svm, \n",
    "                    svm_params#,                   scoring=f1_scorer\n",
    "                    )\n",
    "gssvm.fit(X_train, y_train)"
   ]
  },
  {
   "cell_type": "code",
   "execution_count": 160,
   "metadata": {
    "ExecuteTime": {
     "end_time": "2020-05-13T03:18:56.792673Z",
     "start_time": "2020-05-13T03:18:56.775448Z"
    }
   },
   "outputs": [
    {
     "data": {
      "text/html": [
       "<div>\n",
       "<style scoped>\n",
       "    .dataframe tbody tr th:only-of-type {\n",
       "        vertical-align: middle;\n",
       "    }\n",
       "\n",
       "    .dataframe tbody tr th {\n",
       "        vertical-align: top;\n",
       "    }\n",
       "\n",
       "    .dataframe thead th {\n",
       "        text-align: right;\n",
       "    }\n",
       "</style>\n",
       "<table border=\"1\" class=\"dataframe\">\n",
       "  <thead>\n",
       "    <tr style=\"text-align: right;\">\n",
       "      <th></th>\n",
       "      <th>0</th>\n",
       "      <th>1</th>\n",
       "      <th>2</th>\n",
       "      <th>3</th>\n",
       "      <th>4</th>\n",
       "      <th>5</th>\n",
       "      <th>6</th>\n",
       "    </tr>\n",
       "  </thead>\n",
       "  <tbody>\n",
       "    <tr>\n",
       "      <th>mean_fit_time</th>\n",
       "      <td>23.5735</td>\n",
       "      <td>22.111</td>\n",
       "      <td>22.0102</td>\n",
       "      <td>23.5942</td>\n",
       "      <td>24.6875</td>\n",
       "      <td>26.3163</td>\n",
       "      <td>26.2146</td>\n",
       "    </tr>\n",
       "    <tr>\n",
       "      <th>std_fit_time</th>\n",
       "      <td>0.694025</td>\n",
       "      <td>1.8366</td>\n",
       "      <td>1.67897</td>\n",
       "      <td>0.808296</td>\n",
       "      <td>0.804636</td>\n",
       "      <td>1.23976</td>\n",
       "      <td>1.90191</td>\n",
       "    </tr>\n",
       "    <tr>\n",
       "      <th>mean_score_time</th>\n",
       "      <td>0.0125141</td>\n",
       "      <td>0.0126651</td>\n",
       "      <td>0.0114753</td>\n",
       "      <td>0.0139561</td>\n",
       "      <td>0.0106471</td>\n",
       "      <td>0.0125728</td>\n",
       "      <td>0.0117753</td>\n",
       "    </tr>\n",
       "    <tr>\n",
       "      <th>std_score_time</th>\n",
       "      <td>0.00095126</td>\n",
       "      <td>0.00119365</td>\n",
       "      <td>0.00105556</td>\n",
       "      <td>0.00196089</td>\n",
       "      <td>0.000819926</td>\n",
       "      <td>0.0017456</td>\n",
       "      <td>0.00109966</td>\n",
       "    </tr>\n",
       "    <tr>\n",
       "      <th>param_class_weight</th>\n",
       "      <td>balanced</td>\n",
       "      <td>{0: 0.01, 1: 1.0}</td>\n",
       "      <td>{0: 0.003, 1: 1.0}</td>\n",
       "      <td>{0: 0.05, 1: 1.0}</td>\n",
       "      <td>{0: 0.1, 1: 1.0}</td>\n",
       "      <td>{0: 0.15, 1: 1.0}</td>\n",
       "      <td>{0: 0.2, 1: 1.0}</td>\n",
       "    </tr>\n",
       "    <tr>\n",
       "      <th>params</th>\n",
       "      <td>{'class_weight': 'balanced'}</td>\n",
       "      <td>{'class_weight': {0: 0.01, 1: 1.0}}</td>\n",
       "      <td>{'class_weight': {0: 0.003, 1: 1.0}}</td>\n",
       "      <td>{'class_weight': {0: 0.05, 1: 1.0}}</td>\n",
       "      <td>{'class_weight': {0: 0.1, 1: 1.0}}</td>\n",
       "      <td>{'class_weight': {0: 0.15, 1: 1.0}}</td>\n",
       "      <td>{'class_weight': {0: 0.2, 1: 1.0}}</td>\n",
       "    </tr>\n",
       "    <tr>\n",
       "      <th>split0_test_score</th>\n",
       "      <td>0.0150164</td>\n",
       "      <td>0.047619</td>\n",
       "      <td>0.167401</td>\n",
       "      <td>0</td>\n",
       "      <td>0</td>\n",
       "      <td>0</td>\n",
       "      <td>0.0140845</td>\n",
       "    </tr>\n",
       "    <tr>\n",
       "      <th>split1_test_score</th>\n",
       "      <td>0</td>\n",
       "      <td>0.0213523</td>\n",
       "      <td>0.144928</td>\n",
       "      <td>0.00165098</td>\n",
       "      <td>0</td>\n",
       "      <td>0</td>\n",
       "      <td>0</td>\n",
       "    </tr>\n",
       "    <tr>\n",
       "      <th>split2_test_score</th>\n",
       "      <td>0</td>\n",
       "      <td>0.136646</td>\n",
       "      <td>0.22619</td>\n",
       "      <td>0.0148883</td>\n",
       "      <td>0</td>\n",
       "      <td>0.0280702</td>\n",
       "      <td>0.0210526</td>\n",
       "    </tr>\n",
       "    <tr>\n",
       "      <th>split3_test_score</th>\n",
       "      <td>0.0094231</td>\n",
       "      <td>0.0509554</td>\n",
       "      <td>0.150602</td>\n",
       "      <td>0</td>\n",
       "      <td>0</td>\n",
       "      <td>0.177936</td>\n",
       "      <td>0.107198</td>\n",
       "    </tr>\n",
       "    <tr>\n",
       "      <th>split4_test_score</th>\n",
       "      <td>0</td>\n",
       "      <td>0.008</td>\n",
       "      <td>0.152318</td>\n",
       "      <td>0</td>\n",
       "      <td>0</td>\n",
       "      <td>0</td>\n",
       "      <td>0</td>\n",
       "    </tr>\n",
       "    <tr>\n",
       "      <th>mean_test_score</th>\n",
       "      <td>0.0048879</td>\n",
       "      <td>0.0529145</td>\n",
       "      <td>0.168288</td>\n",
       "      <td>0.00330786</td>\n",
       "      <td>0</td>\n",
       "      <td>0.0412012</td>\n",
       "      <td>0.0284669</td>\n",
       "    </tr>\n",
       "    <tr>\n",
       "      <th>std_test_score</th>\n",
       "      <td>0.00624227</td>\n",
       "      <td>0.0448471</td>\n",
       "      <td>0.0298899</td>\n",
       "      <td>0.00582544</td>\n",
       "      <td>0</td>\n",
       "      <td>0.0692263</td>\n",
       "      <td>0.0402022</td>\n",
       "    </tr>\n",
       "    <tr>\n",
       "      <th>rank_test_score</th>\n",
       "      <td>5</td>\n",
       "      <td>2</td>\n",
       "      <td>1</td>\n",
       "      <td>6</td>\n",
       "      <td>7</td>\n",
       "      <td>3</td>\n",
       "      <td>4</td>\n",
       "    </tr>\n",
       "  </tbody>\n",
       "</table>\n",
       "</div>"
      ],
      "text/plain": [
       "                                               0  \\\n",
       "mean_fit_time                            23.5735   \n",
       "std_fit_time                            0.694025   \n",
       "mean_score_time                        0.0125141   \n",
       "std_score_time                        0.00095126   \n",
       "param_class_weight                      balanced   \n",
       "params              {'class_weight': 'balanced'}   \n",
       "split0_test_score                      0.0150164   \n",
       "split1_test_score                              0   \n",
       "split2_test_score                              0   \n",
       "split3_test_score                      0.0094231   \n",
       "split4_test_score                              0   \n",
       "mean_test_score                        0.0048879   \n",
       "std_test_score                        0.00624227   \n",
       "rank_test_score                                5   \n",
       "\n",
       "                                                      1  \\\n",
       "mean_fit_time                                    22.111   \n",
       "std_fit_time                                     1.8366   \n",
       "mean_score_time                               0.0126651   \n",
       "std_score_time                               0.00119365   \n",
       "param_class_weight                    {0: 0.01, 1: 1.0}   \n",
       "params              {'class_weight': {0: 0.01, 1: 1.0}}   \n",
       "split0_test_score                              0.047619   \n",
       "split1_test_score                             0.0213523   \n",
       "split2_test_score                              0.136646   \n",
       "split3_test_score                             0.0509554   \n",
       "split4_test_score                                 0.008   \n",
       "mean_test_score                               0.0529145   \n",
       "std_test_score                                0.0448471   \n",
       "rank_test_score                                       2   \n",
       "\n",
       "                                                       2  \\\n",
       "mean_fit_time                                    22.0102   \n",
       "std_fit_time                                     1.67897   \n",
       "mean_score_time                                0.0114753   \n",
       "std_score_time                                0.00105556   \n",
       "param_class_weight                    {0: 0.003, 1: 1.0}   \n",
       "params              {'class_weight': {0: 0.003, 1: 1.0}}   \n",
       "split0_test_score                               0.167401   \n",
       "split1_test_score                               0.144928   \n",
       "split2_test_score                                0.22619   \n",
       "split3_test_score                               0.150602   \n",
       "split4_test_score                               0.152318   \n",
       "mean_test_score                                 0.168288   \n",
       "std_test_score                                 0.0298899   \n",
       "rank_test_score                                        1   \n",
       "\n",
       "                                                      3  \\\n",
       "mean_fit_time                                   23.5942   \n",
       "std_fit_time                                   0.808296   \n",
       "mean_score_time                               0.0139561   \n",
       "std_score_time                               0.00196089   \n",
       "param_class_weight                    {0: 0.05, 1: 1.0}   \n",
       "params              {'class_weight': {0: 0.05, 1: 1.0}}   \n",
       "split0_test_score                                     0   \n",
       "split1_test_score                            0.00165098   \n",
       "split2_test_score                             0.0148883   \n",
       "split3_test_score                                     0   \n",
       "split4_test_score                                     0   \n",
       "mean_test_score                              0.00330786   \n",
       "std_test_score                               0.00582544   \n",
       "rank_test_score                                       6   \n",
       "\n",
       "                                                     4  \\\n",
       "mean_fit_time                                  24.6875   \n",
       "std_fit_time                                  0.804636   \n",
       "mean_score_time                              0.0106471   \n",
       "std_score_time                             0.000819926   \n",
       "param_class_weight                    {0: 0.1, 1: 1.0}   \n",
       "params              {'class_weight': {0: 0.1, 1: 1.0}}   \n",
       "split0_test_score                                    0   \n",
       "split1_test_score                                    0   \n",
       "split2_test_score                                    0   \n",
       "split3_test_score                                    0   \n",
       "split4_test_score                                    0   \n",
       "mean_test_score                                      0   \n",
       "std_test_score                                       0   \n",
       "rank_test_score                                      7   \n",
       "\n",
       "                                                      5  \\\n",
       "mean_fit_time                                   26.3163   \n",
       "std_fit_time                                    1.23976   \n",
       "mean_score_time                               0.0125728   \n",
       "std_score_time                                0.0017456   \n",
       "param_class_weight                    {0: 0.15, 1: 1.0}   \n",
       "params              {'class_weight': {0: 0.15, 1: 1.0}}   \n",
       "split0_test_score                                     0   \n",
       "split1_test_score                                     0   \n",
       "split2_test_score                             0.0280702   \n",
       "split3_test_score                              0.177936   \n",
       "split4_test_score                                     0   \n",
       "mean_test_score                               0.0412012   \n",
       "std_test_score                                0.0692263   \n",
       "rank_test_score                                       3   \n",
       "\n",
       "                                                     6  \n",
       "mean_fit_time                                  26.2146  \n",
       "std_fit_time                                   1.90191  \n",
       "mean_score_time                              0.0117753  \n",
       "std_score_time                              0.00109966  \n",
       "param_class_weight                    {0: 0.2, 1: 1.0}  \n",
       "params              {'class_weight': {0: 0.2, 1: 1.0}}  \n",
       "split0_test_score                            0.0140845  \n",
       "split1_test_score                                    0  \n",
       "split2_test_score                            0.0210526  \n",
       "split3_test_score                             0.107198  \n",
       "split4_test_score                                    0  \n",
       "mean_test_score                              0.0284669  \n",
       "std_test_score                               0.0402022  \n",
       "rank_test_score                                      4  "
      ]
     },
     "execution_count": 160,
     "metadata": {},
     "output_type": "execute_result"
    }
   ],
   "source": [
    "pd.DataFrame(gssvm.cv_results_).T"
   ]
  },
  {
   "cell_type": "code",
   "execution_count": null,
   "metadata": {},
   "outputs": [],
   "source": []
  },
  {
   "cell_type": "code",
   "execution_count": 22,
   "metadata": {
    "ExecuteTime": {
     "end_time": "2020-05-14T05:25:32.645701Z",
     "start_time": "2020-05-14T05:25:32.599697Z"
    }
   },
   "outputs": [],
   "source": [
    "lr_fpr, lr_tpr, lr_thresh = roc_curve(y_test, lr.predict_proba(X_test)[:, 1])\n",
    "\n",
    "knn_fpr, knn_tpr, knn_thresh = roc_curve(y_test, knn.predict_proba(X_test)[:, 1])\n",
    "\n",
    "rf_fpr, rf_tpr, rf_thresh = roc_curve(y_test, rf.predict_proba(X_test)[:, 1])\n",
    "\n",
    "gbc_fpr, gbc_tpr, gbc_thresh = roc_curve(y_test, gbc.predict_proba(X_test)[:, 1])\n",
    "\n",
    "svm_fpr, svm_tpr, svm_thresh = roc_curve(y_test, svm.predict_proba(X_test)[:, 1])\n"
   ]
  },
  {
   "cell_type": "code",
   "execution_count": 23,
   "metadata": {
    "ExecuteTime": {
     "end_time": "2020-05-14T05:25:33.781920Z",
     "start_time": "2020-05-14T05:25:33.580628Z"
    }
   },
   "outputs": [
    {
     "data": {
      "image/png": "[encoded data removed]",
      "text/plain": [
       "<Figure size 432x288 with 1 Axes>"
      ]
     },
     "metadata": {
      "needs_background": "light"
     },
     "output_type": "display_data"
    }
   ],
   "source": [
    "\n",
    "plt.plot(lr_fpr, lr_tpr, label='Logistic Regression Score: {:.4f}'.format(roc_auc_score(y_test, lr.predict(X_test))))\n",
    "\n",
    "plt.plot(knn_fpr, knn_tpr, label='KNN Score: {:.4f}'.format(roc_auc_score(y_test, knn.predict(X_test))))\n",
    "\n",
    "plt.plot(rf_fpr, rf_tpr, label='Random Forest Classifier Score: {:.4f}'.format(roc_auc_score(y_test, rf.predict(X_test))))\n",
    "\n",
    "plt.plot(gbc_fpr, gbc_tpr, label='Gradient Boosting Score: {:.4f}'.format(roc_auc_score(y_test, gbc.predict(X_test))))\n",
    "\n",
    "plt.plot(svm_fpr, svm_tpr, label='Support Vector Machine: {:.4f}'.format(roc_auc_score(y_test, svm.predict(X_test))))\n",
    "\n",
    "plt.plot([0, 1], [0, 1], 'k--')\n",
    "plt.axis([-0.01, 1, 0, 1])\n",
    "plt.title('Churn Validation Scores ROC', fontsize=20)\n",
    "plt.xlabel('False Positive Rate', fontsize=16)\n",
    "plt.ylabel('True Positive Rate', fontsize=16)\n",
    "plt.legend(loc='lower right')\n",
    "plt.show()"
   ]
  },
  {
   "cell_type": "markdown",
   "metadata": {},
   "source": [
    "## Testing"
   ]
  },
  {
   "cell_type": "code",
   "execution_count": 24,
   "metadata": {
    "ExecuteTime": {
     "end_time": "2020-05-14T05:26:02.597013Z",
     "start_time": "2020-05-14T05:26:02.588084Z"
    }
   },
   "outputs": [],
   "source": [
    "df_train = pd.concat([X_train, y_train,y_train2], axis=1)\n",
    "train_for_predict = df_train.groupby(\"churn\").last_3_months_spend.mean()\n"
   ]
  },
  {
   "cell_type": "code",
   "execution_count": 25,
   "metadata": {
    "ExecuteTime": {
     "end_time": "2020-05-14T05:26:03.276132Z",
     "start_time": "2020-05-14T05:26:03.268898Z"
    }
   },
   "outputs": [
    {
     "name": "stdout",
     "output_type": "stream",
     "text": [
      "<class 'pandas.core.frame.DataFrame'>\n",
      "Int64Index: 2218 entries, 2129 to 3234\n",
      "Data columns (total 7 columns):\n",
      " #   Column                   Non-Null Count  Dtype  \n",
      "---  ------                   --------------  -----  \n",
      " 0   total_purchases          2218 non-null   int64  \n",
      " 1   total_purchase_amount_x  2218 non-null   float64\n",
      " 2   last_3_months_spend      2218 non-null   float64\n",
      " 3   length                   2218 non-null   int64  \n",
      " 4   recency                  2218 non-null   int64  \n",
      " 5   churn                    2218 non-null   int64  \n",
      " 6   next_3_months_spend      2218 non-null   float64\n",
      "dtypes: float64(3), int64(4)\n",
      "memory usage: 138.6 KB\n"
     ]
    }
   ],
   "source": [
    "df_train.info()"
   ]
  },
  {
   "cell_type": "code",
   "execution_count": 1413,
   "metadata": {
    "ExecuteTime": {
     "end_time": "2020-05-14T05:05:31.637333Z",
     "start_time": "2020-05-14T05:05:31.620833Z"
    }
   },
   "outputs": [],
   "source": [
    "test_pre = pd.Series(rf.predict(X_test)).value_counts().sort_index().dot(train_for_predict)"
   ]
  },
  {
   "cell_type": "code",
   "execution_count": 39,
   "metadata": {
    "ExecuteTime": {
     "end_time": "2020-05-14T05:28:02.456751Z",
     "start_time": "2020-05-14T05:28:02.441467Z"
    }
   },
   "outputs": [],
   "source": [
    "test_pre = ((1- rf.predict(X_test)) * X_test[\"last_3_months_spend\"]).sum()"
   ]
  },
  {
   "cell_type": "code",
   "execution_count": 40,
   "metadata": {
    "ExecuteTime": {
     "end_time": "2020-05-14T05:28:02.899803Z",
     "start_time": "2020-05-14T05:28:02.895496Z"
    }
   },
   "outputs": [
    {
     "data": {
      "text/plain": [
       "335471.84"
      ]
     },
     "execution_count": 40,
     "metadata": {},
     "output_type": "execute_result"
    }
   ],
   "source": [
    "test_act = y_test2.sum(); test_act"
   ]
  },
  {
   "cell_type": "code",
   "execution_count": 41,
   "metadata": {
    "ExecuteTime": {
     "end_time": "2020-05-14T05:28:03.338679Z",
     "start_time": "2020-05-14T05:28:03.335099Z"
    }
   },
   "outputs": [
    {
     "data": {
      "text/plain": [
       "-0.026178796408068195"
      ]
     },
     "execution_count": 41,
     "metadata": {},
     "output_type": "execute_result"
    }
   ],
   "source": [
    "test_pre/test_act - 1"
   ]
  },
  {
   "cell_type": "code",
   "execution_count": 84,
   "metadata": {
    "ExecuteTime": {
     "end_time": "2020-05-14T05:40:57.313390Z",
     "start_time": "2020-05-14T05:40:57.296092Z"
    }
   },
   "outputs": [
    {
     "data": {
      "text/plain": [
       "1651.1404965055453"
      ]
     },
     "execution_count": 84,
     "metadata": {},
     "output_type": "execute_result"
    }
   ],
   "source": [
    "predict = (1- rf.predict(X_test)) * X_test[\"last_3_months_spend\"]\n",
    "RMSE = (((predict - y_test2)**2).sum() / y_test2.shape[0]) **0.5; RMSE"
   ]
  },
  {
   "cell_type": "markdown",
   "metadata": {},
   "source": [
    "_______\n",
    "# RFM\n",
    "## RFM 3X3X3"
   ]
  },
  {
   "cell_type": "code",
   "execution_count": 25,
   "metadata": {
    "ExecuteTime": {
     "end_time": "2020-05-12T23:58:04.944344Z",
     "start_time": "2020-05-12T23:58:04.670375Z"
    }
   },
   "outputs": [],
   "source": [
    "df_RFM = pd.read_csv(\"fdb_RFM2_train.csv\", index_col=0)"
   ]
  },
  {
   "cell_type": "code",
   "execution_count": 26,
   "metadata": {
    "ExecuteTime": {
     "end_time": "2020-05-12T23:58:05.128861Z",
     "start_time": "2020-05-12T23:58:05.111727Z"
    }
   },
   "outputs": [],
   "source": [
    "df_RFM[\"RFM\"] = df_RFM[\"RFM\"].fillna(\"1-1-1\")\n",
    "df_RFM[\"next_3_months_spend\"] = df_RFM[\"next_3_months_spend\"].fillna(0)"
   ]
  },
  {
   "cell_type": "code",
   "execution_count": 27,
   "metadata": {
    "ExecuteTime": {
     "end_time": "2020-05-12T23:58:05.443804Z",
     "start_time": "2020-05-12T23:58:05.405105Z"
    }
   },
   "outputs": [
    {
     "name": "stdout",
     "output_type": "stream",
     "text": [
      "<class 'pandas.core.frame.DataFrame'>\n",
      "Int64Index: 302261 entries, 0 to 302260\n",
      "Data columns (total 9 columns):\n",
      " #   Column                   Non-Null Count   Dtype  \n",
      "---  ------                   --------------   -----  \n",
      " 0   id                       302261 non-null  int64  \n",
      " 1   first_purchase_date      302261 non-null  object \n",
      " 2   last_purchase_date       302261 non-null  object \n",
      " 3   total_purchases          302261 non-null  int64  \n",
      " 4   total_purchase_quantity  302261 non-null  int64  \n",
      " 5   total_purchase_amount    302261 non-null  float64\n",
      " 6   last_3_months_spend      302261 non-null  float64\n",
      " 7   RFM                      302261 non-null  object \n",
      " 8   next_3_months_spend      302261 non-null  float64\n",
      "dtypes: float64(3), int64(3), object(3)\n",
      "memory usage: 23.1+ MB\n"
     ]
    }
   ],
   "source": [
    "df_RFM.info()"
   ]
  },
  {
   "cell_type": "code",
   "execution_count": 28,
   "metadata": {
    "ExecuteTime": {
     "end_time": "2020-05-12T23:58:06.186621Z",
     "start_time": "2020-05-12T23:58:06.177832Z"
    }
   },
   "outputs": [],
   "source": [
    "y1 = df_RFM.RFM\n",
    "y2 = df_RFM.next_3_months_spend\n",
    "X = df_RFM.iloc[:,:-3]"
   ]
  },
  {
   "cell_type": "code",
   "execution_count": 34,
   "metadata": {
    "ExecuteTime": {
     "end_time": "2020-05-12T23:59:09.561492Z",
     "start_time": "2020-05-12T23:59:09.552233Z"
    }
   },
   "outputs": [
    {
     "data": {
      "text/html": [
       "<div>\n",
       "<style scoped>\n",
       "    .dataframe tbody tr th:only-of-type {\n",
       "        vertical-align: middle;\n",
       "    }\n",
       "\n",
       "    .dataframe tbody tr th {\n",
       "        vertical-align: top;\n",
       "    }\n",
       "\n",
       "    .dataframe thead th {\n",
       "        text-align: right;\n",
       "    }\n",
       "</style>\n",
       "<table border=\"1\" class=\"dataframe\">\n",
       "  <thead>\n",
       "    <tr style=\"text-align: right;\">\n",
       "      <th></th>\n",
       "      <th>total_purchases</th>\n",
       "      <th>total_purchase_quantity</th>\n",
       "      <th>total_purchase_amount</th>\n",
       "      <th>length</th>\n",
       "      <th>recency</th>\n",
       "    </tr>\n",
       "  </thead>\n",
       "  <tbody>\n",
       "    <tr>\n",
       "      <th>0</th>\n",
       "      <td>52</td>\n",
       "      <td>284</td>\n",
       "      <td>976.58</td>\n",
       "      <td>267</td>\n",
       "      <td>2</td>\n",
       "    </tr>\n",
       "    <tr>\n",
       "      <th>1</th>\n",
       "      <td>49</td>\n",
       "      <td>837</td>\n",
       "      <td>2462.90</td>\n",
       "      <td>262</td>\n",
       "      <td>6</td>\n",
       "    </tr>\n",
       "    <tr>\n",
       "      <th>2</th>\n",
       "      <td>27</td>\n",
       "      <td>252</td>\n",
       "      <td>594.15</td>\n",
       "      <td>216</td>\n",
       "      <td>58</td>\n",
       "    </tr>\n",
       "    <tr>\n",
       "      <th>3</th>\n",
       "      <td>163</td>\n",
       "      <td>2036</td>\n",
       "      <td>4997.94</td>\n",
       "      <td>272</td>\n",
       "      <td>3</td>\n",
       "    </tr>\n",
       "    <tr>\n",
       "      <th>4</th>\n",
       "      <td>46</td>\n",
       "      <td>375</td>\n",
       "      <td>1510.74</td>\n",
       "      <td>266</td>\n",
       "      <td>4</td>\n",
       "    </tr>\n",
       "  </tbody>\n",
       "</table>\n",
       "</div>"
      ],
      "text/plain": [
       "   total_purchases  total_purchase_quantity  total_purchase_amount  length  \\\n",
       "0               52                      284                 976.58     267   \n",
       "1               49                      837                2462.90     262   \n",
       "2               27                      252                 594.15     216   \n",
       "3              163                     2036                4997.94     272   \n",
       "4               46                      375                1510.74     266   \n",
       "\n",
       "   recency  \n",
       "0        2  \n",
       "1        6  \n",
       "2       58  \n",
       "3        3  \n",
       "4        4  "
      ]
     },
     "execution_count": 34,
     "metadata": {},
     "output_type": "execute_result"
    }
   ],
   "source": [
    "X.head()"
   ]
  },
  {
   "cell_type": "code",
   "execution_count": 30,
   "metadata": {
    "ExecuteTime": {
     "end_time": "2020-05-12T23:58:15.785495Z",
     "start_time": "2020-05-12T23:58:10.674516Z"
    }
   },
   "outputs": [],
   "source": [
    "X[\"length\"] = (pd.to_datetime(df_RFM.last_purchase_date) - \n",
    "                     pd.to_datetime(df_RFM.first_purchase_date)).apply(lambda x:x.days)\n",
    "X[\"recency\"] = (pd.to_datetime(\"2012-12-02\") - \n",
    "                     pd.to_datetime(df_RFM.last_purchase_date)).apply(lambda x:x.days)\n",
    "X = X.iloc[:,3:]"
   ]
  },
  {
   "cell_type": "code",
   "execution_count": 31,
   "metadata": {
    "ExecuteTime": {
     "end_time": "2020-05-12T23:58:15.999300Z",
     "start_time": "2020-05-12T23:58:15.944819Z"
    }
   },
   "outputs": [],
   "source": [
    "# Split train and validation\n",
    "X_train, X_test, y_train, y_test = train_test_split(X, y1, shuffle=True, test_size=0.2, random_state=42)\n",
    "X_train2, X_test2, y_train2, y_test2 = train_test_split(X, y2, shuffle=True, test_size=0.2, random_state=42)"
   ]
  },
  {
   "cell_type": "code",
   "execution_count": 32,
   "metadata": {
    "ExecuteTime": {
     "end_time": "2020-05-12T23:58:22.860764Z",
     "start_time": "2020-05-12T23:58:16.161420Z"
    }
   },
   "outputs": [
    {
     "name": "stdout",
     "output_type": "stream",
     "text": [
      "0.2822027029262402\n"
     ]
    }
   ],
   "source": [
    "# KNeighborsClassifier\n",
    "\n",
    "knn = KNeighborsClassifier(n_neighbors=20)\n",
    "\n",
    "knn.fit(X_train, y_train)\n",
    "\n",
    "# model_scores(knn, X_train, y_train)\n",
    "\n",
    "# accuracy on X_test \n",
    "accuracy = knn.score(X_test, y_test) \n",
    "print(accuracy) \n",
    "  \n",
    "# creating a confusion matrix \n",
    "knn_predictions = knn.predict(X_test)  \n",
    "cm = confusion_matrix(y_test, knn_predictions) \n"
   ]
  },
  {
   "cell_type": "code",
   "execution_count": 33,
   "metadata": {
    "ExecuteTime": {
     "end_time": "2020-05-12T23:58:23.026866Z",
     "start_time": "2020-05-12T23:58:23.022012Z"
    }
   },
   "outputs": [
    {
     "data": {
      "text/plain": [
       "0.9542241718795398"
      ]
     },
     "execution_count": 33,
     "metadata": {},
     "output_type": "execute_result"
    }
   ],
   "source": [
    "accuracy ** (1/27)"
   ]
  },
  {
   "cell_type": "code",
   "execution_count": 16,
   "metadata": {
    "ExecuteTime": {
     "end_time": "2020-05-12T22:46:25.930932Z",
     "start_time": "2020-05-12T22:46:15.745965Z"
    }
   },
   "outputs": [
    {
     "data": {
      "text/plain": [
       "array(['3-3-3', '2-2-1', '2-2-3', ..., '3-3-3', '3-3-3', '2-2-2'],\n",
       "      dtype=object)"
      ]
     },
     "execution_count": 16,
     "metadata": {},
     "output_type": "execute_result"
    }
   ],
   "source": [
    "knn.predict(X_train)"
   ]
  },
  {
   "cell_type": "code",
   "execution_count": 168,
   "metadata": {
    "ExecuteTime": {
     "end_time": "2020-05-12T22:08:12.052032Z",
     "start_time": "2020-05-12T21:20:56.971030Z"
    }
   },
   "outputs": [
    {
     "name": "stderr",
     "output_type": "stream",
     "text": [
      "/home/vince/anaconda3/lib/python3.6/site-packages/sklearn/svm/_base.py:947: ConvergenceWarning: Liblinear failed to converge, increase the number of iterations.\n",
      "  \"the number of iterations.\", ConvergenceWarning)\n"
     ]
    }
   ],
   "source": [
    "### Support Vector Machine\n",
    "\n",
    "svm_model_linear = LinearSVC().fit(X_train, y_train) \n",
    "svm_predictions = svm_model_linear.predict(X_test) \n",
    "  \n",
    "# model accuracy for X_test   \n",
    "accuracy = svm_model_linear.score(X_test, y_test) \n",
    "print(accuracy) \n",
    "  \n",
    "# creating a confusion matrix \n",
    "cm = confusion_matrix(y_test, svm_predictions) "
   ]
  },
  {
   "cell_type": "code",
   "execution_count": 170,
   "metadata": {
    "ExecuteTime": {
     "end_time": "2020-05-12T22:10:46.311966Z",
     "start_time": "2020-05-12T22:10:46.305140Z"
    }
   },
   "outputs": [
    {
     "name": "stdout",
     "output_type": "stream",
     "text": [
      "0.084677352654128\n"
     ]
    },
    {
     "data": {
      "text/plain": [
       "array([[3126, 2021,    0, ...,    0,    0,    0],\n",
       "       [ 278, 1569,    0, ...,    0,    0,    0],\n",
       "       [  44,  681,    0, ...,    0,    0,    0],\n",
       "       ...,\n",
       "       [  36, 1478,    0, ...,    0,    0,    0],\n",
       "       [  23, 3977,    0, ...,    0,    0,    0],\n",
       "       [  73,   95,    0, ...,    0,    0,    0]])"
      ]
     },
     "execution_count": 170,
     "metadata": {},
     "output_type": "execute_result"
    }
   ],
   "source": [
    "print(accuracy) \n",
    "cm"
   ]
  },
  {
   "cell_type": "code",
   "execution_count": null,
   "metadata": {
    "ExecuteTime": {
     "start_time": "2020-05-12T22:15:47.153Z"
    }
   },
   "outputs": [],
   "source": [
    "## random forest\n",
    "\n",
    "rf = RandomForestClassifier(class_weight='balanced')\n",
    "\n",
    "rf.fit(X_train, y_train)\n",
    "\n",
    "model_scores(rf, X_train, y_train)"
   ]
  },
  {
   "cell_type": "code",
   "execution_count": null,
   "metadata": {},
   "outputs": [],
   "source": []
  },
  {
   "cell_type": "code",
   "execution_count": null,
   "metadata": {},
   "outputs": [],
   "source": []
  },
  {
   "cell_type": "code",
   "execution_count": 75,
   "metadata": {
    "ExecuteTime": {
     "end_time": "2020-05-13T00:40:03.685382Z",
     "start_time": "2020-05-13T00:40:03.671315Z"
    }
   },
   "outputs": [
    {
     "name": "stdout",
     "output_type": "stream",
     "text": [
      "<class 'pandas.core.frame.DataFrame'>\n",
      "Int64Index: 241808 entries, 61015 to 121958\n",
      "Data columns (total 7 columns):\n",
      " #   Column                   Non-Null Count   Dtype  \n",
      "---  ------                   --------------   -----  \n",
      " 0   total_purchases          241808 non-null  int64  \n",
      " 1   total_purchase_quantity  241808 non-null  int64  \n",
      " 2   total_purchase_amount    241808 non-null  float64\n",
      " 3   length                   241808 non-null  int64  \n",
      " 4   recency                  241808 non-null  int64  \n",
      " 5   RFM                      241808 non-null  object \n",
      " 6   next_3_months_spend      241808 non-null  float64\n",
      "dtypes: float64(2), int64(4), object(1)\n",
      "memory usage: 24.8+ MB\n"
     ]
    }
   ],
   "source": [
    "df_train.info()"
   ]
  },
  {
   "cell_type": "code",
   "execution_count": 64,
   "metadata": {
    "ExecuteTime": {
     "end_time": "2020-05-13T00:33:26.010286Z",
     "start_time": "2020-05-13T00:33:25.980278Z"
    }
   },
   "outputs": [
    {
     "data": {
      "text/plain": [
       "RFM\n",
       "1-1-1     255.723603\n",
       "1-1-2     767.556463\n",
       "1-1-3    1475.471996\n",
       "1-2-1     370.337750\n",
       "1-2-2     811.361456\n",
       "1-2-3    1584.313918\n",
       "1-3-1     406.473289\n",
       "1-3-2     834.411394\n",
       "1-3-3    1910.695518\n",
       "2-1-1     304.239549\n",
       "2-1-2     781.819555\n",
       "2-1-3    1490.470437\n",
       "2-2-1     380.034984\n",
       "2-2-2     821.154755\n",
       "2-2-3    1633.503707\n",
       "2-3-1     416.109648\n",
       "2-3-2     847.408778\n",
       "2-3-3    1841.652907\n",
       "3-1-1     294.939754\n",
       "3-1-2     779.523881\n",
       "3-1-3    1462.256530\n",
       "3-2-1     376.830826\n",
       "3-2-2     816.724046\n",
       "3-2-3    1622.465071\n",
       "3-3-1   -5976.501411\n",
       "3-3-2     850.213548\n",
       "3-3-3    3248.858662\n",
       "Name: next_3_months_spend, dtype: float64"
      ]
     },
     "execution_count": 64,
     "metadata": {},
     "output_type": "execute_result"
    }
   ],
   "source": [
    "df_train = pd.concat([X_train, y_train,y_train2], axis=1)\n",
    "train_for_predict = df_train.groupby(\"RFM\").next_3_months_spend.mean()\n",
    "train_for_predict"
   ]
  },
  {
   "cell_type": "code",
   "execution_count": 49,
   "metadata": {
    "ExecuteTime": {
     "end_time": "2020-05-13T00:15:59.761597Z",
     "start_time": "2020-05-13T00:15:59.749124Z"
    }
   },
   "outputs": [],
   "source": [
    "y_test3 = pd.concat([y_test,y_test2], axis=1)\n",
    "test_act = y_test3.groupby(\"RFM\").sum().sum()"
   ]
  },
  {
   "cell_type": "code",
   "execution_count": 73,
   "metadata": {
    "ExecuteTime": {
     "end_time": "2020-05-13T00:36:03.170202Z",
     "start_time": "2020-05-13T00:36:03.158881Z"
    }
   },
   "outputs": [],
   "source": [
    "test_pre = pd.Series(knn_predictions).value_counts().sort_index().dot(train_for_predict)"
   ]
  },
  {
   "cell_type": "code",
   "execution_count": 63,
   "metadata": {
    "ExecuteTime": {
     "end_time": "2020-05-13T00:32:14.550705Z",
     "start_time": "2020-05-13T00:32:14.546521Z"
    }
   },
   "outputs": [
    {
     "data": {
      "text/plain": [
       "81041777.89000002"
      ]
     },
     "execution_count": 63,
     "metadata": {},
     "output_type": "execute_result"
    }
   ],
   "source": [
    "test_act = y_test2.sum(); test_act"
   ]
  },
  {
   "cell_type": "code",
   "execution_count": 74,
   "metadata": {
    "ExecuteTime": {
     "end_time": "2020-05-13T00:36:19.877881Z",
     "start_time": "2020-05-13T00:36:19.874661Z"
    }
   },
   "outputs": [
    {
     "data": {
      "text/plain": [
       "-0.2028660141184292"
      ]
     },
     "execution_count": 74,
     "metadata": {},
     "output_type": "execute_result"
    }
   ],
   "source": [
    "test_pre/test_act - 1"
   ]
  },
  {
   "cell_type": "markdown",
   "metadata": {},
   "source": [
    "## RFM2X2X2"
   ]
  },
  {
   "cell_type": "code",
   "execution_count": 192,
   "metadata": {
    "ExecuteTime": {
     "end_time": "2020-05-14T06:25:25.701014Z",
     "start_time": "2020-05-14T06:25:25.692585Z"
    }
   },
   "outputs": [],
   "source": [
    "df_RFM = pd.read_csv(\"fdb_RFM3_train.csv\", index_col=0)"
   ]
  },
  {
   "cell_type": "code",
   "execution_count": 86,
   "metadata": {
    "ExecuteTime": {
     "end_time": "2020-05-14T05:44:03.776753Z",
     "start_time": "2020-05-14T05:44:03.773184Z"
    }
   },
   "outputs": [],
   "source": [
    "df_RFM[\"RFM\"] = df_RFM[\"RFM\"].fillna(\"1-1-1\")\n",
    "df_RFM[\"next_3_months_spend\"] = df_RFM[\"next_3_months_spend\"].fillna(0)"
   ]
  },
  {
   "cell_type": "code",
   "execution_count": 87,
   "metadata": {
    "ExecuteTime": {
     "end_time": "2020-05-14T05:44:04.320415Z",
     "start_time": "2020-05-14T05:44:04.314765Z"
    }
   },
   "outputs": [
    {
     "data": {
      "text/plain": [
       "1-1-1    0.547782\n",
       "1-1-2    0.224306\n",
       "2-2-2    0.078976\n",
       "1-2-2    0.053732\n",
       "2-1-2    0.047602\n",
       "2-1-1    0.017670\n",
       "1-2-1    0.016228\n",
       "2-2-1    0.013704\n",
       "Name: RFM, dtype: float64"
      ]
     },
     "execution_count": 87,
     "metadata": {},
     "output_type": "execute_result"
    }
   ],
   "source": [
    "df_RFM[\"RFM\"].value_counts()/df_RFM[\"RFM\"].count()"
   ]
  },
  {
   "cell_type": "code",
   "execution_count": 193,
   "metadata": {
    "ExecuteTime": {
     "end_time": "2020-05-14T06:25:27.496882Z",
     "start_time": "2020-05-14T06:25:27.493872Z"
    }
   },
   "outputs": [],
   "source": [
    "y1 = df_RFM.RFM\n",
    "y2 = df_RFM.next_3_months_spend\n",
    "X = df_RFM.iloc[:,:-2]"
   ]
  },
  {
   "cell_type": "code",
   "execution_count": 89,
   "metadata": {
    "ExecuteTime": {
     "end_time": "2020-05-14T05:44:05.475631Z",
     "start_time": "2020-05-14T05:44:05.429416Z"
    }
   },
   "outputs": [],
   "source": [
    "X[\"length\"] = (pd.to_datetime(df_RFM.last_purchase_date) - \n",
    "                     pd.to_datetime(df_RFM.first_purchase_date)).apply(lambda x:x.days)\n",
    "X[\"recency\"] = (pd.to_datetime(\"2011-10-01\") - \n",
    "                     pd.to_datetime(df_RFM.last_purchase_date)).apply(lambda x:x.days)\n",
    "X = X.iloc[:,3:]"
   ]
  },
  {
   "cell_type": "code",
   "execution_count": 194,
   "metadata": {
    "ExecuteTime": {
     "end_time": "2020-05-14T06:25:35.183366Z",
     "start_time": "2020-05-14T06:25:35.172378Z"
    }
   },
   "outputs": [],
   "source": [
    "# X_train, y_train, X_test, y_test = train_test_split(X, y1, random_state=42, stratefy)\"\"\n",
    "X_train, X_test, y_train, y_test = train_test_split(X, y1, shuffle=True, test_size=0.2, random_state=42)\n",
    "X_train2, X_test2, y_train2, y_test2 = train_test_split(X, y2, shuffle=True, test_size=0.2, random_state=42)"
   ]
  },
  {
   "cell_type": "code",
   "execution_count": 1323,
   "metadata": {
    "ExecuteTime": {
     "end_time": "2020-05-14T04:51:21.609299Z",
     "start_time": "2020-05-14T04:51:21.560619Z"
    }
   },
   "outputs": [
    {
     "name": "stdout",
     "output_type": "stream",
     "text": [
      "0.5855855855855856\n"
     ]
    }
   ],
   "source": [
    "# KNeighborsClassifier\n",
    "\n",
    "knn = KNeighborsClassifier(n_neighbors=41)\n",
    "\n",
    "knn.fit(X_train, y_train)\n",
    "\n",
    "# model_scores(knn, X_train, y_train)\n",
    "\n",
    "# accuracy on X_test \n",
    "accuracy = knn.score(X_test, y_test) \n",
    "print(accuracy) \n",
    "  \n",
    "# creating a confusion matrix \n",
    "knn_predictions = knn.predict(X_test)  \n",
    "cm = confusion_matrix(y_test, knn_predictions) "
   ]
  },
  {
   "cell_type": "code",
   "execution_count": 1321,
   "metadata": {
    "ExecuteTime": {
     "end_time": "2020-05-14T04:51:11.856954Z",
     "start_time": "2020-05-14T04:51:09.884565Z"
    }
   },
   "outputs": [
    {
     "data": {
      "text/plain": [
       "GridSearchCV(cv=None, error_score=nan,\n",
       "             estimator=KNeighborsClassifier(algorithm='auto', leaf_size=30,\n",
       "                                            metric='minkowski',\n",
       "                                            metric_params=None, n_jobs=None,\n",
       "                                            n_neighbors=35, p=2,\n",
       "                                            weights='uniform'),\n",
       "             iid='deprecated', n_jobs=None,\n",
       "             param_grid={'n_neighbors': [3, 5, 7, 9, 11, 13, 15, 17, 19, 21, 23,\n",
       "                                         25, 27, 29, 31, 33, 35, 37, 39, 41, 43,\n",
       "                                         45, 47, 49]},\n",
       "             pre_dispatch='2*n_jobs', refit=True, return_train_score=False,\n",
       "             scoring=None, verbose=0)"
      ]
     },
     "execution_count": 1321,
     "metadata": {},
     "output_type": "execute_result"
    }
   ],
   "source": [
    "knn_params = {'n_neighbors': list(range(3,50,2))}\n",
    "gsknn = GridSearchCV(knn, \n",
    "                    knn_params)\n",
    "gsknn.fit(X_train, y_train)"
   ]
  },
  {
   "cell_type": "code",
   "execution_count": 1322,
   "metadata": {
    "ExecuteTime": {
     "end_time": "2020-05-14T04:51:12.316613Z",
     "start_time": "2020-05-14T04:51:12.282573Z"
    }
   },
   "outputs": [
    {
     "data": {
      "text/html": [
       "<div>\n",
       "<style scoped>\n",
       "    .dataframe tbody tr th:only-of-type {\n",
       "        vertical-align: middle;\n",
       "    }\n",
       "\n",
       "    .dataframe tbody tr th {\n",
       "        vertical-align: top;\n",
       "    }\n",
       "\n",
       "    .dataframe thead th {\n",
       "        text-align: right;\n",
       "    }\n",
       "</style>\n",
       "<table border=\"1\" class=\"dataframe\">\n",
       "  <thead>\n",
       "    <tr style=\"text-align: right;\">\n",
       "      <th></th>\n",
       "      <th>0</th>\n",
       "      <th>1</th>\n",
       "      <th>2</th>\n",
       "      <th>3</th>\n",
       "      <th>4</th>\n",
       "      <th>5</th>\n",
       "      <th>6</th>\n",
       "      <th>7</th>\n",
       "      <th>8</th>\n",
       "      <th>9</th>\n",
       "      <th>...</th>\n",
       "      <th>14</th>\n",
       "      <th>15</th>\n",
       "      <th>16</th>\n",
       "      <th>17</th>\n",
       "      <th>18</th>\n",
       "      <th>19</th>\n",
       "      <th>20</th>\n",
       "      <th>21</th>\n",
       "      <th>22</th>\n",
       "      <th>23</th>\n",
       "    </tr>\n",
       "  </thead>\n",
       "  <tbody>\n",
       "    <tr>\n",
       "      <th>mean_fit_time</th>\n",
       "      <td>0.00365553</td>\n",
       "      <td>0.00376887</td>\n",
       "      <td>0.00328102</td>\n",
       "      <td>0.003195</td>\n",
       "      <td>0.0030601</td>\n",
       "      <td>0.00333529</td>\n",
       "      <td>0.00359793</td>\n",
       "      <td>0.0030066</td>\n",
       "      <td>0.00316086</td>\n",
       "      <td>0.00318012</td>\n",
       "      <td>...</td>\n",
       "      <td>0.00312052</td>\n",
       "      <td>0.00307908</td>\n",
       "      <td>0.00317192</td>\n",
       "      <td>0.0030736</td>\n",
       "      <td>0.00301619</td>\n",
       "      <td>0.00323739</td>\n",
       "      <td>0.00325041</td>\n",
       "      <td>0.00311894</td>\n",
       "      <td>0.00309911</td>\n",
       "      <td>0.00309668</td>\n",
       "    </tr>\n",
       "    <tr>\n",
       "      <th>std_fit_time</th>\n",
       "      <td>0.000419741</td>\n",
       "      <td>0.000941901</td>\n",
       "      <td>0.00030757</td>\n",
       "      <td>0.000299377</td>\n",
       "      <td>0.000130784</td>\n",
       "      <td>0.000117424</td>\n",
       "      <td>0.00102857</td>\n",
       "      <td>0.000136957</td>\n",
       "      <td>0.000219671</td>\n",
       "      <td>0.000178661</td>\n",
       "      <td>...</td>\n",
       "      <td>0.000248952</td>\n",
       "      <td>0.00010497</td>\n",
       "      <td>8.26353e-05</td>\n",
       "      <td>5.49565e-05</td>\n",
       "      <td>7.86046e-05</td>\n",
       "      <td>0.00045274</td>\n",
       "      <td>0.000317031</td>\n",
       "      <td>0.000144018</td>\n",
       "      <td>0.000250905</td>\n",
       "      <td>0.000224166</td>\n",
       "    </tr>\n",
       "    <tr>\n",
       "      <th>mean_score_time</th>\n",
       "      <td>0.0132999</td>\n",
       "      <td>0.0114943</td>\n",
       "      <td>0.0110285</td>\n",
       "      <td>0.0116169</td>\n",
       "      <td>0.0120514</td>\n",
       "      <td>0.0133659</td>\n",
       "      <td>0.0126091</td>\n",
       "      <td>0.0118086</td>\n",
       "      <td>0.0121057</td>\n",
       "      <td>0.0123737</td>\n",
       "      <td>...</td>\n",
       "      <td>0.0129084</td>\n",
       "      <td>0.0129228</td>\n",
       "      <td>0.0140081</td>\n",
       "      <td>0.0132026</td>\n",
       "      <td>0.013529</td>\n",
       "      <td>0.013174</td>\n",
       "      <td>0.0134081</td>\n",
       "      <td>0.0134915</td>\n",
       "      <td>0.0137475</td>\n",
       "      <td>0.0138155</td>\n",
       "    </tr>\n",
       "    <tr>\n",
       "      <th>std_score_time</th>\n",
       "      <td>0.00155707</td>\n",
       "      <td>0.000400701</td>\n",
       "      <td>0.000203332</td>\n",
       "      <td>0.000310362</td>\n",
       "      <td>0.000739841</td>\n",
       "      <td>0.000765965</td>\n",
       "      <td>0.000947028</td>\n",
       "      <td>0.000472515</td>\n",
       "      <td>0.000542082</td>\n",
       "      <td>0.000501283</td>\n",
       "      <td>...</td>\n",
       "      <td>0.000297164</td>\n",
       "      <td>0.00049489</td>\n",
       "      <td>0.00082914</td>\n",
       "      <td>0.000339626</td>\n",
       "      <td>0.000633333</td>\n",
       "      <td>0.000383672</td>\n",
       "      <td>0.000525647</td>\n",
       "      <td>0.000403557</td>\n",
       "      <td>0.000392289</td>\n",
       "      <td>0.000325261</td>\n",
       "    </tr>\n",
       "    <tr>\n",
       "      <th>param_n_neighbors</th>\n",
       "      <td>3</td>\n",
       "      <td>5</td>\n",
       "      <td>7</td>\n",
       "      <td>9</td>\n",
       "      <td>11</td>\n",
       "      <td>13</td>\n",
       "      <td>15</td>\n",
       "      <td>17</td>\n",
       "      <td>19</td>\n",
       "      <td>21</td>\n",
       "      <td>...</td>\n",
       "      <td>31</td>\n",
       "      <td>33</td>\n",
       "      <td>35</td>\n",
       "      <td>37</td>\n",
       "      <td>39</td>\n",
       "      <td>41</td>\n",
       "      <td>43</td>\n",
       "      <td>45</td>\n",
       "      <td>47</td>\n",
       "      <td>49</td>\n",
       "    </tr>\n",
       "    <tr>\n",
       "      <th>params</th>\n",
       "      <td>{'n_neighbors': 3}</td>\n",
       "      <td>{'n_neighbors': 5}</td>\n",
       "      <td>{'n_neighbors': 7}</td>\n",
       "      <td>{'n_neighbors': 9}</td>\n",
       "      <td>{'n_neighbors': 11}</td>\n",
       "      <td>{'n_neighbors': 13}</td>\n",
       "      <td>{'n_neighbors': 15}</td>\n",
       "      <td>{'n_neighbors': 17}</td>\n",
       "      <td>{'n_neighbors': 19}</td>\n",
       "      <td>{'n_neighbors': 21}</td>\n",
       "      <td>...</td>\n",
       "      <td>{'n_neighbors': 31}</td>\n",
       "      <td>{'n_neighbors': 33}</td>\n",
       "      <td>{'n_neighbors': 35}</td>\n",
       "      <td>{'n_neighbors': 37}</td>\n",
       "      <td>{'n_neighbors': 39}</td>\n",
       "      <td>{'n_neighbors': 41}</td>\n",
       "      <td>{'n_neighbors': 43}</td>\n",
       "      <td>{'n_neighbors': 45}</td>\n",
       "      <td>{'n_neighbors': 47}</td>\n",
       "      <td>{'n_neighbors': 49}</td>\n",
       "    </tr>\n",
       "    <tr>\n",
       "      <th>split0_test_score</th>\n",
       "      <td>0.504505</td>\n",
       "      <td>0.54955</td>\n",
       "      <td>0.56982</td>\n",
       "      <td>0.56982</td>\n",
       "      <td>0.578829</td>\n",
       "      <td>0.592342</td>\n",
       "      <td>0.576577</td>\n",
       "      <td>0.581081</td>\n",
       "      <td>0.56982</td>\n",
       "      <td>0.585586</td>\n",
       "      <td>...</td>\n",
       "      <td>0.585586</td>\n",
       "      <td>0.585586</td>\n",
       "      <td>0.583333</td>\n",
       "      <td>0.592342</td>\n",
       "      <td>0.587838</td>\n",
       "      <td>0.587838</td>\n",
       "      <td>0.587838</td>\n",
       "      <td>0.59009</td>\n",
       "      <td>0.594595</td>\n",
       "      <td>0.59009</td>\n",
       "    </tr>\n",
       "    <tr>\n",
       "      <th>split1_test_score</th>\n",
       "      <td>0.540541</td>\n",
       "      <td>0.504505</td>\n",
       "      <td>0.536036</td>\n",
       "      <td>0.558559</td>\n",
       "      <td>0.556306</td>\n",
       "      <td>0.560811</td>\n",
       "      <td>0.556306</td>\n",
       "      <td>0.572072</td>\n",
       "      <td>0.581081</td>\n",
       "      <td>0.574324</td>\n",
       "      <td>...</td>\n",
       "      <td>0.574324</td>\n",
       "      <td>0.563063</td>\n",
       "      <td>0.581081</td>\n",
       "      <td>0.576577</td>\n",
       "      <td>0.581081</td>\n",
       "      <td>0.583333</td>\n",
       "      <td>0.581081</td>\n",
       "      <td>0.578829</td>\n",
       "      <td>0.587838</td>\n",
       "      <td>0.59009</td>\n",
       "    </tr>\n",
       "    <tr>\n",
       "      <th>split2_test_score</th>\n",
       "      <td>0.513514</td>\n",
       "      <td>0.531532</td>\n",
       "      <td>0.536036</td>\n",
       "      <td>0.556306</td>\n",
       "      <td>0.572072</td>\n",
       "      <td>0.556306</td>\n",
       "      <td>0.563063</td>\n",
       "      <td>0.563063</td>\n",
       "      <td>0.565315</td>\n",
       "      <td>0.565315</td>\n",
       "      <td>...</td>\n",
       "      <td>0.558559</td>\n",
       "      <td>0.565315</td>\n",
       "      <td>0.556306</td>\n",
       "      <td>0.554054</td>\n",
       "      <td>0.556306</td>\n",
       "      <td>0.560811</td>\n",
       "      <td>0.558559</td>\n",
       "      <td>0.54955</td>\n",
       "      <td>0.54955</td>\n",
       "      <td>0.556306</td>\n",
       "    </tr>\n",
       "    <tr>\n",
       "      <th>split3_test_score</th>\n",
       "      <td>0.525959</td>\n",
       "      <td>0.514673</td>\n",
       "      <td>0.532731</td>\n",
       "      <td>0.546275</td>\n",
       "      <td>0.555305</td>\n",
       "      <td>0.544018</td>\n",
       "      <td>0.546275</td>\n",
       "      <td>0.546275</td>\n",
       "      <td>0.557562</td>\n",
       "      <td>0.555305</td>\n",
       "      <td>...</td>\n",
       "      <td>0.566591</td>\n",
       "      <td>0.562077</td>\n",
       "      <td>0.564334</td>\n",
       "      <td>0.566591</td>\n",
       "      <td>0.562077</td>\n",
       "      <td>0.562077</td>\n",
       "      <td>0.555305</td>\n",
       "      <td>0.555305</td>\n",
       "      <td>0.557562</td>\n",
       "      <td>0.555305</td>\n",
       "    </tr>\n",
       "    <tr>\n",
       "      <th>split4_test_score</th>\n",
       "      <td>0.507901</td>\n",
       "      <td>0.562077</td>\n",
       "      <td>0.571106</td>\n",
       "      <td>0.582393</td>\n",
       "      <td>0.568849</td>\n",
       "      <td>0.568849</td>\n",
       "      <td>0.573363</td>\n",
       "      <td>0.580135</td>\n",
       "      <td>0.580135</td>\n",
       "      <td>0.580135</td>\n",
       "      <td>...</td>\n",
       "      <td>0.575621</td>\n",
       "      <td>0.571106</td>\n",
       "      <td>0.564334</td>\n",
       "      <td>0.571106</td>\n",
       "      <td>0.577878</td>\n",
       "      <td>0.582393</td>\n",
       "      <td>0.573363</td>\n",
       "      <td>0.577878</td>\n",
       "      <td>0.571106</td>\n",
       "      <td>0.566591</td>\n",
       "    </tr>\n",
       "    <tr>\n",
       "      <th>mean_test_score</th>\n",
       "      <td>0.518484</td>\n",
       "      <td>0.532467</td>\n",
       "      <td>0.549146</td>\n",
       "      <td>0.562671</td>\n",
       "      <td>0.566272</td>\n",
       "      <td>0.564465</td>\n",
       "      <td>0.563117</td>\n",
       "      <td>0.568525</td>\n",
       "      <td>0.570783</td>\n",
       "      <td>0.572133</td>\n",
       "      <td>...</td>\n",
       "      <td>0.572136</td>\n",
       "      <td>0.569429</td>\n",
       "      <td>0.569878</td>\n",
       "      <td>0.572134</td>\n",
       "      <td>0.573036</td>\n",
       "      <td>0.57529</td>\n",
       "      <td>0.571229</td>\n",
       "      <td>0.57033</td>\n",
       "      <td>0.57213</td>\n",
       "      <td>0.571677</td>\n",
       "    </tr>\n",
       "    <tr>\n",
       "      <th>std_test_score</th>\n",
       "      <td>0.0132251</td>\n",
       "      <td>0.0212977</td>\n",
       "      <td>0.0174518</td>\n",
       "      <td>0.0123798</td>\n",
       "      <td>0.00913838</td>\n",
       "      <td>0.0160895</td>\n",
       "      <td>0.0111012</td>\n",
       "      <td>0.0128835</td>\n",
       "      <td>0.00893459</td>\n",
       "      <td>0.0107655</td>\n",
       "      <td>...</td>\n",
       "      <td>0.0090875</td>\n",
       "      <td>0.00866431</td>\n",
       "      <td>0.0105092</td>\n",
       "      <td>0.0125441</td>\n",
       "      <td>0.0118933</td>\n",
       "      <td>0.0114615</td>\n",
       "      <td>0.0125825</td>\n",
       "      <td>0.0153444</td>\n",
       "      <td>0.0171729</td>\n",
       "      <td>0.0155451</td>\n",
       "    </tr>\n",
       "    <tr>\n",
       "      <th>rank_test_score</th>\n",
       "      <td>24</td>\n",
       "      <td>23</td>\n",
       "      <td>22</td>\n",
       "      <td>21</td>\n",
       "      <td>18</td>\n",
       "      <td>19</td>\n",
       "      <td>20</td>\n",
       "      <td>13</td>\n",
       "      <td>9</td>\n",
       "      <td>5</td>\n",
       "      <td>...</td>\n",
       "      <td>3</td>\n",
       "      <td>12</td>\n",
       "      <td>11</td>\n",
       "      <td>4</td>\n",
       "      <td>2</td>\n",
       "      <td>1</td>\n",
       "      <td>8</td>\n",
       "      <td>10</td>\n",
       "      <td>6</td>\n",
       "      <td>7</td>\n",
       "    </tr>\n",
       "  </tbody>\n",
       "</table>\n",
       "<p>14 rows × 24 columns</p>\n",
       "</div>"
      ],
      "text/plain": [
       "                                   0                   1                   2   \\\n",
       "mean_fit_time              0.00365553          0.00376887          0.00328102   \n",
       "std_fit_time              0.000419741         0.000941901          0.00030757   \n",
       "mean_score_time             0.0132999           0.0114943           0.0110285   \n",
       "std_score_time             0.00155707         0.000400701         0.000203332   \n",
       "param_n_neighbors                   3                   5                   7   \n",
       "params             {'n_neighbors': 3}  {'n_neighbors': 5}  {'n_neighbors': 7}   \n",
       "split0_test_score            0.504505             0.54955             0.56982   \n",
       "split1_test_score            0.540541            0.504505            0.536036   \n",
       "split2_test_score            0.513514            0.531532            0.536036   \n",
       "split3_test_score            0.525959            0.514673            0.532731   \n",
       "split4_test_score            0.507901            0.562077            0.571106   \n",
       "mean_test_score              0.518484            0.532467            0.549146   \n",
       "std_test_score              0.0132251           0.0212977           0.0174518   \n",
       "rank_test_score                    24                  23                  22   \n",
       "\n",
       "                                   3                    4   \\\n",
       "mean_fit_time                0.003195            0.0030601   \n",
       "std_fit_time              0.000299377          0.000130784   \n",
       "mean_score_time             0.0116169            0.0120514   \n",
       "std_score_time            0.000310362          0.000739841   \n",
       "param_n_neighbors                   9                   11   \n",
       "params             {'n_neighbors': 9}  {'n_neighbors': 11}   \n",
       "split0_test_score             0.56982             0.578829   \n",
       "split1_test_score            0.558559             0.556306   \n",
       "split2_test_score            0.556306             0.572072   \n",
       "split3_test_score            0.546275             0.555305   \n",
       "split4_test_score            0.582393             0.568849   \n",
       "mean_test_score              0.562671             0.566272   \n",
       "std_test_score              0.0123798           0.00913838   \n",
       "rank_test_score                    21                   18   \n",
       "\n",
       "                                    5                    6   \\\n",
       "mean_fit_time               0.00333529           0.00359793   \n",
       "std_fit_time               0.000117424           0.00102857   \n",
       "mean_score_time              0.0133659            0.0126091   \n",
       "std_score_time             0.000765965          0.000947028   \n",
       "param_n_neighbors                   13                   15   \n",
       "params             {'n_neighbors': 13}  {'n_neighbors': 15}   \n",
       "split0_test_score             0.592342             0.576577   \n",
       "split1_test_score             0.560811             0.556306   \n",
       "split2_test_score             0.556306             0.563063   \n",
       "split3_test_score             0.544018             0.546275   \n",
       "split4_test_score             0.568849             0.573363   \n",
       "mean_test_score               0.564465             0.563117   \n",
       "std_test_score               0.0160895            0.0111012   \n",
       "rank_test_score                     19                   20   \n",
       "\n",
       "                                    7                    8   \\\n",
       "mean_fit_time                0.0030066           0.00316086   \n",
       "std_fit_time               0.000136957          0.000219671   \n",
       "mean_score_time              0.0118086            0.0121057   \n",
       "std_score_time             0.000472515          0.000542082   \n",
       "param_n_neighbors                   17                   19   \n",
       "params             {'n_neighbors': 17}  {'n_neighbors': 19}   \n",
       "split0_test_score             0.581081              0.56982   \n",
       "split1_test_score             0.572072             0.581081   \n",
       "split2_test_score             0.563063             0.565315   \n",
       "split3_test_score             0.546275             0.557562   \n",
       "split4_test_score             0.580135             0.580135   \n",
       "mean_test_score               0.568525             0.570783   \n",
       "std_test_score               0.0128835           0.00893459   \n",
       "rank_test_score                     13                    9   \n",
       "\n",
       "                                    9   ...                   14  \\\n",
       "mean_fit_time               0.00318012  ...           0.00312052   \n",
       "std_fit_time               0.000178661  ...          0.000248952   \n",
       "mean_score_time              0.0123737  ...            0.0129084   \n",
       "std_score_time             0.000501283  ...          0.000297164   \n",
       "param_n_neighbors                   21  ...                   31   \n",
       "params             {'n_neighbors': 21}  ...  {'n_neighbors': 31}   \n",
       "split0_test_score             0.585586  ...             0.585586   \n",
       "split1_test_score             0.574324  ...             0.574324   \n",
       "split2_test_score             0.565315  ...             0.558559   \n",
       "split3_test_score             0.555305  ...             0.566591   \n",
       "split4_test_score             0.580135  ...             0.575621   \n",
       "mean_test_score               0.572133  ...             0.572136   \n",
       "std_test_score               0.0107655  ...            0.0090875   \n",
       "rank_test_score                      5  ...                    3   \n",
       "\n",
       "                                    15                   16  \\\n",
       "mean_fit_time               0.00307908           0.00317192   \n",
       "std_fit_time                0.00010497          8.26353e-05   \n",
       "mean_score_time              0.0129228            0.0140081   \n",
       "std_score_time              0.00049489           0.00082914   \n",
       "param_n_neighbors                   33                   35   \n",
       "params             {'n_neighbors': 33}  {'n_neighbors': 35}   \n",
       "split0_test_score             0.585586             0.583333   \n",
       "split1_test_score             0.563063             0.581081   \n",
       "split2_test_score             0.565315             0.556306   \n",
       "split3_test_score             0.562077             0.564334   \n",
       "split4_test_score             0.571106             0.564334   \n",
       "mean_test_score               0.569429             0.569878   \n",
       "std_test_score              0.00866431            0.0105092   \n",
       "rank_test_score                     12                   11   \n",
       "\n",
       "                                    17                   18  \\\n",
       "mean_fit_time                0.0030736           0.00301619   \n",
       "std_fit_time               5.49565e-05          7.86046e-05   \n",
       "mean_score_time              0.0132026             0.013529   \n",
       "std_score_time             0.000339626          0.000633333   \n",
       "param_n_neighbors                   37                   39   \n",
       "params             {'n_neighbors': 37}  {'n_neighbors': 39}   \n",
       "split0_test_score             0.592342             0.587838   \n",
       "split1_test_score             0.576577             0.581081   \n",
       "split2_test_score             0.554054             0.556306   \n",
       "split3_test_score             0.566591             0.562077   \n",
       "split4_test_score             0.571106             0.577878   \n",
       "mean_test_score               0.572134             0.573036   \n",
       "std_test_score               0.0125441            0.0118933   \n",
       "rank_test_score                      4                    2   \n",
       "\n",
       "                                    19                   20  \\\n",
       "mean_fit_time               0.00323739           0.00325041   \n",
       "std_fit_time                0.00045274          0.000317031   \n",
       "mean_score_time               0.013174            0.0134081   \n",
       "std_score_time             0.000383672          0.000525647   \n",
       "param_n_neighbors                   41                   43   \n",
       "params             {'n_neighbors': 41}  {'n_neighbors': 43}   \n",
       "split0_test_score             0.587838             0.587838   \n",
       "split1_test_score             0.583333             0.581081   \n",
       "split2_test_score             0.560811             0.558559   \n",
       "split3_test_score             0.562077             0.555305   \n",
       "split4_test_score             0.582393             0.573363   \n",
       "mean_test_score                0.57529             0.571229   \n",
       "std_test_score               0.0114615            0.0125825   \n",
       "rank_test_score                      1                    8   \n",
       "\n",
       "                                    21                   22  \\\n",
       "mean_fit_time               0.00311894           0.00309911   \n",
       "std_fit_time               0.000144018          0.000250905   \n",
       "mean_score_time              0.0134915            0.0137475   \n",
       "std_score_time             0.000403557          0.000392289   \n",
       "param_n_neighbors                   45                   47   \n",
       "params             {'n_neighbors': 45}  {'n_neighbors': 47}   \n",
       "split0_test_score              0.59009             0.594595   \n",
       "split1_test_score             0.578829             0.587838   \n",
       "split2_test_score              0.54955              0.54955   \n",
       "split3_test_score             0.555305             0.557562   \n",
       "split4_test_score             0.577878             0.571106   \n",
       "mean_test_score                0.57033              0.57213   \n",
       "std_test_score               0.0153444            0.0171729   \n",
       "rank_test_score                     10                    6   \n",
       "\n",
       "                                    23  \n",
       "mean_fit_time               0.00309668  \n",
       "std_fit_time               0.000224166  \n",
       "mean_score_time              0.0138155  \n",
       "std_score_time             0.000325261  \n",
       "param_n_neighbors                   49  \n",
       "params             {'n_neighbors': 49}  \n",
       "split0_test_score              0.59009  \n",
       "split1_test_score              0.59009  \n",
       "split2_test_score             0.556306  \n",
       "split3_test_score             0.555305  \n",
       "split4_test_score             0.566591  \n",
       "mean_test_score               0.571677  \n",
       "std_test_score               0.0155451  \n",
       "rank_test_score                      7  \n",
       "\n",
       "[14 rows x 24 columns]"
      ]
     },
     "execution_count": 1322,
     "metadata": {},
     "output_type": "execute_result"
    }
   ],
   "source": [
    "pd.DataFrame(gsknn.cv_results_).T"
   ]
  },
  {
   "cell_type": "code",
   "execution_count": null,
   "metadata": {},
   "outputs": [],
   "source": []
  },
  {
   "cell_type": "code",
   "execution_count": 1327,
   "metadata": {
    "ExecuteTime": {
     "end_time": "2020-05-14T04:52:15.723815Z",
     "start_time": "2020-05-14T04:52:15.004751Z"
    }
   },
   "outputs": [
    {
     "name": "stdout",
     "output_type": "stream",
     "text": [
      "0.5837837837837838\n"
     ]
    }
   ],
   "source": [
    "## random forest\n",
    "\n",
    "rf = RandomForestClassifier(class_weight = 'balanced',\n",
    "                             criterion = 'entropy',\n",
    "                             max_depth = 40,\n",
    "                             max_features = 'log2')\n",
    "\n",
    "rf.fit(X_train, y_train)\n",
    "\n",
    "accuracy = rf.score(X_test, y_test) \n",
    "print(accuracy) \n",
    "\n",
    "# model_scores(rf, X_train, y_train)"
   ]
  },
  {
   "cell_type": "code",
   "execution_count": 1324,
   "metadata": {
    "ExecuteTime": {
     "end_time": "2020-05-14T04:51:30.399539Z",
     "start_time": "2020-05-14T04:51:30.396489Z"
    }
   },
   "outputs": [],
   "source": [
    "rf_params = {\"class_weight\" :['balanced'],'criterion': ('gini', 'entropy'), 'max_depth': [25,40,80],\n",
    "              'max_features': [1, 'sqrt', 'log2']}"
   ]
  },
  {
   "cell_type": "code",
   "execution_count": 1325,
   "metadata": {
    "ExecuteTime": {
     "end_time": "2020-05-14T04:52:07.534892Z",
     "start_time": "2020-05-14T04:51:31.017639Z"
    }
   },
   "outputs": [
    {
     "data": {
      "text/plain": [
       "GridSearchCV(cv=None, error_score=nan,\n",
       "             estimator=RandomForestClassifier(bootstrap=True, ccp_alpha=0.0,\n",
       "                                              class_weight='balanced',\n",
       "                                              criterion='entropy', max_depth=25,\n",
       "                                              max_features='log2',\n",
       "                                              max_leaf_nodes=None,\n",
       "                                              max_samples=None,\n",
       "                                              min_impurity_decrease=0.0,\n",
       "                                              min_impurity_split=None,\n",
       "                                              min_samples_leaf=1,\n",
       "                                              min_samples_split=2,\n",
       "                                              min_weight_fraction_leaf=0.0,\n",
       "                                              n_estimators=100, n_jobs=None,\n",
       "                                              oob_score=False,\n",
       "                                              random_state=None, verbose=0,\n",
       "                                              warm_start=False),\n",
       "             iid='deprecated', n_jobs=None,\n",
       "             param_grid={'class_weight': ['balanced'],\n",
       "                         'criterion': ('gini', 'entropy'),\n",
       "                         'max_depth': [25, 40, 80],\n",
       "                         'max_features': [1, 'sqrt', 'log2']},\n",
       "             pre_dispatch='2*n_jobs', refit=True, return_train_score=False,\n",
       "             scoring=None, verbose=0)"
      ]
     },
     "execution_count": 1325,
     "metadata": {},
     "output_type": "execute_result"
    }
   ],
   "source": [
    "gsrf = GridSearchCV(rf, \n",
    "                    rf_params)\n",
    "gsrf.fit(X_train, y_train)"
   ]
  },
  {
   "cell_type": "code",
   "execution_count": 1326,
   "metadata": {
    "ExecuteTime": {
     "end_time": "2020-05-14T04:52:08.008592Z",
     "start_time": "2020-05-14T04:52:07.974582Z"
    }
   },
   "outputs": [
    {
     "data": {
      "text/html": [
       "<div>\n",
       "<style scoped>\n",
       "    .dataframe tbody tr th:only-of-type {\n",
       "        vertical-align: middle;\n",
       "    }\n",
       "\n",
       "    .dataframe tbody tr th {\n",
       "        vertical-align: top;\n",
       "    }\n",
       "\n",
       "    .dataframe thead th {\n",
       "        text-align: right;\n",
       "    }\n",
       "</style>\n",
       "<table border=\"1\" class=\"dataframe\">\n",
       "  <thead>\n",
       "    <tr style=\"text-align: right;\">\n",
       "      <th></th>\n",
       "      <th>0</th>\n",
       "      <th>1</th>\n",
       "      <th>2</th>\n",
       "      <th>3</th>\n",
       "      <th>4</th>\n",
       "      <th>5</th>\n",
       "      <th>6</th>\n",
       "      <th>7</th>\n",
       "      <th>8</th>\n",
       "      <th>9</th>\n",
       "      <th>10</th>\n",
       "      <th>11</th>\n",
       "      <th>12</th>\n",
       "      <th>13</th>\n",
       "      <th>14</th>\n",
       "      <th>15</th>\n",
       "      <th>16</th>\n",
       "      <th>17</th>\n",
       "    </tr>\n",
       "  </thead>\n",
       "  <tbody>\n",
       "    <tr>\n",
       "      <th>mean_fit_time</th>\n",
       "      <td>0.20418</td>\n",
       "      <td>0.265069</td>\n",
       "      <td>0.261312</td>\n",
       "      <td>0.199941</td>\n",
       "      <td>0.258561</td>\n",
       "      <td>0.25946</td>\n",
       "      <td>0.199466</td>\n",
       "      <td>0.260744</td>\n",
       "      <td>0.258087</td>\n",
       "      <td>0.407713</td>\n",
       "      <td>0.575406</td>\n",
       "      <td>0.572094</td>\n",
       "      <td>0.404636</td>\n",
       "      <td>0.574572</td>\n",
       "      <td>0.568753</td>\n",
       "      <td>0.402637</td>\n",
       "      <td>0.587956</td>\n",
       "      <td>0.626952</td>\n",
       "    </tr>\n",
       "    <tr>\n",
       "      <th>std_fit_time</th>\n",
       "      <td>0.00927923</td>\n",
       "      <td>0.00739025</td>\n",
       "      <td>0.0027195</td>\n",
       "      <td>0.0013928</td>\n",
       "      <td>0.0014718</td>\n",
       "      <td>0.00282682</td>\n",
       "      <td>0.00179886</td>\n",
       "      <td>0.00361363</td>\n",
       "      <td>0.00115296</td>\n",
       "      <td>0.0179795</td>\n",
       "      <td>0.0120586</td>\n",
       "      <td>0.0130625</td>\n",
       "      <td>0.0151294</td>\n",
       "      <td>0.0158014</td>\n",
       "      <td>0.0118793</td>\n",
       "      <td>0.0134654</td>\n",
       "      <td>0.00892602</td>\n",
       "      <td>0.0438098</td>\n",
       "    </tr>\n",
       "    <tr>\n",
       "      <th>mean_score_time</th>\n",
       "      <td>0.0151642</td>\n",
       "      <td>0.0150477</td>\n",
       "      <td>0.0147654</td>\n",
       "      <td>0.0147791</td>\n",
       "      <td>0.0149771</td>\n",
       "      <td>0.0145866</td>\n",
       "      <td>0.0150001</td>\n",
       "      <td>0.014455</td>\n",
       "      <td>0.0148261</td>\n",
       "      <td>0.0150587</td>\n",
       "      <td>0.0142219</td>\n",
       "      <td>0.0143792</td>\n",
       "      <td>0.0147377</td>\n",
       "      <td>0.0142142</td>\n",
       "      <td>0.0146426</td>\n",
       "      <td>0.0144598</td>\n",
       "      <td>0.0143979</td>\n",
       "      <td>0.0157276</td>\n",
       "    </tr>\n",
       "    <tr>\n",
       "      <th>std_score_time</th>\n",
       "      <td>0.000928516</td>\n",
       "      <td>0.000686082</td>\n",
       "      <td>0.000342848</td>\n",
       "      <td>0.000312513</td>\n",
       "      <td>0.000891939</td>\n",
       "      <td>0.00054085</td>\n",
       "      <td>0.000481043</td>\n",
       "      <td>0.000459589</td>\n",
       "      <td>0.000658747</td>\n",
       "      <td>0.000355844</td>\n",
       "      <td>0.000249608</td>\n",
       "      <td>0.000346961</td>\n",
       "      <td>0.000469235</td>\n",
       "      <td>0.000348905</td>\n",
       "      <td>0.000394852</td>\n",
       "      <td>0.000526946</td>\n",
       "      <td>0.000936534</td>\n",
       "      <td>0.00207682</td>\n",
       "    </tr>\n",
       "    <tr>\n",
       "      <th>param_class_weight</th>\n",
       "      <td>balanced</td>\n",
       "      <td>balanced</td>\n",
       "      <td>balanced</td>\n",
       "      <td>balanced</td>\n",
       "      <td>balanced</td>\n",
       "      <td>balanced</td>\n",
       "      <td>balanced</td>\n",
       "      <td>balanced</td>\n",
       "      <td>balanced</td>\n",
       "      <td>balanced</td>\n",
       "      <td>balanced</td>\n",
       "      <td>balanced</td>\n",
       "      <td>balanced</td>\n",
       "      <td>balanced</td>\n",
       "      <td>balanced</td>\n",
       "      <td>balanced</td>\n",
       "      <td>balanced</td>\n",
       "      <td>balanced</td>\n",
       "    </tr>\n",
       "    <tr>\n",
       "      <th>param_criterion</th>\n",
       "      <td>gini</td>\n",
       "      <td>gini</td>\n",
       "      <td>gini</td>\n",
       "      <td>gini</td>\n",
       "      <td>gini</td>\n",
       "      <td>gini</td>\n",
       "      <td>gini</td>\n",
       "      <td>gini</td>\n",
       "      <td>gini</td>\n",
       "      <td>entropy</td>\n",
       "      <td>entropy</td>\n",
       "      <td>entropy</td>\n",
       "      <td>entropy</td>\n",
       "      <td>entropy</td>\n",
       "      <td>entropy</td>\n",
       "      <td>entropy</td>\n",
       "      <td>entropy</td>\n",
       "      <td>entropy</td>\n",
       "    </tr>\n",
       "    <tr>\n",
       "      <th>param_max_depth</th>\n",
       "      <td>25</td>\n",
       "      <td>25</td>\n",
       "      <td>25</td>\n",
       "      <td>40</td>\n",
       "      <td>40</td>\n",
       "      <td>40</td>\n",
       "      <td>80</td>\n",
       "      <td>80</td>\n",
       "      <td>80</td>\n",
       "      <td>25</td>\n",
       "      <td>25</td>\n",
       "      <td>25</td>\n",
       "      <td>40</td>\n",
       "      <td>40</td>\n",
       "      <td>40</td>\n",
       "      <td>80</td>\n",
       "      <td>80</td>\n",
       "      <td>80</td>\n",
       "    </tr>\n",
       "    <tr>\n",
       "      <th>param_max_features</th>\n",
       "      <td>1</td>\n",
       "      <td>sqrt</td>\n",
       "      <td>log2</td>\n",
       "      <td>1</td>\n",
       "      <td>sqrt</td>\n",
       "      <td>log2</td>\n",
       "      <td>1</td>\n",
       "      <td>sqrt</td>\n",
       "      <td>log2</td>\n",
       "      <td>1</td>\n",
       "      <td>sqrt</td>\n",
       "      <td>log2</td>\n",
       "      <td>1</td>\n",
       "      <td>sqrt</td>\n",
       "      <td>log2</td>\n",
       "      <td>1</td>\n",
       "      <td>sqrt</td>\n",
       "      <td>log2</td>\n",
       "    </tr>\n",
       "    <tr>\n",
       "      <th>params</th>\n",
       "      <td>{'class_weight': 'balanced', 'criterion': 'gin...</td>\n",
       "      <td>{'class_weight': 'balanced', 'criterion': 'gin...</td>\n",
       "      <td>{'class_weight': 'balanced', 'criterion': 'gin...</td>\n",
       "      <td>{'class_weight': 'balanced', 'criterion': 'gin...</td>\n",
       "      <td>{'class_weight': 'balanced', 'criterion': 'gin...</td>\n",
       "      <td>{'class_weight': 'balanced', 'criterion': 'gin...</td>\n",
       "      <td>{'class_weight': 'balanced', 'criterion': 'gin...</td>\n",
       "      <td>{'class_weight': 'balanced', 'criterion': 'gin...</td>\n",
       "      <td>{'class_weight': 'balanced', 'criterion': 'gin...</td>\n",
       "      <td>{'class_weight': 'balanced', 'criterion': 'ent...</td>\n",
       "      <td>{'class_weight': 'balanced', 'criterion': 'ent...</td>\n",
       "      <td>{'class_weight': 'balanced', 'criterion': 'ent...</td>\n",
       "      <td>{'class_weight': 'balanced', 'criterion': 'ent...</td>\n",
       "      <td>{'class_weight': 'balanced', 'criterion': 'ent...</td>\n",
       "      <td>{'class_weight': 'balanced', 'criterion': 'ent...</td>\n",
       "      <td>{'class_weight': 'balanced', 'criterion': 'ent...</td>\n",
       "      <td>{'class_weight': 'balanced', 'criterion': 'ent...</td>\n",
       "      <td>{'class_weight': 'balanced', 'criterion': 'ent...</td>\n",
       "    </tr>\n",
       "    <tr>\n",
       "      <th>split0_test_score</th>\n",
       "      <td>0.56982</td>\n",
       "      <td>0.574324</td>\n",
       "      <td>0.565315</td>\n",
       "      <td>0.56982</td>\n",
       "      <td>0.565315</td>\n",
       "      <td>0.563063</td>\n",
       "      <td>0.563063</td>\n",
       "      <td>0.578829</td>\n",
       "      <td>0.563063</td>\n",
       "      <td>0.54955</td>\n",
       "      <td>0.572072</td>\n",
       "      <td>0.565315</td>\n",
       "      <td>0.567568</td>\n",
       "      <td>0.567568</td>\n",
       "      <td>0.576577</td>\n",
       "      <td>0.563063</td>\n",
       "      <td>0.560811</td>\n",
       "      <td>0.565315</td>\n",
       "    </tr>\n",
       "    <tr>\n",
       "      <th>split1_test_score</th>\n",
       "      <td>0.565315</td>\n",
       "      <td>0.563063</td>\n",
       "      <td>0.565315</td>\n",
       "      <td>0.565315</td>\n",
       "      <td>0.560811</td>\n",
       "      <td>0.56982</td>\n",
       "      <td>0.572072</td>\n",
       "      <td>0.567568</td>\n",
       "      <td>0.551802</td>\n",
       "      <td>0.574324</td>\n",
       "      <td>0.563063</td>\n",
       "      <td>0.560811</td>\n",
       "      <td>0.547297</td>\n",
       "      <td>0.574324</td>\n",
       "      <td>0.547297</td>\n",
       "      <td>0.560811</td>\n",
       "      <td>0.556306</td>\n",
       "      <td>0.554054</td>\n",
       "    </tr>\n",
       "    <tr>\n",
       "      <th>split2_test_score</th>\n",
       "      <td>0.558559</td>\n",
       "      <td>0.558559</td>\n",
       "      <td>0.54955</td>\n",
       "      <td>0.551802</td>\n",
       "      <td>0.556306</td>\n",
       "      <td>0.563063</td>\n",
       "      <td>0.558559</td>\n",
       "      <td>0.551802</td>\n",
       "      <td>0.578829</td>\n",
       "      <td>0.558559</td>\n",
       "      <td>0.574324</td>\n",
       "      <td>0.565315</td>\n",
       "      <td>0.556306</td>\n",
       "      <td>0.551802</td>\n",
       "      <td>0.551802</td>\n",
       "      <td>0.563063</td>\n",
       "      <td>0.560811</td>\n",
       "      <td>0.551802</td>\n",
       "    </tr>\n",
       "    <tr>\n",
       "      <th>split3_test_score</th>\n",
       "      <td>0.528217</td>\n",
       "      <td>0.525959</td>\n",
       "      <td>0.512415</td>\n",
       "      <td>0.519187</td>\n",
       "      <td>0.514673</td>\n",
       "      <td>0.510158</td>\n",
       "      <td>0.51693</td>\n",
       "      <td>0.519187</td>\n",
       "      <td>0.523702</td>\n",
       "      <td>0.525959</td>\n",
       "      <td>0.521445</td>\n",
       "      <td>0.51693</td>\n",
       "      <td>0.519187</td>\n",
       "      <td>0.503386</td>\n",
       "      <td>0.519187</td>\n",
       "      <td>0.521445</td>\n",
       "      <td>0.51693</td>\n",
       "      <td>0.512415</td>\n",
       "    </tr>\n",
       "    <tr>\n",
       "      <th>split4_test_score</th>\n",
       "      <td>0.564334</td>\n",
       "      <td>0.562077</td>\n",
       "      <td>0.555305</td>\n",
       "      <td>0.557562</td>\n",
       "      <td>0.55079</td>\n",
       "      <td>0.555305</td>\n",
       "      <td>0.566591</td>\n",
       "      <td>0.564334</td>\n",
       "      <td>0.559819</td>\n",
       "      <td>0.559819</td>\n",
       "      <td>0.568849</td>\n",
       "      <td>0.566591</td>\n",
       "      <td>0.575621</td>\n",
       "      <td>0.548533</td>\n",
       "      <td>0.539503</td>\n",
       "      <td>0.562077</td>\n",
       "      <td>0.559819</td>\n",
       "      <td>0.541761</td>\n",
       "    </tr>\n",
       "    <tr>\n",
       "      <th>mean_test_score</th>\n",
       "      <td>0.557249</td>\n",
       "      <td>0.556796</td>\n",
       "      <td>0.54958</td>\n",
       "      <td>0.552737</td>\n",
       "      <td>0.549579</td>\n",
       "      <td>0.552282</td>\n",
       "      <td>0.555443</td>\n",
       "      <td>0.556344</td>\n",
       "      <td>0.555443</td>\n",
       "      <td>0.553642</td>\n",
       "      <td>0.559951</td>\n",
       "      <td>0.554993</td>\n",
       "      <td>0.553196</td>\n",
       "      <td>0.549122</td>\n",
       "      <td>0.546873</td>\n",
       "      <td>0.554092</td>\n",
       "      <td>0.550935</td>\n",
       "      <td>0.545069</td>\n",
       "    </tr>\n",
       "    <tr>\n",
       "      <th>std_test_score</th>\n",
       "      <td>0.0149524</td>\n",
       "      <td>0.0162997</td>\n",
       "      <td>0.0195407</td>\n",
       "      <td>0.0178873</td>\n",
       "      <td>0.018105</td>\n",
       "      <td>0.0215574</td>\n",
       "      <td>0.0197577</td>\n",
       "      <td>0.0204774</td>\n",
       "      <td>0.0181376</td>\n",
       "      <td>0.0159572</td>\n",
       "      <td>0.0196219</td>\n",
       "      <td>0.0191325</td>\n",
       "      <td>0.0195472</td>\n",
       "      <td>0.024798</td>\n",
       "      <td>0.0185881</td>\n",
       "      <td>0.0163444</td>\n",
       "      <td>0.0170832</td>\n",
       "      <td>0.0179621</td>\n",
       "    </tr>\n",
       "    <tr>\n",
       "      <th>rank_test_score</th>\n",
       "      <td>2</td>\n",
       "      <td>3</td>\n",
       "      <td>14</td>\n",
       "      <td>11</td>\n",
       "      <td>15</td>\n",
       "      <td>12</td>\n",
       "      <td>5</td>\n",
       "      <td>4</td>\n",
       "      <td>6</td>\n",
       "      <td>9</td>\n",
       "      <td>1</td>\n",
       "      <td>7</td>\n",
       "      <td>10</td>\n",
       "      <td>16</td>\n",
       "      <td>17</td>\n",
       "      <td>8</td>\n",
       "      <td>13</td>\n",
       "      <td>18</td>\n",
       "    </tr>\n",
       "  </tbody>\n",
       "</table>\n",
       "</div>"
      ],
      "text/plain": [
       "                                                                    0  \\\n",
       "mean_fit_time                                                 0.20418   \n",
       "std_fit_time                                               0.00927923   \n",
       "mean_score_time                                             0.0151642   \n",
       "std_score_time                                            0.000928516   \n",
       "param_class_weight                                           balanced   \n",
       "param_criterion                                                  gini   \n",
       "param_max_depth                                                    25   \n",
       "param_max_features                                                  1   \n",
       "params              {'class_weight': 'balanced', 'criterion': 'gin...   \n",
       "split0_test_score                                             0.56982   \n",
       "split1_test_score                                            0.565315   \n",
       "split2_test_score                                            0.558559   \n",
       "split3_test_score                                            0.528217   \n",
       "split4_test_score                                            0.564334   \n",
       "mean_test_score                                              0.557249   \n",
       "std_test_score                                              0.0149524   \n",
       "rank_test_score                                                     2   \n",
       "\n",
       "                                                                    1  \\\n",
       "mean_fit_time                                                0.265069   \n",
       "std_fit_time                                               0.00739025   \n",
       "mean_score_time                                             0.0150477   \n",
       "std_score_time                                            0.000686082   \n",
       "param_class_weight                                           balanced   \n",
       "param_criterion                                                  gini   \n",
       "param_max_depth                                                    25   \n",
       "param_max_features                                               sqrt   \n",
       "params              {'class_weight': 'balanced', 'criterion': 'gin...   \n",
       "split0_test_score                                            0.574324   \n",
       "split1_test_score                                            0.563063   \n",
       "split2_test_score                                            0.558559   \n",
       "split3_test_score                                            0.525959   \n",
       "split4_test_score                                            0.562077   \n",
       "mean_test_score                                              0.556796   \n",
       "std_test_score                                              0.0162997   \n",
       "rank_test_score                                                     3   \n",
       "\n",
       "                                                                    2  \\\n",
       "mean_fit_time                                                0.261312   \n",
       "std_fit_time                                                0.0027195   \n",
       "mean_score_time                                             0.0147654   \n",
       "std_score_time                                            0.000342848   \n",
       "param_class_weight                                           balanced   \n",
       "param_criterion                                                  gini   \n",
       "param_max_depth                                                    25   \n",
       "param_max_features                                               log2   \n",
       "params              {'class_weight': 'balanced', 'criterion': 'gin...   \n",
       "split0_test_score                                            0.565315   \n",
       "split1_test_score                                            0.565315   \n",
       "split2_test_score                                             0.54955   \n",
       "split3_test_score                                            0.512415   \n",
       "split4_test_score                                            0.555305   \n",
       "mean_test_score                                               0.54958   \n",
       "std_test_score                                              0.0195407   \n",
       "rank_test_score                                                    14   \n",
       "\n",
       "                                                                    3  \\\n",
       "mean_fit_time                                                0.199941   \n",
       "std_fit_time                                                0.0013928   \n",
       "mean_score_time                                             0.0147791   \n",
       "std_score_time                                            0.000312513   \n",
       "param_class_weight                                           balanced   \n",
       "param_criterion                                                  gini   \n",
       "param_max_depth                                                    40   \n",
       "param_max_features                                                  1   \n",
       "params              {'class_weight': 'balanced', 'criterion': 'gin...   \n",
       "split0_test_score                                             0.56982   \n",
       "split1_test_score                                            0.565315   \n",
       "split2_test_score                                            0.551802   \n",
       "split3_test_score                                            0.519187   \n",
       "split4_test_score                                            0.557562   \n",
       "mean_test_score                                              0.552737   \n",
       "std_test_score                                              0.0178873   \n",
       "rank_test_score                                                    11   \n",
       "\n",
       "                                                                    4  \\\n",
       "mean_fit_time                                                0.258561   \n",
       "std_fit_time                                                0.0014718   \n",
       "mean_score_time                                             0.0149771   \n",
       "std_score_time                                            0.000891939   \n",
       "param_class_weight                                           balanced   \n",
       "param_criterion                                                  gini   \n",
       "param_max_depth                                                    40   \n",
       "param_max_features                                               sqrt   \n",
       "params              {'class_weight': 'balanced', 'criterion': 'gin...   \n",
       "split0_test_score                                            0.565315   \n",
       "split1_test_score                                            0.560811   \n",
       "split2_test_score                                            0.556306   \n",
       "split3_test_score                                            0.514673   \n",
       "split4_test_score                                             0.55079   \n",
       "mean_test_score                                              0.549579   \n",
       "std_test_score                                               0.018105   \n",
       "rank_test_score                                                    15   \n",
       "\n",
       "                                                                    5  \\\n",
       "mean_fit_time                                                 0.25946   \n",
       "std_fit_time                                               0.00282682   \n",
       "mean_score_time                                             0.0145866   \n",
       "std_score_time                                             0.00054085   \n",
       "param_class_weight                                           balanced   \n",
       "param_criterion                                                  gini   \n",
       "param_max_depth                                                    40   \n",
       "param_max_features                                               log2   \n",
       "params              {'class_weight': 'balanced', 'criterion': 'gin...   \n",
       "split0_test_score                                            0.563063   \n",
       "split1_test_score                                             0.56982   \n",
       "split2_test_score                                            0.563063   \n",
       "split3_test_score                                            0.510158   \n",
       "split4_test_score                                            0.555305   \n",
       "mean_test_score                                              0.552282   \n",
       "std_test_score                                              0.0215574   \n",
       "rank_test_score                                                    12   \n",
       "\n",
       "                                                                    6  \\\n",
       "mean_fit_time                                                0.199466   \n",
       "std_fit_time                                               0.00179886   \n",
       "mean_score_time                                             0.0150001   \n",
       "std_score_time                                            0.000481043   \n",
       "param_class_weight                                           balanced   \n",
       "param_criterion                                                  gini   \n",
       "param_max_depth                                                    80   \n",
       "param_max_features                                                  1   \n",
       "params              {'class_weight': 'balanced', 'criterion': 'gin...   \n",
       "split0_test_score                                            0.563063   \n",
       "split1_test_score                                            0.572072   \n",
       "split2_test_score                                            0.558559   \n",
       "split3_test_score                                             0.51693   \n",
       "split4_test_score                                            0.566591   \n",
       "mean_test_score                                              0.555443   \n",
       "std_test_score                                              0.0197577   \n",
       "rank_test_score                                                     5   \n",
       "\n",
       "                                                                    7  \\\n",
       "mean_fit_time                                                0.260744   \n",
       "std_fit_time                                               0.00361363   \n",
       "mean_score_time                                              0.014455   \n",
       "std_score_time                                            0.000459589   \n",
       "param_class_weight                                           balanced   \n",
       "param_criterion                                                  gini   \n",
       "param_max_depth                                                    80   \n",
       "param_max_features                                               sqrt   \n",
       "params              {'class_weight': 'balanced', 'criterion': 'gin...   \n",
       "split0_test_score                                            0.578829   \n",
       "split1_test_score                                            0.567568   \n",
       "split2_test_score                                            0.551802   \n",
       "split3_test_score                                            0.519187   \n",
       "split4_test_score                                            0.564334   \n",
       "mean_test_score                                              0.556344   \n",
       "std_test_score                                              0.0204774   \n",
       "rank_test_score                                                     4   \n",
       "\n",
       "                                                                    8  \\\n",
       "mean_fit_time                                                0.258087   \n",
       "std_fit_time                                               0.00115296   \n",
       "mean_score_time                                             0.0148261   \n",
       "std_score_time                                            0.000658747   \n",
       "param_class_weight                                           balanced   \n",
       "param_criterion                                                  gini   \n",
       "param_max_depth                                                    80   \n",
       "param_max_features                                               log2   \n",
       "params              {'class_weight': 'balanced', 'criterion': 'gin...   \n",
       "split0_test_score                                            0.563063   \n",
       "split1_test_score                                            0.551802   \n",
       "split2_test_score                                            0.578829   \n",
       "split3_test_score                                            0.523702   \n",
       "split4_test_score                                            0.559819   \n",
       "mean_test_score                                              0.555443   \n",
       "std_test_score                                              0.0181376   \n",
       "rank_test_score                                                     6   \n",
       "\n",
       "                                                                    9  \\\n",
       "mean_fit_time                                                0.407713   \n",
       "std_fit_time                                                0.0179795   \n",
       "mean_score_time                                             0.0150587   \n",
       "std_score_time                                            0.000355844   \n",
       "param_class_weight                                           balanced   \n",
       "param_criterion                                               entropy   \n",
       "param_max_depth                                                    25   \n",
       "param_max_features                                                  1   \n",
       "params              {'class_weight': 'balanced', 'criterion': 'ent...   \n",
       "split0_test_score                                             0.54955   \n",
       "split1_test_score                                            0.574324   \n",
       "split2_test_score                                            0.558559   \n",
       "split3_test_score                                            0.525959   \n",
       "split4_test_score                                            0.559819   \n",
       "mean_test_score                                              0.553642   \n",
       "std_test_score                                              0.0159572   \n",
       "rank_test_score                                                     9   \n",
       "\n",
       "                                                                   10  \\\n",
       "mean_fit_time                                                0.575406   \n",
       "std_fit_time                                                0.0120586   \n",
       "mean_score_time                                             0.0142219   \n",
       "std_score_time                                            0.000249608   \n",
       "param_class_weight                                           balanced   \n",
       "param_criterion                                               entropy   \n",
       "param_max_depth                                                    25   \n",
       "param_max_features                                               sqrt   \n",
       "params              {'class_weight': 'balanced', 'criterion': 'ent...   \n",
       "split0_test_score                                            0.572072   \n",
       "split1_test_score                                            0.563063   \n",
       "split2_test_score                                            0.574324   \n",
       "split3_test_score                                            0.521445   \n",
       "split4_test_score                                            0.568849   \n",
       "mean_test_score                                              0.559951   \n",
       "std_test_score                                              0.0196219   \n",
       "rank_test_score                                                     1   \n",
       "\n",
       "                                                                   11  \\\n",
       "mean_fit_time                                                0.572094   \n",
       "std_fit_time                                                0.0130625   \n",
       "mean_score_time                                             0.0143792   \n",
       "std_score_time                                            0.000346961   \n",
       "param_class_weight                                           balanced   \n",
       "param_criterion                                               entropy   \n",
       "param_max_depth                                                    25   \n",
       "param_max_features                                               log2   \n",
       "params              {'class_weight': 'balanced', 'criterion': 'ent...   \n",
       "split0_test_score                                            0.565315   \n",
       "split1_test_score                                            0.560811   \n",
       "split2_test_score                                            0.565315   \n",
       "split3_test_score                                             0.51693   \n",
       "split4_test_score                                            0.566591   \n",
       "mean_test_score                                              0.554993   \n",
       "std_test_score                                              0.0191325   \n",
       "rank_test_score                                                     7   \n",
       "\n",
       "                                                                   12  \\\n",
       "mean_fit_time                                                0.404636   \n",
       "std_fit_time                                                0.0151294   \n",
       "mean_score_time                                             0.0147377   \n",
       "std_score_time                                            0.000469235   \n",
       "param_class_weight                                           balanced   \n",
       "param_criterion                                               entropy   \n",
       "param_max_depth                                                    40   \n",
       "param_max_features                                                  1   \n",
       "params              {'class_weight': 'balanced', 'criterion': 'ent...   \n",
       "split0_test_score                                            0.567568   \n",
       "split1_test_score                                            0.547297   \n",
       "split2_test_score                                            0.556306   \n",
       "split3_test_score                                            0.519187   \n",
       "split4_test_score                                            0.575621   \n",
       "mean_test_score                                              0.553196   \n",
       "std_test_score                                              0.0195472   \n",
       "rank_test_score                                                    10   \n",
       "\n",
       "                                                                   13  \\\n",
       "mean_fit_time                                                0.574572   \n",
       "std_fit_time                                                0.0158014   \n",
       "mean_score_time                                             0.0142142   \n",
       "std_score_time                                            0.000348905   \n",
       "param_class_weight                                           balanced   \n",
       "param_criterion                                               entropy   \n",
       "param_max_depth                                                    40   \n",
       "param_max_features                                               sqrt   \n",
       "params              {'class_weight': 'balanced', 'criterion': 'ent...   \n",
       "split0_test_score                                            0.567568   \n",
       "split1_test_score                                            0.574324   \n",
       "split2_test_score                                            0.551802   \n",
       "split3_test_score                                            0.503386   \n",
       "split4_test_score                                            0.548533   \n",
       "mean_test_score                                              0.549122   \n",
       "std_test_score                                               0.024798   \n",
       "rank_test_score                                                    16   \n",
       "\n",
       "                                                                   14  \\\n",
       "mean_fit_time                                                0.568753   \n",
       "std_fit_time                                                0.0118793   \n",
       "mean_score_time                                             0.0146426   \n",
       "std_score_time                                            0.000394852   \n",
       "param_class_weight                                           balanced   \n",
       "param_criterion                                               entropy   \n",
       "param_max_depth                                                    40   \n",
       "param_max_features                                               log2   \n",
       "params              {'class_weight': 'balanced', 'criterion': 'ent...   \n",
       "split0_test_score                                            0.576577   \n",
       "split1_test_score                                            0.547297   \n",
       "split2_test_score                                            0.551802   \n",
       "split3_test_score                                            0.519187   \n",
       "split4_test_score                                            0.539503   \n",
       "mean_test_score                                              0.546873   \n",
       "std_test_score                                              0.0185881   \n",
       "rank_test_score                                                    17   \n",
       "\n",
       "                                                                   15  \\\n",
       "mean_fit_time                                                0.402637   \n",
       "std_fit_time                                                0.0134654   \n",
       "mean_score_time                                             0.0144598   \n",
       "std_score_time                                            0.000526946   \n",
       "param_class_weight                                           balanced   \n",
       "param_criterion                                               entropy   \n",
       "param_max_depth                                                    80   \n",
       "param_max_features                                                  1   \n",
       "params              {'class_weight': 'balanced', 'criterion': 'ent...   \n",
       "split0_test_score                                            0.563063   \n",
       "split1_test_score                                            0.560811   \n",
       "split2_test_score                                            0.563063   \n",
       "split3_test_score                                            0.521445   \n",
       "split4_test_score                                            0.562077   \n",
       "mean_test_score                                              0.554092   \n",
       "std_test_score                                              0.0163444   \n",
       "rank_test_score                                                     8   \n",
       "\n",
       "                                                                   16  \\\n",
       "mean_fit_time                                                0.587956   \n",
       "std_fit_time                                               0.00892602   \n",
       "mean_score_time                                             0.0143979   \n",
       "std_score_time                                            0.000936534   \n",
       "param_class_weight                                           balanced   \n",
       "param_criterion                                               entropy   \n",
       "param_max_depth                                                    80   \n",
       "param_max_features                                               sqrt   \n",
       "params              {'class_weight': 'balanced', 'criterion': 'ent...   \n",
       "split0_test_score                                            0.560811   \n",
       "split1_test_score                                            0.556306   \n",
       "split2_test_score                                            0.560811   \n",
       "split3_test_score                                             0.51693   \n",
       "split4_test_score                                            0.559819   \n",
       "mean_test_score                                              0.550935   \n",
       "std_test_score                                              0.0170832   \n",
       "rank_test_score                                                    13   \n",
       "\n",
       "                                                                   17  \n",
       "mean_fit_time                                                0.626952  \n",
       "std_fit_time                                                0.0438098  \n",
       "mean_score_time                                             0.0157276  \n",
       "std_score_time                                             0.00207682  \n",
       "param_class_weight                                           balanced  \n",
       "param_criterion                                               entropy  \n",
       "param_max_depth                                                    80  \n",
       "param_max_features                                               log2  \n",
       "params              {'class_weight': 'balanced', 'criterion': 'ent...  \n",
       "split0_test_score                                            0.565315  \n",
       "split1_test_score                                            0.554054  \n",
       "split2_test_score                                            0.551802  \n",
       "split3_test_score                                            0.512415  \n",
       "split4_test_score                                            0.541761  \n",
       "mean_test_score                                              0.545069  \n",
       "std_test_score                                              0.0179621  \n",
       "rank_test_score                                                    18  "
      ]
     },
     "execution_count": 1326,
     "metadata": {},
     "output_type": "execute_result"
    }
   ],
   "source": [
    "pd.DataFrame(gsrf.cv_results_).T"
   ]
  },
  {
   "cell_type": "code",
   "execution_count": 1308,
   "metadata": {
    "ExecuteTime": {
     "end_time": "2020-05-14T04:49:28.972426Z",
     "start_time": "2020-05-14T04:49:28.968601Z"
    }
   },
   "outputs": [
    {
     "data": {
      "text/plain": [
       "{'class_weight': 'balanced',\n",
       " 'criterion': 'gini',\n",
       " 'max_depth': 40,\n",
       " 'max_features': 1}"
      ]
     },
     "execution_count": 1308,
     "metadata": {},
     "output_type": "execute_result"
    }
   ],
   "source": [
    "gsrf.best_params_"
   ]
  },
  {
   "cell_type": "code",
   "execution_count": null,
   "metadata": {},
   "outputs": [],
   "source": []
  },
  {
   "cell_type": "code",
   "execution_count": 91,
   "metadata": {
    "ExecuteTime": {
     "end_time": "2020-05-14T05:44:17.570029Z",
     "start_time": "2020-05-14T05:44:15.672470Z"
    }
   },
   "outputs": [
    {
     "name": "stdout",
     "output_type": "stream",
     "text": [
      "0.5981981981981982\n"
     ]
    }
   ],
   "source": [
    "# GradientBoostingClassifier\n",
    "gbc = GradientBoostingClassifier(learning_rate=0.05)\n",
    "\n",
    "gbc.fit(X_train, y_train)\n",
    "\n",
    "accuracy = gbc.score(X_test, y_test) \n",
    "print(accuracy) \n"
   ]
  },
  {
   "cell_type": "code",
   "execution_count": 92,
   "metadata": {
    "ExecuteTime": {
     "end_time": "2020-05-14T05:44:20.376681Z",
     "start_time": "2020-05-14T05:44:20.364063Z"
    }
   },
   "outputs": [],
   "source": [
    "gbc_predictions = gbc.predict(X_test)  \n",
    "cm = confusion_matrix(y_test, gbc_predictions) "
   ]
  },
  {
   "cell_type": "code",
   "execution_count": null,
   "metadata": {},
   "outputs": [],
   "source": []
  },
  {
   "cell_type": "code",
   "execution_count": null,
   "metadata": {},
   "outputs": [],
   "source": []
  },
  {
   "cell_type": "markdown",
   "metadata": {},
   "source": [
    "## multilabel"
   ]
  },
  {
   "cell_type": "code",
   "execution_count": 1087,
   "metadata": {
    "ExecuteTime": {
     "end_time": "2020-05-14T04:05:32.322611Z",
     "start_time": "2020-05-14T04:05:32.311828Z"
    }
   },
   "outputs": [],
   "source": [
    "df_RFM = pd.read_csv(\"fdb_RFM3_train.csv\", index_col=0)\n",
    "df_RFM[\"RFM\"] = df_RFM[\"RFM\"].fillna(\"1-1-1\")\n",
    "df_RFM[\"next_3_months_spend\"] = df_RFM[\"next_3_months_spend\"].fillna(0)\n",
    "y1 = df_RFM.RFM\n",
    "y2 = df_RFM.next_3_months_spend\n",
    "X = df_RFM.iloc[:,:-3]"
   ]
  },
  {
   "cell_type": "code",
   "execution_count": 1088,
   "metadata": {
    "ExecuteTime": {
     "end_time": "2020-05-14T04:05:32.827641Z",
     "start_time": "2020-05-14T04:05:32.770697Z"
    }
   },
   "outputs": [],
   "source": [
    "X[\"length\"] = (pd.to_datetime(df_RFM.last_purchase_date) - \n",
    "                     pd.to_datetime(df_RFM.first_purchase_date)).apply(lambda x:x.days)\n",
    "X[\"recency\"] = (pd.to_datetime(\"2012-12-02\") - \n",
    "                     pd.to_datetime(df_RFM.last_purchase_date)).apply(lambda x:x.days)\n",
    "X = X.iloc[:,3:]"
   ]
  },
  {
   "cell_type": "code",
   "execution_count": 1089,
   "metadata": {
    "ExecuteTime": {
     "end_time": "2020-05-14T04:05:33.269061Z",
     "start_time": "2020-05-14T04:05:33.259768Z"
    }
   },
   "outputs": [],
   "source": [
    "R = df_RFM[\"RFM\"].apply(lambda x:int(x[0])-1)\n",
    "F = df_RFM[\"RFM\"].apply(lambda x:int(x[2])-1)\n",
    "M = df_RFM[\"RFM\"].apply(lambda x:int(x[4])-1)\n",
    "y1_1 = pd.concat([R,F,M], axis=1)\n",
    "y1_1.columns =[\"R\",\"F\",\"M\"]"
   ]
  },
  {
   "cell_type": "code",
   "execution_count": 1090,
   "metadata": {
    "ExecuteTime": {
     "end_time": "2020-05-14T04:05:35.060639Z",
     "start_time": "2020-05-14T04:05:35.053999Z"
    }
   },
   "outputs": [],
   "source": [
    "X_train, X_test, y_train, y_test = train_test_split(X, y1_1, shuffle=True, test_size=0.2, random_state=42)\n",
    "X_train2, X_test2, y_train2, y_test2 = train_test_split(X, y2, shuffle=True, test_size=0.2, random_state=42)"
   ]
  },
  {
   "cell_type": "code",
   "execution_count": null,
   "metadata": {},
   "outputs": [],
   "source": []
  },
  {
   "cell_type": "code",
   "execution_count": 1091,
   "metadata": {
    "ExecuteTime": {
     "end_time": "2020-05-14T04:05:38.170316Z",
     "start_time": "2020-05-14T04:05:37.874877Z"
    }
   },
   "outputs": [
    {
     "name": "stdout",
     "output_type": "stream",
     "text": [
      "0.45045045045045046\n"
     ]
    }
   ],
   "source": [
    "## random forest\n",
    "\n",
    "rf = RandomForestClassifier(class_weight = 'balanced',\n",
    "                             criterion = 'gini',\n",
    "                             max_depth = 25,\n",
    "                             max_features = 1)\n",
    "\n",
    "rf.fit(X_train, y_train)\n",
    "\n",
    "accuracy = rf.score(X_test, y_test) \n",
    "print(accuracy) "
   ]
  },
  {
   "cell_type": "code",
   "execution_count": null,
   "metadata": {},
   "outputs": [],
   "source": []
  },
  {
   "cell_type": "code",
   "execution_count": 1092,
   "metadata": {
    "ExecuteTime": {
     "end_time": "2020-05-14T04:05:39.764419Z",
     "start_time": "2020-05-14T04:05:39.713617Z"
    }
   },
   "outputs": [
    {
     "name": "stdout",
     "output_type": "stream",
     "text": [
      "0.5801801801801801\n"
     ]
    }
   ],
   "source": [
    "# KNeighborsClassifier\n",
    "\n",
    "knn = KNeighborsClassifier(n_neighbors=19)\n",
    "\n",
    "knn.fit(X_train, y_train)\n",
    "\n",
    "# model_scores(knn, X_train, y_train)\n",
    "\n",
    "# accuracy on X_test \n",
    "accuracy = knn.score(X_test, y_test) \n",
    "print(accuracy) "
   ]
  },
  {
   "cell_type": "code",
   "execution_count": null,
   "metadata": {},
   "outputs": [],
   "source": []
  },
  {
   "cell_type": "markdown",
   "metadata": {},
   "source": [
    "## testing"
   ]
  },
  {
   "cell_type": "code",
   "execution_count": 1338,
   "metadata": {
    "ExecuteTime": {
     "end_time": "2020-05-14T04:53:53.386395Z",
     "start_time": "2020-05-14T04:53:53.376606Z"
    }
   },
   "outputs": [
    {
     "data": {
      "text/plain": [
       "RFM\n",
       "1-1-1     225.234616\n",
       "1-1-2     594.090063\n",
       "1-2-1     489.345526\n",
       "1-2-2    1761.164390\n",
       "2-1-1     216.483111\n",
       "2-1-2     521.661927\n",
       "2-2-1     775.091071\n",
       "2-2-2    2991.919118\n",
       "Name: last_3_months_spend, dtype: float64"
      ]
     },
     "execution_count": 1338,
     "metadata": {},
     "output_type": "execute_result"
    }
   ],
   "source": [
    "df_train = pd.concat([X_train, y_train,y_train2], axis=1)\n",
    "train_for_predict = df_train.groupby(\"RFM\").last_3_months_spend.mean()\n"
   ]
  },
  {
   "cell_type": "code",
   "execution_count": 94,
   "metadata": {
    "ExecuteTime": {
     "end_time": "2020-05-14T05:45:33.558183Z",
     "start_time": "2020-05-14T05:45:33.554865Z"
    }
   },
   "outputs": [],
   "source": [
    "X_test[\"predict\"] = gbc_predictions"
   ]
  },
  {
   "cell_type": "code",
   "execution_count": 1339,
   "metadata": {
    "ExecuteTime": {
     "end_time": "2020-05-14T04:53:54.050664Z",
     "start_time": "2020-05-14T04:53:54.047811Z"
    }
   },
   "outputs": [],
   "source": [
    "tempdf = pd.DataFrame(train_for_predict)"
   ]
  },
  {
   "cell_type": "code",
   "execution_count": 1340,
   "metadata": {
    "ExecuteTime": {
     "end_time": "2020-05-14T04:53:54.556168Z",
     "start_time": "2020-05-14T04:53:54.550990Z"
    }
   },
   "outputs": [],
   "source": [
    "tempdf[\"predict_counts\"] = pd.Series(gbc_predictions).value_counts()"
   ]
  },
  {
   "cell_type": "code",
   "execution_count": 1341,
   "metadata": {
    "ExecuteTime": {
     "end_time": "2020-05-14T04:53:54.979527Z",
     "start_time": "2020-05-14T04:53:54.976003Z"
    }
   },
   "outputs": [],
   "source": [
    "tempdf.fillna(0, inplace=True)"
   ]
  },
  {
   "cell_type": "code",
   "execution_count": null,
   "metadata": {
    "ExecuteTime": {
     "end_time": "2020-05-14T04:12:01.126211Z",
     "start_time": "2020-05-14T04:12:01.122637Z"
    }
   },
   "outputs": [],
   "source": []
  },
  {
   "cell_type": "code",
   "execution_count": 1343,
   "metadata": {
    "ExecuteTime": {
     "end_time": "2020-05-14T04:54:19.067883Z",
     "start_time": "2020-05-14T04:54:19.060243Z"
    }
   },
   "outputs": [],
   "source": [
    "y_test3 = pd.concat([y_test,y_test2], axis=1)\n",
    "test_act = y_test3.groupby(\"RFM\").sum().sum()\n",
    "test_pre = tempdf.last_3_months_spend.dot(tempdf.predict_counts)\n",
    "# test_pre = pd.Series(gbc_predictions).value_counts().sort_index().dot(train_for_predict)\n",
    "test_act = y_test2.sum()"
   ]
  },
  {
   "cell_type": "code",
   "execution_count": 1344,
   "metadata": {
    "ExecuteTime": {
     "end_time": "2020-05-14T04:54:20.191983Z",
     "start_time": "2020-05-14T04:54:20.189076Z"
    }
   },
   "outputs": [
    {
     "data": {
      "text/plain": [
       "333217.85"
      ]
     },
     "execution_count": 1344,
     "metadata": {},
     "output_type": "execute_result"
    }
   ],
   "source": [
    "test_act"
   ]
  },
  {
   "cell_type": "code",
   "execution_count": 1345,
   "metadata": {
    "ExecuteTime": {
     "end_time": "2020-05-14T04:54:20.714738Z",
     "start_time": "2020-05-14T04:54:20.711662Z"
    }
   },
   "outputs": [
    {
     "data": {
      "text/plain": [
       "-0.23668880116504698"
      ]
     },
     "execution_count": 1345,
     "metadata": {},
     "output_type": "execute_result"
    }
   ],
   "source": [
    "test_pre/test_act - 1"
   ]
  },
  {
   "cell_type": "code",
   "execution_count": null,
   "metadata": {},
   "outputs": [],
   "source": [
    "predict = (1- rf.predict(X_test)) * X_test[\"last_3_months_spend\"]\n",
    "RMSE = (((predict - y_test2)**2).sum() / y_test2.shape[0]) **0.5; RMSE"
   ]
  },
  {
   "cell_type": "code",
   "execution_count": null,
   "metadata": {},
   "outputs": [],
   "source": []
  },
  {
   "cell_type": "markdown",
   "metadata": {},
   "source": [
    "# LTV"
   ]
  },
  {
   "cell_type": "code",
   "execution_count": 204,
   "metadata": {
    "ExecuteTime": {
     "end_time": "2020-05-14T06:27:33.946674Z",
     "start_time": "2020-05-14T06:27:33.921090Z"
    }
   },
   "outputs": [
    {
     "data": {
      "text/html": [
       "<div>\n",
       "<style scoped>\n",
       "    .dataframe tbody tr th:only-of-type {\n",
       "        vertical-align: middle;\n",
       "    }\n",
       "\n",
       "    .dataframe tbody tr th {\n",
       "        vertical-align: top;\n",
       "    }\n",
       "\n",
       "    .dataframe thead th {\n",
       "        text-align: right;\n",
       "    }\n",
       "</style>\n",
       "<table border=\"1\" class=\"dataframe\">\n",
       "  <thead>\n",
       "    <tr style=\"text-align: right;\">\n",
       "      <th></th>\n",
       "      <th>CustomerID</th>\n",
       "      <th>first_purchase_date</th>\n",
       "      <th>last_purchase_date</th>\n",
       "      <th>total_purchases</th>\n",
       "      <th>total_purchase_amount_x</th>\n",
       "      <th>last_3_months_spend</th>\n",
       "      <th>RFM</th>\n",
       "      <th>next_3_months_spend</th>\n",
       "    </tr>\n",
       "  </thead>\n",
       "  <tbody>\n",
       "    <tr>\n",
       "      <th>1517</th>\n",
       "      <td>16696.0</td>\n",
       "      <td>2011-04-05</td>\n",
       "      <td>2011-07-27</td>\n",
       "      <td>4</td>\n",
       "      <td>657.90</td>\n",
       "      <td>99.00</td>\n",
       "      <td>1-1-1</td>\n",
       "      <td>0.00</td>\n",
       "    </tr>\n",
       "    <tr>\n",
       "      <th>3182</th>\n",
       "      <td>12909.0</td>\n",
       "      <td>2011-03-31</td>\n",
       "      <td>2011-09-23</td>\n",
       "      <td>6</td>\n",
       "      <td>1807.51</td>\n",
       "      <td>321.59</td>\n",
       "      <td>1-1-2</td>\n",
       "      <td>321.32</td>\n",
       "    </tr>\n",
       "    <tr>\n",
       "      <th>1580</th>\n",
       "      <td>17050.0</td>\n",
       "      <td>2011-02-13</td>\n",
       "      <td>2011-09-04</td>\n",
       "      <td>6</td>\n",
       "      <td>3228.84</td>\n",
       "      <td>568.25</td>\n",
       "      <td>1-1-1</td>\n",
       "      <td>0.00</td>\n",
       "    </tr>\n",
       "    <tr>\n",
       "      <th>2921</th>\n",
       "      <td>12991.0</td>\n",
       "      <td>2011-08-19</td>\n",
       "      <td>2011-08-19</td>\n",
       "      <td>1</td>\n",
       "      <td>303.56</td>\n",
       "      <td>303.56</td>\n",
       "      <td>1-1-2</td>\n",
       "      <td>200.20</td>\n",
       "    </tr>\n",
       "    <tr>\n",
       "      <th>2832</th>\n",
       "      <td>13562.0</td>\n",
       "      <td>2011-04-08</td>\n",
       "      <td>2011-09-19</td>\n",
       "      <td>3</td>\n",
       "      <td>1799.33</td>\n",
       "      <td>1196.06</td>\n",
       "      <td>1-1-1</td>\n",
       "      <td>0.00</td>\n",
       "    </tr>\n",
       "    <tr>\n",
       "      <th>...</th>\n",
       "      <td>...</td>\n",
       "      <td>...</td>\n",
       "      <td>...</td>\n",
       "      <td>...</td>\n",
       "      <td>...</td>\n",
       "      <td>...</td>\n",
       "      <td>...</td>\n",
       "      <td>...</td>\n",
       "    </tr>\n",
       "    <tr>\n",
       "      <th>1095</th>\n",
       "      <td>17007.0</td>\n",
       "      <td>2011-05-09</td>\n",
       "      <td>2011-07-07</td>\n",
       "      <td>3</td>\n",
       "      <td>368.32</td>\n",
       "      <td>112.71</td>\n",
       "      <td>1-1-2</td>\n",
       "      <td>314.49</td>\n",
       "    </tr>\n",
       "    <tr>\n",
       "      <th>1130</th>\n",
       "      <td>12790.0</td>\n",
       "      <td>2011-05-31</td>\n",
       "      <td>2011-05-31</td>\n",
       "      <td>1</td>\n",
       "      <td>324.92</td>\n",
       "      <td>0.00</td>\n",
       "      <td>1-1-1</td>\n",
       "      <td>0.00</td>\n",
       "    </tr>\n",
       "    <tr>\n",
       "      <th>1294</th>\n",
       "      <td>16471.0</td>\n",
       "      <td>2011-03-10</td>\n",
       "      <td>2011-03-10</td>\n",
       "      <td>1</td>\n",
       "      <td>223.95</td>\n",
       "      <td>0.00</td>\n",
       "      <td>1-1-1</td>\n",
       "      <td>0.00</td>\n",
       "    </tr>\n",
       "    <tr>\n",
       "      <th>860</th>\n",
       "      <td>18213.0</td>\n",
       "      <td>2011-04-17</td>\n",
       "      <td>2011-04-17</td>\n",
       "      <td>1</td>\n",
       "      <td>232.48</td>\n",
       "      <td>0.00</td>\n",
       "      <td>1-1-1</td>\n",
       "      <td>0.00</td>\n",
       "    </tr>\n",
       "    <tr>\n",
       "      <th>3174</th>\n",
       "      <td>14013.0</td>\n",
       "      <td>2011-03-09</td>\n",
       "      <td>2011-08-21</td>\n",
       "      <td>3</td>\n",
       "      <td>473.02</td>\n",
       "      <td>354.52</td>\n",
       "      <td>1-1-1</td>\n",
       "      <td>0.00</td>\n",
       "    </tr>\n",
       "  </tbody>\n",
       "</table>\n",
       "<p>2773 rows × 8 columns</p>\n",
       "</div>"
      ],
      "text/plain": [
       "      CustomerID first_purchase_date last_purchase_date  total_purchases  \\\n",
       "1517     16696.0          2011-04-05         2011-07-27                4   \n",
       "3182     12909.0          2011-03-31         2011-09-23                6   \n",
       "1580     17050.0          2011-02-13         2011-09-04                6   \n",
       "2921     12991.0          2011-08-19         2011-08-19                1   \n",
       "2832     13562.0          2011-04-08         2011-09-19                3   \n",
       "...          ...                 ...                ...              ...   \n",
       "1095     17007.0          2011-05-09         2011-07-07                3   \n",
       "1130     12790.0          2011-05-31         2011-05-31                1   \n",
       "1294     16471.0          2011-03-10         2011-03-10                1   \n",
       "860      18213.0          2011-04-17         2011-04-17                1   \n",
       "3174     14013.0          2011-03-09         2011-08-21                3   \n",
       "\n",
       "      total_purchase_amount_x  last_3_months_spend    RFM  next_3_months_spend  \n",
       "1517                   657.90                99.00  1-1-1                 0.00  \n",
       "3182                  1807.51               321.59  1-1-2               321.32  \n",
       "1580                  3228.84               568.25  1-1-1                 0.00  \n",
       "2921                   303.56               303.56  1-1-2               200.20  \n",
       "2832                  1799.33              1196.06  1-1-1                 0.00  \n",
       "...                       ...                  ...    ...                  ...  \n",
       "1095                   368.32               112.71  1-1-2               314.49  \n",
       "1130                   324.92                 0.00  1-1-1                 0.00  \n",
       "1294                   223.95                 0.00  1-1-1                 0.00  \n",
       "860                    232.48                 0.00  1-1-1                 0.00  \n",
       "3174                   473.02               354.52  1-1-1                 0.00  \n",
       "\n",
       "[2773 rows x 8 columns]"
      ]
     },
     "execution_count": 204,
     "metadata": {},
     "output_type": "execute_result"
    }
   ],
   "source": [
    "df_RFM = pd.read_csv(\"fdb_RFM3_train.csv\", index_col=0);df_RFM"
   ]
  },
  {
   "cell_type": "code",
   "execution_count": 205,
   "metadata": {
    "ExecuteTime": {
     "end_time": "2020-05-14T06:27:35.338374Z",
     "start_time": "2020-05-14T06:27:35.334191Z"
    }
   },
   "outputs": [],
   "source": [
    "y1 = df_RFM.RFM\n",
    "y2 = df_RFM.next_3_months_spend\n",
    "X = df_RFM.iloc[:,:-2]"
   ]
  },
  {
   "cell_type": "code",
   "execution_count": 206,
   "metadata": {
    "ExecuteTime": {
     "end_time": "2020-05-14T06:27:36.349558Z",
     "start_time": "2020-05-14T06:27:36.340832Z"
    }
   },
   "outputs": [],
   "source": [
    "# X_train, y_train, X_test, y_test = train_test_split(X, y1, random_state=42, stratefy)\"\"\n",
    "X_train, X_test, y_train, y_test = train_test_split(X, y1, shuffle=True, test_size=0.2, random_state=42)\n",
    "X_train2, X_test2, y_train2, y_test2 = train_test_split(X, y2, shuffle=True, test_size=0.2, random_state=42)"
   ]
  },
  {
   "cell_type": "code",
   "execution_count": 235,
   "metadata": {
    "ExecuteTime": {
     "end_time": "2020-05-14T06:31:19.182798Z",
     "start_time": "2020-05-14T06:31:19.180235Z"
    }
   },
   "outputs": [],
   "source": [
    "df_RFM = X_test"
   ]
  },
  {
   "cell_type": "code",
   "execution_count": 236,
   "metadata": {
    "ExecuteTime": {
     "end_time": "2020-05-14T06:31:19.892135Z",
     "start_time": "2020-05-14T06:31:19.882697Z"
    }
   },
   "outputs": [],
   "source": [
    "df_RFM[\"T\"] = (pd.to_datetime(\"2011-10-01\") - pd.to_datetime(df_RFM[\"first_purchase_date\"]) ).apply(lambda x:x.days)"
   ]
  },
  {
   "cell_type": "code",
   "execution_count": 237,
   "metadata": {
    "ExecuteTime": {
     "end_time": "2020-05-14T06:31:20.554205Z",
     "start_time": "2020-05-14T06:31:20.545192Z"
    }
   },
   "outputs": [],
   "source": [
    "df_RFM[\"recency\"] = (pd.to_datetime(df_RFM[\"last_purchase_date\"])  \n",
    "                     - pd.to_datetime(df_RFM[\"first_purchase_date\"])).apply(lambda x:x.days)"
   ]
  },
  {
   "cell_type": "code",
   "execution_count": 238,
   "metadata": {
    "ExecuteTime": {
     "end_time": "2020-05-14T06:31:21.220265Z",
     "start_time": "2020-05-14T06:31:21.215226Z"
    }
   },
   "outputs": [],
   "source": [
    "df_RFM[\"frequency\"] = (df_RFM[\"total_purchases\"] - 1)"
   ]
  },
  {
   "cell_type": "code",
   "execution_count": 239,
   "metadata": {
    "ExecuteTime": {
     "end_time": "2020-05-14T06:31:21.865352Z",
     "start_time": "2020-05-14T06:31:21.861192Z"
    }
   },
   "outputs": [],
   "source": [
    "data = df_RFM[[\"frequency\", \"recency\", \"T\"]]"
   ]
  },
  {
   "cell_type": "code",
   "execution_count": 240,
   "metadata": {
    "ExecuteTime": {
     "end_time": "2020-05-14T06:31:22.477107Z",
     "start_time": "2020-05-14T06:31:22.468184Z"
    }
   },
   "outputs": [
    {
     "data": {
      "text/html": [
       "<div>\n",
       "<style scoped>\n",
       "    .dataframe tbody tr th:only-of-type {\n",
       "        vertical-align: middle;\n",
       "    }\n",
       "\n",
       "    .dataframe tbody tr th {\n",
       "        vertical-align: top;\n",
       "    }\n",
       "\n",
       "    .dataframe thead th {\n",
       "        text-align: right;\n",
       "    }\n",
       "</style>\n",
       "<table border=\"1\" class=\"dataframe\">\n",
       "  <thead>\n",
       "    <tr style=\"text-align: right;\">\n",
       "      <th></th>\n",
       "      <th>frequency</th>\n",
       "      <th>recency</th>\n",
       "      <th>T</th>\n",
       "    </tr>\n",
       "  </thead>\n",
       "  <tbody>\n",
       "    <tr>\n",
       "      <th>1260</th>\n",
       "      <td>8</td>\n",
       "      <td>175</td>\n",
       "      <td>214</td>\n",
       "    </tr>\n",
       "    <tr>\n",
       "      <th>1469</th>\n",
       "      <td>3</td>\n",
       "      <td>98</td>\n",
       "      <td>104</td>\n",
       "    </tr>\n",
       "    <tr>\n",
       "      <th>3168</th>\n",
       "      <td>7</td>\n",
       "      <td>241</td>\n",
       "      <td>270</td>\n",
       "    </tr>\n",
       "    <tr>\n",
       "      <th>1983</th>\n",
       "      <td>0</td>\n",
       "      <td>0</td>\n",
       "      <td>108</td>\n",
       "    </tr>\n",
       "    <tr>\n",
       "      <th>2499</th>\n",
       "      <td>2</td>\n",
       "      <td>96</td>\n",
       "      <td>118</td>\n",
       "    </tr>\n",
       "    <tr>\n",
       "      <th>...</th>\n",
       "      <td>...</td>\n",
       "      <td>...</td>\n",
       "      <td>...</td>\n",
       "    </tr>\n",
       "    <tr>\n",
       "      <th>1873</th>\n",
       "      <td>0</td>\n",
       "      <td>0</td>\n",
       "      <td>30</td>\n",
       "    </tr>\n",
       "    <tr>\n",
       "      <th>1304</th>\n",
       "      <td>1</td>\n",
       "      <td>4</td>\n",
       "      <td>225</td>\n",
       "    </tr>\n",
       "    <tr>\n",
       "      <th>541</th>\n",
       "      <td>0</td>\n",
       "      <td>0</td>\n",
       "      <td>80</td>\n",
       "    </tr>\n",
       "    <tr>\n",
       "      <th>1857</th>\n",
       "      <td>1</td>\n",
       "      <td>88</td>\n",
       "      <td>197</td>\n",
       "    </tr>\n",
       "    <tr>\n",
       "      <th>1411</th>\n",
       "      <td>5</td>\n",
       "      <td>227</td>\n",
       "      <td>265</td>\n",
       "    </tr>\n",
       "  </tbody>\n",
       "</table>\n",
       "<p>555 rows × 3 columns</p>\n",
       "</div>"
      ],
      "text/plain": [
       "      frequency  recency    T\n",
       "1260          8      175  214\n",
       "1469          3       98  104\n",
       "3168          7      241  270\n",
       "1983          0        0  108\n",
       "2499          2       96  118\n",
       "...         ...      ...  ...\n",
       "1873          0        0   30\n",
       "1304          1        4  225\n",
       "541           0        0   80\n",
       "1857          1       88  197\n",
       "1411          5      227  265\n",
       "\n",
       "[555 rows x 3 columns]"
      ]
     },
     "execution_count": 240,
     "metadata": {},
     "output_type": "execute_result"
    }
   ],
   "source": [
    "data"
   ]
  },
  {
   "cell_type": "code",
   "execution_count": 241,
   "metadata": {
    "ExecuteTime": {
     "end_time": "2020-05-14T06:31:23.178643Z",
     "start_time": "2020-05-14T06:31:23.175959Z"
    }
   },
   "outputs": [],
   "source": [
    "g1 = data.groupby('frequency')"
   ]
  },
  {
   "cell_type": "code",
   "execution_count": 242,
   "metadata": {
    "ExecuteTime": {
     "end_time": "2020-05-14T06:31:24.702546Z",
     "start_time": "2020-05-14T06:31:24.518369Z"
    }
   },
   "outputs": [
    {
     "data": {
      "text/plain": [
       "<matplotlib.axes._subplots.AxesSubplot at 0x7fa94709bdd8>"
      ]
     },
     "execution_count": 242,
     "metadata": {},
     "output_type": "execute_result"
    },
    {
     "data": {
      "image/png": "[encoded data removed]",
      "text/plain": [
       "<Figure size 432x288 with 1 Axes>"
      ]
     },
     "metadata": {
      "needs_background": "light"
     },
     "output_type": "display_data"
    }
   ],
   "source": [
    "g1['frequency'].count().plot(kind=\"bar\")"
   ]
  },
  {
   "cell_type": "code",
   "execution_count": 243,
   "metadata": {
    "ExecuteTime": {
     "end_time": "2020-05-14T06:31:25.396310Z",
     "start_time": "2020-05-14T06:31:25.393858Z"
    }
   },
   "outputs": [],
   "source": [
    "g2 = data.groupby('T')"
   ]
  },
  {
   "cell_type": "code",
   "execution_count": 244,
   "metadata": {
    "ExecuteTime": {
     "end_time": "2020-05-14T06:31:27.147815Z",
     "start_time": "2020-05-14T06:31:26.203327Z"
    }
   },
   "outputs": [
    {
     "data": {
      "text/plain": [
       "<matplotlib.axes._subplots.AxesSubplot at 0x7fa946fa4518>"
      ]
     },
     "execution_count": 244,
     "metadata": {},
     "output_type": "execute_result"
    },
    {
     "data": {
      "image/png": "[encoded data removed]",
      "text/plain": [
       "<Figure size 432x288 with 1 Axes>"
      ]
     },
     "metadata": {
      "needs_background": "light"
     },
     "output_type": "display_data"
    }
   ],
   "source": [
    "g2['T'].count().plot(kind=\"bar\")"
   ]
  },
  {
   "cell_type": "code",
   "execution_count": null,
   "metadata": {},
   "outputs": [],
   "source": []
  },
  {
   "cell_type": "code",
   "execution_count": 162,
   "metadata": {
    "ExecuteTime": {
     "end_time": "2020-05-14T06:12:27.629011Z",
     "start_time": "2020-05-14T06:12:27.492621Z"
    }
   },
   "outputs": [
    {
     "data": {
      "text/html": [
       "<div>\n",
       "<style scoped>\n",
       "    .dataframe tbody tr th:only-of-type {\n",
       "        vertical-align: middle;\n",
       "    }\n",
       "\n",
       "    .dataframe tbody tr th {\n",
       "        vertical-align: top;\n",
       "    }\n",
       "\n",
       "    .dataframe thead th {\n",
       "        text-align: right;\n",
       "    }\n",
       "</style>\n",
       "<table border=\"1\" class=\"dataframe\">\n",
       "  <thead>\n",
       "    <tr style=\"text-align: right;\">\n",
       "      <th></th>\n",
       "      <th>coef</th>\n",
       "      <th>se(coef)</th>\n",
       "      <th>lower 95% bound</th>\n",
       "      <th>upper 95% bound</th>\n",
       "    </tr>\n",
       "  </thead>\n",
       "  <tbody>\n",
       "    <tr>\n",
       "      <th>r</th>\n",
       "      <td>0.828311</td>\n",
       "      <td>0.035041</td>\n",
       "      <td>0.759630</td>\n",
       "      <td>0.896992</td>\n",
       "    </tr>\n",
       "    <tr>\n",
       "      <th>alpha</th>\n",
       "      <td>54.392343</td>\n",
       "      <td>2.780300</td>\n",
       "      <td>48.942955</td>\n",
       "      <td>59.841732</td>\n",
       "    </tr>\n",
       "    <tr>\n",
       "      <th>a</th>\n",
       "      <td>0.025752</td>\n",
       "      <td>0.011496</td>\n",
       "      <td>0.003220</td>\n",
       "      <td>0.048285</td>\n",
       "    </tr>\n",
       "    <tr>\n",
       "      <th>b</th>\n",
       "      <td>0.459774</td>\n",
       "      <td>0.231421</td>\n",
       "      <td>0.006190</td>\n",
       "      <td>0.913359</td>\n",
       "    </tr>\n",
       "  </tbody>\n",
       "</table>\n",
       "</div>"
      ],
      "text/plain": [
       "            coef  se(coef)  lower 95% bound  upper 95% bound\n",
       "r       0.828311  0.035041         0.759630         0.896992\n",
       "alpha  54.392343  2.780300        48.942955        59.841732\n",
       "a       0.025752  0.011496         0.003220         0.048285\n",
       "b       0.459774  0.231421         0.006190         0.913359"
      ]
     },
     "execution_count": 162,
     "metadata": {},
     "output_type": "execute_result"
    }
   ],
   "source": [
    "from lifetimes import BetaGeoFitter\n",
    "\n",
    "# similar API to scikit-learn and lifelines.\n",
    "bgf = BetaGeoFitter(penalizer_coef=0.0)\n",
    "bgf.fit(data['frequency'], data['recency'], data['T'])\n",
    "\n",
    "\n",
    "bgf.summary"
   ]
  },
  {
   "cell_type": "code",
   "execution_count": 53,
   "metadata": {
    "ExecuteTime": {
     "end_time": "2020-05-14T05:32:19.414317Z",
     "start_time": "2020-05-14T05:32:11.498894Z"
    }
   },
   "outputs": [
    {
     "data": {
      "text/plain": [
       "<lifetimes.BetaGeoBetaBinomFitter: fitted with 694 subjects, alpha: 0.20, beta: 1.82, delta: 0.70, gamma: 0.06>"
      ]
     },
     "execution_count": 53,
     "metadata": {},
     "output_type": "execute_result"
    }
   ],
   "source": [
    "from lifetimes.fitters.beta_geo_beta_binom_fitter import BetaGeoBetaBinomFitter\n",
    "\n",
    "bgf = BetaGeoBetaBinomFitter(penalizer_coef=0.03)\n",
    "bgf.fit(data['frequency'], data['recency'], data['T'])"
   ]
  },
  {
   "cell_type": "code",
   "execution_count": 54,
   "metadata": {
    "ExecuteTime": {
     "end_time": "2020-05-14T05:32:19.907334Z",
     "start_time": "2020-05-14T05:32:19.892882Z"
    }
   },
   "outputs": [
    {
     "data": {
      "text/html": [
       "<div>\n",
       "<style scoped>\n",
       "    .dataframe tbody tr th:only-of-type {\n",
       "        vertical-align: middle;\n",
       "    }\n",
       "\n",
       "    .dataframe tbody tr th {\n",
       "        vertical-align: top;\n",
       "    }\n",
       "\n",
       "    .dataframe thead th {\n",
       "        text-align: right;\n",
       "    }\n",
       "</style>\n",
       "<table border=\"1\" class=\"dataframe\">\n",
       "  <thead>\n",
       "    <tr style=\"text-align: right;\">\n",
       "      <th></th>\n",
       "      <th>coef</th>\n",
       "      <th>se(coef)</th>\n",
       "      <th>lower 95% bound</th>\n",
       "      <th>upper 95% bound</th>\n",
       "    </tr>\n",
       "  </thead>\n",
       "  <tbody>\n",
       "    <tr>\n",
       "      <th>alpha</th>\n",
       "      <td>0.203387</td>\n",
       "      <td>0.011816</td>\n",
       "      <td>0.180227</td>\n",
       "      <td>0.226547</td>\n",
       "    </tr>\n",
       "    <tr>\n",
       "      <th>beta</th>\n",
       "      <td>1.819381</td>\n",
       "      <td>0.109611</td>\n",
       "      <td>1.604543</td>\n",
       "      <td>2.034220</td>\n",
       "    </tr>\n",
       "    <tr>\n",
       "      <th>gamma</th>\n",
       "      <td>0.058370</td>\n",
       "      <td>0.007606</td>\n",
       "      <td>0.043463</td>\n",
       "      <td>0.073278</td>\n",
       "    </tr>\n",
       "    <tr>\n",
       "      <th>delta</th>\n",
       "      <td>0.697483</td>\n",
       "      <td>0.104078</td>\n",
       "      <td>0.493489</td>\n",
       "      <td>0.901476</td>\n",
       "    </tr>\n",
       "  </tbody>\n",
       "</table>\n",
       "</div>"
      ],
      "text/plain": [
       "           coef  se(coef)  lower 95% bound  upper 95% bound\n",
       "alpha  0.203387  0.011816         0.180227         0.226547\n",
       "beta   1.819381  0.109611         1.604543         2.034220\n",
       "gamma  0.058370  0.007606         0.043463         0.073278\n",
       "delta  0.697483  0.104078         0.493489         0.901476"
      ]
     },
     "execution_count": 54,
     "metadata": {},
     "output_type": "execute_result"
    }
   ],
   "source": [
    "bgf.summary"
   ]
  },
  {
   "cell_type": "code",
   "execution_count": null,
   "metadata": {},
   "outputs": [],
   "source": []
  },
  {
   "cell_type": "code",
   "execution_count": 245,
   "metadata": {
    "ExecuteTime": {
     "end_time": "2020-05-14T06:31:33.464992Z",
     "start_time": "2020-05-14T06:31:33.462414Z"
    }
   },
   "outputs": [],
   "source": [
    "from lifetimes.fitters.pareto_nbd_fitter import ParetoNBDFitter"
   ]
  },
  {
   "cell_type": "code",
   "execution_count": 246,
   "metadata": {
    "ExecuteTime": {
     "end_time": "2020-05-14T06:31:34.560420Z",
     "start_time": "2020-05-14T06:31:34.171488Z"
    }
   },
   "outputs": [
    {
     "data": {
      "text/plain": [
       "<lifetimes.ParetoNBDFitter: fitted with 555 subjects, alpha: 53.79, beta: 6.56, r: 0.85, s: 0.02>"
      ]
     },
     "execution_count": 246,
     "metadata": {},
     "output_type": "execute_result"
    }
   ],
   "source": [
    "bgf = ParetoNBDFitter(penalizer_coef=0.01)\n",
    "bgf.fit(data['frequency'], data['recency'], data['T'])"
   ]
  },
  {
   "cell_type": "code",
   "execution_count": null,
   "metadata": {},
   "outputs": [],
   "source": []
  },
  {
   "cell_type": "code",
   "execution_count": 247,
   "metadata": {
    "ExecuteTime": {
     "end_time": "2020-05-14T06:31:42.155969Z",
     "start_time": "2020-05-14T06:31:38.877710Z"
    }
   },
   "outputs": [
    {
     "data": {
      "text/plain": [
       "<matplotlib.axes._subplots.AxesSubplot at 0x7fa946c208d0>"
      ]
     },
     "execution_count": 247,
     "metadata": {},
     "output_type": "execute_result"
    },
    {
     "data": {
      "image/png": "[encoded data removed]",
      "text/plain": [
       "<Figure size 432x288 with 2 Axes>"
      ]
     },
     "metadata": {
      "needs_background": "light"
     },
     "output_type": "display_data"
    }
   ],
   "source": [
    "from lifetimes.plotting import plot_frequency_recency_matrix\n",
    "\n",
    "plot_frequency_recency_matrix(bgf)"
   ]
  },
  {
   "cell_type": "code",
   "execution_count": 248,
   "metadata": {
    "ExecuteTime": {
     "end_time": "2020-05-14T06:31:45.824633Z",
     "start_time": "2020-05-14T06:31:42.787379Z"
    }
   },
   "outputs": [
    {
     "data": {
      "text/plain": [
       "<matplotlib.axes._subplots.AxesSubplot at 0x7fa946a56fd0>"
      ]
     },
     "execution_count": 248,
     "metadata": {},
     "output_type": "execute_result"
    },
    {
     "data": {
      "image/png": "[encoded data removed]",
      "text/plain": [
       "<Figure size 432x288 with 2 Axes>"
      ]
     },
     "metadata": {
      "needs_background": "light"
     },
     "output_type": "display_data"
    }
   ],
   "source": [
    "from lifetimes.plotting import plot_probability_alive_matrix\n",
    "\n",
    "plot_probability_alive_matrix(bgf)"
   ]
  },
  {
   "cell_type": "code",
   "execution_count": 249,
   "metadata": {
    "ExecuteTime": {
     "end_time": "2020-05-14T06:31:46.485303Z",
     "start_time": "2020-05-14T06:31:46.464268Z"
    }
   },
   "outputs": [
    {
     "data": {
      "text/html": [
       "<div>\n",
       "<style scoped>\n",
       "    .dataframe tbody tr th:only-of-type {\n",
       "        vertical-align: middle;\n",
       "    }\n",
       "\n",
       "    .dataframe tbody tr th {\n",
       "        vertical-align: top;\n",
       "    }\n",
       "\n",
       "    .dataframe thead th {\n",
       "        text-align: right;\n",
       "    }\n",
       "</style>\n",
       "<table border=\"1\" class=\"dataframe\">\n",
       "  <thead>\n",
       "    <tr style=\"text-align: right;\">\n",
       "      <th></th>\n",
       "      <th>frequency</th>\n",
       "      <th>recency</th>\n",
       "      <th>T</th>\n",
       "      <th>predicted_purchases</th>\n",
       "    </tr>\n",
       "  </thead>\n",
       "  <tbody>\n",
       "    <tr>\n",
       "      <th>1985</th>\n",
       "      <td>27</td>\n",
       "      <td>264</td>\n",
       "      <td>270</td>\n",
       "      <td>7.796925</td>\n",
       "    </tr>\n",
       "    <tr>\n",
       "      <th>2561</th>\n",
       "      <td>31</td>\n",
       "      <td>248</td>\n",
       "      <td>249</td>\n",
       "      <td>9.538105</td>\n",
       "    </tr>\n",
       "    <tr>\n",
       "      <th>3051</th>\n",
       "      <td>37</td>\n",
       "      <td>241</td>\n",
       "      <td>263</td>\n",
       "      <td>10.735944</td>\n",
       "    </tr>\n",
       "    <tr>\n",
       "      <th>2326</th>\n",
       "      <td>38</td>\n",
       "      <td>266</td>\n",
       "      <td>269</td>\n",
       "      <td>10.914109</td>\n",
       "    </tr>\n",
       "    <tr>\n",
       "      <th>3421</th>\n",
       "      <td>77</td>\n",
       "      <td>267</td>\n",
       "      <td>270</td>\n",
       "      <td>21.802875</td>\n",
       "    </tr>\n",
       "  </tbody>\n",
       "</table>\n",
       "</div>"
      ],
      "text/plain": [
       "      frequency  recency    T  predicted_purchases\n",
       "1985         27      264  270             7.796925\n",
       "2561         31      248  249             9.538105\n",
       "3051         37      241  263            10.735944\n",
       "2326         38      266  269            10.914109\n",
       "3421         77      267  270            21.802875"
      ]
     },
     "execution_count": 249,
     "metadata": {},
     "output_type": "execute_result"
    }
   ],
   "source": [
    "t = 91\n",
    "data['predicted_purchases'] = bgf.conditional_expected_number_of_purchases_up_to_time(t, data['frequency'], data['recency'], data['T'])\n",
    "data.sort_values(by='predicted_purchases').tail(5)"
   ]
  },
  {
   "cell_type": "code",
   "execution_count": 250,
   "metadata": {
    "ExecuteTime": {
     "end_time": "2020-05-14T06:31:47.415348Z",
     "start_time": "2020-05-14T06:31:47.170430Z"
    }
   },
   "outputs": [
    {
     "data": {
      "text/plain": [
       "<matplotlib.axes._subplots.AxesSubplot at 0x7fa946992e10>"
      ]
     },
     "execution_count": 250,
     "metadata": {},
     "output_type": "execute_result"
    },
    {
     "data": {
      "image/png": "[encoded data removed]",
      "text/plain": [
       "<Figure size 432x288 with 1 Axes>"
      ]
     },
     "metadata": {
      "needs_background": "light"
     },
     "output_type": "display_data"
    }
   ],
   "source": [
    "from lifetimes.plotting import plot_period_transactions\n",
    "plot_period_transactions(bgf)"
   ]
  },
  {
   "cell_type": "code",
   "execution_count": null,
   "metadata": {},
   "outputs": [],
   "source": [
    "from lifetimes.utils import calibration_and_holdout_data\n",
    "\n",
    "summary_cal_holdout = calibration_and_holdout_data(transaction_data, 'id', 'date',\n",
    "                                        calibration_period_end='2014-09-01',\n",
    "                                        observation_period_end='2014-12-31' )\n",
    "print(summary_cal_holdout.head())"
   ]
  },
  {
   "cell_type": "code",
   "execution_count": 171,
   "metadata": {
    "ExecuteTime": {
     "end_time": "2020-05-14T06:16:01.874949Z",
     "start_time": "2020-05-14T06:16:01.740329Z"
    },
    "collapsed": true
   },
   "outputs": [
    {
     "ename": "KeyError",
     "evalue": "'duration_holdout'",
     "output_type": "error",
     "traceback": [
      "\u001b[0;31m---------------------------------------------------------------------------\u001b[0m",
      "\u001b[0;31mTypeError\u001b[0m                                 Traceback (most recent call last)",
      "\u001b[0;32m~/anaconda3/lib/python3.6/site-packages/pandas/core/indexes/base.py\u001b[0m in \u001b[0;36mget_value\u001b[0;34m(self, series, key)\u001b[0m\n\u001b[1;32m   4409\u001b[0m             \u001b[0;32mtry\u001b[0m\u001b[0;34m:\u001b[0m\u001b[0;34m\u001b[0m\u001b[0m\n\u001b[0;32m-> 4410\u001b[0;31m                 \u001b[0;32mreturn\u001b[0m \u001b[0mlibindex\u001b[0m\u001b[0;34m.\u001b[0m\u001b[0mget_value_at\u001b[0m\u001b[0;34m(\u001b[0m\u001b[0ms\u001b[0m\u001b[0;34m,\u001b[0m \u001b[0mkey\u001b[0m\u001b[0;34m)\u001b[0m\u001b[0;34m\u001b[0m\u001b[0m\n\u001b[0m\u001b[1;32m   4411\u001b[0m             \u001b[0;32mexcept\u001b[0m \u001b[0mIndexError\u001b[0m\u001b[0;34m:\u001b[0m\u001b[0;34m\u001b[0m\u001b[0m\n",
      "\u001b[0;32mpandas/_libs/index.pyx\u001b[0m in \u001b[0;36mpandas._libs.index.get_value_at\u001b[0;34m()\u001b[0m\n",
      "\u001b[0;32mpandas/_libs/index.pyx\u001b[0m in \u001b[0;36mpandas._libs.index.get_value_at\u001b[0;34m()\u001b[0m\n",
      "\u001b[0;32mpandas/_libs/util.pxd\u001b[0m in \u001b[0;36mpandas._libs.util.get_value_at\u001b[0;34m()\u001b[0m\n",
      "\u001b[0;32mpandas/_libs/util.pxd\u001b[0m in \u001b[0;36mpandas._libs.util.validate_indexer\u001b[0;34m()\u001b[0m\n",
      "\u001b[0;31mTypeError\u001b[0m: 'str' object cannot be interpreted as an integer",
      "\nDuring handling of the above exception, another exception occurred:\n",
      "\u001b[0;31mKeyError\u001b[0m                                  Traceback (most recent call last)",
      "\u001b[0;32m<ipython-input-171-20e972eed430>\u001b[0m in \u001b[0;36m<module>\u001b[0;34m\u001b[0m\n\u001b[1;32m      2\u001b[0m \u001b[0;34m\u001b[0m\u001b[0m\n\u001b[1;32m      3\u001b[0m \u001b[0mbgf\u001b[0m\u001b[0;34m.\u001b[0m\u001b[0mfit\u001b[0m\u001b[0;34m(\u001b[0m\u001b[0mdata\u001b[0m\u001b[0;34m[\u001b[0m\u001b[0;34m'frequency'\u001b[0m\u001b[0;34m]\u001b[0m\u001b[0;34m,\u001b[0m \u001b[0mdata\u001b[0m\u001b[0;34m[\u001b[0m\u001b[0;34m'recency'\u001b[0m\u001b[0;34m]\u001b[0m\u001b[0;34m,\u001b[0m \u001b[0mdata\u001b[0m\u001b[0;34m[\u001b[0m\u001b[0;34m'T'\u001b[0m\u001b[0;34m]\u001b[0m\u001b[0;34m)\u001b[0m\u001b[0;34m\u001b[0m\u001b[0m\n\u001b[0;32m----> 4\u001b[0;31m \u001b[0mplot_calibration_purchases_vs_holdout_purchases\u001b[0m\u001b[0;34m(\u001b[0m\u001b[0mbgf\u001b[0m\u001b[0;34m,\u001b[0m \u001b[0mdata\u001b[0m\u001b[0;34m)\u001b[0m\u001b[0;34m\u001b[0m\u001b[0m\n\u001b[0m",
      "\u001b[0;32m~/anaconda3/lib/python3.6/site-packages/lifetimes/plotting.py\u001b[0m in \u001b[0;36mplot_calibration_purchases_vs_holdout_purchases\u001b[0;34m(model, calibration_holdout_matrix, kind, n, **kwargs)\u001b[0m\n\u001b[1;32m    110\u001b[0m     }\n\u001b[1;32m    111\u001b[0m     \u001b[0msummary\u001b[0m \u001b[0;34m=\u001b[0m \u001b[0mcalibration_holdout_matrix\u001b[0m\u001b[0;34m.\u001b[0m\u001b[0mcopy\u001b[0m\u001b[0;34m(\u001b[0m\u001b[0;34m)\u001b[0m\u001b[0;34m\u001b[0m\u001b[0m\n\u001b[0;32m--> 112\u001b[0;31m     \u001b[0mduration_holdout\u001b[0m \u001b[0;34m=\u001b[0m \u001b[0msummary\u001b[0m\u001b[0;34m.\u001b[0m\u001b[0miloc\u001b[0m\u001b[0;34m[\u001b[0m\u001b[0;36m0\u001b[0m\u001b[0;34m]\u001b[0m\u001b[0;34m[\u001b[0m\u001b[0;34m\"duration_holdout\"\u001b[0m\u001b[0;34m]\u001b[0m\u001b[0;34m\u001b[0m\u001b[0m\n\u001b[0m\u001b[1;32m    113\u001b[0m \u001b[0;34m\u001b[0m\u001b[0m\n\u001b[1;32m    114\u001b[0m     summary[\"model_predictions\"] = summary.apply(\n",
      "\u001b[0;32m~/anaconda3/lib/python3.6/site-packages/pandas/core/series.py\u001b[0m in \u001b[0;36m__getitem__\u001b[0;34m(self, key)\u001b[0m\n\u001b[1;32m    869\u001b[0m         \u001b[0mkey\u001b[0m \u001b[0;34m=\u001b[0m \u001b[0mcom\u001b[0m\u001b[0;34m.\u001b[0m\u001b[0mapply_if_callable\u001b[0m\u001b[0;34m(\u001b[0m\u001b[0mkey\u001b[0m\u001b[0;34m,\u001b[0m \u001b[0mself\u001b[0m\u001b[0;34m)\u001b[0m\u001b[0;34m\u001b[0m\u001b[0m\n\u001b[1;32m    870\u001b[0m         \u001b[0;32mtry\u001b[0m\u001b[0;34m:\u001b[0m\u001b[0;34m\u001b[0m\u001b[0m\n\u001b[0;32m--> 871\u001b[0;31m             \u001b[0mresult\u001b[0m \u001b[0;34m=\u001b[0m \u001b[0mself\u001b[0m\u001b[0;34m.\u001b[0m\u001b[0mindex\u001b[0m\u001b[0;34m.\u001b[0m\u001b[0mget_value\u001b[0m\u001b[0;34m(\u001b[0m\u001b[0mself\u001b[0m\u001b[0;34m,\u001b[0m \u001b[0mkey\u001b[0m\u001b[0;34m)\u001b[0m\u001b[0;34m\u001b[0m\u001b[0m\n\u001b[0m\u001b[1;32m    872\u001b[0m \u001b[0;34m\u001b[0m\u001b[0m\n\u001b[1;32m    873\u001b[0m             \u001b[0;32mif\u001b[0m \u001b[0;32mnot\u001b[0m \u001b[0mis_scalar\u001b[0m\u001b[0;34m(\u001b[0m\u001b[0mresult\u001b[0m\u001b[0;34m)\u001b[0m\u001b[0;34m:\u001b[0m\u001b[0;34m\u001b[0m\u001b[0m\n",
      "\u001b[0;32m~/anaconda3/lib/python3.6/site-packages/pandas/core/indexes/base.py\u001b[0m in \u001b[0;36mget_value\u001b[0;34m(self, series, key)\u001b[0m\n\u001b[1;32m   4416\u001b[0m                     \u001b[0;32mraise\u001b[0m \u001b[0mInvalidIndexError\u001b[0m\u001b[0;34m(\u001b[0m\u001b[0mkey\u001b[0m\u001b[0;34m)\u001b[0m\u001b[0;34m\u001b[0m\u001b[0m\n\u001b[1;32m   4417\u001b[0m                 \u001b[0;32melse\u001b[0m\u001b[0;34m:\u001b[0m\u001b[0;34m\u001b[0m\u001b[0m\n\u001b[0;32m-> 4418\u001b[0;31m                     \u001b[0;32mraise\u001b[0m \u001b[0me1\u001b[0m\u001b[0;34m\u001b[0m\u001b[0m\n\u001b[0m\u001b[1;32m   4419\u001b[0m             \u001b[0;32mexcept\u001b[0m \u001b[0mException\u001b[0m\u001b[0;34m:\u001b[0m\u001b[0;34m\u001b[0m\u001b[0m\n\u001b[1;32m   4420\u001b[0m                 \u001b[0;32mraise\u001b[0m \u001b[0me1\u001b[0m\u001b[0;34m\u001b[0m\u001b[0m\n",
      "\u001b[0;32m~/anaconda3/lib/python3.6/site-packages/pandas/core/indexes/base.py\u001b[0m in \u001b[0;36mget_value\u001b[0;34m(self, series, key)\u001b[0m\n\u001b[1;32m   4402\u001b[0m         \u001b[0mk\u001b[0m \u001b[0;34m=\u001b[0m \u001b[0mself\u001b[0m\u001b[0;34m.\u001b[0m\u001b[0m_convert_scalar_indexer\u001b[0m\u001b[0;34m(\u001b[0m\u001b[0mk\u001b[0m\u001b[0;34m,\u001b[0m \u001b[0mkind\u001b[0m\u001b[0;34m=\u001b[0m\u001b[0;34m\"getitem\"\u001b[0m\u001b[0;34m)\u001b[0m\u001b[0;34m\u001b[0m\u001b[0m\n\u001b[1;32m   4403\u001b[0m         \u001b[0;32mtry\u001b[0m\u001b[0;34m:\u001b[0m\u001b[0;34m\u001b[0m\u001b[0m\n\u001b[0;32m-> 4404\u001b[0;31m             \u001b[0;32mreturn\u001b[0m \u001b[0mself\u001b[0m\u001b[0;34m.\u001b[0m\u001b[0m_engine\u001b[0m\u001b[0;34m.\u001b[0m\u001b[0mget_value\u001b[0m\u001b[0;34m(\u001b[0m\u001b[0ms\u001b[0m\u001b[0;34m,\u001b[0m \u001b[0mk\u001b[0m\u001b[0;34m,\u001b[0m \u001b[0mtz\u001b[0m\u001b[0;34m=\u001b[0m\u001b[0mgetattr\u001b[0m\u001b[0;34m(\u001b[0m\u001b[0mseries\u001b[0m\u001b[0;34m.\u001b[0m\u001b[0mdtype\u001b[0m\u001b[0;34m,\u001b[0m \u001b[0;34m\"tz\"\u001b[0m\u001b[0;34m,\u001b[0m \u001b[0;32mNone\u001b[0m\u001b[0;34m)\u001b[0m\u001b[0;34m)\u001b[0m\u001b[0;34m\u001b[0m\u001b[0m\n\u001b[0m\u001b[1;32m   4405\u001b[0m         \u001b[0;32mexcept\u001b[0m \u001b[0mKeyError\u001b[0m \u001b[0;32mas\u001b[0m \u001b[0me1\u001b[0m\u001b[0;34m:\u001b[0m\u001b[0;34m\u001b[0m\u001b[0m\n\u001b[1;32m   4406\u001b[0m             \u001b[0;32mif\u001b[0m \u001b[0mlen\u001b[0m\u001b[0;34m(\u001b[0m\u001b[0mself\u001b[0m\u001b[0;34m)\u001b[0m \u001b[0;34m>\u001b[0m \u001b[0;36m0\u001b[0m \u001b[0;32mand\u001b[0m \u001b[0;34m(\u001b[0m\u001b[0mself\u001b[0m\u001b[0;34m.\u001b[0m\u001b[0mholds_integer\u001b[0m\u001b[0;34m(\u001b[0m\u001b[0;34m)\u001b[0m \u001b[0;32mor\u001b[0m \u001b[0mself\u001b[0m\u001b[0;34m.\u001b[0m\u001b[0mis_boolean\u001b[0m\u001b[0;34m(\u001b[0m\u001b[0;34m)\u001b[0m\u001b[0;34m)\u001b[0m\u001b[0;34m:\u001b[0m\u001b[0;34m\u001b[0m\u001b[0m\n",
      "\u001b[0;32mpandas/_libs/index.pyx\u001b[0m in \u001b[0;36mpandas._libs.index.IndexEngine.get_value\u001b[0;34m()\u001b[0m\n",
      "\u001b[0;32mpandas/_libs/index.pyx\u001b[0m in \u001b[0;36mpandas._libs.index.IndexEngine.get_value\u001b[0;34m()\u001b[0m\n",
      "\u001b[0;32mpandas/_libs/index.pyx\u001b[0m in \u001b[0;36mpandas._libs.index.IndexEngine.get_loc\u001b[0;34m()\u001b[0m\n",
      "\u001b[0;32mpandas/_libs/hashtable_class_helper.pxi\u001b[0m in \u001b[0;36mpandas._libs.hashtable.PyObjectHashTable.get_item\u001b[0;34m()\u001b[0m\n",
      "\u001b[0;32mpandas/_libs/hashtable_class_helper.pxi\u001b[0m in \u001b[0;36mpandas._libs.hashtable.PyObjectHashTable.get_item\u001b[0;34m()\u001b[0m\n",
      "\u001b[0;31mKeyError\u001b[0m: 'duration_holdout'"
     ]
    }
   ],
   "source": [
    "from lifetimes.plotting import plot_calibration_purchases_vs_holdout_purchases\n",
    "\n",
    "bgf.fit(data['frequency'], data['recency'], data['T'])\n",
    "plot_calibration_purchases_vs_holdout_purchases(bgf, data)"
   ]
  },
  {
   "cell_type": "markdown",
   "metadata": {},
   "source": [
    "## Gamma-Gamma"
   ]
  },
  {
   "cell_type": "code",
   "execution_count": 251,
   "metadata": {
    "ExecuteTime": {
     "end_time": "2020-05-14T06:32:25.715482Z",
     "start_time": "2020-05-14T06:32:25.710665Z"
    }
   },
   "outputs": [],
   "source": [
    "data2 = df_RFM[[\"frequency\", \"recency\", \"T\", \"total_purchase_amount_x\"]]\n",
    "data2[\"monetary_value\"] = data2[\"total_purchase_amount_x\"] / (1 + data2[\"frequency\"])"
   ]
  },
  {
   "cell_type": "code",
   "execution_count": 252,
   "metadata": {
    "ExecuteTime": {
     "end_time": "2020-05-14T06:32:26.402612Z",
     "start_time": "2020-05-14T06:32:26.397029Z"
    }
   },
   "outputs": [],
   "source": [
    "data2 = data2[[\"frequency\", \"recency\", \"T\", \"monetary_value\"]]\n",
    "data2[\"monetary_value\"] = data2[\"monetary_value\"].apply(lambda x:0.01 if x<=0 else x)"
   ]
  },
  {
   "cell_type": "code",
   "execution_count": 253,
   "metadata": {
    "ExecuteTime": {
     "end_time": "2020-05-14T06:32:27.026571Z",
     "start_time": "2020-05-14T06:32:27.017614Z"
    }
   },
   "outputs": [
    {
     "data": {
      "text/html": [
       "<div>\n",
       "<style scoped>\n",
       "    .dataframe tbody tr th:only-of-type {\n",
       "        vertical-align: middle;\n",
       "    }\n",
       "\n",
       "    .dataframe tbody tr th {\n",
       "        vertical-align: top;\n",
       "    }\n",
       "\n",
       "    .dataframe thead th {\n",
       "        text-align: right;\n",
       "    }\n",
       "</style>\n",
       "<table border=\"1\" class=\"dataframe\">\n",
       "  <thead>\n",
       "    <tr style=\"text-align: right;\">\n",
       "      <th></th>\n",
       "      <th>frequency</th>\n",
       "      <th>recency</th>\n",
       "      <th>T</th>\n",
       "      <th>monetary_value</th>\n",
       "    </tr>\n",
       "  </thead>\n",
       "  <tbody>\n",
       "    <tr>\n",
       "      <th>frequency</th>\n",
       "      <td>1.000000</td>\n",
       "      <td>0.572464</td>\n",
       "      <td>0.350017</td>\n",
       "      <td>0.106046</td>\n",
       "    </tr>\n",
       "    <tr>\n",
       "      <th>recency</th>\n",
       "      <td>0.572464</td>\n",
       "      <td>1.000000</td>\n",
       "      <td>0.608634</td>\n",
       "      <td>0.116736</td>\n",
       "    </tr>\n",
       "    <tr>\n",
       "      <th>T</th>\n",
       "      <td>0.350017</td>\n",
       "      <td>0.608634</td>\n",
       "      <td>1.000000</td>\n",
       "      <td>0.004485</td>\n",
       "    </tr>\n",
       "    <tr>\n",
       "      <th>monetary_value</th>\n",
       "      <td>0.106046</td>\n",
       "      <td>0.116736</td>\n",
       "      <td>0.004485</td>\n",
       "      <td>1.000000</td>\n",
       "    </tr>\n",
       "  </tbody>\n",
       "</table>\n",
       "</div>"
      ],
      "text/plain": [
       "                frequency   recency         T  monetary_value\n",
       "frequency        1.000000  0.572464  0.350017        0.106046\n",
       "recency          0.572464  1.000000  0.608634        0.116736\n",
       "T                0.350017  0.608634  1.000000        0.004485\n",
       "monetary_value   0.106046  0.116736  0.004485        1.000000"
      ]
     },
     "execution_count": 253,
     "metadata": {},
     "output_type": "execute_result"
    }
   ],
   "source": [
    "data2.corr()"
   ]
  },
  {
   "cell_type": "code",
   "execution_count": 254,
   "metadata": {
    "ExecuteTime": {
     "end_time": "2020-05-14T06:32:27.691670Z",
     "start_time": "2020-05-14T06:32:27.687822Z"
    }
   },
   "outputs": [
    {
     "data": {
      "text/plain": [
       "0"
      ]
     },
     "execution_count": 254,
     "metadata": {},
     "output_type": "execute_result"
    }
   ],
   "source": [
    "(data2[\"monetary_value\"] <=0).sum()"
   ]
  },
  {
   "cell_type": "code",
   "execution_count": 255,
   "metadata": {
    "ExecuteTime": {
     "end_time": "2020-05-14T06:32:28.426606Z",
     "start_time": "2020-05-14T06:32:28.423022Z"
    }
   },
   "outputs": [
    {
     "data": {
      "text/plain": [
       "210"
      ]
     },
     "execution_count": 255,
     "metadata": {},
     "output_type": "execute_result"
    }
   ],
   "source": [
    "(data2['frequency']==0).sum()"
   ]
  },
  {
   "cell_type": "code",
   "execution_count": 256,
   "metadata": {
    "ExecuteTime": {
     "end_time": "2020-05-14T06:32:29.154390Z",
     "start_time": "2020-05-14T06:32:29.118822Z"
    }
   },
   "outputs": [
    {
     "name": "stdout",
     "output_type": "stream",
     "text": [
      "<lifetimes.GammaGammaFitter: fitted with 345 subjects, p: 2.05, q: 0.25, v: 1.95>\n"
     ]
    }
   ],
   "source": [
    "from lifetimes import GammaGammaFitter\n",
    "\n",
    "returning_customers_summary = data2[data2['frequency']>0]\n",
    "\n",
    "ggf = GammaGammaFitter(penalizer_coef = 0.03)\n",
    "ggf.fit(returning_customers_summary['frequency'],\n",
    "        returning_customers_summary['monetary_value'])\n",
    "print(ggf)"
   ]
  },
  {
   "cell_type": "code",
   "execution_count": 257,
   "metadata": {
    "ExecuteTime": {
     "end_time": "2020-05-14T06:32:29.886254Z",
     "start_time": "2020-05-14T06:32:29.880940Z"
    }
   },
   "outputs": [],
   "source": [
    "returning_customers_summary[\"predict\"] = ggf.conditional_expected_average_profit(\n",
    "                                                        returning_customers_summary['frequency'],\n",
    "                                                        returning_customers_summary['monetary_value']\n",
    "                                                    )"
   ]
  },
  {
   "cell_type": "code",
   "execution_count": 258,
   "metadata": {
    "ExecuteTime": {
     "end_time": "2020-05-14T06:32:32.117536Z",
     "start_time": "2020-05-14T06:32:32.113422Z"
    }
   },
   "outputs": [],
   "source": [
    "data2['predicted_purchases'] = data['predicted_purchases']"
   ]
  },
  {
   "cell_type": "code",
   "execution_count": 259,
   "metadata": {
    "ExecuteTime": {
     "end_time": "2020-05-14T06:32:33.564640Z",
     "start_time": "2020-05-14T06:32:33.560183Z"
    }
   },
   "outputs": [],
   "source": [
    "data2[\"predict\"] = returning_customers_summary[\"predict\"]"
   ]
  },
  {
   "cell_type": "code",
   "execution_count": 260,
   "metadata": {
    "ExecuteTime": {
     "end_time": "2020-05-14T06:32:34.420773Z",
     "start_time": "2020-05-14T06:32:34.413497Z"
    }
   },
   "outputs": [],
   "source": [
    "data2[\"predict\"][data2[\"frequency\"] == 0] = data2[data2[\"frequency\"] == 0][\"monetary_value\"]"
   ]
  },
  {
   "cell_type": "code",
   "execution_count": 261,
   "metadata": {
    "ExecuteTime": {
     "end_time": "2020-05-14T06:32:35.125232Z",
     "start_time": "2020-05-14T06:32:35.116932Z"
    }
   },
   "outputs": [
    {
     "data": {
      "text/html": [
       "<div>\n",
       "<style scoped>\n",
       "    .dataframe tbody tr th:only-of-type {\n",
       "        vertical-align: middle;\n",
       "    }\n",
       "\n",
       "    .dataframe tbody tr th {\n",
       "        vertical-align: top;\n",
       "    }\n",
       "\n",
       "    .dataframe thead th {\n",
       "        text-align: right;\n",
       "    }\n",
       "</style>\n",
       "<table border=\"1\" class=\"dataframe\">\n",
       "  <thead>\n",
       "    <tr style=\"text-align: right;\">\n",
       "      <th></th>\n",
       "      <th>frequency</th>\n",
       "      <th>recency</th>\n",
       "      <th>T</th>\n",
       "      <th>monetary_value</th>\n",
       "      <th>predicted_purchases</th>\n",
       "      <th>predict</th>\n",
       "    </tr>\n",
       "  </thead>\n",
       "  <tbody>\n",
       "    <tr>\n",
       "      <th>1260</th>\n",
       "      <td>8</td>\n",
       "      <td>175</td>\n",
       "      <td>214</td>\n",
       "      <td>829.873333</td>\n",
       "      <td>2.967992</td>\n",
       "      <td>870.066793</td>\n",
       "    </tr>\n",
       "    <tr>\n",
       "      <th>1469</th>\n",
       "      <td>3</td>\n",
       "      <td>98</td>\n",
       "      <td>104</td>\n",
       "      <td>157.132500</td>\n",
       "      <td>2.199977</td>\n",
       "      <td>179.795742</td>\n",
       "    </tr>\n",
       "    <tr>\n",
       "      <th>3168</th>\n",
       "      <td>7</td>\n",
       "      <td>241</td>\n",
       "      <td>270</td>\n",
       "      <td>195.882500</td>\n",
       "      <td>2.190657</td>\n",
       "      <td>207.024152</td>\n",
       "    </tr>\n",
       "    <tr>\n",
       "      <th>1983</th>\n",
       "      <td>0</td>\n",
       "      <td>0</td>\n",
       "      <td>108</td>\n",
       "      <td>143.300000</td>\n",
       "      <td>0.423400</td>\n",
       "      <td>143.300000</td>\n",
       "    </tr>\n",
       "    <tr>\n",
       "      <th>2499</th>\n",
       "      <td>2</td>\n",
       "      <td>96</td>\n",
       "      <td>118</td>\n",
       "      <td>908.193333</td>\n",
       "      <td>1.490668</td>\n",
       "      <td>1113.717380</td>\n",
       "    </tr>\n",
       "    <tr>\n",
       "      <th>128</th>\n",
       "      <td>11</td>\n",
       "      <td>252</td>\n",
       "      <td>258</td>\n",
       "      <td>417.238333</td>\n",
       "      <td>3.444329</td>\n",
       "      <td>431.835773</td>\n",
       "    </tr>\n",
       "    <tr>\n",
       "      <th>287</th>\n",
       "      <td>0</td>\n",
       "      <td>0</td>\n",
       "      <td>2</td>\n",
       "      <td>283.550000</td>\n",
       "      <td>1.324510</td>\n",
       "      <td>283.550000</td>\n",
       "    </tr>\n",
       "    <tr>\n",
       "      <th>2040</th>\n",
       "      <td>2</td>\n",
       "      <td>83</td>\n",
       "      <td>215</td>\n",
       "      <td>70.766667</td>\n",
       "      <td>0.904953</td>\n",
       "      <td>87.879729</td>\n",
       "    </tr>\n",
       "  </tbody>\n",
       "</table>\n",
       "</div>"
      ],
      "text/plain": [
       "      frequency  recency    T  monetary_value  predicted_purchases  \\\n",
       "1260          8      175  214      829.873333             2.967992   \n",
       "1469          3       98  104      157.132500             2.199977   \n",
       "3168          7      241  270      195.882500             2.190657   \n",
       "1983          0        0  108      143.300000             0.423400   \n",
       "2499          2       96  118      908.193333             1.490668   \n",
       "128          11      252  258      417.238333             3.444329   \n",
       "287           0        0    2      283.550000             1.324510   \n",
       "2040          2       83  215       70.766667             0.904953   \n",
       "\n",
       "          predict  \n",
       "1260   870.066793  \n",
       "1469   179.795742  \n",
       "3168   207.024152  \n",
       "1983   143.300000  \n",
       "2499  1113.717380  \n",
       "128    431.835773  \n",
       "287    283.550000  \n",
       "2040    87.879729  "
      ]
     },
     "execution_count": 261,
     "metadata": {},
     "output_type": "execute_result"
    }
   ],
   "source": [
    "data2.head(8)"
   ]
  },
  {
   "cell_type": "code",
   "execution_count": 262,
   "metadata": {
    "ExecuteTime": {
     "end_time": "2020-05-14T06:32:35.926253Z",
     "start_time": "2020-05-14T06:32:35.922809Z"
    }
   },
   "outputs": [],
   "source": [
    "sales_predict = data2[\"predict\"] * data2[\"predicted_purchases\"]"
   ]
  },
  {
   "cell_type": "code",
   "execution_count": 263,
   "metadata": {
    "ExecuteTime": {
     "end_time": "2020-05-14T06:32:39.552623Z",
     "start_time": "2020-05-14T06:32:39.550284Z"
    }
   },
   "outputs": [],
   "source": [
    "# sales_actual = df_RFM[\"next_3_months_spend\"][returning_customers_summary.index].sum()\n",
    "sales_actual2 = y_test2"
   ]
  },
  {
   "cell_type": "code",
   "execution_count": 264,
   "metadata": {
    "ExecuteTime": {
     "end_time": "2020-05-14T06:32:40.237266Z",
     "start_time": "2020-05-14T06:32:40.232963Z"
    }
   },
   "outputs": [
    {
     "data": {
      "text/plain": [
       "1190.8937733285234"
      ]
     },
     "execution_count": 264,
     "metadata": {},
     "output_type": "execute_result"
    }
   ],
   "source": [
    "RMSE = (((sales_predict - sales_actual2)**2).sum() / sales_actual2.shape[0])**0.5; RMSE"
   ]
  },
  {
   "cell_type": "code",
   "execution_count": null,
   "metadata": {},
   "outputs": [],
   "source": []
  },
  {
   "cell_type": "code",
   "execution_count": null,
   "metadata": {},
   "outputs": [],
   "source": []
  },
  {
   "cell_type": "code",
   "execution_count": 1069,
   "metadata": {
    "ExecuteTime": {
     "end_time": "2020-05-14T03:44:25.363666Z",
     "start_time": "2020-05-14T03:44:25.359454Z"
    }
   },
   "outputs": [
    {
     "data": {
      "text/plain": [
       "'2011-08-31'"
      ]
     },
     "execution_count": 1069,
     "metadata": {},
     "output_type": "execute_result"
    }
   ],
   "source": [
    "df_RFM.first_purchase_date.max()"
   ]
  },
  {
   "cell_type": "code",
   "execution_count": null,
   "metadata": {},
   "outputs": [],
   "source": []
  },
  {
   "cell_type": "code",
   "execution_count": 248,
   "metadata": {
    "ExecuteTime": {
     "end_time": "2020-05-13T05:47:24.125600Z",
     "start_time": "2020-05-13T05:47:23.936399Z"
    }
   },
   "outputs": [
    {
     "name": "stdout",
     "output_type": "stream",
     "text": [
      "                  date  id\n",
      "0  2014-03-08 00:00:00   0\n",
      "1  2014-05-21 00:00:00   1\n",
      "2  2014-03-14 00:00:00   2\n",
      "3  2014-04-09 00:00:00   2\n",
      "4  2014-05-21 00:00:00   2\n",
      "    frequency  recency      T\n",
      "id                           \n",
      "0         0.0      0.0  298.0\n",
      "1         0.0      0.0  224.0\n",
      "2         6.0    142.0  292.0\n",
      "3         0.0      0.0  147.0\n",
      "4         2.0      9.0  183.0\n"
     ]
    },
    {
     "data": {
      "text/plain": [
       "<lifetimes.BetaGeoFitter: fitted with 5000 subjects, a: 0.37, alpha: 1.79, b: 0.36, r: 0.16>"
      ]
     },
     "execution_count": 248,
     "metadata": {},
     "output_type": "execute_result"
    }
   ],
   "source": [
    "from lifetimes.datasets import load_transaction_data\n",
    "from lifetimes.utils import summary_data_from_transaction_data\n",
    "\n",
    "transaction_data = load_transaction_data()\n",
    "print(transaction_data.head())\n",
    "\"\"\"\n",
    "                  date  id\n",
    "0  2014-03-08 00:00:00   0\n",
    "1  2014-05-21 00:00:00   1\n",
    "2  2014-03-14 00:00:00   2\n",
    "3  2014-04-09 00:00:00   2\n",
    "4  2014-05-21 00:00:00   2\n",
    "\"\"\"\n",
    "\n",
    "summary = summary_data_from_transaction_data(transaction_data, 'id', 'date', observation_period_end='2014-12-31')\n",
    "\n",
    "print(summary.head())\n",
    "\"\"\"\n",
    "frequency  recency      T\n",
    "id\n",
    "0         0.0      0.0  298.0\n",
    "1         0.0      0.0  224.0\n",
    "2         6.0    142.0  292.0\n",
    "3         0.0      0.0  147.0\n",
    "4         2.0      9.0  183.0\n",
    "\"\"\"\n",
    "\n",
    "bgf.fit(summary['frequency'], summary['recency'], summary['T'])"
   ]
  },
  {
   "cell_type": "code",
   "execution_count": 250,
   "metadata": {
    "ExecuteTime": {
     "end_time": "2020-05-13T05:47:57.592905Z",
     "start_time": "2020-05-13T05:47:57.582781Z"
    }
   },
   "outputs": [
    {
     "data": {
      "text/html": [
       "<div>\n",
       "<style scoped>\n",
       "    .dataframe tbody tr th:only-of-type {\n",
       "        vertical-align: middle;\n",
       "    }\n",
       "\n",
       "    .dataframe tbody tr th {\n",
       "        vertical-align: top;\n",
       "    }\n",
       "\n",
       "    .dataframe thead th {\n",
       "        text-align: right;\n",
       "    }\n",
       "</style>\n",
       "<table border=\"1\" class=\"dataframe\">\n",
       "  <thead>\n",
       "    <tr style=\"text-align: right;\">\n",
       "      <th></th>\n",
       "      <th>date</th>\n",
       "      <th>id</th>\n",
       "    </tr>\n",
       "  </thead>\n",
       "  <tbody>\n",
       "    <tr>\n",
       "      <th>2</th>\n",
       "      <td>2014-03-14 00:00:00</td>\n",
       "      <td>2</td>\n",
       "    </tr>\n",
       "    <tr>\n",
       "      <th>3</th>\n",
       "      <td>2014-04-09 00:00:00</td>\n",
       "      <td>2</td>\n",
       "    </tr>\n",
       "    <tr>\n",
       "      <th>4</th>\n",
       "      <td>2014-05-21 00:00:00</td>\n",
       "      <td>2</td>\n",
       "    </tr>\n",
       "    <tr>\n",
       "      <th>5</th>\n",
       "      <td>2014-06-08 00:00:00</td>\n",
       "      <td>2</td>\n",
       "    </tr>\n",
       "    <tr>\n",
       "      <th>6</th>\n",
       "      <td>2014-06-30 00:00:00</td>\n",
       "      <td>2</td>\n",
       "    </tr>\n",
       "    <tr>\n",
       "      <th>7</th>\n",
       "      <td>2014-07-31 00:00:00</td>\n",
       "      <td>2</td>\n",
       "    </tr>\n",
       "    <tr>\n",
       "      <th>8</th>\n",
       "      <td>2014-08-03 00:00:00</td>\n",
       "      <td>2</td>\n",
       "    </tr>\n",
       "  </tbody>\n",
       "</table>\n",
       "</div>"
      ],
      "text/plain": [
       "                  date  id\n",
       "2  2014-03-14 00:00:00   2\n",
       "3  2014-04-09 00:00:00   2\n",
       "4  2014-05-21 00:00:00   2\n",
       "5  2014-06-08 00:00:00   2\n",
       "6  2014-06-30 00:00:00   2\n",
       "7  2014-07-31 00:00:00   2\n",
       "8  2014-08-03 00:00:00   2"
      ]
     },
     "execution_count": 250,
     "metadata": {},
     "output_type": "execute_result"
    }
   ],
   "source": [
    "transaction_data[transaction_data[\"id\"] == 2]"
   ]
  },
  {
   "cell_type": "code",
   "execution_count": 252,
   "metadata": {
    "ExecuteTime": {
     "end_time": "2020-05-13T05:49:06.236582Z",
     "start_time": "2020-05-13T05:49:06.230012Z"
    }
   },
   "outputs": [
    {
     "data": {
      "text/plain": [
       "frequency      6.0\n",
       "recency      142.0\n",
       "T            292.0\n",
       "Name: 2, dtype: float64"
      ]
     },
     "execution_count": 252,
     "metadata": {},
     "output_type": "execute_result"
    }
   ],
   "source": [
    "summary.iloc[2,:]"
   ]
  },
  {
   "cell_type": "code",
   "execution_count": 254,
   "metadata": {
    "ExecuteTime": {
     "end_time": "2020-05-13T05:50:15.331912Z",
     "start_time": "2020-05-13T05:50:15.325417Z"
    }
   },
   "outputs": [
    {
     "data": {
      "text/plain": [
       "Timedelta('292 days 00:00:00')"
      ]
     },
     "execution_count": 254,
     "metadata": {},
     "output_type": "execute_result"
    }
   ],
   "source": [
    "pd.to_datetime(\"2014-12-31\") - pd.to_datetime(\"2014-03-14\")"
   ]
  },
  {
   "cell_type": "code",
   "execution_count": 255,
   "metadata": {
    "ExecuteTime": {
     "end_time": "2020-05-13T05:51:14.594108Z",
     "start_time": "2020-05-13T05:51:14.588156Z"
    }
   },
   "outputs": [
    {
     "data": {
      "text/plain": [
       "Timedelta('142 days 00:00:00')"
      ]
     },
     "execution_count": 255,
     "metadata": {},
     "output_type": "execute_result"
    }
   ],
   "source": [
    "pd.to_datetime(\"2014-08-03\") - pd.to_datetime(\"2014-03-14\")"
   ]
  },
  {
   "cell_type": "code",
   "execution_count": 258,
   "metadata": {
    "ExecuteTime": {
     "end_time": "2020-05-13T05:53:12.436882Z",
     "start_time": "2020-05-13T05:53:12.394064Z"
    }
   },
   "outputs": [
    {
     "data": {
      "text/plain": [
       "Timestamp('2012-11-30 00:00:00')"
      ]
     },
     "execution_count": 258,
     "metadata": {},
     "output_type": "execute_result"
    }
   ],
   "source": [
    "pd.to_datetime(df_RFM[\"last_purchase_date\"]).max()"
   ]
  },
  {
   "cell_type": "code",
   "execution_count": null,
   "metadata": {},
   "outputs": [],
   "source": []
  }
 ],
 "metadata": {
  "kernelspec": {
   "display_name": "Python 3",
   "language": "python",
   "name": "python3"
  },
  "language_info": {
   "codemirror_mode": {
    "name": "ipython",
    "version": 3
   },
   "file_extension": ".py",
   "mimetype": "text/x-python",
   "name": "python",
   "nbconvert_exporter": "python",
   "pygments_lexer": "ipython3",
   "version": "3.6.5"
  },
  "toc": {
   "base_numbering": 1,
   "nav_menu": {},
   "number_sections": true,
   "sideBar": true,
   "skip_h1_title": false,
   "title_cell": "Table of Contents",
   "title_sidebar": "Contents",
   "toc_cell": false,
   "toc_position": {
    "height": "calc(100% - 180px)",
    "left": "10px",
    "top": "150px",
    "width": "426.667px"
   },
   "toc_section_display": true,
   "toc_window_display": true
  },
  "varInspector": {
   "cols": {
    "lenName": 16,
    "lenType": 16,
    "lenVar": 40
   },
   "kernels_config": {
    "python": {
     "delete_cmd_postfix": "",
     "delete_cmd_prefix": "del ",
     "library": "var_list.py",
     "varRefreshCmd": "print(var_dic_list())"
    },
    "r": {
     "delete_cmd_postfix": ") ",
     "delete_cmd_prefix": "rm(",
     "library": "var_list.r",
     "varRefreshCmd": "cat(var_dic_list()) "
    }
   },
   "types_to_exclude": [
    "module",
    "function",
    "builtin_function_or_method",
    "instance",
    "_Feature"
   ],
   "window_display": false
  }
 },
 "nbformat": 4,
 "nbformat_minor": 4
}
