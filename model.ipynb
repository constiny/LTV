{
 "cells": [
  {
   "cell_type": "code",
   "execution_count": 2,
   "metadata": {
    "ExecuteTime": {
     "end_time": "2020-05-14T15:45:01.568452Z",
     "start_time": "2020-05-14T15:45:00.408176Z"
    }
   },
   "outputs": [],
   "source": [
    "import numpy as np\n",
    "import pandas as pd\n",
    "import matplotlib.pyplot as plt\n",
    "import seaborn as sns\n",
    "\n",
    "plt.style.use('ggplot')\n",
    "\n",
    "\n",
    "from sklearn.ensemble import RandomForestClassifier\n",
    "from sklearn.linear_model import LogisticRegression\n",
    "from sklearn.neighbors import KNeighborsClassifier\n",
    "from sklearn.ensemble import GradientBoostingClassifier\n",
    "from sklearn.svm import SVC\n",
    "\n",
    "from sklearn.model_selection import train_test_split, GridSearchCV\n",
    "from sklearn.metrics import accuracy_score, recall_score, precision_score, f1_score, roc_auc_score, confusion_matrix, make_scorer, roc_curve\n",
    "\n",
    "%matplotlib inline"
   ]
  },
  {
   "cell_type": "markdown",
   "metadata": {},
   "source": [
    "# Churn"
   ]
  },
  {
   "cell_type": "code",
   "execution_count": 49,
   "metadata": {
    "ExecuteTime": {
     "end_time": "2020-05-14T19:14:41.552124Z",
     "start_time": "2020-05-14T19:14:41.540803Z"
    }
   },
   "outputs": [],
   "source": [
    "df_churn = pd.read_csv(\"fdb_churn_train.csv\", index_col=0)\n",
    "df_churn[\"next_3_months_spend\"] = df_churn[\"next_3_months_spend\"].fillna(0)"
   ]
  },
  {
   "cell_type": "code",
   "execution_count": 50,
   "metadata": {
    "ExecuteTime": {
     "end_time": "2020-05-14T19:14:44.262061Z",
     "start_time": "2020-05-14T19:14:44.257855Z"
    },
    "hide_input": false
   },
   "outputs": [],
   "source": [
    "y1 = df_churn.churn\n",
    "y2 = df_churn.next_3_months_spend\n",
    "X = df_churn.iloc[:,:-2]"
   ]
  },
  {
   "cell_type": "code",
   "execution_count": 51,
   "metadata": {
    "ExecuteTime": {
     "end_time": "2020-05-14T19:14:44.648059Z",
     "start_time": "2020-05-14T19:14:44.640123Z"
    }
   },
   "outputs": [
    {
     "name": "stdout",
     "output_type": "stream",
     "text": [
      "<class 'pandas.core.frame.DataFrame'>\n",
      "Int64Index: 2653 entries, 535 to 3174\n",
      "Data columns (total 6 columns):\n",
      " #   Column                   Non-Null Count  Dtype  \n",
      "---  ------                   --------------  -----  \n",
      " 0   CustomerID               2653 non-null   float64\n",
      " 1   first_purchase_date      2653 non-null   object \n",
      " 2   last_purchase_date       2653 non-null   object \n",
      " 3   total_purchases          2653 non-null   int64  \n",
      " 4   total_purchase_amount_x  2653 non-null   float64\n",
      " 5   last_3_months_spend      2653 non-null   float64\n",
      "dtypes: float64(3), int64(1), object(2)\n",
      "memory usage: 145.1+ KB\n"
     ]
    }
   ],
   "source": [
    "X.info()"
   ]
  },
  {
   "cell_type": "code",
   "execution_count": 52,
   "metadata": {
    "ExecuteTime": {
     "end_time": "2020-05-14T19:14:45.965398Z",
     "start_time": "2020-05-14T19:14:45.955228Z"
    }
   },
   "outputs": [
    {
     "data": {
      "text/plain": [
       "CustomerID                                                       4.05499e+07\n",
       "first_purchase_date        2011-06-092011-01-112011-02-102011-07-122011-0...\n",
       "last_purchase_date         2011-06-092011-01-112011-04-072011-07-122011-0...\n",
       "total_purchases                                                         8333\n",
       "total_purchase_amount_x                                          4.46622e+06\n",
       "last_3_months_spend                                              1.64521e+06\n",
       "next_3_months_spend                                              2.24836e+06\n",
       "churn                                                                   1142\n",
       "dtype: object"
      ]
     },
     "execution_count": 52,
     "metadata": {},
     "output_type": "execute_result"
    }
   ],
   "source": [
    "df_churn.sum()"
   ]
  },
  {
   "cell_type": "code",
   "execution_count": 53,
   "metadata": {
    "ExecuteTime": {
     "end_time": "2020-05-14T19:14:46.512413Z",
     "start_time": "2020-05-14T19:14:46.508313Z"
    }
   },
   "outputs": [
    {
     "data": {
      "text/plain": [
       "'2011-08-31'"
      ]
     },
     "execution_count": 53,
     "metadata": {},
     "output_type": "execute_result"
    }
   ],
   "source": [
    "df_churn[\"last_purchase_date\"].max()"
   ]
  },
  {
   "cell_type": "code",
   "execution_count": 54,
   "metadata": {
    "ExecuteTime": {
     "end_time": "2020-05-14T19:14:55.757494Z",
     "start_time": "2020-05-14T19:14:55.702848Z"
    }
   },
   "outputs": [],
   "source": [
    "X[\"length\"] = (pd.to_datetime(df_churn.last_purchase_date) - \n",
    "                     pd.to_datetime(df_churn.first_purchase_date)).apply(lambda x:x.days)\n",
    "X[\"recency\"] = (pd.to_datetime(\"2011-09-01\") - \n",
    "                     pd.to_datetime(df_churn.last_purchase_date)).apply(lambda x:x.days)"
   ]
  },
  {
   "cell_type": "code",
   "execution_count": 55,
   "metadata": {
    "ExecuteTime": {
     "end_time": "2020-05-14T19:14:56.437697Z",
     "start_time": "2020-05-14T19:14:56.434432Z"
    }
   },
   "outputs": [],
   "source": [
    "X = X.iloc[:,3:]"
   ]
  },
  {
   "cell_type": "code",
   "execution_count": 56,
   "metadata": {
    "ExecuteTime": {
     "end_time": "2020-05-14T19:14:56.883778Z",
     "start_time": "2020-05-14T19:14:56.871513Z"
    }
   },
   "outputs": [],
   "source": [
    "# Split train and validation\n",
    "X_train, X_test, y_train, y_test = train_test_split(X, y1, shuffle=True, test_size=0.2, random_state=42, stratify=y1)\n",
    "X_train, X_test, y_train2, y_test2 = train_test_split(X, y2, shuffle=True, test_size=0.2, random_state=42, stratify=y1)\n"
   ]
  },
  {
   "cell_type": "code",
   "execution_count": 57,
   "metadata": {
    "ExecuteTime": {
     "end_time": "2020-05-14T19:14:57.344918Z",
     "start_time": "2020-05-14T19:14:57.340619Z"
    },
    "code_folding": [
     0
    ]
   },
   "outputs": [],
   "source": [
    "def model_scores(model, X, y):\n",
    "    y_hat = model.predict(X)\n",
    "    print(f\"Accuracy: {accuracy_score(y, y_hat).round(3)} \\t Recall: {recall_score(y, y_hat).round(3)} \\t Precision: {precision_score(y, y_hat).round(3)} \\t F1: {f1_score(y, y_hat).round(3)}\")\n",
    "    return accuracy_score(y, y_hat), recall_score(y, y_hat), precision_score(y, y_hat), f1_score(y, y_hat)"
   ]
  },
  {
   "cell_type": "code",
   "execution_count": 58,
   "metadata": {
    "ExecuteTime": {
     "end_time": "2020-05-14T19:14:58.145676Z",
     "start_time": "2020-05-14T19:14:58.142327Z"
    }
   },
   "outputs": [
    {
     "data": {
      "text/plain": [
       "0.4302544769085768"
      ]
     },
     "execution_count": 58,
     "metadata": {},
     "output_type": "execute_result"
    }
   ],
   "source": [
    "y_train.mean()"
   ]
  },
  {
   "cell_type": "markdown",
   "metadata": {
    "ExecuteTime": {
     "end_time": "2020-05-13T18:06:01.258173Z",
     "start_time": "2020-05-13T18:06:01.255720Z"
    }
   },
   "source": [
    "## Logistic Regression"
   ]
  },
  {
   "cell_type": "code",
   "execution_count": 59,
   "metadata": {
    "ExecuteTime": {
     "end_time": "2020-05-14T19:15:00.840765Z",
     "start_time": "2020-05-14T19:15:00.797881Z"
    }
   },
   "outputs": [
    {
     "name": "stdout",
     "output_type": "stream",
     "text": [
      "Accuracy: 0.681 \t Recall: 0.585 \t Precision: 0.642 \t F1: 0.612\n"
     ]
    },
    {
     "data": {
      "text/plain": [
       "(0.680961357210179, 0.5848849945235487, 0.6418269230769231, 0.6120343839541547)"
      ]
     },
     "execution_count": 59,
     "metadata": {},
     "output_type": "execute_result"
    }
   ],
   "source": [
    "# logister \n",
    "# class_weight\n",
    "weights = {0:0.1, 1:1.0}\n",
    "# lr = LogisticRegression(class_weight=weights)\n",
    "lr = LogisticRegression()\n",
    "lr.fit(X_train, y_train)\n",
    "\n",
    "model_scores(lr, X_train, y_train)"
   ]
  },
  {
   "cell_type": "code",
   "execution_count": 60,
   "metadata": {
    "ExecuteTime": {
     "end_time": "2020-05-14T19:15:01.425359Z",
     "start_time": "2020-05-14T19:15:01.413051Z"
    }
   },
   "outputs": [
    {
     "name": "stdout",
     "output_type": "stream",
     "text": [
      "Accuracy: 0.665 \t Recall: 0.524 \t Precision: 0.635 \t F1: 0.574\n"
     ]
    },
    {
     "data": {
      "text/plain": [
       "(0.664783427495292, 0.5240174672489083, 0.6349206349206349, 0.5741626794258374)"
      ]
     },
     "execution_count": 60,
     "metadata": {},
     "output_type": "execute_result"
    }
   ],
   "source": [
    "model_scores(lr, X_test, y_test)"
   ]
  },
  {
   "cell_type": "code",
   "execution_count": 1182,
   "metadata": {
    "ExecuteTime": {
     "end_time": "2020-05-14T04:25:05.947691Z",
     "start_time": "2020-05-14T04:25:05.944053Z"
    }
   },
   "outputs": [],
   "source": [
    "weights_list = [{0:0.01, 1:1.0}, {0:0.003, 1:1.0}, {0:0.05, 1:1.0}, {0:0.1, 1:1.0}, {0:0.15, 1:1.0}, {0:0.2, 1:1.0}]\n",
    "parameters = {'class_weight': weights_list}"
   ]
  },
  {
   "cell_type": "code",
   "execution_count": 1183,
   "metadata": {
    "ExecuteTime": {
     "end_time": "2020-05-14T04:25:07.372190Z",
     "start_time": "2020-05-14T04:25:06.837520Z"
    }
   },
   "outputs": [
    {
     "data": {
      "text/plain": [
       "GridSearchCV(cv=None, error_score=nan,\n",
       "             estimator=LogisticRegression(C=1.0, class_weight=None, dual=False,\n",
       "                                          fit_intercept=True,\n",
       "                                          intercept_scaling=1, l1_ratio=None,\n",
       "                                          max_iter=100, multi_class='auto',\n",
       "                                          n_jobs=None, penalty='l2',\n",
       "                                          random_state=None, solver='lbfgs',\n",
       "                                          tol=0.0001, verbose=0,\n",
       "                                          warm_start=False),\n",
       "             iid='deprecated', n_jobs=None,\n",
       "             param_grid={'class_weight': [{0: 0.01, 1: 1.0}, {0: 0.003, 1: 1.0},\n",
       "                                          {0: 0.05, 1: 1.0}, {0: 0.1, 1: 1.0},\n",
       "                                          {0: 0.15, 1: 1.0},\n",
       "                                          {0: 0.2, 1: 1.0}]},\n",
       "             pre_dispatch='2*n_jobs', refit=True, return_train_score=False,\n",
       "             scoring=None, verbose=0)"
      ]
     },
     "execution_count": 1183,
     "metadata": {},
     "output_type": "execute_result"
    }
   ],
   "source": [
    "f1_scorer = make_scorer(f1_score)\n",
    "gslr = GridSearchCV(lr, \n",
    "                    parameters#,                   scoring=f1_scorer\n",
    "                   )\n",
    "gslr.fit(X_train, y_train)"
   ]
  },
  {
   "cell_type": "code",
   "execution_count": 1184,
   "metadata": {
    "ExecuteTime": {
     "end_time": "2020-05-14T04:25:08.250488Z",
     "start_time": "2020-05-14T04:25:08.233498Z"
    }
   },
   "outputs": [
    {
     "data": {
      "text/html": [
       "<div>\n",
       "<style scoped>\n",
       "    .dataframe tbody tr th:only-of-type {\n",
       "        vertical-align: middle;\n",
       "    }\n",
       "\n",
       "    .dataframe tbody tr th {\n",
       "        vertical-align: top;\n",
       "    }\n",
       "\n",
       "    .dataframe thead th {\n",
       "        text-align: right;\n",
       "    }\n",
       "</style>\n",
       "<table border=\"1\" class=\"dataframe\">\n",
       "  <thead>\n",
       "    <tr style=\"text-align: right;\">\n",
       "      <th></th>\n",
       "      <th>0</th>\n",
       "      <th>1</th>\n",
       "      <th>2</th>\n",
       "      <th>3</th>\n",
       "      <th>4</th>\n",
       "      <th>5</th>\n",
       "    </tr>\n",
       "  </thead>\n",
       "  <tbody>\n",
       "    <tr>\n",
       "      <th>mean_fit_time</th>\n",
       "      <td>0.0213432</td>\n",
       "      <td>0.0188436</td>\n",
       "      <td>0.0149413</td>\n",
       "      <td>0.0137173</td>\n",
       "      <td>0.0117781</td>\n",
       "      <td>0.0134012</td>\n",
       "    </tr>\n",
       "    <tr>\n",
       "      <th>std_fit_time</th>\n",
       "      <td>0.00155735</td>\n",
       "      <td>0.00180905</td>\n",
       "      <td>0.000502015</td>\n",
       "      <td>0.00067846</td>\n",
       "      <td>0.000495462</td>\n",
       "      <td>0.000769515</td>\n",
       "    </tr>\n",
       "    <tr>\n",
       "      <th>mean_score_time</th>\n",
       "      <td>0.00131593</td>\n",
       "      <td>0.000940943</td>\n",
       "      <td>0.000897408</td>\n",
       "      <td>0.00089674</td>\n",
       "      <td>0.000926447</td>\n",
       "      <td>0.000924826</td>\n",
       "    </tr>\n",
       "    <tr>\n",
       "      <th>std_score_time</th>\n",
       "      <td>0.000161867</td>\n",
       "      <td>3.90205e-05</td>\n",
       "      <td>3.89331e-05</td>\n",
       "      <td>4.08005e-05</td>\n",
       "      <td>6.4775e-05</td>\n",
       "      <td>5.76664e-05</td>\n",
       "    </tr>\n",
       "    <tr>\n",
       "      <th>param_class_weight</th>\n",
       "      <td>{0: 0.01, 1: 1.0}</td>\n",
       "      <td>{0: 0.003, 1: 1.0}</td>\n",
       "      <td>{0: 0.05, 1: 1.0}</td>\n",
       "      <td>{0: 0.1, 1: 1.0}</td>\n",
       "      <td>{0: 0.15, 1: 1.0}</td>\n",
       "      <td>{0: 0.2, 1: 1.0}</td>\n",
       "    </tr>\n",
       "    <tr>\n",
       "      <th>params</th>\n",
       "      <td>{'class_weight': {0: 0.01, 1: 1.0}}</td>\n",
       "      <td>{'class_weight': {0: 0.003, 1: 1.0}}</td>\n",
       "      <td>{'class_weight': {0: 0.05, 1: 1.0}}</td>\n",
       "      <td>{'class_weight': {0: 0.1, 1: 1.0}}</td>\n",
       "      <td>{'class_weight': {0: 0.15, 1: 1.0}}</td>\n",
       "      <td>{'class_weight': {0: 0.2, 1: 1.0}}</td>\n",
       "    </tr>\n",
       "    <tr>\n",
       "      <th>split0_test_score</th>\n",
       "      <td>0.47973</td>\n",
       "      <td>0.47973</td>\n",
       "      <td>0.509009</td>\n",
       "      <td>0.531532</td>\n",
       "      <td>0.54955</td>\n",
       "      <td>0.567568</td>\n",
       "    </tr>\n",
       "    <tr>\n",
       "      <th>split1_test_score</th>\n",
       "      <td>0.502252</td>\n",
       "      <td>0.490991</td>\n",
       "      <td>0.52027</td>\n",
       "      <td>0.540541</td>\n",
       "      <td>0.558559</td>\n",
       "      <td>0.56982</td>\n",
       "    </tr>\n",
       "    <tr>\n",
       "      <th>split2_test_score</th>\n",
       "      <td>0.493243</td>\n",
       "      <td>0.488739</td>\n",
       "      <td>0.509009</td>\n",
       "      <td>0.540541</td>\n",
       "      <td>0.563063</td>\n",
       "      <td>0.572072</td>\n",
       "    </tr>\n",
       "    <tr>\n",
       "      <th>split3_test_score</th>\n",
       "      <td>0.496614</td>\n",
       "      <td>0.492099</td>\n",
       "      <td>0.51693</td>\n",
       "      <td>0.548533</td>\n",
       "      <td>0.58465</td>\n",
       "      <td>0.602709</td>\n",
       "    </tr>\n",
       "    <tr>\n",
       "      <th>split4_test_score</th>\n",
       "      <td>0.489842</td>\n",
       "      <td>0.487585</td>\n",
       "      <td>0.521445</td>\n",
       "      <td>0.537246</td>\n",
       "      <td>0.575621</td>\n",
       "      <td>0.595937</td>\n",
       "    </tr>\n",
       "    <tr>\n",
       "      <th>mean_test_score</th>\n",
       "      <td>0.492336</td>\n",
       "      <td>0.487829</td>\n",
       "      <td>0.515333</td>\n",
       "      <td>0.539678</td>\n",
       "      <td>0.566288</td>\n",
       "      <td>0.581621</td>\n",
       "    </tr>\n",
       "    <tr>\n",
       "      <th>std_test_score</th>\n",
       "      <td>0.00751791</td>\n",
       "      <td>0.00435246</td>\n",
       "      <td>0.00537151</td>\n",
       "      <td>0.00551677</td>\n",
       "      <td>0.0124466</td>\n",
       "      <td>0.0146805</td>\n",
       "    </tr>\n",
       "    <tr>\n",
       "      <th>rank_test_score</th>\n",
       "      <td>5</td>\n",
       "      <td>6</td>\n",
       "      <td>4</td>\n",
       "      <td>3</td>\n",
       "      <td>2</td>\n",
       "      <td>1</td>\n",
       "    </tr>\n",
       "  </tbody>\n",
       "</table>\n",
       "</div>"
      ],
      "text/plain": [
       "                                                      0  \\\n",
       "mean_fit_time                                 0.0213432   \n",
       "std_fit_time                                 0.00155735   \n",
       "mean_score_time                              0.00131593   \n",
       "std_score_time                              0.000161867   \n",
       "param_class_weight                    {0: 0.01, 1: 1.0}   \n",
       "params              {'class_weight': {0: 0.01, 1: 1.0}}   \n",
       "split0_test_score                               0.47973   \n",
       "split1_test_score                              0.502252   \n",
       "split2_test_score                              0.493243   \n",
       "split3_test_score                              0.496614   \n",
       "split4_test_score                              0.489842   \n",
       "mean_test_score                                0.492336   \n",
       "std_test_score                               0.00751791   \n",
       "rank_test_score                                       5   \n",
       "\n",
       "                                                       1  \\\n",
       "mean_fit_time                                  0.0188436   \n",
       "std_fit_time                                  0.00180905   \n",
       "mean_score_time                              0.000940943   \n",
       "std_score_time                               3.90205e-05   \n",
       "param_class_weight                    {0: 0.003, 1: 1.0}   \n",
       "params              {'class_weight': {0: 0.003, 1: 1.0}}   \n",
       "split0_test_score                                0.47973   \n",
       "split1_test_score                               0.490991   \n",
       "split2_test_score                               0.488739   \n",
       "split3_test_score                               0.492099   \n",
       "split4_test_score                               0.487585   \n",
       "mean_test_score                                 0.487829   \n",
       "std_test_score                                0.00435246   \n",
       "rank_test_score                                        6   \n",
       "\n",
       "                                                      2  \\\n",
       "mean_fit_time                                 0.0149413   \n",
       "std_fit_time                                0.000502015   \n",
       "mean_score_time                             0.000897408   \n",
       "std_score_time                              3.89331e-05   \n",
       "param_class_weight                    {0: 0.05, 1: 1.0}   \n",
       "params              {'class_weight': {0: 0.05, 1: 1.0}}   \n",
       "split0_test_score                              0.509009   \n",
       "split1_test_score                               0.52027   \n",
       "split2_test_score                              0.509009   \n",
       "split3_test_score                               0.51693   \n",
       "split4_test_score                              0.521445   \n",
       "mean_test_score                                0.515333   \n",
       "std_test_score                               0.00537151   \n",
       "rank_test_score                                       4   \n",
       "\n",
       "                                                     3  \\\n",
       "mean_fit_time                                0.0137173   \n",
       "std_fit_time                                0.00067846   \n",
       "mean_score_time                             0.00089674   \n",
       "std_score_time                             4.08005e-05   \n",
       "param_class_weight                    {0: 0.1, 1: 1.0}   \n",
       "params              {'class_weight': {0: 0.1, 1: 1.0}}   \n",
       "split0_test_score                             0.531532   \n",
       "split1_test_score                             0.540541   \n",
       "split2_test_score                             0.540541   \n",
       "split3_test_score                             0.548533   \n",
       "split4_test_score                             0.537246   \n",
       "mean_test_score                               0.539678   \n",
       "std_test_score                              0.00551677   \n",
       "rank_test_score                                      3   \n",
       "\n",
       "                                                      4  \\\n",
       "mean_fit_time                                 0.0117781   \n",
       "std_fit_time                                0.000495462   \n",
       "mean_score_time                             0.000926447   \n",
       "std_score_time                               6.4775e-05   \n",
       "param_class_weight                    {0: 0.15, 1: 1.0}   \n",
       "params              {'class_weight': {0: 0.15, 1: 1.0}}   \n",
       "split0_test_score                               0.54955   \n",
       "split1_test_score                              0.558559   \n",
       "split2_test_score                              0.563063   \n",
       "split3_test_score                               0.58465   \n",
       "split4_test_score                              0.575621   \n",
       "mean_test_score                                0.566288   \n",
       "std_test_score                                0.0124466   \n",
       "rank_test_score                                       2   \n",
       "\n",
       "                                                     5  \n",
       "mean_fit_time                                0.0134012  \n",
       "std_fit_time                               0.000769515  \n",
       "mean_score_time                            0.000924826  \n",
       "std_score_time                             5.76664e-05  \n",
       "param_class_weight                    {0: 0.2, 1: 1.0}  \n",
       "params              {'class_weight': {0: 0.2, 1: 1.0}}  \n",
       "split0_test_score                             0.567568  \n",
       "split1_test_score                              0.56982  \n",
       "split2_test_score                             0.572072  \n",
       "split3_test_score                             0.602709  \n",
       "split4_test_score                             0.595937  \n",
       "mean_test_score                               0.581621  \n",
       "std_test_score                               0.0146805  \n",
       "rank_test_score                                      1  "
      ]
     },
     "execution_count": 1184,
     "metadata": {},
     "output_type": "execute_result"
    }
   ],
   "source": [
    "pd.DataFrame(gslr.cv_results_).T"
   ]
  },
  {
   "cell_type": "markdown",
   "metadata": {},
   "source": [
    "## random forest"
   ]
  },
  {
   "cell_type": "code",
   "execution_count": 61,
   "metadata": {
    "ExecuteTime": {
     "end_time": "2020-05-14T19:15:07.669277Z",
     "start_time": "2020-05-14T19:15:07.432812Z"
    }
   },
   "outputs": [
    {
     "name": "stdout",
     "output_type": "stream",
     "text": [
      "Accuracy: 0.717 \t Recall: 0.712 \t Precision: 0.658 \t F1: 0.684\n"
     ]
    },
    {
     "data": {
      "text/plain": [
       "(0.7167766258246937,\n",
       " 0.7119386637458927,\n",
       " 0.6578947368421053,\n",
       " 0.6838506049447659)"
      ]
     },
     "execution_count": 61,
     "metadata": {},
     "output_type": "execute_result"
    }
   ],
   "source": [
    "## random forest\n",
    "\n",
    "rf = RandomForestClassifier(criterion= 'gini', max_depth = 4, max_features = 'sqrt')\n",
    "\n",
    "rf.fit(X_train, y_train)\n",
    "\n",
    "model_scores(rf, X_train, y_train)"
   ]
  },
  {
   "cell_type": "code",
   "execution_count": 62,
   "metadata": {
    "ExecuteTime": {
     "end_time": "2020-05-14T19:15:08.855023Z",
     "start_time": "2020-05-14T19:15:08.833062Z"
    }
   },
   "outputs": [
    {
     "name": "stdout",
     "output_type": "stream",
     "text": [
      "Accuracy: 0.682 \t Recall: 0.642 \t Precision: 0.628 \t F1: 0.635\n"
     ]
    },
    {
     "data": {
      "text/plain": [
       "(0.6817325800376648, 0.6419213973799127, 0.6282051282051282, 0.634989200863931)"
      ]
     },
     "execution_count": 62,
     "metadata": {},
     "output_type": "execute_result"
    }
   ],
   "source": [
    "model_scores(rf, X_test, y_test)"
   ]
  },
  {
   "cell_type": "code",
   "execution_count": 33,
   "metadata": {
    "ExecuteTime": {
     "end_time": "2020-05-14T05:27:09.013876Z",
     "start_time": "2020-05-14T05:27:09.010918Z"
    }
   },
   "outputs": [],
   "source": [
    "rf_params = {'criterion': ('gini', 'entropy'), 'max_depth': [2, 3, 4],\n",
    "              'max_features': [1, 'sqrt', 'log2', None]}"
   ]
  },
  {
   "cell_type": "code",
   "execution_count": 34,
   "metadata": {
    "ExecuteTime": {
     "end_time": "2020-05-14T05:27:27.368852Z",
     "start_time": "2020-05-14T05:27:09.471291Z"
    }
   },
   "outputs": [
    {
     "data": {
      "text/plain": [
       "GridSearchCV(cv=None, error_score=nan,\n",
       "             estimator=RandomForestClassifier(bootstrap=True, ccp_alpha=0.0,\n",
       "                                              class_weight=None,\n",
       "                                              criterion='entropy', max_depth=3,\n",
       "                                              max_features=1,\n",
       "                                              max_leaf_nodes=None,\n",
       "                                              max_samples=None,\n",
       "                                              min_impurity_decrease=0.0,\n",
       "                                              min_impurity_split=None,\n",
       "                                              min_samples_leaf=1,\n",
       "                                              min_samples_split=2,\n",
       "                                              min_weight_fraction_leaf=0.0,\n",
       "                                              n_estimators=100, n_jobs=None,\n",
       "                                              oob_score=False,\n",
       "                                              random_state=None, verbose=0,\n",
       "                                              warm_start=False),\n",
       "             iid='deprecated', n_jobs=None,\n",
       "             param_grid={'criterion': ('gini', 'entropy'),\n",
       "                         'max_depth': [2, 3, 4],\n",
       "                         'max_features': [1, 'sqrt', 'log2', None]},\n",
       "             pre_dispatch='2*n_jobs', refit=True, return_train_score=False,\n",
       "             scoring=None, verbose=0)"
      ]
     },
     "execution_count": 34,
     "metadata": {},
     "output_type": "execute_result"
    }
   ],
   "source": [
    "gsrf = GridSearchCV(rf, \n",
    "                    rf_params#,scoring=f1_scorer\n",
    "                   )\n",
    "gsrf.fit(X_train, y_train)"
   ]
  },
  {
   "cell_type": "code",
   "execution_count": 35,
   "metadata": {
    "ExecuteTime": {
     "end_time": "2020-05-14T05:27:27.800028Z",
     "start_time": "2020-05-14T05:27:27.763618Z"
    }
   },
   "outputs": [
    {
     "data": {
      "text/html": [
       "<div>\n",
       "<style scoped>\n",
       "    .dataframe tbody tr th:only-of-type {\n",
       "        vertical-align: middle;\n",
       "    }\n",
       "\n",
       "    .dataframe tbody tr th {\n",
       "        vertical-align: top;\n",
       "    }\n",
       "\n",
       "    .dataframe thead th {\n",
       "        text-align: right;\n",
       "    }\n",
       "</style>\n",
       "<table border=\"1\" class=\"dataframe\">\n",
       "  <thead>\n",
       "    <tr style=\"text-align: right;\">\n",
       "      <th></th>\n",
       "      <th>0</th>\n",
       "      <th>1</th>\n",
       "      <th>2</th>\n",
       "      <th>3</th>\n",
       "      <th>4</th>\n",
       "      <th>5</th>\n",
       "      <th>6</th>\n",
       "      <th>7</th>\n",
       "      <th>8</th>\n",
       "      <th>9</th>\n",
       "      <th>...</th>\n",
       "      <th>14</th>\n",
       "      <th>15</th>\n",
       "      <th>16</th>\n",
       "      <th>17</th>\n",
       "      <th>18</th>\n",
       "      <th>19</th>\n",
       "      <th>20</th>\n",
       "      <th>21</th>\n",
       "      <th>22</th>\n",
       "      <th>23</th>\n",
       "    </tr>\n",
       "  </thead>\n",
       "  <tbody>\n",
       "    <tr>\n",
       "      <th>mean_fit_time</th>\n",
       "      <td>0.100279</td>\n",
       "      <td>0.107545</td>\n",
       "      <td>0.112162</td>\n",
       "      <td>0.146185</td>\n",
       "      <td>0.129206</td>\n",
       "      <td>0.122467</td>\n",
       "      <td>0.136948</td>\n",
       "      <td>0.161951</td>\n",
       "      <td>0.109373</td>\n",
       "      <td>0.125505</td>\n",
       "      <td>...</td>\n",
       "      <td>0.119061</td>\n",
       "      <td>0.167453</td>\n",
       "      <td>0.112322</td>\n",
       "      <td>0.141561</td>\n",
       "      <td>0.136062</td>\n",
       "      <td>0.208767</td>\n",
       "      <td>0.121159</td>\n",
       "      <td>0.154605</td>\n",
       "      <td>0.154926</td>\n",
       "      <td>0.250788</td>\n",
       "    </tr>\n",
       "    <tr>\n",
       "      <th>std_fit_time</th>\n",
       "      <td>0.00870281</td>\n",
       "      <td>0.00161408</td>\n",
       "      <td>0.00560645</td>\n",
       "      <td>0.0150514</td>\n",
       "      <td>0.0182725</td>\n",
       "      <td>0.00296646</td>\n",
       "      <td>0.0220137</td>\n",
       "      <td>0.00281025</td>\n",
       "      <td>0.00297489</td>\n",
       "      <td>0.00122519</td>\n",
       "      <td>...</td>\n",
       "      <td>0.000939665</td>\n",
       "      <td>0.00224417</td>\n",
       "      <td>0.00132507</td>\n",
       "      <td>0.00356349</td>\n",
       "      <td>0.00133199</td>\n",
       "      <td>0.00131018</td>\n",
       "      <td>0.000884347</td>\n",
       "      <td>0.00166127</td>\n",
       "      <td>0.00121183</td>\n",
       "      <td>0.00126263</td>\n",
       "    </tr>\n",
       "    <tr>\n",
       "      <th>mean_score_time</th>\n",
       "      <td>0.00762649</td>\n",
       "      <td>0.00768642</td>\n",
       "      <td>0.0078176</td>\n",
       "      <td>0.00857091</td>\n",
       "      <td>0.00909877</td>\n",
       "      <td>0.00830774</td>\n",
       "      <td>0.00868945</td>\n",
       "      <td>0.00832725</td>\n",
       "      <td>0.00805397</td>\n",
       "      <td>0.00797596</td>\n",
       "      <td>...</td>\n",
       "      <td>0.00752525</td>\n",
       "      <td>0.00758834</td>\n",
       "      <td>0.00784297</td>\n",
       "      <td>0.00793567</td>\n",
       "      <td>0.00782409</td>\n",
       "      <td>0.00773635</td>\n",
       "      <td>0.0079103</td>\n",
       "      <td>0.00798092</td>\n",
       "      <td>0.00818114</td>\n",
       "      <td>0.00798259</td>\n",
       "    </tr>\n",
       "    <tr>\n",
       "      <th>std_score_time</th>\n",
       "      <td>0.000195175</td>\n",
       "      <td>0.000257806</td>\n",
       "      <td>0.000440164</td>\n",
       "      <td>0.0015206</td>\n",
       "      <td>0.00138402</td>\n",
       "      <td>0.000206613</td>\n",
       "      <td>0.00140508</td>\n",
       "      <td>0.00098667</td>\n",
       "      <td>6.39528e-05</td>\n",
       "      <td>5.61421e-05</td>\n",
       "      <td>...</td>\n",
       "      <td>0.000228169</td>\n",
       "      <td>0.000140714</td>\n",
       "      <td>0.000147738</td>\n",
       "      <td>8.85532e-05</td>\n",
       "      <td>0.000172108</td>\n",
       "      <td>0.000172212</td>\n",
       "      <td>0.000137515</td>\n",
       "      <td>0.000160817</td>\n",
       "      <td>0.000211105</td>\n",
       "      <td>0.000118969</td>\n",
       "    </tr>\n",
       "    <tr>\n",
       "      <th>param_criterion</th>\n",
       "      <td>gini</td>\n",
       "      <td>gini</td>\n",
       "      <td>gini</td>\n",
       "      <td>gini</td>\n",
       "      <td>gini</td>\n",
       "      <td>gini</td>\n",
       "      <td>gini</td>\n",
       "      <td>gini</td>\n",
       "      <td>gini</td>\n",
       "      <td>gini</td>\n",
       "      <td>...</td>\n",
       "      <td>entropy</td>\n",
       "      <td>entropy</td>\n",
       "      <td>entropy</td>\n",
       "      <td>entropy</td>\n",
       "      <td>entropy</td>\n",
       "      <td>entropy</td>\n",
       "      <td>entropy</td>\n",
       "      <td>entropy</td>\n",
       "      <td>entropy</td>\n",
       "      <td>entropy</td>\n",
       "    </tr>\n",
       "    <tr>\n",
       "      <th>param_max_depth</th>\n",
       "      <td>2</td>\n",
       "      <td>2</td>\n",
       "      <td>2</td>\n",
       "      <td>2</td>\n",
       "      <td>3</td>\n",
       "      <td>3</td>\n",
       "      <td>3</td>\n",
       "      <td>3</td>\n",
       "      <td>4</td>\n",
       "      <td>4</td>\n",
       "      <td>...</td>\n",
       "      <td>2</td>\n",
       "      <td>2</td>\n",
       "      <td>3</td>\n",
       "      <td>3</td>\n",
       "      <td>3</td>\n",
       "      <td>3</td>\n",
       "      <td>4</td>\n",
       "      <td>4</td>\n",
       "      <td>4</td>\n",
       "      <td>4</td>\n",
       "    </tr>\n",
       "    <tr>\n",
       "      <th>param_max_features</th>\n",
       "      <td>1</td>\n",
       "      <td>sqrt</td>\n",
       "      <td>log2</td>\n",
       "      <td>None</td>\n",
       "      <td>1</td>\n",
       "      <td>sqrt</td>\n",
       "      <td>log2</td>\n",
       "      <td>None</td>\n",
       "      <td>1</td>\n",
       "      <td>sqrt</td>\n",
       "      <td>...</td>\n",
       "      <td>log2</td>\n",
       "      <td>None</td>\n",
       "      <td>1</td>\n",
       "      <td>sqrt</td>\n",
       "      <td>log2</td>\n",
       "      <td>None</td>\n",
       "      <td>1</td>\n",
       "      <td>sqrt</td>\n",
       "      <td>log2</td>\n",
       "      <td>None</td>\n",
       "    </tr>\n",
       "    <tr>\n",
       "      <th>params</th>\n",
       "      <td>{'criterion': 'gini', 'max_depth': 2, 'max_fea...</td>\n",
       "      <td>{'criterion': 'gini', 'max_depth': 2, 'max_fea...</td>\n",
       "      <td>{'criterion': 'gini', 'max_depth': 2, 'max_fea...</td>\n",
       "      <td>{'criterion': 'gini', 'max_depth': 2, 'max_fea...</td>\n",
       "      <td>{'criterion': 'gini', 'max_depth': 3, 'max_fea...</td>\n",
       "      <td>{'criterion': 'gini', 'max_depth': 3, 'max_fea...</td>\n",
       "      <td>{'criterion': 'gini', 'max_depth': 3, 'max_fea...</td>\n",
       "      <td>{'criterion': 'gini', 'max_depth': 3, 'max_fea...</td>\n",
       "      <td>{'criterion': 'gini', 'max_depth': 4, 'max_fea...</td>\n",
       "      <td>{'criterion': 'gini', 'max_depth': 4, 'max_fea...</td>\n",
       "      <td>...</td>\n",
       "      <td>{'criterion': 'entropy', 'max_depth': 2, 'max_...</td>\n",
       "      <td>{'criterion': 'entropy', 'max_depth': 2, 'max_...</td>\n",
       "      <td>{'criterion': 'entropy', 'max_depth': 3, 'max_...</td>\n",
       "      <td>{'criterion': 'entropy', 'max_depth': 3, 'max_...</td>\n",
       "      <td>{'criterion': 'entropy', 'max_depth': 3, 'max_...</td>\n",
       "      <td>{'criterion': 'entropy', 'max_depth': 3, 'max_...</td>\n",
       "      <td>{'criterion': 'entropy', 'max_depth': 4, 'max_...</td>\n",
       "      <td>{'criterion': 'entropy', 'max_depth': 4, 'max_...</td>\n",
       "      <td>{'criterion': 'entropy', 'max_depth': 4, 'max_...</td>\n",
       "      <td>{'criterion': 'entropy', 'max_depth': 4, 'max_...</td>\n",
       "    </tr>\n",
       "    <tr>\n",
       "      <th>split0_test_score</th>\n",
       "      <td>0.677928</td>\n",
       "      <td>0.65991</td>\n",
       "      <td>0.675676</td>\n",
       "      <td>0.677928</td>\n",
       "      <td>0.682432</td>\n",
       "      <td>0.68018</td>\n",
       "      <td>0.684685</td>\n",
       "      <td>0.695946</td>\n",
       "      <td>0.68018</td>\n",
       "      <td>0.689189</td>\n",
       "      <td>...</td>\n",
       "      <td>0.68018</td>\n",
       "      <td>0.689189</td>\n",
       "      <td>0.691441</td>\n",
       "      <td>0.684685</td>\n",
       "      <td>0.693694</td>\n",
       "      <td>0.689189</td>\n",
       "      <td>0.677928</td>\n",
       "      <td>0.68018</td>\n",
       "      <td>0.684685</td>\n",
       "      <td>0.691441</td>\n",
       "    </tr>\n",
       "    <tr>\n",
       "      <th>split1_test_score</th>\n",
       "      <td>0.677928</td>\n",
       "      <td>0.677928</td>\n",
       "      <td>0.682432</td>\n",
       "      <td>0.655405</td>\n",
       "      <td>0.686937</td>\n",
       "      <td>0.693694</td>\n",
       "      <td>0.693694</td>\n",
       "      <td>0.689189</td>\n",
       "      <td>0.686937</td>\n",
       "      <td>0.691441</td>\n",
       "      <td>...</td>\n",
       "      <td>0.655405</td>\n",
       "      <td>0.650901</td>\n",
       "      <td>0.682432</td>\n",
       "      <td>0.691441</td>\n",
       "      <td>0.686937</td>\n",
       "      <td>0.686937</td>\n",
       "      <td>0.693694</td>\n",
       "      <td>0.695946</td>\n",
       "      <td>0.695946</td>\n",
       "      <td>0.70045</td>\n",
       "    </tr>\n",
       "    <tr>\n",
       "      <th>split2_test_score</th>\n",
       "      <td>0.684685</td>\n",
       "      <td>0.682432</td>\n",
       "      <td>0.686937</td>\n",
       "      <td>0.65991</td>\n",
       "      <td>0.695946</td>\n",
       "      <td>0.671171</td>\n",
       "      <td>0.68018</td>\n",
       "      <td>0.671171</td>\n",
       "      <td>0.68018</td>\n",
       "      <td>0.684685</td>\n",
       "      <td>...</td>\n",
       "      <td>0.675676</td>\n",
       "      <td>0.662162</td>\n",
       "      <td>0.695946</td>\n",
       "      <td>0.673423</td>\n",
       "      <td>0.689189</td>\n",
       "      <td>0.682432</td>\n",
       "      <td>0.689189</td>\n",
       "      <td>0.689189</td>\n",
       "      <td>0.689189</td>\n",
       "      <td>0.671171</td>\n",
       "    </tr>\n",
       "    <tr>\n",
       "      <th>split3_test_score</th>\n",
       "      <td>0.731377</td>\n",
       "      <td>0.735892</td>\n",
       "      <td>0.735892</td>\n",
       "      <td>0.738149</td>\n",
       "      <td>0.742664</td>\n",
       "      <td>0.742664</td>\n",
       "      <td>0.738149</td>\n",
       "      <td>0.744921</td>\n",
       "      <td>0.744921</td>\n",
       "      <td>0.749436</td>\n",
       "      <td>...</td>\n",
       "      <td>0.733634</td>\n",
       "      <td>0.738149</td>\n",
       "      <td>0.731377</td>\n",
       "      <td>0.735892</td>\n",
       "      <td>0.731377</td>\n",
       "      <td>0.744921</td>\n",
       "      <td>0.72912</td>\n",
       "      <td>0.738149</td>\n",
       "      <td>0.733634</td>\n",
       "      <td>0.744921</td>\n",
       "    </tr>\n",
       "    <tr>\n",
       "      <th>split4_test_score</th>\n",
       "      <td>0.668172</td>\n",
       "      <td>0.681716</td>\n",
       "      <td>0.663657</td>\n",
       "      <td>0.663657</td>\n",
       "      <td>0.672686</td>\n",
       "      <td>0.670429</td>\n",
       "      <td>0.674944</td>\n",
       "      <td>0.668172</td>\n",
       "      <td>0.670429</td>\n",
       "      <td>0.679458</td>\n",
       "      <td>...</td>\n",
       "      <td>0.677201</td>\n",
       "      <td>0.656885</td>\n",
       "      <td>0.665914</td>\n",
       "      <td>0.668172</td>\n",
       "      <td>0.659142</td>\n",
       "      <td>0.674944</td>\n",
       "      <td>0.672686</td>\n",
       "      <td>0.670429</td>\n",
       "      <td>0.672686</td>\n",
       "      <td>0.674944</td>\n",
       "    </tr>\n",
       "    <tr>\n",
       "      <th>mean_test_score</th>\n",
       "      <td>0.688018</td>\n",
       "      <td>0.687575</td>\n",
       "      <td>0.688919</td>\n",
       "      <td>0.67901</td>\n",
       "      <td>0.696133</td>\n",
       "      <td>0.691628</td>\n",
       "      <td>0.69433</td>\n",
       "      <td>0.69388</td>\n",
       "      <td>0.692529</td>\n",
       "      <td>0.698842</td>\n",
       "      <td>...</td>\n",
       "      <td>0.684419</td>\n",
       "      <td>0.679457</td>\n",
       "      <td>0.693422</td>\n",
       "      <td>0.690723</td>\n",
       "      <td>0.692068</td>\n",
       "      <td>0.695685</td>\n",
       "      <td>0.692523</td>\n",
       "      <td>0.694779</td>\n",
       "      <td>0.695228</td>\n",
       "      <td>0.696586</td>\n",
       "    </tr>\n",
       "    <tr>\n",
       "      <th>std_test_score</th>\n",
       "      <td>0.0223097</td>\n",
       "      <td>0.0255096</td>\n",
       "      <td>0.0247629</td>\n",
       "      <td>0.0305165</td>\n",
       "      <td>0.0244424</td>\n",
       "      <td>0.026862</td>\n",
       "      <td>0.0227578</td>\n",
       "      <td>0.0275974</td>\n",
       "      <td>0.0267193</td>\n",
       "      <td>0.0256274</td>\n",
       "      <td>...</td>\n",
       "      <td>0.0261169</td>\n",
       "      <td>0.0321357</td>\n",
       "      <td>0.0215793</td>\n",
       "      <td>0.0240209</td>\n",
       "      <td>0.0230936</td>\n",
       "      <td>0.0250948</td>\n",
       "      <td>0.0197905</td>\n",
       "      <td>0.0233222</td>\n",
       "      <td>0.0206462</td>\n",
       "      <td>0.0264272</td>\n",
       "    </tr>\n",
       "    <tr>\n",
       "      <th>rank_test_score</th>\n",
       "      <td>20</td>\n",
       "      <td>21</td>\n",
       "      <td>19</td>\n",
       "      <td>24</td>\n",
       "      <td>3</td>\n",
       "      <td>14</td>\n",
       "      <td>7</td>\n",
       "      <td>8</td>\n",
       "      <td>10</td>\n",
       "      <td>1</td>\n",
       "      <td>...</td>\n",
       "      <td>22</td>\n",
       "      <td>23</td>\n",
       "      <td>9</td>\n",
       "      <td>17</td>\n",
       "      <td>13</td>\n",
       "      <td>4</td>\n",
       "      <td>12</td>\n",
       "      <td>6</td>\n",
       "      <td>5</td>\n",
       "      <td>2</td>\n",
       "    </tr>\n",
       "  </tbody>\n",
       "</table>\n",
       "<p>16 rows × 24 columns</p>\n",
       "</div>"
      ],
      "text/plain": [
       "                                                                   0   \\\n",
       "mean_fit_time                                                0.100279   \n",
       "std_fit_time                                               0.00870281   \n",
       "mean_score_time                                            0.00762649   \n",
       "std_score_time                                            0.000195175   \n",
       "param_criterion                                                  gini   \n",
       "param_max_depth                                                     2   \n",
       "param_max_features                                                  1   \n",
       "params              {'criterion': 'gini', 'max_depth': 2, 'max_fea...   \n",
       "split0_test_score                                            0.677928   \n",
       "split1_test_score                                            0.677928   \n",
       "split2_test_score                                            0.684685   \n",
       "split3_test_score                                            0.731377   \n",
       "split4_test_score                                            0.668172   \n",
       "mean_test_score                                              0.688018   \n",
       "std_test_score                                              0.0223097   \n",
       "rank_test_score                                                    20   \n",
       "\n",
       "                                                                   1   \\\n",
       "mean_fit_time                                                0.107545   \n",
       "std_fit_time                                               0.00161408   \n",
       "mean_score_time                                            0.00768642   \n",
       "std_score_time                                            0.000257806   \n",
       "param_criterion                                                  gini   \n",
       "param_max_depth                                                     2   \n",
       "param_max_features                                               sqrt   \n",
       "params              {'criterion': 'gini', 'max_depth': 2, 'max_fea...   \n",
       "split0_test_score                                             0.65991   \n",
       "split1_test_score                                            0.677928   \n",
       "split2_test_score                                            0.682432   \n",
       "split3_test_score                                            0.735892   \n",
       "split4_test_score                                            0.681716   \n",
       "mean_test_score                                              0.687575   \n",
       "std_test_score                                              0.0255096   \n",
       "rank_test_score                                                    21   \n",
       "\n",
       "                                                                   2   \\\n",
       "mean_fit_time                                                0.112162   \n",
       "std_fit_time                                               0.00560645   \n",
       "mean_score_time                                             0.0078176   \n",
       "std_score_time                                            0.000440164   \n",
       "param_criterion                                                  gini   \n",
       "param_max_depth                                                     2   \n",
       "param_max_features                                               log2   \n",
       "params              {'criterion': 'gini', 'max_depth': 2, 'max_fea...   \n",
       "split0_test_score                                            0.675676   \n",
       "split1_test_score                                            0.682432   \n",
       "split2_test_score                                            0.686937   \n",
       "split3_test_score                                            0.735892   \n",
       "split4_test_score                                            0.663657   \n",
       "mean_test_score                                              0.688919   \n",
       "std_test_score                                              0.0247629   \n",
       "rank_test_score                                                    19   \n",
       "\n",
       "                                                                   3   \\\n",
       "mean_fit_time                                                0.146185   \n",
       "std_fit_time                                                0.0150514   \n",
       "mean_score_time                                            0.00857091   \n",
       "std_score_time                                              0.0015206   \n",
       "param_criterion                                                  gini   \n",
       "param_max_depth                                                     2   \n",
       "param_max_features                                               None   \n",
       "params              {'criterion': 'gini', 'max_depth': 2, 'max_fea...   \n",
       "split0_test_score                                            0.677928   \n",
       "split1_test_score                                            0.655405   \n",
       "split2_test_score                                             0.65991   \n",
       "split3_test_score                                            0.738149   \n",
       "split4_test_score                                            0.663657   \n",
       "mean_test_score                                               0.67901   \n",
       "std_test_score                                              0.0305165   \n",
       "rank_test_score                                                    24   \n",
       "\n",
       "                                                                   4   \\\n",
       "mean_fit_time                                                0.129206   \n",
       "std_fit_time                                                0.0182725   \n",
       "mean_score_time                                            0.00909877   \n",
       "std_score_time                                             0.00138402   \n",
       "param_criterion                                                  gini   \n",
       "param_max_depth                                                     3   \n",
       "param_max_features                                                  1   \n",
       "params              {'criterion': 'gini', 'max_depth': 3, 'max_fea...   \n",
       "split0_test_score                                            0.682432   \n",
       "split1_test_score                                            0.686937   \n",
       "split2_test_score                                            0.695946   \n",
       "split3_test_score                                            0.742664   \n",
       "split4_test_score                                            0.672686   \n",
       "mean_test_score                                              0.696133   \n",
       "std_test_score                                              0.0244424   \n",
       "rank_test_score                                                     3   \n",
       "\n",
       "                                                                   5   \\\n",
       "mean_fit_time                                                0.122467   \n",
       "std_fit_time                                               0.00296646   \n",
       "mean_score_time                                            0.00830774   \n",
       "std_score_time                                            0.000206613   \n",
       "param_criterion                                                  gini   \n",
       "param_max_depth                                                     3   \n",
       "param_max_features                                               sqrt   \n",
       "params              {'criterion': 'gini', 'max_depth': 3, 'max_fea...   \n",
       "split0_test_score                                             0.68018   \n",
       "split1_test_score                                            0.693694   \n",
       "split2_test_score                                            0.671171   \n",
       "split3_test_score                                            0.742664   \n",
       "split4_test_score                                            0.670429   \n",
       "mean_test_score                                              0.691628   \n",
       "std_test_score                                               0.026862   \n",
       "rank_test_score                                                    14   \n",
       "\n",
       "                                                                   6   \\\n",
       "mean_fit_time                                                0.136948   \n",
       "std_fit_time                                                0.0220137   \n",
       "mean_score_time                                            0.00868945   \n",
       "std_score_time                                             0.00140508   \n",
       "param_criterion                                                  gini   \n",
       "param_max_depth                                                     3   \n",
       "param_max_features                                               log2   \n",
       "params              {'criterion': 'gini', 'max_depth': 3, 'max_fea...   \n",
       "split0_test_score                                            0.684685   \n",
       "split1_test_score                                            0.693694   \n",
       "split2_test_score                                             0.68018   \n",
       "split3_test_score                                            0.738149   \n",
       "split4_test_score                                            0.674944   \n",
       "mean_test_score                                               0.69433   \n",
       "std_test_score                                              0.0227578   \n",
       "rank_test_score                                                     7   \n",
       "\n",
       "                                                                   7   \\\n",
       "mean_fit_time                                                0.161951   \n",
       "std_fit_time                                               0.00281025   \n",
       "mean_score_time                                            0.00832725   \n",
       "std_score_time                                             0.00098667   \n",
       "param_criterion                                                  gini   \n",
       "param_max_depth                                                     3   \n",
       "param_max_features                                               None   \n",
       "params              {'criterion': 'gini', 'max_depth': 3, 'max_fea...   \n",
       "split0_test_score                                            0.695946   \n",
       "split1_test_score                                            0.689189   \n",
       "split2_test_score                                            0.671171   \n",
       "split3_test_score                                            0.744921   \n",
       "split4_test_score                                            0.668172   \n",
       "mean_test_score                                               0.69388   \n",
       "std_test_score                                              0.0275974   \n",
       "rank_test_score                                                     8   \n",
       "\n",
       "                                                                   8   \\\n",
       "mean_fit_time                                                0.109373   \n",
       "std_fit_time                                               0.00297489   \n",
       "mean_score_time                                            0.00805397   \n",
       "std_score_time                                            6.39528e-05   \n",
       "param_criterion                                                  gini   \n",
       "param_max_depth                                                     4   \n",
       "param_max_features                                                  1   \n",
       "params              {'criterion': 'gini', 'max_depth': 4, 'max_fea...   \n",
       "split0_test_score                                             0.68018   \n",
       "split1_test_score                                            0.686937   \n",
       "split2_test_score                                             0.68018   \n",
       "split3_test_score                                            0.744921   \n",
       "split4_test_score                                            0.670429   \n",
       "mean_test_score                                              0.692529   \n",
       "std_test_score                                              0.0267193   \n",
       "rank_test_score                                                    10   \n",
       "\n",
       "                                                                   9   ...  \\\n",
       "mean_fit_time                                                0.125505  ...   \n",
       "std_fit_time                                               0.00122519  ...   \n",
       "mean_score_time                                            0.00797596  ...   \n",
       "std_score_time                                            5.61421e-05  ...   \n",
       "param_criterion                                                  gini  ...   \n",
       "param_max_depth                                                     4  ...   \n",
       "param_max_features                                               sqrt  ...   \n",
       "params              {'criterion': 'gini', 'max_depth': 4, 'max_fea...  ...   \n",
       "split0_test_score                                            0.689189  ...   \n",
       "split1_test_score                                            0.691441  ...   \n",
       "split2_test_score                                            0.684685  ...   \n",
       "split3_test_score                                            0.749436  ...   \n",
       "split4_test_score                                            0.679458  ...   \n",
       "mean_test_score                                              0.698842  ...   \n",
       "std_test_score                                              0.0256274  ...   \n",
       "rank_test_score                                                     1  ...   \n",
       "\n",
       "                                                                   14  \\\n",
       "mean_fit_time                                                0.119061   \n",
       "std_fit_time                                              0.000939665   \n",
       "mean_score_time                                            0.00752525   \n",
       "std_score_time                                            0.000228169   \n",
       "param_criterion                                               entropy   \n",
       "param_max_depth                                                     2   \n",
       "param_max_features                                               log2   \n",
       "params              {'criterion': 'entropy', 'max_depth': 2, 'max_...   \n",
       "split0_test_score                                             0.68018   \n",
       "split1_test_score                                            0.655405   \n",
       "split2_test_score                                            0.675676   \n",
       "split3_test_score                                            0.733634   \n",
       "split4_test_score                                            0.677201   \n",
       "mean_test_score                                              0.684419   \n",
       "std_test_score                                              0.0261169   \n",
       "rank_test_score                                                    22   \n",
       "\n",
       "                                                                   15  \\\n",
       "mean_fit_time                                                0.167453   \n",
       "std_fit_time                                               0.00224417   \n",
       "mean_score_time                                            0.00758834   \n",
       "std_score_time                                            0.000140714   \n",
       "param_criterion                                               entropy   \n",
       "param_max_depth                                                     2   \n",
       "param_max_features                                               None   \n",
       "params              {'criterion': 'entropy', 'max_depth': 2, 'max_...   \n",
       "split0_test_score                                            0.689189   \n",
       "split1_test_score                                            0.650901   \n",
       "split2_test_score                                            0.662162   \n",
       "split3_test_score                                            0.738149   \n",
       "split4_test_score                                            0.656885   \n",
       "mean_test_score                                              0.679457   \n",
       "std_test_score                                              0.0321357   \n",
       "rank_test_score                                                    23   \n",
       "\n",
       "                                                                   16  \\\n",
       "mean_fit_time                                                0.112322   \n",
       "std_fit_time                                               0.00132507   \n",
       "mean_score_time                                            0.00784297   \n",
       "std_score_time                                            0.000147738   \n",
       "param_criterion                                               entropy   \n",
       "param_max_depth                                                     3   \n",
       "param_max_features                                                  1   \n",
       "params              {'criterion': 'entropy', 'max_depth': 3, 'max_...   \n",
       "split0_test_score                                            0.691441   \n",
       "split1_test_score                                            0.682432   \n",
       "split2_test_score                                            0.695946   \n",
       "split3_test_score                                            0.731377   \n",
       "split4_test_score                                            0.665914   \n",
       "mean_test_score                                              0.693422   \n",
       "std_test_score                                              0.0215793   \n",
       "rank_test_score                                                     9   \n",
       "\n",
       "                                                                   17  \\\n",
       "mean_fit_time                                                0.141561   \n",
       "std_fit_time                                               0.00356349   \n",
       "mean_score_time                                            0.00793567   \n",
       "std_score_time                                            8.85532e-05   \n",
       "param_criterion                                               entropy   \n",
       "param_max_depth                                                     3   \n",
       "param_max_features                                               sqrt   \n",
       "params              {'criterion': 'entropy', 'max_depth': 3, 'max_...   \n",
       "split0_test_score                                            0.684685   \n",
       "split1_test_score                                            0.691441   \n",
       "split2_test_score                                            0.673423   \n",
       "split3_test_score                                            0.735892   \n",
       "split4_test_score                                            0.668172   \n",
       "mean_test_score                                              0.690723   \n",
       "std_test_score                                              0.0240209   \n",
       "rank_test_score                                                    17   \n",
       "\n",
       "                                                                   18  \\\n",
       "mean_fit_time                                                0.136062   \n",
       "std_fit_time                                               0.00133199   \n",
       "mean_score_time                                            0.00782409   \n",
       "std_score_time                                            0.000172108   \n",
       "param_criterion                                               entropy   \n",
       "param_max_depth                                                     3   \n",
       "param_max_features                                               log2   \n",
       "params              {'criterion': 'entropy', 'max_depth': 3, 'max_...   \n",
       "split0_test_score                                            0.693694   \n",
       "split1_test_score                                            0.686937   \n",
       "split2_test_score                                            0.689189   \n",
       "split3_test_score                                            0.731377   \n",
       "split4_test_score                                            0.659142   \n",
       "mean_test_score                                              0.692068   \n",
       "std_test_score                                              0.0230936   \n",
       "rank_test_score                                                    13   \n",
       "\n",
       "                                                                   19  \\\n",
       "mean_fit_time                                                0.208767   \n",
       "std_fit_time                                               0.00131018   \n",
       "mean_score_time                                            0.00773635   \n",
       "std_score_time                                            0.000172212   \n",
       "param_criterion                                               entropy   \n",
       "param_max_depth                                                     3   \n",
       "param_max_features                                               None   \n",
       "params              {'criterion': 'entropy', 'max_depth': 3, 'max_...   \n",
       "split0_test_score                                            0.689189   \n",
       "split1_test_score                                            0.686937   \n",
       "split2_test_score                                            0.682432   \n",
       "split3_test_score                                            0.744921   \n",
       "split4_test_score                                            0.674944   \n",
       "mean_test_score                                              0.695685   \n",
       "std_test_score                                              0.0250948   \n",
       "rank_test_score                                                     4   \n",
       "\n",
       "                                                                   20  \\\n",
       "mean_fit_time                                                0.121159   \n",
       "std_fit_time                                              0.000884347   \n",
       "mean_score_time                                             0.0079103   \n",
       "std_score_time                                            0.000137515   \n",
       "param_criterion                                               entropy   \n",
       "param_max_depth                                                     4   \n",
       "param_max_features                                                  1   \n",
       "params              {'criterion': 'entropy', 'max_depth': 4, 'max_...   \n",
       "split0_test_score                                            0.677928   \n",
       "split1_test_score                                            0.693694   \n",
       "split2_test_score                                            0.689189   \n",
       "split3_test_score                                             0.72912   \n",
       "split4_test_score                                            0.672686   \n",
       "mean_test_score                                              0.692523   \n",
       "std_test_score                                              0.0197905   \n",
       "rank_test_score                                                    12   \n",
       "\n",
       "                                                                   21  \\\n",
       "mean_fit_time                                                0.154605   \n",
       "std_fit_time                                               0.00166127   \n",
       "mean_score_time                                            0.00798092   \n",
       "std_score_time                                            0.000160817   \n",
       "param_criterion                                               entropy   \n",
       "param_max_depth                                                     4   \n",
       "param_max_features                                               sqrt   \n",
       "params              {'criterion': 'entropy', 'max_depth': 4, 'max_...   \n",
       "split0_test_score                                             0.68018   \n",
       "split1_test_score                                            0.695946   \n",
       "split2_test_score                                            0.689189   \n",
       "split3_test_score                                            0.738149   \n",
       "split4_test_score                                            0.670429   \n",
       "mean_test_score                                              0.694779   \n",
       "std_test_score                                              0.0233222   \n",
       "rank_test_score                                                     6   \n",
       "\n",
       "                                                                   22  \\\n",
       "mean_fit_time                                                0.154926   \n",
       "std_fit_time                                               0.00121183   \n",
       "mean_score_time                                            0.00818114   \n",
       "std_score_time                                            0.000211105   \n",
       "param_criterion                                               entropy   \n",
       "param_max_depth                                                     4   \n",
       "param_max_features                                               log2   \n",
       "params              {'criterion': 'entropy', 'max_depth': 4, 'max_...   \n",
       "split0_test_score                                            0.684685   \n",
       "split1_test_score                                            0.695946   \n",
       "split2_test_score                                            0.689189   \n",
       "split3_test_score                                            0.733634   \n",
       "split4_test_score                                            0.672686   \n",
       "mean_test_score                                              0.695228   \n",
       "std_test_score                                              0.0206462   \n",
       "rank_test_score                                                     5   \n",
       "\n",
       "                                                                   23  \n",
       "mean_fit_time                                                0.250788  \n",
       "std_fit_time                                               0.00126263  \n",
       "mean_score_time                                            0.00798259  \n",
       "std_score_time                                            0.000118969  \n",
       "param_criterion                                               entropy  \n",
       "param_max_depth                                                     4  \n",
       "param_max_features                                               None  \n",
       "params              {'criterion': 'entropy', 'max_depth': 4, 'max_...  \n",
       "split0_test_score                                            0.691441  \n",
       "split1_test_score                                             0.70045  \n",
       "split2_test_score                                            0.671171  \n",
       "split3_test_score                                            0.744921  \n",
       "split4_test_score                                            0.674944  \n",
       "mean_test_score                                              0.696586  \n",
       "std_test_score                                              0.0264272  \n",
       "rank_test_score                                                     2  \n",
       "\n",
       "[16 rows x 24 columns]"
      ]
     },
     "execution_count": 35,
     "metadata": {},
     "output_type": "execute_result"
    }
   ],
   "source": [
    "pd.DataFrame(gsrf.cv_results_).T"
   ]
  },
  {
   "cell_type": "code",
   "execution_count": 36,
   "metadata": {
    "ExecuteTime": {
     "end_time": "2020-05-14T05:27:28.180016Z",
     "start_time": "2020-05-14T05:27:28.177036Z"
    }
   },
   "outputs": [
    {
     "data": {
      "text/plain": [
       "{'criterion': 'gini', 'max_depth': 4, 'max_features': 'sqrt'}"
      ]
     },
     "execution_count": 36,
     "metadata": {},
     "output_type": "execute_result"
    }
   ],
   "source": [
    "gsrf.best_params_"
   ]
  },
  {
   "cell_type": "markdown",
   "metadata": {},
   "source": [
    "------\n",
    "## GradientBoostingClassifier"
   ]
  },
  {
   "cell_type": "code",
   "execution_count": 63,
   "metadata": {
    "ExecuteTime": {
     "end_time": "2020-05-14T19:15:13.766974Z",
     "start_time": "2020-05-14T19:15:13.514847Z"
    }
   },
   "outputs": [
    {
     "name": "stdout",
     "output_type": "stream",
     "text": [
      "Accuracy: 0.639 \t Recall: 0.997 \t Precision: 0.544 \t F1: 0.704\n"
     ]
    },
    {
     "data": {
      "text/plain": [
       "(0.6394910461828464,\n",
       " 0.9967141292442497,\n",
       " 0.5442583732057417,\n",
       " 0.7040618955512573)"
      ]
     },
     "execution_count": 63,
     "metadata": {},
     "output_type": "execute_result"
    }
   ],
   "source": [
    "# GradientBoostingClassifier\n",
    "gbc = GradientBoostingClassifier()\n",
    "\n",
    "def sw(weight_a, weight_b):\n",
    "    sample_weights = np.zeros(len(y_train))\n",
    "    sample_weights[y_train == 0] = weight_a\n",
    "    sample_weights[y_train == 1] = weight_b\n",
    "    return sample_weights\n",
    "\n",
    "sample_weights = sw(0.5, 3)\n",
    "\n",
    "gbc.fit(X_train, y_train, sample_weight = sample_weights\n",
    "       )\n",
    "\n",
    "model_scores(gbc, X_train, y_train)\n"
   ]
  },
  {
   "cell_type": "code",
   "execution_count": 64,
   "metadata": {
    "ExecuteTime": {
     "end_time": "2020-05-14T19:15:14.349670Z",
     "start_time": "2020-05-14T19:15:14.337325Z"
    }
   },
   "outputs": [
    {
     "name": "stdout",
     "output_type": "stream",
     "text": [
      "Accuracy: 0.591 \t Recall: 0.913 \t Precision: 0.515 \t F1: 0.658\n"
     ]
    },
    {
     "data": {
      "text/plain": [
       "(0.591337099811676, 0.9126637554585153, 0.5147783251231527, 0.658267716535433)"
      ]
     },
     "execution_count": 64,
     "metadata": {},
     "output_type": "execute_result"
    }
   ],
   "source": [
    "model_scores(gbc, X_test, y_test)"
   ]
  },
  {
   "cell_type": "code",
   "execution_count": 127,
   "metadata": {
    "ExecuteTime": {
     "end_time": "2020-05-13T02:21:14.990471Z",
     "start_time": "2020-05-13T02:21:14.984683Z"
    }
   },
   "outputs": [],
   "source": [
    "sample_weights_list = [sw(0.5, 9.1), sw(0.5, 5), sw(1, 5), sw(0.2, 10)]\n",
    "# gbc_params = {'sample_weight': sample_weights_list}"
   ]
  },
  {
   "cell_type": "code",
   "execution_count": 128,
   "metadata": {
    "ExecuteTime": {
     "end_time": "2020-05-13T02:21:15.312805Z",
     "start_time": "2020-05-13T02:21:15.272214Z"
    },
    "collapsed": true
   },
   "outputs": [
    {
     "ename": "ValueError",
     "evalue": "Invalid parameter sample_weight for estimator GradientBoostingClassifier(ccp_alpha=0.0, criterion='friedman_mse', init=None,\n                           learning_rate=0.1, loss='deviance', max_depth=3,\n                           max_features=None, max_leaf_nodes=None,\n                           min_impurity_decrease=0.0, min_impurity_split=None,\n                           min_samples_leaf=1, min_samples_split=2,\n                           min_weight_fraction_leaf=0.0, n_estimators=100,\n                           n_iter_no_change=None, presort='deprecated',\n                           random_state=None, subsample=1.0, tol=0.0001,\n                           validation_fraction=0.1, verbose=0,\n                           warm_start=False). Check the list of available parameters with `estimator.get_params().keys()`.",
     "output_type": "error",
     "traceback": [
      "\u001b[0;31m---------------------------------------------------------------------------\u001b[0m",
      "\u001b[0;31mValueError\u001b[0m                                Traceback (most recent call last)",
      "\u001b[0;32m<ipython-input-128-30237605d6c5>\u001b[0m in \u001b[0;36m<module>\u001b[0;34m\u001b[0m\n\u001b[1;32m      2\u001b[0m                     \u001b[0mgbc_params\u001b[0m\u001b[0;34m,\u001b[0m\u001b[0;34m\u001b[0m\u001b[0m\n\u001b[1;32m      3\u001b[0m                    scoring=f1_scorer)\n\u001b[0;32m----> 4\u001b[0;31m \u001b[0mgsgbc\u001b[0m\u001b[0;34m.\u001b[0m\u001b[0mfit\u001b[0m\u001b[0;34m(\u001b[0m\u001b[0mX_train\u001b[0m\u001b[0;34m,\u001b[0m \u001b[0my_train\u001b[0m\u001b[0;34m)\u001b[0m\u001b[0;34m\u001b[0m\u001b[0m\n\u001b[0m",
      "\u001b[0;32m~/anaconda3/lib/python3.6/site-packages/sklearn/model_selection/_search.py\u001b[0m in \u001b[0;36mfit\u001b[0;34m(self, X, y, groups, **fit_params)\u001b[0m\n\u001b[1;32m    708\u001b[0m                 \u001b[0;32mreturn\u001b[0m \u001b[0mresults\u001b[0m\u001b[0;34m\u001b[0m\u001b[0m\n\u001b[1;32m    709\u001b[0m \u001b[0;34m\u001b[0m\u001b[0m\n\u001b[0;32m--> 710\u001b[0;31m             \u001b[0mself\u001b[0m\u001b[0;34m.\u001b[0m\u001b[0m_run_search\u001b[0m\u001b[0;34m(\u001b[0m\u001b[0mevaluate_candidates\u001b[0m\u001b[0;34m)\u001b[0m\u001b[0;34m\u001b[0m\u001b[0m\n\u001b[0m\u001b[1;32m    711\u001b[0m \u001b[0;34m\u001b[0m\u001b[0m\n\u001b[1;32m    712\u001b[0m         \u001b[0;31m# For multi-metric evaluation, store the best_index_, best_params_ and\u001b[0m\u001b[0;34m\u001b[0m\u001b[0;34m\u001b[0m\u001b[0m\n",
      "\u001b[0;32m~/anaconda3/lib/python3.6/site-packages/sklearn/model_selection/_search.py\u001b[0m in \u001b[0;36m_run_search\u001b[0;34m(self, evaluate_candidates)\u001b[0m\n\u001b[1;32m   1149\u001b[0m     \u001b[0;32mdef\u001b[0m \u001b[0m_run_search\u001b[0m\u001b[0;34m(\u001b[0m\u001b[0mself\u001b[0m\u001b[0;34m,\u001b[0m \u001b[0mevaluate_candidates\u001b[0m\u001b[0;34m)\u001b[0m\u001b[0;34m:\u001b[0m\u001b[0;34m\u001b[0m\u001b[0m\n\u001b[1;32m   1150\u001b[0m         \u001b[0;34m\"\"\"Search all candidates in param_grid\"\"\"\u001b[0m\u001b[0;34m\u001b[0m\u001b[0m\n\u001b[0;32m-> 1151\u001b[0;31m         \u001b[0mevaluate_candidates\u001b[0m\u001b[0;34m(\u001b[0m\u001b[0mParameterGrid\u001b[0m\u001b[0;34m(\u001b[0m\u001b[0mself\u001b[0m\u001b[0;34m.\u001b[0m\u001b[0mparam_grid\u001b[0m\u001b[0;34m)\u001b[0m\u001b[0;34m)\u001b[0m\u001b[0;34m\u001b[0m\u001b[0m\n\u001b[0m\u001b[1;32m   1152\u001b[0m \u001b[0;34m\u001b[0m\u001b[0m\n\u001b[1;32m   1153\u001b[0m \u001b[0;34m\u001b[0m\u001b[0m\n",
      "\u001b[0;32m~/anaconda3/lib/python3.6/site-packages/sklearn/model_selection/_search.py\u001b[0m in \u001b[0;36mevaluate_candidates\u001b[0;34m(candidate_params)\u001b[0m\n\u001b[1;32m    687\u001b[0m                                \u001b[0;32mfor\u001b[0m \u001b[0mparameters\u001b[0m\u001b[0;34m,\u001b[0m \u001b[0;34m(\u001b[0m\u001b[0mtrain\u001b[0m\u001b[0;34m,\u001b[0m \u001b[0mtest\u001b[0m\u001b[0;34m)\u001b[0m\u001b[0;34m\u001b[0m\u001b[0m\n\u001b[1;32m    688\u001b[0m                                in product(candidate_params,\n\u001b[0;32m--> 689\u001b[0;31m                                           cv.split(X, y, groups)))\n\u001b[0m\u001b[1;32m    690\u001b[0m \u001b[0;34m\u001b[0m\u001b[0m\n\u001b[1;32m    691\u001b[0m                 \u001b[0;32mif\u001b[0m \u001b[0mlen\u001b[0m\u001b[0;34m(\u001b[0m\u001b[0mout\u001b[0m\u001b[0;34m)\u001b[0m \u001b[0;34m<\u001b[0m \u001b[0;36m1\u001b[0m\u001b[0;34m:\u001b[0m\u001b[0;34m\u001b[0m\u001b[0m\n",
      "\u001b[0;32m~/anaconda3/lib/python3.6/site-packages/joblib/parallel.py\u001b[0m in \u001b[0;36m__call__\u001b[0;34m(self, iterable)\u001b[0m\n\u001b[1;32m   1002\u001b[0m             \u001b[0;31m# remaining jobs.\u001b[0m\u001b[0;34m\u001b[0m\u001b[0;34m\u001b[0m\u001b[0m\n\u001b[1;32m   1003\u001b[0m             \u001b[0mself\u001b[0m\u001b[0;34m.\u001b[0m\u001b[0m_iterating\u001b[0m \u001b[0;34m=\u001b[0m \u001b[0;32mFalse\u001b[0m\u001b[0;34m\u001b[0m\u001b[0m\n\u001b[0;32m-> 1004\u001b[0;31m             \u001b[0;32mif\u001b[0m \u001b[0mself\u001b[0m\u001b[0;34m.\u001b[0m\u001b[0mdispatch_one_batch\u001b[0m\u001b[0;34m(\u001b[0m\u001b[0miterator\u001b[0m\u001b[0;34m)\u001b[0m\u001b[0;34m:\u001b[0m\u001b[0;34m\u001b[0m\u001b[0m\n\u001b[0m\u001b[1;32m   1005\u001b[0m                 \u001b[0mself\u001b[0m\u001b[0;34m.\u001b[0m\u001b[0m_iterating\u001b[0m \u001b[0;34m=\u001b[0m \u001b[0mself\u001b[0m\u001b[0;34m.\u001b[0m\u001b[0m_original_iterator\u001b[0m \u001b[0;32mis\u001b[0m \u001b[0;32mnot\u001b[0m \u001b[0;32mNone\u001b[0m\u001b[0;34m\u001b[0m\u001b[0m\n\u001b[1;32m   1006\u001b[0m \u001b[0;34m\u001b[0m\u001b[0m\n",
      "\u001b[0;32m~/anaconda3/lib/python3.6/site-packages/joblib/parallel.py\u001b[0m in \u001b[0;36mdispatch_one_batch\u001b[0;34m(self, iterator)\u001b[0m\n\u001b[1;32m    833\u001b[0m                 \u001b[0;32mreturn\u001b[0m \u001b[0;32mFalse\u001b[0m\u001b[0;34m\u001b[0m\u001b[0m\n\u001b[1;32m    834\u001b[0m             \u001b[0;32melse\u001b[0m\u001b[0;34m:\u001b[0m\u001b[0;34m\u001b[0m\u001b[0m\n\u001b[0;32m--> 835\u001b[0;31m                 \u001b[0mself\u001b[0m\u001b[0;34m.\u001b[0m\u001b[0m_dispatch\u001b[0m\u001b[0;34m(\u001b[0m\u001b[0mtasks\u001b[0m\u001b[0;34m)\u001b[0m\u001b[0;34m\u001b[0m\u001b[0m\n\u001b[0m\u001b[1;32m    836\u001b[0m                 \u001b[0;32mreturn\u001b[0m \u001b[0;32mTrue\u001b[0m\u001b[0;34m\u001b[0m\u001b[0m\n\u001b[1;32m    837\u001b[0m \u001b[0;34m\u001b[0m\u001b[0m\n",
      "\u001b[0;32m~/anaconda3/lib/python3.6/site-packages/joblib/parallel.py\u001b[0m in \u001b[0;36m_dispatch\u001b[0;34m(self, batch)\u001b[0m\n\u001b[1;32m    752\u001b[0m         \u001b[0;32mwith\u001b[0m \u001b[0mself\u001b[0m\u001b[0;34m.\u001b[0m\u001b[0m_lock\u001b[0m\u001b[0;34m:\u001b[0m\u001b[0;34m\u001b[0m\u001b[0m\n\u001b[1;32m    753\u001b[0m             \u001b[0mjob_idx\u001b[0m \u001b[0;34m=\u001b[0m \u001b[0mlen\u001b[0m\u001b[0;34m(\u001b[0m\u001b[0mself\u001b[0m\u001b[0;34m.\u001b[0m\u001b[0m_jobs\u001b[0m\u001b[0;34m)\u001b[0m\u001b[0;34m\u001b[0m\u001b[0m\n\u001b[0;32m--> 754\u001b[0;31m             \u001b[0mjob\u001b[0m \u001b[0;34m=\u001b[0m \u001b[0mself\u001b[0m\u001b[0;34m.\u001b[0m\u001b[0m_backend\u001b[0m\u001b[0;34m.\u001b[0m\u001b[0mapply_async\u001b[0m\u001b[0;34m(\u001b[0m\u001b[0mbatch\u001b[0m\u001b[0;34m,\u001b[0m \u001b[0mcallback\u001b[0m\u001b[0;34m=\u001b[0m\u001b[0mcb\u001b[0m\u001b[0;34m)\u001b[0m\u001b[0;34m\u001b[0m\u001b[0m\n\u001b[0m\u001b[1;32m    755\u001b[0m             \u001b[0;31m# A job can complete so quickly than its callback is\u001b[0m\u001b[0;34m\u001b[0m\u001b[0;34m\u001b[0m\u001b[0m\n\u001b[1;32m    756\u001b[0m             \u001b[0;31m# called before we get here, causing self._jobs to\u001b[0m\u001b[0;34m\u001b[0m\u001b[0;34m\u001b[0m\u001b[0m\n",
      "\u001b[0;32m~/anaconda3/lib/python3.6/site-packages/joblib/_parallel_backends.py\u001b[0m in \u001b[0;36mapply_async\u001b[0;34m(self, func, callback)\u001b[0m\n\u001b[1;32m    207\u001b[0m     \u001b[0;32mdef\u001b[0m \u001b[0mapply_async\u001b[0m\u001b[0;34m(\u001b[0m\u001b[0mself\u001b[0m\u001b[0;34m,\u001b[0m \u001b[0mfunc\u001b[0m\u001b[0;34m,\u001b[0m \u001b[0mcallback\u001b[0m\u001b[0;34m=\u001b[0m\u001b[0;32mNone\u001b[0m\u001b[0;34m)\u001b[0m\u001b[0;34m:\u001b[0m\u001b[0;34m\u001b[0m\u001b[0m\n\u001b[1;32m    208\u001b[0m         \u001b[0;34m\"\"\"Schedule a func to be run\"\"\"\u001b[0m\u001b[0;34m\u001b[0m\u001b[0m\n\u001b[0;32m--> 209\u001b[0;31m         \u001b[0mresult\u001b[0m \u001b[0;34m=\u001b[0m \u001b[0mImmediateResult\u001b[0m\u001b[0;34m(\u001b[0m\u001b[0mfunc\u001b[0m\u001b[0;34m)\u001b[0m\u001b[0;34m\u001b[0m\u001b[0m\n\u001b[0m\u001b[1;32m    210\u001b[0m         \u001b[0;32mif\u001b[0m \u001b[0mcallback\u001b[0m\u001b[0;34m:\u001b[0m\u001b[0;34m\u001b[0m\u001b[0m\n\u001b[1;32m    211\u001b[0m             \u001b[0mcallback\u001b[0m\u001b[0;34m(\u001b[0m\u001b[0mresult\u001b[0m\u001b[0;34m)\u001b[0m\u001b[0;34m\u001b[0m\u001b[0m\n",
      "\u001b[0;32m~/anaconda3/lib/python3.6/site-packages/joblib/_parallel_backends.py\u001b[0m in \u001b[0;36m__init__\u001b[0;34m(self, batch)\u001b[0m\n\u001b[1;32m    588\u001b[0m         \u001b[0;31m# Don't delay the application, to avoid keeping the input\u001b[0m\u001b[0;34m\u001b[0m\u001b[0;34m\u001b[0m\u001b[0m\n\u001b[1;32m    589\u001b[0m         \u001b[0;31m# arguments in memory\u001b[0m\u001b[0;34m\u001b[0m\u001b[0;34m\u001b[0m\u001b[0m\n\u001b[0;32m--> 590\u001b[0;31m         \u001b[0mself\u001b[0m\u001b[0;34m.\u001b[0m\u001b[0mresults\u001b[0m \u001b[0;34m=\u001b[0m \u001b[0mbatch\u001b[0m\u001b[0;34m(\u001b[0m\u001b[0;34m)\u001b[0m\u001b[0;34m\u001b[0m\u001b[0m\n\u001b[0m\u001b[1;32m    591\u001b[0m \u001b[0;34m\u001b[0m\u001b[0m\n\u001b[1;32m    592\u001b[0m     \u001b[0;32mdef\u001b[0m \u001b[0mget\u001b[0m\u001b[0;34m(\u001b[0m\u001b[0mself\u001b[0m\u001b[0;34m)\u001b[0m\u001b[0;34m:\u001b[0m\u001b[0;34m\u001b[0m\u001b[0m\n",
      "\u001b[0;32m~/anaconda3/lib/python3.6/site-packages/joblib/parallel.py\u001b[0m in \u001b[0;36m__call__\u001b[0;34m(self)\u001b[0m\n\u001b[1;32m    254\u001b[0m         \u001b[0;32mwith\u001b[0m \u001b[0mparallel_backend\u001b[0m\u001b[0;34m(\u001b[0m\u001b[0mself\u001b[0m\u001b[0;34m.\u001b[0m\u001b[0m_backend\u001b[0m\u001b[0;34m,\u001b[0m \u001b[0mn_jobs\u001b[0m\u001b[0;34m=\u001b[0m\u001b[0mself\u001b[0m\u001b[0;34m.\u001b[0m\u001b[0m_n_jobs\u001b[0m\u001b[0;34m)\u001b[0m\u001b[0;34m:\u001b[0m\u001b[0;34m\u001b[0m\u001b[0m\n\u001b[1;32m    255\u001b[0m             return [func(*args, **kwargs)\n\u001b[0;32m--> 256\u001b[0;31m                     for func, args, kwargs in self.items]\n\u001b[0m\u001b[1;32m    257\u001b[0m \u001b[0;34m\u001b[0m\u001b[0m\n\u001b[1;32m    258\u001b[0m     \u001b[0;32mdef\u001b[0m \u001b[0m__len__\u001b[0m\u001b[0;34m(\u001b[0m\u001b[0mself\u001b[0m\u001b[0;34m)\u001b[0m\u001b[0;34m:\u001b[0m\u001b[0;34m\u001b[0m\u001b[0m\n",
      "\u001b[0;32m~/anaconda3/lib/python3.6/site-packages/joblib/parallel.py\u001b[0m in \u001b[0;36m<listcomp>\u001b[0;34m(.0)\u001b[0m\n\u001b[1;32m    254\u001b[0m         \u001b[0;32mwith\u001b[0m \u001b[0mparallel_backend\u001b[0m\u001b[0;34m(\u001b[0m\u001b[0mself\u001b[0m\u001b[0;34m.\u001b[0m\u001b[0m_backend\u001b[0m\u001b[0;34m,\u001b[0m \u001b[0mn_jobs\u001b[0m\u001b[0;34m=\u001b[0m\u001b[0mself\u001b[0m\u001b[0;34m.\u001b[0m\u001b[0m_n_jobs\u001b[0m\u001b[0;34m)\u001b[0m\u001b[0;34m:\u001b[0m\u001b[0;34m\u001b[0m\u001b[0m\n\u001b[1;32m    255\u001b[0m             return [func(*args, **kwargs)\n\u001b[0;32m--> 256\u001b[0;31m                     for func, args, kwargs in self.items]\n\u001b[0m\u001b[1;32m    257\u001b[0m \u001b[0;34m\u001b[0m\u001b[0m\n\u001b[1;32m    258\u001b[0m     \u001b[0;32mdef\u001b[0m \u001b[0m__len__\u001b[0m\u001b[0;34m(\u001b[0m\u001b[0mself\u001b[0m\u001b[0;34m)\u001b[0m\u001b[0;34m:\u001b[0m\u001b[0;34m\u001b[0m\u001b[0m\n",
      "\u001b[0;32m~/anaconda3/lib/python3.6/site-packages/sklearn/model_selection/_validation.py\u001b[0m in \u001b[0;36m_fit_and_score\u001b[0;34m(estimator, X, y, scorer, train, test, verbose, parameters, fit_params, return_train_score, return_parameters, return_n_test_samples, return_times, return_estimator, error_score)\u001b[0m\n\u001b[1;32m    502\u001b[0m             \u001b[0mcloned_parameters\u001b[0m\u001b[0;34m[\u001b[0m\u001b[0mk\u001b[0m\u001b[0;34m]\u001b[0m \u001b[0;34m=\u001b[0m \u001b[0mclone\u001b[0m\u001b[0;34m(\u001b[0m\u001b[0mv\u001b[0m\u001b[0;34m,\u001b[0m \u001b[0msafe\u001b[0m\u001b[0;34m=\u001b[0m\u001b[0;32mFalse\u001b[0m\u001b[0;34m)\u001b[0m\u001b[0;34m\u001b[0m\u001b[0m\n\u001b[1;32m    503\u001b[0m \u001b[0;34m\u001b[0m\u001b[0m\n\u001b[0;32m--> 504\u001b[0;31m         \u001b[0mestimator\u001b[0m \u001b[0;34m=\u001b[0m \u001b[0mestimator\u001b[0m\u001b[0;34m.\u001b[0m\u001b[0mset_params\u001b[0m\u001b[0;34m(\u001b[0m\u001b[0;34m**\u001b[0m\u001b[0mcloned_parameters\u001b[0m\u001b[0;34m)\u001b[0m\u001b[0;34m\u001b[0m\u001b[0m\n\u001b[0m\u001b[1;32m    505\u001b[0m \u001b[0;34m\u001b[0m\u001b[0m\n\u001b[1;32m    506\u001b[0m     \u001b[0mstart_time\u001b[0m \u001b[0;34m=\u001b[0m \u001b[0mtime\u001b[0m\u001b[0;34m.\u001b[0m\u001b[0mtime\u001b[0m\u001b[0;34m(\u001b[0m\u001b[0;34m)\u001b[0m\u001b[0;34m\u001b[0m\u001b[0m\n",
      "\u001b[0;32m~/anaconda3/lib/python3.6/site-packages/sklearn/base.py\u001b[0m in \u001b[0;36mset_params\u001b[0;34m(self, **params)\u001b[0m\n\u001b[1;32m    234\u001b[0m                                  \u001b[0;34m'Check the list of available parameters '\u001b[0m\u001b[0;34m\u001b[0m\u001b[0m\n\u001b[1;32m    235\u001b[0m                                  \u001b[0;34m'with `estimator.get_params().keys()`.'\u001b[0m \u001b[0;34m%\u001b[0m\u001b[0;34m\u001b[0m\u001b[0m\n\u001b[0;32m--> 236\u001b[0;31m                                  (key, self))\n\u001b[0m\u001b[1;32m    237\u001b[0m \u001b[0;34m\u001b[0m\u001b[0m\n\u001b[1;32m    238\u001b[0m             \u001b[0;32mif\u001b[0m \u001b[0mdelim\u001b[0m\u001b[0;34m:\u001b[0m\u001b[0;34m\u001b[0m\u001b[0m\n",
      "\u001b[0;31mValueError\u001b[0m: Invalid parameter sample_weight for estimator GradientBoostingClassifier(ccp_alpha=0.0, criterion='friedman_mse', init=None,\n                           learning_rate=0.1, loss='deviance', max_depth=3,\n                           max_features=None, max_leaf_nodes=None,\n                           min_impurity_decrease=0.0, min_impurity_split=None,\n                           min_samples_leaf=1, min_samples_split=2,\n                           min_weight_fraction_leaf=0.0, n_estimators=100,\n                           n_iter_no_change=None, presort='deprecated',\n                           random_state=None, subsample=1.0, tol=0.0001,\n                           validation_fraction=0.1, verbose=0,\n                           warm_start=False). Check the list of available parameters with `estimator.get_params().keys()`."
     ]
    }
   ],
   "source": [
    "# gsgbc = GridSearchCV(gbc, \n",
    "#                     gbc_params,\n",
    "#                    scoring=f1_scorer)\n",
    "# gsgbc.fit(X_train, y_train)"
   ]
  },
  {
   "cell_type": "code",
   "execution_count": null,
   "metadata": {},
   "outputs": [],
   "source": [
    "# pd.DataFrame(gsgbc.cv_results_).T"
   ]
  },
  {
   "cell_type": "markdown",
   "metadata": {},
   "source": [
    "## KNN"
   ]
  },
  {
   "cell_type": "code",
   "execution_count": 65,
   "metadata": {
    "ExecuteTime": {
     "end_time": "2020-05-14T19:15:19.693061Z",
     "start_time": "2020-05-14T19:15:19.601528Z"
    }
   },
   "outputs": [
    {
     "name": "stdout",
     "output_type": "stream",
     "text": [
      "Accuracy: 0.694 \t Recall: 0.662 \t Precision: 0.64 \t F1: 0.651\n"
     ]
    },
    {
     "data": {
      "text/plain": [
       "(0.6941564561734213,\n",
       " 0.6615553121577218,\n",
       " 0.6398305084745762,\n",
       " 0.6505115778136781)"
      ]
     },
     "execution_count": 65,
     "metadata": {},
     "output_type": "execute_result"
    }
   ],
   "source": [
    "# KNeighborsClassifier\n",
    "\n",
    "knn = KNeighborsClassifier(n_neighbors=45)\n",
    "\n",
    "knn.fit(X_train, y_train)\n",
    "\n",
    "model_scores(knn, X_train, y_train)\n"
   ]
  },
  {
   "cell_type": "code",
   "execution_count": 66,
   "metadata": {
    "ExecuteTime": {
     "end_time": "2020-05-14T19:15:20.171890Z",
     "start_time": "2020-05-14T19:15:20.141846Z"
    }
   },
   "outputs": [
    {
     "name": "stdout",
     "output_type": "stream",
     "text": [
      "Accuracy: 0.682 \t Recall: 0.624 \t Precision: 0.633 \t F1: 0.629\n"
     ]
    },
    {
     "data": {
      "text/plain": [
       "(0.6817325800376648,\n",
       " 0.6244541484716157,\n",
       " 0.6327433628318584,\n",
       " 0.6285714285714286)"
      ]
     },
     "execution_count": 66,
     "metadata": {},
     "output_type": "execute_result"
    }
   ],
   "source": [
    "model_scores(knn, X_test, y_test)"
   ]
  },
  {
   "cell_type": "code",
   "execution_count": 1267,
   "metadata": {
    "ExecuteTime": {
     "end_time": "2020-05-14T04:41:18.216329Z",
     "start_time": "2020-05-14T04:41:18.213243Z"
    },
    "code_folding": [
     0
    ]
   },
   "outputs": [],
   "source": [
    "knn_params = {'n_neighbors': list(range(3,50,2))}"
   ]
  },
  {
   "cell_type": "code",
   "execution_count": 1268,
   "metadata": {
    "ExecuteTime": {
     "end_time": "2020-05-14T04:41:20.483762Z",
     "start_time": "2020-05-14T04:41:18.682232Z"
    }
   },
   "outputs": [
    {
     "data": {
      "text/plain": [
       "GridSearchCV(cv=None, error_score=nan,\n",
       "             estimator=KNeighborsClassifier(algorithm='auto', leaf_size=30,\n",
       "                                            metric='minkowski',\n",
       "                                            metric_params=None, n_jobs=None,\n",
       "                                            n_neighbors=41, p=2,\n",
       "                                            weights='uniform'),\n",
       "             iid='deprecated', n_jobs=None,\n",
       "             param_grid={'n_neighbors': [3, 5, 7, 9, 11, 13, 15, 17, 19, 21, 23,\n",
       "                                         25, 27, 29, 31, 33, 35, 37, 39, 41, 43,\n",
       "                                         45, 47, 49]},\n",
       "             pre_dispatch='2*n_jobs', refit=True, return_train_score=False,\n",
       "             scoring=None, verbose=0)"
      ]
     },
     "execution_count": 1268,
     "metadata": {},
     "output_type": "execute_result"
    }
   ],
   "source": [
    "gsknn = GridSearchCV(knn, \n",
    "                    knn_params#,scoring=f1_scorer\n",
    "                    )\n",
    "gsknn.fit(X_train, y_train)"
   ]
  },
  {
   "cell_type": "code",
   "execution_count": 1269,
   "metadata": {
    "ExecuteTime": {
     "end_time": "2020-05-14T04:41:21.429642Z",
     "start_time": "2020-05-14T04:41:21.391502Z"
    }
   },
   "outputs": [
    {
     "data": {
      "text/html": [
       "<div>\n",
       "<style scoped>\n",
       "    .dataframe tbody tr th:only-of-type {\n",
       "        vertical-align: middle;\n",
       "    }\n",
       "\n",
       "    .dataframe tbody tr th {\n",
       "        vertical-align: top;\n",
       "    }\n",
       "\n",
       "    .dataframe thead th {\n",
       "        text-align: right;\n",
       "    }\n",
       "</style>\n",
       "<table border=\"1\" class=\"dataframe\">\n",
       "  <thead>\n",
       "    <tr style=\"text-align: right;\">\n",
       "      <th></th>\n",
       "      <th>0</th>\n",
       "      <th>1</th>\n",
       "      <th>2</th>\n",
       "      <th>3</th>\n",
       "      <th>4</th>\n",
       "      <th>5</th>\n",
       "      <th>6</th>\n",
       "      <th>7</th>\n",
       "      <th>8</th>\n",
       "      <th>9</th>\n",
       "      <th>...</th>\n",
       "      <th>14</th>\n",
       "      <th>15</th>\n",
       "      <th>16</th>\n",
       "      <th>17</th>\n",
       "      <th>18</th>\n",
       "      <th>19</th>\n",
       "      <th>20</th>\n",
       "      <th>21</th>\n",
       "      <th>22</th>\n",
       "      <th>23</th>\n",
       "    </tr>\n",
       "  </thead>\n",
       "  <tbody>\n",
       "    <tr>\n",
       "      <th>mean_fit_time</th>\n",
       "      <td>0.00295391</td>\n",
       "      <td>0.00223923</td>\n",
       "      <td>0.00219564</td>\n",
       "      <td>0.00238314</td>\n",
       "      <td>0.00227828</td>\n",
       "      <td>0.00244646</td>\n",
       "      <td>0.00226021</td>\n",
       "      <td>0.00219221</td>\n",
       "      <td>0.00226245</td>\n",
       "      <td>0.0022553</td>\n",
       "      <td>...</td>\n",
       "      <td>0.00252252</td>\n",
       "      <td>0.00222368</td>\n",
       "      <td>0.0022305</td>\n",
       "      <td>0.00231695</td>\n",
       "      <td>0.00226717</td>\n",
       "      <td>0.00221033</td>\n",
       "      <td>0.00230284</td>\n",
       "      <td>0.00240064</td>\n",
       "      <td>0.00227852</td>\n",
       "      <td>0.00230374</td>\n",
       "    </tr>\n",
       "    <tr>\n",
       "      <th>std_fit_time</th>\n",
       "      <td>0.000496496</td>\n",
       "      <td>0.000130042</td>\n",
       "      <td>0.000138023</td>\n",
       "      <td>0.00026815</td>\n",
       "      <td>0.000127409</td>\n",
       "      <td>0.000389736</td>\n",
       "      <td>6.31018e-05</td>\n",
       "      <td>5.01837e-05</td>\n",
       "      <td>0.00011642</td>\n",
       "      <td>9.44675e-05</td>\n",
       "      <td>...</td>\n",
       "      <td>0.0004225</td>\n",
       "      <td>7.07909e-05</td>\n",
       "      <td>0.000201012</td>\n",
       "      <td>0.000103285</td>\n",
       "      <td>8.88888e-05</td>\n",
       "      <td>6.7445e-05</td>\n",
       "      <td>7.25052e-05</td>\n",
       "      <td>0.000274056</td>\n",
       "      <td>0.000106967</td>\n",
       "      <td>9.65188e-05</td>\n",
       "    </tr>\n",
       "    <tr>\n",
       "      <th>mean_score_time</th>\n",
       "      <td>0.0134285</td>\n",
       "      <td>0.0105559</td>\n",
       "      <td>0.011052</td>\n",
       "      <td>0.0113822</td>\n",
       "      <td>0.0112647</td>\n",
       "      <td>0.0109583</td>\n",
       "      <td>0.0115996</td>\n",
       "      <td>0.0114863</td>\n",
       "      <td>0.0115425</td>\n",
       "      <td>0.0120564</td>\n",
       "      <td>...</td>\n",
       "      <td>0.0126883</td>\n",
       "      <td>0.0125957</td>\n",
       "      <td>0.0124089</td>\n",
       "      <td>0.0135271</td>\n",
       "      <td>0.0129546</td>\n",
       "      <td>0.013153</td>\n",
       "      <td>0.012858</td>\n",
       "      <td>0.0129954</td>\n",
       "      <td>0.0134392</td>\n",
       "      <td>0.0135188</td>\n",
       "    </tr>\n",
       "    <tr>\n",
       "      <th>std_score_time</th>\n",
       "      <td>0.00174374</td>\n",
       "      <td>0.000295578</td>\n",
       "      <td>0.00033026</td>\n",
       "      <td>0.000289573</td>\n",
       "      <td>0.0004478</td>\n",
       "      <td>0.000189205</td>\n",
       "      <td>0.000349627</td>\n",
       "      <td>0.00028609</td>\n",
       "      <td>0.00043039</td>\n",
       "      <td>0.000318682</td>\n",
       "      <td>...</td>\n",
       "      <td>0.000645898</td>\n",
       "      <td>0.000331556</td>\n",
       "      <td>0.000380456</td>\n",
       "      <td>0.00166361</td>\n",
       "      <td>0.000252009</td>\n",
       "      <td>0.000279148</td>\n",
       "      <td>0.000172258</td>\n",
       "      <td>0.000338036</td>\n",
       "      <td>0.000362834</td>\n",
       "      <td>0.000536593</td>\n",
       "    </tr>\n",
       "    <tr>\n",
       "      <th>param_n_neighbors</th>\n",
       "      <td>3</td>\n",
       "      <td>5</td>\n",
       "      <td>7</td>\n",
       "      <td>9</td>\n",
       "      <td>11</td>\n",
       "      <td>13</td>\n",
       "      <td>15</td>\n",
       "      <td>17</td>\n",
       "      <td>19</td>\n",
       "      <td>21</td>\n",
       "      <td>...</td>\n",
       "      <td>31</td>\n",
       "      <td>33</td>\n",
       "      <td>35</td>\n",
       "      <td>37</td>\n",
       "      <td>39</td>\n",
       "      <td>41</td>\n",
       "      <td>43</td>\n",
       "      <td>45</td>\n",
       "      <td>47</td>\n",
       "      <td>49</td>\n",
       "    </tr>\n",
       "    <tr>\n",
       "      <th>params</th>\n",
       "      <td>{'n_neighbors': 3}</td>\n",
       "      <td>{'n_neighbors': 5}</td>\n",
       "      <td>{'n_neighbors': 7}</td>\n",
       "      <td>{'n_neighbors': 9}</td>\n",
       "      <td>{'n_neighbors': 11}</td>\n",
       "      <td>{'n_neighbors': 13}</td>\n",
       "      <td>{'n_neighbors': 15}</td>\n",
       "      <td>{'n_neighbors': 17}</td>\n",
       "      <td>{'n_neighbors': 19}</td>\n",
       "      <td>{'n_neighbors': 21}</td>\n",
       "      <td>...</td>\n",
       "      <td>{'n_neighbors': 31}</td>\n",
       "      <td>{'n_neighbors': 33}</td>\n",
       "      <td>{'n_neighbors': 35}</td>\n",
       "      <td>{'n_neighbors': 37}</td>\n",
       "      <td>{'n_neighbors': 39}</td>\n",
       "      <td>{'n_neighbors': 41}</td>\n",
       "      <td>{'n_neighbors': 43}</td>\n",
       "      <td>{'n_neighbors': 45}</td>\n",
       "      <td>{'n_neighbors': 47}</td>\n",
       "      <td>{'n_neighbors': 49}</td>\n",
       "    </tr>\n",
       "    <tr>\n",
       "      <th>split0_test_score</th>\n",
       "      <td>0.635135</td>\n",
       "      <td>0.644144</td>\n",
       "      <td>0.662162</td>\n",
       "      <td>0.655405</td>\n",
       "      <td>0.65991</td>\n",
       "      <td>0.644144</td>\n",
       "      <td>0.668919</td>\n",
       "      <td>0.65991</td>\n",
       "      <td>0.655405</td>\n",
       "      <td>0.650901</td>\n",
       "      <td>...</td>\n",
       "      <td>0.646396</td>\n",
       "      <td>0.650901</td>\n",
       "      <td>0.655405</td>\n",
       "      <td>0.657658</td>\n",
       "      <td>0.657658</td>\n",
       "      <td>0.650901</td>\n",
       "      <td>0.648649</td>\n",
       "      <td>0.650901</td>\n",
       "      <td>0.653153</td>\n",
       "      <td>0.653153</td>\n",
       "    </tr>\n",
       "    <tr>\n",
       "      <th>split1_test_score</th>\n",
       "      <td>0.628378</td>\n",
       "      <td>0.617117</td>\n",
       "      <td>0.635135</td>\n",
       "      <td>0.646396</td>\n",
       "      <td>0.65991</td>\n",
       "      <td>0.644144</td>\n",
       "      <td>0.653153</td>\n",
       "      <td>0.671171</td>\n",
       "      <td>0.668919</td>\n",
       "      <td>0.668919</td>\n",
       "      <td>...</td>\n",
       "      <td>0.65991</td>\n",
       "      <td>0.65991</td>\n",
       "      <td>0.668919</td>\n",
       "      <td>0.671171</td>\n",
       "      <td>0.668919</td>\n",
       "      <td>0.668919</td>\n",
       "      <td>0.664414</td>\n",
       "      <td>0.682432</td>\n",
       "      <td>0.675676</td>\n",
       "      <td>0.673423</td>\n",
       "    </tr>\n",
       "    <tr>\n",
       "      <th>split2_test_score</th>\n",
       "      <td>0.619369</td>\n",
       "      <td>0.63964</td>\n",
       "      <td>0.626126</td>\n",
       "      <td>0.666667</td>\n",
       "      <td>0.662162</td>\n",
       "      <td>0.664414</td>\n",
       "      <td>0.666667</td>\n",
       "      <td>0.655405</td>\n",
       "      <td>0.666667</td>\n",
       "      <td>0.671171</td>\n",
       "      <td>...</td>\n",
       "      <td>0.675676</td>\n",
       "      <td>0.668919</td>\n",
       "      <td>0.671171</td>\n",
       "      <td>0.668919</td>\n",
       "      <td>0.668919</td>\n",
       "      <td>0.673423</td>\n",
       "      <td>0.677928</td>\n",
       "      <td>0.677928</td>\n",
       "      <td>0.671171</td>\n",
       "      <td>0.68018</td>\n",
       "    </tr>\n",
       "    <tr>\n",
       "      <th>split3_test_score</th>\n",
       "      <td>0.647856</td>\n",
       "      <td>0.659142</td>\n",
       "      <td>0.672686</td>\n",
       "      <td>0.668172</td>\n",
       "      <td>0.688488</td>\n",
       "      <td>0.693002</td>\n",
       "      <td>0.702032</td>\n",
       "      <td>0.702032</td>\n",
       "      <td>0.699774</td>\n",
       "      <td>0.706546</td>\n",
       "      <td>...</td>\n",
       "      <td>0.711061</td>\n",
       "      <td>0.715576</td>\n",
       "      <td>0.711061</td>\n",
       "      <td>0.711061</td>\n",
       "      <td>0.711061</td>\n",
       "      <td>0.706546</td>\n",
       "      <td>0.713318</td>\n",
       "      <td>0.702032</td>\n",
       "      <td>0.704289</td>\n",
       "      <td>0.704289</td>\n",
       "    </tr>\n",
       "    <tr>\n",
       "      <th>split4_test_score</th>\n",
       "      <td>0.62754</td>\n",
       "      <td>0.623025</td>\n",
       "      <td>0.625282</td>\n",
       "      <td>0.604966</td>\n",
       "      <td>0.611738</td>\n",
       "      <td>0.623025</td>\n",
       "      <td>0.636569</td>\n",
       "      <td>0.656885</td>\n",
       "      <td>0.654628</td>\n",
       "      <td>0.65237</td>\n",
       "      <td>...</td>\n",
       "      <td>0.674944</td>\n",
       "      <td>0.674944</td>\n",
       "      <td>0.663657</td>\n",
       "      <td>0.665914</td>\n",
       "      <td>0.670429</td>\n",
       "      <td>0.668172</td>\n",
       "      <td>0.663657</td>\n",
       "      <td>0.679458</td>\n",
       "      <td>0.674944</td>\n",
       "      <td>0.672686</td>\n",
       "    </tr>\n",
       "    <tr>\n",
       "      <th>mean_test_score</th>\n",
       "      <td>0.631656</td>\n",
       "      <td>0.636614</td>\n",
       "      <td>0.644278</td>\n",
       "      <td>0.648321</td>\n",
       "      <td>0.656442</td>\n",
       "      <td>0.653746</td>\n",
       "      <td>0.665468</td>\n",
       "      <td>0.669081</td>\n",
       "      <td>0.669079</td>\n",
       "      <td>0.669981</td>\n",
       "      <td>...</td>\n",
       "      <td>0.673597</td>\n",
       "      <td>0.67405</td>\n",
       "      <td>0.674043</td>\n",
       "      <td>0.674945</td>\n",
       "      <td>0.675397</td>\n",
       "      <td>0.673592</td>\n",
       "      <td>0.673593</td>\n",
       "      <td>0.67855</td>\n",
       "      <td>0.675847</td>\n",
       "      <td>0.676746</td>\n",
       "    </tr>\n",
       "    <tr>\n",
       "      <th>std_test_score</th>\n",
       "      <td>0.00952028</td>\n",
       "      <td>0.0150876</td>\n",
       "      <td>0.0194977</td>\n",
       "      <td>0.0230831</td>\n",
       "      <td>0.0248279</td>\n",
       "      <td>0.0235926</td>\n",
       "      <td>0.0216197</td>\n",
       "      <td>0.0173781</td>\n",
       "      <td>0.0163942</td>\n",
       "      <td>0.0200687</td>\n",
       "      <td>...</td>\n",
       "      <td>0.0216189</td>\n",
       "      <td>0.0223039</td>\n",
       "      <td>0.0192876</td>\n",
       "      <td>0.0186297</td>\n",
       "      <td>0.0184131</td>\n",
       "      <td>0.0181776</td>\n",
       "      <td>0.0219184</td>\n",
       "      <td>0.0163226</td>\n",
       "      <td>0.0164114</td>\n",
       "      <td>0.0164593</td>\n",
       "    </tr>\n",
       "    <tr>\n",
       "      <th>rank_test_score</th>\n",
       "      <td>24</td>\n",
       "      <td>23</td>\n",
       "      <td>22</td>\n",
       "      <td>21</td>\n",
       "      <td>19</td>\n",
       "      <td>20</td>\n",
       "      <td>18</td>\n",
       "      <td>14</td>\n",
       "      <td>15</td>\n",
       "      <td>11</td>\n",
       "      <td>...</td>\n",
       "      <td>8</td>\n",
       "      <td>6</td>\n",
       "      <td>7</td>\n",
       "      <td>5</td>\n",
       "      <td>4</td>\n",
       "      <td>10</td>\n",
       "      <td>9</td>\n",
       "      <td>1</td>\n",
       "      <td>3</td>\n",
       "      <td>2</td>\n",
       "    </tr>\n",
       "  </tbody>\n",
       "</table>\n",
       "<p>14 rows × 24 columns</p>\n",
       "</div>"
      ],
      "text/plain": [
       "                                   0                   1                   2   \\\n",
       "mean_fit_time              0.00295391          0.00223923          0.00219564   \n",
       "std_fit_time              0.000496496         0.000130042         0.000138023   \n",
       "mean_score_time             0.0134285           0.0105559            0.011052   \n",
       "std_score_time             0.00174374         0.000295578          0.00033026   \n",
       "param_n_neighbors                   3                   5                   7   \n",
       "params             {'n_neighbors': 3}  {'n_neighbors': 5}  {'n_neighbors': 7}   \n",
       "split0_test_score            0.635135            0.644144            0.662162   \n",
       "split1_test_score            0.628378            0.617117            0.635135   \n",
       "split2_test_score            0.619369             0.63964            0.626126   \n",
       "split3_test_score            0.647856            0.659142            0.672686   \n",
       "split4_test_score             0.62754            0.623025            0.625282   \n",
       "mean_test_score              0.631656            0.636614            0.644278   \n",
       "std_test_score             0.00952028           0.0150876           0.0194977   \n",
       "rank_test_score                    24                  23                  22   \n",
       "\n",
       "                                   3                    4   \\\n",
       "mean_fit_time              0.00238314           0.00227828   \n",
       "std_fit_time               0.00026815          0.000127409   \n",
       "mean_score_time             0.0113822            0.0112647   \n",
       "std_score_time            0.000289573            0.0004478   \n",
       "param_n_neighbors                   9                   11   \n",
       "params             {'n_neighbors': 9}  {'n_neighbors': 11}   \n",
       "split0_test_score            0.655405              0.65991   \n",
       "split1_test_score            0.646396              0.65991   \n",
       "split2_test_score            0.666667             0.662162   \n",
       "split3_test_score            0.668172             0.688488   \n",
       "split4_test_score            0.604966             0.611738   \n",
       "mean_test_score              0.648321             0.656442   \n",
       "std_test_score              0.0230831            0.0248279   \n",
       "rank_test_score                    21                   19   \n",
       "\n",
       "                                    5                    6   \\\n",
       "mean_fit_time               0.00244646           0.00226021   \n",
       "std_fit_time               0.000389736          6.31018e-05   \n",
       "mean_score_time              0.0109583            0.0115996   \n",
       "std_score_time             0.000189205          0.000349627   \n",
       "param_n_neighbors                   13                   15   \n",
       "params             {'n_neighbors': 13}  {'n_neighbors': 15}   \n",
       "split0_test_score             0.644144             0.668919   \n",
       "split1_test_score             0.644144             0.653153   \n",
       "split2_test_score             0.664414             0.666667   \n",
       "split3_test_score             0.693002             0.702032   \n",
       "split4_test_score             0.623025             0.636569   \n",
       "mean_test_score               0.653746             0.665468   \n",
       "std_test_score               0.0235926            0.0216197   \n",
       "rank_test_score                     20                   18   \n",
       "\n",
       "                                    7                    8   \\\n",
       "mean_fit_time               0.00219221           0.00226245   \n",
       "std_fit_time               5.01837e-05           0.00011642   \n",
       "mean_score_time              0.0114863            0.0115425   \n",
       "std_score_time              0.00028609           0.00043039   \n",
       "param_n_neighbors                   17                   19   \n",
       "params             {'n_neighbors': 17}  {'n_neighbors': 19}   \n",
       "split0_test_score              0.65991             0.655405   \n",
       "split1_test_score             0.671171             0.668919   \n",
       "split2_test_score             0.655405             0.666667   \n",
       "split3_test_score             0.702032             0.699774   \n",
       "split4_test_score             0.656885             0.654628   \n",
       "mean_test_score               0.669081             0.669079   \n",
       "std_test_score               0.0173781            0.0163942   \n",
       "rank_test_score                     14                   15   \n",
       "\n",
       "                                    9   ...                   14  \\\n",
       "mean_fit_time                0.0022553  ...           0.00252252   \n",
       "std_fit_time               9.44675e-05  ...            0.0004225   \n",
       "mean_score_time              0.0120564  ...            0.0126883   \n",
       "std_score_time             0.000318682  ...          0.000645898   \n",
       "param_n_neighbors                   21  ...                   31   \n",
       "params             {'n_neighbors': 21}  ...  {'n_neighbors': 31}   \n",
       "split0_test_score             0.650901  ...             0.646396   \n",
       "split1_test_score             0.668919  ...              0.65991   \n",
       "split2_test_score             0.671171  ...             0.675676   \n",
       "split3_test_score             0.706546  ...             0.711061   \n",
       "split4_test_score              0.65237  ...             0.674944   \n",
       "mean_test_score               0.669981  ...             0.673597   \n",
       "std_test_score               0.0200687  ...            0.0216189   \n",
       "rank_test_score                     11  ...                    8   \n",
       "\n",
       "                                    15                   16  \\\n",
       "mean_fit_time               0.00222368            0.0022305   \n",
       "std_fit_time               7.07909e-05          0.000201012   \n",
       "mean_score_time              0.0125957            0.0124089   \n",
       "std_score_time             0.000331556          0.000380456   \n",
       "param_n_neighbors                   33                   35   \n",
       "params             {'n_neighbors': 33}  {'n_neighbors': 35}   \n",
       "split0_test_score             0.650901             0.655405   \n",
       "split1_test_score              0.65991             0.668919   \n",
       "split2_test_score             0.668919             0.671171   \n",
       "split3_test_score             0.715576             0.711061   \n",
       "split4_test_score             0.674944             0.663657   \n",
       "mean_test_score                0.67405             0.674043   \n",
       "std_test_score               0.0223039            0.0192876   \n",
       "rank_test_score                      6                    7   \n",
       "\n",
       "                                    17                   18  \\\n",
       "mean_fit_time               0.00231695           0.00226717   \n",
       "std_fit_time               0.000103285          8.88888e-05   \n",
       "mean_score_time              0.0135271            0.0129546   \n",
       "std_score_time              0.00166361          0.000252009   \n",
       "param_n_neighbors                   37                   39   \n",
       "params             {'n_neighbors': 37}  {'n_neighbors': 39}   \n",
       "split0_test_score             0.657658             0.657658   \n",
       "split1_test_score             0.671171             0.668919   \n",
       "split2_test_score             0.668919             0.668919   \n",
       "split3_test_score             0.711061             0.711061   \n",
       "split4_test_score             0.665914             0.670429   \n",
       "mean_test_score               0.674945             0.675397   \n",
       "std_test_score               0.0186297            0.0184131   \n",
       "rank_test_score                      5                    4   \n",
       "\n",
       "                                    19                   20  \\\n",
       "mean_fit_time               0.00221033           0.00230284   \n",
       "std_fit_time                6.7445e-05          7.25052e-05   \n",
       "mean_score_time               0.013153             0.012858   \n",
       "std_score_time             0.000279148          0.000172258   \n",
       "param_n_neighbors                   41                   43   \n",
       "params             {'n_neighbors': 41}  {'n_neighbors': 43}   \n",
       "split0_test_score             0.650901             0.648649   \n",
       "split1_test_score             0.668919             0.664414   \n",
       "split2_test_score             0.673423             0.677928   \n",
       "split3_test_score             0.706546             0.713318   \n",
       "split4_test_score             0.668172             0.663657   \n",
       "mean_test_score               0.673592             0.673593   \n",
       "std_test_score               0.0181776            0.0219184   \n",
       "rank_test_score                     10                    9   \n",
       "\n",
       "                                    21                   22  \\\n",
       "mean_fit_time               0.00240064           0.00227852   \n",
       "std_fit_time               0.000274056          0.000106967   \n",
       "mean_score_time              0.0129954            0.0134392   \n",
       "std_score_time             0.000338036          0.000362834   \n",
       "param_n_neighbors                   45                   47   \n",
       "params             {'n_neighbors': 45}  {'n_neighbors': 47}   \n",
       "split0_test_score             0.650901             0.653153   \n",
       "split1_test_score             0.682432             0.675676   \n",
       "split2_test_score             0.677928             0.671171   \n",
       "split3_test_score             0.702032             0.704289   \n",
       "split4_test_score             0.679458             0.674944   \n",
       "mean_test_score                0.67855             0.675847   \n",
       "std_test_score               0.0163226            0.0164114   \n",
       "rank_test_score                      1                    3   \n",
       "\n",
       "                                    23  \n",
       "mean_fit_time               0.00230374  \n",
       "std_fit_time               9.65188e-05  \n",
       "mean_score_time              0.0135188  \n",
       "std_score_time             0.000536593  \n",
       "param_n_neighbors                   49  \n",
       "params             {'n_neighbors': 49}  \n",
       "split0_test_score             0.653153  \n",
       "split1_test_score             0.673423  \n",
       "split2_test_score              0.68018  \n",
       "split3_test_score             0.704289  \n",
       "split4_test_score             0.672686  \n",
       "mean_test_score               0.676746  \n",
       "std_test_score               0.0164593  \n",
       "rank_test_score                      2  \n",
       "\n",
       "[14 rows x 24 columns]"
      ]
     },
     "execution_count": 1269,
     "metadata": {},
     "output_type": "execute_result"
    }
   ],
   "source": [
    "pd.DataFrame(gsknn.cv_results_).T"
   ]
  },
  {
   "cell_type": "code",
   "execution_count": null,
   "metadata": {},
   "outputs": [],
   "source": []
  },
  {
   "cell_type": "markdown",
   "metadata": {},
   "source": [
    "## Support Vector Machine"
   ]
  },
  {
   "cell_type": "code",
   "execution_count": 67,
   "metadata": {
    "ExecuteTime": {
     "end_time": "2020-05-14T19:15:25.805065Z",
     "start_time": "2020-05-14T19:15:25.171313Z"
    }
   },
   "outputs": [
    {
     "name": "stdout",
     "output_type": "stream",
     "text": [
      "Accuracy: 0.664 \t Recall: 0.802 \t Precision: 0.579 \t F1: 0.672\n"
     ]
    },
    {
     "data": {
      "text/plain": [
       "(0.6639962299717248,\n",
       " 0.8017524644030668,\n",
       " 0.5791139240506329,\n",
       " 0.6724850711988977)"
      ]
     },
     "execution_count": 67,
     "metadata": {},
     "output_type": "execute_result"
    }
   ],
   "source": [
    "# SVM\n",
    "\n",
    "svm = SVC(kernel='rbf'\n",
    "    ,probability=True)\n",
    "\n",
    "svm.fit(X_train, y_train)\n",
    "\n",
    "model_scores(svm, X_train, y_train)"
   ]
  },
  {
   "cell_type": "code",
   "execution_count": 68,
   "metadata": {
    "ExecuteTime": {
     "end_time": "2020-05-14T19:15:26.996333Z",
     "start_time": "2020-05-14T19:15:26.967871Z"
    }
   },
   "outputs": [
    {
     "name": "stdout",
     "output_type": "stream",
     "text": [
      "Accuracy: 0.665 \t Recall: 0.751 \t Precision: 0.587 \t F1: 0.659\n"
     ]
    },
    {
     "data": {
      "text/plain": [
       "(0.664783427495292, 0.7510917030567685, 0.5870307167235495, 0.6590038314176245)"
      ]
     },
     "execution_count": 68,
     "metadata": {},
     "output_type": "execute_result"
    }
   ],
   "source": [
    "model_scores(svm, X_test, y_test)"
   ]
  },
  {
   "cell_type": "code",
   "execution_count": 1472,
   "metadata": {
    "ExecuteTime": {
     "end_time": "2020-05-14T05:14:17.208257Z",
     "start_time": "2020-05-14T05:14:17.204860Z"
    }
   },
   "outputs": [],
   "source": [
    "weights_list = [\"balanced\", {0:0.01, 1:1.0}, {0:0.003, 1:1.0}, {0:0.05, 1:1.0}, {0:0.1, 1:1.0}, {0:0.15, 1:1.0}, {0:0.2, 1:1.0}]\n",
    "\n",
    "svm_params = {\"kernel\": ('linear', 'poly', 'rbf', 'sigmoid', 'precomputed')}"
   ]
  },
  {
   "cell_type": "code",
   "execution_count": null,
   "metadata": {
    "ExecuteTime": {
     "start_time": "2020-05-14T05:14:17.840Z"
    }
   },
   "outputs": [],
   "source": [
    "gssvm = GridSearchCV(svm, \n",
    "                    svm_params#,                   scoring=f1_scorer\n",
    "                    )\n",
    "gssvm.fit(X_train, y_train)"
   ]
  },
  {
   "cell_type": "code",
   "execution_count": 160,
   "metadata": {
    "ExecuteTime": {
     "end_time": "2020-05-13T03:18:56.792673Z",
     "start_time": "2020-05-13T03:18:56.775448Z"
    }
   },
   "outputs": [
    {
     "data": {
      "text/html": [
       "<div>\n",
       "<style scoped>\n",
       "    .dataframe tbody tr th:only-of-type {\n",
       "        vertical-align: middle;\n",
       "    }\n",
       "\n",
       "    .dataframe tbody tr th {\n",
       "        vertical-align: top;\n",
       "    }\n",
       "\n",
       "    .dataframe thead th {\n",
       "        text-align: right;\n",
       "    }\n",
       "</style>\n",
       "<table border=\"1\" class=\"dataframe\">\n",
       "  <thead>\n",
       "    <tr style=\"text-align: right;\">\n",
       "      <th></th>\n",
       "      <th>0</th>\n",
       "      <th>1</th>\n",
       "      <th>2</th>\n",
       "      <th>3</th>\n",
       "      <th>4</th>\n",
       "      <th>5</th>\n",
       "      <th>6</th>\n",
       "    </tr>\n",
       "  </thead>\n",
       "  <tbody>\n",
       "    <tr>\n",
       "      <th>mean_fit_time</th>\n",
       "      <td>23.5735</td>\n",
       "      <td>22.111</td>\n",
       "      <td>22.0102</td>\n",
       "      <td>23.5942</td>\n",
       "      <td>24.6875</td>\n",
       "      <td>26.3163</td>\n",
       "      <td>26.2146</td>\n",
       "    </tr>\n",
       "    <tr>\n",
       "      <th>std_fit_time</th>\n",
       "      <td>0.694025</td>\n",
       "      <td>1.8366</td>\n",
       "      <td>1.67897</td>\n",
       "      <td>0.808296</td>\n",
       "      <td>0.804636</td>\n",
       "      <td>1.23976</td>\n",
       "      <td>1.90191</td>\n",
       "    </tr>\n",
       "    <tr>\n",
       "      <th>mean_score_time</th>\n",
       "      <td>0.0125141</td>\n",
       "      <td>0.0126651</td>\n",
       "      <td>0.0114753</td>\n",
       "      <td>0.0139561</td>\n",
       "      <td>0.0106471</td>\n",
       "      <td>0.0125728</td>\n",
       "      <td>0.0117753</td>\n",
       "    </tr>\n",
       "    <tr>\n",
       "      <th>std_score_time</th>\n",
       "      <td>0.00095126</td>\n",
       "      <td>0.00119365</td>\n",
       "      <td>0.00105556</td>\n",
       "      <td>0.00196089</td>\n",
       "      <td>0.000819926</td>\n",
       "      <td>0.0017456</td>\n",
       "      <td>0.00109966</td>\n",
       "    </tr>\n",
       "    <tr>\n",
       "      <th>param_class_weight</th>\n",
       "      <td>balanced</td>\n",
       "      <td>{0: 0.01, 1: 1.0}</td>\n",
       "      <td>{0: 0.003, 1: 1.0}</td>\n",
       "      <td>{0: 0.05, 1: 1.0}</td>\n",
       "      <td>{0: 0.1, 1: 1.0}</td>\n",
       "      <td>{0: 0.15, 1: 1.0}</td>\n",
       "      <td>{0: 0.2, 1: 1.0}</td>\n",
       "    </tr>\n",
       "    <tr>\n",
       "      <th>params</th>\n",
       "      <td>{'class_weight': 'balanced'}</td>\n",
       "      <td>{'class_weight': {0: 0.01, 1: 1.0}}</td>\n",
       "      <td>{'class_weight': {0: 0.003, 1: 1.0}}</td>\n",
       "      <td>{'class_weight': {0: 0.05, 1: 1.0}}</td>\n",
       "      <td>{'class_weight': {0: 0.1, 1: 1.0}}</td>\n",
       "      <td>{'class_weight': {0: 0.15, 1: 1.0}}</td>\n",
       "      <td>{'class_weight': {0: 0.2, 1: 1.0}}</td>\n",
       "    </tr>\n",
       "    <tr>\n",
       "      <th>split0_test_score</th>\n",
       "      <td>0.0150164</td>\n",
       "      <td>0.047619</td>\n",
       "      <td>0.167401</td>\n",
       "      <td>0</td>\n",
       "      <td>0</td>\n",
       "      <td>0</td>\n",
       "      <td>0.0140845</td>\n",
       "    </tr>\n",
       "    <tr>\n",
       "      <th>split1_test_score</th>\n",
       "      <td>0</td>\n",
       "      <td>0.0213523</td>\n",
       "      <td>0.144928</td>\n",
       "      <td>0.00165098</td>\n",
       "      <td>0</td>\n",
       "      <td>0</td>\n",
       "      <td>0</td>\n",
       "    </tr>\n",
       "    <tr>\n",
       "      <th>split2_test_score</th>\n",
       "      <td>0</td>\n",
       "      <td>0.136646</td>\n",
       "      <td>0.22619</td>\n",
       "      <td>0.0148883</td>\n",
       "      <td>0</td>\n",
       "      <td>0.0280702</td>\n",
       "      <td>0.0210526</td>\n",
       "    </tr>\n",
       "    <tr>\n",
       "      <th>split3_test_score</th>\n",
       "      <td>0.0094231</td>\n",
       "      <td>0.0509554</td>\n",
       "      <td>0.150602</td>\n",
       "      <td>0</td>\n",
       "      <td>0</td>\n",
       "      <td>0.177936</td>\n",
       "      <td>0.107198</td>\n",
       "    </tr>\n",
       "    <tr>\n",
       "      <th>split4_test_score</th>\n",
       "      <td>0</td>\n",
       "      <td>0.008</td>\n",
       "      <td>0.152318</td>\n",
       "      <td>0</td>\n",
       "      <td>0</td>\n",
       "      <td>0</td>\n",
       "      <td>0</td>\n",
       "    </tr>\n",
       "    <tr>\n",
       "      <th>mean_test_score</th>\n",
       "      <td>0.0048879</td>\n",
       "      <td>0.0529145</td>\n",
       "      <td>0.168288</td>\n",
       "      <td>0.00330786</td>\n",
       "      <td>0</td>\n",
       "      <td>0.0412012</td>\n",
       "      <td>0.0284669</td>\n",
       "    </tr>\n",
       "    <tr>\n",
       "      <th>std_test_score</th>\n",
       "      <td>0.00624227</td>\n",
       "      <td>0.0448471</td>\n",
       "      <td>0.0298899</td>\n",
       "      <td>0.00582544</td>\n",
       "      <td>0</td>\n",
       "      <td>0.0692263</td>\n",
       "      <td>0.0402022</td>\n",
       "    </tr>\n",
       "    <tr>\n",
       "      <th>rank_test_score</th>\n",
       "      <td>5</td>\n",
       "      <td>2</td>\n",
       "      <td>1</td>\n",
       "      <td>6</td>\n",
       "      <td>7</td>\n",
       "      <td>3</td>\n",
       "      <td>4</td>\n",
       "    </tr>\n",
       "  </tbody>\n",
       "</table>\n",
       "</div>"
      ],
      "text/plain": [
       "                                               0  \\\n",
       "mean_fit_time                            23.5735   \n",
       "std_fit_time                            0.694025   \n",
       "mean_score_time                        0.0125141   \n",
       "std_score_time                        0.00095126   \n",
       "param_class_weight                      balanced   \n",
       "params              {'class_weight': 'balanced'}   \n",
       "split0_test_score                      0.0150164   \n",
       "split1_test_score                              0   \n",
       "split2_test_score                              0   \n",
       "split3_test_score                      0.0094231   \n",
       "split4_test_score                              0   \n",
       "mean_test_score                        0.0048879   \n",
       "std_test_score                        0.00624227   \n",
       "rank_test_score                                5   \n",
       "\n",
       "                                                      1  \\\n",
       "mean_fit_time                                    22.111   \n",
       "std_fit_time                                     1.8366   \n",
       "mean_score_time                               0.0126651   \n",
       "std_score_time                               0.00119365   \n",
       "param_class_weight                    {0: 0.01, 1: 1.0}   \n",
       "params              {'class_weight': {0: 0.01, 1: 1.0}}   \n",
       "split0_test_score                              0.047619   \n",
       "split1_test_score                             0.0213523   \n",
       "split2_test_score                              0.136646   \n",
       "split3_test_score                             0.0509554   \n",
       "split4_test_score                                 0.008   \n",
       "mean_test_score                               0.0529145   \n",
       "std_test_score                                0.0448471   \n",
       "rank_test_score                                       2   \n",
       "\n",
       "                                                       2  \\\n",
       "mean_fit_time                                    22.0102   \n",
       "std_fit_time                                     1.67897   \n",
       "mean_score_time                                0.0114753   \n",
       "std_score_time                                0.00105556   \n",
       "param_class_weight                    {0: 0.003, 1: 1.0}   \n",
       "params              {'class_weight': {0: 0.003, 1: 1.0}}   \n",
       "split0_test_score                               0.167401   \n",
       "split1_test_score                               0.144928   \n",
       "split2_test_score                                0.22619   \n",
       "split3_test_score                               0.150602   \n",
       "split4_test_score                               0.152318   \n",
       "mean_test_score                                 0.168288   \n",
       "std_test_score                                 0.0298899   \n",
       "rank_test_score                                        1   \n",
       "\n",
       "                                                      3  \\\n",
       "mean_fit_time                                   23.5942   \n",
       "std_fit_time                                   0.808296   \n",
       "mean_score_time                               0.0139561   \n",
       "std_score_time                               0.00196089   \n",
       "param_class_weight                    {0: 0.05, 1: 1.0}   \n",
       "params              {'class_weight': {0: 0.05, 1: 1.0}}   \n",
       "split0_test_score                                     0   \n",
       "split1_test_score                            0.00165098   \n",
       "split2_test_score                             0.0148883   \n",
       "split3_test_score                                     0   \n",
       "split4_test_score                                     0   \n",
       "mean_test_score                              0.00330786   \n",
       "std_test_score                               0.00582544   \n",
       "rank_test_score                                       6   \n",
       "\n",
       "                                                     4  \\\n",
       "mean_fit_time                                  24.6875   \n",
       "std_fit_time                                  0.804636   \n",
       "mean_score_time                              0.0106471   \n",
       "std_score_time                             0.000819926   \n",
       "param_class_weight                    {0: 0.1, 1: 1.0}   \n",
       "params              {'class_weight': {0: 0.1, 1: 1.0}}   \n",
       "split0_test_score                                    0   \n",
       "split1_test_score                                    0   \n",
       "split2_test_score                                    0   \n",
       "split3_test_score                                    0   \n",
       "split4_test_score                                    0   \n",
       "mean_test_score                                      0   \n",
       "std_test_score                                       0   \n",
       "rank_test_score                                      7   \n",
       "\n",
       "                                                      5  \\\n",
       "mean_fit_time                                   26.3163   \n",
       "std_fit_time                                    1.23976   \n",
       "mean_score_time                               0.0125728   \n",
       "std_score_time                                0.0017456   \n",
       "param_class_weight                    {0: 0.15, 1: 1.0}   \n",
       "params              {'class_weight': {0: 0.15, 1: 1.0}}   \n",
       "split0_test_score                                     0   \n",
       "split1_test_score                                     0   \n",
       "split2_test_score                             0.0280702   \n",
       "split3_test_score                              0.177936   \n",
       "split4_test_score                                     0   \n",
       "mean_test_score                               0.0412012   \n",
       "std_test_score                                0.0692263   \n",
       "rank_test_score                                       3   \n",
       "\n",
       "                                                     6  \n",
       "mean_fit_time                                  26.2146  \n",
       "std_fit_time                                   1.90191  \n",
       "mean_score_time                              0.0117753  \n",
       "std_score_time                              0.00109966  \n",
       "param_class_weight                    {0: 0.2, 1: 1.0}  \n",
       "params              {'class_weight': {0: 0.2, 1: 1.0}}  \n",
       "split0_test_score                            0.0140845  \n",
       "split1_test_score                                    0  \n",
       "split2_test_score                            0.0210526  \n",
       "split3_test_score                             0.107198  \n",
       "split4_test_score                                    0  \n",
       "mean_test_score                              0.0284669  \n",
       "std_test_score                               0.0402022  \n",
       "rank_test_score                                      4  "
      ]
     },
     "execution_count": 160,
     "metadata": {},
     "output_type": "execute_result"
    }
   ],
   "source": [
    "pd.DataFrame(gssvm.cv_results_).T"
   ]
  },
  {
   "cell_type": "code",
   "execution_count": null,
   "metadata": {},
   "outputs": [],
   "source": []
  },
  {
   "cell_type": "code",
   "execution_count": 69,
   "metadata": {
    "ExecuteTime": {
     "end_time": "2020-05-14T19:15:30.338696Z",
     "start_time": "2020-05-14T19:15:30.289365Z"
    }
   },
   "outputs": [],
   "source": [
    "lr_fpr, lr_tpr, lr_thresh = roc_curve(y_test, lr.predict_proba(X_test)[:, 1])\n",
    "\n",
    "knn_fpr, knn_tpr, knn_thresh = roc_curve(y_test, knn.predict_proba(X_test)[:, 1])\n",
    "\n",
    "rf_fpr, rf_tpr, rf_thresh = roc_curve(y_test, rf.predict_proba(X_test)[:, 1])\n",
    "\n",
    "gbc_fpr, gbc_tpr, gbc_thresh = roc_curve(y_test, gbc.predict_proba(X_test)[:, 1])\n",
    "\n",
    "svm_fpr, svm_tpr, svm_thresh = roc_curve(y_test, svm.predict_proba(X_test)[:, 1])\n"
   ]
  },
  {
   "cell_type": "code",
   "execution_count": 70,
   "metadata": {
    "ExecuteTime": {
     "end_time": "2020-05-14T19:15:31.162329Z",
     "start_time": "2020-05-14T19:15:30.932638Z"
    }
   },
   "outputs": [
    {
     "data": {
      "image/png": "[encoded data removed]",
      "text/plain": [
       "<Figure size 432x288 with 1 Axes>"
      ]
     },
     "metadata": {
      "needs_background": "light"
     },
     "output_type": "display_data"
    }
   ],
   "source": [
    "\n",
    "plt.plot(lr_fpr, lr_tpr, label='Logistic Regression Score: {:.4f}'.format(roc_auc_score(y_test, lr.predict(X_test))))\n",
    "\n",
    "plt.plot(knn_fpr, knn_tpr, label='KNN Score: {:.4f}'.format(roc_auc_score(y_test, knn.predict(X_test))))\n",
    "\n",
    "plt.plot(rf_fpr, rf_tpr, label='Random Forest Classifier Score: {:.4f}'.format(roc_auc_score(y_test, rf.predict(X_test))))\n",
    "\n",
    "plt.plot(gbc_fpr, gbc_tpr, label='Gradient Boosting Score: {:.4f}'.format(roc_auc_score(y_test, gbc.predict(X_test))))\n",
    "\n",
    "plt.plot(svm_fpr, svm_tpr, label='Support Vector Machine: {:.4f}'.format(roc_auc_score(y_test, svm.predict(X_test))))\n",
    "\n",
    "plt.plot([0, 1], [0, 1], 'k--')\n",
    "plt.axis([-0.01, 1, 0, 1])\n",
    "plt.title('Churn Validation Scores ROC', fontsize=20)\n",
    "plt.xlabel('False Positive Rate', fontsize=16)\n",
    "plt.ylabel('True Positive Rate', fontsize=16)\n",
    "plt.legend(loc='lower right')\n",
    "plt.show()"
   ]
  },
  {
   "cell_type": "markdown",
   "metadata": {},
   "source": [
    "## Testing"
   ]
  },
  {
   "cell_type": "code",
   "execution_count": 71,
   "metadata": {
    "ExecuteTime": {
     "end_time": "2020-05-14T19:15:40.555326Z",
     "start_time": "2020-05-14T19:15:40.547133Z"
    }
   },
   "outputs": [],
   "source": [
    "df_train = pd.concat([X_train, y_train,y_train2], axis=1)\n",
    "train_for_predict = df_train.groupby(\"churn\").last_3_months_spend.mean()\n"
   ]
  },
  {
   "cell_type": "code",
   "execution_count": 72,
   "metadata": {
    "ExecuteTime": {
     "end_time": "2020-05-14T19:15:41.145703Z",
     "start_time": "2020-05-14T19:15:41.138633Z"
    }
   },
   "outputs": [
    {
     "name": "stdout",
     "output_type": "stream",
     "text": [
      "<class 'pandas.core.frame.DataFrame'>\n",
      "Int64Index: 2122 entries, 916 to 992\n",
      "Data columns (total 7 columns):\n",
      " #   Column                   Non-Null Count  Dtype  \n",
      "---  ------                   --------------  -----  \n",
      " 0   total_purchases          2122 non-null   int64  \n",
      " 1   total_purchase_amount_x  2122 non-null   float64\n",
      " 2   last_3_months_spend      2122 non-null   float64\n",
      " 3   length                   2122 non-null   int64  \n",
      " 4   recency                  2122 non-null   int64  \n",
      " 5   churn                    2122 non-null   int64  \n",
      " 6   next_3_months_spend      2122 non-null   float64\n",
      "dtypes: float64(3), int64(4)\n",
      "memory usage: 132.6 KB\n"
     ]
    }
   ],
   "source": [
    "df_train.info()"
   ]
  },
  {
   "cell_type": "code",
   "execution_count": 73,
   "metadata": {
    "ExecuteTime": {
     "end_time": "2020-05-14T19:15:46.980262Z",
     "start_time": "2020-05-14T19:15:46.962801Z"
    }
   },
   "outputs": [],
   "source": [
    "test_pre = pd.Series(rf.predict(X_test)).value_counts().sort_index().dot(train_for_predict)"
   ]
  },
  {
   "cell_type": "code",
   "execution_count": 74,
   "metadata": {
    "ExecuteTime": {
     "end_time": "2020-05-14T19:15:47.580006Z",
     "start_time": "2020-05-14T19:15:47.562755Z"
    }
   },
   "outputs": [],
   "source": [
    "test_pre = ((1- rf.predict(X_test)) * X_test[\"last_3_months_spend\"]).sum()"
   ]
  },
  {
   "cell_type": "code",
   "execution_count": 75,
   "metadata": {
    "ExecuteTime": {
     "end_time": "2020-05-14T19:15:50.815150Z",
     "start_time": "2020-05-14T19:15:50.811703Z"
    }
   },
   "outputs": [
    {
     "data": {
      "text/plain": [
       "513337.38"
      ]
     },
     "execution_count": 75,
     "metadata": {},
     "output_type": "execute_result"
    }
   ],
   "source": [
    "test_act = y_test2.sum(); test_act"
   ]
  },
  {
   "cell_type": "code",
   "execution_count": 76,
   "metadata": {
    "ExecuteTime": {
     "end_time": "2020-05-14T19:15:52.102252Z",
     "start_time": "2020-05-14T19:15:52.098349Z"
    }
   },
   "outputs": [
    {
     "data": {
      "text/plain": [
       "-0.12866129094281042"
      ]
     },
     "execution_count": 76,
     "metadata": {},
     "output_type": "execute_result"
    }
   ],
   "source": [
    "test_pre/test_act - 1"
   ]
  },
  {
   "cell_type": "code",
   "execution_count": 77,
   "metadata": {
    "ExecuteTime": {
     "end_time": "2020-05-14T19:15:54.325344Z",
     "start_time": "2020-05-14T19:15:54.306408Z"
    }
   },
   "outputs": [
    {
     "data": {
      "text/plain": [
       "3404.0814225522777"
      ]
     },
     "execution_count": 77,
     "metadata": {},
     "output_type": "execute_result"
    }
   ],
   "source": [
    "predict = (1- rf.predict(X_test)) * X_test[\"last_3_months_spend\"]\n",
    "RMSE = (((predict - y_test2)**2).sum() / y_test2.shape[0]) **0.5; RMSE"
   ]
  },
  {
   "cell_type": "markdown",
   "metadata": {},
   "source": [
    "_______\n",
    "# RFM\n"
   ]
  },
  {
   "cell_type": "markdown",
   "metadata": {},
   "source": [
    "## RFM2X2X2"
   ]
  },
  {
   "cell_type": "code",
   "execution_count": 88,
   "metadata": {
    "ExecuteTime": {
     "end_time": "2020-05-14T19:17:01.873229Z",
     "start_time": "2020-05-14T19:17:01.864434Z"
    }
   },
   "outputs": [],
   "source": [
    "df_RFM = pd.read_csv(\"fdb_RFM3_train.csv\", index_col=0)"
   ]
  },
  {
   "cell_type": "code",
   "execution_count": 89,
   "metadata": {
    "ExecuteTime": {
     "end_time": "2020-05-14T19:17:02.187414Z",
     "start_time": "2020-05-14T19:17:02.183268Z"
    }
   },
   "outputs": [],
   "source": [
    "df_RFM[\"RFM\"] = df_RFM[\"RFM\"].fillna(\"1-1-1\")\n",
    "df_RFM[\"next_3_months_spend\"] = df_RFM[\"next_3_months_spend\"].fillna(0)"
   ]
  },
  {
   "cell_type": "code",
   "execution_count": 90,
   "metadata": {
    "ExecuteTime": {
     "end_time": "2020-05-14T19:17:02.486379Z",
     "start_time": "2020-05-14T19:17:02.478267Z"
    }
   },
   "outputs": [
    {
     "data": {
      "text/plain": [
       "1-1-1    0.517904\n",
       "1-1-2    0.254806\n",
       "2-2-2    0.076140\n",
       "1-2-2    0.056540\n",
       "2-1-2    0.050886\n",
       "2-1-1    0.020731\n",
       "2-2-1    0.013570\n",
       "1-2-1    0.009423\n",
       "Name: RFM, dtype: float64"
      ]
     },
     "execution_count": 90,
     "metadata": {},
     "output_type": "execute_result"
    }
   ],
   "source": [
    "df_RFM[\"RFM\"].value_counts()/df_RFM[\"RFM\"].count()"
   ]
  },
  {
   "cell_type": "code",
   "execution_count": 91,
   "metadata": {
    "ExecuteTime": {
     "end_time": "2020-05-14T19:17:02.788166Z",
     "start_time": "2020-05-14T19:17:02.785201Z"
    }
   },
   "outputs": [],
   "source": [
    "y1 = df_RFM.RFM\n",
    "y2 = df_RFM.next_3_months_spend\n",
    "X = df_RFM.iloc[:,:-2]"
   ]
  },
  {
   "cell_type": "code",
   "execution_count": 92,
   "metadata": {
    "ExecuteTime": {
     "end_time": "2020-05-14T19:17:03.416667Z",
     "start_time": "2020-05-14T19:17:03.361845Z"
    }
   },
   "outputs": [],
   "source": [
    "X[\"length\"] = (pd.to_datetime(df_RFM.last_purchase_date) - \n",
    "                     pd.to_datetime(df_RFM.first_purchase_date)).apply(lambda x:x.days)\n",
    "X[\"recency\"] = (pd.to_datetime(\"2011-09-01\") - \n",
    "                     pd.to_datetime(df_RFM.last_purchase_date)).apply(lambda x:x.days)\n",
    "X = X.iloc[:,3:]"
   ]
  },
  {
   "cell_type": "code",
   "execution_count": 93,
   "metadata": {
    "ExecuteTime": {
     "end_time": "2020-05-14T19:17:03.689051Z",
     "start_time": "2020-05-14T19:17:03.682629Z"
    }
   },
   "outputs": [],
   "source": [
    "# X_train, y_train, X_test, y_test = train_test_split(X, y1, random_state=42, stratefy)\"\"\n",
    "X_train, X_test, y_train, y_test = train_test_split(X, y1, shuffle=True, test_size=0.2, random_state=42)\n",
    "X_train2, X_test2, y_train2, y_test2 = train_test_split(X, y2, shuffle=True, test_size=0.2, random_state=42)"
   ]
  },
  {
   "cell_type": "code",
   "execution_count": 94,
   "metadata": {
    "ExecuteTime": {
     "end_time": "2020-05-14T19:17:04.365730Z",
     "start_time": "2020-05-14T19:17:04.318789Z"
    }
   },
   "outputs": [
    {
     "name": "stdout",
     "output_type": "stream",
     "text": [
      "0.591337099811676\n"
     ]
    }
   ],
   "source": [
    "# KNeighborsClassifier\n",
    "\n",
    "knn = KNeighborsClassifier(n_neighbors=41)\n",
    "\n",
    "knn.fit(X_train, y_train)\n",
    "\n",
    "# model_scores(knn, X_train, y_train)\n",
    "\n",
    "# accuracy on X_test \n",
    "accuracy = knn.score(X_test, y_test) \n",
    "print(accuracy) \n",
    "  \n",
    "# creating a confusion matrix \n",
    "knn_predictions = knn.predict(X_test)  \n",
    "cm = confusion_matrix(y_test, knn_predictions) "
   ]
  },
  {
   "cell_type": "code",
   "execution_count": 1321,
   "metadata": {
    "ExecuteTime": {
     "end_time": "2020-05-14T04:51:11.856954Z",
     "start_time": "2020-05-14T04:51:09.884565Z"
    }
   },
   "outputs": [
    {
     "data": {
      "text/plain": [
       "GridSearchCV(cv=None, error_score=nan,\n",
       "             estimator=KNeighborsClassifier(algorithm='auto', leaf_size=30,\n",
       "                                            metric='minkowski',\n",
       "                                            metric_params=None, n_jobs=None,\n",
       "                                            n_neighbors=35, p=2,\n",
       "                                            weights='uniform'),\n",
       "             iid='deprecated', n_jobs=None,\n",
       "             param_grid={'n_neighbors': [3, 5, 7, 9, 11, 13, 15, 17, 19, 21, 23,\n",
       "                                         25, 27, 29, 31, 33, 35, 37, 39, 41, 43,\n",
       "                                         45, 47, 49]},\n",
       "             pre_dispatch='2*n_jobs', refit=True, return_train_score=False,\n",
       "             scoring=None, verbose=0)"
      ]
     },
     "execution_count": 1321,
     "metadata": {},
     "output_type": "execute_result"
    }
   ],
   "source": [
    "knn_params = {'n_neighbors': list(range(3,50,2))}\n",
    "gsknn = GridSearchCV(knn, \n",
    "                    knn_params)\n",
    "gsknn.fit(X_train, y_train)"
   ]
  },
  {
   "cell_type": "code",
   "execution_count": 1322,
   "metadata": {
    "ExecuteTime": {
     "end_time": "2020-05-14T04:51:12.316613Z",
     "start_time": "2020-05-14T04:51:12.282573Z"
    }
   },
   "outputs": [
    {
     "data": {
      "text/html": [
       "<div>\n",
       "<style scoped>\n",
       "    .dataframe tbody tr th:only-of-type {\n",
       "        vertical-align: middle;\n",
       "    }\n",
       "\n",
       "    .dataframe tbody tr th {\n",
       "        vertical-align: top;\n",
       "    }\n",
       "\n",
       "    .dataframe thead th {\n",
       "        text-align: right;\n",
       "    }\n",
       "</style>\n",
       "<table border=\"1\" class=\"dataframe\">\n",
       "  <thead>\n",
       "    <tr style=\"text-align: right;\">\n",
       "      <th></th>\n",
       "      <th>0</th>\n",
       "      <th>1</th>\n",
       "      <th>2</th>\n",
       "      <th>3</th>\n",
       "      <th>4</th>\n",
       "      <th>5</th>\n",
       "      <th>6</th>\n",
       "      <th>7</th>\n",
       "      <th>8</th>\n",
       "      <th>9</th>\n",
       "      <th>...</th>\n",
       "      <th>14</th>\n",
       "      <th>15</th>\n",
       "      <th>16</th>\n",
       "      <th>17</th>\n",
       "      <th>18</th>\n",
       "      <th>19</th>\n",
       "      <th>20</th>\n",
       "      <th>21</th>\n",
       "      <th>22</th>\n",
       "      <th>23</th>\n",
       "    </tr>\n",
       "  </thead>\n",
       "  <tbody>\n",
       "    <tr>\n",
       "      <th>mean_fit_time</th>\n",
       "      <td>0.00365553</td>\n",
       "      <td>0.00376887</td>\n",
       "      <td>0.00328102</td>\n",
       "      <td>0.003195</td>\n",
       "      <td>0.0030601</td>\n",
       "      <td>0.00333529</td>\n",
       "      <td>0.00359793</td>\n",
       "      <td>0.0030066</td>\n",
       "      <td>0.00316086</td>\n",
       "      <td>0.00318012</td>\n",
       "      <td>...</td>\n",
       "      <td>0.00312052</td>\n",
       "      <td>0.00307908</td>\n",
       "      <td>0.00317192</td>\n",
       "      <td>0.0030736</td>\n",
       "      <td>0.00301619</td>\n",
       "      <td>0.00323739</td>\n",
       "      <td>0.00325041</td>\n",
       "      <td>0.00311894</td>\n",
       "      <td>0.00309911</td>\n",
       "      <td>0.00309668</td>\n",
       "    </tr>\n",
       "    <tr>\n",
       "      <th>std_fit_time</th>\n",
       "      <td>0.000419741</td>\n",
       "      <td>0.000941901</td>\n",
       "      <td>0.00030757</td>\n",
       "      <td>0.000299377</td>\n",
       "      <td>0.000130784</td>\n",
       "      <td>0.000117424</td>\n",
       "      <td>0.00102857</td>\n",
       "      <td>0.000136957</td>\n",
       "      <td>0.000219671</td>\n",
       "      <td>0.000178661</td>\n",
       "      <td>...</td>\n",
       "      <td>0.000248952</td>\n",
       "      <td>0.00010497</td>\n",
       "      <td>8.26353e-05</td>\n",
       "      <td>5.49565e-05</td>\n",
       "      <td>7.86046e-05</td>\n",
       "      <td>0.00045274</td>\n",
       "      <td>0.000317031</td>\n",
       "      <td>0.000144018</td>\n",
       "      <td>0.000250905</td>\n",
       "      <td>0.000224166</td>\n",
       "    </tr>\n",
       "    <tr>\n",
       "      <th>mean_score_time</th>\n",
       "      <td>0.0132999</td>\n",
       "      <td>0.0114943</td>\n",
       "      <td>0.0110285</td>\n",
       "      <td>0.0116169</td>\n",
       "      <td>0.0120514</td>\n",
       "      <td>0.0133659</td>\n",
       "      <td>0.0126091</td>\n",
       "      <td>0.0118086</td>\n",
       "      <td>0.0121057</td>\n",
       "      <td>0.0123737</td>\n",
       "      <td>...</td>\n",
       "      <td>0.0129084</td>\n",
       "      <td>0.0129228</td>\n",
       "      <td>0.0140081</td>\n",
       "      <td>0.0132026</td>\n",
       "      <td>0.013529</td>\n",
       "      <td>0.013174</td>\n",
       "      <td>0.0134081</td>\n",
       "      <td>0.0134915</td>\n",
       "      <td>0.0137475</td>\n",
       "      <td>0.0138155</td>\n",
       "    </tr>\n",
       "    <tr>\n",
       "      <th>std_score_time</th>\n",
       "      <td>0.00155707</td>\n",
       "      <td>0.000400701</td>\n",
       "      <td>0.000203332</td>\n",
       "      <td>0.000310362</td>\n",
       "      <td>0.000739841</td>\n",
       "      <td>0.000765965</td>\n",
       "      <td>0.000947028</td>\n",
       "      <td>0.000472515</td>\n",
       "      <td>0.000542082</td>\n",
       "      <td>0.000501283</td>\n",
       "      <td>...</td>\n",
       "      <td>0.000297164</td>\n",
       "      <td>0.00049489</td>\n",
       "      <td>0.00082914</td>\n",
       "      <td>0.000339626</td>\n",
       "      <td>0.000633333</td>\n",
       "      <td>0.000383672</td>\n",
       "      <td>0.000525647</td>\n",
       "      <td>0.000403557</td>\n",
       "      <td>0.000392289</td>\n",
       "      <td>0.000325261</td>\n",
       "    </tr>\n",
       "    <tr>\n",
       "      <th>param_n_neighbors</th>\n",
       "      <td>3</td>\n",
       "      <td>5</td>\n",
       "      <td>7</td>\n",
       "      <td>9</td>\n",
       "      <td>11</td>\n",
       "      <td>13</td>\n",
       "      <td>15</td>\n",
       "      <td>17</td>\n",
       "      <td>19</td>\n",
       "      <td>21</td>\n",
       "      <td>...</td>\n",
       "      <td>31</td>\n",
       "      <td>33</td>\n",
       "      <td>35</td>\n",
       "      <td>37</td>\n",
       "      <td>39</td>\n",
       "      <td>41</td>\n",
       "      <td>43</td>\n",
       "      <td>45</td>\n",
       "      <td>47</td>\n",
       "      <td>49</td>\n",
       "    </tr>\n",
       "    <tr>\n",
       "      <th>params</th>\n",
       "      <td>{'n_neighbors': 3}</td>\n",
       "      <td>{'n_neighbors': 5}</td>\n",
       "      <td>{'n_neighbors': 7}</td>\n",
       "      <td>{'n_neighbors': 9}</td>\n",
       "      <td>{'n_neighbors': 11}</td>\n",
       "      <td>{'n_neighbors': 13}</td>\n",
       "      <td>{'n_neighbors': 15}</td>\n",
       "      <td>{'n_neighbors': 17}</td>\n",
       "      <td>{'n_neighbors': 19}</td>\n",
       "      <td>{'n_neighbors': 21}</td>\n",
       "      <td>...</td>\n",
       "      <td>{'n_neighbors': 31}</td>\n",
       "      <td>{'n_neighbors': 33}</td>\n",
       "      <td>{'n_neighbors': 35}</td>\n",
       "      <td>{'n_neighbors': 37}</td>\n",
       "      <td>{'n_neighbors': 39}</td>\n",
       "      <td>{'n_neighbors': 41}</td>\n",
       "      <td>{'n_neighbors': 43}</td>\n",
       "      <td>{'n_neighbors': 45}</td>\n",
       "      <td>{'n_neighbors': 47}</td>\n",
       "      <td>{'n_neighbors': 49}</td>\n",
       "    </tr>\n",
       "    <tr>\n",
       "      <th>split0_test_score</th>\n",
       "      <td>0.504505</td>\n",
       "      <td>0.54955</td>\n",
       "      <td>0.56982</td>\n",
       "      <td>0.56982</td>\n",
       "      <td>0.578829</td>\n",
       "      <td>0.592342</td>\n",
       "      <td>0.576577</td>\n",
       "      <td>0.581081</td>\n",
       "      <td>0.56982</td>\n",
       "      <td>0.585586</td>\n",
       "      <td>...</td>\n",
       "      <td>0.585586</td>\n",
       "      <td>0.585586</td>\n",
       "      <td>0.583333</td>\n",
       "      <td>0.592342</td>\n",
       "      <td>0.587838</td>\n",
       "      <td>0.587838</td>\n",
       "      <td>0.587838</td>\n",
       "      <td>0.59009</td>\n",
       "      <td>0.594595</td>\n",
       "      <td>0.59009</td>\n",
       "    </tr>\n",
       "    <tr>\n",
       "      <th>split1_test_score</th>\n",
       "      <td>0.540541</td>\n",
       "      <td>0.504505</td>\n",
       "      <td>0.536036</td>\n",
       "      <td>0.558559</td>\n",
       "      <td>0.556306</td>\n",
       "      <td>0.560811</td>\n",
       "      <td>0.556306</td>\n",
       "      <td>0.572072</td>\n",
       "      <td>0.581081</td>\n",
       "      <td>0.574324</td>\n",
       "      <td>...</td>\n",
       "      <td>0.574324</td>\n",
       "      <td>0.563063</td>\n",
       "      <td>0.581081</td>\n",
       "      <td>0.576577</td>\n",
       "      <td>0.581081</td>\n",
       "      <td>0.583333</td>\n",
       "      <td>0.581081</td>\n",
       "      <td>0.578829</td>\n",
       "      <td>0.587838</td>\n",
       "      <td>0.59009</td>\n",
       "    </tr>\n",
       "    <tr>\n",
       "      <th>split2_test_score</th>\n",
       "      <td>0.513514</td>\n",
       "      <td>0.531532</td>\n",
       "      <td>0.536036</td>\n",
       "      <td>0.556306</td>\n",
       "      <td>0.572072</td>\n",
       "      <td>0.556306</td>\n",
       "      <td>0.563063</td>\n",
       "      <td>0.563063</td>\n",
       "      <td>0.565315</td>\n",
       "      <td>0.565315</td>\n",
       "      <td>...</td>\n",
       "      <td>0.558559</td>\n",
       "      <td>0.565315</td>\n",
       "      <td>0.556306</td>\n",
       "      <td>0.554054</td>\n",
       "      <td>0.556306</td>\n",
       "      <td>0.560811</td>\n",
       "      <td>0.558559</td>\n",
       "      <td>0.54955</td>\n",
       "      <td>0.54955</td>\n",
       "      <td>0.556306</td>\n",
       "    </tr>\n",
       "    <tr>\n",
       "      <th>split3_test_score</th>\n",
       "      <td>0.525959</td>\n",
       "      <td>0.514673</td>\n",
       "      <td>0.532731</td>\n",
       "      <td>0.546275</td>\n",
       "      <td>0.555305</td>\n",
       "      <td>0.544018</td>\n",
       "      <td>0.546275</td>\n",
       "      <td>0.546275</td>\n",
       "      <td>0.557562</td>\n",
       "      <td>0.555305</td>\n",
       "      <td>...</td>\n",
       "      <td>0.566591</td>\n",
       "      <td>0.562077</td>\n",
       "      <td>0.564334</td>\n",
       "      <td>0.566591</td>\n",
       "      <td>0.562077</td>\n",
       "      <td>0.562077</td>\n",
       "      <td>0.555305</td>\n",
       "      <td>0.555305</td>\n",
       "      <td>0.557562</td>\n",
       "      <td>0.555305</td>\n",
       "    </tr>\n",
       "    <tr>\n",
       "      <th>split4_test_score</th>\n",
       "      <td>0.507901</td>\n",
       "      <td>0.562077</td>\n",
       "      <td>0.571106</td>\n",
       "      <td>0.582393</td>\n",
       "      <td>0.568849</td>\n",
       "      <td>0.568849</td>\n",
       "      <td>0.573363</td>\n",
       "      <td>0.580135</td>\n",
       "      <td>0.580135</td>\n",
       "      <td>0.580135</td>\n",
       "      <td>...</td>\n",
       "      <td>0.575621</td>\n",
       "      <td>0.571106</td>\n",
       "      <td>0.564334</td>\n",
       "      <td>0.571106</td>\n",
       "      <td>0.577878</td>\n",
       "      <td>0.582393</td>\n",
       "      <td>0.573363</td>\n",
       "      <td>0.577878</td>\n",
       "      <td>0.571106</td>\n",
       "      <td>0.566591</td>\n",
       "    </tr>\n",
       "    <tr>\n",
       "      <th>mean_test_score</th>\n",
       "      <td>0.518484</td>\n",
       "      <td>0.532467</td>\n",
       "      <td>0.549146</td>\n",
       "      <td>0.562671</td>\n",
       "      <td>0.566272</td>\n",
       "      <td>0.564465</td>\n",
       "      <td>0.563117</td>\n",
       "      <td>0.568525</td>\n",
       "      <td>0.570783</td>\n",
       "      <td>0.572133</td>\n",
       "      <td>...</td>\n",
       "      <td>0.572136</td>\n",
       "      <td>0.569429</td>\n",
       "      <td>0.569878</td>\n",
       "      <td>0.572134</td>\n",
       "      <td>0.573036</td>\n",
       "      <td>0.57529</td>\n",
       "      <td>0.571229</td>\n",
       "      <td>0.57033</td>\n",
       "      <td>0.57213</td>\n",
       "      <td>0.571677</td>\n",
       "    </tr>\n",
       "    <tr>\n",
       "      <th>std_test_score</th>\n",
       "      <td>0.0132251</td>\n",
       "      <td>0.0212977</td>\n",
       "      <td>0.0174518</td>\n",
       "      <td>0.0123798</td>\n",
       "      <td>0.00913838</td>\n",
       "      <td>0.0160895</td>\n",
       "      <td>0.0111012</td>\n",
       "      <td>0.0128835</td>\n",
       "      <td>0.00893459</td>\n",
       "      <td>0.0107655</td>\n",
       "      <td>...</td>\n",
       "      <td>0.0090875</td>\n",
       "      <td>0.00866431</td>\n",
       "      <td>0.0105092</td>\n",
       "      <td>0.0125441</td>\n",
       "      <td>0.0118933</td>\n",
       "      <td>0.0114615</td>\n",
       "      <td>0.0125825</td>\n",
       "      <td>0.0153444</td>\n",
       "      <td>0.0171729</td>\n",
       "      <td>0.0155451</td>\n",
       "    </tr>\n",
       "    <tr>\n",
       "      <th>rank_test_score</th>\n",
       "      <td>24</td>\n",
       "      <td>23</td>\n",
       "      <td>22</td>\n",
       "      <td>21</td>\n",
       "      <td>18</td>\n",
       "      <td>19</td>\n",
       "      <td>20</td>\n",
       "      <td>13</td>\n",
       "      <td>9</td>\n",
       "      <td>5</td>\n",
       "      <td>...</td>\n",
       "      <td>3</td>\n",
       "      <td>12</td>\n",
       "      <td>11</td>\n",
       "      <td>4</td>\n",
       "      <td>2</td>\n",
       "      <td>1</td>\n",
       "      <td>8</td>\n",
       "      <td>10</td>\n",
       "      <td>6</td>\n",
       "      <td>7</td>\n",
       "    </tr>\n",
       "  </tbody>\n",
       "</table>\n",
       "<p>14 rows × 24 columns</p>\n",
       "</div>"
      ],
      "text/plain": [
       "                                   0                   1                   2   \\\n",
       "mean_fit_time              0.00365553          0.00376887          0.00328102   \n",
       "std_fit_time              0.000419741         0.000941901          0.00030757   \n",
       "mean_score_time             0.0132999           0.0114943           0.0110285   \n",
       "std_score_time             0.00155707         0.000400701         0.000203332   \n",
       "param_n_neighbors                   3                   5                   7   \n",
       "params             {'n_neighbors': 3}  {'n_neighbors': 5}  {'n_neighbors': 7}   \n",
       "split0_test_score            0.504505             0.54955             0.56982   \n",
       "split1_test_score            0.540541            0.504505            0.536036   \n",
       "split2_test_score            0.513514            0.531532            0.536036   \n",
       "split3_test_score            0.525959            0.514673            0.532731   \n",
       "split4_test_score            0.507901            0.562077            0.571106   \n",
       "mean_test_score              0.518484            0.532467            0.549146   \n",
       "std_test_score              0.0132251           0.0212977           0.0174518   \n",
       "rank_test_score                    24                  23                  22   \n",
       "\n",
       "                                   3                    4   \\\n",
       "mean_fit_time                0.003195            0.0030601   \n",
       "std_fit_time              0.000299377          0.000130784   \n",
       "mean_score_time             0.0116169            0.0120514   \n",
       "std_score_time            0.000310362          0.000739841   \n",
       "param_n_neighbors                   9                   11   \n",
       "params             {'n_neighbors': 9}  {'n_neighbors': 11}   \n",
       "split0_test_score             0.56982             0.578829   \n",
       "split1_test_score            0.558559             0.556306   \n",
       "split2_test_score            0.556306             0.572072   \n",
       "split3_test_score            0.546275             0.555305   \n",
       "split4_test_score            0.582393             0.568849   \n",
       "mean_test_score              0.562671             0.566272   \n",
       "std_test_score              0.0123798           0.00913838   \n",
       "rank_test_score                    21                   18   \n",
       "\n",
       "                                    5                    6   \\\n",
       "mean_fit_time               0.00333529           0.00359793   \n",
       "std_fit_time               0.000117424           0.00102857   \n",
       "mean_score_time              0.0133659            0.0126091   \n",
       "std_score_time             0.000765965          0.000947028   \n",
       "param_n_neighbors                   13                   15   \n",
       "params             {'n_neighbors': 13}  {'n_neighbors': 15}   \n",
       "split0_test_score             0.592342             0.576577   \n",
       "split1_test_score             0.560811             0.556306   \n",
       "split2_test_score             0.556306             0.563063   \n",
       "split3_test_score             0.544018             0.546275   \n",
       "split4_test_score             0.568849             0.573363   \n",
       "mean_test_score               0.564465             0.563117   \n",
       "std_test_score               0.0160895            0.0111012   \n",
       "rank_test_score                     19                   20   \n",
       "\n",
       "                                    7                    8   \\\n",
       "mean_fit_time                0.0030066           0.00316086   \n",
       "std_fit_time               0.000136957          0.000219671   \n",
       "mean_score_time              0.0118086            0.0121057   \n",
       "std_score_time             0.000472515          0.000542082   \n",
       "param_n_neighbors                   17                   19   \n",
       "params             {'n_neighbors': 17}  {'n_neighbors': 19}   \n",
       "split0_test_score             0.581081              0.56982   \n",
       "split1_test_score             0.572072             0.581081   \n",
       "split2_test_score             0.563063             0.565315   \n",
       "split3_test_score             0.546275             0.557562   \n",
       "split4_test_score             0.580135             0.580135   \n",
       "mean_test_score               0.568525             0.570783   \n",
       "std_test_score               0.0128835           0.00893459   \n",
       "rank_test_score                     13                    9   \n",
       "\n",
       "                                    9   ...                   14  \\\n",
       "mean_fit_time               0.00318012  ...           0.00312052   \n",
       "std_fit_time               0.000178661  ...          0.000248952   \n",
       "mean_score_time              0.0123737  ...            0.0129084   \n",
       "std_score_time             0.000501283  ...          0.000297164   \n",
       "param_n_neighbors                   21  ...                   31   \n",
       "params             {'n_neighbors': 21}  ...  {'n_neighbors': 31}   \n",
       "split0_test_score             0.585586  ...             0.585586   \n",
       "split1_test_score             0.574324  ...             0.574324   \n",
       "split2_test_score             0.565315  ...             0.558559   \n",
       "split3_test_score             0.555305  ...             0.566591   \n",
       "split4_test_score             0.580135  ...             0.575621   \n",
       "mean_test_score               0.572133  ...             0.572136   \n",
       "std_test_score               0.0107655  ...            0.0090875   \n",
       "rank_test_score                      5  ...                    3   \n",
       "\n",
       "                                    15                   16  \\\n",
       "mean_fit_time               0.00307908           0.00317192   \n",
       "std_fit_time                0.00010497          8.26353e-05   \n",
       "mean_score_time              0.0129228            0.0140081   \n",
       "std_score_time              0.00049489           0.00082914   \n",
       "param_n_neighbors                   33                   35   \n",
       "params             {'n_neighbors': 33}  {'n_neighbors': 35}   \n",
       "split0_test_score             0.585586             0.583333   \n",
       "split1_test_score             0.563063             0.581081   \n",
       "split2_test_score             0.565315             0.556306   \n",
       "split3_test_score             0.562077             0.564334   \n",
       "split4_test_score             0.571106             0.564334   \n",
       "mean_test_score               0.569429             0.569878   \n",
       "std_test_score              0.00866431            0.0105092   \n",
       "rank_test_score                     12                   11   \n",
       "\n",
       "                                    17                   18  \\\n",
       "mean_fit_time                0.0030736           0.00301619   \n",
       "std_fit_time               5.49565e-05          7.86046e-05   \n",
       "mean_score_time              0.0132026             0.013529   \n",
       "std_score_time             0.000339626          0.000633333   \n",
       "param_n_neighbors                   37                   39   \n",
       "params             {'n_neighbors': 37}  {'n_neighbors': 39}   \n",
       "split0_test_score             0.592342             0.587838   \n",
       "split1_test_score             0.576577             0.581081   \n",
       "split2_test_score             0.554054             0.556306   \n",
       "split3_test_score             0.566591             0.562077   \n",
       "split4_test_score             0.571106             0.577878   \n",
       "mean_test_score               0.572134             0.573036   \n",
       "std_test_score               0.0125441            0.0118933   \n",
       "rank_test_score                      4                    2   \n",
       "\n",
       "                                    19                   20  \\\n",
       "mean_fit_time               0.00323739           0.00325041   \n",
       "std_fit_time                0.00045274          0.000317031   \n",
       "mean_score_time               0.013174            0.0134081   \n",
       "std_score_time             0.000383672          0.000525647   \n",
       "param_n_neighbors                   41                   43   \n",
       "params             {'n_neighbors': 41}  {'n_neighbors': 43}   \n",
       "split0_test_score             0.587838             0.587838   \n",
       "split1_test_score             0.583333             0.581081   \n",
       "split2_test_score             0.560811             0.558559   \n",
       "split3_test_score             0.562077             0.555305   \n",
       "split4_test_score             0.582393             0.573363   \n",
       "mean_test_score                0.57529             0.571229   \n",
       "std_test_score               0.0114615            0.0125825   \n",
       "rank_test_score                      1                    8   \n",
       "\n",
       "                                    21                   22  \\\n",
       "mean_fit_time               0.00311894           0.00309911   \n",
       "std_fit_time               0.000144018          0.000250905   \n",
       "mean_score_time              0.0134915            0.0137475   \n",
       "std_score_time             0.000403557          0.000392289   \n",
       "param_n_neighbors                   45                   47   \n",
       "params             {'n_neighbors': 45}  {'n_neighbors': 47}   \n",
       "split0_test_score              0.59009             0.594595   \n",
       "split1_test_score             0.578829             0.587838   \n",
       "split2_test_score              0.54955              0.54955   \n",
       "split3_test_score             0.555305             0.557562   \n",
       "split4_test_score             0.577878             0.571106   \n",
       "mean_test_score                0.57033              0.57213   \n",
       "std_test_score               0.0153444            0.0171729   \n",
       "rank_test_score                     10                    6   \n",
       "\n",
       "                                    23  \n",
       "mean_fit_time               0.00309668  \n",
       "std_fit_time               0.000224166  \n",
       "mean_score_time              0.0138155  \n",
       "std_score_time             0.000325261  \n",
       "param_n_neighbors                   49  \n",
       "params             {'n_neighbors': 49}  \n",
       "split0_test_score              0.59009  \n",
       "split1_test_score              0.59009  \n",
       "split2_test_score             0.556306  \n",
       "split3_test_score             0.555305  \n",
       "split4_test_score             0.566591  \n",
       "mean_test_score               0.571677  \n",
       "std_test_score               0.0155451  \n",
       "rank_test_score                      7  \n",
       "\n",
       "[14 rows x 24 columns]"
      ]
     },
     "execution_count": 1322,
     "metadata": {},
     "output_type": "execute_result"
    }
   ],
   "source": [
    "pd.DataFrame(gsknn.cv_results_).T"
   ]
  },
  {
   "cell_type": "code",
   "execution_count": null,
   "metadata": {},
   "outputs": [],
   "source": []
  },
  {
   "cell_type": "code",
   "execution_count": 95,
   "metadata": {
    "ExecuteTime": {
     "end_time": "2020-05-14T19:17:09.875792Z",
     "start_time": "2020-05-14T19:17:09.136750Z"
    }
   },
   "outputs": [
    {
     "name": "stdout",
     "output_type": "stream",
     "text": [
      "0.6064030131826742\n"
     ]
    }
   ],
   "source": [
    "## random forest\n",
    "\n",
    "rf = RandomForestClassifier(class_weight = 'balanced',\n",
    "                             criterion = 'entropy',\n",
    "                             max_depth = 40,\n",
    "                             max_features = 'log2')\n",
    "\n",
    "rf.fit(X_train, y_train)\n",
    "\n",
    "accuracy = rf.score(X_test, y_test) \n",
    "print(accuracy) \n",
    "\n",
    "# model_scores(rf, X_train, y_train)"
   ]
  },
  {
   "cell_type": "code",
   "execution_count": 97,
   "metadata": {
    "ExecuteTime": {
     "end_time": "2020-05-14T19:18:20.625672Z",
     "start_time": "2020-05-14T19:18:20.599713Z"
    }
   },
   "outputs": [],
   "source": [
    "rf_predictions = rf.predict(X_test)  \n",
    "cm = confusion_matrix(y_test, rf_predictions) "
   ]
  },
  {
   "cell_type": "code",
   "execution_count": 1324,
   "metadata": {
    "ExecuteTime": {
     "end_time": "2020-05-14T04:51:30.399539Z",
     "start_time": "2020-05-14T04:51:30.396489Z"
    }
   },
   "outputs": [],
   "source": [
    "rf_params = {\"class_weight\" :['balanced'],'criterion': ('gini', 'entropy'), 'max_depth': [25,40,80],\n",
    "              'max_features': [1, 'sqrt', 'log2']}"
   ]
  },
  {
   "cell_type": "code",
   "execution_count": 1325,
   "metadata": {
    "ExecuteTime": {
     "end_time": "2020-05-14T04:52:07.534892Z",
     "start_time": "2020-05-14T04:51:31.017639Z"
    }
   },
   "outputs": [
    {
     "data": {
      "text/plain": [
       "GridSearchCV(cv=None, error_score=nan,\n",
       "             estimator=RandomForestClassifier(bootstrap=True, ccp_alpha=0.0,\n",
       "                                              class_weight='balanced',\n",
       "                                              criterion='entropy', max_depth=25,\n",
       "                                              max_features='log2',\n",
       "                                              max_leaf_nodes=None,\n",
       "                                              max_samples=None,\n",
       "                                              min_impurity_decrease=0.0,\n",
       "                                              min_impurity_split=None,\n",
       "                                              min_samples_leaf=1,\n",
       "                                              min_samples_split=2,\n",
       "                                              min_weight_fraction_leaf=0.0,\n",
       "                                              n_estimators=100, n_jobs=None,\n",
       "                                              oob_score=False,\n",
       "                                              random_state=None, verbose=0,\n",
       "                                              warm_start=False),\n",
       "             iid='deprecated', n_jobs=None,\n",
       "             param_grid={'class_weight': ['balanced'],\n",
       "                         'criterion': ('gini', 'entropy'),\n",
       "                         'max_depth': [25, 40, 80],\n",
       "                         'max_features': [1, 'sqrt', 'log2']},\n",
       "             pre_dispatch='2*n_jobs', refit=True, return_train_score=False,\n",
       "             scoring=None, verbose=0)"
      ]
     },
     "execution_count": 1325,
     "metadata": {},
     "output_type": "execute_result"
    }
   ],
   "source": [
    "gsrf = GridSearchCV(rf, \n",
    "                    rf_params)\n",
    "gsrf.fit(X_train, y_train)"
   ]
  },
  {
   "cell_type": "code",
   "execution_count": 1326,
   "metadata": {
    "ExecuteTime": {
     "end_time": "2020-05-14T04:52:08.008592Z",
     "start_time": "2020-05-14T04:52:07.974582Z"
    }
   },
   "outputs": [
    {
     "data": {
      "text/html": [
       "<div>\n",
       "<style scoped>\n",
       "    .dataframe tbody tr th:only-of-type {\n",
       "        vertical-align: middle;\n",
       "    }\n",
       "\n",
       "    .dataframe tbody tr th {\n",
       "        vertical-align: top;\n",
       "    }\n",
       "\n",
       "    .dataframe thead th {\n",
       "        text-align: right;\n",
       "    }\n",
       "</style>\n",
       "<table border=\"1\" class=\"dataframe\">\n",
       "  <thead>\n",
       "    <tr style=\"text-align: right;\">\n",
       "      <th></th>\n",
       "      <th>0</th>\n",
       "      <th>1</th>\n",
       "      <th>2</th>\n",
       "      <th>3</th>\n",
       "      <th>4</th>\n",
       "      <th>5</th>\n",
       "      <th>6</th>\n",
       "      <th>7</th>\n",
       "      <th>8</th>\n",
       "      <th>9</th>\n",
       "      <th>10</th>\n",
       "      <th>11</th>\n",
       "      <th>12</th>\n",
       "      <th>13</th>\n",
       "      <th>14</th>\n",
       "      <th>15</th>\n",
       "      <th>16</th>\n",
       "      <th>17</th>\n",
       "    </tr>\n",
       "  </thead>\n",
       "  <tbody>\n",
       "    <tr>\n",
       "      <th>mean_fit_time</th>\n",
       "      <td>0.20418</td>\n",
       "      <td>0.265069</td>\n",
       "      <td>0.261312</td>\n",
       "      <td>0.199941</td>\n",
       "      <td>0.258561</td>\n",
       "      <td>0.25946</td>\n",
       "      <td>0.199466</td>\n",
       "      <td>0.260744</td>\n",
       "      <td>0.258087</td>\n",
       "      <td>0.407713</td>\n",
       "      <td>0.575406</td>\n",
       "      <td>0.572094</td>\n",
       "      <td>0.404636</td>\n",
       "      <td>0.574572</td>\n",
       "      <td>0.568753</td>\n",
       "      <td>0.402637</td>\n",
       "      <td>0.587956</td>\n",
       "      <td>0.626952</td>\n",
       "    </tr>\n",
       "    <tr>\n",
       "      <th>std_fit_time</th>\n",
       "      <td>0.00927923</td>\n",
       "      <td>0.00739025</td>\n",
       "      <td>0.0027195</td>\n",
       "      <td>0.0013928</td>\n",
       "      <td>0.0014718</td>\n",
       "      <td>0.00282682</td>\n",
       "      <td>0.00179886</td>\n",
       "      <td>0.00361363</td>\n",
       "      <td>0.00115296</td>\n",
       "      <td>0.0179795</td>\n",
       "      <td>0.0120586</td>\n",
       "      <td>0.0130625</td>\n",
       "      <td>0.0151294</td>\n",
       "      <td>0.0158014</td>\n",
       "      <td>0.0118793</td>\n",
       "      <td>0.0134654</td>\n",
       "      <td>0.00892602</td>\n",
       "      <td>0.0438098</td>\n",
       "    </tr>\n",
       "    <tr>\n",
       "      <th>mean_score_time</th>\n",
       "      <td>0.0151642</td>\n",
       "      <td>0.0150477</td>\n",
       "      <td>0.0147654</td>\n",
       "      <td>0.0147791</td>\n",
       "      <td>0.0149771</td>\n",
       "      <td>0.0145866</td>\n",
       "      <td>0.0150001</td>\n",
       "      <td>0.014455</td>\n",
       "      <td>0.0148261</td>\n",
       "      <td>0.0150587</td>\n",
       "      <td>0.0142219</td>\n",
       "      <td>0.0143792</td>\n",
       "      <td>0.0147377</td>\n",
       "      <td>0.0142142</td>\n",
       "      <td>0.0146426</td>\n",
       "      <td>0.0144598</td>\n",
       "      <td>0.0143979</td>\n",
       "      <td>0.0157276</td>\n",
       "    </tr>\n",
       "    <tr>\n",
       "      <th>std_score_time</th>\n",
       "      <td>0.000928516</td>\n",
       "      <td>0.000686082</td>\n",
       "      <td>0.000342848</td>\n",
       "      <td>0.000312513</td>\n",
       "      <td>0.000891939</td>\n",
       "      <td>0.00054085</td>\n",
       "      <td>0.000481043</td>\n",
       "      <td>0.000459589</td>\n",
       "      <td>0.000658747</td>\n",
       "      <td>0.000355844</td>\n",
       "      <td>0.000249608</td>\n",
       "      <td>0.000346961</td>\n",
       "      <td>0.000469235</td>\n",
       "      <td>0.000348905</td>\n",
       "      <td>0.000394852</td>\n",
       "      <td>0.000526946</td>\n",
       "      <td>0.000936534</td>\n",
       "      <td>0.00207682</td>\n",
       "    </tr>\n",
       "    <tr>\n",
       "      <th>param_class_weight</th>\n",
       "      <td>balanced</td>\n",
       "      <td>balanced</td>\n",
       "      <td>balanced</td>\n",
       "      <td>balanced</td>\n",
       "      <td>balanced</td>\n",
       "      <td>balanced</td>\n",
       "      <td>balanced</td>\n",
       "      <td>balanced</td>\n",
       "      <td>balanced</td>\n",
       "      <td>balanced</td>\n",
       "      <td>balanced</td>\n",
       "      <td>balanced</td>\n",
       "      <td>balanced</td>\n",
       "      <td>balanced</td>\n",
       "      <td>balanced</td>\n",
       "      <td>balanced</td>\n",
       "      <td>balanced</td>\n",
       "      <td>balanced</td>\n",
       "    </tr>\n",
       "    <tr>\n",
       "      <th>param_criterion</th>\n",
       "      <td>gini</td>\n",
       "      <td>gini</td>\n",
       "      <td>gini</td>\n",
       "      <td>gini</td>\n",
       "      <td>gini</td>\n",
       "      <td>gini</td>\n",
       "      <td>gini</td>\n",
       "      <td>gini</td>\n",
       "      <td>gini</td>\n",
       "      <td>entropy</td>\n",
       "      <td>entropy</td>\n",
       "      <td>entropy</td>\n",
       "      <td>entropy</td>\n",
       "      <td>entropy</td>\n",
       "      <td>entropy</td>\n",
       "      <td>entropy</td>\n",
       "      <td>entropy</td>\n",
       "      <td>entropy</td>\n",
       "    </tr>\n",
       "    <tr>\n",
       "      <th>param_max_depth</th>\n",
       "      <td>25</td>\n",
       "      <td>25</td>\n",
       "      <td>25</td>\n",
       "      <td>40</td>\n",
       "      <td>40</td>\n",
       "      <td>40</td>\n",
       "      <td>80</td>\n",
       "      <td>80</td>\n",
       "      <td>80</td>\n",
       "      <td>25</td>\n",
       "      <td>25</td>\n",
       "      <td>25</td>\n",
       "      <td>40</td>\n",
       "      <td>40</td>\n",
       "      <td>40</td>\n",
       "      <td>80</td>\n",
       "      <td>80</td>\n",
       "      <td>80</td>\n",
       "    </tr>\n",
       "    <tr>\n",
       "      <th>param_max_features</th>\n",
       "      <td>1</td>\n",
       "      <td>sqrt</td>\n",
       "      <td>log2</td>\n",
       "      <td>1</td>\n",
       "      <td>sqrt</td>\n",
       "      <td>log2</td>\n",
       "      <td>1</td>\n",
       "      <td>sqrt</td>\n",
       "      <td>log2</td>\n",
       "      <td>1</td>\n",
       "      <td>sqrt</td>\n",
       "      <td>log2</td>\n",
       "      <td>1</td>\n",
       "      <td>sqrt</td>\n",
       "      <td>log2</td>\n",
       "      <td>1</td>\n",
       "      <td>sqrt</td>\n",
       "      <td>log2</td>\n",
       "    </tr>\n",
       "    <tr>\n",
       "      <th>params</th>\n",
       "      <td>{'class_weight': 'balanced', 'criterion': 'gin...</td>\n",
       "      <td>{'class_weight': 'balanced', 'criterion': 'gin...</td>\n",
       "      <td>{'class_weight': 'balanced', 'criterion': 'gin...</td>\n",
       "      <td>{'class_weight': 'balanced', 'criterion': 'gin...</td>\n",
       "      <td>{'class_weight': 'balanced', 'criterion': 'gin...</td>\n",
       "      <td>{'class_weight': 'balanced', 'criterion': 'gin...</td>\n",
       "      <td>{'class_weight': 'balanced', 'criterion': 'gin...</td>\n",
       "      <td>{'class_weight': 'balanced', 'criterion': 'gin...</td>\n",
       "      <td>{'class_weight': 'balanced', 'criterion': 'gin...</td>\n",
       "      <td>{'class_weight': 'balanced', 'criterion': 'ent...</td>\n",
       "      <td>{'class_weight': 'balanced', 'criterion': 'ent...</td>\n",
       "      <td>{'class_weight': 'balanced', 'criterion': 'ent...</td>\n",
       "      <td>{'class_weight': 'balanced', 'criterion': 'ent...</td>\n",
       "      <td>{'class_weight': 'balanced', 'criterion': 'ent...</td>\n",
       "      <td>{'class_weight': 'balanced', 'criterion': 'ent...</td>\n",
       "      <td>{'class_weight': 'balanced', 'criterion': 'ent...</td>\n",
       "      <td>{'class_weight': 'balanced', 'criterion': 'ent...</td>\n",
       "      <td>{'class_weight': 'balanced', 'criterion': 'ent...</td>\n",
       "    </tr>\n",
       "    <tr>\n",
       "      <th>split0_test_score</th>\n",
       "      <td>0.56982</td>\n",
       "      <td>0.574324</td>\n",
       "      <td>0.565315</td>\n",
       "      <td>0.56982</td>\n",
       "      <td>0.565315</td>\n",
       "      <td>0.563063</td>\n",
       "      <td>0.563063</td>\n",
       "      <td>0.578829</td>\n",
       "      <td>0.563063</td>\n",
       "      <td>0.54955</td>\n",
       "      <td>0.572072</td>\n",
       "      <td>0.565315</td>\n",
       "      <td>0.567568</td>\n",
       "      <td>0.567568</td>\n",
       "      <td>0.576577</td>\n",
       "      <td>0.563063</td>\n",
       "      <td>0.560811</td>\n",
       "      <td>0.565315</td>\n",
       "    </tr>\n",
       "    <tr>\n",
       "      <th>split1_test_score</th>\n",
       "      <td>0.565315</td>\n",
       "      <td>0.563063</td>\n",
       "      <td>0.565315</td>\n",
       "      <td>0.565315</td>\n",
       "      <td>0.560811</td>\n",
       "      <td>0.56982</td>\n",
       "      <td>0.572072</td>\n",
       "      <td>0.567568</td>\n",
       "      <td>0.551802</td>\n",
       "      <td>0.574324</td>\n",
       "      <td>0.563063</td>\n",
       "      <td>0.560811</td>\n",
       "      <td>0.547297</td>\n",
       "      <td>0.574324</td>\n",
       "      <td>0.547297</td>\n",
       "      <td>0.560811</td>\n",
       "      <td>0.556306</td>\n",
       "      <td>0.554054</td>\n",
       "    </tr>\n",
       "    <tr>\n",
       "      <th>split2_test_score</th>\n",
       "      <td>0.558559</td>\n",
       "      <td>0.558559</td>\n",
       "      <td>0.54955</td>\n",
       "      <td>0.551802</td>\n",
       "      <td>0.556306</td>\n",
       "      <td>0.563063</td>\n",
       "      <td>0.558559</td>\n",
       "      <td>0.551802</td>\n",
       "      <td>0.578829</td>\n",
       "      <td>0.558559</td>\n",
       "      <td>0.574324</td>\n",
       "      <td>0.565315</td>\n",
       "      <td>0.556306</td>\n",
       "      <td>0.551802</td>\n",
       "      <td>0.551802</td>\n",
       "      <td>0.563063</td>\n",
       "      <td>0.560811</td>\n",
       "      <td>0.551802</td>\n",
       "    </tr>\n",
       "    <tr>\n",
       "      <th>split3_test_score</th>\n",
       "      <td>0.528217</td>\n",
       "      <td>0.525959</td>\n",
       "      <td>0.512415</td>\n",
       "      <td>0.519187</td>\n",
       "      <td>0.514673</td>\n",
       "      <td>0.510158</td>\n",
       "      <td>0.51693</td>\n",
       "      <td>0.519187</td>\n",
       "      <td>0.523702</td>\n",
       "      <td>0.525959</td>\n",
       "      <td>0.521445</td>\n",
       "      <td>0.51693</td>\n",
       "      <td>0.519187</td>\n",
       "      <td>0.503386</td>\n",
       "      <td>0.519187</td>\n",
       "      <td>0.521445</td>\n",
       "      <td>0.51693</td>\n",
       "      <td>0.512415</td>\n",
       "    </tr>\n",
       "    <tr>\n",
       "      <th>split4_test_score</th>\n",
       "      <td>0.564334</td>\n",
       "      <td>0.562077</td>\n",
       "      <td>0.555305</td>\n",
       "      <td>0.557562</td>\n",
       "      <td>0.55079</td>\n",
       "      <td>0.555305</td>\n",
       "      <td>0.566591</td>\n",
       "      <td>0.564334</td>\n",
       "      <td>0.559819</td>\n",
       "      <td>0.559819</td>\n",
       "      <td>0.568849</td>\n",
       "      <td>0.566591</td>\n",
       "      <td>0.575621</td>\n",
       "      <td>0.548533</td>\n",
       "      <td>0.539503</td>\n",
       "      <td>0.562077</td>\n",
       "      <td>0.559819</td>\n",
       "      <td>0.541761</td>\n",
       "    </tr>\n",
       "    <tr>\n",
       "      <th>mean_test_score</th>\n",
       "      <td>0.557249</td>\n",
       "      <td>0.556796</td>\n",
       "      <td>0.54958</td>\n",
       "      <td>0.552737</td>\n",
       "      <td>0.549579</td>\n",
       "      <td>0.552282</td>\n",
       "      <td>0.555443</td>\n",
       "      <td>0.556344</td>\n",
       "      <td>0.555443</td>\n",
       "      <td>0.553642</td>\n",
       "      <td>0.559951</td>\n",
       "      <td>0.554993</td>\n",
       "      <td>0.553196</td>\n",
       "      <td>0.549122</td>\n",
       "      <td>0.546873</td>\n",
       "      <td>0.554092</td>\n",
       "      <td>0.550935</td>\n",
       "      <td>0.545069</td>\n",
       "    </tr>\n",
       "    <tr>\n",
       "      <th>std_test_score</th>\n",
       "      <td>0.0149524</td>\n",
       "      <td>0.0162997</td>\n",
       "      <td>0.0195407</td>\n",
       "      <td>0.0178873</td>\n",
       "      <td>0.018105</td>\n",
       "      <td>0.0215574</td>\n",
       "      <td>0.0197577</td>\n",
       "      <td>0.0204774</td>\n",
       "      <td>0.0181376</td>\n",
       "      <td>0.0159572</td>\n",
       "      <td>0.0196219</td>\n",
       "      <td>0.0191325</td>\n",
       "      <td>0.0195472</td>\n",
       "      <td>0.024798</td>\n",
       "      <td>0.0185881</td>\n",
       "      <td>0.0163444</td>\n",
       "      <td>0.0170832</td>\n",
       "      <td>0.0179621</td>\n",
       "    </tr>\n",
       "    <tr>\n",
       "      <th>rank_test_score</th>\n",
       "      <td>2</td>\n",
       "      <td>3</td>\n",
       "      <td>14</td>\n",
       "      <td>11</td>\n",
       "      <td>15</td>\n",
       "      <td>12</td>\n",
       "      <td>5</td>\n",
       "      <td>4</td>\n",
       "      <td>6</td>\n",
       "      <td>9</td>\n",
       "      <td>1</td>\n",
       "      <td>7</td>\n",
       "      <td>10</td>\n",
       "      <td>16</td>\n",
       "      <td>17</td>\n",
       "      <td>8</td>\n",
       "      <td>13</td>\n",
       "      <td>18</td>\n",
       "    </tr>\n",
       "  </tbody>\n",
       "</table>\n",
       "</div>"
      ],
      "text/plain": [
       "                                                                    0  \\\n",
       "mean_fit_time                                                 0.20418   \n",
       "std_fit_time                                               0.00927923   \n",
       "mean_score_time                                             0.0151642   \n",
       "std_score_time                                            0.000928516   \n",
       "param_class_weight                                           balanced   \n",
       "param_criterion                                                  gini   \n",
       "param_max_depth                                                    25   \n",
       "param_max_features                                                  1   \n",
       "params              {'class_weight': 'balanced', 'criterion': 'gin...   \n",
       "split0_test_score                                             0.56982   \n",
       "split1_test_score                                            0.565315   \n",
       "split2_test_score                                            0.558559   \n",
       "split3_test_score                                            0.528217   \n",
       "split4_test_score                                            0.564334   \n",
       "mean_test_score                                              0.557249   \n",
       "std_test_score                                              0.0149524   \n",
       "rank_test_score                                                     2   \n",
       "\n",
       "                                                                    1  \\\n",
       "mean_fit_time                                                0.265069   \n",
       "std_fit_time                                               0.00739025   \n",
       "mean_score_time                                             0.0150477   \n",
       "std_score_time                                            0.000686082   \n",
       "param_class_weight                                           balanced   \n",
       "param_criterion                                                  gini   \n",
       "param_max_depth                                                    25   \n",
       "param_max_features                                               sqrt   \n",
       "params              {'class_weight': 'balanced', 'criterion': 'gin...   \n",
       "split0_test_score                                            0.574324   \n",
       "split1_test_score                                            0.563063   \n",
       "split2_test_score                                            0.558559   \n",
       "split3_test_score                                            0.525959   \n",
       "split4_test_score                                            0.562077   \n",
       "mean_test_score                                              0.556796   \n",
       "std_test_score                                              0.0162997   \n",
       "rank_test_score                                                     3   \n",
       "\n",
       "                                                                    2  \\\n",
       "mean_fit_time                                                0.261312   \n",
       "std_fit_time                                                0.0027195   \n",
       "mean_score_time                                             0.0147654   \n",
       "std_score_time                                            0.000342848   \n",
       "param_class_weight                                           balanced   \n",
       "param_criterion                                                  gini   \n",
       "param_max_depth                                                    25   \n",
       "param_max_features                                               log2   \n",
       "params              {'class_weight': 'balanced', 'criterion': 'gin...   \n",
       "split0_test_score                                            0.565315   \n",
       "split1_test_score                                            0.565315   \n",
       "split2_test_score                                             0.54955   \n",
       "split3_test_score                                            0.512415   \n",
       "split4_test_score                                            0.555305   \n",
       "mean_test_score                                               0.54958   \n",
       "std_test_score                                              0.0195407   \n",
       "rank_test_score                                                    14   \n",
       "\n",
       "                                                                    3  \\\n",
       "mean_fit_time                                                0.199941   \n",
       "std_fit_time                                                0.0013928   \n",
       "mean_score_time                                             0.0147791   \n",
       "std_score_time                                            0.000312513   \n",
       "param_class_weight                                           balanced   \n",
       "param_criterion                                                  gini   \n",
       "param_max_depth                                                    40   \n",
       "param_max_features                                                  1   \n",
       "params              {'class_weight': 'balanced', 'criterion': 'gin...   \n",
       "split0_test_score                                             0.56982   \n",
       "split1_test_score                                            0.565315   \n",
       "split2_test_score                                            0.551802   \n",
       "split3_test_score                                            0.519187   \n",
       "split4_test_score                                            0.557562   \n",
       "mean_test_score                                              0.552737   \n",
       "std_test_score                                              0.0178873   \n",
       "rank_test_score                                                    11   \n",
       "\n",
       "                                                                    4  \\\n",
       "mean_fit_time                                                0.258561   \n",
       "std_fit_time                                                0.0014718   \n",
       "mean_score_time                                             0.0149771   \n",
       "std_score_time                                            0.000891939   \n",
       "param_class_weight                                           balanced   \n",
       "param_criterion                                                  gini   \n",
       "param_max_depth                                                    40   \n",
       "param_max_features                                               sqrt   \n",
       "params              {'class_weight': 'balanced', 'criterion': 'gin...   \n",
       "split0_test_score                                            0.565315   \n",
       "split1_test_score                                            0.560811   \n",
       "split2_test_score                                            0.556306   \n",
       "split3_test_score                                            0.514673   \n",
       "split4_test_score                                             0.55079   \n",
       "mean_test_score                                              0.549579   \n",
       "std_test_score                                               0.018105   \n",
       "rank_test_score                                                    15   \n",
       "\n",
       "                                                                    5  \\\n",
       "mean_fit_time                                                 0.25946   \n",
       "std_fit_time                                               0.00282682   \n",
       "mean_score_time                                             0.0145866   \n",
       "std_score_time                                             0.00054085   \n",
       "param_class_weight                                           balanced   \n",
       "param_criterion                                                  gini   \n",
       "param_max_depth                                                    40   \n",
       "param_max_features                                               log2   \n",
       "params              {'class_weight': 'balanced', 'criterion': 'gin...   \n",
       "split0_test_score                                            0.563063   \n",
       "split1_test_score                                             0.56982   \n",
       "split2_test_score                                            0.563063   \n",
       "split3_test_score                                            0.510158   \n",
       "split4_test_score                                            0.555305   \n",
       "mean_test_score                                              0.552282   \n",
       "std_test_score                                              0.0215574   \n",
       "rank_test_score                                                    12   \n",
       "\n",
       "                                                                    6  \\\n",
       "mean_fit_time                                                0.199466   \n",
       "std_fit_time                                               0.00179886   \n",
       "mean_score_time                                             0.0150001   \n",
       "std_score_time                                            0.000481043   \n",
       "param_class_weight                                           balanced   \n",
       "param_criterion                                                  gini   \n",
       "param_max_depth                                                    80   \n",
       "param_max_features                                                  1   \n",
       "params              {'class_weight': 'balanced', 'criterion': 'gin...   \n",
       "split0_test_score                                            0.563063   \n",
       "split1_test_score                                            0.572072   \n",
       "split2_test_score                                            0.558559   \n",
       "split3_test_score                                             0.51693   \n",
       "split4_test_score                                            0.566591   \n",
       "mean_test_score                                              0.555443   \n",
       "std_test_score                                              0.0197577   \n",
       "rank_test_score                                                     5   \n",
       "\n",
       "                                                                    7  \\\n",
       "mean_fit_time                                                0.260744   \n",
       "std_fit_time                                               0.00361363   \n",
       "mean_score_time                                              0.014455   \n",
       "std_score_time                                            0.000459589   \n",
       "param_class_weight                                           balanced   \n",
       "param_criterion                                                  gini   \n",
       "param_max_depth                                                    80   \n",
       "param_max_features                                               sqrt   \n",
       "params              {'class_weight': 'balanced', 'criterion': 'gin...   \n",
       "split0_test_score                                            0.578829   \n",
       "split1_test_score                                            0.567568   \n",
       "split2_test_score                                            0.551802   \n",
       "split3_test_score                                            0.519187   \n",
       "split4_test_score                                            0.564334   \n",
       "mean_test_score                                              0.556344   \n",
       "std_test_score                                              0.0204774   \n",
       "rank_test_score                                                     4   \n",
       "\n",
       "                                                                    8  \\\n",
       "mean_fit_time                                                0.258087   \n",
       "std_fit_time                                               0.00115296   \n",
       "mean_score_time                                             0.0148261   \n",
       "std_score_time                                            0.000658747   \n",
       "param_class_weight                                           balanced   \n",
       "param_criterion                                                  gini   \n",
       "param_max_depth                                                    80   \n",
       "param_max_features                                               log2   \n",
       "params              {'class_weight': 'balanced', 'criterion': 'gin...   \n",
       "split0_test_score                                            0.563063   \n",
       "split1_test_score                                            0.551802   \n",
       "split2_test_score                                            0.578829   \n",
       "split3_test_score                                            0.523702   \n",
       "split4_test_score                                            0.559819   \n",
       "mean_test_score                                              0.555443   \n",
       "std_test_score                                              0.0181376   \n",
       "rank_test_score                                                     6   \n",
       "\n",
       "                                                                    9  \\\n",
       "mean_fit_time                                                0.407713   \n",
       "std_fit_time                                                0.0179795   \n",
       "mean_score_time                                             0.0150587   \n",
       "std_score_time                                            0.000355844   \n",
       "param_class_weight                                           balanced   \n",
       "param_criterion                                               entropy   \n",
       "param_max_depth                                                    25   \n",
       "param_max_features                                                  1   \n",
       "params              {'class_weight': 'balanced', 'criterion': 'ent...   \n",
       "split0_test_score                                             0.54955   \n",
       "split1_test_score                                            0.574324   \n",
       "split2_test_score                                            0.558559   \n",
       "split3_test_score                                            0.525959   \n",
       "split4_test_score                                            0.559819   \n",
       "mean_test_score                                              0.553642   \n",
       "std_test_score                                              0.0159572   \n",
       "rank_test_score                                                     9   \n",
       "\n",
       "                                                                   10  \\\n",
       "mean_fit_time                                                0.575406   \n",
       "std_fit_time                                                0.0120586   \n",
       "mean_score_time                                             0.0142219   \n",
       "std_score_time                                            0.000249608   \n",
       "param_class_weight                                           balanced   \n",
       "param_criterion                                               entropy   \n",
       "param_max_depth                                                    25   \n",
       "param_max_features                                               sqrt   \n",
       "params              {'class_weight': 'balanced', 'criterion': 'ent...   \n",
       "split0_test_score                                            0.572072   \n",
       "split1_test_score                                            0.563063   \n",
       "split2_test_score                                            0.574324   \n",
       "split3_test_score                                            0.521445   \n",
       "split4_test_score                                            0.568849   \n",
       "mean_test_score                                              0.559951   \n",
       "std_test_score                                              0.0196219   \n",
       "rank_test_score                                                     1   \n",
       "\n",
       "                                                                   11  \\\n",
       "mean_fit_time                                                0.572094   \n",
       "std_fit_time                                                0.0130625   \n",
       "mean_score_time                                             0.0143792   \n",
       "std_score_time                                            0.000346961   \n",
       "param_class_weight                                           balanced   \n",
       "param_criterion                                               entropy   \n",
       "param_max_depth                                                    25   \n",
       "param_max_features                                               log2   \n",
       "params              {'class_weight': 'balanced', 'criterion': 'ent...   \n",
       "split0_test_score                                            0.565315   \n",
       "split1_test_score                                            0.560811   \n",
       "split2_test_score                                            0.565315   \n",
       "split3_test_score                                             0.51693   \n",
       "split4_test_score                                            0.566591   \n",
       "mean_test_score                                              0.554993   \n",
       "std_test_score                                              0.0191325   \n",
       "rank_test_score                                                     7   \n",
       "\n",
       "                                                                   12  \\\n",
       "mean_fit_time                                                0.404636   \n",
       "std_fit_time                                                0.0151294   \n",
       "mean_score_time                                             0.0147377   \n",
       "std_score_time                                            0.000469235   \n",
       "param_class_weight                                           balanced   \n",
       "param_criterion                                               entropy   \n",
       "param_max_depth                                                    40   \n",
       "param_max_features                                                  1   \n",
       "params              {'class_weight': 'balanced', 'criterion': 'ent...   \n",
       "split0_test_score                                            0.567568   \n",
       "split1_test_score                                            0.547297   \n",
       "split2_test_score                                            0.556306   \n",
       "split3_test_score                                            0.519187   \n",
       "split4_test_score                                            0.575621   \n",
       "mean_test_score                                              0.553196   \n",
       "std_test_score                                              0.0195472   \n",
       "rank_test_score                                                    10   \n",
       "\n",
       "                                                                   13  \\\n",
       "mean_fit_time                                                0.574572   \n",
       "std_fit_time                                                0.0158014   \n",
       "mean_score_time                                             0.0142142   \n",
       "std_score_time                                            0.000348905   \n",
       "param_class_weight                                           balanced   \n",
       "param_criterion                                               entropy   \n",
       "param_max_depth                                                    40   \n",
       "param_max_features                                               sqrt   \n",
       "params              {'class_weight': 'balanced', 'criterion': 'ent...   \n",
       "split0_test_score                                            0.567568   \n",
       "split1_test_score                                            0.574324   \n",
       "split2_test_score                                            0.551802   \n",
       "split3_test_score                                            0.503386   \n",
       "split4_test_score                                            0.548533   \n",
       "mean_test_score                                              0.549122   \n",
       "std_test_score                                               0.024798   \n",
       "rank_test_score                                                    16   \n",
       "\n",
       "                                                                   14  \\\n",
       "mean_fit_time                                                0.568753   \n",
       "std_fit_time                                                0.0118793   \n",
       "mean_score_time                                             0.0146426   \n",
       "std_score_time                                            0.000394852   \n",
       "param_class_weight                                           balanced   \n",
       "param_criterion                                               entropy   \n",
       "param_max_depth                                                    40   \n",
       "param_max_features                                               log2   \n",
       "params              {'class_weight': 'balanced', 'criterion': 'ent...   \n",
       "split0_test_score                                            0.576577   \n",
       "split1_test_score                                            0.547297   \n",
       "split2_test_score                                            0.551802   \n",
       "split3_test_score                                            0.519187   \n",
       "split4_test_score                                            0.539503   \n",
       "mean_test_score                                              0.546873   \n",
       "std_test_score                                              0.0185881   \n",
       "rank_test_score                                                    17   \n",
       "\n",
       "                                                                   15  \\\n",
       "mean_fit_time                                                0.402637   \n",
       "std_fit_time                                                0.0134654   \n",
       "mean_score_time                                             0.0144598   \n",
       "std_score_time                                            0.000526946   \n",
       "param_class_weight                                           balanced   \n",
       "param_criterion                                               entropy   \n",
       "param_max_depth                                                    80   \n",
       "param_max_features                                                  1   \n",
       "params              {'class_weight': 'balanced', 'criterion': 'ent...   \n",
       "split0_test_score                                            0.563063   \n",
       "split1_test_score                                            0.560811   \n",
       "split2_test_score                                            0.563063   \n",
       "split3_test_score                                            0.521445   \n",
       "split4_test_score                                            0.562077   \n",
       "mean_test_score                                              0.554092   \n",
       "std_test_score                                              0.0163444   \n",
       "rank_test_score                                                     8   \n",
       "\n",
       "                                                                   16  \\\n",
       "mean_fit_time                                                0.587956   \n",
       "std_fit_time                                               0.00892602   \n",
       "mean_score_time                                             0.0143979   \n",
       "std_score_time                                            0.000936534   \n",
       "param_class_weight                                           balanced   \n",
       "param_criterion                                               entropy   \n",
       "param_max_depth                                                    80   \n",
       "param_max_features                                               sqrt   \n",
       "params              {'class_weight': 'balanced', 'criterion': 'ent...   \n",
       "split0_test_score                                            0.560811   \n",
       "split1_test_score                                            0.556306   \n",
       "split2_test_score                                            0.560811   \n",
       "split3_test_score                                             0.51693   \n",
       "split4_test_score                                            0.559819   \n",
       "mean_test_score                                              0.550935   \n",
       "std_test_score                                              0.0170832   \n",
       "rank_test_score                                                    13   \n",
       "\n",
       "                                                                   17  \n",
       "mean_fit_time                                                0.626952  \n",
       "std_fit_time                                                0.0438098  \n",
       "mean_score_time                                             0.0157276  \n",
       "std_score_time                                             0.00207682  \n",
       "param_class_weight                                           balanced  \n",
       "param_criterion                                               entropy  \n",
       "param_max_depth                                                    80  \n",
       "param_max_features                                               log2  \n",
       "params              {'class_weight': 'balanced', 'criterion': 'ent...  \n",
       "split0_test_score                                            0.565315  \n",
       "split1_test_score                                            0.554054  \n",
       "split2_test_score                                            0.551802  \n",
       "split3_test_score                                            0.512415  \n",
       "split4_test_score                                            0.541761  \n",
       "mean_test_score                                              0.545069  \n",
       "std_test_score                                              0.0179621  \n",
       "rank_test_score                                                    18  "
      ]
     },
     "execution_count": 1326,
     "metadata": {},
     "output_type": "execute_result"
    }
   ],
   "source": [
    "pd.DataFrame(gsrf.cv_results_).T"
   ]
  },
  {
   "cell_type": "code",
   "execution_count": 1308,
   "metadata": {
    "ExecuteTime": {
     "end_time": "2020-05-14T04:49:28.972426Z",
     "start_time": "2020-05-14T04:49:28.968601Z"
    }
   },
   "outputs": [
    {
     "data": {
      "text/plain": [
       "{'class_weight': 'balanced',\n",
       " 'criterion': 'gini',\n",
       " 'max_depth': 40,\n",
       " 'max_features': 1}"
      ]
     },
     "execution_count": 1308,
     "metadata": {},
     "output_type": "execute_result"
    }
   ],
   "source": [
    "gsrf.best_params_"
   ]
  },
  {
   "cell_type": "code",
   "execution_count": null,
   "metadata": {},
   "outputs": [],
   "source": []
  },
  {
   "cell_type": "code",
   "execution_count": 96,
   "metadata": {
    "ExecuteTime": {
     "end_time": "2020-05-14T19:17:18.001806Z",
     "start_time": "2020-05-14T19:17:15.708994Z"
    }
   },
   "outputs": [
    {
     "name": "stdout",
     "output_type": "stream",
     "text": [
      "0.591337099811676\n"
     ]
    }
   ],
   "source": [
    "# GradientBoostingClassifier\n",
    "gbc = GradientBoostingClassifier(learning_rate=0.05)\n",
    "\n",
    "gbc.fit(X_train, y_train)\n",
    "\n",
    "accuracy = gbc.score(X_test, y_test) \n",
    "print(accuracy) \n"
   ]
  },
  {
   "cell_type": "code",
   "execution_count": 87,
   "metadata": {
    "ExecuteTime": {
     "end_time": "2020-05-14T19:16:40.883214Z",
     "start_time": "2020-05-14T19:16:40.870955Z"
    }
   },
   "outputs": [],
   "source": [
    "gbc_predictions = gbc.predict(X_test)  \n",
    "cm = confusion_matrix(y_test, gbc_predictions) "
   ]
  },
  {
   "cell_type": "code",
   "execution_count": null,
   "metadata": {},
   "outputs": [],
   "source": []
  },
  {
   "cell_type": "code",
   "execution_count": null,
   "metadata": {},
   "outputs": [],
   "source": []
  },
  {
   "cell_type": "markdown",
   "metadata": {},
   "source": [
    "## multilabel"
   ]
  },
  {
   "cell_type": "code",
   "execution_count": 1087,
   "metadata": {
    "ExecuteTime": {
     "end_time": "2020-05-14T04:05:32.322611Z",
     "start_time": "2020-05-14T04:05:32.311828Z"
    }
   },
   "outputs": [],
   "source": [
    "df_RFM = pd.read_csv(\"fdb_RFM3_train.csv\", index_col=0)\n",
    "df_RFM[\"RFM\"] = df_RFM[\"RFM\"].fillna(\"1-1-1\")\n",
    "df_RFM[\"next_3_months_spend\"] = df_RFM[\"next_3_months_spend\"].fillna(0)\n",
    "y1 = df_RFM.RFM\n",
    "y2 = df_RFM.next_3_months_spend\n",
    "X = df_RFM.iloc[:,:-3]"
   ]
  },
  {
   "cell_type": "code",
   "execution_count": 1088,
   "metadata": {
    "ExecuteTime": {
     "end_time": "2020-05-14T04:05:32.827641Z",
     "start_time": "2020-05-14T04:05:32.770697Z"
    }
   },
   "outputs": [],
   "source": [
    "X[\"length\"] = (pd.to_datetime(df_RFM.last_purchase_date) - \n",
    "                     pd.to_datetime(df_RFM.first_purchase_date)).apply(lambda x:x.days)\n",
    "X[\"recency\"] = (pd.to_datetime(\"2012-12-02\") - \n",
    "                     pd.to_datetime(df_RFM.last_purchase_date)).apply(lambda x:x.days)\n",
    "X = X.iloc[:,3:]"
   ]
  },
  {
   "cell_type": "code",
   "execution_count": 1089,
   "metadata": {
    "ExecuteTime": {
     "end_time": "2020-05-14T04:05:33.269061Z",
     "start_time": "2020-05-14T04:05:33.259768Z"
    }
   },
   "outputs": [],
   "source": [
    "R = df_RFM[\"RFM\"].apply(lambda x:int(x[0])-1)\n",
    "F = df_RFM[\"RFM\"].apply(lambda x:int(x[2])-1)\n",
    "M = df_RFM[\"RFM\"].apply(lambda x:int(x[4])-1)\n",
    "y1_1 = pd.concat([R,F,M], axis=1)\n",
    "y1_1.columns =[\"R\",\"F\",\"M\"]"
   ]
  },
  {
   "cell_type": "code",
   "execution_count": 1090,
   "metadata": {
    "ExecuteTime": {
     "end_time": "2020-05-14T04:05:35.060639Z",
     "start_time": "2020-05-14T04:05:35.053999Z"
    }
   },
   "outputs": [],
   "source": [
    "X_train, X_test, y_train, y_test = train_test_split(X, y1_1, shuffle=True, test_size=0.2, random_state=42)\n",
    "X_train2, X_test2, y_train2, y_test2 = train_test_split(X, y2, shuffle=True, test_size=0.2, random_state=42)"
   ]
  },
  {
   "cell_type": "code",
   "execution_count": null,
   "metadata": {},
   "outputs": [],
   "source": []
  },
  {
   "cell_type": "code",
   "execution_count": 1091,
   "metadata": {
    "ExecuteTime": {
     "end_time": "2020-05-14T04:05:38.170316Z",
     "start_time": "2020-05-14T04:05:37.874877Z"
    }
   },
   "outputs": [
    {
     "name": "stdout",
     "output_type": "stream",
     "text": [
      "0.45045045045045046\n"
     ]
    }
   ],
   "source": [
    "## random forest\n",
    "\n",
    "rf = RandomForestClassifier(class_weight = 'balanced',\n",
    "                             criterion = 'gini',\n",
    "                             max_depth = 25,\n",
    "                             max_features = 1)\n",
    "\n",
    "rf.fit(X_train, y_train)\n",
    "\n",
    "accuracy = rf.score(X_test, y_test) \n",
    "print(accuracy) "
   ]
  },
  {
   "cell_type": "code",
   "execution_count": null,
   "metadata": {},
   "outputs": [],
   "source": []
  },
  {
   "cell_type": "code",
   "execution_count": 1092,
   "metadata": {
    "ExecuteTime": {
     "end_time": "2020-05-14T04:05:39.764419Z",
     "start_time": "2020-05-14T04:05:39.713617Z"
    }
   },
   "outputs": [
    {
     "name": "stdout",
     "output_type": "stream",
     "text": [
      "0.5801801801801801\n"
     ]
    }
   ],
   "source": [
    "# KNeighborsClassifier\n",
    "\n",
    "knn = KNeighborsClassifier(n_neighbors=19)\n",
    "\n",
    "knn.fit(X_train, y_train)\n",
    "\n",
    "# model_scores(knn, X_train, y_train)\n",
    "\n",
    "# accuracy on X_test \n",
    "accuracy = knn.score(X_test, y_test) \n",
    "print(accuracy) "
   ]
  },
  {
   "cell_type": "code",
   "execution_count": null,
   "metadata": {},
   "outputs": [],
   "source": []
  },
  {
   "cell_type": "markdown",
   "metadata": {},
   "source": [
    "## testing"
   ]
  },
  {
   "cell_type": "code",
   "execution_count": 98,
   "metadata": {
    "ExecuteTime": {
     "end_time": "2020-05-14T19:18:32.590335Z",
     "start_time": "2020-05-14T19:18:32.582752Z"
    }
   },
   "outputs": [],
   "source": [
    "df_train = pd.concat([X_train, y_train,y_train2], axis=1)\n",
    "train_for_predict = df_train.groupby(\"RFM\").last_3_months_spend.mean()\n"
   ]
  },
  {
   "cell_type": "code",
   "execution_count": 99,
   "metadata": {
    "ExecuteTime": {
     "end_time": "2020-05-14T19:18:34.011034Z",
     "start_time": "2020-05-14T19:18:34.007511Z"
    }
   },
   "outputs": [],
   "source": [
    "X_test[\"predict\"] = gbc_predictions"
   ]
  },
  {
   "cell_type": "code",
   "execution_count": 100,
   "metadata": {
    "ExecuteTime": {
     "end_time": "2020-05-14T19:18:35.006224Z",
     "start_time": "2020-05-14T19:18:35.002605Z"
    }
   },
   "outputs": [],
   "source": [
    "tempdf = pd.DataFrame(train_for_predict)"
   ]
  },
  {
   "cell_type": "code",
   "execution_count": 101,
   "metadata": {
    "ExecuteTime": {
     "end_time": "2020-05-14T19:18:35.393931Z",
     "start_time": "2020-05-14T19:18:35.385268Z"
    }
   },
   "outputs": [],
   "source": [
    "tempdf[\"predict_counts\"] = pd.Series(gbc_predictions).value_counts()"
   ]
  },
  {
   "cell_type": "code",
   "execution_count": 102,
   "metadata": {
    "ExecuteTime": {
     "end_time": "2020-05-14T19:18:35.806115Z",
     "start_time": "2020-05-14T19:18:35.802184Z"
    }
   },
   "outputs": [],
   "source": [
    "tempdf.fillna(0, inplace=True)"
   ]
  },
  {
   "cell_type": "code",
   "execution_count": null,
   "metadata": {
    "ExecuteTime": {
     "end_time": "2020-05-14T04:12:01.126211Z",
     "start_time": "2020-05-14T04:12:01.122637Z"
    }
   },
   "outputs": [],
   "source": []
  },
  {
   "cell_type": "code",
   "execution_count": 103,
   "metadata": {
    "ExecuteTime": {
     "end_time": "2020-05-14T19:18:37.180293Z",
     "start_time": "2020-05-14T19:18:37.173444Z"
    }
   },
   "outputs": [],
   "source": [
    "y_test3 = pd.concat([y_test,y_test2], axis=1)\n",
    "test_act = y_test3.groupby(\"RFM\").sum().sum()\n",
    "test_pre = tempdf.last_3_months_spend.dot(tempdf.predict_counts)\n",
    "# test_pre = pd.Series(gbc_predictions).value_counts().sort_index().dot(train_for_predict)\n",
    "test_act = y_test2.sum()"
   ]
  },
  {
   "cell_type": "code",
   "execution_count": 104,
   "metadata": {
    "ExecuteTime": {
     "end_time": "2020-05-14T19:18:37.671369Z",
     "start_time": "2020-05-14T19:18:37.667477Z"
    }
   },
   "outputs": [
    {
     "data": {
      "text/plain": [
       "468087.9700000001"
      ]
     },
     "execution_count": 104,
     "metadata": {},
     "output_type": "execute_result"
    }
   ],
   "source": [
    "test_act"
   ]
  },
  {
   "cell_type": "code",
   "execution_count": 105,
   "metadata": {
    "ExecuteTime": {
     "end_time": "2020-05-14T19:18:38.410074Z",
     "start_time": "2020-05-14T19:18:38.406661Z"
    }
   },
   "outputs": [
    {
     "data": {
      "text/plain": [
       "-0.516433849970855"
      ]
     },
     "execution_count": 105,
     "metadata": {},
     "output_type": "execute_result"
    }
   ],
   "source": [
    "test_pre/test_act - 1"
   ]
  },
  {
   "cell_type": "code",
   "execution_count": null,
   "metadata": {},
   "outputs": [],
   "source": []
  },
  {
   "cell_type": "markdown",
   "metadata": {},
   "source": [
    "# LTV"
   ]
  },
  {
   "cell_type": "code",
   "execution_count": 704,
   "metadata": {
    "ExecuteTime": {
     "end_time": "2020-05-15T00:52:47.018378Z",
     "start_time": "2020-05-15T00:52:46.997138Z"
    }
   },
   "outputs": [
    {
     "data": {
      "text/html": [
       "<div>\n",
       "<style scoped>\n",
       "    .dataframe tbody tr th:only-of-type {\n",
       "        vertical-align: middle;\n",
       "    }\n",
       "\n",
       "    .dataframe tbody tr th {\n",
       "        vertical-align: top;\n",
       "    }\n",
       "\n",
       "    .dataframe thead th {\n",
       "        text-align: right;\n",
       "    }\n",
       "</style>\n",
       "<table border=\"1\" class=\"dataframe\">\n",
       "  <thead>\n",
       "    <tr style=\"text-align: right;\">\n",
       "      <th></th>\n",
       "      <th>CustomerID</th>\n",
       "      <th>first_purchase_date</th>\n",
       "      <th>last_purchase_date</th>\n",
       "      <th>total_purchases</th>\n",
       "      <th>total_purchase_amount_x</th>\n",
       "      <th>last_2_months_spend</th>\n",
       "      <th>RFM</th>\n",
       "      <th>next_2_months_spend</th>\n",
       "    </tr>\n",
       "  </thead>\n",
       "  <tbody>\n",
       "    <tr>\n",
       "      <th>3386</th>\n",
       "      <td>13584.0</td>\n",
       "      <td>2011-02-06</td>\n",
       "      <td>2011-02-06</td>\n",
       "      <td>1</td>\n",
       "      <td>142.40</td>\n",
       "      <td>0.00</td>\n",
       "      <td>1-1-1</td>\n",
       "      <td>0.00</td>\n",
       "    </tr>\n",
       "    <tr>\n",
       "      <th>343</th>\n",
       "      <td>14553.0</td>\n",
       "      <td>2011-01-04</td>\n",
       "      <td>2011-05-05</td>\n",
       "      <td>2</td>\n",
       "      <td>312.32</td>\n",
       "      <td>0.00</td>\n",
       "      <td>1-1-2</td>\n",
       "      <td>546.95</td>\n",
       "    </tr>\n",
       "    <tr>\n",
       "      <th>1588</th>\n",
       "      <td>17929.0</td>\n",
       "      <td>2011-02-04</td>\n",
       "      <td>2011-09-23</td>\n",
       "      <td>4</td>\n",
       "      <td>698.50</td>\n",
       "      <td>263.50</td>\n",
       "      <td>2-1-1</td>\n",
       "      <td>136.00</td>\n",
       "    </tr>\n",
       "    <tr>\n",
       "      <th>1601</th>\n",
       "      <td>15053.0</td>\n",
       "      <td>2011-03-03</td>\n",
       "      <td>2011-07-06</td>\n",
       "      <td>2</td>\n",
       "      <td>478.60</td>\n",
       "      <td>0.00</td>\n",
       "      <td>1-1-1</td>\n",
       "      <td>0.00</td>\n",
       "    </tr>\n",
       "    <tr>\n",
       "      <th>678</th>\n",
       "      <td>13659.0</td>\n",
       "      <td>2011-01-23</td>\n",
       "      <td>2011-05-26</td>\n",
       "      <td>3</td>\n",
       "      <td>1550.85</td>\n",
       "      <td>0.00</td>\n",
       "      <td>1-1-1</td>\n",
       "      <td>0.00</td>\n",
       "    </tr>\n",
       "    <tr>\n",
       "      <th>...</th>\n",
       "      <td>...</td>\n",
       "      <td>...</td>\n",
       "      <td>...</td>\n",
       "      <td>...</td>\n",
       "      <td>...</td>\n",
       "      <td>...</td>\n",
       "      <td>...</td>\n",
       "      <td>...</td>\n",
       "    </tr>\n",
       "    <tr>\n",
       "      <th>1130</th>\n",
       "      <td>13892.0</td>\n",
       "      <td>2011-04-07</td>\n",
       "      <td>2011-04-07</td>\n",
       "      <td>1</td>\n",
       "      <td>54.52</td>\n",
       "      <td>0.00</td>\n",
       "      <td>1-2-2</td>\n",
       "      <td>578.45</td>\n",
       "    </tr>\n",
       "    <tr>\n",
       "      <th>1294</th>\n",
       "      <td>14730.0</td>\n",
       "      <td>2011-03-08</td>\n",
       "      <td>2011-08-24</td>\n",
       "      <td>5</td>\n",
       "      <td>904.21</td>\n",
       "      <td>137.14</td>\n",
       "      <td>1-1-2</td>\n",
       "      <td>855.92</td>\n",
       "    </tr>\n",
       "    <tr>\n",
       "      <th>860</th>\n",
       "      <td>15955.0</td>\n",
       "      <td>2010-12-02</td>\n",
       "      <td>2011-09-29</td>\n",
       "      <td>7</td>\n",
       "      <td>2956.04</td>\n",
       "      <td>1520.37</td>\n",
       "      <td>1-2-2</td>\n",
       "      <td>1433.77</td>\n",
       "    </tr>\n",
       "    <tr>\n",
       "      <th>3507</th>\n",
       "      <td>18138.0</td>\n",
       "      <td>2011-02-17</td>\n",
       "      <td>2011-02-17</td>\n",
       "      <td>1</td>\n",
       "      <td>152.65</td>\n",
       "      <td>0.00</td>\n",
       "      <td>1-1-1</td>\n",
       "      <td>0.00</td>\n",
       "    </tr>\n",
       "    <tr>\n",
       "      <th>3174</th>\n",
       "      <td>12933.0</td>\n",
       "      <td>2011-03-01</td>\n",
       "      <td>2011-06-21</td>\n",
       "      <td>2</td>\n",
       "      <td>356.24</td>\n",
       "      <td>0.00</td>\n",
       "      <td>1-1-2</td>\n",
       "      <td>250.04</td>\n",
       "    </tr>\n",
       "  </tbody>\n",
       "</table>\n",
       "<p>2926 rows × 8 columns</p>\n",
       "</div>"
      ],
      "text/plain": [
       "      CustomerID first_purchase_date last_purchase_date  total_purchases  \\\n",
       "3386     13584.0          2011-02-06         2011-02-06                1   \n",
       "343      14553.0          2011-01-04         2011-05-05                2   \n",
       "1588     17929.0          2011-02-04         2011-09-23                4   \n",
       "1601     15053.0          2011-03-03         2011-07-06                2   \n",
       "678      13659.0          2011-01-23         2011-05-26                3   \n",
       "...          ...                 ...                ...              ...   \n",
       "1130     13892.0          2011-04-07         2011-04-07                1   \n",
       "1294     14730.0          2011-03-08         2011-08-24                5   \n",
       "860      15955.0          2010-12-02         2011-09-29                7   \n",
       "3507     18138.0          2011-02-17         2011-02-17                1   \n",
       "3174     12933.0          2011-03-01         2011-06-21                2   \n",
       "\n",
       "      total_purchase_amount_x  last_2_months_spend    RFM  next_2_months_spend  \n",
       "3386                   142.40                 0.00  1-1-1                 0.00  \n",
       "343                    312.32                 0.00  1-1-2               546.95  \n",
       "1588                   698.50               263.50  2-1-1               136.00  \n",
       "1601                   478.60                 0.00  1-1-1                 0.00  \n",
       "678                   1550.85                 0.00  1-1-1                 0.00  \n",
       "...                       ...                  ...    ...                  ...  \n",
       "1130                    54.52                 0.00  1-2-2               578.45  \n",
       "1294                   904.21               137.14  1-1-2               855.92  \n",
       "860                   2956.04              1520.37  1-2-2              1433.77  \n",
       "3507                   152.65                 0.00  1-1-1                 0.00  \n",
       "3174                   356.24                 0.00  1-1-2               250.04  \n",
       "\n",
       "[2926 rows x 8 columns]"
      ]
     },
     "execution_count": 704,
     "metadata": {},
     "output_type": "execute_result"
    }
   ],
   "source": [
    "df_RFM = pd.read_csv(\"fdb_RFM3_train.csv\", index_col=0);df_RFM"
   ]
  },
  {
   "cell_type": "code",
   "execution_count": 705,
   "metadata": {
    "ExecuteTime": {
     "end_time": "2020-05-15T00:52:47.742584Z",
     "start_time": "2020-05-15T00:52:47.738762Z"
    }
   },
   "outputs": [],
   "source": [
    "y1 = df_RFM.RFM\n",
    "y2 = df_RFM.next_2_months_spend\n",
    "X = df_RFM.iloc[:,:-2]"
   ]
  },
  {
   "cell_type": "code",
   "execution_count": 706,
   "metadata": {
    "ExecuteTime": {
     "end_time": "2020-05-15T00:52:48.230016Z",
     "start_time": "2020-05-15T00:52:48.223543Z"
    }
   },
   "outputs": [],
   "source": [
    "# X_train, y_train, X_test, y_test = train_test_split(X, y1, random_state=42, stratefy)\"\"\n",
    "X_train, X_test, y_train, y_test = train_test_split(X, y1, shuffle=True, test_size=0.2, random_state=42)\n",
    "X_train2, X_test2, y_train2, y_test2 = train_test_split(X, y2, shuffle=True, test_size=0.2, random_state=42)"
   ]
  },
  {
   "cell_type": "code",
   "execution_count": 709,
   "metadata": {
    "ExecuteTime": {
     "end_time": "2020-05-15T00:52:52.083019Z",
     "start_time": "2020-05-15T00:52:52.080350Z"
    }
   },
   "outputs": [],
   "source": [
    "df_RFM = X_train"
   ]
  },
  {
   "cell_type": "code",
   "execution_count": 740,
   "metadata": {
    "ExecuteTime": {
     "end_time": "2020-05-15T00:55:41.942599Z",
     "start_time": "2020-05-15T00:55:41.939827Z"
    }
   },
   "outputs": [],
   "source": [
    "df_RFM = X_test"
   ]
  },
  {
   "cell_type": "code",
   "execution_count": 741,
   "metadata": {
    "ExecuteTime": {
     "end_time": "2020-05-15T00:55:42.587559Z",
     "start_time": "2020-05-15T00:55:42.576773Z"
    }
   },
   "outputs": [],
   "source": [
    "df_RFM[\"T\"] = (pd.to_datetime(\"2011-10-01\") - pd.to_datetime(\n",
    "                df_RFM[\"first_purchase_date\"]) ).apply(lambda x:x.days)\n",
    "df_RFM[\"recency\"] = (pd.to_datetime(df_RFM[\"last_purchase_date\"])  \n",
    "                     - pd.to_datetime(df_RFM[\"first_purchase_date\"])).apply(lambda x:x.days)\n",
    "df_RFM[\"frequency\"] = (df_RFM[\"total_purchases\"] - 1)\n",
    "\n",
    "data = df_RFM[[\"frequency\", \"recency\", \"T\"]]"
   ]
  },
  {
   "cell_type": "code",
   "execution_count": 745,
   "metadata": {
    "ExecuteTime": {
     "end_time": "2020-05-15T00:55:45.304242Z",
     "start_time": "2020-05-15T00:55:45.293793Z"
    }
   },
   "outputs": [
    {
     "data": {
      "text/html": [
       "<div>\n",
       "<style scoped>\n",
       "    .dataframe tbody tr th:only-of-type {\n",
       "        vertical-align: middle;\n",
       "    }\n",
       "\n",
       "    .dataframe tbody tr th {\n",
       "        vertical-align: top;\n",
       "    }\n",
       "\n",
       "    .dataframe thead th {\n",
       "        text-align: right;\n",
       "    }\n",
       "</style>\n",
       "<table border=\"1\" class=\"dataframe\">\n",
       "  <thead>\n",
       "    <tr style=\"text-align: right;\">\n",
       "      <th></th>\n",
       "      <th>frequency</th>\n",
       "      <th>recency</th>\n",
       "      <th>T</th>\n",
       "    </tr>\n",
       "  </thead>\n",
       "  <tbody>\n",
       "    <tr>\n",
       "      <th>1666</th>\n",
       "      <td>10</td>\n",
       "      <td>234</td>\n",
       "      <td>258</td>\n",
       "    </tr>\n",
       "    <tr>\n",
       "      <th>3575</th>\n",
       "      <td>3</td>\n",
       "      <td>216</td>\n",
       "      <td>222</td>\n",
       "    </tr>\n",
       "    <tr>\n",
       "      <th>1535</th>\n",
       "      <td>0</td>\n",
       "      <td>0</td>\n",
       "      <td>2</td>\n",
       "    </tr>\n",
       "    <tr>\n",
       "      <th>606</th>\n",
       "      <td>4</td>\n",
       "      <td>168</td>\n",
       "      <td>171</td>\n",
       "    </tr>\n",
       "    <tr>\n",
       "      <th>1249</th>\n",
       "      <td>0</td>\n",
       "      <td>0</td>\n",
       "      <td>86</td>\n",
       "    </tr>\n",
       "    <tr>\n",
       "      <th>...</th>\n",
       "      <td>...</td>\n",
       "      <td>...</td>\n",
       "      <td>...</td>\n",
       "    </tr>\n",
       "    <tr>\n",
       "      <th>1952</th>\n",
       "      <td>0</td>\n",
       "      <td>0</td>\n",
       "      <td>289</td>\n",
       "    </tr>\n",
       "    <tr>\n",
       "      <th>3016</th>\n",
       "      <td>1</td>\n",
       "      <td>27</td>\n",
       "      <td>113</td>\n",
       "    </tr>\n",
       "    <tr>\n",
       "      <th>1679</th>\n",
       "      <td>0</td>\n",
       "      <td>0</td>\n",
       "      <td>78</td>\n",
       "    </tr>\n",
       "    <tr>\n",
       "      <th>681</th>\n",
       "      <td>0</td>\n",
       "      <td>0</td>\n",
       "      <td>85</td>\n",
       "    </tr>\n",
       "    <tr>\n",
       "      <th>2881</th>\n",
       "      <td>1</td>\n",
       "      <td>49</td>\n",
       "      <td>108</td>\n",
       "    </tr>\n",
       "  </tbody>\n",
       "</table>\n",
       "<p>586 rows × 3 columns</p>\n",
       "</div>"
      ],
      "text/plain": [
       "      frequency  recency    T\n",
       "1666         10      234  258\n",
       "3575          3      216  222\n",
       "1535          0        0    2\n",
       "606           4      168  171\n",
       "1249          0        0   86\n",
       "...         ...      ...  ...\n",
       "1952          0        0  289\n",
       "3016          1       27  113\n",
       "1679          0        0   78\n",
       "681           0        0   85\n",
       "2881          1       49  108\n",
       "\n",
       "[586 rows x 3 columns]"
      ]
     },
     "execution_count": 745,
     "metadata": {},
     "output_type": "execute_result"
    }
   ],
   "source": [
    "data"
   ]
  },
  {
   "cell_type": "code",
   "execution_count": 715,
   "metadata": {
    "ExecuteTime": {
     "end_time": "2020-05-15T00:53:11.333010Z",
     "start_time": "2020-05-15T00:53:11.330144Z"
    }
   },
   "outputs": [],
   "source": [
    "g1 = data.groupby('frequency')"
   ]
  },
  {
   "cell_type": "code",
   "execution_count": 716,
   "metadata": {
    "ExecuteTime": {
     "end_time": "2020-05-15T00:53:12.207992Z",
     "start_time": "2020-05-15T00:53:11.906559Z"
    }
   },
   "outputs": [
    {
     "data": {
      "text/plain": [
       "<matplotlib.axes._subplots.AxesSubplot at 0x7f9a80c61e80>"
      ]
     },
     "execution_count": 716,
     "metadata": {},
     "output_type": "execute_result"
    },
    {
     "data": {
      "image/png": "[encoded data removed]",
      "text/plain": [
       "<Figure size 432x288 with 1 Axes>"
      ]
     },
     "metadata": {
      "needs_background": "light"
     },
     "output_type": "display_data"
    }
   ],
   "source": [
    "g1['frequency'].count().plot(kind=\"bar\")"
   ]
  },
  {
   "cell_type": "code",
   "execution_count": 717,
   "metadata": {
    "ExecuteTime": {
     "end_time": "2020-05-15T00:53:12.946652Z",
     "start_time": "2020-05-15T00:53:12.943370Z"
    }
   },
   "outputs": [],
   "source": [
    "g2 = data.groupby('T')"
   ]
  },
  {
   "cell_type": "code",
   "execution_count": 718,
   "metadata": {
    "ExecuteTime": {
     "end_time": "2020-05-15T00:53:14.703099Z",
     "start_time": "2020-05-15T00:53:13.376484Z"
    }
   },
   "outputs": [
    {
     "data": {
      "text/plain": [
       "<matplotlib.axes._subplots.AxesSubplot at 0x7f9a80c2d048>"
      ]
     },
     "execution_count": 718,
     "metadata": {},
     "output_type": "execute_result"
    },
    {
     "data": {
      "image/png": "[encoded data removed]",
      "text/plain": [
       "<Figure size 432x288 with 1 Axes>"
      ]
     },
     "metadata": {
      "needs_background": "light"
     },
     "output_type": "display_data"
    }
   ],
   "source": [
    "g2['T'].count().plot(kind=\"bar\")"
   ]
  },
  {
   "cell_type": "markdown",
   "metadata": {},
   "source": [
    "## Pareto-NPD"
   ]
  },
  {
   "cell_type": "code",
   "execution_count": 561,
   "metadata": {
    "ExecuteTime": {
     "end_time": "2020-05-15T00:18:54.741655Z",
     "start_time": "2020-05-15T00:18:54.590418Z"
    }
   },
   "outputs": [
    {
     "data": {
      "text/html": [
       "<div>\n",
       "<style scoped>\n",
       "    .dataframe tbody tr th:only-of-type {\n",
       "        vertical-align: middle;\n",
       "    }\n",
       "\n",
       "    .dataframe tbody tr th {\n",
       "        vertical-align: top;\n",
       "    }\n",
       "\n",
       "    .dataframe thead th {\n",
       "        text-align: right;\n",
       "    }\n",
       "</style>\n",
       "<table border=\"1\" class=\"dataframe\">\n",
       "  <thead>\n",
       "    <tr style=\"text-align: right;\">\n",
       "      <th></th>\n",
       "      <th>coef</th>\n",
       "      <th>se(coef)</th>\n",
       "      <th>lower 95% bound</th>\n",
       "      <th>upper 95% bound</th>\n",
       "    </tr>\n",
       "  </thead>\n",
       "  <tbody>\n",
       "    <tr>\n",
       "      <th>r</th>\n",
       "      <td>0.633748</td>\n",
       "      <td>0.023724</td>\n",
       "      <td>0.587248</td>\n",
       "      <td>0.680248</td>\n",
       "    </tr>\n",
       "    <tr>\n",
       "      <th>alpha</th>\n",
       "      <td>43.215597</td>\n",
       "      <td>2.183869</td>\n",
       "      <td>38.935215</td>\n",
       "      <td>47.495980</td>\n",
       "    </tr>\n",
       "    <tr>\n",
       "      <th>a</th>\n",
       "      <td>0.011330</td>\n",
       "      <td>0.004182</td>\n",
       "      <td>0.003133</td>\n",
       "      <td>0.019527</td>\n",
       "    </tr>\n",
       "    <tr>\n",
       "      <th>b</th>\n",
       "      <td>0.158515</td>\n",
       "      <td>0.046874</td>\n",
       "      <td>0.066642</td>\n",
       "      <td>0.250388</td>\n",
       "    </tr>\n",
       "  </tbody>\n",
       "</table>\n",
       "</div>"
      ],
      "text/plain": [
       "            coef  se(coef)  lower 95% bound  upper 95% bound\n",
       "r       0.633748  0.023724         0.587248         0.680248\n",
       "alpha  43.215597  2.183869        38.935215        47.495980\n",
       "a       0.011330  0.004182         0.003133         0.019527\n",
       "b       0.158515  0.046874         0.066642         0.250388"
      ]
     },
     "execution_count": 561,
     "metadata": {},
     "output_type": "execute_result"
    }
   ],
   "source": [
    "from lifetimes import BetaGeoFitter\n",
    "\n",
    "# similar API to scikit-learn and lifelines.\n",
    "bgf = BetaGeoFitter(penalizer_coef=0.05)\n",
    "bgf.fit(data['frequency'], data['recency'], data['T'])\n",
    "\n",
    "\n",
    "bgf.summary"
   ]
  },
  {
   "cell_type": "markdown",
   "metadata": {},
   "source": [
    "----"
   ]
  },
  {
   "cell_type": "code",
   "execution_count": 593,
   "metadata": {
    "ExecuteTime": {
     "end_time": "2020-05-15T00:22:16.465720Z",
     "start_time": "2020-05-15T00:21:48.931978Z"
    }
   },
   "outputs": [
    {
     "data": {
      "text/plain": [
       "<lifetimes.BetaGeoBetaBinomFitter: fitted with 2340 subjects, alpha: 0.22, beta: 1.87, delta: 0.77, gamma: 0.07>"
      ]
     },
     "execution_count": 593,
     "metadata": {},
     "output_type": "execute_result"
    }
   ],
   "source": [
    "from lifetimes.fitters.beta_geo_beta_binom_fitter import BetaGeoBetaBinomFitter\n",
    "\n",
    "bgf = BetaGeoBetaBinomFitter(penalizer_coef=0.03)\n",
    "bgf.fit(data['frequency'], data['recency'], data['T'])"
   ]
  },
  {
   "cell_type": "code",
   "execution_count": 421,
   "metadata": {
    "ExecuteTime": {
     "end_time": "2020-05-14T21:14:34.296280Z",
     "start_time": "2020-05-14T21:14:34.282452Z"
    }
   },
   "outputs": [
    {
     "data": {
      "text/html": [
       "<div>\n",
       "<style scoped>\n",
       "    .dataframe tbody tr th:only-of-type {\n",
       "        vertical-align: middle;\n",
       "    }\n",
       "\n",
       "    .dataframe tbody tr th {\n",
       "        vertical-align: top;\n",
       "    }\n",
       "\n",
       "    .dataframe thead th {\n",
       "        text-align: right;\n",
       "    }\n",
       "</style>\n",
       "<table border=\"1\" class=\"dataframe\">\n",
       "  <thead>\n",
       "    <tr style=\"text-align: right;\">\n",
       "      <th></th>\n",
       "      <th>coef</th>\n",
       "      <th>se(coef)</th>\n",
       "      <th>lower 95% bound</th>\n",
       "      <th>upper 95% bound</th>\n",
       "    </tr>\n",
       "  </thead>\n",
       "  <tbody>\n",
       "    <tr>\n",
       "      <th>alpha</th>\n",
       "      <td>0.217026</td>\n",
       "      <td>0.006755</td>\n",
       "      <td>0.203786</td>\n",
       "      <td>0.230266</td>\n",
       "    </tr>\n",
       "    <tr>\n",
       "      <th>beta</th>\n",
       "      <td>1.870713</td>\n",
       "      <td>0.059985</td>\n",
       "      <td>1.753142</td>\n",
       "      <td>1.988284</td>\n",
       "    </tr>\n",
       "    <tr>\n",
       "      <th>gamma</th>\n",
       "      <td>0.068338</td>\n",
       "      <td>0.004419</td>\n",
       "      <td>0.059678</td>\n",
       "      <td>0.076998</td>\n",
       "    </tr>\n",
       "    <tr>\n",
       "      <th>delta</th>\n",
       "      <td>0.773649</td>\n",
       "      <td>0.057392</td>\n",
       "      <td>0.661160</td>\n",
       "      <td>0.886137</td>\n",
       "    </tr>\n",
       "  </tbody>\n",
       "</table>\n",
       "</div>"
      ],
      "text/plain": [
       "           coef  se(coef)  lower 95% bound  upper 95% bound\n",
       "alpha  0.217026  0.006755         0.203786         0.230266\n",
       "beta   1.870713  0.059985         1.753142         1.988284\n",
       "gamma  0.068338  0.004419         0.059678         0.076998\n",
       "delta  0.773649  0.057392         0.661160         0.886137"
      ]
     },
     "execution_count": 421,
     "metadata": {},
     "output_type": "execute_result"
    }
   ],
   "source": [
    "bgf.summary"
   ]
  },
  {
   "cell_type": "markdown",
   "metadata": {},
   "source": [
    "----"
   ]
  },
  {
   "cell_type": "code",
   "execution_count": 719,
   "metadata": {
    "ExecuteTime": {
     "end_time": "2020-05-15T00:53:33.652296Z",
     "start_time": "2020-05-15T00:53:33.649195Z"
    }
   },
   "outputs": [],
   "source": [
    "from lifetimes.fitters.pareto_nbd_fitter import ParetoNBDFitter"
   ]
  },
  {
   "cell_type": "code",
   "execution_count": 720,
   "metadata": {
    "ExecuteTime": {
     "end_time": "2020-05-15T00:53:35.966512Z",
     "start_time": "2020-05-15T00:53:34.768032Z"
    }
   },
   "outputs": [
    {
     "data": {
      "text/plain": [
       "<lifetimes.ParetoNBDFitter: fitted with 2340 subjects, alpha: 58.93, beta: 6.06, r: 0.86, s: 0.03>"
      ]
     },
     "execution_count": 720,
     "metadata": {},
     "output_type": "execute_result"
    }
   ],
   "source": [
    "bgf = ParetoNBDFitter(penalizer_coef=0.04)\n",
    "\n",
    "bgf.fit(data['frequency'], data['recency'], data['T'])"
   ]
  },
  {
   "cell_type": "markdown",
   "metadata": {},
   "source": [
    "----"
   ]
  },
  {
   "cell_type": "code",
   "execution_count": 721,
   "metadata": {
    "ExecuteTime": {
     "end_time": "2020-05-15T00:53:44.638147Z",
     "start_time": "2020-05-15T00:53:39.317108Z"
    }
   },
   "outputs": [
    {
     "data": {
      "text/plain": [
       "<matplotlib.axes._subplots.AxesSubplot at 0x7f9a81057470>"
      ]
     },
     "execution_count": 721,
     "metadata": {},
     "output_type": "execute_result"
    },
    {
     "data": {
      "image/png": "[encoded data removed]",
      "text/plain": [
       "<Figure size 432x288 with 2 Axes>"
      ]
     },
     "metadata": {
      "needs_background": "light"
     },
     "output_type": "display_data"
    }
   ],
   "source": [
    "from lifetimes.plotting import plot_frequency_recency_matrix\n",
    "\n",
    "plot_frequency_recency_matrix(bgf,\n",
    "                             ylabel=\"Customer's Age at Latest Purchase\")"
   ]
  },
  {
   "cell_type": "code",
   "execution_count": 722,
   "metadata": {
    "ExecuteTime": {
     "end_time": "2020-05-15T00:53:50.275878Z",
     "start_time": "2020-05-15T00:53:45.736467Z"
    }
   },
   "outputs": [
    {
     "data": {
      "text/plain": [
       "<matplotlib.axes._subplots.AxesSubplot at 0x7f9a81105ef0>"
      ]
     },
     "execution_count": 722,
     "metadata": {},
     "output_type": "execute_result"
    },
    {
     "data": {
      "image/png": "[encoded data removed]",
      "text/plain": [
       "<Figure size 432x288 with 2 Axes>"
      ]
     },
     "metadata": {
      "needs_background": "light"
     },
     "output_type": "display_data"
    }
   ],
   "source": [
    "from lifetimes.plotting import plot_probability_alive_matrix\n",
    "\n",
    "plot_probability_alive_matrix(bgf,\n",
    "                             ylabel=\"Customer's Age at Latest Purchase\")"
   ]
  },
  {
   "cell_type": "code",
   "execution_count": 746,
   "metadata": {
    "ExecuteTime": {
     "end_time": "2020-05-15T00:55:55.458913Z",
     "start_time": "2020-05-15T00:55:55.432234Z"
    }
   },
   "outputs": [
    {
     "data": {
      "text/html": [
       "<div>\n",
       "<style scoped>\n",
       "    .dataframe tbody tr th:only-of-type {\n",
       "        vertical-align: middle;\n",
       "    }\n",
       "\n",
       "    .dataframe tbody tr th {\n",
       "        vertical-align: top;\n",
       "    }\n",
       "\n",
       "    .dataframe thead th {\n",
       "        text-align: right;\n",
       "    }\n",
       "</style>\n",
       "<table border=\"1\" class=\"dataframe\">\n",
       "  <thead>\n",
       "    <tr style=\"text-align: right;\">\n",
       "      <th></th>\n",
       "      <th>frequency</th>\n",
       "      <th>recency</th>\n",
       "      <th>T</th>\n",
       "      <th>predicted_purchases</th>\n",
       "    </tr>\n",
       "  </thead>\n",
       "  <tbody>\n",
       "    <tr>\n",
       "      <th>1054</th>\n",
       "      <td>32</td>\n",
       "      <td>302</td>\n",
       "      <td>303</td>\n",
       "      <td>5.524512</td>\n",
       "    </tr>\n",
       "    <tr>\n",
       "      <th>1530</th>\n",
       "      <td>34</td>\n",
       "      <td>302</td>\n",
       "      <td>303</td>\n",
       "      <td>5.860714</td>\n",
       "    </tr>\n",
       "    <tr>\n",
       "      <th>3254</th>\n",
       "      <td>34</td>\n",
       "      <td>288</td>\n",
       "      <td>299</td>\n",
       "      <td>5.915858</td>\n",
       "    </tr>\n",
       "    <tr>\n",
       "      <th>3336</th>\n",
       "      <td>34</td>\n",
       "      <td>276</td>\n",
       "      <td>285</td>\n",
       "      <td>6.158441</td>\n",
       "    </tr>\n",
       "    <tr>\n",
       "      <th>3610</th>\n",
       "      <td>83</td>\n",
       "      <td>301</td>\n",
       "      <td>304</td>\n",
       "      <td>14.054872</td>\n",
       "    </tr>\n",
       "  </tbody>\n",
       "</table>\n",
       "</div>"
      ],
      "text/plain": [
       "      frequency  recency    T  predicted_purchases\n",
       "1054         32      302  303             5.524512\n",
       "1530         34      302  303             5.860714\n",
       "3254         34      288  299             5.915858\n",
       "3336         34      276  285             6.158441\n",
       "3610         83      301  304            14.054872"
      ]
     },
     "execution_count": 746,
     "metadata": {},
     "output_type": "execute_result"
    }
   ],
   "source": [
    "t = 61\n",
    "data['predicted_purchases'] = bgf.conditional_expected_number_of_purchases_up_to_time(t, data['frequency'], data['recency'], data['T'])\n",
    "data.sort_values(by='predicted_purchases').tail(5)"
   ]
  },
  {
   "cell_type": "code",
   "execution_count": 724,
   "metadata": {
    "ExecuteTime": {
     "end_time": "2020-05-15T00:53:54.347422Z",
     "start_time": "2020-05-15T00:53:53.672986Z"
    }
   },
   "outputs": [
    {
     "data": {
      "text/plain": [
       "<matplotlib.axes._subplots.AxesSubplot at 0x7f9a7fe4d6a0>"
      ]
     },
     "execution_count": 724,
     "metadata": {},
     "output_type": "execute_result"
    },
    {
     "data": {
      "image/png": "[encoded data removed]",
      "text/plain": [
       "<Figure size 432x288 with 1 Axes>"
      ]
     },
     "metadata": {
      "needs_background": "light"
     },
     "output_type": "display_data"
    }
   ],
   "source": [
    "from lifetimes.plotting import plot_period_transactions\n",
    "plot_period_transactions(bgf)"
   ]
  },
  {
   "cell_type": "markdown",
   "metadata": {},
   "source": [
    "## Gamma-Gamma"
   ]
  },
  {
   "cell_type": "code",
   "execution_count": 748,
   "metadata": {
    "ExecuteTime": {
     "end_time": "2020-05-15T00:56:27.344631Z",
     "start_time": "2020-05-15T00:56:27.338422Z"
    }
   },
   "outputs": [],
   "source": [
    "data2 = df_RFM[[\"frequency\", \"recency\", \"T\", \"total_purchase_amount_x\"]]\n",
    "data2[\"monetary_value\"] = data2[\"total_purchase_amount_x\"] / (1 + data2[\"frequency\"])"
   ]
  },
  {
   "cell_type": "code",
   "execution_count": 749,
   "metadata": {
    "ExecuteTime": {
     "end_time": "2020-05-15T00:56:28.865127Z",
     "start_time": "2020-05-15T00:56:28.859393Z"
    }
   },
   "outputs": [],
   "source": [
    "data2 = data2[[\"frequency\", \"recency\", \"T\", \"monetary_value\"]]\n",
    "data2[\"monetary_value\"] = data2[\"monetary_value\"].apply(lambda x:0.001 if x<=0 else x)"
   ]
  },
  {
   "cell_type": "code",
   "execution_count": 727,
   "metadata": {
    "ExecuteTime": {
     "end_time": "2020-05-15T00:53:59.434794Z",
     "start_time": "2020-05-15T00:53:59.426148Z"
    }
   },
   "outputs": [
    {
     "data": {
      "text/html": [
       "<div>\n",
       "<style scoped>\n",
       "    .dataframe tbody tr th:only-of-type {\n",
       "        vertical-align: middle;\n",
       "    }\n",
       "\n",
       "    .dataframe tbody tr th {\n",
       "        vertical-align: top;\n",
       "    }\n",
       "\n",
       "    .dataframe thead th {\n",
       "        text-align: right;\n",
       "    }\n",
       "</style>\n",
       "<table border=\"1\" class=\"dataframe\">\n",
       "  <thead>\n",
       "    <tr style=\"text-align: right;\">\n",
       "      <th></th>\n",
       "      <th>frequency</th>\n",
       "      <th>recency</th>\n",
       "      <th>T</th>\n",
       "      <th>monetary_value</th>\n",
       "    </tr>\n",
       "  </thead>\n",
       "  <tbody>\n",
       "    <tr>\n",
       "      <th>frequency</th>\n",
       "      <td>1.000000</td>\n",
       "      <td>0.561654</td>\n",
       "      <td>0.344186</td>\n",
       "      <td>0.117757</td>\n",
       "    </tr>\n",
       "    <tr>\n",
       "      <th>recency</th>\n",
       "      <td>0.561654</td>\n",
       "      <td>1.000000</td>\n",
       "      <td>0.622771</td>\n",
       "      <td>0.084837</td>\n",
       "    </tr>\n",
       "    <tr>\n",
       "      <th>T</th>\n",
       "      <td>0.344186</td>\n",
       "      <td>0.622771</td>\n",
       "      <td>1.000000</td>\n",
       "      <td>-0.036882</td>\n",
       "    </tr>\n",
       "    <tr>\n",
       "      <th>monetary_value</th>\n",
       "      <td>0.117757</td>\n",
       "      <td>0.084837</td>\n",
       "      <td>-0.036882</td>\n",
       "      <td>1.000000</td>\n",
       "    </tr>\n",
       "  </tbody>\n",
       "</table>\n",
       "</div>"
      ],
      "text/plain": [
       "                frequency   recency         T  monetary_value\n",
       "frequency        1.000000  0.561654  0.344186        0.117757\n",
       "recency          0.561654  1.000000  0.622771        0.084837\n",
       "T                0.344186  0.622771  1.000000       -0.036882\n",
       "monetary_value   0.117757  0.084837 -0.036882        1.000000"
      ]
     },
     "execution_count": 727,
     "metadata": {},
     "output_type": "execute_result"
    }
   ],
   "source": [
    "data2.corr()"
   ]
  },
  {
   "cell_type": "code",
   "execution_count": 728,
   "metadata": {
    "ExecuteTime": {
     "end_time": "2020-05-15T00:54:01.740141Z",
     "start_time": "2020-05-15T00:54:01.731106Z"
    }
   },
   "outputs": [
    {
     "data": {
      "text/html": [
       "<div>\n",
       "<style scoped>\n",
       "    .dataframe tbody tr th:only-of-type {\n",
       "        vertical-align: middle;\n",
       "    }\n",
       "\n",
       "    .dataframe tbody tr th {\n",
       "        vertical-align: top;\n",
       "    }\n",
       "\n",
       "    .dataframe thead th {\n",
       "        text-align: right;\n",
       "    }\n",
       "</style>\n",
       "<table border=\"1\" class=\"dataframe\">\n",
       "  <thead>\n",
       "    <tr style=\"text-align: right;\">\n",
       "      <th></th>\n",
       "      <th>frequency</th>\n",
       "      <th>recency</th>\n",
       "      <th>T</th>\n",
       "      <th>monetary_value</th>\n",
       "    </tr>\n",
       "  </thead>\n",
       "  <tbody>\n",
       "    <tr>\n",
       "      <th>815</th>\n",
       "      <td>0</td>\n",
       "      <td>0</td>\n",
       "      <td>8</td>\n",
       "      <td>344.330000</td>\n",
       "    </tr>\n",
       "    <tr>\n",
       "      <th>403</th>\n",
       "      <td>1</td>\n",
       "      <td>163</td>\n",
       "      <td>167</td>\n",
       "      <td>303.875000</td>\n",
       "    </tr>\n",
       "    <tr>\n",
       "      <th>1519</th>\n",
       "      <td>3</td>\n",
       "      <td>126</td>\n",
       "      <td>178</td>\n",
       "      <td>230.705000</td>\n",
       "    </tr>\n",
       "    <tr>\n",
       "      <th>2544</th>\n",
       "      <td>1</td>\n",
       "      <td>118</td>\n",
       "      <td>191</td>\n",
       "      <td>271.360000</td>\n",
       "    </tr>\n",
       "    <tr>\n",
       "      <th>2279</th>\n",
       "      <td>0</td>\n",
       "      <td>0</td>\n",
       "      <td>80</td>\n",
       "      <td>305.020000</td>\n",
       "    </tr>\n",
       "    <tr>\n",
       "      <th>...</th>\n",
       "      <td>...</td>\n",
       "      <td>...</td>\n",
       "      <td>...</td>\n",
       "      <td>...</td>\n",
       "    </tr>\n",
       "    <tr>\n",
       "      <th>822</th>\n",
       "      <td>10</td>\n",
       "      <td>287</td>\n",
       "      <td>289</td>\n",
       "      <td>386.740000</td>\n",
       "    </tr>\n",
       "    <tr>\n",
       "      <th>6</th>\n",
       "      <td>1</td>\n",
       "      <td>23</td>\n",
       "      <td>27</td>\n",
       "      <td>208.865000</td>\n",
       "    </tr>\n",
       "    <tr>\n",
       "      <th>115</th>\n",
       "      <td>5</td>\n",
       "      <td>278</td>\n",
       "      <td>297</td>\n",
       "      <td>174.130000</td>\n",
       "    </tr>\n",
       "    <tr>\n",
       "      <th>947</th>\n",
       "      <td>4</td>\n",
       "      <td>173</td>\n",
       "      <td>204</td>\n",
       "      <td>881.982000</td>\n",
       "    </tr>\n",
       "    <tr>\n",
       "      <th>3496</th>\n",
       "      <td>2</td>\n",
       "      <td>56</td>\n",
       "      <td>76</td>\n",
       "      <td>150.553333</td>\n",
       "    </tr>\n",
       "  </tbody>\n",
       "</table>\n",
       "<p>2340 rows × 4 columns</p>\n",
       "</div>"
      ],
      "text/plain": [
       "      frequency  recency    T  monetary_value\n",
       "815           0        0    8      344.330000\n",
       "403           1      163  167      303.875000\n",
       "1519          3      126  178      230.705000\n",
       "2544          1      118  191      271.360000\n",
       "2279          0        0   80      305.020000\n",
       "...         ...      ...  ...             ...\n",
       "822          10      287  289      386.740000\n",
       "6             1       23   27      208.865000\n",
       "115           5      278  297      174.130000\n",
       "947           4      173  204      881.982000\n",
       "3496          2       56   76      150.553333\n",
       "\n",
       "[2340 rows x 4 columns]"
      ]
     },
     "execution_count": 728,
     "metadata": {},
     "output_type": "execute_result"
    }
   ],
   "source": [
    "data2"
   ]
  },
  {
   "cell_type": "code",
   "execution_count": 730,
   "metadata": {
    "ExecuteTime": {
     "end_time": "2020-05-15T00:54:04.634226Z",
     "start_time": "2020-05-15T00:54:04.589202Z"
    }
   },
   "outputs": [
    {
     "name": "stdout",
     "output_type": "stream",
     "text": [
      "<lifetimes.GammaGammaFitter: fitted with 1492 subjects, p: 1.63, q: 0.23, v: 1.86>\n"
     ]
    }
   ],
   "source": [
    "from lifetimes import GammaGammaFitter\n",
    "\n",
    "returning_customers_summary = data2[data2['frequency']>0]\n",
    "\n",
    "ggf = GammaGammaFitter(penalizer_coef = 0.03)\n",
    "ggf.fit(returning_customers_summary['frequency'],\n",
    "        returning_customers_summary['monetary_value'])\n",
    "print(ggf)"
   ]
  },
  {
   "cell_type": "code",
   "execution_count": 750,
   "metadata": {
    "ExecuteTime": {
     "end_time": "2020-05-15T00:56:44.332355Z",
     "start_time": "2020-05-15T00:56:44.328059Z"
    }
   },
   "outputs": [],
   "source": [
    "returning_customers_summary = data2[data2['frequency']>0]"
   ]
  },
  {
   "cell_type": "code",
   "execution_count": 751,
   "metadata": {
    "ExecuteTime": {
     "end_time": "2020-05-15T00:56:44.841248Z",
     "start_time": "2020-05-15T00:56:44.835867Z"
    }
   },
   "outputs": [],
   "source": [
    "returning_customers_summary[\"predict\"] = ggf.conditional_expected_average_profit(\n",
    "                                                        returning_customers_summary['frequency'],\n",
    "                                                        returning_customers_summary['monetary_value']\n",
    "                                                    )"
   ]
  },
  {
   "cell_type": "markdown",
   "metadata": {},
   "source": [
    "## model checking"
   ]
  },
  {
   "cell_type": "code",
   "execution_count": 813,
   "metadata": {
    "ExecuteTime": {
     "end_time": "2020-05-15T01:46:42.564048Z",
     "start_time": "2020-05-15T01:46:42.561581Z"
    }
   },
   "outputs": [],
   "source": [
    "def RMSE(predict, actual):\n",
    "    score = (((predict - actual)**2).sum() / actual.shape[0])**0.5\n",
    "    print(score)\n",
    "    return score"
   ]
  },
  {
   "cell_type": "code",
   "execution_count": 815,
   "metadata": {
    "ExecuteTime": {
     "end_time": "2020-05-15T01:50:03.220852Z",
     "start_time": "2020-05-15T01:50:03.217428Z"
    }
   },
   "outputs": [],
   "source": [
    "def lt_avg_pred(df, days):\n",
    "    return (df.total_purchase_amount_x * days / df[\"T\"]).mean()"
   ]
  },
  {
   "cell_type": "code",
   "execution_count": 817,
   "metadata": {
    "ExecuteTime": {
     "end_time": "2020-05-15T01:52:19.982777Z",
     "start_time": "2020-05-15T01:52:19.980077Z"
    }
   },
   "outputs": [],
   "source": [
    "def last_2m_prediction(df):\n",
    "    return (df.last_2_months_spend).mean()"
   ]
  },
  {
   "cell_type": "code",
   "execution_count": 752,
   "metadata": {
    "ExecuteTime": {
     "end_time": "2020-05-15T00:56:53.854943Z",
     "start_time": "2020-05-15T00:56:53.844409Z"
    }
   },
   "outputs": [],
   "source": [
    "data2['predicted_purchases'] = data['predicted_purchases']#.apply(lambda x: proper_round(x))\n",
    "data2[\"predict_avg_amount\"] = returning_customers_summary[\"predict\"]\n",
    "data2[\"predict_avg_amount\"][data2[\"frequency\"] == 0] = data2[data2[\"frequency\"] == 0][\"monetary_value\"]"
   ]
  },
  {
   "cell_type": "code",
   "execution_count": 753,
   "metadata": {
    "ExecuteTime": {
     "end_time": "2020-05-15T00:57:00.167645Z",
     "start_time": "2020-05-15T00:57:00.160729Z"
    }
   },
   "outputs": [
    {
     "name": "stdout",
     "output_type": "stream",
     "text": [
      "<class 'pandas.core.frame.DataFrame'>\n",
      "Int64Index: 586 entries, 1666 to 2881\n",
      "Data columns (total 6 columns):\n",
      " #   Column               Non-Null Count  Dtype  \n",
      "---  ------               --------------  -----  \n",
      " 0   frequency            586 non-null    int64  \n",
      " 1   recency              586 non-null    int64  \n",
      " 2   T                    586 non-null    int64  \n",
      " 3   monetary_value       586 non-null    float64\n",
      " 4   predicted_purchases  586 non-null    float64\n",
      " 5   predict_avg_amount   586 non-null    float64\n",
      "dtypes: float64(3), int64(3)\n",
      "memory usage: 52.0 KB\n"
     ]
    }
   ],
   "source": [
    "data2.info()"
   ]
  },
  {
   "cell_type": "code",
   "execution_count": 754,
   "metadata": {
    "ExecuteTime": {
     "end_time": "2020-05-15T00:57:10.061528Z",
     "start_time": "2020-05-15T00:57:10.058401Z"
    }
   },
   "outputs": [],
   "source": [
    "sales_predict = data2[\"predict_avg_amount\"] * data2[\"predicted_purchases\"]"
   ]
  },
  {
   "cell_type": "code",
   "execution_count": 755,
   "metadata": {
    "ExecuteTime": {
     "end_time": "2020-05-15T00:57:15.501858Z",
     "start_time": "2020-05-15T00:57:15.499228Z"
    }
   },
   "outputs": [],
   "source": [
    "sales_actual2 = y_test2"
   ]
  },
  {
   "cell_type": "code",
   "execution_count": 756,
   "metadata": {
    "ExecuteTime": {
     "end_time": "2020-05-15T00:57:16.501367Z",
     "start_time": "2020-05-15T00:57:16.496132Z"
    }
   },
   "outputs": [
    {
     "data": {
      "text/plain": [
       "1661.3067465062534"
      ]
     },
     "execution_count": 756,
     "metadata": {},
     "output_type": "execute_result"
    }
   ],
   "source": [
    "RMSE = (((sales_predict - sales_actual2)**2).sum() / sales_actual2.shape[0])**0.5; RMSE"
   ]
  },
  {
   "cell_type": "code",
   "execution_count": 757,
   "metadata": {
    "ExecuteTime": {
     "end_time": "2020-05-15T00:57:27.076453Z",
     "start_time": "2020-05-15T00:57:27.070507Z"
    }
   },
   "outputs": [
    {
     "data": {
      "text/plain": [
       "3139.8409800496606"
      ]
     },
     "execution_count": 757,
     "metadata": {},
     "output_type": "execute_result"
    }
   ],
   "source": [
    "RMSE2 = ((((X_train.total_purchase_amount_x *61 / X_train[\"T\"]).mean() - sales_actual2)**2).sum() / sales_actual2.shape[0])**0.5; RMSE2"
   ]
  },
  {
   "cell_type": "code",
   "execution_count": 758,
   "metadata": {
    "ExecuteTime": {
     "end_time": "2020-05-15T00:57:28.104461Z",
     "start_time": "2020-05-15T00:57:28.099067Z"
    }
   },
   "outputs": [
    {
     "data": {
      "text/plain": [
       "3128.8735477319383"
      ]
     },
     "execution_count": 758,
     "metadata": {},
     "output_type": "execute_result"
    }
   ],
   "source": [
    "RMSE3 = ((((X_train.last_2_months_spend).mean() - sales_actual2)**2).sum() / sales_actual2.shape[0])**0.5; RMSE3"
   ]
  },
  {
   "cell_type": "markdown",
   "metadata": {},
   "source": [
    "P model training Score: 1514 2393 2370\n",
    "\n",
    "Validation Score: 1661 3140 3129"
   ]
  },
  {
   "cell_type": "markdown",
   "metadata": {},
   "source": [
    "The LTV model is clearly better than using just the mean."
   ]
  },
  {
   "cell_type": "markdown",
   "metadata": {},
   "source": [
    "# Final Model"
   ]
  },
  {
   "cell_type": "code",
   "execution_count": 771,
   "metadata": {
    "ExecuteTime": {
     "end_time": "2020-05-15T01:33:56.706117Z",
     "start_time": "2020-05-15T01:33:56.696861Z"
    }
   },
   "outputs": [],
   "source": [
    "df_RFM = pd.read_csv(\"fdb_RFM3_train.csv\", index_col=0);"
   ]
  },
  {
   "cell_type": "code",
   "execution_count": 788,
   "metadata": {
    "ExecuteTime": {
     "end_time": "2020-05-15T01:37:20.001322Z",
     "start_time": "2020-05-15T01:37:19.994646Z"
    }
   },
   "outputs": [],
   "source": [
    "# df_RFM = pd.read_csv(\"fdb_RFM3_test.csv\", index_col=0);"
   ]
  },
  {
   "cell_type": "code",
   "execution_count": 789,
   "metadata": {
    "ExecuteTime": {
     "end_time": "2020-05-15T01:37:27.684205Z",
     "start_time": "2020-05-15T01:37:27.659876Z"
    }
   },
   "outputs": [],
   "source": [
    "df_RFM[\"T\"] = (pd.to_datetime(\"2011-10-01\") - pd.to_datetime(\n",
    "                df_RFM[\"first_purchase_date\"]) ).apply(lambda x:x.days)\n",
    "df_RFM[\"recency\"] = (pd.to_datetime(df_RFM[\"last_purchase_date\"])  \n",
    "                     - pd.to_datetime(df_RFM[\"first_purchase_date\"])).apply(lambda x:x.days)\n",
    "df_RFM[\"frequency\"] = (df_RFM[\"total_purchases\"] - 1)\n",
    "\n",
    "data = df_RFM[[\"frequency\", \"recency\", \"T\", \"total_purchase_amount_x\"]]\n",
    "data[\"monetary_value\"] = data[\"total_purchase_amount_x\"] / (1 + data[\"frequency\"])"
   ]
  },
  {
   "cell_type": "code",
   "execution_count": 776,
   "metadata": {
    "ExecuteTime": {
     "end_time": "2020-05-15T01:34:28.578423Z",
     "start_time": "2020-05-15T01:34:26.781851Z"
    }
   },
   "outputs": [
    {
     "data": {
      "text/plain": [
       "<lifetimes.ParetoNBDFitter: fitted with 2926 subjects, alpha: 59.19, beta: 7.81, r: 0.88, s: 0.03>"
      ]
     },
     "execution_count": 776,
     "metadata": {},
     "output_type": "execute_result"
    }
   ],
   "source": [
    "# Model\n",
    "bgf = ParetoNBDFitter(penalizer_coef=0.04)\n",
    "bgf.fit(data['frequency'], data['recency'], data['T'])"
   ]
  },
  {
   "cell_type": "code",
   "execution_count": 790,
   "metadata": {
    "ExecuteTime": {
     "end_time": "2020-05-15T01:37:39.872160Z",
     "start_time": "2020-05-15T01:37:39.850654Z"
    }
   },
   "outputs": [
    {
     "data": {
      "text/html": [
       "<div>\n",
       "<style scoped>\n",
       "    .dataframe tbody tr th:only-of-type {\n",
       "        vertical-align: middle;\n",
       "    }\n",
       "\n",
       "    .dataframe tbody tr th {\n",
       "        vertical-align: top;\n",
       "    }\n",
       "\n",
       "    .dataframe thead th {\n",
       "        text-align: right;\n",
       "    }\n",
       "</style>\n",
       "<table border=\"1\" class=\"dataframe\">\n",
       "  <thead>\n",
       "    <tr style=\"text-align: right;\">\n",
       "      <th></th>\n",
       "      <th>frequency</th>\n",
       "      <th>recency</th>\n",
       "      <th>T</th>\n",
       "      <th>total_purchase_amount_x</th>\n",
       "      <th>monetary_value</th>\n",
       "      <th>predicted_purchases</th>\n",
       "    </tr>\n",
       "  </thead>\n",
       "  <tbody>\n",
       "    <tr>\n",
       "      <th>1839</th>\n",
       "      <td>22</td>\n",
       "      <td>255</td>\n",
       "      <td>256</td>\n",
       "      <td>5646.48</td>\n",
       "      <td>245.499130</td>\n",
       "      <td>4.412979</td>\n",
       "    </tr>\n",
       "    <tr>\n",
       "      <th>2538</th>\n",
       "      <td>26</td>\n",
       "      <td>295</td>\n",
       "      <td>300</td>\n",
       "      <td>12558.70</td>\n",
       "      <td>465.137037</td>\n",
       "      <td>4.549274</td>\n",
       "    </tr>\n",
       "    <tr>\n",
       "      <th>2329</th>\n",
       "      <td>17</td>\n",
       "      <td>171</td>\n",
       "      <td>172</td>\n",
       "      <td>6028.77</td>\n",
       "      <td>334.931667</td>\n",
       "      <td>4.694886</td>\n",
       "    </tr>\n",
       "    <tr>\n",
       "      <th>174</th>\n",
       "      <td>28</td>\n",
       "      <td>294</td>\n",
       "      <td>303</td>\n",
       "      <td>10981.36</td>\n",
       "      <td>378.667586</td>\n",
       "      <td>4.844097</td>\n",
       "    </tr>\n",
       "    <tr>\n",
       "      <th>2720</th>\n",
       "      <td>28</td>\n",
       "      <td>258</td>\n",
       "      <td>289</td>\n",
       "      <td>4155.55</td>\n",
       "      <td>143.294828</td>\n",
       "      <td>4.961553</td>\n",
       "    </tr>\n",
       "  </tbody>\n",
       "</table>\n",
       "</div>"
      ],
      "text/plain": [
       "      frequency  recency    T  total_purchase_amount_x  monetary_value  \\\n",
       "1839         22      255  256                  5646.48      245.499130   \n",
       "2538         26      295  300                 12558.70      465.137037   \n",
       "2329         17      171  172                  6028.77      334.931667   \n",
       "174          28      294  303                 10981.36      378.667586   \n",
       "2720         28      258  289                  4155.55      143.294828   \n",
       "\n",
       "      predicted_purchases  \n",
       "1839             4.412979  \n",
       "2538             4.549274  \n",
       "2329             4.694886  \n",
       "174              4.844097  \n",
       "2720             4.961553  "
      ]
     },
     "execution_count": 790,
     "metadata": {},
     "output_type": "execute_result"
    }
   ],
   "source": [
    "t = 61\n",
    "data['predicted_purchases'] = bgf.conditional_expected_number_of_purchases_up_to_time(t, data['frequency'], data['recency'], data['T'])\n",
    "data.sort_values(by='predicted_purchases').tail(5)"
   ]
  },
  {
   "cell_type": "code",
   "execution_count": 791,
   "metadata": {
    "ExecuteTime": {
     "end_time": "2020-05-15T01:37:43.572952Z",
     "start_time": "2020-05-15T01:37:43.566646Z"
    }
   },
   "outputs": [],
   "source": [
    "data = data[[\"frequency\", \"recency\", \"T\", \"monetary_value\", \"predicted_purchases\"]]\n",
    "data[\"monetary_value\"] = data[\"monetary_value\"].apply(lambda x:0.001 if x<=0 else x)\n",
    "returning_customers_summary = data[data['frequency']>0]"
   ]
  },
  {
   "cell_type": "code",
   "execution_count": 779,
   "metadata": {
    "ExecuteTime": {
     "end_time": "2020-05-15T01:34:29.491402Z",
     "start_time": "2020-05-15T01:34:29.441277Z"
    }
   },
   "outputs": [
    {
     "name": "stdout",
     "output_type": "stream",
     "text": [
      "<lifetimes.GammaGammaFitter: fitted with 1880 subjects, p: 1.63, q: 0.23, v: 1.86>\n"
     ]
    }
   ],
   "source": [
    "ggf = GammaGammaFitter(penalizer_coef = 0.03)\n",
    "ggf.fit(returning_customers_summary['frequency'],\n",
    "        returning_customers_summary['monetary_value'])\n",
    "print(ggf)"
   ]
  },
  {
   "cell_type": "code",
   "execution_count": 792,
   "metadata": {
    "ExecuteTime": {
     "end_time": "2020-05-15T01:37:55.412273Z",
     "start_time": "2020-05-15T01:37:55.407227Z"
    }
   },
   "outputs": [],
   "source": [
    "returning_customers_summary[\"predict\"] = ggf.conditional_expected_average_profit(\n",
    "                                                        returning_customers_summary['frequency'],\n",
    "                                                        returning_customers_summary['monetary_value']\n",
    "                                                    )"
   ]
  },
  {
   "cell_type": "code",
   "execution_count": null,
   "metadata": {},
   "outputs": [],
   "source": []
  },
  {
   "cell_type": "code",
   "execution_count": 793,
   "metadata": {
    "ExecuteTime": {
     "end_time": "2020-05-15T01:38:01.171243Z",
     "start_time": "2020-05-15T01:38:01.161294Z"
    }
   },
   "outputs": [],
   "source": [
    "data[\"predict_avg_amount\"] = returning_customers_summary[\"predict\"]\n",
    "data[\"predict_avg_amount\"][data[\"frequency\"] == 0] = data[data[\"frequency\"] == 0][\"monetary_value\"]"
   ]
  },
  {
   "cell_type": "code",
   "execution_count": 794,
   "metadata": {
    "ExecuteTime": {
     "end_time": "2020-05-15T01:38:08.766745Z",
     "start_time": "2020-05-15T01:38:08.763363Z"
    }
   },
   "outputs": [],
   "source": [
    "sales_predict = data[\"predict_avg_amount\"] * data[\"predicted_purchases\"]"
   ]
  },
  {
   "cell_type": "code",
   "execution_count": 795,
   "metadata": {
    "ExecuteTime": {
     "end_time": "2020-05-15T01:38:09.380027Z",
     "start_time": "2020-05-15T01:38:09.377129Z"
    }
   },
   "outputs": [],
   "source": [
    "sales_actual2 = df_RFM[\"next_2_months_spend\"]"
   ]
  },
  {
   "cell_type": "markdown",
   "metadata": {},
   "source": [
    "Trainning Scores for final Model"
   ]
  },
  {
   "cell_type": "code",
   "execution_count": 785,
   "metadata": {
    "ExecuteTime": {
     "end_time": "2020-05-15T01:35:40.140091Z",
     "start_time": "2020-05-15T01:35:40.134820Z"
    }
   },
   "outputs": [
    {
     "data": {
      "text/plain": [
       "1545.6577267595908"
      ]
     },
     "execution_count": 785,
     "metadata": {},
     "output_type": "execute_result"
    }
   ],
   "source": [
    "# LTV\n",
    "RMSE(sales_predict,sales_actual2)"
   ]
  },
  {
   "cell_type": "code",
   "execution_count": 786,
   "metadata": {
    "ExecuteTime": {
     "end_time": "2020-05-15T01:35:48.023523Z",
     "start_time": "2020-05-15T01:35:48.017383Z"
    }
   },
   "outputs": [
    {
     "data": {
      "text/plain": [
       "2559.938799152533"
      ]
     },
     "execution_count": 786,
     "metadata": {},
     "output_type": "execute_result"
    }
   ],
   "source": [
    "# lifetime average prediction\n",
    "RMSE(lt_avg_pred(X_train, 61),sales_actual2)"
   ]
  },
  {
   "cell_type": "code",
   "execution_count": 787,
   "metadata": {
    "ExecuteTime": {
     "end_time": "2020-05-15T01:35:55.477790Z",
     "start_time": "2020-05-15T01:35:55.470217Z"
    }
   },
   "outputs": [
    {
     "data": {
      "text/plain": [
       "2540.649763597387"
      ]
     },
     "execution_count": 787,
     "metadata": {},
     "output_type": "execute_result"
    }
   ],
   "source": [
    "# latest period prediction\n",
    "RMSE(last_2m_prediction(X_train),sales_actual2)"
   ]
  },
  {
   "cell_type": "markdown",
   "metadata": {},
   "source": [
    "Test Scores for final Model"
   ]
  },
  {
   "cell_type": "code",
   "execution_count": 814,
   "metadata": {
    "ExecuteTime": {
     "end_time": "2020-05-15T01:47:00.989993Z",
     "start_time": "2020-05-15T01:47:00.984490Z"
    }
   },
   "outputs": [
    {
     "name": "stdout",
     "output_type": "stream",
     "text": [
      "616.6572814267082\n"
     ]
    },
    {
     "data": {
      "text/plain": [
       "616.6572814267082"
      ]
     },
     "execution_count": 814,
     "metadata": {},
     "output_type": "execute_result"
    }
   ],
   "source": [
    "# LTV\n",
    "RMSE(sales_predict,sales_actual2)"
   ]
  },
  {
   "cell_type": "code",
   "execution_count": 816,
   "metadata": {
    "ExecuteTime": {
     "end_time": "2020-05-15T01:51:08.367396Z",
     "start_time": "2020-05-15T01:51:08.361872Z"
    }
   },
   "outputs": [
    {
     "name": "stdout",
     "output_type": "stream",
     "text": [
      "805.8475508762967\n"
     ]
    },
    {
     "data": {
      "text/plain": [
       "805.8475508762967"
      ]
     },
     "execution_count": 816,
     "metadata": {},
     "output_type": "execute_result"
    }
   ],
   "source": [
    "# lifetime average prediction\n",
    "RMSE(lt_avg_pred(df_RFM, 61),sales_actual2)"
   ]
  },
  {
   "cell_type": "code",
   "execution_count": 818,
   "metadata": {
    "ExecuteTime": {
     "end_time": "2020-05-15T01:52:51.747870Z",
     "start_time": "2020-05-15T01:52:51.741327Z"
    }
   },
   "outputs": [
    {
     "name": "stdout",
     "output_type": "stream",
     "text": [
      "716.5673492484322\n"
     ]
    },
    {
     "data": {
      "text/plain": [
       "716.5673492484322"
      ]
     },
     "execution_count": 818,
     "metadata": {},
     "output_type": "execute_result"
    }
   ],
   "source": [
    "# latest period prediction\n",
    "RMSE(last_2m_prediction(df_RFM),sales_actual2)"
   ]
  },
  {
   "cell_type": "code",
   "execution_count": null,
   "metadata": {},
   "outputs": [],
   "source": []
  },
  {
   "cell_type": "code",
   "execution_count": null,
   "metadata": {},
   "outputs": [],
   "source": []
  },
  {
   "cell_type": "code",
   "execution_count": 405,
   "metadata": {
    "ExecuteTime": {
     "end_time": "2020-05-14T21:12:19.984553Z",
     "start_time": "2020-05-14T21:12:19.979674Z"
    }
   },
   "outputs": [
    {
     "data": {
      "text/plain": [
       "971318.6000000001"
      ]
     },
     "execution_count": 405,
     "metadata": {},
     "output_type": "execute_result"
    }
   ],
   "source": [
    "X_train.last_2_months_spend.sum()"
   ]
  },
  {
   "cell_type": "code",
   "execution_count": 637,
   "metadata": {
    "ExecuteTime": {
     "end_time": "2020-05-15T00:31:16.310837Z",
     "start_time": "2020-05-15T00:31:16.307723Z"
    }
   },
   "outputs": [
    {
     "data": {
      "text/plain": [
       "(586,)"
      ]
     },
     "execution_count": 637,
     "metadata": {},
     "output_type": "execute_result"
    }
   ],
   "source": [
    "sales_actual2.shape"
   ]
  },
  {
   "cell_type": "code",
   "execution_count": 41,
   "metadata": {
    "ExecuteTime": {
     "end_time": "2020-05-14T17:52:40.971501Z",
     "start_time": "2020-05-14T17:52:40.935735Z"
    }
   },
   "outputs": [
    {
     "data": {
      "text/html": [
       "<div>\n",
       "<style scoped>\n",
       "    .dataframe tbody tr th:only-of-type {\n",
       "        vertical-align: middle;\n",
       "    }\n",
       "\n",
       "    .dataframe tbody tr th {\n",
       "        vertical-align: top;\n",
       "    }\n",
       "\n",
       "    .dataframe thead th {\n",
       "        text-align: right;\n",
       "    }\n",
       "</style>\n",
       "<table border=\"1\" class=\"dataframe\">\n",
       "  <thead>\n",
       "    <tr style=\"text-align: right;\">\n",
       "      <th></th>\n",
       "      <th>frequency</th>\n",
       "      <th>recency</th>\n",
       "      <th>T</th>\n",
       "      <th>monetary_value</th>\n",
       "      <th>predicted_purchases</th>\n",
       "      <th>predict_avg_amount</th>\n",
       "    </tr>\n",
       "  </thead>\n",
       "  <tbody>\n",
       "    <tr>\n",
       "      <th>count</th>\n",
       "      <td>555.000000</td>\n",
       "      <td>555.000000</td>\n",
       "      <td>555.000000</td>\n",
       "      <td>555.000000</td>\n",
       "      <td>555.000000</td>\n",
       "      <td>555.000000</td>\n",
       "    </tr>\n",
       "    <tr>\n",
       "      <th>mean</th>\n",
       "      <td>2.679279</td>\n",
       "      <td>86.913514</td>\n",
       "      <td>168.073874</td>\n",
       "      <td>350.679032</td>\n",
       "      <td>1.310605</td>\n",
       "      <td>406.714912</td>\n",
       "    </tr>\n",
       "    <tr>\n",
       "      <th>std</th>\n",
       "      <td>5.421063</td>\n",
       "      <td>90.369856</td>\n",
       "      <td>81.432304</td>\n",
       "      <td>463.176525</td>\n",
       "      <td>1.563081</td>\n",
       "      <td>535.149538</td>\n",
       "    </tr>\n",
       "    <tr>\n",
       "      <th>min</th>\n",
       "      <td>0.000000</td>\n",
       "      <td>0.000000</td>\n",
       "      <td>1.000000</td>\n",
       "      <td>0.010000</td>\n",
       "      <td>0.184833</td>\n",
       "      <td>0.010000</td>\n",
       "    </tr>\n",
       "    <tr>\n",
       "      <th>25%</th>\n",
       "      <td>0.000000</td>\n",
       "      <td>0.000000</td>\n",
       "      <td>105.500000</td>\n",
       "      <td>156.613333</td>\n",
       "      <td>0.513084</td>\n",
       "      <td>179.354089</td>\n",
       "    </tr>\n",
       "    <tr>\n",
       "      <th>50%</th>\n",
       "      <td>1.000000</td>\n",
       "      <td>63.000000</td>\n",
       "      <td>191.000000</td>\n",
       "      <td>249.249412</td>\n",
       "      <td>0.945492</td>\n",
       "      <td>285.181935</td>\n",
       "    </tr>\n",
       "    <tr>\n",
       "      <th>75%</th>\n",
       "      <td>3.000000</td>\n",
       "      <td>164.000000</td>\n",
       "      <td>238.000000</td>\n",
       "      <td>372.305000</td>\n",
       "      <td>1.487267</td>\n",
       "      <td>452.831317</td>\n",
       "    </tr>\n",
       "    <tr>\n",
       "      <th>max</th>\n",
       "      <td>77.000000</td>\n",
       "      <td>267.000000</td>\n",
       "      <td>270.000000</td>\n",
       "      <td>6338.230000</td>\n",
       "      <td>21.681106</td>\n",
       "      <td>6441.186197</td>\n",
       "    </tr>\n",
       "  </tbody>\n",
       "</table>\n",
       "</div>"
      ],
      "text/plain": [
       "        frequency     recency           T  monetary_value  \\\n",
       "count  555.000000  555.000000  555.000000      555.000000   \n",
       "mean     2.679279   86.913514  168.073874      350.679032   \n",
       "std      5.421063   90.369856   81.432304      463.176525   \n",
       "min      0.000000    0.000000    1.000000        0.010000   \n",
       "25%      0.000000    0.000000  105.500000      156.613333   \n",
       "50%      1.000000   63.000000  191.000000      249.249412   \n",
       "75%      3.000000  164.000000  238.000000      372.305000   \n",
       "max     77.000000  267.000000  270.000000     6338.230000   \n",
       "\n",
       "       predicted_purchases  predict_avg_amount  \n",
       "count           555.000000          555.000000  \n",
       "mean              1.310605          406.714912  \n",
       "std               1.563081          535.149538  \n",
       "min               0.184833            0.010000  \n",
       "25%               0.513084          179.354089  \n",
       "50%               0.945492          285.181935  \n",
       "75%               1.487267          452.831317  \n",
       "max              21.681106         6441.186197  "
      ]
     },
     "execution_count": 41,
     "metadata": {},
     "output_type": "execute_result"
    }
   ],
   "source": [
    "data2.describe()"
   ]
  },
  {
   "cell_type": "code",
   "execution_count": 43,
   "metadata": {
    "ExecuteTime": {
     "end_time": "2020-05-14T17:53:16.848192Z",
     "start_time": "2020-05-14T17:53:16.640795Z"
    }
   },
   "outputs": [
    {
     "data": {
      "text/plain": [
       "<matplotlib.axes._subplots.AxesSubplot at 0x7f9a9c5c32b0>"
      ]
     },
     "execution_count": 43,
     "metadata": {},
     "output_type": "execute_result"
    },
    {
     "data": {
      "image/png": "[encoded data removed]",
      "text/plain": [
       "<Figure size 432x288 with 1 Axes>"
      ]
     },
     "metadata": {
      "needs_background": "light"
     },
     "output_type": "display_data"
    }
   ],
   "source": [
    "data2[\"monetary_value\"].hist(bins=50)"
   ]
  },
  {
   "cell_type": "code",
   "execution_count": 44,
   "metadata": {
    "ExecuteTime": {
     "end_time": "2020-05-14T17:53:31.347952Z",
     "start_time": "2020-05-14T17:53:31.142756Z"
    }
   },
   "outputs": [
    {
     "data": {
      "text/plain": [
       "<matplotlib.axes._subplots.AxesSubplot at 0x7f9a9ba54710>"
      ]
     },
     "execution_count": 44,
     "metadata": {},
     "output_type": "execute_result"
    },
    {
     "data": {
      "image/png": "[encoded data removed]",
      "text/plain": [
       "<Figure size 432x288 with 1 Axes>"
      ]
     },
     "metadata": {
      "needs_background": "light"
     },
     "output_type": "display_data"
    }
   ],
   "source": [
    "data2[\"frequency\"].hist(bins=50)"
   ]
  },
  {
   "cell_type": "code",
   "execution_count": 47,
   "metadata": {
    "ExecuteTime": {
     "end_time": "2020-05-14T17:58:24.675591Z",
     "start_time": "2020-05-14T17:58:24.524823Z"
    }
   },
   "outputs": [
    {
     "data": {
      "text/plain": [
       "<matplotlib.axes._subplots.AxesSubplot at 0x7f9a9b9c3ac8>"
      ]
     },
     "execution_count": 47,
     "metadata": {},
     "output_type": "execute_result"
    },
    {
     "data": {
      "image/png": "[encoded data removed]",
      "text/plain": [
       "<Figure size 432x288 with 1 Axes>"
      ]
     },
     "metadata": {
      "needs_background": "light"
     },
     "output_type": "display_data"
    }
   ],
   "source": [
    "data2[\"recency\"].hist(bins=10)"
   ]
  },
  {
   "cell_type": "code",
   "execution_count": 481,
   "metadata": {
    "ExecuteTime": {
     "end_time": "2020-05-14T22:10:24.722058Z",
     "start_time": "2020-05-14T22:10:24.710227Z"
    }
   },
   "outputs": [
    {
     "data": {
      "text/html": [
       "<div>\n",
       "<style scoped>\n",
       "    .dataframe tbody tr th:only-of-type {\n",
       "        vertical-align: middle;\n",
       "    }\n",
       "\n",
       "    .dataframe tbody tr th {\n",
       "        vertical-align: top;\n",
       "    }\n",
       "\n",
       "    .dataframe thead th {\n",
       "        text-align: right;\n",
       "    }\n",
       "</style>\n",
       "<table border=\"1\" class=\"dataframe\">\n",
       "  <thead>\n",
       "    <tr style=\"text-align: right;\">\n",
       "      <th></th>\n",
       "      <th>CustomerID</th>\n",
       "      <th>first_purchase_date</th>\n",
       "      <th>last_purchase_date</th>\n",
       "      <th>total_purchases</th>\n",
       "      <th>total_purchase_amount_x</th>\n",
       "      <th>last_2_months_spend</th>\n",
       "      <th>T</th>\n",
       "      <th>recency</th>\n",
       "      <th>frequency</th>\n",
       "    </tr>\n",
       "  </thead>\n",
       "  <tbody>\n",
       "    <tr>\n",
       "      <th>901</th>\n",
       "      <td>17069.0</td>\n",
       "      <td>2010-12-01</td>\n",
       "      <td>2011-09-23</td>\n",
       "      <td>9</td>\n",
       "      <td>2004.43</td>\n",
       "      <td>545.78</td>\n",
       "      <td>304</td>\n",
       "      <td>296</td>\n",
       "      <td>8</td>\n",
       "    </tr>\n",
       "  </tbody>\n",
       "</table>\n",
       "</div>"
      ],
      "text/plain": [
       "     CustomerID first_purchase_date last_purchase_date  total_purchases  \\\n",
       "901     17069.0          2010-12-01         2011-09-23                9   \n",
       "\n",
       "     total_purchase_amount_x  last_2_months_spend    T  recency  frequency  \n",
       "901                  2004.43               545.78  304      296          8  "
      ]
     },
     "execution_count": 481,
     "metadata": {},
     "output_type": "execute_result"
    }
   ],
   "source": [
    "X_train[X_train[\"CustomerID\"] == 17069]"
   ]
  },
  {
   "cell_type": "code",
   "execution_count": 482,
   "metadata": {
    "ExecuteTime": {
     "end_time": "2020-05-14T22:10:38.670702Z",
     "start_time": "2020-05-14T22:10:38.655540Z"
    }
   },
   "outputs": [
    {
     "data": {
      "text/html": [
       "<div>\n",
       "<style scoped>\n",
       "    .dataframe tbody tr th:only-of-type {\n",
       "        vertical-align: middle;\n",
       "    }\n",
       "\n",
       "    .dataframe tbody tr th {\n",
       "        vertical-align: top;\n",
       "    }\n",
       "\n",
       "    .dataframe thead th {\n",
       "        text-align: right;\n",
       "    }\n",
       "</style>\n",
       "<table border=\"1\" class=\"dataframe\">\n",
       "  <thead>\n",
       "    <tr style=\"text-align: right;\">\n",
       "      <th></th>\n",
       "      <th>CustomerID</th>\n",
       "      <th>first_purchase_date</th>\n",
       "      <th>last_purchase_date</th>\n",
       "      <th>total_purchases</th>\n",
       "      <th>total_purchase_amount_x</th>\n",
       "      <th>last_2_months_spend</th>\n",
       "      <th>T</th>\n",
       "      <th>recency</th>\n",
       "      <th>frequency</th>\n",
       "    </tr>\n",
       "  </thead>\n",
       "  <tbody>\n",
       "    <tr>\n",
       "      <th>2923</th>\n",
       "      <td>14461.0</td>\n",
       "      <td>2011-03-23</td>\n",
       "      <td>2011-07-14</td>\n",
       "      <td>3</td>\n",
       "      <td>2103.06</td>\n",
       "      <td>0.0</td>\n",
       "      <td>192</td>\n",
       "      <td>113</td>\n",
       "      <td>2</td>\n",
       "    </tr>\n",
       "  </tbody>\n",
       "</table>\n",
       "</div>"
      ],
      "text/plain": [
       "      CustomerID first_purchase_date last_purchase_date  total_purchases  \\\n",
       "2923     14461.0          2011-03-23         2011-07-14                3   \n",
       "\n",
       "      total_purchase_amount_x  last_2_months_spend    T  recency  frequency  \n",
       "2923                  2103.06                  0.0  192      113          2  "
      ]
     },
     "execution_count": 482,
     "metadata": {},
     "output_type": "execute_result"
    }
   ],
   "source": [
    "X_train[X_train[\"CustomerID\"] == 14461]"
   ]
  },
  {
   "cell_type": "code",
   "execution_count": 483,
   "metadata": {
    "ExecuteTime": {
     "end_time": "2020-05-14T22:11:25.993031Z",
     "start_time": "2020-05-14T22:11:25.988161Z"
    }
   },
   "outputs": [
    {
     "data": {
      "text/plain": [
       "frequency                8.000000\n",
       "recency                296.000000\n",
       "T                      304.000000\n",
       "monetary_value         222.714444\n",
       "predicted_purchases      1.487008\n",
       "predict_avg_amount     236.926814\n",
       "Name: 901, dtype: float64"
      ]
     },
     "execution_count": 483,
     "metadata": {},
     "output_type": "execute_result"
    }
   ],
   "source": [
    "data2.loc[901]"
   ]
  },
  {
   "cell_type": "code",
   "execution_count": 517,
   "metadata": {
    "ExecuteTime": {
     "end_time": "2020-05-14T22:30:29.612336Z",
     "start_time": "2020-05-14T22:30:29.607217Z"
    }
   },
   "outputs": [
    {
     "data": {
      "text/plain": [
       "frequency                1.000000\n",
       "recency                  7.000000\n",
       "T                      262.000000\n",
       "monetary_value         517.250000\n",
       "predicted_purchases      0.201811\n",
       "predict_avg_amount     983.244260\n",
       "Name: 1182, dtype: float64"
      ]
     },
     "execution_count": 517,
     "metadata": {},
     "output_type": "execute_result"
    }
   ],
   "source": [
    "data2.loc[1182]"
   ]
  },
  {
   "cell_type": "code",
   "execution_count": 485,
   "metadata": {
    "ExecuteTime": {
     "end_time": "2020-05-14T22:12:41.137616Z",
     "start_time": "2020-05-14T22:12:41.133656Z"
    }
   },
   "outputs": [
    {
     "data": {
      "text/plain": [
       "352.3120861071721"
      ]
     },
     "execution_count": 485,
     "metadata": {},
     "output_type": "execute_result"
    }
   ],
   "source": [
    "sales_predict[901]"
   ]
  },
  {
   "cell_type": "code",
   "execution_count": 516,
   "metadata": {
    "ExecuteTime": {
     "end_time": "2020-05-14T22:30:17.930338Z",
     "start_time": "2020-05-14T22:30:17.926996Z"
    }
   },
   "outputs": [
    {
     "data": {
      "text/plain": [
       "198.42927351225947"
      ]
     },
     "execution_count": 516,
     "metadata": {},
     "output_type": "execute_result"
    }
   ],
   "source": [
    "sales_predict[1182]"
   ]
  },
  {
   "cell_type": "code",
   "execution_count": 491,
   "metadata": {
    "ExecuteTime": {
     "end_time": "2020-05-14T22:14:51.839496Z",
     "start_time": "2020-05-14T22:14:51.835663Z"
    }
   },
   "outputs": [],
   "source": [
    "diff = (sales_predict - sales_actual2);"
   ]
  },
  {
   "cell_type": "code",
   "execution_count": 514,
   "metadata": {
    "ExecuteTime": {
     "end_time": "2020-05-14T22:25:27.857343Z",
     "start_time": "2020-05-14T22:25:27.852039Z"
    }
   },
   "outputs": [],
   "source": [
    "df2 = X_train.loc[diff[abs(diff) < 200].index,:]"
   ]
  },
  {
   "cell_type": "code",
   "execution_count": 494,
   "metadata": {
    "ExecuteTime": {
     "end_time": "2020-05-14T22:16:16.594163Z",
     "start_time": "2020-05-14T22:16:16.588792Z"
    }
   },
   "outputs": [
    {
     "data": {
      "text/plain": [
       "Int64Index([3359, 1262, 2952, 3421, 1407, 3533, 2040, 3366, 1615, 2468,\n",
       "            ...\n",
       "            1735, 3215, 2202,  176, 1595, 3476, 2314, 2940,  767, 1555],\n",
       "           dtype='int64', length=838)"
      ]
     },
     "execution_count": 494,
     "metadata": {},
     "output_type": "execute_result"
    }
   ],
   "source": [
    "diff[abs(diff) < 100].index"
   ]
  },
  {
   "cell_type": "code",
   "execution_count": 518,
   "metadata": {
    "ExecuteTime": {
     "end_time": "2020-05-14T22:32:56.375357Z",
     "start_time": "2020-05-14T22:32:56.356521Z"
    }
   },
   "outputs": [
    {
     "name": "stderr",
     "output_type": "stream",
     "text": [
      "/home/vince/anaconda3/lib/python3.6/site-packages/ipykernel_launcher.py:1: UserWarning: Boolean Series key will be reindexed to match DataFrame index.\n",
      "  \"\"\"Entry point for launching an IPython kernel.\n"
     ]
    },
    {
     "data": {
      "text/html": [
       "<div>\n",
       "<style scoped>\n",
       "    .dataframe tbody tr th:only-of-type {\n",
       "        vertical-align: middle;\n",
       "    }\n",
       "\n",
       "    .dataframe tbody tr th {\n",
       "        vertical-align: top;\n",
       "    }\n",
       "\n",
       "    .dataframe thead th {\n",
       "        text-align: right;\n",
       "    }\n",
       "</style>\n",
       "<table border=\"1\" class=\"dataframe\">\n",
       "  <thead>\n",
       "    <tr style=\"text-align: right;\">\n",
       "      <th></th>\n",
       "      <th>CustomerID</th>\n",
       "      <th>first_purchase_date</th>\n",
       "      <th>last_purchase_date</th>\n",
       "      <th>total_purchases</th>\n",
       "      <th>total_purchase_amount_x</th>\n",
       "      <th>last_2_months_spend</th>\n",
       "      <th>T</th>\n",
       "      <th>recency</th>\n",
       "      <th>frequency</th>\n",
       "    </tr>\n",
       "  </thead>\n",
       "  <tbody>\n",
       "    <tr>\n",
       "      <th>2596</th>\n",
       "      <td>17848.0</td>\n",
       "      <td>2010-12-16</td>\n",
       "      <td>2011-09-19</td>\n",
       "      <td>9</td>\n",
       "      <td>901.20</td>\n",
       "      <td>228.32</td>\n",
       "      <td>289</td>\n",
       "      <td>277</td>\n",
       "      <td>8</td>\n",
       "    </tr>\n",
       "    <tr>\n",
       "      <th>2106</th>\n",
       "      <td>15304.0</td>\n",
       "      <td>2010-12-06</td>\n",
       "      <td>2011-09-15</td>\n",
       "      <td>9</td>\n",
       "      <td>568.40</td>\n",
       "      <td>90.60</td>\n",
       "      <td>299</td>\n",
       "      <td>283</td>\n",
       "      <td>8</td>\n",
       "    </tr>\n",
       "    <tr>\n",
       "      <th>2683</th>\n",
       "      <td>16359.0</td>\n",
       "      <td>2011-01-12</td>\n",
       "      <td>2011-09-06</td>\n",
       "      <td>9</td>\n",
       "      <td>1120.68</td>\n",
       "      <td>164.40</td>\n",
       "      <td>262</td>\n",
       "      <td>237</td>\n",
       "      <td>8</td>\n",
       "    </tr>\n",
       "    <tr>\n",
       "      <th>2505</th>\n",
       "      <td>13491.0</td>\n",
       "      <td>2010-12-02</td>\n",
       "      <td>2011-07-15</td>\n",
       "      <td>9</td>\n",
       "      <td>1088.45</td>\n",
       "      <td>0.00</td>\n",
       "      <td>303</td>\n",
       "      <td>225</td>\n",
       "      <td>8</td>\n",
       "    </tr>\n",
       "    <tr>\n",
       "      <th>863</th>\n",
       "      <td>12877.0</td>\n",
       "      <td>2010-12-16</td>\n",
       "      <td>2011-09-22</td>\n",
       "      <td>10</td>\n",
       "      <td>1160.37</td>\n",
       "      <td>201.54</td>\n",
       "      <td>289</td>\n",
       "      <td>280</td>\n",
       "      <td>9</td>\n",
       "    </tr>\n",
       "  </tbody>\n",
       "</table>\n",
       "</div>"
      ],
      "text/plain": [
       "      CustomerID first_purchase_date last_purchase_date  total_purchases  \\\n",
       "2596     17848.0          2010-12-16         2011-09-19                9   \n",
       "2106     15304.0          2010-12-06         2011-09-15                9   \n",
       "2683     16359.0          2011-01-12         2011-09-06                9   \n",
       "2505     13491.0          2010-12-02         2011-07-15                9   \n",
       "863      12877.0          2010-12-16         2011-09-22               10   \n",
       "\n",
       "      total_purchase_amount_x  last_2_months_spend    T  recency  frequency  \n",
       "2596                   901.20               228.32  289      277          8  \n",
       "2106                   568.40                90.60  299      283          8  \n",
       "2683                  1120.68               164.40  262      237          8  \n",
       "2505                  1088.45                 0.00  303      225          8  \n",
       "863                   1160.37               201.54  289      280          9  "
      ]
     },
     "execution_count": 518,
     "metadata": {},
     "output_type": "execute_result"
    }
   ],
   "source": [
    "df2[df2[\"total_purchases\"] >8 ][df2[\"total_purchase_amount_x\"] < 1200]"
   ]
  },
  {
   "cell_type": "code",
   "execution_count": 626,
   "metadata": {
    "ExecuteTime": {
     "end_time": "2020-05-15T00:28:36.374003Z",
     "start_time": "2020-05-15T00:28:36.368038Z"
    }
   },
   "outputs": [
    {
     "data": {
      "text/plain": [
       "1666           NaN\n",
       "3575           NaN\n",
       "1535    239.981901\n",
       "606            NaN\n",
       "1249    -90.468356\n",
       "           ...    \n",
       "1952     10.862402\n",
       "3016           NaN\n",
       "1679     10.235991\n",
       "681      26.151571\n",
       "2881           NaN\n",
       "Length: 586, dtype: float64"
      ]
     },
     "execution_count": 626,
     "metadata": {},
     "output_type": "execute_result"
    }
   ],
   "source": [
    "sales_predict - sales_actual2"
   ]
  },
  {
   "cell_type": "code",
   "execution_count": null,
   "metadata": {},
   "outputs": [],
   "source": []
  }
 ],
 "metadata": {
  "kernelspec": {
   "display_name": "Python 3",
   "language": "python",
   "name": "python3"
  },
  "language_info": {
   "codemirror_mode": {
    "name": "ipython",
    "version": 3
   },
   "file_extension": ".py",
   "mimetype": "text/x-python",
   "name": "python",
   "nbconvert_exporter": "python",
   "pygments_lexer": "ipython3",
   "version": "3.6.5"
  },
  "toc": {
   "base_numbering": 1,
   "nav_menu": {},
   "number_sections": true,
   "sideBar": true,
   "skip_h1_title": false,
   "title_cell": "Table of Contents",
   "title_sidebar": "Contents",
   "toc_cell": false,
   "toc_position": {
    "height": "calc(100% - 180px)",
    "left": "10px",
    "top": "150px",
    "width": "426.667px"
   },
   "toc_section_display": true,
   "toc_window_display": true
  },
  "varInspector": {
   "cols": {
    "lenName": 16,
    "lenType": 16,
    "lenVar": 40
   },
   "kernels_config": {
    "python": {
     "delete_cmd_postfix": "",
     "delete_cmd_prefix": "del ",
     "library": "var_list.py",
     "varRefreshCmd": "print(var_dic_list())"
    },
    "r": {
     "delete_cmd_postfix": ") ",
     "delete_cmd_prefix": "rm(",
     "library": "var_list.r",
     "varRefreshCmd": "cat(var_dic_list()) "
    }
   },
   "types_to_exclude": [
    "module",
    "function",
    "builtin_function_or_method",
    "instance",
    "_Feature"
   ],
   "window_display": false
  }
 },
 "nbformat": 4,
 "nbformat_minor": 4
}
