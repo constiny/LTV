{
 "cells": [
  {
   "cell_type": "code",
   "execution_count": 33,
   "metadata": {
    "ExecuteTime": {
     "end_time": "2020-05-15T18:32:56.045019Z",
     "start_time": "2020-05-15T18:32:56.038997Z"
    }
   },
   "outputs": [],
   "source": [
    "import numpy as np\n",
    "import pandas as pd\n",
    "import matplotlib.pyplot as plt\n",
    "import warnings\n",
    "warnings.filterwarnings('ignore')\n",
    "\n",
    "plt.style.use('ggplot')\n",
    "\n",
    "from sklearn.model_selection import train_test_split, GridSearchCV\n",
    "%matplotlib inline"
   ]
  },
  {
   "cell_type": "markdown",
   "metadata": {},
   "source": [
    "# Data loading"
   ]
  },
  {
   "cell_type": "code",
   "execution_count": 34,
   "metadata": {
    "ExecuteTime": {
     "end_time": "2020-05-15T18:33:07.613599Z",
     "start_time": "2020-05-15T18:33:07.596605Z"
    }
   },
   "outputs": [
    {
     "data": {
      "text/html": [
       "<div>\n",
       "<style scoped>\n",
       "    .dataframe tbody tr th:only-of-type {\n",
       "        vertical-align: middle;\n",
       "    }\n",
       "\n",
       "    .dataframe tbody tr th {\n",
       "        vertical-align: top;\n",
       "    }\n",
       "\n",
       "    .dataframe thead th {\n",
       "        text-align: right;\n",
       "    }\n",
       "</style>\n",
       "<table border=\"1\" class=\"dataframe\">\n",
       "  <thead>\n",
       "    <tr style=\"text-align: right;\">\n",
       "      <th></th>\n",
       "      <th>CustomerID</th>\n",
       "      <th>first_purchase_date</th>\n",
       "      <th>last_purchase_date</th>\n",
       "      <th>total_purchases</th>\n",
       "      <th>total_purchase_amount_x</th>\n",
       "      <th>last_2_months_spend</th>\n",
       "      <th>RFM</th>\n",
       "      <th>next_2_months_spend</th>\n",
       "    </tr>\n",
       "  </thead>\n",
       "  <tbody>\n",
       "    <tr>\n",
       "      <th>3386</th>\n",
       "      <td>13584.0</td>\n",
       "      <td>2011-02-06</td>\n",
       "      <td>2011-02-06</td>\n",
       "      <td>1</td>\n",
       "      <td>142.40</td>\n",
       "      <td>0.0</td>\n",
       "      <td>1-1-1</td>\n",
       "      <td>0.00</td>\n",
       "    </tr>\n",
       "    <tr>\n",
       "      <th>343</th>\n",
       "      <td>14553.0</td>\n",
       "      <td>2011-01-04</td>\n",
       "      <td>2011-05-05</td>\n",
       "      <td>2</td>\n",
       "      <td>312.32</td>\n",
       "      <td>0.0</td>\n",
       "      <td>1-1-2</td>\n",
       "      <td>546.95</td>\n",
       "    </tr>\n",
       "    <tr>\n",
       "      <th>1588</th>\n",
       "      <td>17929.0</td>\n",
       "      <td>2011-02-04</td>\n",
       "      <td>2011-09-23</td>\n",
       "      <td>4</td>\n",
       "      <td>698.50</td>\n",
       "      <td>263.5</td>\n",
       "      <td>2-1-1</td>\n",
       "      <td>136.00</td>\n",
       "    </tr>\n",
       "    <tr>\n",
       "      <th>1601</th>\n",
       "      <td>15053.0</td>\n",
       "      <td>2011-03-03</td>\n",
       "      <td>2011-07-06</td>\n",
       "      <td>2</td>\n",
       "      <td>478.60</td>\n",
       "      <td>0.0</td>\n",
       "      <td>1-1-1</td>\n",
       "      <td>0.00</td>\n",
       "    </tr>\n",
       "    <tr>\n",
       "      <th>678</th>\n",
       "      <td>13659.0</td>\n",
       "      <td>2011-01-23</td>\n",
       "      <td>2011-05-26</td>\n",
       "      <td>3</td>\n",
       "      <td>1550.85</td>\n",
       "      <td>0.0</td>\n",
       "      <td>1-1-1</td>\n",
       "      <td>0.00</td>\n",
       "    </tr>\n",
       "  </tbody>\n",
       "</table>\n",
       "</div>"
      ],
      "text/plain": [
       "      CustomerID first_purchase_date last_purchase_date  total_purchases  \\\n",
       "3386     13584.0          2011-02-06         2011-02-06                1   \n",
       "343      14553.0          2011-01-04         2011-05-05                2   \n",
       "1588     17929.0          2011-02-04         2011-09-23                4   \n",
       "1601     15053.0          2011-03-03         2011-07-06                2   \n",
       "678      13659.0          2011-01-23         2011-05-26                3   \n",
       "\n",
       "      total_purchase_amount_x  last_2_months_spend    RFM  next_2_months_spend  \n",
       "3386                   142.40                  0.0  1-1-1                 0.00  \n",
       "343                    312.32                  0.0  1-1-2               546.95  \n",
       "1588                   698.50                263.5  2-1-1               136.00  \n",
       "1601                   478.60                  0.0  1-1-1                 0.00  \n",
       "678                   1550.85                  0.0  1-1-1                 0.00  "
      ]
     },
     "execution_count": 34,
     "metadata": {},
     "output_type": "execute_result"
    }
   ],
   "source": [
    "df_RFM = pd.read_csv(\"fdb_RFM3_train.csv\", index_col=0);df_RFM.head()"
   ]
  },
  {
   "cell_type": "code",
   "execution_count": 35,
   "metadata": {
    "ExecuteTime": {
     "end_time": "2020-05-15T18:33:08.260140Z",
     "start_time": "2020-05-15T18:33:08.257125Z"
    }
   },
   "outputs": [],
   "source": [
    "y1 = df_RFM.RFM\n",
    "y2 = df_RFM.next_2_months_spend\n",
    "X = df_RFM.iloc[:,:-2]"
   ]
  },
  {
   "cell_type": "code",
   "execution_count": 36,
   "metadata": {
    "ExecuteTime": {
     "end_time": "2020-05-15T18:33:09.077472Z",
     "start_time": "2020-05-15T18:33:09.067165Z"
    }
   },
   "outputs": [],
   "source": [
    "# X_train, y_train, X_test, y_test = train_test_split(X, y1, random_state=42, stratefy)\"\"\n",
    "X_train, X_test, y_train, y_test = train_test_split(X, y1, shuffle=True, test_size=0.2, random_state=42)\n",
    "X_train2, X_test2, y_train2, y_test2 = train_test_split(X, y2, shuffle=True, test_size=0.2, random_state=42)"
   ]
  },
  {
   "cell_type": "code",
   "execution_count": 37,
   "metadata": {
    "ExecuteTime": {
     "end_time": "2020-05-15T18:33:09.674556Z",
     "start_time": "2020-05-15T18:33:09.670300Z"
    },
    "code_folding": [
     0
    ]
   },
   "outputs": [],
   "source": [
    "def df_transform(df):\n",
    "    df_RFM = df\n",
    "    df_RFM[\"T\"] = (pd.to_datetime(\"2011-10-01\") - pd.to_datetime(\n",
    "                    df_RFM[\"first_purchase_date\"]) ).apply(lambda x:x.days)\n",
    "    df_RFM[\"recency\"] = (pd.to_datetime(df_RFM[\"last_purchase_date\"])  \n",
    "                         - pd.to_datetime(df_RFM[\"first_purchase_date\"])).apply(lambda x:x.days)\n",
    "    df_RFM[\"frequency\"] = (df_RFM[\"total_purchases\"] - 1)\n",
    "    data = df_RFM[[\"frequency\", \"recency\", \"T\", \"total_purchase_amount_x\"]]\n",
    "    data[\"monetary_value\"] = data[\"total_purchase_amount_x\"] / (1 + data[\"frequency\"])\n",
    "    data[\"monetary_value\"] = data[\"monetary_value\"].apply(lambda x:0.001 if x<=0 else x)\n",
    "    return data"
   ]
  },
  {
   "cell_type": "code",
   "execution_count": 38,
   "metadata": {
    "ExecuteTime": {
     "end_time": "2020-05-15T18:33:10.453825Z",
     "start_time": "2020-05-15T18:33:10.398283Z"
    }
   },
   "outputs": [],
   "source": [
    "# train model\n",
    "data = df_transform(X_train2)"
   ]
  },
  {
   "cell_type": "markdown",
   "metadata": {},
   "source": [
    "# LTV"
   ]
  },
  {
   "cell_type": "markdown",
   "metadata": {},
   "source": [
    "## Pareto-NPD"
   ]
  },
  {
   "cell_type": "code",
   "execution_count": 561,
   "metadata": {
    "ExecuteTime": {
     "end_time": "2020-05-15T00:18:54.741655Z",
     "start_time": "2020-05-15T00:18:54.590418Z"
    }
   },
   "outputs": [
    {
     "data": {
      "text/html": [
       "<div>\n",
       "<style scoped>\n",
       "    .dataframe tbody tr th:only-of-type {\n",
       "        vertical-align: middle;\n",
       "    }\n",
       "\n",
       "    .dataframe tbody tr th {\n",
       "        vertical-align: top;\n",
       "    }\n",
       "\n",
       "    .dataframe thead th {\n",
       "        text-align: right;\n",
       "    }\n",
       "</style>\n",
       "<table border=\"1\" class=\"dataframe\">\n",
       "  <thead>\n",
       "    <tr style=\"text-align: right;\">\n",
       "      <th></th>\n",
       "      <th>coef</th>\n",
       "      <th>se(coef)</th>\n",
       "      <th>lower 95% bound</th>\n",
       "      <th>upper 95% bound</th>\n",
       "    </tr>\n",
       "  </thead>\n",
       "  <tbody>\n",
       "    <tr>\n",
       "      <th>r</th>\n",
       "      <td>0.633748</td>\n",
       "      <td>0.023724</td>\n",
       "      <td>0.587248</td>\n",
       "      <td>0.680248</td>\n",
       "    </tr>\n",
       "    <tr>\n",
       "      <th>alpha</th>\n",
       "      <td>43.215597</td>\n",
       "      <td>2.183869</td>\n",
       "      <td>38.935215</td>\n",
       "      <td>47.495980</td>\n",
       "    </tr>\n",
       "    <tr>\n",
       "      <th>a</th>\n",
       "      <td>0.011330</td>\n",
       "      <td>0.004182</td>\n",
       "      <td>0.003133</td>\n",
       "      <td>0.019527</td>\n",
       "    </tr>\n",
       "    <tr>\n",
       "      <th>b</th>\n",
       "      <td>0.158515</td>\n",
       "      <td>0.046874</td>\n",
       "      <td>0.066642</td>\n",
       "      <td>0.250388</td>\n",
       "    </tr>\n",
       "  </tbody>\n",
       "</table>\n",
       "</div>"
      ],
      "text/plain": [
       "            coef  se(coef)  lower 95% bound  upper 95% bound\n",
       "r       0.633748  0.023724         0.587248         0.680248\n",
       "alpha  43.215597  2.183869        38.935215        47.495980\n",
       "a       0.011330  0.004182         0.003133         0.019527\n",
       "b       0.158515  0.046874         0.066642         0.250388"
      ]
     },
     "execution_count": 561,
     "metadata": {},
     "output_type": "execute_result"
    }
   ],
   "source": [
    "# Alternative method for LTV\n",
    "from lifetimes import BetaGeoFitter\n",
    "\n",
    "bgf = BetaGeoFitter(penalizer_coef=0.05)\n",
    "bgf.fit(data['frequency'], data['recency'], data['T'])\n",
    "\n",
    "bgf.summary"
   ]
  },
  {
   "cell_type": "markdown",
   "metadata": {},
   "source": [
    "----"
   ]
  },
  {
   "cell_type": "code",
   "execution_count": 593,
   "metadata": {
    "ExecuteTime": {
     "end_time": "2020-05-15T00:22:16.465720Z",
     "start_time": "2020-05-15T00:21:48.931978Z"
    }
   },
   "outputs": [
    {
     "data": {
      "text/plain": [
       "<lifetimes.BetaGeoBetaBinomFitter: fitted with 2340 subjects, alpha: 0.22, beta: 1.87, delta: 0.77, gamma: 0.07>"
      ]
     },
     "execution_count": 593,
     "metadata": {},
     "output_type": "execute_result"
    }
   ],
   "source": [
    "# Alternative method for LTV\n",
    "from lifetimes.fitters.beta_geo_beta_binom_fitter import BetaGeoBetaBinomFitter\n",
    "\n",
    "bgf = BetaGeoBetaBinomFitter(penalizer_coef=0.03)\n",
    "bgf.fit(data['frequency'], data['recency'], data['T'])"
   ]
  },
  {
   "cell_type": "code",
   "execution_count": 421,
   "metadata": {
    "ExecuteTime": {
     "end_time": "2020-05-14T21:14:34.296280Z",
     "start_time": "2020-05-14T21:14:34.282452Z"
    }
   },
   "outputs": [
    {
     "data": {
      "text/html": [
       "<div>\n",
       "<style scoped>\n",
       "    .dataframe tbody tr th:only-of-type {\n",
       "        vertical-align: middle;\n",
       "    }\n",
       "\n",
       "    .dataframe tbody tr th {\n",
       "        vertical-align: top;\n",
       "    }\n",
       "\n",
       "    .dataframe thead th {\n",
       "        text-align: right;\n",
       "    }\n",
       "</style>\n",
       "<table border=\"1\" class=\"dataframe\">\n",
       "  <thead>\n",
       "    <tr style=\"text-align: right;\">\n",
       "      <th></th>\n",
       "      <th>coef</th>\n",
       "      <th>se(coef)</th>\n",
       "      <th>lower 95% bound</th>\n",
       "      <th>upper 95% bound</th>\n",
       "    </tr>\n",
       "  </thead>\n",
       "  <tbody>\n",
       "    <tr>\n",
       "      <th>alpha</th>\n",
       "      <td>0.217026</td>\n",
       "      <td>0.006755</td>\n",
       "      <td>0.203786</td>\n",
       "      <td>0.230266</td>\n",
       "    </tr>\n",
       "    <tr>\n",
       "      <th>beta</th>\n",
       "      <td>1.870713</td>\n",
       "      <td>0.059985</td>\n",
       "      <td>1.753142</td>\n",
       "      <td>1.988284</td>\n",
       "    </tr>\n",
       "    <tr>\n",
       "      <th>gamma</th>\n",
       "      <td>0.068338</td>\n",
       "      <td>0.004419</td>\n",
       "      <td>0.059678</td>\n",
       "      <td>0.076998</td>\n",
       "    </tr>\n",
       "    <tr>\n",
       "      <th>delta</th>\n",
       "      <td>0.773649</td>\n",
       "      <td>0.057392</td>\n",
       "      <td>0.661160</td>\n",
       "      <td>0.886137</td>\n",
       "    </tr>\n",
       "  </tbody>\n",
       "</table>\n",
       "</div>"
      ],
      "text/plain": [
       "           coef  se(coef)  lower 95% bound  upper 95% bound\n",
       "alpha  0.217026  0.006755         0.203786         0.230266\n",
       "beta   1.870713  0.059985         1.753142         1.988284\n",
       "gamma  0.068338  0.004419         0.059678         0.076998\n",
       "delta  0.773649  0.057392         0.661160         0.886137"
      ]
     },
     "execution_count": 421,
     "metadata": {},
     "output_type": "execute_result"
    }
   ],
   "source": [
    "bgf.summary"
   ]
  },
  {
   "cell_type": "markdown",
   "metadata": {},
   "source": [
    "----"
   ]
  },
  {
   "cell_type": "code",
   "execution_count": 719,
   "metadata": {
    "ExecuteTime": {
     "end_time": "2020-05-15T00:53:33.652296Z",
     "start_time": "2020-05-15T00:53:33.649195Z"
    }
   },
   "outputs": [],
   "source": [
    "from lifetimes.fitters.pareto_nbd_fitter import ParetoNBDFitter"
   ]
  },
  {
   "cell_type": "code",
   "execution_count": 860,
   "metadata": {
    "ExecuteTime": {
     "end_time": "2020-05-15T05:25:10.963904Z",
     "start_time": "2020-05-15T05:25:09.114660Z"
    }
   },
   "outputs": [
    {
     "data": {
      "text/plain": [
       "<lifetimes.ParetoNBDFitter: fitted with 2926 subjects, alpha: 59.19, beta: 7.81, r: 0.88, s: 0.03>"
      ]
     },
     "execution_count": 860,
     "metadata": {},
     "output_type": "execute_result"
    }
   ],
   "source": [
    "# Pareto-NBD Model\n",
    "bgf = ParetoNBDFitter(penalizer_coef=0.04)\n",
    "\n",
    "bgf.fit(data['frequency'], data['recency'], data['T'])"
   ]
  },
  {
   "cell_type": "markdown",
   "metadata": {},
   "source": [
    "----"
   ]
  },
  {
   "cell_type": "code",
   "execution_count": 721,
   "metadata": {
    "ExecuteTime": {
     "end_time": "2020-05-15T00:53:44.638147Z",
     "start_time": "2020-05-15T00:53:39.317108Z"
    }
   },
   "outputs": [
    {
     "data": {
      "text/plain": [
       "<matplotlib.axes._subplots.AxesSubplot at 0x7f9a81057470>"
      ]
     },
     "execution_count": 721,
     "metadata": {},
     "output_type": "execute_result"
    },
    {
     "data": {
      "image/png": "[encoded data removed]",
      "text/plain": [
       "<Figure size 432x288 with 2 Axes>"
      ]
     },
     "metadata": {
      "needs_background": "light"
     },
     "output_type": "display_data"
    }
   ],
   "source": [
    "from lifetimes.plotting import plot_frequency_recency_matrix\n",
    "\n",
    "plot_frequency_recency_matrix(bgf,\n",
    "                             ylabel=\"Customer's Age at Latest Purchase\")"
   ]
  },
  {
   "cell_type": "code",
   "execution_count": 722,
   "metadata": {
    "ExecuteTime": {
     "end_time": "2020-05-15T00:53:50.275878Z",
     "start_time": "2020-05-15T00:53:45.736467Z"
    }
   },
   "outputs": [
    {
     "data": {
      "text/plain": [
       "<matplotlib.axes._subplots.AxesSubplot at 0x7f9a81105ef0>"
      ]
     },
     "execution_count": 722,
     "metadata": {},
     "output_type": "execute_result"
    },
    {
     "data": {
      "image/png": "[encoded data removed]",
      "text/plain": [
       "<Figure size 432x288 with 2 Axes>"
      ]
     },
     "metadata": {
      "needs_background": "light"
     },
     "output_type": "display_data"
    }
   ],
   "source": [
    "from lifetimes.plotting import plot_probability_alive_matrix\n",
    "\n",
    "plot_probability_alive_matrix(bgf,\n",
    "                             ylabel=\"Customer's Age at Latest Purchase\")"
   ]
  },
  {
   "cell_type": "code",
   "execution_count": 746,
   "metadata": {
    "ExecuteTime": {
     "end_time": "2020-05-15T00:55:55.458913Z",
     "start_time": "2020-05-15T00:55:55.432234Z"
    }
   },
   "outputs": [
    {
     "data": {
      "text/html": [
       "<div>\n",
       "<style scoped>\n",
       "    .dataframe tbody tr th:only-of-type {\n",
       "        vertical-align: middle;\n",
       "    }\n",
       "\n",
       "    .dataframe tbody tr th {\n",
       "        vertical-align: top;\n",
       "    }\n",
       "\n",
       "    .dataframe thead th {\n",
       "        text-align: right;\n",
       "    }\n",
       "</style>\n",
       "<table border=\"1\" class=\"dataframe\">\n",
       "  <thead>\n",
       "    <tr style=\"text-align: right;\">\n",
       "      <th></th>\n",
       "      <th>frequency</th>\n",
       "      <th>recency</th>\n",
       "      <th>T</th>\n",
       "      <th>predicted_purchases</th>\n",
       "    </tr>\n",
       "  </thead>\n",
       "  <tbody>\n",
       "    <tr>\n",
       "      <th>1054</th>\n",
       "      <td>32</td>\n",
       "      <td>302</td>\n",
       "      <td>303</td>\n",
       "      <td>5.524512</td>\n",
       "    </tr>\n",
       "    <tr>\n",
       "      <th>1530</th>\n",
       "      <td>34</td>\n",
       "      <td>302</td>\n",
       "      <td>303</td>\n",
       "      <td>5.860714</td>\n",
       "    </tr>\n",
       "    <tr>\n",
       "      <th>3254</th>\n",
       "      <td>34</td>\n",
       "      <td>288</td>\n",
       "      <td>299</td>\n",
       "      <td>5.915858</td>\n",
       "    </tr>\n",
       "    <tr>\n",
       "      <th>3336</th>\n",
       "      <td>34</td>\n",
       "      <td>276</td>\n",
       "      <td>285</td>\n",
       "      <td>6.158441</td>\n",
       "    </tr>\n",
       "    <tr>\n",
       "      <th>3610</th>\n",
       "      <td>83</td>\n",
       "      <td>301</td>\n",
       "      <td>304</td>\n",
       "      <td>14.054872</td>\n",
       "    </tr>\n",
       "  </tbody>\n",
       "</table>\n",
       "</div>"
      ],
      "text/plain": [
       "      frequency  recency    T  predicted_purchases\n",
       "1054         32      302  303             5.524512\n",
       "1530         34      302  303             5.860714\n",
       "3254         34      288  299             5.915858\n",
       "3336         34      276  285             6.158441\n",
       "3610         83      301  304            14.054872"
      ]
     },
     "execution_count": 746,
     "metadata": {},
     "output_type": "execute_result"
    }
   ],
   "source": [
    "t = 61\n",
    "data['predicted_purchases'] = bgf.conditional_expected_number_of_purchases_up_to_time(t, data['frequency'], data['recency'], data['T'])\n",
    "data.sort_values(by='predicted_purchases').tail(5)"
   ]
  },
  {
   "cell_type": "code",
   "execution_count": 724,
   "metadata": {
    "ExecuteTime": {
     "end_time": "2020-05-15T00:53:54.347422Z",
     "start_time": "2020-05-15T00:53:53.672986Z"
    }
   },
   "outputs": [
    {
     "data": {
      "text/plain": [
       "<matplotlib.axes._subplots.AxesSubplot at 0x7f9a7fe4d6a0>"
      ]
     },
     "execution_count": 724,
     "metadata": {},
     "output_type": "execute_result"
    },
    {
     "data": {
      "image/png": "[encoded data removed]",
      "text/plain": [
       "<Figure size 432x288 with 1 Axes>"
      ]
     },
     "metadata": {
      "needs_background": "light"
     },
     "output_type": "display_data"
    }
   ],
   "source": [
    "from lifetimes.plotting import plot_period_transactions\n",
    "plot_period_transactions(bgf)"
   ]
  },
  {
   "cell_type": "markdown",
   "metadata": {},
   "source": [
    "## Gamma-Gamma"
   ]
  },
  {
   "cell_type": "code",
   "execution_count": 748,
   "metadata": {
    "ExecuteTime": {
     "end_time": "2020-05-15T00:56:27.344631Z",
     "start_time": "2020-05-15T00:56:27.338422Z"
    }
   },
   "outputs": [],
   "source": [
    "data2 = df_RFM[[\"frequency\", \"recency\", \"T\", \"total_purchase_amount_x\"]]\n",
    "data2[\"monetary_value\"] = data2[\"total_purchase_amount_x\"] / (1 + data2[\"frequency\"])"
   ]
  },
  {
   "cell_type": "code",
   "execution_count": 749,
   "metadata": {
    "ExecuteTime": {
     "end_time": "2020-05-15T00:56:28.865127Z",
     "start_time": "2020-05-15T00:56:28.859393Z"
    }
   },
   "outputs": [],
   "source": [
    "data2 = data2[[\"frequency\", \"recency\", \"T\", \"monetary_value\"]]\n",
    "data2[\"monetary_value\"] = data2[\"monetary_value\"].apply(lambda x:0.001 if x<=0 else x)"
   ]
  },
  {
   "cell_type": "code",
   "execution_count": 727,
   "metadata": {
    "ExecuteTime": {
     "end_time": "2020-05-15T00:53:59.434794Z",
     "start_time": "2020-05-15T00:53:59.426148Z"
    }
   },
   "outputs": [
    {
     "data": {
      "text/html": [
       "<div>\n",
       "<style scoped>\n",
       "    .dataframe tbody tr th:only-of-type {\n",
       "        vertical-align: middle;\n",
       "    }\n",
       "\n",
       "    .dataframe tbody tr th {\n",
       "        vertical-align: top;\n",
       "    }\n",
       "\n",
       "    .dataframe thead th {\n",
       "        text-align: right;\n",
       "    }\n",
       "</style>\n",
       "<table border=\"1\" class=\"dataframe\">\n",
       "  <thead>\n",
       "    <tr style=\"text-align: right;\">\n",
       "      <th></th>\n",
       "      <th>frequency</th>\n",
       "      <th>recency</th>\n",
       "      <th>T</th>\n",
       "      <th>monetary_value</th>\n",
       "    </tr>\n",
       "  </thead>\n",
       "  <tbody>\n",
       "    <tr>\n",
       "      <th>frequency</th>\n",
       "      <td>1.000000</td>\n",
       "      <td>0.561654</td>\n",
       "      <td>0.344186</td>\n",
       "      <td>0.117757</td>\n",
       "    </tr>\n",
       "    <tr>\n",
       "      <th>recency</th>\n",
       "      <td>0.561654</td>\n",
       "      <td>1.000000</td>\n",
       "      <td>0.622771</td>\n",
       "      <td>0.084837</td>\n",
       "    </tr>\n",
       "    <tr>\n",
       "      <th>T</th>\n",
       "      <td>0.344186</td>\n",
       "      <td>0.622771</td>\n",
       "      <td>1.000000</td>\n",
       "      <td>-0.036882</td>\n",
       "    </tr>\n",
       "    <tr>\n",
       "      <th>monetary_value</th>\n",
       "      <td>0.117757</td>\n",
       "      <td>0.084837</td>\n",
       "      <td>-0.036882</td>\n",
       "      <td>1.000000</td>\n",
       "    </tr>\n",
       "  </tbody>\n",
       "</table>\n",
       "</div>"
      ],
      "text/plain": [
       "                frequency   recency         T  monetary_value\n",
       "frequency        1.000000  0.561654  0.344186        0.117757\n",
       "recency          0.561654  1.000000  0.622771        0.084837\n",
       "T                0.344186  0.622771  1.000000       -0.036882\n",
       "monetary_value   0.117757  0.084837 -0.036882        1.000000"
      ]
     },
     "execution_count": 727,
     "metadata": {},
     "output_type": "execute_result"
    }
   ],
   "source": [
    "data2.corr()"
   ]
  },
  {
   "cell_type": "code",
   "execution_count": 728,
   "metadata": {
    "ExecuteTime": {
     "end_time": "2020-05-15T00:54:01.740141Z",
     "start_time": "2020-05-15T00:54:01.731106Z"
    }
   },
   "outputs": [
    {
     "data": {
      "text/html": [
       "<div>\n",
       "<style scoped>\n",
       "    .dataframe tbody tr th:only-of-type {\n",
       "        vertical-align: middle;\n",
       "    }\n",
       "\n",
       "    .dataframe tbody tr th {\n",
       "        vertical-align: top;\n",
       "    }\n",
       "\n",
       "    .dataframe thead th {\n",
       "        text-align: right;\n",
       "    }\n",
       "</style>\n",
       "<table border=\"1\" class=\"dataframe\">\n",
       "  <thead>\n",
       "    <tr style=\"text-align: right;\">\n",
       "      <th></th>\n",
       "      <th>frequency</th>\n",
       "      <th>recency</th>\n",
       "      <th>T</th>\n",
       "      <th>monetary_value</th>\n",
       "    </tr>\n",
       "  </thead>\n",
       "  <tbody>\n",
       "    <tr>\n",
       "      <th>815</th>\n",
       "      <td>0</td>\n",
       "      <td>0</td>\n",
       "      <td>8</td>\n",
       "      <td>344.330000</td>\n",
       "    </tr>\n",
       "    <tr>\n",
       "      <th>403</th>\n",
       "      <td>1</td>\n",
       "      <td>163</td>\n",
       "      <td>167</td>\n",
       "      <td>303.875000</td>\n",
       "    </tr>\n",
       "    <tr>\n",
       "      <th>1519</th>\n",
       "      <td>3</td>\n",
       "      <td>126</td>\n",
       "      <td>178</td>\n",
       "      <td>230.705000</td>\n",
       "    </tr>\n",
       "    <tr>\n",
       "      <th>2544</th>\n",
       "      <td>1</td>\n",
       "      <td>118</td>\n",
       "      <td>191</td>\n",
       "      <td>271.360000</td>\n",
       "    </tr>\n",
       "    <tr>\n",
       "      <th>2279</th>\n",
       "      <td>0</td>\n",
       "      <td>0</td>\n",
       "      <td>80</td>\n",
       "      <td>305.020000</td>\n",
       "    </tr>\n",
       "    <tr>\n",
       "      <th>...</th>\n",
       "      <td>...</td>\n",
       "      <td>...</td>\n",
       "      <td>...</td>\n",
       "      <td>...</td>\n",
       "    </tr>\n",
       "    <tr>\n",
       "      <th>822</th>\n",
       "      <td>10</td>\n",
       "      <td>287</td>\n",
       "      <td>289</td>\n",
       "      <td>386.740000</td>\n",
       "    </tr>\n",
       "    <tr>\n",
       "      <th>6</th>\n",
       "      <td>1</td>\n",
       "      <td>23</td>\n",
       "      <td>27</td>\n",
       "      <td>208.865000</td>\n",
       "    </tr>\n",
       "    <tr>\n",
       "      <th>115</th>\n",
       "      <td>5</td>\n",
       "      <td>278</td>\n",
       "      <td>297</td>\n",
       "      <td>174.130000</td>\n",
       "    </tr>\n",
       "    <tr>\n",
       "      <th>947</th>\n",
       "      <td>4</td>\n",
       "      <td>173</td>\n",
       "      <td>204</td>\n",
       "      <td>881.982000</td>\n",
       "    </tr>\n",
       "    <tr>\n",
       "      <th>3496</th>\n",
       "      <td>2</td>\n",
       "      <td>56</td>\n",
       "      <td>76</td>\n",
       "      <td>150.553333</td>\n",
       "    </tr>\n",
       "  </tbody>\n",
       "</table>\n",
       "<p>2340 rows × 4 columns</p>\n",
       "</div>"
      ],
      "text/plain": [
       "      frequency  recency    T  monetary_value\n",
       "815           0        0    8      344.330000\n",
       "403           1      163  167      303.875000\n",
       "1519          3      126  178      230.705000\n",
       "2544          1      118  191      271.360000\n",
       "2279          0        0   80      305.020000\n",
       "...         ...      ...  ...             ...\n",
       "822          10      287  289      386.740000\n",
       "6             1       23   27      208.865000\n",
       "115           5      278  297      174.130000\n",
       "947           4      173  204      881.982000\n",
       "3496          2       56   76      150.553333\n",
       "\n",
       "[2340 rows x 4 columns]"
      ]
     },
     "execution_count": 728,
     "metadata": {},
     "output_type": "execute_result"
    }
   ],
   "source": [
    "data2"
   ]
  },
  {
   "cell_type": "code",
   "execution_count": 862,
   "metadata": {
    "ExecuteTime": {
     "end_time": "2020-05-15T05:26:20.191165Z",
     "start_time": "2020-05-15T05:26:20.134103Z"
    }
   },
   "outputs": [
    {
     "name": "stdout",
     "output_type": "stream",
     "text": [
      "<lifetimes.GammaGammaFitter: fitted with 1880 subjects, p: 1.63, q: 0.23, v: 1.86>\n"
     ]
    }
   ],
   "source": [
    "from lifetimes import GammaGammaFittercomes\n",
    "\n",
    "returning_customers_summary = data[data['frequency']>0]\n",
    "\n",
    "ggf = GammaGammaFitter(penalizer_coef = 0.03)\n",
    "ggf.fit(returning_customers_summary['frequency'],\n",
    "        returning_customers_summary['monetary_value'])\n",
    "print(ggf)"
   ]
  },
  {
   "cell_type": "code",
   "execution_count": 750,
   "metadata": {
    "ExecuteTime": {
     "end_time": "2020-05-15T00:56:44.332355Z",
     "start_time": "2020-05-15T00:56:44.328059Z"
    }
   },
   "outputs": [],
   "source": [
    "returning_customers_summary = data[data['frequency']>0]"
   ]
  },
  {
   "cell_type": "code",
   "execution_count": 751,
   "metadata": {
    "ExecuteTime": {
     "end_time": "2020-05-15T00:56:44.841248Z",
     "start_time": "2020-05-15T00:56:44.835867Z"
    }
   },
   "outputs": [],
   "source": [
    "returning_customers_summary[\"predict\"] = ggf.conditional_expected_average_profit(\n",
    "                                                        returning_customers_summary['frequency'],\n",
    "                                                        returning_customers_summary['monetary_value']\n",
    "                                                    )"
   ]
  },
  {
   "cell_type": "markdown",
   "metadata": {},
   "source": [
    "## model checking"
   ]
  },
  {
   "cell_type": "code",
   "execution_count": 3,
   "metadata": {
    "ExecuteTime": {
     "end_time": "2020-05-15T17:41:33.690972Z",
     "start_time": "2020-05-15T17:41:33.687302Z"
    },
    "code_folding": [
     0
    ]
   },
   "outputs": [],
   "source": [
    "def RMSE(predict, actual):\n",
    "    score = (((predict - actual)**2).sum() / actual.shape[0])**0.5\n",
    "    print(score)\n",
    "    return score"
   ]
  },
  {
   "cell_type": "code",
   "execution_count": 13,
   "metadata": {
    "ExecuteTime": {
     "end_time": "2020-05-15T15:53:10.616553Z",
     "start_time": "2020-05-15T15:53:10.613590Z"
    },
    "code_folding": [
     0
    ]
   },
   "outputs": [],
   "source": [
    "def lt_avg_pred(df, days):\n",
    "    return (df.total_purchase_amount_x * days / df[\"T\"]).mean()"
   ]
  },
  {
   "cell_type": "code",
   "execution_count": 14,
   "metadata": {
    "ExecuteTime": {
     "end_time": "2020-05-15T15:53:11.028283Z",
     "start_time": "2020-05-15T15:53:11.025679Z"
    },
    "code_folding": [
     0
    ]
   },
   "outputs": [],
   "source": [
    "def last_2m_prediction(df):\n",
    "    return (df.last_2_months_spend).mean()"
   ]
  },
  {
   "cell_type": "code",
   "execution_count": 752,
   "metadata": {
    "ExecuteTime": {
     "end_time": "2020-05-15T00:56:53.854943Z",
     "start_time": "2020-05-15T00:56:53.844409Z"
    }
   },
   "outputs": [],
   "source": [
    "data2['predicted_purchases'] = data['predicted_purchases']#.apply(lambda x: proper_round(x))\n",
    "data2[\"predict_avg_amount\"] = returning_customers_summary[\"predict\"]\n",
    "data2[\"predict_avg_amount\"][data2[\"frequency\"] == 0] = data2[data2[\"frequency\"] == 0][\"monetary_value\"]"
   ]
  },
  {
   "cell_type": "code",
   "execution_count": 753,
   "metadata": {
    "ExecuteTime": {
     "end_time": "2020-05-15T00:57:00.167645Z",
     "start_time": "2020-05-15T00:57:00.160729Z"
    }
   },
   "outputs": [
    {
     "name": "stdout",
     "output_type": "stream",
     "text": [
      "<class 'pandas.core.frame.DataFrame'>\n",
      "Int64Index: 586 entries, 1666 to 2881\n",
      "Data columns (total 6 columns):\n",
      " #   Column               Non-Null Count  Dtype  \n",
      "---  ------               --------------  -----  \n",
      " 0   frequency            586 non-null    int64  \n",
      " 1   recency              586 non-null    int64  \n",
      " 2   T                    586 non-null    int64  \n",
      " 3   monetary_value       586 non-null    float64\n",
      " 4   predicted_purchases  586 non-null    float64\n",
      " 5   predict_avg_amount   586 non-null    float64\n",
      "dtypes: float64(3), int64(3)\n",
      "memory usage: 52.0 KB\n"
     ]
    }
   ],
   "source": [
    "data2.info()"
   ]
  },
  {
   "cell_type": "code",
   "execution_count": 754,
   "metadata": {
    "ExecuteTime": {
     "end_time": "2020-05-15T00:57:10.061528Z",
     "start_time": "2020-05-15T00:57:10.058401Z"
    }
   },
   "outputs": [],
   "source": [
    "sales_predict = data2[\"predict_avg_amount\"] * data2[\"predicted_purchases\"]"
   ]
  },
  {
   "cell_type": "markdown",
   "metadata": {},
   "source": [
    "Validation checking"
   ]
  },
  {
   "cell_type": "code",
   "execution_count": 755,
   "metadata": {
    "ExecuteTime": {
     "end_time": "2020-05-15T00:57:15.501858Z",
     "start_time": "2020-05-15T00:57:15.499228Z"
    }
   },
   "outputs": [],
   "source": [
    "sales_actual2 = y_test2"
   ]
  },
  {
   "cell_type": "code",
   "execution_count": 756,
   "metadata": {
    "ExecuteTime": {
     "end_time": "2020-05-15T00:57:16.501367Z",
     "start_time": "2020-05-15T00:57:16.496132Z"
    }
   },
   "outputs": [
    {
     "data": {
      "text/plain": [
       "1661.3067465062534"
      ]
     },
     "execution_count": 756,
     "metadata": {},
     "output_type": "execute_result"
    }
   ],
   "source": [
    "RMSE = (((sales_predict - sales_actual2)**2).sum() / sales_actual2.shape[0])**0.5; RMSE"
   ]
  },
  {
   "cell_type": "code",
   "execution_count": 757,
   "metadata": {
    "ExecuteTime": {
     "end_time": "2020-05-15T00:57:27.076453Z",
     "start_time": "2020-05-15T00:57:27.070507Z"
    }
   },
   "outputs": [
    {
     "data": {
      "text/plain": [
       "3139.8409800496606"
      ]
     },
     "execution_count": 757,
     "metadata": {},
     "output_type": "execute_result"
    }
   ],
   "source": [
    "RMSE2 = ((((X_train.total_purchase_amount_x *61 / X_train[\"T\"]).mean() - sales_actual2)**2).sum() / sales_actual2.shape[0])**0.5; RMSE2"
   ]
  },
  {
   "cell_type": "code",
   "execution_count": 758,
   "metadata": {
    "ExecuteTime": {
     "end_time": "2020-05-15T00:57:28.104461Z",
     "start_time": "2020-05-15T00:57:28.099067Z"
    }
   },
   "outputs": [
    {
     "data": {
      "text/plain": [
       "3128.8735477319383"
      ]
     },
     "execution_count": 758,
     "metadata": {},
     "output_type": "execute_result"
    }
   ],
   "source": [
    "RMSE3 = ((((X_train.last_2_months_spend).mean() - sales_actual2)**2).sum() / sales_actual2.shape[0])**0.5; RMSE3"
   ]
  },
  {
   "cell_type": "markdown",
   "metadata": {},
   "source": [
    "P model training Score: 1514 2393 2370\n",
    "\n",
    "Validation Score: 1661 3140 3129"
   ]
  },
  {
   "cell_type": "markdown",
   "metadata": {},
   "source": [
    "The LTV model is clearly better than using just the mean."
   ]
  },
  {
   "cell_type": "markdown",
   "metadata": {},
   "source": [
    "# Other Methods\n",
    "## Random Forest"
   ]
  },
  {
   "cell_type": "code",
   "execution_count": 55,
   "metadata": {
    "ExecuteTime": {
     "end_time": "2020-05-15T20:44:16.215298Z",
     "start_time": "2020-05-15T20:44:16.212953Z"
    }
   },
   "outputs": [],
   "source": [
    "from sklearn.ensemble import RandomForestRegressor\n",
    "from sklearn.linear_model import LinearRegression\n",
    "from sklearn.svm import SVR"
   ]
  },
  {
   "cell_type": "code",
   "execution_count": 51,
   "metadata": {
    "ExecuteTime": {
     "end_time": "2020-05-15T20:42:04.988962Z",
     "start_time": "2020-05-15T20:42:04.908291Z"
    }
   },
   "outputs": [],
   "source": [
    "df = pd.read_csv(\"supervised_train.csv\", index_col=0);\n",
    "y = df.next_2_months_spend\n",
    "X = df.iloc[:,:-1]\n",
    "X = df_transform(X)"
   ]
  },
  {
   "cell_type": "code",
   "execution_count": 41,
   "metadata": {
    "ExecuteTime": {
     "end_time": "2020-05-15T18:34:33.174651Z",
     "start_time": "2020-05-15T18:34:32.312541Z"
    }
   },
   "outputs": [
    {
     "name": "stdout",
     "output_type": "stream",
     "text": [
      "631.4432020074099\n"
     ]
    },
    {
     "data": {
      "text/plain": [
       "631.4432020074099"
      ]
     },
     "execution_count": 41,
     "metadata": {},
     "output_type": "execute_result"
    }
   ],
   "source": [
    "rf = RandomForestRegressor()\n",
    "rf.fit(X, y)\n",
    "\n",
    "rf_prediction = rf.predict(X)\n",
    "# Score in Train\n",
    "RMSE(rf_prediction, y)"
   ]
  },
  {
   "cell_type": "code",
   "execution_count": 44,
   "metadata": {
    "ExecuteTime": {
     "end_time": "2020-05-15T18:35:47.854622Z",
     "start_time": "2020-05-15T18:35:47.848495Z"
    }
   },
   "outputs": [],
   "source": [
    "# Number of trees in random forest\n",
    "n_estimators = [int(x) for x in np.linspace(start = 100, stop = 500, num = 9)]\n",
    "# Number of features to consider at every split\n",
    "max_features = ['auto', 'sqrt']\n",
    "# Maximum number of levels in tree\n",
    "max_depth = [int(x) for x in np.linspace(10, 50, num = 5)]\n",
    "max_depth.append(None)\n",
    "# Minimum number of samples required to split a node\n",
    "min_samples_split = [2, 5, 10]\n",
    "# Minimum number of samples required at each leaf node\n",
    "min_samples_leaf = [1, 2, 4]\n",
    "\n",
    "# Create the random grid\n",
    "random_grid = {'n_estimators': n_estimators,\n",
    "               'max_features': max_features,\n",
    "               'max_depth': max_depth,\n",
    "               'min_samples_split': min_samples_split,\n",
    "               'min_samples_leaf': min_samples_leaf}"
   ]
  },
  {
   "cell_type": "code",
   "execution_count": 45,
   "metadata": {
    "ExecuteTime": {
     "end_time": "2020-05-15T20:26:06.671028Z",
     "start_time": "2020-05-15T18:35:51.390004Z"
    }
   },
   "outputs": [
    {
     "data": {
      "text/plain": [
       "GridSearchCV(cv=None, error_score=nan,\n",
       "             estimator=RandomForestRegressor(bootstrap=True, ccp_alpha=0.0,\n",
       "                                             criterion='mse', max_depth=None,\n",
       "                                             max_features='auto',\n",
       "                                             max_leaf_nodes=None,\n",
       "                                             max_samples=None,\n",
       "                                             min_impurity_decrease=0.0,\n",
       "                                             min_impurity_split=None,\n",
       "                                             min_samples_leaf=1,\n",
       "                                             min_samples_split=2,\n",
       "                                             min_weight_fraction_leaf=0.0,\n",
       "                                             n_estimators=100, n_jobs=None,\n",
       "                                             oob_score=False, random_state=None,\n",
       "                                             verbose=0, warm_start=False),\n",
       "             iid='deprecated', n_jobs=None,\n",
       "             param_grid={'max_depth': [10, 20, 30, 40, 50, None],\n",
       "                         'max_features': ['auto', 'sqrt'],\n",
       "                         'min_samples_leaf': [1, 2, 4],\n",
       "                         'min_samples_split': [2, 5, 10],\n",
       "                         'n_estimators': [100, 150, 200, 250, 300, 350, 400,\n",
       "                                          450, 500]},\n",
       "             pre_dispatch='2*n_jobs', refit=True, return_train_score=False,\n",
       "             scoring=None, verbose=0)"
      ]
     },
     "execution_count": 45,
     "metadata": {},
     "output_type": "execute_result"
    }
   ],
   "source": [
    "gsrf = GridSearchCV(rf, \n",
    "                    random_grid#,scoring=f1_scorer\n",
    "                   )\n",
    "gsrf.fit(X, y)"
   ]
  },
  {
   "cell_type": "code",
   "execution_count": 46,
   "metadata": {
    "ExecuteTime": {
     "end_time": "2020-05-15T20:34:18.375653Z",
     "start_time": "2020-05-15T20:34:18.223952Z"
    }
   },
   "outputs": [
    {
     "data": {
      "text/html": [
       "<div>\n",
       "<style scoped>\n",
       "    .dataframe tbody tr th:only-of-type {\n",
       "        vertical-align: middle;\n",
       "    }\n",
       "\n",
       "    .dataframe tbody tr th {\n",
       "        vertical-align: top;\n",
       "    }\n",
       "\n",
       "    .dataframe thead th {\n",
       "        text-align: right;\n",
       "    }\n",
       "</style>\n",
       "<table border=\"1\" class=\"dataframe\">\n",
       "  <thead>\n",
       "    <tr style=\"text-align: right;\">\n",
       "      <th></th>\n",
       "      <th>0</th>\n",
       "      <th>1</th>\n",
       "      <th>2</th>\n",
       "      <th>3</th>\n",
       "      <th>4</th>\n",
       "      <th>5</th>\n",
       "      <th>6</th>\n",
       "      <th>7</th>\n",
       "      <th>8</th>\n",
       "      <th>9</th>\n",
       "      <th>...</th>\n",
       "      <th>962</th>\n",
       "      <th>963</th>\n",
       "      <th>964</th>\n",
       "      <th>965</th>\n",
       "      <th>966</th>\n",
       "      <th>967</th>\n",
       "      <th>968</th>\n",
       "      <th>969</th>\n",
       "      <th>970</th>\n",
       "      <th>971</th>\n",
       "    </tr>\n",
       "  </thead>\n",
       "  <tbody>\n",
       "    <tr>\n",
       "      <th>mean_fit_time</th>\n",
       "      <td>0.461355</td>\n",
       "      <td>0.683221</td>\n",
       "      <td>0.93264</td>\n",
       "      <td>1.10683</td>\n",
       "      <td>1.32936</td>\n",
       "      <td>1.55031</td>\n",
       "      <td>1.76327</td>\n",
       "      <td>1.98537</td>\n",
       "      <td>2.28158</td>\n",
       "      <td>0.452056</td>\n",
       "      <td>...</td>\n",
       "      <td>1.44748</td>\n",
       "      <td>0.279827</td>\n",
       "      <td>0.42035</td>\n",
       "      <td>0.57092</td>\n",
       "      <td>0.703427</td>\n",
       "      <td>0.84851</td>\n",
       "      <td>0.991417</td>\n",
       "      <td>1.12707</td>\n",
       "      <td>1.26783</td>\n",
       "      <td>1.40867</td>\n",
       "    </tr>\n",
       "    <tr>\n",
       "      <th>std_fit_time</th>\n",
       "      <td>0.00556648</td>\n",
       "      <td>0.00281609</td>\n",
       "      <td>0.0443028</td>\n",
       "      <td>0.00520536</td>\n",
       "      <td>0.0112451</td>\n",
       "      <td>0.00795846</td>\n",
       "      <td>0.00909235</td>\n",
       "      <td>0.00715129</td>\n",
       "      <td>0.0167777</td>\n",
       "      <td>0.00512137</td>\n",
       "      <td>...</td>\n",
       "      <td>0.0151192</td>\n",
       "      <td>0.00392195</td>\n",
       "      <td>0.00630138</td>\n",
       "      <td>0.00800471</td>\n",
       "      <td>0.0136629</td>\n",
       "      <td>0.014206</td>\n",
       "      <td>0.011849</td>\n",
       "      <td>0.00971525</td>\n",
       "      <td>0.0164099</td>\n",
       "      <td>0.0182306</td>\n",
       "    </tr>\n",
       "    <tr>\n",
       "      <th>mean_score_time</th>\n",
       "      <td>0.00933418</td>\n",
       "      <td>0.0144836</td>\n",
       "      <td>0.0193234</td>\n",
       "      <td>0.0230808</td>\n",
       "      <td>0.0254307</td>\n",
       "      <td>0.0297832</td>\n",
       "      <td>0.0342514</td>\n",
       "      <td>0.0373506</td>\n",
       "      <td>0.0432828</td>\n",
       "      <td>0.00916548</td>\n",
       "      <td>...</td>\n",
       "      <td>0.0557092</td>\n",
       "      <td>0.012056</td>\n",
       "      <td>0.0171664</td>\n",
       "      <td>0.0222377</td>\n",
       "      <td>0.0278197</td>\n",
       "      <td>0.0328618</td>\n",
       "      <td>0.0381078</td>\n",
       "      <td>0.0439361</td>\n",
       "      <td>0.0479626</td>\n",
       "      <td>0.0532952</td>\n",
       "    </tr>\n",
       "    <tr>\n",
       "      <th>std_score_time</th>\n",
       "      <td>0.00078138</td>\n",
       "      <td>0.00068827</td>\n",
       "      <td>0.00168685</td>\n",
       "      <td>0.00137169</td>\n",
       "      <td>0.00061353</td>\n",
       "      <td>0.000646059</td>\n",
       "      <td>0.000895684</td>\n",
       "      <td>0.00113474</td>\n",
       "      <td>0.00085088</td>\n",
       "      <td>0.000271124</td>\n",
       "      <td>...</td>\n",
       "      <td>0.00197276</td>\n",
       "      <td>0.000564983</td>\n",
       "      <td>0.000481815</td>\n",
       "      <td>0.000194972</td>\n",
       "      <td>0.000840894</td>\n",
       "      <td>0.000474477</td>\n",
       "      <td>0.000578875</td>\n",
       "      <td>0.00120994</td>\n",
       "      <td>0.00031904</td>\n",
       "      <td>0.000751205</td>\n",
       "    </tr>\n",
       "    <tr>\n",
       "      <th>param_max_depth</th>\n",
       "      <td>10</td>\n",
       "      <td>10</td>\n",
       "      <td>10</td>\n",
       "      <td>10</td>\n",
       "      <td>10</td>\n",
       "      <td>10</td>\n",
       "      <td>10</td>\n",
       "      <td>10</td>\n",
       "      <td>10</td>\n",
       "      <td>10</td>\n",
       "      <td>...</td>\n",
       "      <td>None</td>\n",
       "      <td>None</td>\n",
       "      <td>None</td>\n",
       "      <td>None</td>\n",
       "      <td>None</td>\n",
       "      <td>None</td>\n",
       "      <td>None</td>\n",
       "      <td>None</td>\n",
       "      <td>None</td>\n",
       "      <td>None</td>\n",
       "    </tr>\n",
       "    <tr>\n",
       "      <th>param_max_features</th>\n",
       "      <td>auto</td>\n",
       "      <td>auto</td>\n",
       "      <td>auto</td>\n",
       "      <td>auto</td>\n",
       "      <td>auto</td>\n",
       "      <td>auto</td>\n",
       "      <td>auto</td>\n",
       "      <td>auto</td>\n",
       "      <td>auto</td>\n",
       "      <td>auto</td>\n",
       "      <td>...</td>\n",
       "      <td>sqrt</td>\n",
       "      <td>sqrt</td>\n",
       "      <td>sqrt</td>\n",
       "      <td>sqrt</td>\n",
       "      <td>sqrt</td>\n",
       "      <td>sqrt</td>\n",
       "      <td>sqrt</td>\n",
       "      <td>sqrt</td>\n",
       "      <td>sqrt</td>\n",
       "      <td>sqrt</td>\n",
       "    </tr>\n",
       "    <tr>\n",
       "      <th>param_min_samples_leaf</th>\n",
       "      <td>1</td>\n",
       "      <td>1</td>\n",
       "      <td>1</td>\n",
       "      <td>1</td>\n",
       "      <td>1</td>\n",
       "      <td>1</td>\n",
       "      <td>1</td>\n",
       "      <td>1</td>\n",
       "      <td>1</td>\n",
       "      <td>1</td>\n",
       "      <td>...</td>\n",
       "      <td>4</td>\n",
       "      <td>4</td>\n",
       "      <td>4</td>\n",
       "      <td>4</td>\n",
       "      <td>4</td>\n",
       "      <td>4</td>\n",
       "      <td>4</td>\n",
       "      <td>4</td>\n",
       "      <td>4</td>\n",
       "      <td>4</td>\n",
       "    </tr>\n",
       "    <tr>\n",
       "      <th>param_min_samples_split</th>\n",
       "      <td>2</td>\n",
       "      <td>2</td>\n",
       "      <td>2</td>\n",
       "      <td>2</td>\n",
       "      <td>2</td>\n",
       "      <td>2</td>\n",
       "      <td>2</td>\n",
       "      <td>2</td>\n",
       "      <td>2</td>\n",
       "      <td>5</td>\n",
       "      <td>...</td>\n",
       "      <td>5</td>\n",
       "      <td>10</td>\n",
       "      <td>10</td>\n",
       "      <td>10</td>\n",
       "      <td>10</td>\n",
       "      <td>10</td>\n",
       "      <td>10</td>\n",
       "      <td>10</td>\n",
       "      <td>10</td>\n",
       "      <td>10</td>\n",
       "    </tr>\n",
       "    <tr>\n",
       "      <th>param_n_estimators</th>\n",
       "      <td>100</td>\n",
       "      <td>150</td>\n",
       "      <td>200</td>\n",
       "      <td>250</td>\n",
       "      <td>300</td>\n",
       "      <td>350</td>\n",
       "      <td>400</td>\n",
       "      <td>450</td>\n",
       "      <td>500</td>\n",
       "      <td>100</td>\n",
       "      <td>...</td>\n",
       "      <td>500</td>\n",
       "      <td>100</td>\n",
       "      <td>150</td>\n",
       "      <td>200</td>\n",
       "      <td>250</td>\n",
       "      <td>300</td>\n",
       "      <td>350</td>\n",
       "      <td>400</td>\n",
       "      <td>450</td>\n",
       "      <td>500</td>\n",
       "    </tr>\n",
       "    <tr>\n",
       "      <th>params</th>\n",
       "      <td>{'max_depth': 10, 'max_features': 'auto', 'min...</td>\n",
       "      <td>{'max_depth': 10, 'max_features': 'auto', 'min...</td>\n",
       "      <td>{'max_depth': 10, 'max_features': 'auto', 'min...</td>\n",
       "      <td>{'max_depth': 10, 'max_features': 'auto', 'min...</td>\n",
       "      <td>{'max_depth': 10, 'max_features': 'auto', 'min...</td>\n",
       "      <td>{'max_depth': 10, 'max_features': 'auto', 'min...</td>\n",
       "      <td>{'max_depth': 10, 'max_features': 'auto', 'min...</td>\n",
       "      <td>{'max_depth': 10, 'max_features': 'auto', 'min...</td>\n",
       "      <td>{'max_depth': 10, 'max_features': 'auto', 'min...</td>\n",
       "      <td>{'max_depth': 10, 'max_features': 'auto', 'min...</td>\n",
       "      <td>...</td>\n",
       "      <td>{'max_depth': None, 'max_features': 'sqrt', 'm...</td>\n",
       "      <td>{'max_depth': None, 'max_features': 'sqrt', 'm...</td>\n",
       "      <td>{'max_depth': None, 'max_features': 'sqrt', 'm...</td>\n",
       "      <td>{'max_depth': None, 'max_features': 'sqrt', 'm...</td>\n",
       "      <td>{'max_depth': None, 'max_features': 'sqrt', 'm...</td>\n",
       "      <td>{'max_depth': None, 'max_features': 'sqrt', 'm...</td>\n",
       "      <td>{'max_depth': None, 'max_features': 'sqrt', 'm...</td>\n",
       "      <td>{'max_depth': None, 'max_features': 'sqrt', 'm...</td>\n",
       "      <td>{'max_depth': None, 'max_features': 'sqrt', 'm...</td>\n",
       "      <td>{'max_depth': None, 'max_features': 'sqrt', 'm...</td>\n",
       "    </tr>\n",
       "    <tr>\n",
       "      <th>split0_test_score</th>\n",
       "      <td>0.0447882</td>\n",
       "      <td>-0.341462</td>\n",
       "      <td>0.119614</td>\n",
       "      <td>0.149326</td>\n",
       "      <td>0.100212</td>\n",
       "      <td>0.0928284</td>\n",
       "      <td>0.118082</td>\n",
       "      <td>0.0184617</td>\n",
       "      <td>0.103786</td>\n",
       "      <td>-0.0512174</td>\n",
       "      <td>...</td>\n",
       "      <td>-0.286322</td>\n",
       "      <td>-0.343135</td>\n",
       "      <td>-0.425992</td>\n",
       "      <td>-0.477782</td>\n",
       "      <td>-0.526974</td>\n",
       "      <td>-0.290493</td>\n",
       "      <td>-0.0971392</td>\n",
       "      <td>-0.208309</td>\n",
       "      <td>-0.380782</td>\n",
       "      <td>-0.175671</td>\n",
       "    </tr>\n",
       "    <tr>\n",
       "      <th>split1_test_score</th>\n",
       "      <td>0.902582</td>\n",
       "      <td>0.86566</td>\n",
       "      <td>0.91923</td>\n",
       "      <td>0.900215</td>\n",
       "      <td>0.886294</td>\n",
       "      <td>0.898817</td>\n",
       "      <td>0.896908</td>\n",
       "      <td>0.897396</td>\n",
       "      <td>0.902995</td>\n",
       "      <td>0.927756</td>\n",
       "      <td>...</td>\n",
       "      <td>0.752523</td>\n",
       "      <td>0.739526</td>\n",
       "      <td>0.771474</td>\n",
       "      <td>0.781157</td>\n",
       "      <td>0.731292</td>\n",
       "      <td>0.759608</td>\n",
       "      <td>0.737006</td>\n",
       "      <td>0.75877</td>\n",
       "      <td>0.755148</td>\n",
       "      <td>0.74781</td>\n",
       "    </tr>\n",
       "    <tr>\n",
       "      <th>split2_test_score</th>\n",
       "      <td>0.650517</td>\n",
       "      <td>0.65185</td>\n",
       "      <td>0.65791</td>\n",
       "      <td>0.652279</td>\n",
       "      <td>0.646464</td>\n",
       "      <td>0.645844</td>\n",
       "      <td>0.652192</td>\n",
       "      <td>0.649937</td>\n",
       "      <td>0.64942</td>\n",
       "      <td>0.643551</td>\n",
       "      <td>...</td>\n",
       "      <td>0.484051</td>\n",
       "      <td>0.480317</td>\n",
       "      <td>0.49797</td>\n",
       "      <td>0.497271</td>\n",
       "      <td>0.492934</td>\n",
       "      <td>0.491651</td>\n",
       "      <td>0.467454</td>\n",
       "      <td>0.491564</td>\n",
       "      <td>0.526533</td>\n",
       "      <td>0.504194</td>\n",
       "    </tr>\n",
       "    <tr>\n",
       "      <th>split3_test_score</th>\n",
       "      <td>0.585297</td>\n",
       "      <td>0.565946</td>\n",
       "      <td>0.544181</td>\n",
       "      <td>0.565717</td>\n",
       "      <td>0.548236</td>\n",
       "      <td>0.559576</td>\n",
       "      <td>0.561677</td>\n",
       "      <td>0.555024</td>\n",
       "      <td>0.553677</td>\n",
       "      <td>0.560926</td>\n",
       "      <td>...</td>\n",
       "      <td>0.462684</td>\n",
       "      <td>0.483177</td>\n",
       "      <td>0.460522</td>\n",
       "      <td>0.431116</td>\n",
       "      <td>0.456337</td>\n",
       "      <td>0.47685</td>\n",
       "      <td>0.439282</td>\n",
       "      <td>0.474857</td>\n",
       "      <td>0.466079</td>\n",
       "      <td>0.461311</td>\n",
       "    </tr>\n",
       "    <tr>\n",
       "      <th>split4_test_score</th>\n",
       "      <td>0.894042</td>\n",
       "      <td>0.890934</td>\n",
       "      <td>0.90312</td>\n",
       "      <td>0.880986</td>\n",
       "      <td>0.868328</td>\n",
       "      <td>0.893678</td>\n",
       "      <td>0.904254</td>\n",
       "      <td>0.88995</td>\n",
       "      <td>0.903048</td>\n",
       "      <td>0.85609</td>\n",
       "      <td>...</td>\n",
       "      <td>0.622473</td>\n",
       "      <td>0.599085</td>\n",
       "      <td>0.624447</td>\n",
       "      <td>0.624805</td>\n",
       "      <td>0.67187</td>\n",
       "      <td>0.642371</td>\n",
       "      <td>0.648091</td>\n",
       "      <td>0.624217</td>\n",
       "      <td>0.650776</td>\n",
       "      <td>0.636426</td>\n",
       "    </tr>\n",
       "    <tr>\n",
       "      <th>mean_test_score</th>\n",
       "      <td>0.615445</td>\n",
       "      <td>0.526586</td>\n",
       "      <td>0.628811</td>\n",
       "      <td>0.629705</td>\n",
       "      <td>0.609907</td>\n",
       "      <td>0.618149</td>\n",
       "      <td>0.626623</td>\n",
       "      <td>0.602154</td>\n",
       "      <td>0.622585</td>\n",
       "      <td>0.587421</td>\n",
       "      <td>...</td>\n",
       "      <td>0.407082</td>\n",
       "      <td>0.391794</td>\n",
       "      <td>0.385684</td>\n",
       "      <td>0.371313</td>\n",
       "      <td>0.365092</td>\n",
       "      <td>0.415997</td>\n",
       "      <td>0.438939</td>\n",
       "      <td>0.42822</td>\n",
       "      <td>0.403551</td>\n",
       "      <td>0.434814</td>\n",
       "    </tr>\n",
       "    <tr>\n",
       "      <th>std_test_score</th>\n",
       "      <td>0.312363</td>\n",
       "      <td>0.451324</td>\n",
       "      <td>0.292191</td>\n",
       "      <td>0.272648</td>\n",
       "      <td>0.285692</td>\n",
       "      <td>0.294907</td>\n",
       "      <td>0.287617</td>\n",
       "      <td>0.320997</td>\n",
       "      <td>0.293908</td>\n",
       "      <td>0.34633</td>\n",
       "      <td>...</td>\n",
       "      <td>0.36209</td>\n",
       "      <td>0.379525</td>\n",
       "      <td>0.420207</td>\n",
       "      <td>0.441052</td>\n",
       "      <td>0.457966</td>\n",
       "      <td>0.368203</td>\n",
       "      <td>0.290097</td>\n",
       "      <td>0.334375</td>\n",
       "      <td>0.40471</td>\n",
       "      <td>0.321503</td>\n",
       "    </tr>\n",
       "    <tr>\n",
       "      <th>rank_test_score</th>\n",
       "      <td>177</td>\n",
       "      <td>554</td>\n",
       "      <td>103</td>\n",
       "      <td>99</td>\n",
       "      <td>207</td>\n",
       "      <td>164</td>\n",
       "      <td>115</td>\n",
       "      <td>244</td>\n",
       "      <td>140</td>\n",
       "      <td>299</td>\n",
       "      <td>...</td>\n",
       "      <td>846</td>\n",
       "      <td>901</td>\n",
       "      <td>910</td>\n",
       "      <td>939</td>\n",
       "      <td>952</td>\n",
       "      <td>812</td>\n",
       "      <td>717</td>\n",
       "      <td>762</td>\n",
       "      <td>862</td>\n",
       "      <td>734</td>\n",
       "    </tr>\n",
       "  </tbody>\n",
       "</table>\n",
       "<p>18 rows × 972 columns</p>\n",
       "</div>"
      ],
      "text/plain": [
       "                                                                       0    \\\n",
       "mean_fit_time                                                     0.461355   \n",
       "std_fit_time                                                    0.00556648   \n",
       "mean_score_time                                                 0.00933418   \n",
       "std_score_time                                                  0.00078138   \n",
       "param_max_depth                                                         10   \n",
       "param_max_features                                                    auto   \n",
       "param_min_samples_leaf                                                   1   \n",
       "param_min_samples_split                                                  2   \n",
       "param_n_estimators                                                     100   \n",
       "params                   {'max_depth': 10, 'max_features': 'auto', 'min...   \n",
       "split0_test_score                                                0.0447882   \n",
       "split1_test_score                                                 0.902582   \n",
       "split2_test_score                                                 0.650517   \n",
       "split3_test_score                                                 0.585297   \n",
       "split4_test_score                                                 0.894042   \n",
       "mean_test_score                                                   0.615445   \n",
       "std_test_score                                                    0.312363   \n",
       "rank_test_score                                                        177   \n",
       "\n",
       "                                                                       1    \\\n",
       "mean_fit_time                                                     0.683221   \n",
       "std_fit_time                                                    0.00281609   \n",
       "mean_score_time                                                  0.0144836   \n",
       "std_score_time                                                  0.00068827   \n",
       "param_max_depth                                                         10   \n",
       "param_max_features                                                    auto   \n",
       "param_min_samples_leaf                                                   1   \n",
       "param_min_samples_split                                                  2   \n",
       "param_n_estimators                                                     150   \n",
       "params                   {'max_depth': 10, 'max_features': 'auto', 'min...   \n",
       "split0_test_score                                                -0.341462   \n",
       "split1_test_score                                                  0.86566   \n",
       "split2_test_score                                                  0.65185   \n",
       "split3_test_score                                                 0.565946   \n",
       "split4_test_score                                                 0.890934   \n",
       "mean_test_score                                                   0.526586   \n",
       "std_test_score                                                    0.451324   \n",
       "rank_test_score                                                        554   \n",
       "\n",
       "                                                                       2    \\\n",
       "mean_fit_time                                                      0.93264   \n",
       "std_fit_time                                                     0.0443028   \n",
       "mean_score_time                                                  0.0193234   \n",
       "std_score_time                                                  0.00168685   \n",
       "param_max_depth                                                         10   \n",
       "param_max_features                                                    auto   \n",
       "param_min_samples_leaf                                                   1   \n",
       "param_min_samples_split                                                  2   \n",
       "param_n_estimators                                                     200   \n",
       "params                   {'max_depth': 10, 'max_features': 'auto', 'min...   \n",
       "split0_test_score                                                 0.119614   \n",
       "split1_test_score                                                  0.91923   \n",
       "split2_test_score                                                  0.65791   \n",
       "split3_test_score                                                 0.544181   \n",
       "split4_test_score                                                  0.90312   \n",
       "mean_test_score                                                   0.628811   \n",
       "std_test_score                                                    0.292191   \n",
       "rank_test_score                                                        103   \n",
       "\n",
       "                                                                       3    \\\n",
       "mean_fit_time                                                      1.10683   \n",
       "std_fit_time                                                    0.00520536   \n",
       "mean_score_time                                                  0.0230808   \n",
       "std_score_time                                                  0.00137169   \n",
       "param_max_depth                                                         10   \n",
       "param_max_features                                                    auto   \n",
       "param_min_samples_leaf                                                   1   \n",
       "param_min_samples_split                                                  2   \n",
       "param_n_estimators                                                     250   \n",
       "params                   {'max_depth': 10, 'max_features': 'auto', 'min...   \n",
       "split0_test_score                                                 0.149326   \n",
       "split1_test_score                                                 0.900215   \n",
       "split2_test_score                                                 0.652279   \n",
       "split3_test_score                                                 0.565717   \n",
       "split4_test_score                                                 0.880986   \n",
       "mean_test_score                                                   0.629705   \n",
       "std_test_score                                                    0.272648   \n",
       "rank_test_score                                                         99   \n",
       "\n",
       "                                                                       4    \\\n",
       "mean_fit_time                                                      1.32936   \n",
       "std_fit_time                                                     0.0112451   \n",
       "mean_score_time                                                  0.0254307   \n",
       "std_score_time                                                  0.00061353   \n",
       "param_max_depth                                                         10   \n",
       "param_max_features                                                    auto   \n",
       "param_min_samples_leaf                                                   1   \n",
       "param_min_samples_split                                                  2   \n",
       "param_n_estimators                                                     300   \n",
       "params                   {'max_depth': 10, 'max_features': 'auto', 'min...   \n",
       "split0_test_score                                                 0.100212   \n",
       "split1_test_score                                                 0.886294   \n",
       "split2_test_score                                                 0.646464   \n",
       "split3_test_score                                                 0.548236   \n",
       "split4_test_score                                                 0.868328   \n",
       "mean_test_score                                                   0.609907   \n",
       "std_test_score                                                    0.285692   \n",
       "rank_test_score                                                        207   \n",
       "\n",
       "                                                                       5    \\\n",
       "mean_fit_time                                                      1.55031   \n",
       "std_fit_time                                                    0.00795846   \n",
       "mean_score_time                                                  0.0297832   \n",
       "std_score_time                                                 0.000646059   \n",
       "param_max_depth                                                         10   \n",
       "param_max_features                                                    auto   \n",
       "param_min_samples_leaf                                                   1   \n",
       "param_min_samples_split                                                  2   \n",
       "param_n_estimators                                                     350   \n",
       "params                   {'max_depth': 10, 'max_features': 'auto', 'min...   \n",
       "split0_test_score                                                0.0928284   \n",
       "split1_test_score                                                 0.898817   \n",
       "split2_test_score                                                 0.645844   \n",
       "split3_test_score                                                 0.559576   \n",
       "split4_test_score                                                 0.893678   \n",
       "mean_test_score                                                   0.618149   \n",
       "std_test_score                                                    0.294907   \n",
       "rank_test_score                                                        164   \n",
       "\n",
       "                                                                       6    \\\n",
       "mean_fit_time                                                      1.76327   \n",
       "std_fit_time                                                    0.00909235   \n",
       "mean_score_time                                                  0.0342514   \n",
       "std_score_time                                                 0.000895684   \n",
       "param_max_depth                                                         10   \n",
       "param_max_features                                                    auto   \n",
       "param_min_samples_leaf                                                   1   \n",
       "param_min_samples_split                                                  2   \n",
       "param_n_estimators                                                     400   \n",
       "params                   {'max_depth': 10, 'max_features': 'auto', 'min...   \n",
       "split0_test_score                                                 0.118082   \n",
       "split1_test_score                                                 0.896908   \n",
       "split2_test_score                                                 0.652192   \n",
       "split3_test_score                                                 0.561677   \n",
       "split4_test_score                                                 0.904254   \n",
       "mean_test_score                                                   0.626623   \n",
       "std_test_score                                                    0.287617   \n",
       "rank_test_score                                                        115   \n",
       "\n",
       "                                                                       7    \\\n",
       "mean_fit_time                                                      1.98537   \n",
       "std_fit_time                                                    0.00715129   \n",
       "mean_score_time                                                  0.0373506   \n",
       "std_score_time                                                  0.00113474   \n",
       "param_max_depth                                                         10   \n",
       "param_max_features                                                    auto   \n",
       "param_min_samples_leaf                                                   1   \n",
       "param_min_samples_split                                                  2   \n",
       "param_n_estimators                                                     450   \n",
       "params                   {'max_depth': 10, 'max_features': 'auto', 'min...   \n",
       "split0_test_score                                                0.0184617   \n",
       "split1_test_score                                                 0.897396   \n",
       "split2_test_score                                                 0.649937   \n",
       "split3_test_score                                                 0.555024   \n",
       "split4_test_score                                                  0.88995   \n",
       "mean_test_score                                                   0.602154   \n",
       "std_test_score                                                    0.320997   \n",
       "rank_test_score                                                        244   \n",
       "\n",
       "                                                                       8    \\\n",
       "mean_fit_time                                                      2.28158   \n",
       "std_fit_time                                                     0.0167777   \n",
       "mean_score_time                                                  0.0432828   \n",
       "std_score_time                                                  0.00085088   \n",
       "param_max_depth                                                         10   \n",
       "param_max_features                                                    auto   \n",
       "param_min_samples_leaf                                                   1   \n",
       "param_min_samples_split                                                  2   \n",
       "param_n_estimators                                                     500   \n",
       "params                   {'max_depth': 10, 'max_features': 'auto', 'min...   \n",
       "split0_test_score                                                 0.103786   \n",
       "split1_test_score                                                 0.902995   \n",
       "split2_test_score                                                  0.64942   \n",
       "split3_test_score                                                 0.553677   \n",
       "split4_test_score                                                 0.903048   \n",
       "mean_test_score                                                   0.622585   \n",
       "std_test_score                                                    0.293908   \n",
       "rank_test_score                                                        140   \n",
       "\n",
       "                                                                       9    \\\n",
       "mean_fit_time                                                     0.452056   \n",
       "std_fit_time                                                    0.00512137   \n",
       "mean_score_time                                                 0.00916548   \n",
       "std_score_time                                                 0.000271124   \n",
       "param_max_depth                                                         10   \n",
       "param_max_features                                                    auto   \n",
       "param_min_samples_leaf                                                   1   \n",
       "param_min_samples_split                                                  5   \n",
       "param_n_estimators                                                     100   \n",
       "params                   {'max_depth': 10, 'max_features': 'auto', 'min...   \n",
       "split0_test_score                                               -0.0512174   \n",
       "split1_test_score                                                 0.927756   \n",
       "split2_test_score                                                 0.643551   \n",
       "split3_test_score                                                 0.560926   \n",
       "split4_test_score                                                  0.85609   \n",
       "mean_test_score                                                   0.587421   \n",
       "std_test_score                                                     0.34633   \n",
       "rank_test_score                                                        299   \n",
       "\n",
       "                         ...  \\\n",
       "mean_fit_time            ...   \n",
       "std_fit_time             ...   \n",
       "mean_score_time          ...   \n",
       "std_score_time           ...   \n",
       "param_max_depth          ...   \n",
       "param_max_features       ...   \n",
       "param_min_samples_leaf   ...   \n",
       "param_min_samples_split  ...   \n",
       "param_n_estimators       ...   \n",
       "params                   ...   \n",
       "split0_test_score        ...   \n",
       "split1_test_score        ...   \n",
       "split2_test_score        ...   \n",
       "split3_test_score        ...   \n",
       "split4_test_score        ...   \n",
       "mean_test_score          ...   \n",
       "std_test_score           ...   \n",
       "rank_test_score          ...   \n",
       "\n",
       "                                                                       962  \\\n",
       "mean_fit_time                                                      1.44748   \n",
       "std_fit_time                                                     0.0151192   \n",
       "mean_score_time                                                  0.0557092   \n",
       "std_score_time                                                  0.00197276   \n",
       "param_max_depth                                                       None   \n",
       "param_max_features                                                    sqrt   \n",
       "param_min_samples_leaf                                                   4   \n",
       "param_min_samples_split                                                  5   \n",
       "param_n_estimators                                                     500   \n",
       "params                   {'max_depth': None, 'max_features': 'sqrt', 'm...   \n",
       "split0_test_score                                                -0.286322   \n",
       "split1_test_score                                                 0.752523   \n",
       "split2_test_score                                                 0.484051   \n",
       "split3_test_score                                                 0.462684   \n",
       "split4_test_score                                                 0.622473   \n",
       "mean_test_score                                                   0.407082   \n",
       "std_test_score                                                     0.36209   \n",
       "rank_test_score                                                        846   \n",
       "\n",
       "                                                                       963  \\\n",
       "mean_fit_time                                                     0.279827   \n",
       "std_fit_time                                                    0.00392195   \n",
       "mean_score_time                                                   0.012056   \n",
       "std_score_time                                                 0.000564983   \n",
       "param_max_depth                                                       None   \n",
       "param_max_features                                                    sqrt   \n",
       "param_min_samples_leaf                                                   4   \n",
       "param_min_samples_split                                                 10   \n",
       "param_n_estimators                                                     100   \n",
       "params                   {'max_depth': None, 'max_features': 'sqrt', 'm...   \n",
       "split0_test_score                                                -0.343135   \n",
       "split1_test_score                                                 0.739526   \n",
       "split2_test_score                                                 0.480317   \n",
       "split3_test_score                                                 0.483177   \n",
       "split4_test_score                                                 0.599085   \n",
       "mean_test_score                                                   0.391794   \n",
       "std_test_score                                                    0.379525   \n",
       "rank_test_score                                                        901   \n",
       "\n",
       "                                                                       964  \\\n",
       "mean_fit_time                                                      0.42035   \n",
       "std_fit_time                                                    0.00630138   \n",
       "mean_score_time                                                  0.0171664   \n",
       "std_score_time                                                 0.000481815   \n",
       "param_max_depth                                                       None   \n",
       "param_max_features                                                    sqrt   \n",
       "param_min_samples_leaf                                                   4   \n",
       "param_min_samples_split                                                 10   \n",
       "param_n_estimators                                                     150   \n",
       "params                   {'max_depth': None, 'max_features': 'sqrt', 'm...   \n",
       "split0_test_score                                                -0.425992   \n",
       "split1_test_score                                                 0.771474   \n",
       "split2_test_score                                                  0.49797   \n",
       "split3_test_score                                                 0.460522   \n",
       "split4_test_score                                                 0.624447   \n",
       "mean_test_score                                                   0.385684   \n",
       "std_test_score                                                    0.420207   \n",
       "rank_test_score                                                        910   \n",
       "\n",
       "                                                                       965  \\\n",
       "mean_fit_time                                                      0.57092   \n",
       "std_fit_time                                                    0.00800471   \n",
       "mean_score_time                                                  0.0222377   \n",
       "std_score_time                                                 0.000194972   \n",
       "param_max_depth                                                       None   \n",
       "param_max_features                                                    sqrt   \n",
       "param_min_samples_leaf                                                   4   \n",
       "param_min_samples_split                                                 10   \n",
       "param_n_estimators                                                     200   \n",
       "params                   {'max_depth': None, 'max_features': 'sqrt', 'm...   \n",
       "split0_test_score                                                -0.477782   \n",
       "split1_test_score                                                 0.781157   \n",
       "split2_test_score                                                 0.497271   \n",
       "split3_test_score                                                 0.431116   \n",
       "split4_test_score                                                 0.624805   \n",
       "mean_test_score                                                   0.371313   \n",
       "std_test_score                                                    0.441052   \n",
       "rank_test_score                                                        939   \n",
       "\n",
       "                                                                       966  \\\n",
       "mean_fit_time                                                     0.703427   \n",
       "std_fit_time                                                     0.0136629   \n",
       "mean_score_time                                                  0.0278197   \n",
       "std_score_time                                                 0.000840894   \n",
       "param_max_depth                                                       None   \n",
       "param_max_features                                                    sqrt   \n",
       "param_min_samples_leaf                                                   4   \n",
       "param_min_samples_split                                                 10   \n",
       "param_n_estimators                                                     250   \n",
       "params                   {'max_depth': None, 'max_features': 'sqrt', 'm...   \n",
       "split0_test_score                                                -0.526974   \n",
       "split1_test_score                                                 0.731292   \n",
       "split2_test_score                                                 0.492934   \n",
       "split3_test_score                                                 0.456337   \n",
       "split4_test_score                                                  0.67187   \n",
       "mean_test_score                                                   0.365092   \n",
       "std_test_score                                                    0.457966   \n",
       "rank_test_score                                                        952   \n",
       "\n",
       "                                                                       967  \\\n",
       "mean_fit_time                                                      0.84851   \n",
       "std_fit_time                                                      0.014206   \n",
       "mean_score_time                                                  0.0328618   \n",
       "std_score_time                                                 0.000474477   \n",
       "param_max_depth                                                       None   \n",
       "param_max_features                                                    sqrt   \n",
       "param_min_samples_leaf                                                   4   \n",
       "param_min_samples_split                                                 10   \n",
       "param_n_estimators                                                     300   \n",
       "params                   {'max_depth': None, 'max_features': 'sqrt', 'm...   \n",
       "split0_test_score                                                -0.290493   \n",
       "split1_test_score                                                 0.759608   \n",
       "split2_test_score                                                 0.491651   \n",
       "split3_test_score                                                  0.47685   \n",
       "split4_test_score                                                 0.642371   \n",
       "mean_test_score                                                   0.415997   \n",
       "std_test_score                                                    0.368203   \n",
       "rank_test_score                                                        812   \n",
       "\n",
       "                                                                       968  \\\n",
       "mean_fit_time                                                     0.991417   \n",
       "std_fit_time                                                      0.011849   \n",
       "mean_score_time                                                  0.0381078   \n",
       "std_score_time                                                 0.000578875   \n",
       "param_max_depth                                                       None   \n",
       "param_max_features                                                    sqrt   \n",
       "param_min_samples_leaf                                                   4   \n",
       "param_min_samples_split                                                 10   \n",
       "param_n_estimators                                                     350   \n",
       "params                   {'max_depth': None, 'max_features': 'sqrt', 'm...   \n",
       "split0_test_score                                               -0.0971392   \n",
       "split1_test_score                                                 0.737006   \n",
       "split2_test_score                                                 0.467454   \n",
       "split3_test_score                                                 0.439282   \n",
       "split4_test_score                                                 0.648091   \n",
       "mean_test_score                                                   0.438939   \n",
       "std_test_score                                                    0.290097   \n",
       "rank_test_score                                                        717   \n",
       "\n",
       "                                                                       969  \\\n",
       "mean_fit_time                                                      1.12707   \n",
       "std_fit_time                                                    0.00971525   \n",
       "mean_score_time                                                  0.0439361   \n",
       "std_score_time                                                  0.00120994   \n",
       "param_max_depth                                                       None   \n",
       "param_max_features                                                    sqrt   \n",
       "param_min_samples_leaf                                                   4   \n",
       "param_min_samples_split                                                 10   \n",
       "param_n_estimators                                                     400   \n",
       "params                   {'max_depth': None, 'max_features': 'sqrt', 'm...   \n",
       "split0_test_score                                                -0.208309   \n",
       "split1_test_score                                                  0.75877   \n",
       "split2_test_score                                                 0.491564   \n",
       "split3_test_score                                                 0.474857   \n",
       "split4_test_score                                                 0.624217   \n",
       "mean_test_score                                                    0.42822   \n",
       "std_test_score                                                    0.334375   \n",
       "rank_test_score                                                        762   \n",
       "\n",
       "                                                                       970  \\\n",
       "mean_fit_time                                                      1.26783   \n",
       "std_fit_time                                                     0.0164099   \n",
       "mean_score_time                                                  0.0479626   \n",
       "std_score_time                                                  0.00031904   \n",
       "param_max_depth                                                       None   \n",
       "param_max_features                                                    sqrt   \n",
       "param_min_samples_leaf                                                   4   \n",
       "param_min_samples_split                                                 10   \n",
       "param_n_estimators                                                     450   \n",
       "params                   {'max_depth': None, 'max_features': 'sqrt', 'm...   \n",
       "split0_test_score                                                -0.380782   \n",
       "split1_test_score                                                 0.755148   \n",
       "split2_test_score                                                 0.526533   \n",
       "split3_test_score                                                 0.466079   \n",
       "split4_test_score                                                 0.650776   \n",
       "mean_test_score                                                   0.403551   \n",
       "std_test_score                                                     0.40471   \n",
       "rank_test_score                                                        862   \n",
       "\n",
       "                                                                       971  \n",
       "mean_fit_time                                                      1.40867  \n",
       "std_fit_time                                                     0.0182306  \n",
       "mean_score_time                                                  0.0532952  \n",
       "std_score_time                                                 0.000751205  \n",
       "param_max_depth                                                       None  \n",
       "param_max_features                                                    sqrt  \n",
       "param_min_samples_leaf                                                   4  \n",
       "param_min_samples_split                                                 10  \n",
       "param_n_estimators                                                     500  \n",
       "params                   {'max_depth': None, 'max_features': 'sqrt', 'm...  \n",
       "split0_test_score                                                -0.175671  \n",
       "split1_test_score                                                  0.74781  \n",
       "split2_test_score                                                 0.504194  \n",
       "split3_test_score                                                 0.461311  \n",
       "split4_test_score                                                 0.636426  \n",
       "mean_test_score                                                   0.434814  \n",
       "std_test_score                                                    0.321503  \n",
       "rank_test_score                                                        734  \n",
       "\n",
       "[18 rows x 972 columns]"
      ]
     },
     "execution_count": 46,
     "metadata": {},
     "output_type": "execute_result"
    }
   ],
   "source": [
    "pd.DataFrame(gsrf.cv_results_).T"
   ]
  },
  {
   "cell_type": "code",
   "execution_count": 47,
   "metadata": {
    "ExecuteTime": {
     "end_time": "2020-05-15T20:34:38.093122Z",
     "start_time": "2020-05-15T20:34:38.088870Z"
    }
   },
   "outputs": [
    {
     "data": {
      "text/plain": [
       "{'max_depth': 50,\n",
       " 'max_features': 'auto',\n",
       " 'min_samples_leaf': 2,\n",
       " 'min_samples_split': 10,\n",
       " 'n_estimators': 100}"
      ]
     },
     "execution_count": 47,
     "metadata": {},
     "output_type": "execute_result"
    }
   ],
   "source": [
    "gsrf.best_params_"
   ]
  },
  {
   "cell_type": "code",
   "execution_count": 13,
   "metadata": {
    "ExecuteTime": {
     "end_time": "2020-05-15T17:55:27.443955Z",
     "start_time": "2020-05-15T17:55:27.416844Z"
    }
   },
   "outputs": [
    {
     "name": "stderr",
     "output_type": "stream",
     "text": [
      "/home/vince/anaconda3/lib/python3.6/site-packages/ipykernel_launcher.py:9: SettingWithCopyWarning: \n",
      "A value is trying to be set on a copy of a slice from a DataFrame.\n",
      "Try using .loc[row_indexer,col_indexer] = value instead\n",
      "\n",
      "See the caveats in the documentation: https://pandas.pydata.org/pandas-docs/stable/user_guide/indexing.html#returning-a-view-versus-a-copy\n",
      "  if __name__ == '__main__':\n",
      "/home/vince/anaconda3/lib/python3.6/site-packages/ipykernel_launcher.py:10: SettingWithCopyWarning: \n",
      "A value is trying to be set on a copy of a slice from a DataFrame.\n",
      "Try using .loc[row_indexer,col_indexer] = value instead\n",
      "\n",
      "See the caveats in the documentation: https://pandas.pydata.org/pandas-docs/stable/user_guide/indexing.html#returning-a-view-versus-a-copy\n",
      "  # Remove the CWD from sys.path while we load stuff.\n"
     ]
    }
   ],
   "source": [
    "df = pd.read_csv(\"supervised_test.csv\", index_col=0);\n",
    "y = df.next_2_months_spend\n",
    "X = df.iloc[:,:-1]\n",
    "X = df_transform(X)"
   ]
  },
  {
   "cell_type": "code",
   "execution_count": 14,
   "metadata": {
    "ExecuteTime": {
     "end_time": "2020-05-15T17:55:28.356317Z",
     "start_time": "2020-05-15T17:55:28.334020Z"
    }
   },
   "outputs": [
    {
     "name": "stdout",
     "output_type": "stream",
     "text": [
      "927.0907296852886\n"
     ]
    },
    {
     "data": {
      "text/plain": [
       "927.0907296852886"
      ]
     },
     "execution_count": 14,
     "metadata": {},
     "output_type": "execute_result"
    }
   ],
   "source": [
    "# Validation for comparing with ML model\n",
    "RMSE(rf.predict(X), y)"
   ]
  },
  {
   "cell_type": "code",
   "execution_count": null,
   "metadata": {},
   "outputs": [],
   "source": [
    "# to compare with LTV"
   ]
  },
  {
   "cell_type": "code",
   "execution_count": 48,
   "metadata": {
    "ExecuteTime": {
     "end_time": "2020-05-15T20:35:41.149255Z",
     "start_time": "2020-05-15T20:35:40.074337Z"
    }
   },
   "outputs": [
    {
     "data": {
      "text/plain": [
       "RandomForestRegressor(bootstrap=True, ccp_alpha=0.0, criterion='mse',\n",
       "                      max_depth=50, max_features='auto', max_leaf_nodes=None,\n",
       "                      max_samples=None, min_impurity_decrease=0.0,\n",
       "                      min_impurity_split=None, min_samples_leaf=2,\n",
       "                      min_samples_split=10, min_weight_fraction_leaf=0.0,\n",
       "                      n_estimators=100, n_jobs=None, oob_score=False,\n",
       "                      random_state=None, verbose=0, warm_start=False)"
      ]
     },
     "execution_count": 48,
     "metadata": {},
     "output_type": "execute_result"
    }
   ],
   "source": [
    "df = pd.read_csv(\"supervised_all.csv\", index_col=0);\n",
    "y = df.next_2_months_spend\n",
    "X = df.iloc[:,:-1]\n",
    "X = df_transform(X)\n",
    "rf = RandomForestRegressor(max_depth = 50,\n",
    "                             max_features = 'auto',\n",
    "                             min_samples_leaf = 2,\n",
    "                             min_samples_split = 10,\n",
    "                             n_estimators = 100\n",
    "                            )\n",
    "rf.fit(X, y)"
   ]
  },
  {
   "cell_type": "code",
   "execution_count": 49,
   "metadata": {
    "ExecuteTime": {
     "end_time": "2020-05-15T20:35:43.587007Z",
     "start_time": "2020-05-15T20:35:43.548361Z"
    },
    "scrolled": true
   },
   "outputs": [
    {
     "name": "stdout",
     "output_type": "stream",
     "text": [
      "1808.161064332371\n"
     ]
    },
    {
     "data": {
      "text/plain": [
       "1808.161064332371"
      ]
     },
     "execution_count": 49,
     "metadata": {},
     "output_type": "execute_result"
    }
   ],
   "source": [
    "# to compare with LTV\n",
    "data = df_transform(X_test2)\n",
    "RMSE(rf.predict(data), y_test2)"
   ]
  },
  {
   "cell_type": "markdown",
   "metadata": {},
   "source": [
    "Worse than LTV"
   ]
  },
  {
   "cell_type": "markdown",
   "metadata": {},
   "source": [
    "## linear Regression"
   ]
  },
  {
   "cell_type": "code",
   "execution_count": 31,
   "metadata": {
    "ExecuteTime": {
     "end_time": "2020-05-15T18:31:31.432233Z",
     "start_time": "2020-05-15T18:31:30.272806Z"
    }
   },
   "outputs": [
    {
     "name": "stderr",
     "output_type": "stream",
     "text": [
      "/home/vince/anaconda3/lib/python3.6/site-packages/ipykernel_launcher.py:9: SettingWithCopyWarning: \n",
      "A value is trying to be set on a copy of a slice from a DataFrame.\n",
      "Try using .loc[row_indexer,col_indexer] = value instead\n",
      "\n",
      "See the caveats in the documentation: https://pandas.pydata.org/pandas-docs/stable/user_guide/indexing.html#returning-a-view-versus-a-copy\n",
      "  if __name__ == '__main__':\n",
      "/home/vince/anaconda3/lib/python3.6/site-packages/ipykernel_launcher.py:10: SettingWithCopyWarning: \n",
      "A value is trying to be set on a copy of a slice from a DataFrame.\n",
      "Try using .loc[row_indexer,col_indexer] = value instead\n",
      "\n",
      "See the caveats in the documentation: https://pandas.pydata.org/pandas-docs/stable/user_guide/indexing.html#returning-a-view-versus-a-copy\n",
      "  # Remove the CWD from sys.path while we load stuff.\n"
     ]
    },
    {
     "data": {
      "text/plain": [
       "RandomForestRegressor(bootstrap=True, ccp_alpha=0.0, criterion='mse',\n",
       "                      max_depth=None, max_features='auto', max_leaf_nodes=None,\n",
       "                      max_samples=None, min_impurity_decrease=0.0,\n",
       "                      min_impurity_split=None, min_samples_leaf=1,\n",
       "                      min_samples_split=2, min_weight_fraction_leaf=0.0,\n",
       "                      n_estimators=100, n_jobs=None, oob_score=False,\n",
       "                      random_state=None, verbose=0, warm_start=False)"
      ]
     },
     "execution_count": 31,
     "metadata": {},
     "output_type": "execute_result"
    }
   ],
   "source": [
    "df = pd.read_csv(\"supervised_all.csv\", index_col=0);\n",
    "y = df.next_2_months_spend\n",
    "X = df.iloc[:,:-1]\n",
    "X = df_transform(X)\n",
    "rf = RandomForestRegressor()\n",
    "rf.fit(X, y)"
   ]
  },
  {
   "cell_type": "code",
   "execution_count": 32,
   "metadata": {
    "ExecuteTime": {
     "end_time": "2020-05-15T18:31:31.710132Z",
     "start_time": "2020-05-15T18:31:31.660748Z"
    }
   },
   "outputs": [
    {
     "name": "stdout",
     "output_type": "stream",
     "text": [
      "1774.0251487882329\n"
     ]
    },
    {
     "name": "stderr",
     "output_type": "stream",
     "text": [
      "/home/vince/anaconda3/lib/python3.6/site-packages/ipykernel_launcher.py:9: SettingWithCopyWarning: \n",
      "A value is trying to be set on a copy of a slice from a DataFrame.\n",
      "Try using .loc[row_indexer,col_indexer] = value instead\n",
      "\n",
      "See the caveats in the documentation: https://pandas.pydata.org/pandas-docs/stable/user_guide/indexing.html#returning-a-view-versus-a-copy\n",
      "  if __name__ == '__main__':\n",
      "/home/vince/anaconda3/lib/python3.6/site-packages/ipykernel_launcher.py:10: SettingWithCopyWarning: \n",
      "A value is trying to be set on a copy of a slice from a DataFrame.\n",
      "Try using .loc[row_indexer,col_indexer] = value instead\n",
      "\n",
      "See the caveats in the documentation: https://pandas.pydata.org/pandas-docs/stable/user_guide/indexing.html#returning-a-view-versus-a-copy\n",
      "  # Remove the CWD from sys.path while we load stuff.\n"
     ]
    },
    {
     "data": {
      "text/plain": [
       "1774.0251487882329"
      ]
     },
     "execution_count": 32,
     "metadata": {},
     "output_type": "execute_result"
    }
   ],
   "source": [
    "# to compare with LTV\n",
    "data = df_transform(X_test2)\n",
    "RMSE(rf.predict(data), y_test2)"
   ]
  },
  {
   "cell_type": "markdown",
   "metadata": {},
   "source": [
    "## SVM"
   ]
  },
  {
   "cell_type": "code",
   "execution_count": 52,
   "metadata": {
    "ExecuteTime": {
     "end_time": "2020-05-15T20:42:23.003853Z",
     "start_time": "2020-05-15T20:42:22.937583Z"
    }
   },
   "outputs": [],
   "source": [
    "df = pd.read_csv(\"supervised_train.csv\", index_col=0);\n",
    "y = df.next_2_months_spend\n",
    "X = df.iloc[:,:-1]\n",
    "X = df_transform(X)"
   ]
  },
  {
   "cell_type": "code",
   "execution_count": 56,
   "metadata": {
    "ExecuteTime": {
     "end_time": "2020-05-15T20:44:21.805580Z",
     "start_time": "2020-05-15T20:44:21.418353Z"
    }
   },
   "outputs": [
    {
     "name": "stdout",
     "output_type": "stream",
     "text": [
      "2682.0596263977036\n"
     ]
    },
    {
     "data": {
      "text/plain": [
       "2682.0596263977036"
      ]
     },
     "execution_count": 56,
     "metadata": {},
     "output_type": "execute_result"
    }
   ],
   "source": [
    "svm = SVR()\n",
    "svm.fit(X, y)\n",
    "\n",
    "svm_prediction = svm.predict(X)\n",
    "# Score in Train\n",
    "RMSE(svm_prediction, y)"
   ]
  },
  {
   "cell_type": "markdown",
   "metadata": {},
   "source": [
    "# Final Model"
   ]
  },
  {
   "cell_type": "code",
   "execution_count": 771,
   "metadata": {
    "ExecuteTime": {
     "end_time": "2020-05-15T01:33:56.706117Z",
     "start_time": "2020-05-15T01:33:56.696861Z"
    }
   },
   "outputs": [],
   "source": [
    "df_RFM = pd.read_csv(\"fdb_RFM3_train.csv\", index_col=0);"
   ]
  },
  {
   "cell_type": "code",
   "execution_count": 865,
   "metadata": {
    "ExecuteTime": {
     "end_time": "2020-05-15T05:32:16.119518Z",
     "start_time": "2020-05-15T05:32:16.110001Z"
    }
   },
   "outputs": [],
   "source": [
    "df_RFM_test = pd.read_csv(\"fdb_RFM3_test.csv\", index_col=0);"
   ]
  },
  {
   "cell_type": "code",
   "execution_count": 864,
   "metadata": {
    "ExecuteTime": {
     "end_time": "2020-05-15T05:31:44.550256Z",
     "start_time": "2020-05-15T05:31:43.802504Z"
    }
   },
   "outputs": [
    {
     "data": {
      "text/plain": [
       "<lifetimes.GammaGammaFitter: fitted with 1880 subjects, p: 1.63, q: 0.23, v: 1.86>"
      ]
     },
     "execution_count": 864,
     "metadata": {},
     "output_type": "execute_result"
    }
   ],
   "source": [
    "# final model\n",
    "data = df_transform(df_RFM)\n",
    "# Model\n",
    "bgf = ParetoNBDFitter(penalizer_coef=0.04)\n",
    "bgf.fit(data['frequency'], data['recency'], data['T'])\n",
    "returning_customers_summary = data[data['frequency']>0]\n",
    "ggf = GammaGammaFitter(penalizer_coef = 0.03)\n",
    "ggf.fit(returning_customers_summary['frequency'],\n",
    "        returning_customers_summary['monetary_value'])"
   ]
  },
  {
   "cell_type": "code",
   "execution_count": 876,
   "metadata": {
    "ExecuteTime": {
     "end_time": "2020-05-15T05:43:05.911098Z",
     "start_time": "2020-05-15T05:43:05.906475Z"
    }
   },
   "outputs": [],
   "source": [
    "# Model Predict\n",
    "def predict_at_one_time(df, bgf, ggf, t=61):\n",
    "    data_test = df_transform(df)\n",
    "    data_test['predicted_purchases'] = bgf.conditional_expected_number_of_purchases_up_to_time(t,\n",
    "                            data_test['frequency'], data_test['recency'], data_test['T'])\n",
    "    returning_customers_summary2 = data_test[data_test['frequency']>0]\n",
    "    returning_customers_summary2[\"predict\"] = ggf.conditional_expected_average_profit(\n",
    "                                                            returning_customers_summary2['frequency'],\n",
    "                                                            returning_customers_summary2['monetary_value'] )\n",
    "    data_test[\"predict_avg_amount\"] = returning_customers_summary2[\"predict\"]\n",
    "    data_test[\"predict_avg_amount\"][data_test[\"frequency\"] == 0] = data_test[data_test[\"frequency\"] == 0][\"monetary_value\"]\n",
    "    data_test[\"sales_predict\"] = data_test[\"predict_avg_amount\"] * data_test[\"predicted_purchases\"]\n",
    "    return data_test"
   ]
  },
  {
   "cell_type": "code",
   "execution_count": 877,
   "metadata": {
    "ExecuteTime": {
     "end_time": "2020-05-15T05:43:18.503306Z",
     "start_time": "2020-05-15T05:43:18.465477Z"
    }
   },
   "outputs": [],
   "source": [
    "data_test = predict_at_one_time(df_RFM_test, bgf, ggf, t=61)"
   ]
  },
  {
   "cell_type": "code",
   "execution_count": 880,
   "metadata": {
    "ExecuteTime": {
     "end_time": "2020-05-15T05:45:35.142737Z",
     "start_time": "2020-05-15T05:45:35.140027Z"
    }
   },
   "outputs": [],
   "source": [
    "sales_actual = df_RFM[\"next_2_months_spend\"]\n",
    "sales_actual2 = df_RFM_test[\"next_2_months_spend\"]"
   ]
  },
  {
   "cell_type": "markdown",
   "metadata": {},
   "source": [
    "Trainning Scores for final Model"
   ]
  },
  {
   "cell_type": "code",
   "execution_count": 881,
   "metadata": {
    "ExecuteTime": {
     "end_time": "2020-05-15T05:45:39.621942Z",
     "start_time": "2020-05-15T05:45:39.549794Z"
    }
   },
   "outputs": [
    {
     "name": "stdout",
     "output_type": "stream",
     "text": [
      "1546.8674916135808\n"
     ]
    },
    {
     "data": {
      "text/plain": [
       "1546.8674916135808"
      ]
     },
     "execution_count": 881,
     "metadata": {},
     "output_type": "execute_result"
    }
   ],
   "source": [
    "# LTV\n",
    "RMSE(predict_at_one_time(df_RFM, bgf, ggf, t=61).sales_predict,sales_actual)"
   ]
  },
  {
   "cell_type": "code",
   "execution_count": 882,
   "metadata": {
    "ExecuteTime": {
     "end_time": "2020-05-15T05:46:07.905440Z",
     "start_time": "2020-05-15T05:46:07.899386Z"
    }
   },
   "outputs": [
    {
     "name": "stdout",
     "output_type": "stream",
     "text": [
      "2557.094099492046\n"
     ]
    },
    {
     "data": {
      "text/plain": [
       "2557.094099492046"
      ]
     },
     "execution_count": 882,
     "metadata": {},
     "output_type": "execute_result"
    }
   ],
   "source": [
    "# lifetime average prediction\n",
    "RMSE(lt_avg_pred(df_RFM, 61),sales_actual)"
   ]
  },
  {
   "cell_type": "code",
   "execution_count": 883,
   "metadata": {
    "ExecuteTime": {
     "end_time": "2020-05-15T05:46:11.848110Z",
     "start_time": "2020-05-15T05:46:11.842354Z"
    }
   },
   "outputs": [
    {
     "name": "stdout",
     "output_type": "stream",
     "text": [
      "2540.1500123724904\n"
     ]
    },
    {
     "data": {
      "text/plain": [
       "2540.1500123724904"
      ]
     },
     "execution_count": 883,
     "metadata": {},
     "output_type": "execute_result"
    }
   ],
   "source": [
    "# latest period prediction\n",
    "RMSE(last_2m_prediction(df_RFM),sales_actual)"
   ]
  },
  {
   "cell_type": "markdown",
   "metadata": {},
   "source": [
    "Test Scores for final Model"
   ]
  },
  {
   "cell_type": "code",
   "execution_count": 873,
   "metadata": {
    "ExecuteTime": {
     "end_time": "2020-05-15T05:39:40.118156Z",
     "start_time": "2020-05-15T05:39:40.113091Z"
    }
   },
   "outputs": [
    {
     "name": "stdout",
     "output_type": "stream",
     "text": [
      "613.2913604905153\n"
     ]
    },
    {
     "data": {
      "text/plain": [
       "613.2913604905153"
      ]
     },
     "execution_count": 873,
     "metadata": {},
     "output_type": "execute_result"
    }
   ],
   "source": [
    "RMSE(data_test.sales_predict,sales_actual2)"
   ]
  },
  {
   "cell_type": "code",
   "execution_count": 816,
   "metadata": {
    "ExecuteTime": {
     "end_time": "2020-05-15T01:51:08.367396Z",
     "start_time": "2020-05-15T01:51:08.361872Z"
    }
   },
   "outputs": [
    {
     "name": "stdout",
     "output_type": "stream",
     "text": [
      "805.8475508762967\n"
     ]
    },
    {
     "data": {
      "text/plain": [
       "805.8475508762967"
      ]
     },
     "execution_count": 816,
     "metadata": {},
     "output_type": "execute_result"
    }
   ],
   "source": [
    "# lifetime average prediction\n",
    "RMSE(lt_avg_pred(df_RFM, 61),sales_actual2)"
   ]
  },
  {
   "cell_type": "code",
   "execution_count": 818,
   "metadata": {
    "ExecuteTime": {
     "end_time": "2020-05-15T01:52:51.747870Z",
     "start_time": "2020-05-15T01:52:51.741327Z"
    }
   },
   "outputs": [
    {
     "name": "stdout",
     "output_type": "stream",
     "text": [
      "716.5673492484322\n"
     ]
    },
    {
     "data": {
      "text/plain": [
       "716.5673492484322"
      ]
     },
     "execution_count": 818,
     "metadata": {},
     "output_type": "execute_result"
    }
   ],
   "source": [
    "# latest period prediction\n",
    "RMSE(last_2m_prediction(df_RFM),sales_actual2)"
   ]
  },
  {
   "cell_type": "markdown",
   "metadata": {},
   "source": [
    "## Prediction"
   ]
  },
  {
   "cell_type": "code",
   "execution_count": 892,
   "metadata": {
    "ExecuteTime": {
     "end_time": "2020-05-15T05:49:10.916531Z",
     "start_time": "2020-05-15T05:49:10.912385Z"
    }
   },
   "outputs": [],
   "source": [
    "data_test[\"LTV\"] = data_test[\"predicted_purchases\"]*data_test[\"predict_avg_amount\"]"
   ]
  },
  {
   "cell_type": "code",
   "execution_count": 893,
   "metadata": {
    "ExecuteTime": {
     "end_time": "2020-05-15T05:49:11.280505Z",
     "start_time": "2020-05-15T05:49:11.277125Z"
    }
   },
   "outputs": [],
   "source": [
    "a =data_test[\"LTV\"].sum()\n",
    "b =df_RFM_test[\"next_2_months_spend\"].sum()\n",
    "c = df_RFM_test[\"last_2_months_spend\"].sum()"
   ]
  },
  {
   "cell_type": "code",
   "execution_count": 894,
   "metadata": {
    "ExecuteTime": {
     "end_time": "2020-05-15T05:49:11.837294Z",
     "start_time": "2020-05-15T05:49:11.738967Z"
    }
   },
   "outputs": [
    {
     "data": {
      "image/png": "[encoded data removed]",
      "text/plain": [
       "<Figure size 432x288 with 1 Axes>"
      ]
     },
     "metadata": {
      "needs_background": "light"
     },
     "output_type": "display_data"
    }
   ],
   "source": [
    "bar = [b,a,c]\n",
    "labels = ['Actual', 'LTV Prediction', 'Avg Prediction']\n",
    "plt.xticks(range(len(bar)), labels)\n",
    "plt.xlabel('Type')\n",
    "plt.ylabel('Amounts')\n",
    "plt.title('Prediction on Test Set')\n",
    "plt.bar(range(len(bar)), bar) \n",
    "plt.grid(color='#95a5a6', linestyle='--', linewidth=2, axis='y', alpha=0.5)\n",
    "\n",
    "plt.show()"
   ]
  },
  {
   "cell_type": "markdown",
   "metadata": {},
   "source": [
    "## Churn Warning"
   ]
  },
  {
   "cell_type": "code",
   "execution_count": 895,
   "metadata": {
    "ExecuteTime": {
     "end_time": "2020-05-15T05:49:25.801756Z",
     "start_time": "2020-05-15T05:49:25.654467Z"
    }
   },
   "outputs": [
    {
     "data": {
      "text/plain": [
       "<matplotlib.axes._subplots.AxesSubplot at 0x7f9a7f0c1048>"
      ]
     },
     "execution_count": 895,
     "metadata": {},
     "output_type": "execute_result"
    },
    {
     "data": {
      "image/png": "[encoded data removed]",
      "text/plain": [
       "<Figure size 720x432 with 1 Axes>"
      ]
     },
     "metadata": {
      "needs_background": "light"
     },
     "output_type": "display_data"
    }
   ],
   "source": [
    "data_test[\"predicted_purchases\"].hist(figsize = (10,6),bins=20)"
   ]
  },
  {
   "cell_type": "code",
   "execution_count": 896,
   "metadata": {
    "ExecuteTime": {
     "end_time": "2020-05-15T05:49:33.017397Z",
     "start_time": "2020-05-15T05:49:33.004344Z"
    }
   },
   "outputs": [
    {
     "data": {
      "text/html": [
       "<div>\n",
       "<style scoped>\n",
       "    .dataframe tbody tr th:only-of-type {\n",
       "        vertical-align: middle;\n",
       "    }\n",
       "\n",
       "    .dataframe tbody tr th {\n",
       "        vertical-align: top;\n",
       "    }\n",
       "\n",
       "    .dataframe thead th {\n",
       "        text-align: right;\n",
       "    }\n",
       "</style>\n",
       "<table border=\"1\" class=\"dataframe\">\n",
       "  <thead>\n",
       "    <tr style=\"text-align: right;\">\n",
       "      <th></th>\n",
       "      <th>frequency</th>\n",
       "      <th>recency</th>\n",
       "      <th>T</th>\n",
       "      <th>total_purchase_amount_x</th>\n",
       "      <th>monetary_value</th>\n",
       "      <th>predicted_purchases</th>\n",
       "      <th>predict_avg_amount</th>\n",
       "      <th>sales_predict</th>\n",
       "      <th>LTV</th>\n",
       "    </tr>\n",
       "  </thead>\n",
       "  <tbody>\n",
       "    <tr>\n",
       "      <th>2802</th>\n",
       "      <td>1</td>\n",
       "      <td>97</td>\n",
       "      <td>263</td>\n",
       "      <td>21535.90</td>\n",
       "      <td>10767.950000</td>\n",
       "      <td>0.318241</td>\n",
       "      <td>20393.193511</td>\n",
       "      <td>6489.955400</td>\n",
       "      <td>6489.955400</td>\n",
       "    </tr>\n",
       "    <tr>\n",
       "      <th>2915</th>\n",
       "      <td>9</td>\n",
       "      <td>257</td>\n",
       "      <td>288</td>\n",
       "      <td>24987.75</td>\n",
       "      <td>2498.775000</td>\n",
       "      <td>1.707702</td>\n",
       "      <td>2637.259115</td>\n",
       "      <td>4503.651938</td>\n",
       "      <td>4503.651938</td>\n",
       "    </tr>\n",
       "    <tr>\n",
       "      <th>1539</th>\n",
       "      <td>8</td>\n",
       "      <td>152</td>\n",
       "      <td>183</td>\n",
       "      <td>10217.48</td>\n",
       "      <td>1135.275556</td>\n",
       "      <td>2.188584</td>\n",
       "      <td>1206.685631</td>\n",
       "      <td>2640.932311</td>\n",
       "      <td>2640.932311</td>\n",
       "    </tr>\n",
       "    <tr>\n",
       "      <th>67</th>\n",
       "      <td>4</td>\n",
       "      <td>80</td>\n",
       "      <td>102</td>\n",
       "      <td>6348.08</td>\n",
       "      <td>1269.616000</td>\n",
       "      <td>1.809211</td>\n",
       "      <td>1439.955734</td>\n",
       "      <td>2605.183319</td>\n",
       "      <td>2605.183319</td>\n",
       "    </tr>\n",
       "    <tr>\n",
       "      <th>2411</th>\n",
       "      <td>1</td>\n",
       "      <td>10</td>\n",
       "      <td>11</td>\n",
       "      <td>1631.77</td>\n",
       "      <td>815.885000</td>\n",
       "      <td>1.601183</td>\n",
       "      <td>1548.433965</td>\n",
       "      <td>2479.326336</td>\n",
       "      <td>2479.326336</td>\n",
       "    </tr>\n",
       "    <tr>\n",
       "      <th>2980</th>\n",
       "      <td>1</td>\n",
       "      <td>2</td>\n",
       "      <td>103</td>\n",
       "      <td>4016.66</td>\n",
       "      <td>2008.330000</td>\n",
       "      <td>0.624501</td>\n",
       "      <td>3806.391413</td>\n",
       "      <td>2377.093424</td>\n",
       "      <td>2377.093424</td>\n",
       "    </tr>\n",
       "    <tr>\n",
       "      <th>393</th>\n",
       "      <td>3</td>\n",
       "      <td>171</td>\n",
       "      <td>207</td>\n",
       "      <td>9229.54</td>\n",
       "      <td>2307.385000</td>\n",
       "      <td>0.866054</td>\n",
       "      <td>2738.811226</td>\n",
       "      <td>2371.959133</td>\n",
       "      <td>2371.959133</td>\n",
       "    </tr>\n",
       "    <tr>\n",
       "      <th>679</th>\n",
       "      <td>3</td>\n",
       "      <td>203</td>\n",
       "      <td>209</td>\n",
       "      <td>8516.77</td>\n",
       "      <td>2129.192500</td>\n",
       "      <td>0.868136</td>\n",
       "      <td>2527.357626</td>\n",
       "      <td>2194.089250</td>\n",
       "      <td>2194.089250</td>\n",
       "    </tr>\n",
       "    <tr>\n",
       "      <th>2873</th>\n",
       "      <td>7</td>\n",
       "      <td>248</td>\n",
       "      <td>268</td>\n",
       "      <td>11278.48</td>\n",
       "      <td>1409.810000</td>\n",
       "      <td>1.449989</td>\n",
       "      <td>1512.003992</td>\n",
       "      <td>2192.388750</td>\n",
       "      <td>2192.388750</td>\n",
       "    </tr>\n",
       "    <tr>\n",
       "      <th>2538</th>\n",
       "      <td>26</td>\n",
       "      <td>295</td>\n",
       "      <td>300</td>\n",
       "      <td>12558.70</td>\n",
       "      <td>465.137037</td>\n",
       "      <td>4.545966</td>\n",
       "      <td>473.807857</td>\n",
       "      <td>2153.914282</td>\n",
       "      <td>2153.914282</td>\n",
       "    </tr>\n",
       "  </tbody>\n",
       "</table>\n",
       "</div>"
      ],
      "text/plain": [
       "      frequency  recency    T  total_purchase_amount_x  monetary_value  \\\n",
       "2802          1       97  263                 21535.90    10767.950000   \n",
       "2915          9      257  288                 24987.75     2498.775000   \n",
       "1539          8      152  183                 10217.48     1135.275556   \n",
       "67            4       80  102                  6348.08     1269.616000   \n",
       "2411          1       10   11                  1631.77      815.885000   \n",
       "2980          1        2  103                  4016.66     2008.330000   \n",
       "393           3      171  207                  9229.54     2307.385000   \n",
       "679           3      203  209                  8516.77     2129.192500   \n",
       "2873          7      248  268                 11278.48     1409.810000   \n",
       "2538         26      295  300                 12558.70      465.137037   \n",
       "\n",
       "      predicted_purchases  predict_avg_amount  sales_predict          LTV  \n",
       "2802             0.318241        20393.193511    6489.955400  6489.955400  \n",
       "2915             1.707702         2637.259115    4503.651938  4503.651938  \n",
       "1539             2.188584         1206.685631    2640.932311  2640.932311  \n",
       "67               1.809211         1439.955734    2605.183319  2605.183319  \n",
       "2411             1.601183         1548.433965    2479.326336  2479.326336  \n",
       "2980             0.624501         3806.391413    2377.093424  2377.093424  \n",
       "393              0.866054         2738.811226    2371.959133  2371.959133  \n",
       "679              0.868136         2527.357626    2194.089250  2194.089250  \n",
       "2873             1.449989         1512.003992    2192.388750  2192.388750  \n",
       "2538             4.545966          473.807857    2153.914282  2153.914282  "
      ]
     },
     "execution_count": 896,
     "metadata": {},
     "output_type": "execute_result"
    }
   ],
   "source": [
    "data_test.sort_values(\"LTV\", ascending=False).head(10)"
   ]
  },
  {
   "cell_type": "markdown",
   "metadata": {
    "ExecuteTime": {
     "end_time": "2020-05-15T02:09:16.455347Z",
     "start_time": "2020-05-15T02:09:16.451233Z"
    }
   },
   "source": [
    "## 80/20 Rule? Who are the VIP?"
   ]
  },
  {
   "cell_type": "code",
   "execution_count": 897,
   "metadata": {
    "ExecuteTime": {
     "end_time": "2020-05-15T05:50:34.148532Z",
     "start_time": "2020-05-15T05:50:34.140593Z"
    }
   },
   "outputs": [
    {
     "data": {
      "text/plain": [
       "0.42247265128595796"
      ]
     },
     "execution_count": 897,
     "metadata": {},
     "output_type": "execute_result"
    }
   ],
   "source": [
    "data_test.sort_values(\"LTV\", ascending=False).head(int(data_test.shape[0]/10))[\"LTV\"].sum() / data_test[\"LTV\"].sum()"
   ]
  },
  {
   "cell_type": "code",
   "execution_count": 898,
   "metadata": {
    "ExecuteTime": {
     "end_time": "2020-05-15T05:50:35.254222Z",
     "start_time": "2020-05-15T05:50:35.250010Z"
    }
   },
   "outputs": [],
   "source": [
    "top20_LTV_share = data_test.sort_values(\"LTV\", ascending=False).head(int(data_test.shape[0]/5))[\"LTV\"].sum() / data_test[\"LTV\"].sum()"
   ]
  },
  {
   "cell_type": "code",
   "execution_count": 899,
   "metadata": {
    "ExecuteTime": {
     "end_time": "2020-05-15T05:50:36.387586Z",
     "start_time": "2020-05-15T05:50:36.326436Z"
    },
    "scrolled": true
   },
   "outputs": [
    {
     "data": {
      "image/png": "[encoded data removed]",
      "text/plain": [
       "<Figure size 432x288 with 1 Axes>"
      ]
     },
     "metadata": {},
     "output_type": "display_data"
    }
   ],
   "source": [
    "# Pie chart, where the slices will be ordered and plotted counter-clockwise:\n",
    "labels = 'Top 20%', 'Rest'\n",
    "sizes = [top20_LTV_share.round(3), 1- top20_LTV_share.round(3)]\n",
    "explode = (0.1, 0)  # only \"explode\" the 2nd slice (i.e. 'Hogs')\n",
    "\n",
    "fig1, ax1 = plt.subplots()\n",
    "ax1.pie(sizes, explode=explode, labels=labels, autopct='%1.1f%%',\n",
    "        shadow=True, startangle=90)\n",
    "ax1.axis('equal')  # Equal aspect ratio ensures that pie is drawn as a circle.\n",
    "ax1.legend()\n",
    "ax1.set_title(\"Top 20% customer LTV share\")\n",
    "\n",
    "plt.show()"
   ]
  },
  {
   "cell_type": "markdown",
   "metadata": {},
   "source": [
    "## take two individual as example"
   ]
  },
  {
   "cell_type": "code",
   "execution_count": 916,
   "metadata": {
    "ExecuteTime": {
     "end_time": "2020-05-15T06:03:33.957378Z",
     "start_time": "2020-05-15T06:03:33.952126Z"
    }
   },
   "outputs": [
    {
     "data": {
      "text/plain": [
       "CustomerID                      16010\n",
       "first_purchase_date        2010-12-12\n",
       "last_purchase_date         2011-04-08\n",
       "total_purchases                     3\n",
       "total_purchase_amount_x         407.5\n",
       "last_2_months_spend                 0\n",
       "RFM                             1-1-1\n",
       "next_2_months_spend                 0\n",
       "T                                 293\n",
       "recency                           117\n",
       "frequency                           2\n",
       "Name: 1236, dtype: object"
      ]
     },
     "execution_count": 916,
     "metadata": {},
     "output_type": "execute_result"
    }
   ],
   "source": [
    "# Jessie\n",
    "df_RFM_test.loc[1236]"
   ]
  },
  {
   "cell_type": "code",
   "execution_count": 912,
   "metadata": {
    "ExecuteTime": {
     "end_time": "2020-05-15T05:59:41.162990Z",
     "start_time": "2020-05-15T05:59:41.157987Z"
    }
   },
   "outputs": [
    {
     "data": {
      "text/plain": [
       "frequency                    2.000000\n",
       "recency                    117.000000\n",
       "T                          293.000000\n",
       "total_purchase_amount_x    407.500000\n",
       "monetary_value             135.833333\n",
       "predicted_purchases          0.434519\n",
       "predict_avg_amount         178.993758\n",
       "sales_predict               77.776133\n",
       "LTV                         77.776133\n",
       "Name: 1236, dtype: float64"
      ]
     },
     "execution_count": 912,
     "metadata": {},
     "output_type": "execute_result"
    }
   ],
   "source": [
    "data_test.loc[1236]"
   ]
  },
  {
   "cell_type": "code",
   "execution_count": 924,
   "metadata": {
    "ExecuteTime": {
     "end_time": "2020-05-15T07:59:38.427322Z",
     "start_time": "2020-05-15T07:59:38.411163Z"
    }
   },
   "outputs": [
    {
     "data": {
      "text/plain": [
       "0.8889886237602888"
      ]
     },
     "execution_count": 924,
     "metadata": {},
     "output_type": "execute_result"
    }
   ],
   "source": [
    "bgf.conditional_probability_alive(data_test['frequency'], data_test['recency'], data_test['T']).loc[1236]"
   ]
  },
  {
   "cell_type": "code",
   "execution_count": 914,
   "metadata": {
    "ExecuteTime": {
     "end_time": "2020-05-15T06:01:50.688320Z",
     "start_time": "2020-05-15T06:01:50.684106Z"
    }
   },
   "outputs": [
    {
     "data": {
      "text/plain": [
       "CustomerID                      17287\n",
       "first_purchase_date        2010-12-02\n",
       "last_purchase_date         2011-09-26\n",
       "total_purchases                     6\n",
       "total_purchase_amount_x         880.3\n",
       "last_2_months_spend            177.89\n",
       "RFM                             1-1-2\n",
       "next_2_months_spend            183.81\n",
       "T                                 303\n",
       "recency                           298\n",
       "frequency                           5\n",
       "Name: 2750, dtype: object"
      ]
     },
     "execution_count": 914,
     "metadata": {},
     "output_type": "execute_result"
    }
   ],
   "source": [
    "# Ellie divide 2.2\n",
    "df_RFM_test.loc[2750]"
   ]
  },
  {
   "cell_type": "code",
   "execution_count": 915,
   "metadata": {
    "ExecuteTime": {
     "end_time": "2020-05-15T06:02:02.748339Z",
     "start_time": "2020-05-15T06:02:02.743987Z"
    }
   },
   "outputs": [
    {
     "data": {
      "text/plain": [
       "frequency                    5.000000\n",
       "recency                    298.000000\n",
       "T                          303.000000\n",
       "total_purchase_amount_x    880.300000\n",
       "monetary_value             146.716667\n",
       "predicted_purchases          0.979101\n",
       "predict_avg_amount         162.416280\n",
       "sales_predict              159.022008\n",
       "LTV                        159.022008\n",
       "Name: 2750, dtype: float64"
      ]
     },
     "execution_count": 915,
     "metadata": {},
     "output_type": "execute_result"
    }
   ],
   "source": [
    "data_test.loc[2750]"
   ]
  },
  {
   "cell_type": "code",
   "execution_count": 923,
   "metadata": {
    "ExecuteTime": {
     "end_time": "2020-05-15T07:59:33.709540Z",
     "start_time": "2020-05-15T07:59:33.695046Z"
    }
   },
   "outputs": [
    {
     "data": {
      "text/plain": [
       "0.9990540857344504"
      ]
     },
     "execution_count": 923,
     "metadata": {},
     "output_type": "execute_result"
    }
   ],
   "source": [
    "bgf.conditional_probability_alive(data_test['frequency'], data_test['recency'], data_test['T']).loc[2750]"
   ]
  },
  {
   "cell_type": "code",
   "execution_count": null,
   "metadata": {},
   "outputs": [],
   "source": []
  }
 ],
 "metadata": {
  "kernelspec": {
   "display_name": "Python 3",
   "language": "python",
   "name": "python3"
  },
  "language_info": {
   "codemirror_mode": {
    "name": "ipython",
    "version": 3
   },
   "file_extension": ".py",
   "mimetype": "text/x-python",
   "name": "python",
   "nbconvert_exporter": "python",
   "pygments_lexer": "ipython3",
   "version": "3.6.5"
  },
  "toc": {
   "base_numbering": 1,
   "nav_menu": {},
   "number_sections": true,
   "sideBar": true,
   "skip_h1_title": false,
   "title_cell": "Table of Contents",
   "title_sidebar": "Contents",
   "toc_cell": false,
   "toc_position": {
    "height": "calc(100% - 180px)",
    "left": "10px",
    "top": "150px",
    "width": "426.667px"
   },
   "toc_section_display": true,
   "toc_window_display": true
  },
  "varInspector": {
   "cols": {
    "lenName": 16,
    "lenType": 16,
    "lenVar": 40
   },
   "kernels_config": {
    "python": {
     "delete_cmd_postfix": "",
     "delete_cmd_prefix": "del ",
     "library": "var_list.py",
     "varRefreshCmd": "print(var_dic_list())"
    },
    "r": {
     "delete_cmd_postfix": ") ",
     "delete_cmd_prefix": "rm(",
     "library": "var_list.r",
     "varRefreshCmd": "cat(var_dic_list()) "
    }
   },
   "types_to_exclude": [
    "module",
    "function",
    "builtin_function_or_method",
    "instance",
    "_Feature"
   ],
   "window_display": false
  }
 },
 "nbformat": 4,
 "nbformat_minor": 4
}
